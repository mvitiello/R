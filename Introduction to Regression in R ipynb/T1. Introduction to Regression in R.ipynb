{
 "cells": [
  {
   "cell_type": "markdown",
   "metadata": {},
   "source": [
    "# Introduction to Regression in R\n",
    "\n",
    "Linear regression and logistic regression are the two most widely used statistical models and act like master keys, unlocking the secrets hidden in datasets. In this course, you’ll gain the skills you need to fit simple linear and logistic regressions. Through hands-on exercises, you’ll explore the relationships between variables in real-world datasets, including motor insurance claims, Taiwan house prices, fish sizes, and more. By the end of this course, you’ll know how to make predictions from your data, quantify model performance, and diagnose problems with model fit."
   ]
  },
  {
   "cell_type": "markdown",
   "metadata": {},
   "source": [
    "## Simple Linear Regression\n",
    "\n",
    "You’ll learn the basics of this popular statistical model, what regression is, and how linear and logistic regressions differ. You’ll then learn how to fit simple linear regression models with numeric and categorical explanatory variables, and how to describe the relationship between the response and explanatory variables using model coefficients."
   ]
  },
  {
   "cell_type": "markdown",
   "metadata": {},
   "source": [
    "### Visualizing two variables\n",
    "Before you can run any statistical models, it's usually a good idea to visualize your dataset. Here, we'll look at the relationship between house price per area and the number of nearby convenience stores, using the Taiwan real estate dataset.\n",
    "\n",
    "One challenge in this dataset is that the number of convenience stores contains integer data, causing points to overlap. To solve this, you will make the points transparent.\n",
    "\n",
    "taiwan_real_estate is available, ggplot2 is loaded, and its black and white theme has been set."
   ]
  },
  {
   "cell_type": "code",
   "execution_count": 8,
   "metadata": {},
   "outputs": [
    {
     "name": "stdout",
     "output_type": "stream",
     "text": [
      "'data.frame':\t414 obs. of  4 variables:\n",
      " $ dist_to_mrt_m  : num  84.9 306.6 562 562 390.6 ...\n",
      " $ n_convenience  : num  10 9 5 5 5 3 7 6 1 3 ...\n",
      " $ house_age_years: Ord.factor w/ 3 levels \"0 to 15\"<\"15 to 30\"<..: 3 2 1 1 1 1 3 2 3 2 ...\n",
      " $ price_twd_msq  : num  11.5 12.8 14.3 16.6 13 ...\n"
     ]
    },
    {
     "data": {
      "text/html": [
       "<table>\n",
       "<thead><tr><th scope=col>dist_to_mrt_m</th><th scope=col>n_convenience</th><th scope=col>house_age_years</th><th scope=col>price_twd_msq</th></tr></thead>\n",
       "<tbody>\n",
       "\t<tr><td>  84.87882</td><td>10        </td><td>30 to 45  </td><td>11.467474 </td></tr>\n",
       "\t<tr><td> 306.59470</td><td> 9        </td><td>15 to 30  </td><td>12.768533 </td></tr>\n",
       "\t<tr><td> 561.98450</td><td> 5        </td><td>0 to 15   </td><td>14.311649 </td></tr>\n",
       "\t<tr><td> 561.98450</td><td> 5        </td><td>0 to 15   </td><td>16.580938 </td></tr>\n",
       "\t<tr><td> 390.56840</td><td> 5        </td><td>0 to 15   </td><td>13.040847 </td></tr>\n",
       "\t<tr><td>2175.03000</td><td> 3        </td><td>0 to 15   </td><td> 9.712557 </td></tr>\n",
       "</tbody>\n",
       "</table>\n"
      ],
      "text/latex": [
       "\\begin{tabular}{r|llll}\n",
       " dist\\_to\\_mrt\\_m & n\\_convenience & house\\_age\\_years & price\\_twd\\_msq\\\\\n",
       "\\hline\n",
       "\t   84.87882 & 10         & 30 to 45   & 11.467474 \\\\\n",
       "\t  306.59470 &  9         & 15 to 30   & 12.768533 \\\\\n",
       "\t  561.98450 &  5         & 0 to 15    & 14.311649 \\\\\n",
       "\t  561.98450 &  5         & 0 to 15    & 16.580938 \\\\\n",
       "\t  390.56840 &  5         & 0 to 15    & 13.040847 \\\\\n",
       "\t 2175.03000 &  3         & 0 to 15    &  9.712557 \\\\\n",
       "\\end{tabular}\n"
      ],
      "text/markdown": [
       "\n",
       "| dist_to_mrt_m | n_convenience | house_age_years | price_twd_msq |\n",
       "|---|---|---|---|\n",
       "|   84.87882 | 10         | 30 to 45   | 11.467474  |\n",
       "|  306.59470 |  9         | 15 to 30   | 12.768533  |\n",
       "|  561.98450 |  5         | 0 to 15    | 14.311649  |\n",
       "|  561.98450 |  5         | 0 to 15    | 16.580938  |\n",
       "|  390.56840 |  5         | 0 to 15    | 13.040847  |\n",
       "| 2175.03000 |  3         | 0 to 15    |  9.712557  |\n",
       "\n"
      ],
      "text/plain": [
       "  dist_to_mrt_m n_convenience house_age_years price_twd_msq\n",
       "1   84.87882    10            30 to 45        11.467474    \n",
       "2  306.59470     9            15 to 30        12.768533    \n",
       "3  561.98450     5            0 to 15         14.311649    \n",
       "4  561.98450     5            0 to 15         16.580938    \n",
       "5  390.56840     5            0 to 15         13.040847    \n",
       "6 2175.03000     3            0 to 15          9.712557    "
      ]
     },
     "metadata": {},
     "output_type": "display_data"
    },
    {
     "name": "stderr",
     "output_type": "stream",
     "text": [
      "`geom_smooth()` using formula 'y ~ x'\n"
     ]
    },
    {
     "data": {
      "image/png": "[encoded data removed]",
      "text/plain": [
       "plot without title"
      ]
     },
     "metadata": {},
     "output_type": "display_data"
    }
   ],
   "source": [
    "# install.packages(\"fst\")\n",
    "library(fst)\n",
    "library(ggplot2)\n",
    "# read and see data \n",
    "taiwan_real_estate = read_fst(\"taiwan_real_estate.fst\")\n",
    "str(taiwan_real_estate)\n",
    "head(taiwan_real_estate)\n",
    "# Draw a scatter plot of n_convenience vs. price_twd_msq\n",
    "ggplot(taiwan_real_estate, aes(x = n_convenience, y = price_twd_msq)) + geom_point() + geom_smooth(method = \"lm\", se = FALSE)\n"
   ]
  },
  {
   "cell_type": "markdown",
   "metadata": {},
   "source": [
    "### Estimate the intercept & slope\n",
    "Linear regression models always fit a straight line to the data. Straight lines are defined by two properties: their intercept and their slope.\n",
    "\n",
    "Here, you can see a scatter plot of house price per area versus number of nearby convenience stores, using the Taiwan real estate dataset.\n"
   ]
  },
  {
   "cell_type": "code",
   "execution_count": 10,
   "metadata": {},
   "outputs": [
    {
     "data": {
      "text/plain": [
       "\n",
       "Call:\n",
       "lm(formula = price_twd_msq ~ n_convenience, data = taiwan_real_estate)\n",
       "\n",
       "Coefficients:\n",
       "  (Intercept)  n_convenience  \n",
       "       8.2242         0.7981  \n"
      ]
     },
     "metadata": {},
     "output_type": "display_data"
    }
   ],
   "source": [
    "lm(price_twd_msq ~ n_convenience, data = taiwan_real_estate)"
   ]
  },
  {
   "cell_type": "markdown",
   "metadata": {},
   "source": [
    "### Visualizing numeric vs. categorical\n",
    "If the explanatory variable is categorical, the scatter plot that you used before to visualize the data doesn't make sense. Instead, a good option is to draw a histogram for each category.\n",
    "\n",
    "The Taiwan real estate dataset has a categorical variable in the form of the age of each house. The ages have been split into 3 groups: 0 to 15 years, 15 to 30 years, and 30 to 45 years.\n",
    "\n",
    "!!! When you only have a single, categorical explanatory variable, the linear regression coefficients are the means of each category."
   ]
  },
  {
   "cell_type": "code",
   "execution_count": 12,
   "metadata": {},
   "outputs": [
    {
     "data": {
      "image/png": "[encoded data removed]",
      "text/plain": [
       "plot without title"
      ]
     },
     "metadata": {},
     "output_type": "display_data"
    }
   ],
   "source": [
    "# Using taiwan_real_estate, plot price_twd_msq\n",
    "ggplot(taiwan_real_estate, aes(price_twd_msq)) +\n",
    "  # Make it a histogram with 10 bins\n",
    "  geom_histogram(bins = 10) +\n",
    "  # Facet the plot so each house age group gets its own panel\n",
    "  facet_wrap(~house_age_years)"
   ]
  },
  {
   "cell_type": "markdown",
   "metadata": {},
   "source": [
    "### Calculating means by category\n",
    "A good way to explore categorical variables is to calculate summary statistics such as the mean for each category. Here, you'll look at grouped means for the house prices in the Taiwan real estate dataset."
   ]
  },
  {
   "cell_type": "code",
   "execution_count": 14,
   "metadata": {},
   "outputs": [
    {
     "name": "stderr",
     "output_type": "stream",
     "text": [
      "Warning message:\n",
      "\"package 'dplyr' was built under R version 3.6.3\"\n",
      "Attaching package: 'dplyr'\n",
      "\n",
      "The following objects are masked from 'package:stats':\n",
      "\n",
      "    filter, lag\n",
      "\n",
      "The following objects are masked from 'package:base':\n",
      "\n",
      "    intersect, setdiff, setequal, union\n",
      "\n",
      "`summarise()` ungrouping output (override with `.groups` argument)\n"
     ]
    },
    {
     "data": {
      "text/html": [
       "<table>\n",
       "<thead><tr><th scope=col>house_age_years</th><th scope=col>mean_by_group</th></tr></thead>\n",
       "<tbody>\n",
       "\t<tr><td>0 to 15  </td><td>12.637471</td></tr>\n",
       "\t<tr><td>15 to 30 </td><td> 9.876743</td></tr>\n",
       "\t<tr><td>30 to 45 </td><td>11.393264</td></tr>\n",
       "</tbody>\n",
       "</table>\n"
      ],
      "text/latex": [
       "\\begin{tabular}{r|ll}\n",
       " house\\_age\\_years & mean\\_by\\_group\\\\\n",
       "\\hline\n",
       "\t 0 to 15   & 12.637471\\\\\n",
       "\t 15 to 30  &  9.876743\\\\\n",
       "\t 30 to 45  & 11.393264\\\\\n",
       "\\end{tabular}\n"
      ],
      "text/markdown": [
       "\n",
       "| house_age_years | mean_by_group |\n",
       "|---|---|\n",
       "| 0 to 15   | 12.637471 |\n",
       "| 15 to 30  |  9.876743 |\n",
       "| 30 to 45  | 11.393264 |\n",
       "\n"
      ],
      "text/plain": [
       "  house_age_years mean_by_group\n",
       "1 0 to 15         12.637471    \n",
       "2 15 to 30         9.876743    \n",
       "3 30 to 45        11.393264    "
      ]
     },
     "metadata": {},
     "output_type": "display_data"
    }
   ],
   "source": [
    "library(dplyr)\n",
    "\n",
    "summary_stats <- taiwan_real_estate %>% \n",
    "  # Group by house age\n",
    "  group_by(house_age_years) %>% \n",
    "  # Summarize to calculate the mean house price/area\n",
    "  summarize(mean_by_group = mean(price_twd_msq))\n",
    "\n",
    "# See the result\n",
    "summary_stats"
   ]
  },
  {
   "cell_type": "markdown",
   "metadata": {},
   "source": [
    "### lm() with a categorical explanatory variable\n",
    "Linear regressions also work with categorical explanatory variables. In this case, the code to run the model is the same, but the coefficients returned by the model are different. Here you'll run a linear regression on the Taiwan real estate dataset."
   ]
  },
  {
   "cell_type": "code",
   "execution_count": 15,
   "metadata": {},
   "outputs": [
    {
     "data": {
      "text/plain": [
       "\n",
       "Call:\n",
       "lm(formula = price_twd_msq ~ house_age_years, data = taiwan_real_estate)\n",
       "\n",
       "Coefficients:\n",
       "      (Intercept)  house_age_years.L  house_age_years.Q  \n",
       "          11.3025            -0.8798             1.7462  \n"
      ]
     },
     "metadata": {},
     "output_type": "display_data"
    }
   ],
   "source": [
    "# Run a linear regression of price_twd_msq vs. house_age_years\n",
    "mdl_price_vs_age <- lm(price_twd_msq ~house_age_years, data = taiwan_real_estate)\n",
    "\n",
    "# See the result\n",
    "mdl_price_vs_age"
   ]
  },
  {
   "cell_type": "code",
   "execution_count": 18,
   "metadata": {},
   "outputs": [
    {
     "data": {
      "text/plain": [
       "\n",
       "Call:\n",
       "lm(formula = price_twd_msq ~ house_age_years + 0, data = taiwan_real_estate)\n",
       "\n",
       "Coefficients:\n",
       " house_age_years0 to 15  house_age_years15 to 30  house_age_years30 to 45  \n",
       "                 12.637                    9.877                   11.393  \n"
      ]
     },
     "metadata": {},
     "output_type": "display_data"
    }
   ],
   "source": [
    "# Update the model formula to remove the intercept\n",
    "mdl_price_vs_age_no_intercept <- lm(\n",
    "  price_twd_msq ~ house_age_years + 0, # add 0 to remove the intercept\n",
    "  data = taiwan_real_estate\n",
    ")\n",
    "\n",
    "# See the result\n",
    "mdl_price_vs_age_no_intercept\n",
    "\n",
    "# check that When you only have a single, categorical explanatory variable, the linear regression coefficients are the means of each category."
   ]
  },
  {
   "cell_type": "code",
   "execution_count": null,
   "metadata": {},
   "outputs": [],
   "source": []
  }
 ],
 "metadata": {
  "kernelspec": {
   "display_name": "R",
   "language": "R",
   "name": "ir"
  },
  "language_info": {
   "codemirror_mode": "r",
   "file_extension": ".r",
   "mimetype": "text/x-r-source",
   "name": "R",
   "pygments_lexer": "r",
   "version": "3.6.1"
  }
 },
 "nbformat": 4,
 "nbformat_minor": 4
}
