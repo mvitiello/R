{
 "cells": [
  {
   "cell_type": "markdown",
   "metadata": {},
   "source": [
    "## Turbo Charged Code: Parallel Programming\n",
    "\n",
    "Some problems can be solved faster using multiple cores on your machine. This chapter shows you how to write R code that runs in parallel."
   ]
  },
  {
   "cell_type": "markdown",
   "metadata": {},
   "source": [
    "### How many cores does this machine have?\n",
    "The parallel package has a function detectCores() that determines the number of cores in a machine.\n",
    "How many cores does this machine have?"
   ]
  },
  {
   "cell_type": "code",
   "execution_count": 2,
   "metadata": {},
   "outputs": [
    {
     "name": "stdout",
     "output_type": "stream",
     "text": [
      "[1] 12\n"
     ]
    }
   ],
   "source": [
    "# Load the parallel package\n",
    "# install.packages(\"parallel\")\n",
    "library(parallel)\n",
    "\n",
    "# Store the number of cores in the object no_of_cores\n",
    "no_of_cores <- detectCores()\n",
    "\n",
    "# Print no_of_cores\n",
    "print(no_of_cores)\n"
   ]
  },
  {
   "cell_type": "markdown",
   "metadata": {},
   "source": [
    "### Moving to parApply\n",
    "To run code in parallel using the parallel package, the basic workflow \n",
    "has three steps.\n",
    "\n",
    "1. Create a cluster using makeCluster(). \n",
    "2. Do some work.\n",
    "3. Stop the cluster using stopCluster().\n",
    "\n",
    "The simplest way to make a cluster is to pass a number to makeCluster(). This creates a cluster of the default type, running the code on that many cores. The object dd is a matrix with 10 columns and 100 rows. To run this in parallel, you swap apply() for parApply().  The arguments to this function are the same, except that it takes a \n",
    "cluster argument before the usual apply() arguments."
   ]
  },
  {
   "cell_type": "code",
   "execution_count": 5,
   "metadata": {},
   "outputs": [
    {
     "data": {
      "text/html": [
       "12"
      ],
      "text/latex": [
       "12"
      ],
      "text/markdown": [
       "12"
      ],
      "text/plain": [
       "[1] 12"
      ]
     },
     "metadata": {},
     "output_type": "display_data"
    },
    {
     "data": {
      "text/html": [
       "<ol class=list-inline>\n",
       "\t<li>-0.168685404008048</li>\n",
       "\t<li>-0.0471580034555309</li>\n",
       "\t<li>-0.0458368969508313</li>\n",
       "\t<li>0.0979556814253646</li>\n",
       "\t<li>0.0151693198673328</li>\n",
       "\t<li>-0.124247497595964</li>\n",
       "\t<li>-0.156291810147506</li>\n",
       "\t<li>0.0675483644014606</li>\n",
       "\t<li>-0.180964803913164</li>\n",
       "\t<li>-0.0542822176925446</li>\n",
       "</ol>\n"
      ],
      "text/latex": [
       "\\begin{enumerate*}\n",
       "\\item -0.168685404008048\n",
       "\\item -0.0471580034555309\n",
       "\\item -0.0458368969508313\n",
       "\\item 0.0979556814253646\n",
       "\\item 0.0151693198673328\n",
       "\\item -0.124247497595964\n",
       "\\item -0.156291810147506\n",
       "\\item 0.0675483644014606\n",
       "\\item -0.180964803913164\n",
       "\\item -0.0542822176925446\n",
       "\\end{enumerate*}\n"
      ],
      "text/markdown": [
       "1. -0.168685404008048\n",
       "2. -0.0471580034555309\n",
       "3. -0.0458368969508313\n",
       "4. 0.0979556814253646\n",
       "5. 0.0151693198673328\n",
       "6. -0.124247497595964\n",
       "7. -0.156291810147506\n",
       "8. 0.0675483644014606\n",
       "9. -0.180964803913164\n",
       "10. -0.0542822176925446\n",
       "\n",
       "\n"
      ],
      "text/plain": [
       " [1] -0.16868540 -0.04715800 -0.04583690  0.09795568  0.01516932 -0.12424750\n",
       " [7] -0.15629181  0.06754836 -0.18096480 -0.05428222"
      ]
     },
     "metadata": {},
     "output_type": "display_data"
    }
   ],
   "source": [
    "dd = matrix(rnorm(1000),ncol=10)\n",
    "\n",
    "# Determine the number of available cores\n",
    "detectCores()\n",
    "\n",
    "# Create a cluster via makeCluster\n",
    "cl <- makeCluster(2)\n",
    "\n",
    "# Parallelize this code\n",
    "# apply(dd, 2, median)\n",
    "parApply(cl, dd, 2, median)\n",
    "\n",
    "# Stop the cluster\n",
    "stopCluster(cl)"
   ]
  },
  {
   "cell_type": "markdown",
   "metadata": {},
   "source": [
    "### Using parSapply()\n",
    "We previously played the following game:\n",
    "\n",
    "1. Initialize: total = 0.\n",
    "2. Roll a single die and add it to total.\n",
    "3. If total is even, reset total to zero.\n",
    "4. If total is greater than 10. The game finishes.\n",
    "5. The game could be simulated using the play() function. "
   ]
  },
  {
   "cell_type": "code",
   "execution_count": 6,
   "metadata": {},
   "outputs": [],
   "source": [
    "play <- function() {\n",
    "  total <- no_of_rolls <- 0\n",
    "  while(total < 10) {\n",
    "    total <- total + sample(1:6, 1)\n",
    "\n",
    "    # If even. Reset to 0\n",
    "    if(total %% 2 == 0) total <- 0 \n",
    "    no_of_rolls <- no_of_rolls + 1\n",
    "  }\n",
    "  no_of_rolls\n",
    "}\n",
    "\n",
    "# Create a cluster via makeCluster (2 cores)\n",
    "cl <- makeCluster(2)\n",
    "\n",
    "# Export the play() function to the cluster\n",
    "clusterExport(cl, \"play\")\n",
    "\n",
    "# Re-write sapply as parSapply\n",
    "res <- parSapply(cl, 1:100, function(i) play())\n",
    "\n",
    "# Stop the cluster\n",
    "stopCluster(cl)"
   ]
  },
  {
   "cell_type": "markdown",
   "metadata": {},
   "source": [
    "### Timings parSapply()\n",
    "Running the dice game is embarrassingly parallel. These types of simulations usually (but not always) produce a good speed-up. \n",
    "As before, we can use microbenchmark() or system.time(). For simplicity, we'll use system.time() in this exercise."
   ]
  },
  {
   "cell_type": "code",
   "execution_count": 9,
   "metadata": {},
   "outputs": [
    {
     "data": {
      "text/plain": [
       "   user  system elapsed \n",
       "    5.3     0.0     5.3 "
      ]
     },
     "metadata": {},
     "output_type": "display_data"
    },
    {
     "data": {
      "text/plain": [
       "   user  system elapsed \n",
       "   0.02    0.03    1.97 "
      ]
     },
     "metadata": {},
     "output_type": "display_data"
    }
   ],
   "source": [
    "# Set the number of games to play\n",
    "no_of_games <- 1e5\n",
    "\n",
    "## Time serial version\n",
    "system.time(serial <- sapply(1:no_of_games, function(i) play()))\n",
    "\n",
    "# Create a 4 core cluster object and export the play() function to it.\n",
    "cl <- makeCluster(4)\n",
    "clusterExport(cl, \"play\")\n",
    "\n",
    "## Time parallel version\n",
    "system.time(par <- parSapply(cl, 1:no_of_games, function(i) play()))\n",
    "\n",
    "## Stop cluster\n",
    "stopCluster(cl)"
   ]
  },
  {
   "cell_type": "code",
   "execution_count": null,
   "metadata": {},
   "outputs": [],
   "source": []
  }
 ],
 "metadata": {
  "kernelspec": {
   "display_name": "R",
   "language": "R",
   "name": "ir"
  },
  "language_info": {
   "codemirror_mode": "r",
   "file_extension": ".r",
   "mimetype": "text/x-r-source",
   "name": "R",
   "pygments_lexer": "r",
   "version": "3.6.1"
  }
 },
 "nbformat": 4,
 "nbformat_minor": 4
}
