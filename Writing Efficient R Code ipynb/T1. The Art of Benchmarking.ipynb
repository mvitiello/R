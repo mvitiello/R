{
 "cells": [
  {
   "cell_type": "markdown",
   "metadata": {},
   "source": [
    "# Writing Efficient R Code\n",
    "\n",
    "The beauty of R is that it is built for performing data analysis. The downside is that sometimes R can be slow, thereby obstructing our analysis. For this reason, it is essential to become familiar with the main techniques for speeding up your analysis, so you can reduce computational time and get insights as quickly as possible."
   ]
  },
  {
   "cell_type": "markdown",
   "metadata": {},
   "source": [
    "## The Art of Benchmarking\n",
    "\n",
    "In order to make your code go faster, you need to know how long it takes to run. This chapter introduces the idea of benchmarking your code."
   ]
  },
  {
   "cell_type": "markdown",
   "metadata": {},
   "source": [
    "### R version\n",
    "One of the relatively easy optimizations available is to use  an up-to-date version of R. In general, R is very conservative, \n",
    "so upgrading doesn't break existing code. However, a new version  will often provide free speed boosts for key functions.\n",
    "The version command returns a list that contains (among other things) the major and minor version of R currently being used."
   ]
  },
  {
   "cell_type": "code",
   "execution_count": 1,
   "metadata": {},
   "outputs": [
    {
     "data": {
      "text/plain": [
       "               _                           \n",
       "platform       x86_64-w64-mingw32          \n",
       "arch           x86_64                      \n",
       "os             mingw32                     \n",
       "system         x86_64, mingw32             \n",
       "status                                     \n",
       "major          3                           \n",
       "minor          6.1                         \n",
       "year           2019                        \n",
       "month          07                          \n",
       "day            05                          \n",
       "svn rev        76782                       \n",
       "language       R                           \n",
       "version.string R version 3.6.1 (2019-07-05)\n",
       "nickname       Action of the Toes          "
      ]
     },
     "metadata": {},
     "output_type": "display_data"
    }
   ],
   "source": [
    "# Print the version details of R using version. (It's not a function.)\n",
    "version\n",
    "# Use dollar indexing ($) to extract the major component of version \n",
    "# and assign it to the variable major.\n",
    "major <- version$major\n",
    "# Likewise, extract the minor component and assign it to the \n",
    "# variable minor.\n",
    "minor <-version$minor\n"
   ]
  },
  {
   "cell_type": "markdown",
   "metadata": {},
   "source": [
    "### Comparing read times of CSV and RDS files\n",
    "One of the most common tasks we perform is reading in data from CSV files. However, for large CSV files this can be slow. \n",
    "One neat trick is to read in the data and save as an R binary file (rds) using saveRDS(). To read in the rds file, we use readRDS(). To benchmark the two approaches, you can use system.time().  This function returns the time taken to evaluate any \n",
    "R expression. "
   ]
  },
  {
   "cell_type": "code",
   "execution_count": 4,
   "metadata": {},
   "outputs": [
    {
     "data": {
      "text/plain": [
       "   user  system elapsed \n",
       "   0.07    0.00    0.06 "
      ]
     },
     "metadata": {},
     "output_type": "display_data"
    },
    {
     "data": {
      "text/plain": [
       "   user  system elapsed \n",
       "   0.03    0.00    0.04 "
      ]
     },
     "metadata": {},
     "output_type": "display_data"
    }
   ],
   "source": [
    "# For example, to time how long it takes to  calculate the square root of the numbers from one to ten million,\n",
    "# you would write the following:\n",
    "\n",
    "system.time(sqrt(1:1e7))\n",
    "\n",
    "# The file \"movies.rds\" contain data frame with information \n",
    "# on 45,000 movies.\n",
    "\n",
    "# Using the system.time() function, how long does it take \n",
    "# to read in the rds file using readRDS(\"movies.csv\").\n",
    "\n",
    "# How long does it take to read movies from RDS?\n",
    "system.time(readRDS(\"movies.rds\"))\n",
    "\n",
    "# fyi \n",
    "# Reading in RDS files are much quicker than reading in CSV files."
   ]
  },
  {
   "cell_type": "markdown",
   "metadata": {},
   "source": [
    "### Elapsed time\n",
    "\n",
    "Using system.time() is convenient, but it does have its drawbacks when comparing multiple function calls. The microbenchmark \n",
    "package solves this problem with the microbenchmark() function. Load the microbenchmark package\n",
    "\n",
    "Using microbenchmark(),sqrt(3), and 3**(1/2), compare the time it takes to do that operations. Store the result as a \n",
    "variable called compare. In your call to microbenchmark(), specify times = 10 to call each function 10 times. Print compare to see the results."
   ]
  },
  {
   "cell_type": "code",
   "execution_count": 8,
   "metadata": {},
   "outputs": [
    {
     "name": "stderr",
     "output_type": "stream",
     "text": [
      "Warning message in microbenchmark(sqrt(3), 3^(1/2), times = 10):\n",
      "\"Could not measure a positive execution time for one evaluation.\""
     ]
    },
    {
     "name": "stdout",
     "output_type": "stream",
     "text": [
      "Unit: nanoseconds\n",
      "    expr min  lq  mean median  uq  max neval\n",
      " sqrt(3)   0   1 130.9    1.5 100 1001    10\n",
      " 3^(1/2) 101 102 401.2  201.0 201 2600    10\n"
     ]
    }
   ],
   "source": [
    "# install.packages(\"microbenchmark\")\n",
    "# library(microbenchmark)\n",
    "\n",
    "# Compare the two opeartions\n",
    "compare <- microbenchmark(sqrt(3),\n",
    "                          3**(1/2),times = 10)\n",
    "\n",
    "# Print compare\n",
    "print(compare)"
   ]
  },
  {
   "cell_type": "markdown",
   "metadata": {},
   "source": [
    "### Hardware\n",
    "For many problems your time is the expensive part. If having a faster computer makes you more productive, it can be cost effective to buy one.  However, before you splash out on new toys for yourself, your boss/partner  may want to see some numbers to justify the expense. Measuring the performance of your computer is called benchmarking, and you can do that with the \n",
    "benchmarkme package."
   ]
  },
  {
   "cell_type": "code",
   "execution_count": 3,
   "metadata": {},
   "outputs": [
    {
     "name": "stderr",
     "output_type": "stream",
     "text": [
      "Warning message:\n",
      "\"package 'benchmarkme' was built under R version 3.6.3\""
     ]
    },
    {
     "data": {
      "text/plain": [
       "NA B"
      ]
     },
     "metadata": {},
     "output_type": "display_data"
    },
    {
     "data": {
      "text/html": [
       "<dl>\n",
       "\t<dt>$vendor_id</dt>\n",
       "\t\t<dd>'GenuineIntel'</dd>\n",
       "\t<dt>$model_name</dt>\n",
       "\t\t<dd>'Intel(R) Core(TM) i7-10750H CPU @ 2.60GHz'</dd>\n",
       "\t<dt>$no_of_cores</dt>\n",
       "\t\t<dd>12</dd>\n",
       "</dl>\n"
      ],
      "text/latex": [
       "\\begin{description}\n",
       "\\item[\\$vendor\\_id] 'GenuineIntel'\n",
       "\\item[\\$model\\_name] 'Intel(R) Core(TM) i7-10750H CPU @ 2.60GHz'\n",
       "\\item[\\$no\\_of\\_cores] 12\n",
       "\\end{description}\n"
      ],
      "text/markdown": [
       "$vendor_id\n",
       ":   'GenuineIntel'\n",
       "$model_name\n",
       ":   'Intel(R) Core(TM) i7-10750H CPU @ 2.60GHz'\n",
       "$no_of_cores\n",
       ":   12\n",
       "\n",
       "\n"
      ],
      "text/plain": [
       "$vendor_id\n",
       "[1] \"GenuineIntel\"\n",
       "\n",
       "$model_name\n",
       "[1] \"Intel(R) Core(TM) i7-10750H CPU @ 2.60GHz\"\n",
       "\n",
       "$no_of_cores\n",
       "[1] 12\n"
      ]
     },
     "metadata": {},
     "output_type": "display_data"
    }
   ],
   "source": [
    "# Load the benchmarkme package\n",
    "#install.packages(\"benchmarkme\")\n",
    "library(benchmarkme)\n",
    "\n",
    "# Assign the variable ram to the amount of RAM on this machine\n",
    "ram <- get_ram()\n",
    "ram\n",
    "\n",
    "# Assign the variable cpu to the cpu specs\n",
    "cpu <- get_cpu()\n",
    "cpu"
   ]
  },
  {
   "cell_type": "markdown",
   "metadata": {},
   "source": [
    "### Benchmark machine\n",
    "The benchmarkme package allows you to run a set of standardized benchmarks and compare your results to other users. One set of benchmarks tests is reading and writing speeds."
   ]
  },
  {
   "cell_type": "code",
   "execution_count": 4,
   "metadata": {},
   "outputs": [
    {
     "name": "stderr",
     "output_type": "stream",
     "text": [
      "Preparing read/write io\n",
      "# IO benchmarks (2 tests) for size 5 MB:\n",
      "\t Writing a csv with 625000 values: 1.11 (sec).\n",
      "\t Reading a csv with 625000 values: 0.23 (sec).\n",
      "You are ranked 53 out of 135 machines.\n"
     ]
    },
    {
     "name": "stdout",
     "output_type": "stream",
     "text": [
      "Press return to get next plot \n"
     ]
    },
    {
     "name": "stderr",
     "output_type": "stream",
     "text": [
      "You are ranked 46 out of 135 machines.\n"
     ]
    },
    {
     "data": {
      "image/png": "[encoded data removed]",
      "text/plain": [
       "Plot with title \"Benchmark: write5\""
      ]
     },
     "metadata": {},
     "output_type": "display_data"
    },
    {
     "data": {
      "image/png": "[encoded data removed]",
      "text/plain": [
       "Plot with title \"Benchmark: read5\""
      ]
     },
     "metadata": {},
     "output_type": "display_data"
    }
   ],
   "source": [
    "# Find the time it takes to read and write a 5 MB file. Assign the result to res.\n",
    "# Run the io benchmark\n",
    "res <-  benchmark_io(runs = 1, size = 5)\n",
    "\n",
    "# Plot the results\n",
    "plot(res)"
   ]
  },
  {
   "cell_type": "code",
   "execution_count": null,
   "metadata": {},
   "outputs": [],
   "source": []
  }
 ],
 "metadata": {
  "kernelspec": {
   "display_name": "R",
   "language": "R",
   "name": "ir"
  },
  "language_info": {
   "codemirror_mode": "r",
   "file_extension": ".r",
   "mimetype": "text/x-r-source",
   "name": "R",
   "pygments_lexer": "r",
   "version": "3.6.1"
  }
 },
 "nbformat": 4,
 "nbformat_minor": 4
}
