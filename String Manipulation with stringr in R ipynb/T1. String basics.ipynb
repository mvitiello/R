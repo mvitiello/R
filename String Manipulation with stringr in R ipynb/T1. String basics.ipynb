{
 "cells": [
  {
   "cell_type": "markdown",
   "metadata": {},
   "source": [
    "# String Manipulation with stringr in R\n",
    "\n",
    "Character strings can turn up in all stages of a data science project. You might have to clean messy string input before analysis, extract data that is embedded in text or automatically turn numeric results into a sentence to include in a report. Perhaps the strings themselves are the data of interest, and you need to detect and match patterns within them. This course will help you master these tasks by teaching you how to pull strings apart, put them back together and use stringr to detect, extract, match and split strings using regular expressions, a powerful way to express patterns."
   ]
  },
  {
   "cell_type": "markdown",
   "metadata": {},
   "source": [
    "## String basics\n",
    "You'll start with some basics: how to enter strings in R, how to control how numbers are transformed to strings, and finally how to combine strings together to produce output that combines text and nicely formatted numbers."
   ]
  },
  {
   "cell_type": "markdown",
   "metadata": {},
   "source": [
    "### Quotes\n",
    "Let's get started by entering some strings in R. In the video you saw that you use quotes to tell R \n",
    "to interpret something as a string. Both double quotes (\") and single (') quotes work, but there are \n",
    "some guidelines for which to use.\n",
    "First, you should prefer double quotes (\") to single quotes ('). That means, whenever you are defining a \n",
    "string your first intuition should be to use \".\n",
    "Unfortunately if your string has \" inside it, R will interpret the double quote as \"this is the end of \n",
    "the string\", not as \"this is the character \"\". This is one time you can forget the first guideline and use \n",
    "the single quote, ', to define the string.\n",
    "Finally, there are cases where you need both ' and \" inside the string. In this case, fall back to the \n",
    "first guideline and use \" to define the string, but you'll have to escape any double quotes inside the \n",
    "string using a backslash (i.e. \\\").\n",
    "To practice, you are going to enter a few lines from Lewis Carroll's Alice's Adventures in Wonderland. \n",
    "Alice has just arrived at the tea party…"
   ]
  },
  {
   "cell_type": "code",
   "execution_count": 2,
   "metadata": {},
   "outputs": [],
   "source": [
    "# Following the guidelines for using quotes, define the three strings, line1, line2 and line3:\n",
    "\n",
    "# Line 1: The table was a large one, but the three were all crowded together at one corner of it:\n",
    "line1 <- \"The table was a large one, but the three were all crowded together at one corner of it:\"\n",
    "# Line 2: \"No room! No room!\" they cried out when they saw Alice coming.\n",
    "line2 <- '\"No room! No room!\" they cried out when they saw Alice coming.' \n",
    "# Line 3:\"There's plenty of room!\" said Alice indignantly, and she sat down in a large arm-chair at one end of the table.\n",
    "line3 <- \"\\\"There's plenty of room!\\\" said Alice indignantly, and she sat down in a large arm-chair at one end of the table.\""
   ]
  },
  {
   "cell_type": "markdown",
   "metadata": {},
   "source": [
    "### What you see isn't always what you have\n",
    "\n",
    "Even though you used single quotes so you didn't have to escape any double quotes, when R prints it, \n",
    "you'll see escaped double quotes (\\\")! R doesn't care how you defined the string, it only knows what \n",
    "the string represents, in this case, a string with double quotes inside.\n",
    "When you ask R for line2 it is actually calling print(line2) and the print() method for strings displays strings as \n",
    "you might enter them. If you want to see the string it represents you'll need to use a different function: writeLines().\n",
    "You can pass writeLines() a vector of strings and it will print them to the screen, each on a new line. \n",
    "This is a great way to check the string you entered really does represent the string you wanted.\n"
   ]
  },
  {
   "cell_type": "code",
   "execution_count": 3,
   "metadata": {},
   "outputs": [
    {
     "name": "stdout",
     "output_type": "stream",
     "text": [
      "[1] \"The table was a large one, but the three were all crowded together at one corner of it:\"                           \n",
      "[2] \"\\\"No room! No room!\\\" they cried out when they saw Alice coming.\"                                                  \n",
      "[3] \"\\\"There's plenty of room!\\\" said Alice indignantly, and she sat down in a large arm-chair at one end of the table.\"\n",
      "The table was a large one, but the three were all crowded together at one corner of it:\n",
      "\"No room! No room!\" they cried out when they saw Alice coming.\n",
      "\"There's plenty of room!\" said Alice indignantly, and she sat down in a large arm-chair at one end of the table.\n",
      "The table was a large one, but the three were all crowded together at one corner of it: \"No room! No room!\" they cried out when they saw Alice coming. \"There's plenty of room!\" said Alice indignantly, and she sat down in a large arm-chair at one end of the table. hello\n",
      "<U+0001F30D>\n"
     ]
    }
   ],
   "source": [
    "# Putting lines in a vector\n",
    "lines <- c(line1, line2, line3)\n",
    "\n",
    "# Print lines\n",
    "print(lines)\n",
    "\n",
    "# Use writeLines() on lines\n",
    "writeLines(lines)\n",
    "\n",
    "# Write lines with a space separator\n",
    "writeLines(lines, sep = \" \")\n",
    "\n",
    "# Use writeLines() on the string \"hello\\n\\U1F30D\"\n",
    "writeLines(\"hello\\n\\U1F30D\")"
   ]
  },
  {
   "cell_type": "markdown",
   "metadata": {},
   "source": [
    "### Escape sequences\n",
    "You might have been surprised at the output from the last part of the last exercise. \n",
    "How did you get two lines from one string? The key is the \\ .\n",
    "A sequence in a string that starts with a \\ is called an escape sequence and allows us to include special \n",
    "characters in our strings. You saw one escape sequence in the first exercise: \\\" is used to denote a double quote.\n",
    "In \"hello\\n\\U1F30D\" there are two escape sequences: \\n gives a newline, and \\U followed by up to 8 hex digits \n",
    "sequence denotes a particular Unicode character.\n",
    "Unicode is a standard for representing characters that might not be on your keyboard. Each available character has \n",
    "a Unicode code point: a number that uniquely identifies it. These code points are generally written in hex notation, \n",
    "that is, using base 16 and the digits 0-9 and A-F. You can find the code point for a particular character by looking \n",
    "up a code chart. If you only need four digits for the codepoint, an alternative escape sequence is \\u.\n",
    "When R comes across a \\ it assumes you are starting an escape, so if you actually need a backslash in your string \n",
    "you'll need the sequence \\\\."
   ]
  },
  {
   "cell_type": "code",
   "execution_count": 4,
   "metadata": {},
   "outputs": [
    {
     "name": "stdout",
     "output_type": "stream",
     "text": [
      "To have a\\ you need \\\\\n",
      "This is a really\n",
      "really really\n",
      "long string\n"
     ]
    }
   ],
   "source": [
    "# Edit the string inside writeLines() so that it correctly displays (all on one line)\n",
    "# Should display: To have a \\ you need \\\\\n",
    "writeLines(\"To have a\\\\ you need \\\\\\\\\")\n",
    "\n",
    "# Should display: \n",
    "# This is a really \n",
    "# really really \n",
    "# long string\n",
    "writeLines(\"This is a really\\nreally really\\nlong string\")\n"
   ]
  },
  {
   "cell_type": "markdown",
   "metadata": {},
   "source": [
    "### Using format() with numbers\n",
    "The behavior of format() can be pretty confusing, so you'll spend most of this exercise exploring how it works.\n",
    "\n",
    "Recall from the video, the scientific argument to format() controls whether the numbers are displayed in fixed (scientific = FALSE) or scientific (scientific = TRUE) format.\n",
    "\n",
    "When the representation is scientific, the digits argument is the number of digits before the exponent. When the representation is fixed, digits controls the significant digits used for the smallest (in magnitude) number. Each other number will be formatted to match the number of decimal places in the smallest number. This means the number of decimal places you get in your output depends on all the values you are formatting!\n",
    "\n",
    "For example, if the smallest number is 0.0011, and digits = 1, then 0.0011 requires 3 places after the decimal to represent it to 1 significant digit, 0.001. Every other number will be formatted to 3 places after the decimal point.\n",
    "\n",
    "So, how many decimal places will you get if 1.0011 is the smallest number? You'll find out in this exercise."
   ]
  },
  {
   "cell_type": "code",
   "execution_count": 5,
   "metadata": {},
   "outputs": [
    {
     "data": {
      "text/html": [
       "<ol class=list-inline>\n",
       "\t<li>'0.001'</li>\n",
       "\t<li>'0.011'</li>\n",
       "\t<li>'1.000'</li>\n",
       "</ol>\n"
      ],
      "text/latex": [
       "\\begin{enumerate*}\n",
       "\\item '0.001'\n",
       "\\item '0.011'\n",
       "\\item '1.000'\n",
       "\\end{enumerate*}\n"
      ],
      "text/markdown": [
       "1. '0.001'\n",
       "2. '0.011'\n",
       "3. '1.000'\n",
       "\n",
       "\n"
      ],
      "text/plain": [
       "[1] \"0.001\" \"0.011\" \"1.000\""
      ]
     },
     "metadata": {},
     "output_type": "display_data"
    },
    {
     "data": {
      "text/html": [
       "<ol class=list-inline>\n",
       "\t<li>'1'</li>\n",
       "\t<li>'2'</li>\n",
       "\t<li>'1'</li>\n",
       "</ol>\n"
      ],
      "text/latex": [
       "\\begin{enumerate*}\n",
       "\\item '1'\n",
       "\\item '2'\n",
       "\\item '1'\n",
       "\\end{enumerate*}\n"
      ],
      "text/markdown": [
       "1. '1'\n",
       "2. '2'\n",
       "3. '1'\n",
       "\n",
       "\n"
      ],
      "text/plain": [
       "[1] \"1\" \"2\" \"1\""
      ]
     },
     "metadata": {},
     "output_type": "display_data"
    },
    {
     "data": {
      "text/html": [
       "<ol class=list-inline>\n",
       "\t<li>' 4.0'</li>\n",
       "\t<li>'-1.9'</li>\n",
       "\t<li>' 3.0'</li>\n",
       "\t<li>'-5.0'</li>\n",
       "</ol>\n"
      ],
      "text/latex": [
       "\\begin{enumerate*}\n",
       "\\item ' 4.0'\n",
       "\\item '-1.9'\n",
       "\\item ' 3.0'\n",
       "\\item '-5.0'\n",
       "\\end{enumerate*}\n"
      ],
      "text/markdown": [
       "1. ' 4.0'\n",
       "2. '-1.9'\n",
       "3. ' 3.0'\n",
       "4. '-5.0'\n",
       "\n",
       "\n"
      ],
      "text/plain": [
       "[1] \" 4.0\" \"-1.9\" \" 3.0\" \"-5.0\""
      ]
     },
     "metadata": {},
     "output_type": "display_data"
    },
    {
     "data": {
      "text/html": [
       "<ol class=list-inline>\n",
       "\t<li><span style=white-space:pre-wrap>'     72'</span></li>\n",
       "\t<li><span style=white-space:pre-wrap>'   1030'</span></li>\n",
       "\t<li><span style=white-space:pre-wrap>'  10292'</span></li>\n",
       "\t<li>'1189192'</li>\n",
       "</ol>\n"
      ],
      "text/latex": [
       "\\begin{enumerate*}\n",
       "\\item '     72'\n",
       "\\item '   1030'\n",
       "\\item '  10292'\n",
       "\\item '1189192'\n",
       "\\end{enumerate*}\n"
      ],
      "text/markdown": [
       "1. <span style=white-space:pre-wrap>'     72'</span>\n",
       "2. <span style=white-space:pre-wrap>'   1030'</span>\n",
       "3. <span style=white-space:pre-wrap>'  10292'</span>\n",
       "4. '1189192'\n",
       "\n",
       "\n"
      ],
      "text/plain": [
       "[1] \"     72\" \"   1030\" \"  10292\" \"1189192\""
      ]
     },
     "metadata": {},
     "output_type": "display_data"
    },
    {
     "data": {
      "text/html": [
       "<ol class=list-inline>\n",
       "\t<li>'0.12000000000'</li>\n",
       "\t<li>'0.98000000000'</li>\n",
       "\t<li>'0.00001910000'</li>\n",
       "\t<li>'0.00000000002'</li>\n",
       "</ol>\n"
      ],
      "text/latex": [
       "\\begin{enumerate*}\n",
       "\\item '0.12000000000'\n",
       "\\item '0.98000000000'\n",
       "\\item '0.00001910000'\n",
       "\\item '0.00000000002'\n",
       "\\end{enumerate*}\n"
      ],
      "text/markdown": [
       "1. '0.12000000000'\n",
       "2. '0.98000000000'\n",
       "3. '0.00001910000'\n",
       "4. '0.00000000002'\n",
       "\n",
       "\n"
      ],
      "text/plain": [
       "[1] \"0.12000000000\" \"0.98000000000\" \"0.00001910000\" \"0.00000000002\""
      ]
     },
     "metadata": {},
     "output_type": "display_data"
    }
   ],
   "source": [
    "# Some vectors of numbers\n",
    "percent_change  <- c(4, -1.91, 3.00, -5.002)\n",
    "income <-  c(72.19, 1030.18, 10291.93, 1189192.18)\n",
    "p_values <- c(0.12, 0.98, 0.0000191, 0.00000000002)\n",
    "\n",
    "# Format c(0.0011, 0.011, 1) with digits = 1\n",
    "format(c(0.0011, 0.011, 1), digits = 1)\n",
    "\n",
    "# Format c(1.0011, 2.011, 1) with digits = 1\n",
    "format(c(1.0011, 2.011, 1), digits = 1)\n",
    "\n",
    "# Format percent_change to one place after the decimal point\n",
    "format(percent_change, digits = 2)\n",
    "\n",
    "# Format income to whole numbers (i.e. no places after the decimal point).\n",
    "format(income, digits = 1, scientific = FALSE)\n",
    "\n",
    "# Format p_values in fixed format\n",
    "format(p_values, digits = 1, scientific = FALSE)"
   ]
  },
  {
   "cell_type": "markdown",
   "metadata": {},
   "source": [
    "### Controlling other aspects of the string\n",
    "Not only does format() control the way the number is represented, it also controls some of the properties of the resulting string that affect its display.\n",
    "\n",
    "For example, by default format() will pad the start of the strings with spaces so that the decimal points line up, which is really useful if you are presenting the numbers in a vertical column. However, if you are putting the number in the middle of a sentence, you might not want these extra spaces. You can set trim = TRUE to remove them.\n",
    "\n",
    "When numbers are long it can be helpful to \"prettify\" them, for example instead of 1000000000 display 1,000,000,000. In this case a , is added every 3 digits. This can be controlled by the big.interval and big.mark arguments, e.g. format(1000000000, big.mark = \",\", big.interval = 3, scientific = FALSE). These arguments are actually passed on to prettyNum() so head there for any further details."
   ]
  },
  {
   "cell_type": "code",
   "execution_count": 6,
   "metadata": {},
   "outputs": [
    {
     "name": "stdout",
     "output_type": "stream",
     "text": [
      "[1] \"   11\" \"   90\" \" 2367\" \"24451\"\n",
      "   11\n",
      "   90\n",
      " 2367\n",
      "24451\n",
      "11\n",
      "90\n",
      "2367\n",
      "24451\n",
      "    11\n",
      "    90\n",
      " 2,367\n",
      "24,451\n"
     ]
    }
   ],
   "source": [
    "income = c(10.67, 89.56, 2366.56, 24450.78)\n",
    "\n",
    "formatted_income <- format(income, digits = 2)\n",
    "\n",
    "# Print formatted_income\n",
    "print(formatted_income)\n",
    "\n",
    "# Call writeLines() on the formatted income\n",
    "writeLines(formatted_income)\n",
    "\n",
    "# Define trimmed_income\n",
    "trimmed_income <- format(income, digits = 2, trim = TRUE)\n",
    "\n",
    "# Call writeLines() on the trimmed_income\n",
    "writeLines(trimmed_income)\n",
    "\n",
    "# Define pretty_income\n",
    "pretty_income = format(income, digits = 2, big.mark = \",\")\n",
    "\n",
    "# Call writeLines() on the pretty_income\n",
    "writeLines(pretty_income)"
   ]
  },
  {
   "cell_type": "markdown",
   "metadata": {},
   "source": [
    "### formatC()\n",
    "The function formatC() provides an alternative way to format numbers based on C style syntax.\n",
    "\n",
    "Rather than a scientific argument, formatC() has a format argument that takes a code representing the required format. The most useful are:\n",
    "\n",
    "\"f\" for fixed,\n",
    "\"e\" for scientific, and\n",
    "\"g\" for fixed unless scientific saves space\n",
    "When using scientific format, the digits argument behaves like it does in format(); it specifies the number of significant digits. However, unlike format(), when using fixed format, digits is the number of digits after the decimal point. This is more predictable than format(), because the number of places after the decimal is fixed regardless of the values being formatted.\n",
    "\n",
    "formatC() also formats numbers individually, which means you always get the same output regardless of other numbers in the vector.\n",
    "\n",
    "The flag argument allows you to provide some modifiers that, for example, force the display of the sign (flag = \"+\"), left align numbers (flag = \"-\") and pad numbers with leading zeros (flag = \"0\"). You'll see an example in this exercise."
   ]
  },
  {
   "cell_type": "code",
   "execution_count": 8,
   "metadata": {},
   "outputs": [
    {
     "data": {
      "text/html": [
       "<ol class=list-inline>\n",
       "\t<li>'0.0'</li>\n",
       "\t<li>'0.0'</li>\n",
       "\t<li>'1.0'</li>\n",
       "</ol>\n"
      ],
      "text/latex": [
       "\\begin{enumerate*}\n",
       "\\item '0.0'\n",
       "\\item '0.0'\n",
       "\\item '1.0'\n",
       "\\end{enumerate*}\n"
      ],
      "text/markdown": [
       "1. '0.0'\n",
       "2. '0.0'\n",
       "3. '1.0'\n",
       "\n",
       "\n"
      ],
      "text/plain": [
       "[1] \"0.0\" \"0.0\" \"1.0\""
      ]
     },
     "metadata": {},
     "output_type": "display_data"
    },
    {
     "data": {
      "text/html": [
       "<ol class=list-inline>\n",
       "\t<li>'1.0'</li>\n",
       "\t<li>'2.0'</li>\n",
       "\t<li>'1.0'</li>\n",
       "</ol>\n"
      ],
      "text/latex": [
       "\\begin{enumerate*}\n",
       "\\item '1.0'\n",
       "\\item '2.0'\n",
       "\\item '1.0'\n",
       "\\end{enumerate*}\n"
      ],
      "text/markdown": [
       "1. '1.0'\n",
       "2. '2.0'\n",
       "3. '1.0'\n",
       "\n",
       "\n"
      ],
      "text/plain": [
       "[1] \"1.0\" \"2.0\" \"1.0\""
      ]
     },
     "metadata": {},
     "output_type": "display_data"
    },
    {
     "data": {
      "text/html": [
       "<ol class=list-inline>\n",
       "\t<li>'4.0'</li>\n",
       "\t<li>'-1.9'</li>\n",
       "\t<li>'3.0'</li>\n",
       "\t<li>'-5.0'</li>\n",
       "</ol>\n"
      ],
      "text/latex": [
       "\\begin{enumerate*}\n",
       "\\item '4.0'\n",
       "\\item '-1.9'\n",
       "\\item '3.0'\n",
       "\\item '-5.0'\n",
       "\\end{enumerate*}\n"
      ],
      "text/markdown": [
       "1. '4.0'\n",
       "2. '-1.9'\n",
       "3. '3.0'\n",
       "4. '-5.0'\n",
       "\n",
       "\n"
      ],
      "text/plain": [
       "[1] \"4.0\"  \"-1.9\" \"3.0\"  \"-5.0\""
      ]
     },
     "metadata": {},
     "output_type": "display_data"
    },
    {
     "data": {
      "text/html": [
       "<ol class=list-inline>\n",
       "\t<li>'+4.0'</li>\n",
       "\t<li>'-1.9'</li>\n",
       "\t<li>'+3.0'</li>\n",
       "\t<li>'-5.0'</li>\n",
       "</ol>\n"
      ],
      "text/latex": [
       "\\begin{enumerate*}\n",
       "\\item '+4.0'\n",
       "\\item '-1.9'\n",
       "\\item '+3.0'\n",
       "\\item '-5.0'\n",
       "\\end{enumerate*}\n"
      ],
      "text/markdown": [
       "1. '+4.0'\n",
       "2. '-1.9'\n",
       "3. '+3.0'\n",
       "4. '-5.0'\n",
       "\n",
       "\n"
      ],
      "text/plain": [
       "[1] \"+4.0\" \"-1.9\" \"+3.0\" \"-5.0\""
      ]
     },
     "metadata": {},
     "output_type": "display_data"
    },
    {
     "data": {
      "text/html": [
       "<ol class=list-inline>\n",
       "\t<li>'0.12'</li>\n",
       "\t<li>'0.98'</li>\n",
       "\t<li>'1.9e-05'</li>\n",
       "\t<li>'2e-11'</li>\n",
       "</ol>\n"
      ],
      "text/latex": [
       "\\begin{enumerate*}\n",
       "\\item '0.12'\n",
       "\\item '0.98'\n",
       "\\item '1.9e-05'\n",
       "\\item '2e-11'\n",
       "\\end{enumerate*}\n"
      ],
      "text/markdown": [
       "1. '0.12'\n",
       "2. '0.98'\n",
       "3. '1.9e-05'\n",
       "4. '2e-11'\n",
       "\n",
       "\n"
      ],
      "text/plain": [
       "[1] \"0.12\"    \"0.98\"    \"1.9e-05\" \"2e-11\"  "
      ]
     },
     "metadata": {},
     "output_type": "display_data"
    }
   ],
   "source": [
    "# From the format() exercise\n",
    "x <- c(0.0011, 0.011, 1)\n",
    "y <- c(1.0011, 2.011, 1)\n",
    "\n",
    "# formatC() on x with format = \"f\", digits = 1\n",
    "formatC(x, format = \"f\", digits = 1)\n",
    "\n",
    "# formatC() on y with format = \"f\", digits = 1\n",
    "formatC(y, format = \"f\", digits = 1)\n",
    "# Format percent_change to one place after the decimal point\n",
    "formatC(percent_change, format = 'f', digits = 1)\n",
    "\n",
    "# percent_change with flag = \"+\"\n",
    "formatC(percent_change, format = 'f', digits = 1, flag = '+')\n",
    "\n",
    "\n",
    "# Format p_values using format = \"g\" and digits = 2\n",
    "formatC(p_values, digits = 2, format = 'g')"
   ]
  },
  {
   "cell_type": "markdown",
   "metadata": {},
   "source": [
    "### Annotation of numbers\n",
    "To get a handle on using paste(), you are going to annotate some of your formatted number strings.\n",
    "\n",
    "The key points to remember are:\n",
    "\n",
    "The vectors you pass to paste() are pasted together element by element, using the sep argument to combine them.\n",
    "If the vectors passed to paste() aren't the same length, the shorter vectors are recycled up to the length of the longest one.\n",
    "Only use collapse if you want a single string as output. collapse specifies the string to place between different elements.\n",
    "\n",
    "We've put the formatted vectors pretty_income and pretty_percent in your workspace along with years."
   ]
  },
  {
   "cell_type": "code",
   "execution_count": 11,
   "metadata": {},
   "outputs": [
    {
     "data": {
      "text/html": [
       "<ol class=list-inline>\n",
       "\t<li><span style=white-space:pre-wrap>'$    11'</span></li>\n",
       "\t<li><span style=white-space:pre-wrap>'$    90'</span></li>\n",
       "\t<li>'$ 2,367'</li>\n",
       "\t<li>'$24,451'</li>\n",
       "</ol>\n"
      ],
      "text/latex": [
       "\\begin{enumerate*}\n",
       "\\item '\\$    11'\n",
       "\\item '\\$    90'\n",
       "\\item '\\$ 2,367'\n",
       "\\item '\\$24,451'\n",
       "\\end{enumerate*}\n"
      ],
      "text/markdown": [
       "1. <span style=white-space:pre-wrap>'$    11'</span>\n",
       "2. <span style=white-space:pre-wrap>'$    90'</span>\n",
       "3. '$ 2,367'\n",
       "4. '$24,451'\n",
       "\n",
       "\n"
      ],
      "text/plain": [
       "[1] \"$    11\" \"$    90\" \"$ 2,367\" \"$24,451\""
      ]
     },
     "metadata": {},
     "output_type": "display_data"
    },
    {
     "data": {
      "text/html": [
       "<ol class=list-inline>\n",
       "\t<li>'+4.0%'</li>\n",
       "\t<li>'-1.9%'</li>\n",
       "\t<li>'+3.0%'</li>\n",
       "\t<li>'-5.0%'</li>\n",
       "</ol>\n"
      ],
      "text/latex": [
       "\\begin{enumerate*}\n",
       "\\item '+4.0\\%'\n",
       "\\item '-1.9\\%'\n",
       "\\item '+3.0\\%'\n",
       "\\item '-5.0\\%'\n",
       "\\end{enumerate*}\n"
      ],
      "text/markdown": [
       "1. '+4.0%'\n",
       "2. '-1.9%'\n",
       "3. '+3.0%'\n",
       "4. '-5.0%'\n",
       "\n",
       "\n"
      ],
      "text/plain": [
       "[1] \"+4.0%\" \"-1.9%\" \"+3.0%\" \"-5.0%\""
      ]
     },
     "metadata": {},
     "output_type": "display_data"
    },
    {
     "data": {
      "text/html": [
       "'2010: +4.0%, 2011: -1.9%, 2012: +3.0%, 2013: -5.0%'"
      ],
      "text/latex": [
       "'2010: +4.0\\%, 2011: -1.9\\%, 2012: +3.0\\%, 2013: -5.0\\%'"
      ],
      "text/markdown": [
       "'2010: +4.0%, 2011: -1.9%, 2012: +3.0%, 2013: -5.0%'"
      ],
      "text/plain": [
       "[1] \"2010: +4.0%, 2011: -1.9%, 2012: +3.0%, 2013: -5.0%\""
      ]
     },
     "metadata": {},
     "output_type": "display_data"
    }
   ],
   "source": [
    "# Define pretty_income\n",
    "pretty_income = format(income, digits = 2, big.mark = \",\")\n",
    "# define pretty_percent\n",
    "pretty_percent = formatC(percent_change, format = 'f', digits = 1, flag = '+')\n",
    "# define years \n",
    "years = c(2010,2011, 2012, 2013)\n",
    "\n",
    "# Add $ to pretty_income\n",
    "paste(\"$\", pretty_income, sep = \"\")\n",
    " \n",
    "# Add % to pretty_percent\n",
    "paste(pretty_percent, \"%\", sep = \"\")\n",
    "\n",
    "# Create vector with elements like 2010: +4.0%`\n",
    "year_percent <- paste(years, \": \", pretty_percent, \"%\", sep = \"\")\n",
    "\n",
    "# Collapse all years into single string\n",
    "paste(year_percent, collapse = \", \")"
   ]
  },
  {
   "cell_type": "markdown",
   "metadata": {},
   "source": [
    "### A very simple table\n",
    "Combining format() and paste() is one way to display very simple tables. Remember, since format() looks at all the values in a vector before formatting, it uses a consistent format and will, by default, align on the decimal point. This is usually the behavior you want for a column of numbers in table.\n",
    "\n",
    "format() can also take character vectors as input. In this case, you can use the justify argument, specific to character input, to justify the text to the left, right, or center.\n",
    "\n",
    "You are going to put together the following table:\n",
    "\n",
    "Year 0   $       72\n",
    "\n",
    "Year 1   $    1,030\n",
    "\n",
    "Year 2   $   10,292\n",
    "\n",
    "Project Lifetime   $1,189,192\n",
    "\n",
    "You'll start by formatting the columns to prepare to put them in a table, then you'll use paste() to put together each row. Then, you can use writeLines() to display each row on a new line."
   ]
  },
  {
   "cell_type": "code",
   "execution_count": 12,
   "metadata": {},
   "outputs": [
    {
     "name": "stdout",
     "output_type": "stream",
     "text": [
      "          Year 0   $    11\n",
      "          Year 1   $    90\n",
      "          Year 2   $ 2,367\n",
      "Project Lifetime   $24,451\n"
     ]
    }
   ],
   "source": [
    "# Define the names vector\n",
    "income_names <- c(\"Year 0\", \"Year 1\", \"Year 2\", \"Project Lifetime\")\n",
    "\n",
    "# Create pretty_income\n",
    "pretty_income <- format(income, digits = 2, big.mark = \",\")\n",
    "\n",
    "# Create dollar_income\n",
    "dollar_income <- paste(\"$\", pretty_income, sep = \"\")\n",
    "\n",
    "# Create formatted_names\n",
    "formatted_names <- format(income_names, justify = \"right\")\n",
    "\n",
    "# Create rows\n",
    "rows <- paste(formatted_names, dollar_income, sep = \"   \")\n",
    "\n",
    "# Write rows\n",
    "writeLines(rows)"
   ]
  },
  {
   "cell_type": "markdown",
   "metadata": {},
   "source": [
    "### Let's order pizza!\n",
    "As a final exercise in using paste() and to celebrate getting to the end of the first chapter, let's order some pizza.\n",
    "\n",
    "We've got a list of possible pizza toppings in toppings.\n",
    "\n",
    "You are going to randomly select three toppings, and then put them together using paste() into an order for pizza, that should result in a string like,\n",
    "\n",
    "\"I want to order a pizza with mushrooms, spinach, and pineapple.\""
   ]
  },
  {
   "cell_type": "code",
   "execution_count": 14,
   "metadata": {},
   "outputs": [
    {
     "data": {
      "text/html": [
       "<ol class=list-inline>\n",
       "\t<li>'chicken'</li>\n",
       "\t<li>'bacon'</li>\n",
       "\t<li>'chili peppers'</li>\n",
       "</ol>\n"
      ],
      "text/latex": [
       "\\begin{enumerate*}\n",
       "\\item 'chicken'\n",
       "\\item 'bacon'\n",
       "\\item 'chili peppers'\n",
       "\\end{enumerate*}\n"
      ],
      "text/markdown": [
       "1. 'chicken'\n",
       "2. 'bacon'\n",
       "3. 'chili peppers'\n",
       "\n",
       "\n"
      ],
      "text/plain": [
       "[1] \"chicken\"       \"bacon\"         \"chili peppers\""
      ]
     },
     "metadata": {},
     "output_type": "display_data"
    },
    {
     "name": "stdout",
     "output_type": "stream",
     "text": [
      "I want to order a pizza with chicken, bacon, and chili peppers.\n"
     ]
    }
   ],
   "source": [
    "# Randomly sample 3 toppings\n",
    "toppings = c(\"anchovies\",\"artichoke\", \"bacon\", \"breakfast bacon\" , \"Canadian bacon\" , \"cheese\", \"chicken\", \"chili peppers\")   \n",
    "my_toppings <- sample(toppings, size = 3)\n",
    "\n",
    "# Print my_toppings\n",
    "my_toppings\n",
    "\n",
    "# Paste \"and \" to last element: my_toppings_and\n",
    "my_toppings_and <- paste(c(\"\", \"\", \"and \"), my_toppings, sep = \"\")\n",
    "# my_toppings_and <- c(my_toppings[1], my_toppings[2], paste(\"and \", my_toppings[3]))\n",
    "\n",
    "# Collapse with comma space: these_toppings\n",
    "these_toppings <- paste(my_toppings_and, collapse = \", \")\n",
    "\n",
    "# Add rest of sentence: my_order\n",
    "my_order <- paste(\"I want to order a pizza with \", these_toppings, \".\", sep = \"\")\n",
    "\n",
    "# Order pizza with writeLines()\n",
    "writeLines(my_order)"
   ]
  }
 ],
 "metadata": {
  "kernelspec": {
   "display_name": "R",
   "language": "R",
   "name": "ir"
  },
  "language_info": {
   "codemirror_mode": "r",
   "file_extension": ".r",
   "mimetype": "text/x-r-source",
   "name": "R",
   "pygments_lexer": "r",
   "version": "3.6.1"
  }
 },
 "nbformat": 4,
 "nbformat_minor": 4
}
