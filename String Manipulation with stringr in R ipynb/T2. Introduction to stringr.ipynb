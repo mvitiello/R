{
 "cells": [
  {
   "cell_type": "markdown",
   "metadata": {},
   "source": [
    "## Introduction to stringr\n",
    "\n",
    "Time to meet stringr! You'll start by learning about some stringr functions that are very similar to some base R functions, then how to detect specific patterns in strings, how to split strings apart and how to find and replace parts of strings."
   ]
  },
  {
   "cell_type": "markdown",
   "metadata": {},
   "source": [
    "### Putting strings together with stringr\n",
    "For your first stringr function, we'll look at str_c(), the c is short for concatenate, a function that works like paste(). It takes vectors of strings as input along with sep and collapse arguments.\n",
    "\n",
    "There are two key ways str_c() differs from paste(). First, the default separator is an empty string, sep = \"\", as opposed to a space, so it's more like paste0(). This is an example of a stringr function, performing a similar operation to a base function, but using a default that is more likely to be what you want. Remember in your pizza order, you had to set sep = \"\" multiple times.\n",
    "\n",
    "The second way str_c() differs to paste() is in its handling of missing values. paste() turns missing values into the string \"NA\", whereas str_c() propagates missing values. That means combining any strings with a missing value will result in another missing value.\n",
    "\n",
    "Let's explore this difference using your pizza order from the previous chapter."
   ]
  },
  {
   "cell_type": "code",
   "execution_count": 1,
   "metadata": {},
   "outputs": [
    {
     "name": "stdout",
     "output_type": "stream",
     "text": [
      "[1] \"cheese\" \"NA\"     \"and NA\"\n",
      "[1] \"cheese\" NA       NA      \n"
     ]
    },
    {
     "data": {
      "text/html": [
       "'cheese, NA, and NA'"
      ],
      "text/latex": [
       "'cheese, NA, and NA'"
      ],
      "text/markdown": [
       "'cheese, NA, and NA'"
      ],
      "text/plain": [
       "[1] \"cheese, NA, and NA\""
      ]
     },
     "metadata": {},
     "output_type": "display_data"
    },
    {
     "data": {
      "text/html": [
       "NA"
      ],
      "text/latex": [
       "NA"
      ],
      "text/markdown": [
       "NA"
      ],
      "text/plain": [
       "[1] NA"
      ]
     },
     "metadata": {},
     "output_type": "display_data"
    }
   ],
   "source": [
    "library(stringr)\n",
    "\n",
    "my_toppings <- c(\"cheese\", NA, NA)\n",
    "my_toppings_and <- paste(c(\"\", \"\", \"and \"), my_toppings, sep = \"\")\n",
    "\n",
    "# Print my_toppings_and\n",
    "print(my_toppings_and)\n",
    "\n",
    "# Use str_c() instead of paste(): my_toppings_str\n",
    "my_toppings_str <- str_c(c(\"\", \"\", \"and \"), my_toppings)\n",
    "\n",
    "# Print my_toppings_str\n",
    "print(my_toppings_str)\n",
    "\n",
    "# paste() my_toppings_and with collapse = \", \"\n",
    "paste(my_toppings_and, collapse = \", \")\n",
    "\n",
    "# str_c() my_toppings_str with collapse = \", \"\n",
    "str_c(my_toppings_str, collapse = \", \")"
   ]
  },
  {
   "cell_type": "markdown",
   "metadata": {},
   "source": [
    "See the difference: just one NA will make our entire result NA.\n",
    "This behavior is nice because you learn quickly when you might have missing values, rather than discovering later weird \"NA\"s inside your strings. Another stringr function that is useful when you may have missing values, is str_replace_na() which replaces missing values with any string you choose."
   ]
  },
  {
   "cell_type": "markdown",
   "metadata": {},
   "source": [
    "### String length\n",
    "Our next stringr function is str_length(). str_length() takes a vector of strings as input and returns the number of characters in each string. For example, try finding the number of characters in Batman's name:\n",
    "\n",
    "str_length(c(\"Bruce\", \"Wayne\"))\n",
    "This is very similar to the base function nchar() but you'll see in the exercises str_length() handles factors in an intuitive way, whereas nchar() will just return an error.\n",
    "\n",
    "Historically, nchar() was even worse, rather than returning an error if you passed it a factor, it would return the number of characters in the numeric encoding of the factor. Thankfully this behavior has been fixed, but it was one of the original motivations behind str_length().\n",
    "\n",
    "Take your first look at babynames by asking if girls' names are longer than boys' names."
   ]
  },
  {
   "cell_type": "code",
   "execution_count": 4,
   "metadata": {},
   "outputs": [
    {
     "name": "stdout",
     "output_type": "stream",
     "text": [
      "package 'babynames' successfully unpacked and MD5 sums checked\n",
      "\n",
      "The downloaded binary packages are in\n",
      "\tC:\\Users\\Migue\\AppData\\Local\\Temp\\RtmpC4Fi8w\\downloaded_packages\n"
     ]
    },
    {
     "name": "stderr",
     "output_type": "stream",
     "text": [
      "Warning message:\n",
      "\"package 'babynames' was built under R version 3.6.3\"Warning message:\n",
      "\"package 'dplyr' was built under R version 3.6.3\"\n",
      "Attaching package: 'dplyr'\n",
      "\n",
      "The following objects are masked from 'package:stats':\n",
      "\n",
      "    filter, lag\n",
      "\n",
      "The following objects are masked from 'package:base':\n",
      "\n",
      "    intersect, setdiff, setequal, union\n",
      "\n"
     ]
    },
    {
     "data": {
      "text/html": [
       "<ol class=list-inline>\n",
       "\t<li>'Noah'</li>\n",
       "\t<li>'Liam'</li>\n",
       "\t<li>'Mason'</li>\n",
       "\t<li>'Jacob'</li>\n",
       "\t<li>'William'</li>\n",
       "\t<li>'Ethan'</li>\n",
       "</ol>\n"
      ],
      "text/latex": [
       "\\begin{enumerate*}\n",
       "\\item 'Noah'\n",
       "\\item 'Liam'\n",
       "\\item 'Mason'\n",
       "\\item 'Jacob'\n",
       "\\item 'William'\n",
       "\\item 'Ethan'\n",
       "\\end{enumerate*}\n"
      ],
      "text/markdown": [
       "1. 'Noah'\n",
       "2. 'Liam'\n",
       "3. 'Mason'\n",
       "4. 'Jacob'\n",
       "5. 'William'\n",
       "6. 'Ethan'\n",
       "\n",
       "\n"
      ],
      "text/plain": [
       "[1] \"Noah\"    \"Liam\"    \"Mason\"   \"Jacob\"   \"William\" \"Ethan\"  "
      ]
     },
     "metadata": {},
     "output_type": "display_data"
    },
    {
     "data": {
      "text/html": [
       "<ol class=list-inline>\n",
       "\t<li>4</li>\n",
       "\t<li>4</li>\n",
       "\t<li>5</li>\n",
       "\t<li>5</li>\n",
       "\t<li>7</li>\n",
       "\t<li>5</li>\n",
       "</ol>\n"
      ],
      "text/latex": [
       "\\begin{enumerate*}\n",
       "\\item 4\n",
       "\\item 4\n",
       "\\item 5\n",
       "\\item 5\n",
       "\\item 7\n",
       "\\item 5\n",
       "\\end{enumerate*}\n"
      ],
      "text/markdown": [
       "1. 4\n",
       "2. 4\n",
       "3. 5\n",
       "4. 5\n",
       "5. 7\n",
       "6. 5\n",
       "\n",
       "\n"
      ],
      "text/plain": [
       "[1] 4 4 5 5 7 5"
      ]
     },
     "metadata": {},
     "output_type": "display_data"
    },
    {
     "data": {
      "text/html": [
       "0.337475791562988"
      ],
      "text/latex": [
       "0.337475791562988"
      ],
      "text/markdown": [
       "0.337475791562988"
      ],
      "text/plain": [
       "[1] 0.3374758"
      ]
     },
     "metadata": {},
     "output_type": "display_data"
    },
    {
     "data": {
      "text/html": [
       "<ol class=list-inline>\n",
       "\t<li>4</li>\n",
       "\t<li>4</li>\n",
       "\t<li>5</li>\n",
       "\t<li>5</li>\n",
       "\t<li>7</li>\n",
       "\t<li>5</li>\n",
       "</ol>\n"
      ],
      "text/latex": [
       "\\begin{enumerate*}\n",
       "\\item 4\n",
       "\\item 4\n",
       "\\item 5\n",
       "\\item 5\n",
       "\\item 7\n",
       "\\item 5\n",
       "\\end{enumerate*}\n"
      ],
      "text/markdown": [
       "1. 4\n",
       "2. 4\n",
       "3. 5\n",
       "4. 5\n",
       "5. 7\n",
       "6. 5\n",
       "\n",
       "\n"
      ],
      "text/plain": [
       "[1] 4 4 5 5 7 5"
      ]
     },
     "metadata": {},
     "output_type": "display_data"
    }
   ],
   "source": [
    "# install.packages('babynames')\n",
    "library(babynames)\n",
    "library(dplyr)\n",
    "\n",
    "# Extracting vectors for boys' and girls' names\n",
    "babynames_2014 <- filter(babynames, year == 2014)\n",
    "boy_names <- filter(babynames_2014, sex == \"M\")$name\n",
    "girl_names <- filter(babynames_2014, sex == \"F\")$name\n",
    "\n",
    "# Take a look at a few boy_names\n",
    "head(boy_names)\n",
    "\n",
    "# Find the length of all boy_names\n",
    "boy_length <- str_length(boy_names)\n",
    "\n",
    "# Take a look at a few lengths\n",
    "head(boy_length)\n",
    "\n",
    "# Find the length of all girl_names\n",
    "girl_length <- str_length(girl_names)\n",
    "\n",
    "# Find the difference in mean length\n",
    "mean(girl_length) - mean(boy_length)\n",
    "\n",
    "# Confirm str_length() works with factors\n",
    "head(str_length(factor(boy_names)))\n"
   ]
  },
  {
   "cell_type": "markdown",
   "metadata": {},
   "source": [
    "### Extracting substrings\n",
    "The str_sub() function in stringr extracts parts of strings based on their location. As with all stringr functions, the first argument, string, is a vector of strings. The arguments start and end specify the boundaries of the piece to extract in characters.\n",
    "\n",
    "For example, str_sub(x, 1, 4) asks for the substring starting at the first character, up to the fourth character, or in other words the first four characters. Try it with my Batman's name:\n",
    "\n",
    "str_sub(c(\"Bruce\", \"Wayne\"), 1, 4)\n",
    "Both start and end can be negative integers, in which case, they count from the end of the string. For example, str_sub(x, -4, -1), asks for the substring starting at the fourth character from the end, up to the first character from the end, i.e. the last four characters. Again, try it with Batman:\n",
    "\n",
    "str_sub(c(\"Bruce\", \"Wayne\"), -4, -1)\n",
    "To practice, you'll use str_sub() to look at popular first and last letters for names."
   ]
  },
  {
   "cell_type": "code",
   "execution_count": 5,
   "metadata": {},
   "outputs": [
    {
     "data": {
      "text/plain": [
       "boy_first_letter\n",
       "   A    B    C    D    E    F    G    H    I    J    K    L    M    N    O    P \n",
       "1454  651  770  998  549  185  334  403  235 1390 1291  537  914  424  207  230 \n",
       "   Q    R    S    T    U    V    W    X    Y    Z \n",
       "  56  778  806  771   43  160  174   56  252  379 "
      ]
     },
     "metadata": {},
     "output_type": "display_data"
    },
    {
     "data": {
      "text/plain": [
       "boy_last_letter\n",
       "   a    b    c    d    e    f    g    h    i    j    k    l    m    n    o    p \n",
       " 421  104   92  436 1148   66   82  583  705   57  349  945  389 4672  730   32 \n",
       "   q    r    s    t    u    v    w    x    y    z \n",
       "  19 1011  826  292   81   71   34   86  697  119 "
      ]
     },
     "metadata": {},
     "output_type": "display_data"
    },
    {
     "data": {
      "text/plain": [
       "girl_first_letter\n",
       "   A    B    C    D    E    F    G    H    I    J    K    L    M    N    O    P \n",
       "3101  699  946  810  933  209  345  469  373 1430 1694 1122 1746  752  143  303 \n",
       "   Q    R    S    T    U    V    W    X    Y    Z \n",
       "  38  831 1369  683   28  214   85   62  294  502 "
      ]
     },
     "metadata": {},
     "output_type": "display_data"
    },
    {
     "data": {
      "text/plain": [
       "girl_last_letter\n",
       "   a    b    c    d    e    f    g    h    i    j    k    l    m    n    o    p \n",
       "6632   20   13   81 3114    8   21 1942 1581   12   31  450  115 2608  105    3 \n",
       "   q    r    s    t    u    v    w    x    y    z \n",
       "   2  291  326  208   59    6   17   50 1435   51 "
      ]
     },
     "metadata": {},
     "output_type": "display_data"
    }
   ],
   "source": [
    "# Extract first letter from boy_names\n",
    "boy_first_letter <- str_sub(boy_names, 1, 1)\n",
    "\n",
    "# Tabulate occurrences of boy_first_letter\n",
    "table(boy_first_letter)\n",
    "  \n",
    "# Extract the last letter in boy_names, then tabulate\n",
    "boy_last_letter <- str_sub(boy_names, -1,-1)\n",
    "table(boy_last_letter)\n",
    "\n",
    "# Extract the first letter in girl_names, then tabulate\n",
    "girl_first_letter <- str_sub(girl_names, 1, 1)\n",
    "table(girl_first_letter)\n",
    "\n",
    "# Extract the last letter in girl_names, then tabulate\n",
    "girl_last_letter <-  str_sub(girl_names, -1,-1)\n",
    "table(girl_last_letter)"
   ]
  },
  {
   "cell_type": "markdown",
   "metadata": {},
   "source": [
    "Did you see that \"A\" is the most popular first letter for both boys and girls, and the most popular last letter for girls. However, the most popular last letter for boys' names was \"n\". You might have seen substr() a base R function that is similar to str_sub(). The big advantage of str_sub() is the ability to use negative indexes to count from the end of a string."
   ]
  },
  {
   "cell_type": "markdown",
   "metadata": {},
   "source": [
    "### Detecting matches\n",
    "str_detect() is used to answer the question: Does the string contain the pattern? It returns a logical vector of the same length as that of the input vector string, with TRUE for elements that contain the pattern and FALSE otherwise.\n",
    "\n",
    "Let's take a look at a simple example where you have a vector of strings that represent pizza orders:\n",
    "\n",
    "pizzas <- c(\"cheese\", \"pepperoni\", \n",
    "  \"sausage and green peppers\")\n",
    "You can ask which orders contain the pattern \"pepper\", with\n",
    "\n",
    "str_detect(pizzas, \n",
    "  pattern = fixed(\"pepper\"))\n",
    "Try it out! You should get FALSE TRUE TRUE. Notice how both pepperoni and green peppers contain the pattern of interest.\n",
    "\n",
    "The output from str_detect() can be used to count the number of occurrences, or to subset out the strings that contain the pattern. You'll practice both to find the boys' names that contain \"zz\"."
   ]
  },
  {
   "cell_type": "code",
   "execution_count": 9,
   "metadata": {},
   "outputs": [
    {
     "name": "stdout",
     "output_type": "stream",
     "text": [
      " logi [1:14047] FALSE FALSE FALSE FALSE FALSE FALSE ...\n"
     ]
    },
    {
     "data": {
      "text/html": [
       "16"
      ],
      "text/latex": [
       "16"
      ],
      "text/markdown": [
       "16"
      ],
      "text/plain": [
       "[1] 16"
      ]
     },
     "metadata": {},
     "output_type": "display_data"
    },
    {
     "data": {
      "text/html": [
       "<ol class=list-inline>\n",
       "\t<li>'Uzziah'</li>\n",
       "\t<li>'Ozzie'</li>\n",
       "\t<li>'Ozzy'</li>\n",
       "\t<li>'Jazz'</li>\n",
       "\t<li>'Uzziel'</li>\n",
       "\t<li>'Chazz'</li>\n",
       "\t<li>'Izzy'</li>\n",
       "\t<li>'Azzam'</li>\n",
       "\t<li>'Izzac'</li>\n",
       "\t<li>'Izzak'</li>\n",
       "\t<li>'Fabrizzio'</li>\n",
       "\t<li>'Jazziel'</li>\n",
       "\t<li>'Azzan'</li>\n",
       "\t<li>'Izzaiah'</li>\n",
       "\t<li>'Muizz'</li>\n",
       "\t<li>'Yazziel'</li>\n",
       "</ol>\n"
      ],
      "text/latex": [
       "\\begin{enumerate*}\n",
       "\\item 'Uzziah'\n",
       "\\item 'Ozzie'\n",
       "\\item 'Ozzy'\n",
       "\\item 'Jazz'\n",
       "\\item 'Uzziel'\n",
       "\\item 'Chazz'\n",
       "\\item 'Izzy'\n",
       "\\item 'Azzam'\n",
       "\\item 'Izzac'\n",
       "\\item 'Izzak'\n",
       "\\item 'Fabrizzio'\n",
       "\\item 'Jazziel'\n",
       "\\item 'Azzan'\n",
       "\\item 'Izzaiah'\n",
       "\\item 'Muizz'\n",
       "\\item 'Yazziel'\n",
       "\\end{enumerate*}\n"
      ],
      "text/markdown": [
       "1. 'Uzziah'\n",
       "2. 'Ozzie'\n",
       "3. 'Ozzy'\n",
       "4. 'Jazz'\n",
       "5. 'Uzziel'\n",
       "6. 'Chazz'\n",
       "7. 'Izzy'\n",
       "8. 'Azzam'\n",
       "9. 'Izzac'\n",
       "10. 'Izzak'\n",
       "11. 'Fabrizzio'\n",
       "12. 'Jazziel'\n",
       "13. 'Azzan'\n",
       "14. 'Izzaiah'\n",
       "15. 'Muizz'\n",
       "16. 'Yazziel'\n",
       "\n",
       "\n"
      ],
      "text/plain": [
       " [1] \"Uzziah\"    \"Ozzie\"     \"Ozzy\"      \"Jazz\"      \"Uzziel\"    \"Chazz\"    \n",
       " [7] \"Izzy\"      \"Azzam\"     \"Izzac\"     \"Izzak\"     \"Fabrizzio\" \"Jazziel\"  \n",
       "[13] \"Azzan\"     \"Izzaiah\"   \"Muizz\"     \"Yazziel\"  "
      ]
     },
     "metadata": {},
     "output_type": "display_data"
    },
    {
     "data": {
      "text/html": [
       "<table>\n",
       "<thead><tr><th scope=col>year</th><th scope=col>sex</th><th scope=col>name</th><th scope=col>n</th><th scope=col>prop</th></tr></thead>\n",
       "<tbody>\n",
       "\t<tr><td>2014     </td><td>M        </td><td>Uzziah   </td><td>67       </td><td>3.277e-05</td></tr>\n",
       "\t<tr><td>2014     </td><td>M        </td><td>Ozzie    </td><td>62       </td><td>3.033e-05</td></tr>\n",
       "\t<tr><td>2014     </td><td>M        </td><td>Ozzy     </td><td>57       </td><td>2.788e-05</td></tr>\n",
       "\t<tr><td>2014     </td><td>M        </td><td>Jazz     </td><td>21       </td><td>1.027e-05</td></tr>\n",
       "\t<tr><td>2014     </td><td>M        </td><td>Uzziel   </td><td>21       </td><td>1.027e-05</td></tr>\n",
       "\t<tr><td>2014     </td><td>M        </td><td>Chazz    </td><td>17       </td><td>8.320e-06</td></tr>\n",
       "\t<tr><td>2014     </td><td>M        </td><td>Izzy     </td><td>16       </td><td>7.830e-06</td></tr>\n",
       "\t<tr><td>2014     </td><td>M        </td><td>Azzam    </td><td>14       </td><td>6.850e-06</td></tr>\n",
       "\t<tr><td>2014     </td><td>M        </td><td>Izzac    </td><td>13       </td><td>6.360e-06</td></tr>\n",
       "\t<tr><td>2014     </td><td>M        </td><td>Izzak    </td><td> 8       </td><td>3.910e-06</td></tr>\n",
       "\t<tr><td>2014     </td><td>M        </td><td>Fabrizzio</td><td> 7       </td><td>3.420e-06</td></tr>\n",
       "\t<tr><td>2014     </td><td>M        </td><td>Jazziel  </td><td> 6       </td><td>2.930e-06</td></tr>\n",
       "\t<tr><td>2014     </td><td>M        </td><td>Azzan    </td><td> 5       </td><td>2.450e-06</td></tr>\n",
       "\t<tr><td>2014     </td><td>M        </td><td>Izzaiah  </td><td> 5       </td><td>2.450e-06</td></tr>\n",
       "\t<tr><td>2014     </td><td>M        </td><td>Muizz    </td><td> 5       </td><td>2.450e-06</td></tr>\n",
       "\t<tr><td>2014     </td><td>M        </td><td>Yazziel  </td><td> 5       </td><td>2.450e-06</td></tr>\n",
       "</tbody>\n",
       "</table>\n"
      ],
      "text/latex": [
       "\\begin{tabular}{r|lllll}\n",
       " year & sex & name & n & prop\\\\\n",
       "\\hline\n",
       "\t 2014      & M         & Uzziah    & 67        & 3.277e-05\\\\\n",
       "\t 2014      & M         & Ozzie     & 62        & 3.033e-05\\\\\n",
       "\t 2014      & M         & Ozzy      & 57        & 2.788e-05\\\\\n",
       "\t 2014      & M         & Jazz      & 21        & 1.027e-05\\\\\n",
       "\t 2014      & M         & Uzziel    & 21        & 1.027e-05\\\\\n",
       "\t 2014      & M         & Chazz     & 17        & 8.320e-06\\\\\n",
       "\t 2014      & M         & Izzy      & 16        & 7.830e-06\\\\\n",
       "\t 2014      & M         & Azzam     & 14        & 6.850e-06\\\\\n",
       "\t 2014      & M         & Izzac     & 13        & 6.360e-06\\\\\n",
       "\t 2014      & M         & Izzak     &  8        & 3.910e-06\\\\\n",
       "\t 2014      & M         & Fabrizzio &  7        & 3.420e-06\\\\\n",
       "\t 2014      & M         & Jazziel   &  6        & 2.930e-06\\\\\n",
       "\t 2014      & M         & Azzan     &  5        & 2.450e-06\\\\\n",
       "\t 2014      & M         & Izzaiah   &  5        & 2.450e-06\\\\\n",
       "\t 2014      & M         & Muizz     &  5        & 2.450e-06\\\\\n",
       "\t 2014      & M         & Yazziel   &  5        & 2.450e-06\\\\\n",
       "\\end{tabular}\n"
      ],
      "text/markdown": [
       "\n",
       "| year | sex | name | n | prop |\n",
       "|---|---|---|---|---|\n",
       "| 2014      | M         | Uzziah    | 67        | 3.277e-05 |\n",
       "| 2014      | M         | Ozzie     | 62        | 3.033e-05 |\n",
       "| 2014      | M         | Ozzy      | 57        | 2.788e-05 |\n",
       "| 2014      | M         | Jazz      | 21        | 1.027e-05 |\n",
       "| 2014      | M         | Uzziel    | 21        | 1.027e-05 |\n",
       "| 2014      | M         | Chazz     | 17        | 8.320e-06 |\n",
       "| 2014      | M         | Izzy      | 16        | 7.830e-06 |\n",
       "| 2014      | M         | Azzam     | 14        | 6.850e-06 |\n",
       "| 2014      | M         | Izzac     | 13        | 6.360e-06 |\n",
       "| 2014      | M         | Izzak     |  8        | 3.910e-06 |\n",
       "| 2014      | M         | Fabrizzio |  7        | 3.420e-06 |\n",
       "| 2014      | M         | Jazziel   |  6        | 2.930e-06 |\n",
       "| 2014      | M         | Azzan     |  5        | 2.450e-06 |\n",
       "| 2014      | M         | Izzaiah   |  5        | 2.450e-06 |\n",
       "| 2014      | M         | Muizz     |  5        | 2.450e-06 |\n",
       "| 2014      | M         | Yazziel   |  5        | 2.450e-06 |\n",
       "\n"
      ],
      "text/plain": [
       "   year sex name      n  prop     \n",
       "1  2014 M   Uzziah    67 3.277e-05\n",
       "2  2014 M   Ozzie     62 3.033e-05\n",
       "3  2014 M   Ozzy      57 2.788e-05\n",
       "4  2014 M   Jazz      21 1.027e-05\n",
       "5  2014 M   Uzziel    21 1.027e-05\n",
       "6  2014 M   Chazz     17 8.320e-06\n",
       "7  2014 M   Izzy      16 7.830e-06\n",
       "8  2014 M   Azzam     14 6.850e-06\n",
       "9  2014 M   Izzac     13 6.360e-06\n",
       "10 2014 M   Izzak      8 3.910e-06\n",
       "11 2014 M   Fabrizzio  7 3.420e-06\n",
       "12 2014 M   Jazziel    6 2.930e-06\n",
       "13 2014 M   Azzan      5 2.450e-06\n",
       "14 2014 M   Izzaiah    5 2.450e-06\n",
       "15 2014 M   Muizz      5 2.450e-06\n",
       "16 2014 M   Yazziel    5 2.450e-06"
      ]
     },
     "metadata": {},
     "output_type": "display_data"
    }
   ],
   "source": [
    "# Look for pattern \"zz\" in boy_names\n",
    "contains_zz <- str_detect(boy_names, \"zz\")\n",
    "\n",
    "# Examine str() of contains_zz\n",
    "str(contains_zz)\n",
    "\n",
    "# How many names contain \"zz\"?\n",
    "sum(contains_zz)\n",
    "\n",
    "# Which names contain \"zz\"?\n",
    "boy_names[contains_zz]\n",
    "\n",
    "boy_df <- filter(babynames_2014, sex == \"M\")\n",
    "\n",
    "# Which rows in boy_df have names that contain \"zz\"?\n",
    "boy_df[contains_zz,]"
   ]
  },
  {
   "cell_type": "markdown",
   "metadata": {},
   "source": [
    "### Subsetting strings based on match\n",
    "Since detecting strings with a pattern and then subsetting out those strings is such a common operation, stringr provides a function str_subset() that does that in one step.\n",
    "\n",
    "For example, let's repeat our search for \"pepper\" in our pizzas using str_subset():\n",
    "\n",
    "pizzas <- c(\"cheese\", \"pepperoni\", \"sausage and green peppers\")\n",
    "str_subset(pizzas, pattern = fixed(\"pepper\"))\n",
    "We get a new vector of strings, but it only contains those original strings that contained the pattern.\n",
    "\n",
    "str_subset() can be easily confused with str_extract(). str_extract() returns a vector of the same length as that of the input vector, but with only the parts of the strings that matched the pattern. This won't be very interesting until we know about regular expressions, so we'll talk more about this in Chapter 3.\n",
    "\n",
    "For now, you'll repeat part of the last exercise using str_subset() and then find a few other interesting names."
   ]
  },
  {
   "cell_type": "code",
   "execution_count": 10,
   "metadata": {},
   "outputs": [
    {
     "data": {
      "text/html": [
       "<ol class=list-inline>\n",
       "\t<li>'Uzziah'</li>\n",
       "\t<li>'Ozzie'</li>\n",
       "\t<li>'Ozzy'</li>\n",
       "\t<li>'Jazz'</li>\n",
       "\t<li>'Uzziel'</li>\n",
       "\t<li>'Chazz'</li>\n",
       "\t<li>'Izzy'</li>\n",
       "\t<li>'Azzam'</li>\n",
       "\t<li>'Izzac'</li>\n",
       "\t<li>'Izzak'</li>\n",
       "\t<li>'Fabrizzio'</li>\n",
       "\t<li>'Jazziel'</li>\n",
       "\t<li>'Azzan'</li>\n",
       "\t<li>'Izzaiah'</li>\n",
       "\t<li>'Muizz'</li>\n",
       "\t<li>'Yazziel'</li>\n",
       "</ol>\n"
      ],
      "text/latex": [
       "\\begin{enumerate*}\n",
       "\\item 'Uzziah'\n",
       "\\item 'Ozzie'\n",
       "\\item 'Ozzy'\n",
       "\\item 'Jazz'\n",
       "\\item 'Uzziel'\n",
       "\\item 'Chazz'\n",
       "\\item 'Izzy'\n",
       "\\item 'Azzam'\n",
       "\\item 'Izzac'\n",
       "\\item 'Izzak'\n",
       "\\item 'Fabrizzio'\n",
       "\\item 'Jazziel'\n",
       "\\item 'Azzan'\n",
       "\\item 'Izzaiah'\n",
       "\\item 'Muizz'\n",
       "\\item 'Yazziel'\n",
       "\\end{enumerate*}\n"
      ],
      "text/markdown": [
       "1. 'Uzziah'\n",
       "2. 'Ozzie'\n",
       "3. 'Ozzy'\n",
       "4. 'Jazz'\n",
       "5. 'Uzziel'\n",
       "6. 'Chazz'\n",
       "7. 'Izzy'\n",
       "8. 'Azzam'\n",
       "9. 'Izzac'\n",
       "10. 'Izzak'\n",
       "11. 'Fabrizzio'\n",
       "12. 'Jazziel'\n",
       "13. 'Azzan'\n",
       "14. 'Izzaiah'\n",
       "15. 'Muizz'\n",
       "16. 'Yazziel'\n",
       "\n",
       "\n"
      ],
      "text/plain": [
       " [1] \"Uzziah\"    \"Ozzie\"     \"Ozzy\"      \"Jazz\"      \"Uzziel\"    \"Chazz\"    \n",
       " [7] \"Izzy\"      \"Azzam\"     \"Izzac\"     \"Izzak\"     \"Fabrizzio\" \"Jazziel\"  \n",
       "[13] \"Azzan\"     \"Izzaiah\"   \"Muizz\"     \"Yazziel\"  "
      ]
     },
     "metadata": {},
     "output_type": "display_data"
    },
    {
     "data": {
      "text/html": [
       "<ol class=list-inline>\n",
       "\t<li>'Izzabella'</li>\n",
       "\t<li>'Jazzlyn'</li>\n",
       "\t<li>'Jazzlynn'</li>\n",
       "\t<li>'Lizzie'</li>\n",
       "\t<li>'Izzy'</li>\n",
       "\t<li>'Lizzy'</li>\n",
       "\t<li>'Mazzy'</li>\n",
       "\t<li>'Izzabelle'</li>\n",
       "\t<li>'Jazzmine'</li>\n",
       "\t<li>'Jazzmyn'</li>\n",
       "\t<li>'Jazzelle'</li>\n",
       "\t<li>'Jazzmin'</li>\n",
       "\t<li>'Izzah'</li>\n",
       "\t<li>'Jazzalyn'</li>\n",
       "\t<li>'Jazzmyne'</li>\n",
       "\t<li>'Izzabell'</li>\n",
       "\t<li>'Jazz'</li>\n",
       "\t<li>'Mazzie'</li>\n",
       "\t<li>'Alyzza'</li>\n",
       "\t<li>'Izza'</li>\n",
       "\t<li>'Izzie'</li>\n",
       "\t<li>'Jazzlene'</li>\n",
       "\t<li>'Lizzeth'</li>\n",
       "\t<li>'Jazzalynn'</li>\n",
       "\t<li>'Jazzy'</li>\n",
       "\t<li>'Alizzon'</li>\n",
       "\t<li>'Elizzabeth'</li>\n",
       "\t<li>'Jazzilyn'</li>\n",
       "\t<li>'Jazzlynne'</li>\n",
       "\t<li>'Jizzelle'</li>\n",
       "\t<li>'Izzabel'</li>\n",
       "\t<li>'Izzabellah'</li>\n",
       "\t<li>'Izzibella'</li>\n",
       "\t<li>'Jazzabella'</li>\n",
       "\t<li>'Jazzabelle'</li>\n",
       "\t<li>'Jazzel'</li>\n",
       "\t<li>'Jazzie'</li>\n",
       "\t<li>'Jazzlin'</li>\n",
       "\t<li>'Jazzlyne'</li>\n",
       "\t<li>'Aizza'</li>\n",
       "\t<li>'Brizza'</li>\n",
       "\t<li>'Ezzah'</li>\n",
       "\t<li>'Fizza'</li>\n",
       "\t<li>'Izzybella'</li>\n",
       "\t<li>'Rozzlyn'</li>\n",
       "</ol>\n"
      ],
      "text/latex": [
       "\\begin{enumerate*}\n",
       "\\item 'Izzabella'\n",
       "\\item 'Jazzlyn'\n",
       "\\item 'Jazzlynn'\n",
       "\\item 'Lizzie'\n",
       "\\item 'Izzy'\n",
       "\\item 'Lizzy'\n",
       "\\item 'Mazzy'\n",
       "\\item 'Izzabelle'\n",
       "\\item 'Jazzmine'\n",
       "\\item 'Jazzmyn'\n",
       "\\item 'Jazzelle'\n",
       "\\item 'Jazzmin'\n",
       "\\item 'Izzah'\n",
       "\\item 'Jazzalyn'\n",
       "\\item 'Jazzmyne'\n",
       "\\item 'Izzabell'\n",
       "\\item 'Jazz'\n",
       "\\item 'Mazzie'\n",
       "\\item 'Alyzza'\n",
       "\\item 'Izza'\n",
       "\\item 'Izzie'\n",
       "\\item 'Jazzlene'\n",
       "\\item 'Lizzeth'\n",
       "\\item 'Jazzalynn'\n",
       "\\item 'Jazzy'\n",
       "\\item 'Alizzon'\n",
       "\\item 'Elizzabeth'\n",
       "\\item 'Jazzilyn'\n",
       "\\item 'Jazzlynne'\n",
       "\\item 'Jizzelle'\n",
       "\\item 'Izzabel'\n",
       "\\item 'Izzabellah'\n",
       "\\item 'Izzibella'\n",
       "\\item 'Jazzabella'\n",
       "\\item 'Jazzabelle'\n",
       "\\item 'Jazzel'\n",
       "\\item 'Jazzie'\n",
       "\\item 'Jazzlin'\n",
       "\\item 'Jazzlyne'\n",
       "\\item 'Aizza'\n",
       "\\item 'Brizza'\n",
       "\\item 'Ezzah'\n",
       "\\item 'Fizza'\n",
       "\\item 'Izzybella'\n",
       "\\item 'Rozzlyn'\n",
       "\\end{enumerate*}\n"
      ],
      "text/markdown": [
       "1. 'Izzabella'\n",
       "2. 'Jazzlyn'\n",
       "3. 'Jazzlynn'\n",
       "4. 'Lizzie'\n",
       "5. 'Izzy'\n",
       "6. 'Lizzy'\n",
       "7. 'Mazzy'\n",
       "8. 'Izzabelle'\n",
       "9. 'Jazzmine'\n",
       "10. 'Jazzmyn'\n",
       "11. 'Jazzelle'\n",
       "12. 'Jazzmin'\n",
       "13. 'Izzah'\n",
       "14. 'Jazzalyn'\n",
       "15. 'Jazzmyne'\n",
       "16. 'Izzabell'\n",
       "17. 'Jazz'\n",
       "18. 'Mazzie'\n",
       "19. 'Alyzza'\n",
       "20. 'Izza'\n",
       "21. 'Izzie'\n",
       "22. 'Jazzlene'\n",
       "23. 'Lizzeth'\n",
       "24. 'Jazzalynn'\n",
       "25. 'Jazzy'\n",
       "26. 'Alizzon'\n",
       "27. 'Elizzabeth'\n",
       "28. 'Jazzilyn'\n",
       "29. 'Jazzlynne'\n",
       "30. 'Jizzelle'\n",
       "31. 'Izzabel'\n",
       "32. 'Izzabellah'\n",
       "33. 'Izzibella'\n",
       "34. 'Jazzabella'\n",
       "35. 'Jazzabelle'\n",
       "36. 'Jazzel'\n",
       "37. 'Jazzie'\n",
       "38. 'Jazzlin'\n",
       "39. 'Jazzlyne'\n",
       "40. 'Aizza'\n",
       "41. 'Brizza'\n",
       "42. 'Ezzah'\n",
       "43. 'Fizza'\n",
       "44. 'Izzybella'\n",
       "45. 'Rozzlyn'\n",
       "\n",
       "\n"
      ],
      "text/plain": [
       " [1] \"Izzabella\"  \"Jazzlyn\"    \"Jazzlynn\"   \"Lizzie\"     \"Izzy\"      \n",
       " [6] \"Lizzy\"      \"Mazzy\"      \"Izzabelle\"  \"Jazzmine\"   \"Jazzmyn\"   \n",
       "[11] \"Jazzelle\"   \"Jazzmin\"    \"Izzah\"      \"Jazzalyn\"   \"Jazzmyne\"  \n",
       "[16] \"Izzabell\"   \"Jazz\"       \"Mazzie\"     \"Alyzza\"     \"Izza\"      \n",
       "[21] \"Izzie\"      \"Jazzlene\"   \"Lizzeth\"    \"Jazzalynn\"  \"Jazzy\"     \n",
       "[26] \"Alizzon\"    \"Elizzabeth\" \"Jazzilyn\"   \"Jazzlynne\"  \"Jizzelle\"  \n",
       "[31] \"Izzabel\"    \"Izzabellah\" \"Izzibella\"  \"Jazzabella\" \"Jazzabelle\"\n",
       "[36] \"Jazzel\"     \"Jazzie\"     \"Jazzlin\"    \"Jazzlyne\"   \"Aizza\"     \n",
       "[41] \"Brizza\"     \"Ezzah\"      \"Fizza\"      \"Izzybella\"  \"Rozzlyn\"   "
      ]
     },
     "metadata": {},
     "output_type": "display_data"
    },
    {
     "data": {
      "text/html": [
       "<ol class=list-inline>\n",
       "\t<li>'Unique'</li>\n",
       "\t<li>'Uma'</li>\n",
       "\t<li>'Unknown'</li>\n",
       "\t<li>'Una'</li>\n",
       "\t<li>'Uriah'</li>\n",
       "\t<li>'Ursula'</li>\n",
       "\t<li>'Unity'</li>\n",
       "\t<li>'Umaiza'</li>\n",
       "\t<li>'Urvi'</li>\n",
       "\t<li>'Ulyana'</li>\n",
       "\t<li>'Ula'</li>\n",
       "\t<li>'Udy'</li>\n",
       "\t<li>'Urwa'</li>\n",
       "\t<li>'Ulani'</li>\n",
       "\t<li>'Umaima'</li>\n",
       "\t<li>'Umme'</li>\n",
       "\t<li>'Ugochi'</li>\n",
       "\t<li>'Ulyssa'</li>\n",
       "\t<li>'Umika'</li>\n",
       "\t<li>'Uriyah'</li>\n",
       "\t<li>'Ubah'</li>\n",
       "\t<li>'Umaira'</li>\n",
       "\t<li>'Umi'</li>\n",
       "\t<li>'Ume'</li>\n",
       "\t<li>'Urenna'</li>\n",
       "\t<li>'Uriel'</li>\n",
       "\t<li>'Urijah'</li>\n",
       "\t<li>'Uyen'</li>\n",
       "</ol>\n"
      ],
      "text/latex": [
       "\\begin{enumerate*}\n",
       "\\item 'Unique'\n",
       "\\item 'Uma'\n",
       "\\item 'Unknown'\n",
       "\\item 'Una'\n",
       "\\item 'Uriah'\n",
       "\\item 'Ursula'\n",
       "\\item 'Unity'\n",
       "\\item 'Umaiza'\n",
       "\\item 'Urvi'\n",
       "\\item 'Ulyana'\n",
       "\\item 'Ula'\n",
       "\\item 'Udy'\n",
       "\\item 'Urwa'\n",
       "\\item 'Ulani'\n",
       "\\item 'Umaima'\n",
       "\\item 'Umme'\n",
       "\\item 'Ugochi'\n",
       "\\item 'Ulyssa'\n",
       "\\item 'Umika'\n",
       "\\item 'Uriyah'\n",
       "\\item 'Ubah'\n",
       "\\item 'Umaira'\n",
       "\\item 'Umi'\n",
       "\\item 'Ume'\n",
       "\\item 'Urenna'\n",
       "\\item 'Uriel'\n",
       "\\item 'Urijah'\n",
       "\\item 'Uyen'\n",
       "\\end{enumerate*}\n"
      ],
      "text/markdown": [
       "1. 'Unique'\n",
       "2. 'Uma'\n",
       "3. 'Unknown'\n",
       "4. 'Una'\n",
       "5. 'Uriah'\n",
       "6. 'Ursula'\n",
       "7. 'Unity'\n",
       "8. 'Umaiza'\n",
       "9. 'Urvi'\n",
       "10. 'Ulyana'\n",
       "11. 'Ula'\n",
       "12. 'Udy'\n",
       "13. 'Urwa'\n",
       "14. 'Ulani'\n",
       "15. 'Umaima'\n",
       "16. 'Umme'\n",
       "17. 'Ugochi'\n",
       "18. 'Ulyssa'\n",
       "19. 'Umika'\n",
       "20. 'Uriyah'\n",
       "21. 'Ubah'\n",
       "22. 'Umaira'\n",
       "23. 'Umi'\n",
       "24. 'Ume'\n",
       "25. 'Urenna'\n",
       "26. 'Uriel'\n",
       "27. 'Urijah'\n",
       "28. 'Uyen'\n",
       "\n",
       "\n"
      ],
      "text/plain": [
       " [1] \"Unique\"  \"Uma\"     \"Unknown\" \"Una\"     \"Uriah\"   \"Ursula\"  \"Unity\"  \n",
       " [8] \"Umaiza\"  \"Urvi\"    \"Ulyana\"  \"Ula\"     \"Udy\"     \"Urwa\"    \"Ulani\"  \n",
       "[15] \"Umaima\"  \"Umme\"    \"Ugochi\"  \"Ulyssa\"  \"Umika\"   \"Uriyah\"  \"Ubah\"   \n",
       "[22] \"Umaira\"  \"Umi\"     \"Ume\"     \"Urenna\"  \"Uriel\"   \"Urijah\"  \"Uyen\"   "
      ]
     },
     "metadata": {},
     "output_type": "display_data"
    },
    {
     "data": {
      "text/html": [
       "'Umaiza'"
      ],
      "text/latex": [
       "'Umaiza'"
      ],
      "text/markdown": [
       "'Umaiza'"
      ],
      "text/plain": [
       "[1] \"Umaiza\""
      ]
     },
     "metadata": {},
     "output_type": "display_data"
    }
   ],
   "source": [
    "# Find boy_names that contain \"zz\"\n",
    "str_subset(boy_names, \"zz\")\n",
    "\n",
    "# Find girl_names that contain \"zz\"\n",
    "str_subset(girl_names, \"zz\")\n",
    "\n",
    "# Find girl_names that contain \"U\"\n",
    "starts_U <- str_subset(girl_names, \"U\")\n",
    "starts_U\n",
    "\n",
    "# Find girl_names that contain \"U\" and \"z\"\n",
    "str_subset(starts_U, \"z\")"
   ]
  },
  {
   "cell_type": "markdown",
   "metadata": {},
   "source": [
    "### Counting matches\n",
    "Another stringr function that takes a vector of strings and a pattern is str_count(). str_count() answers the question \"How many times does the pattern occur in each string?\". It always returns an integer vector of the same length as that of the input vector.\n",
    "\n",
    "If you count the occurrences of \"pepper\" in your pizzas, you'll find no occurrences in the first, and one each in the second and third,\n",
    "\n",
    "pizzas <- c(\"cheese\", \"pepperoni\", \n",
    "  \"sausage and green peppers\")\n",
    "str_count(pizzas, pattern = fixed(\"pepper\"))\n",
    "Perhaps a little more interesting is to count how many \"e\"s occur in each order\n",
    "\n",
    "str_count(pizzas, pattern = fixed(\"e\"))\n",
    "You'll use str_count() to find some names with lots of repeated letters."
   ]
  },
  {
   "cell_type": "code",
   "execution_count": 11,
   "metadata": {},
   "outputs": [
    {
     "data": {
      "image/png": "[encoded data removed]",
      "text/plain": [
       "Plot with title \"Histogram of number_as\""
      ]
     },
     "metadata": {},
     "output_type": "display_data"
    },
    {
     "data": {
      "text/html": [
       "'Aaradhana'"
      ],
      "text/latex": [
       "'Aaradhana'"
      ],
      "text/markdown": [
       "'Aaradhana'"
      ],
      "text/plain": [
       "[1] \"Aaradhana\""
      ]
     },
     "metadata": {},
     "output_type": "display_data"
    },
    {
     "data": {
      "image/png": "[encoded data removed]",
      "text/plain": [
       "Plot with title \"Histogram of number_As\""
      ]
     },
     "metadata": {},
     "output_type": "display_data"
    }
   ],
   "source": [
    "# Count occurrences of \"a\" in girl_names\n",
    "number_as <- str_count(girl_names, \"a\")\n",
    "\n",
    "# Count occurrences of \"A\" in girl_names\n",
    "number_As <- str_count(girl_names, \"A\")\n",
    "\n",
    "# Histograms of number_as and number_As\n",
    "hist(number_as)\n",
    "hist(number_As)\n",
    "\n",
    "# Find total \"a\" + \"A\"\n",
    "total_as <- number_as + number_As\n",
    "\n",
    "# girl_names with more than 4 a's\n",
    "girl_names[total_as > 4]\n"
   ]
  },
  {
   "cell_type": "markdown",
   "metadata": {},
   "source": [
    "### Parsing strings into variables\n",
    "A common use for str_split() is to pull apart raw string data into more useful variables. In this exercise you'll start by pulling apart a date range, something like \"23.01.2017 - 29.01.2017\", into separate variables for the start of the range, \"23.01.2017\", and the end of the range, \"29.01.2017\".\n",
    "\n",
    "Remember, if the simplify argument is FALSE (the default) you'll get back a list of the same length as that of the input vector. More commonly, you'll want to pull out the first piece (or second piece etc.) from every element, which is easier if you specify simplify = TRUE and get a matrix as output. You'll explore both of these output types in this exercise."
   ]
  },
  {
   "cell_type": "code",
   "execution_count": 12,
   "metadata": {},
   "outputs": [
    {
     "data": {
      "text/html": [
       "<ol>\n",
       "\t<li><ol class=list-inline>\n",
       "\t<li>'23.01.2017'</li>\n",
       "\t<li>'29.01.2017'</li>\n",
       "</ol>\n",
       "</li>\n",
       "\t<li><ol class=list-inline>\n",
       "\t<li>'30.01.2017'</li>\n",
       "\t<li>'06.02.2017'</li>\n",
       "</ol>\n",
       "</li>\n",
       "</ol>\n"
      ],
      "text/latex": [
       "\\begin{enumerate}\n",
       "\\item \\begin{enumerate*}\n",
       "\\item '23.01.2017'\n",
       "\\item '29.01.2017'\n",
       "\\end{enumerate*}\n",
       "\n",
       "\\item \\begin{enumerate*}\n",
       "\\item '30.01.2017'\n",
       "\\item '06.02.2017'\n",
       "\\end{enumerate*}\n",
       "\n",
       "\\end{enumerate}\n"
      ],
      "text/markdown": [
       "1. 1. '23.01.2017'\n",
       "2. '29.01.2017'\n",
       "\n",
       "\n",
       "\n",
       "2. 1. '30.01.2017'\n",
       "2. '06.02.2017'\n",
       "\n",
       "\n",
       "\n",
       "\n",
       "\n"
      ],
      "text/plain": [
       "[[1]]\n",
       "[1] \"23.01.2017\" \"29.01.2017\"\n",
       "\n",
       "[[2]]\n",
       "[1] \"30.01.2017\" \"06.02.2017\"\n"
      ]
     },
     "metadata": {},
     "output_type": "display_data"
    }
   ],
   "source": [
    "# Split date_ranges using \" - \" as a pattern, assign this to split_dates. \n",
    "# Don't forget to wrap the pattern in fixed(). Print split_dates. The result is a list with two elements, \n",
    "# since date_ranges was a vector of length two.\n",
    "\n",
    "# Some date data\n",
    "date_ranges <- c(\"23.01.2017 - 29.01.2017\", \"30.01.2017 - 06.02.2017\")\n",
    "\n",
    "# Split dates using \" - \"\n",
    "split_dates <- str_split(date_ranges, \" - \")\n",
    "split_dates"
   ]
  },
  {
   "cell_type": "code",
   "execution_count": 13,
   "metadata": {},
   "outputs": [
    {
     "data": {
      "text/html": [
       "<table>\n",
       "<tbody>\n",
       "\t<tr><td>23.01.2017</td><td>29.01.2017</td></tr>\n",
       "\t<tr><td>30.01.2017</td><td>06.02.2017</td></tr>\n",
       "</tbody>\n",
       "</table>\n"
      ],
      "text/latex": [
       "\\begin{tabular}{ll}\n",
       "\t 23.01.2017 & 29.01.2017\\\\\n",
       "\t 30.01.2017 & 06.02.2017\\\\\n",
       "\\end{tabular}\n"
      ],
      "text/markdown": [
       "\n",
       "| 23.01.2017 | 29.01.2017 |\n",
       "| 30.01.2017 | 06.02.2017 |\n",
       "\n"
      ],
      "text/plain": [
       "     [,1]       [,2]      \n",
       "[1,] 23.01.2017 29.01.2017\n",
       "[2,] 30.01.2017 06.02.2017"
      ]
     },
     "metadata": {},
     "output_type": "display_data"
    }
   ],
   "source": [
    "# Now, split date_ranges again, but specify simplify = TRUE and n = 2. Print the result to see the difference. \n",
    "# Now we get a matrix back, where each row corresponds to an element of date_ranges.\n",
    "\n",
    "# Some date data\n",
    "date_ranges <- c(\"23.01.2017 - 29.01.2017\", \"30.01.2017 - 06.02.2017\")\n",
    "\n",
    "# Split dates with n and simplify specified\n",
    "split_dates_n <- str_split(date_ranges, \" - \", n = 2, simplify = TRUE)\n",
    "split_dates_n"
   ]
  },
  {
   "cell_type": "code",
   "execution_count": 14,
   "metadata": {},
   "outputs": [
    {
     "data": {
      "text/html": [
       "<table>\n",
       "<tbody>\n",
       "\t<tr><td>23  </td><td>01  </td><td>2017</td></tr>\n",
       "\t<tr><td>30  </td><td>01  </td><td>2017</td></tr>\n",
       "</tbody>\n",
       "</table>\n"
      ],
      "text/latex": [
       "\\begin{tabular}{lll}\n",
       "\t 23   & 01   & 2017\\\\\n",
       "\t 30   & 01   & 2017\\\\\n",
       "\\end{tabular}\n"
      ],
      "text/markdown": [
       "\n",
       "| 23   | 01   | 2017 |\n",
       "| 30   | 01   | 2017 |\n",
       "\n"
      ],
      "text/plain": [
       "     [,1] [,2] [,3]\n",
       "[1,] 23   01   2017\n",
       "[2,] 30   01   2017"
      ]
     },
     "metadata": {},
     "output_type": "display_data"
    }
   ],
   "source": [
    "# Pull out the first column of split_dates_n into start_dates.\n",
    "# Split start_dates into its day, month and year components. You are aiming for a three column matrix as the result.\n",
    "\n",
    "# From previous step\n",
    "date_ranges <- c(\"23.01.2017 - 29.01.2017\", \"30.01.2017 - 06.02.2017\")\n",
    "split_dates_n <- str_split(date_ranges, fixed(\" - \"), n = 2, simplify = TRUE)\n",
    "\n",
    "# Subset split_dates_n into start_dates and end_dates\n",
    "start_dates <- split_dates_n[, 1]\n",
    "\n",
    "# Split start_dates into day, month and year pieces\n",
    "str_split(start_dates, fixed(\".\"), n = 3, simplify = TRUE)"
   ]
  },
  {
   "cell_type": "code",
   "execution_count": 16,
   "metadata": {},
   "outputs": [
    {
     "data": {
      "text/html": [
       "<ol class=list-inline>\n",
       "\t<li>'George Box'</li>\n",
       "\t<li>'David Cox'</li>\n",
       "</ol>\n"
      ],
      "text/latex": [
       "\\begin{enumerate*}\n",
       "\\item 'George Box'\n",
       "\\item 'David Cox'\n",
       "\\end{enumerate*}\n"
      ],
      "text/markdown": [
       "1. 'George Box'\n",
       "2. 'David Cox'\n",
       "\n",
       "\n"
      ],
      "text/plain": [
       "[1] \"George Box\" \"David Cox\" "
      ]
     },
     "metadata": {},
     "output_type": "display_data"
    }
   ],
   "source": [
    "# Now you're on your own. We've provided the both_names vector, listing a couple of famous statisticians. \n",
    "# Your job is to pull out the first names and last names into separate vectors. \n",
    "# You'll need to use an intermediate variable, both_names_split.\n",
    "\n",
    "both_names <- c(\"Box, George\", \"Cox, David\")\n",
    "\n",
    "# Split both_names into first_names and last_names\n",
    "both_names_split <- str_split(both_names, \", \", n = 2, simplify = TRUE)\n",
    "\n",
    "# Get first names\n",
    "first_names <- both_names_split[, 2]\n",
    "\n",
    "# Get last names\n",
    "last_names <- both_names_split[, 1]\n",
    "\n",
    "# paste first names with last names\n",
    "names <- paste(first_names, last_names)\n",
    "names"
   ]
  },
  {
   "cell_type": "markdown",
   "metadata": {},
   "source": [
    "### Some simple text statistics\n",
    "Generally, specifying simplify = TRUE will give you output that is easier to work with, but you'll always get n pieces (even if some are empty, \"\").\n",
    "\n",
    "Sometimes, you want to know how many pieces a string can be split into, or you want to do something with every piece before moving to a simpler structure. This is a situation where you don't want to simplify and you'll have to process the output with something like lapply().\n",
    "\n",
    "As an example, you'll be performing some simple text statistics on your lines from Alice's Adventures in Wonderland from Chapter 1. Your goal will be to calculate how many words are in each line, and the average length of words in each line.\n",
    "\n",
    "To do these calculations, you'll need to split the lines into words. One way to break a sentence into words is to split on an empty space \" \". This is a little naive because, for example, it wouldn't pick up words separated by a newline escape sequence like in \"two\\nwords\", but since this situation doesn't occur in your lines, it will do."
   ]
  },
  {
   "cell_type": "code",
   "execution_count": 21,
   "metadata": {},
   "outputs": [
    {
     "data": {
      "text/html": [
       "<ol>\n",
       "\t<li>18</li>\n",
       "\t<li>12</li>\n",
       "\t<li>21</li>\n",
       "</ol>\n"
      ],
      "text/latex": [
       "\\begin{enumerate}\n",
       "\\item 18\n",
       "\\item 12\n",
       "\\item 21\n",
       "\\end{enumerate}\n"
      ],
      "text/markdown": [
       "1. 18\n",
       "2. 12\n",
       "3. 21\n",
       "\n",
       "\n"
      ],
      "text/plain": [
       "[[1]]\n",
       "[1] 18\n",
       "\n",
       "[[2]]\n",
       "[1] 12\n",
       "\n",
       "[[3]]\n",
       "[1] 21\n"
      ]
     },
     "metadata": {},
     "output_type": "display_data"
    },
    {
     "data": {
      "text/html": [
       "<ol>\n",
       "\t<li>3.88888888888889</li>\n",
       "\t<li>4.25</li>\n",
       "\t<li>4.38095238095238</li>\n",
       "</ol>\n"
      ],
      "text/latex": [
       "\\begin{enumerate}\n",
       "\\item 3.88888888888889\n",
       "\\item 4.25\n",
       "\\item 4.38095238095238\n",
       "\\end{enumerate}\n"
      ],
      "text/markdown": [
       "1. 3.88888888888889\n",
       "2. 4.25\n",
       "3. 4.38095238095238\n",
       "\n",
       "\n"
      ],
      "text/plain": [
       "[[1]]\n",
       "[1] 3.888889\n",
       "\n",
       "[[2]]\n",
       "[1] 4.25\n",
       "\n",
       "[[3]]\n",
       "[1] 4.380952\n"
      ]
     },
     "metadata": {},
     "output_type": "display_data"
    }
   ],
   "source": [
    "lines =  c(\"The table was a large one, but the three were all crowded together at one corner of it:\",                                   \n",
    "              \"\\\"No room! No room!\\\" they cried out when they saw Alice coming.\", \n",
    "              \"\\\"There’s plenty of room!\\\" said Alice indignantly, and she sat down in a large arm-chair at one end of the table.\")\n",
    "\n",
    "# Split lines into words\n",
    "words <- str_split(lines, \"\\ \")\n",
    "\n",
    "# Number of words per line\n",
    "lapply(words, length)\n",
    "  \n",
    "# Number of characters in each word\n",
    "word_lengths <- lapply(words, str_length)\n",
    "  \n",
    "# Average word length per line\n",
    "lapply(word_lengths, mean)\n"
   ]
  },
  {
   "cell_type": "markdown",
   "metadata": {},
   "source": [
    "### Replacing to tidy strings\n",
    "You've seen one common strategy to pull variables out of strings is to split the string based on a pattern. Sometimes, it's easier to just replace the parts you don't want with an empty string \"\". This is also a common strategy to clean strings up, for example, to remove unwanted punctuation or white space.\n",
    "\n",
    "In this exercise you'll pull out some numbers by replacing the part of the string that isn't a number, you'll also play with the format of some phone numbers. Pay close attention to the difference between str_replace() and str_replace_all()."
   ]
  },
  {
   "cell_type": "code",
   "execution_count": 22,
   "metadata": {},
   "outputs": [],
   "source": [
    "# Some IDs\n",
    "ids <- c(\"ID#: 192\", \"ID#: 118\", \"ID#: 001\")\n",
    "\n",
    "# Replace \"ID#: \" with \"\"\n",
    "id_nums <- str_replace(ids, pattern = \"ID#: \", replacement = \"\")\n",
    "\n",
    "# Turn id_nums into numbers\n",
    "id_ints <- as.numeric(id_nums)"
   ]
  },
  {
   "cell_type": "code",
   "execution_count": 23,
   "metadata": {},
   "outputs": [
    {
     "data": {
      "text/html": [
       "<ol class=list-inline>\n",
       "\t<li>'510 555-0123'</li>\n",
       "\t<li>'541 555-0167'</li>\n",
       "</ol>\n"
      ],
      "text/latex": [
       "\\begin{enumerate*}\n",
       "\\item '510 555-0123'\n",
       "\\item '541 555-0167'\n",
       "\\end{enumerate*}\n"
      ],
      "text/markdown": [
       "1. '510 555-0123'\n",
       "2. '541 555-0167'\n",
       "\n",
       "\n"
      ],
      "text/plain": [
       "[1] \"510 555-0123\" \"541 555-0167\""
      ]
     },
     "metadata": {},
     "output_type": "display_data"
    },
    {
     "data": {
      "text/html": [
       "<ol class=list-inline>\n",
       "\t<li>'510 555 0123'</li>\n",
       "\t<li>'541 555 0167'</li>\n",
       "</ol>\n"
      ],
      "text/latex": [
       "\\begin{enumerate*}\n",
       "\\item '510 555 0123'\n",
       "\\item '541 555 0167'\n",
       "\\end{enumerate*}\n"
      ],
      "text/markdown": [
       "1. '510 555 0123'\n",
       "2. '541 555 0167'\n",
       "\n",
       "\n"
      ],
      "text/plain": [
       "[1] \"510 555 0123\" \"541 555 0167\""
      ]
     },
     "metadata": {},
     "output_type": "display_data"
    },
    {
     "data": {
      "text/html": [
       "<ol class=list-inline>\n",
       "\t<li>'510.555.0123'</li>\n",
       "\t<li>'541.555.0167'</li>\n",
       "</ol>\n"
      ],
      "text/latex": [
       "\\begin{enumerate*}\n",
       "\\item '510.555.0123'\n",
       "\\item '541.555.0167'\n",
       "\\end{enumerate*}\n"
      ],
      "text/markdown": [
       "1. '510.555.0123'\n",
       "2. '541.555.0167'\n",
       "\n",
       "\n"
      ],
      "text/plain": [
       "[1] \"510.555.0123\" \"541.555.0167\""
      ]
     },
     "metadata": {},
     "output_type": "display_data"
    }
   ],
   "source": [
    "# Some (fake) phone numbers\n",
    "phone_numbers <- c(\"510-555-0123\", \"541-555-0167\")\n",
    "\n",
    "# Use str_replace() to replace \"-\" with \" \". Take a close look at the output, are there still some \"-\"s?\n",
    "str_replace(phone_numbers, pattern = \"-\", replacement = \" \")\n",
    "\n",
    "# Use str_replace_all() to replace \"-\" with \" \". Notice the difference, all the \"-\"s are replaced!\n",
    "str_replace_all(phone_numbers, pattern = \"-\", replacement = \" \")\n",
    "\n",
    "# Turn phone numbers into the format xxx.xxx.xxxx\n",
    "str_replace_all(phone_numbers, pattern = \"-\", replacement = \".\")"
   ]
  },
  {
   "cell_type": "markdown",
   "metadata": {},
   "source": [
    "### Review\n",
    "You've covered a lot of stringr functions in this chapter:\n",
    "\n",
    "1. str_c()\n",
    "2. str_length()\n",
    "3. str_sub()\n",
    "4. str_detect()\n",
    "5. str_subset()\n",
    "6. str_count()\n",
    "7. str_split()\n",
    "8. str_replace()\n",
    "\n",
    "As a review we've got a few tasks for you to do with some DNA sequences. We've put three sequences, corresponding to three genes, from the genome of Yersinia pestis – the bacteria that causes bubonic plague – into the vector genes.\n",
    "\n",
    "Each string represents a gene, each character a particular nucleotide: Adenine, Cytosine, Guanine or Thymine."
   ]
  },
  {
   "cell_type": "code",
   "execution_count": 29,
   "metadata": {},
   "outputs": [
    {
     "name": "stdout",
     "output_type": "stream",
     "text": [
      "                                                                                                                                                                                                                                                                                                                                                                                                                                                                                                                                                                                                                                                                                                                                                                                                                                                                                                                                                                                                                            YPO0001 \n",
      "                                                                                                                                                                                                                                                                                                                                                                                                                                                                                                                                                                        \"TTAGAGTAAATTAATCCAATCTTTGACCCAAATCTCTGCTGGATCCTCTGGTATTTCATGTTGGATGACGTCAATTTCTAATATTTCACCCAACCGTTGAGCACCTTGTGCGATCAATTGTTGATCCAGTTTTATGATTGCACCGCAGAAAGTGTCATATTCTGAGCTGCCTAAACCAACCGCCCCAAAGCGTACTTGGGATAAATCAGGCTTTTGTTGTTCGATCTGTTCTAATAATGGCTGCAAGTTATCAGGTAGATCCCCGGCACCATGAGTGGATGTCACGATTAACCACAGGCCATTCAGCGTAAGTTCGTCCAACTCTGGGCCATGAAGTATTTCTGTAGAAAACCCAGCTTCTTCTAATTTATCCGCTAAATGTTCAGCAACATATTCAGCACTACCAAGCGTACTGCCACTTATCAACGTTATGTCAGCCAT\" \n",
      "                                                                                                                                                                                                                                                                                                                                                                                                                                                                                                                                                                                                                                                                                                                                                                                                                                                                                                                                                                                                                               asnC \n",
      "                                                                                                                                                                                                                                                                                                                                                                                                                                                                                                                                                   \"TTAAGGAACGATCGTACGCATGATAGGGTTTTGCAGTGATATTAGTGTCTCGGTTGACTGGATCTCATCAATAGTCTGGATTTTGTTGATAAGTACCTGCTGCAATGCATCAATGGATTTACACATCACTTTAATAAATATGCTGTAGTGGCCAGTGGTGTAATAGGCCTCAACCACTTCTTCTAAGCTTTCCAATTTTTTCAAGGCGGAAGGGTAATCTTTGGCACTTTTCAAGATTATGCCAATAAAGCAGCAAACGTCGTAACCCAGTTGTTTTGGGTTAACGTGTACACAAGCTGCGGTAATGATCCCTGCTTGCCGCATCTTTTCTACTCTTACATGAATAGTTCCGGGGCTAACAGCGAGGTTTTTGGCTAATTCAGCATAGGGTGTGCGTGCATTTTCCATTAATGCTTTCAGGATGCTGCGATCGAGATTATCGATCTGATAAATTTCACTCAT\" \n",
      "                                                                                                                                                                                                                                                                                                                                                                                                                                                                                                                                                                                                                                                                                                                                                                                                                                                                                                                                                                                                                               asnA \n",
      "\"ATGAAAAAACAATTTATCCAAAAACAACAACAAATCAGCTTCGTAAAATCATTCTTTTCCCGCCAATTAGAGCAACAACTTGGCTTGATCGAAGTCCAGGCTCCTATTTTGAGCCGTGTGGGTGATGGAACCCAAGATAACCTTTCTGGTTCTGAGAAAGCGGTACAGGTAAAAGTTAAGTCATTGCCGGATTCAACTTTTGAAGTTGTACATTCATTAGCGAAGTGGAAACGTAAAACCTTAGGGCGTTTTGATTTTGGTGCTGACCAAGGGGTGTATACCCATATGAAAGCATTGCGCCCAGATGAAGATCGCCTGAGTGCTATTCATTCTGTATATGTAGATCAGTGGGATTGGGAACGGGTTATGGGGGACGGTGAACGTAACCTGGCTTACCTGAAATCGACTGTTAACAAGATTTATGCAGCGATTAAAGAAACTGAAGCGGCGATCAGTGCTGAGTTTGGTGTGAAGCCTTTCCTGCCGGATCATATTCAGTTTATCCACAGTGAAAGCCTGCGGGCCAGATTCCCTGATTTAGATGCTAAAGGCCGTGAACGTGCAATTGCCAAAGAGTTAGGTGCTGTCTTCCTTATAGGGATTGGTGGCAAATTGGCAGATGGTCAATCCCATGATGTTCGTGCGCCAGATTATGATGATTGGACCTCTCCGAGTGCGGAAGGTTTCTCTGGATTAAACGGCGACATTATTGTCTGGAACCCAATATTGGAAGATGCCTTTGAGATATCTTCTATGGGAATTCGTGTTGATGCCGAAGCTCTTAAGCGTCAGTTAGCCCTGACTGGCGATGAAGACCGCTTGGAACTGGAATGGCATCAATCACTGTTGCGCGGTGAAATGCCACAAACTATCGGGGGAGGTATTGGTCAGTCCCGCTTAGTGATGTTATTGCTGCAGAAACAACATATTGGTCAGGTGCAATGTGGTGTTTGGGGCCCTGAAATCAGCGAGAAAGTTGATGGCCTGCTGTAA\" \n"
     ]
    },
    {
     "data": {
      "text/html": [
       "<ol class=list-inline>\n",
       "\t<li>441</li>\n",
       "\t<li>462</li>\n",
       "\t<li>993</li>\n",
       "</ol>\n"
      ],
      "text/latex": [
       "\\begin{enumerate*}\n",
       "\\item 441\n",
       "\\item 462\n",
       "\\item 993\n",
       "\\end{enumerate*}\n"
      ],
      "text/markdown": [
       "1. 441\n",
       "2. 462\n",
       "3. 993\n",
       "\n",
       "\n"
      ],
      "text/plain": [
       "[1] 441 462 993"
      ]
     },
     "metadata": {},
     "output_type": "display_data"
    },
    {
     "data": {
      "text/html": [
       "<ol class=list-inline>\n",
       "\t<li>118</li>\n",
       "\t<li>117</li>\n",
       "\t<li>267</li>\n",
       "</ol>\n"
      ],
      "text/latex": [
       "\\begin{enumerate*}\n",
       "\\item 118\n",
       "\\item 117\n",
       "\\item 267\n",
       "\\end{enumerate*}\n"
      ],
      "text/markdown": [
       "1. 118\n",
       "2. 117\n",
       "3. 267\n",
       "\n",
       "\n"
      ],
      "text/plain": [
       "[1] 118 117 267"
      ]
     },
     "metadata": {},
     "output_type": "display_data"
    },
    {
     "data": {
      "text/html": [
       "'TTAAGGAACGATCGTACGCATGATAGGGTTTTGCAGTGATATTAGTGTCTCGGTTGACTGGATCTCATCAATAGTCTGGATTTTGTTGATAAGTACCTGCTGCAATGCATCAATGGATTTACACATCACTTTAATAAATATGCTGTAGTGGCCAGTGGTGTAATAGGCCTCAACCACTTCTTCTAAGCTTTCCAATTTTTTCAAGGCGGAAGGGTAATCTTTGGCACTTTTCAAGATTATGCCAATAAAGCAGCAAACGTCGTAACCCAGTTGTTTTGGGTTAACGTGTACACAAGCTGCGGTAATGATCCCTGCTTGCCGCATCTTTTCTACTCTTACATGAATAGTTCCGGGGCTAACAGCGAGGTTTTTGGCTAATTCAGCATAGGGTGTGCGTGCATTTTCCATTAATGCTTTCAGGATGCTGCGATCGAGATTATCGATCTGATAAATTTCACTCAT'"
      ],
      "text/latex": [
       "'TTAAGGAACGATCGTACGCATGATAGGGTTTTGCAGTGATATTAGTGTCTCGGTTGACTGGATCTCATCAATAGTCTGGATTTTGTTGATAAGTACCTGCTGCAATGCATCAATGGATTTACACATCACTTTAATAAATATGCTGTAGTGGCCAGTGGTGTAATAGGCCTCAACCACTTCTTCTAAGCTTTCCAATTTTTTCAAGGCGGAAGGGTAATCTTTGGCACTTTTCAAGATTATGCCAATAAAGCAGCAAACGTCGTAACCCAGTTGTTTTGGGTTAACGTGTACACAAGCTGCGGTAATGATCCCTGCTTGCCGCATCTTTTCTACTCTTACATGAATAGTTCCGGGGCTAACAGCGAGGTTTTTGGCTAATTCAGCATAGGGTGTGCGTGCATTTTCCATTAATGCTTTCAGGATGCTGCGATCGAGATTATCGATCTGATAAATTTCACTCAT'"
      ],
      "text/markdown": [
       "'TTAAGGAACGATCGTACGCATGATAGGGTTTTGCAGTGATATTAGTGTCTCGGTTGACTGGATCTCATCAATAGTCTGGATTTTGTTGATAAGTACCTGCTGCAATGCATCAATGGATTTACACATCACTTTAATAAATATGCTGTAGTGGCCAGTGGTGTAATAGGCCTCAACCACTTCTTCTAAGCTTTCCAATTTTTTCAAGGCGGAAGGGTAATCTTTGGCACTTTTCAAGATTATGCCAATAAAGCAGCAAACGTCGTAACCCAGTTGTTTTGGGTTAACGTGTACACAAGCTGCGGTAATGATCCCTGCTTGCCGCATCTTTTCTACTCTTACATGAATAGTTCCGGGGCTAACAGCGAGGTTTTTGGCTAATTCAGCATAGGGTGTGCGTGCATTTTCCATTAATGCTTTCAGGATGCTGCGATCGAGATTATCGATCTGATAAATTTCACTCAT'"
      ],
      "text/plain": [
       "[1] \"TTAAGGAACGATCGTACGCATGATAGGGTTTTGCAGTGATATTAGTGTCTCGGTTGACTGGATCTCATCAATAGTCTGGATTTTGTTGATAAGTACCTGCTGCAATGCATCAATGGATTTACACATCACTTTAATAAATATGCTGTAGTGGCCAGTGGTGTAATAGGCCTCAACCACTTCTTCTAAGCTTTCCAATTTTTTCAAGGCGGAAGGGTAATCTTTGGCACTTTTCAAGATTATGCCAATAAAGCAGCAAACGTCGTAACCCAGTTGTTTTGGGTTAACGTGTACACAAGCTGCGGTAATGATCCCTGCTTGCCGCATCTTTTCTACTCTTACATGAATAGTTCCGGGGCTAACAGCGAGGTTTTTGGCTAATTCAGCATAGGGTGTGCGTGCATTTTCCATTAATGCTTTCAGGATGCTGCGATCGAGATTATCGATCTGATAAATTTCACTCAT\""
      ]
     },
     "metadata": {},
     "output_type": "display_data"
    },
    {
     "data": {
      "text/html": [
       "<ol class=list-inline>\n",
       "\t<li>'TT_G_GT___TT__TCC__TCTTTG_CCC___TCTCTGCTGG_TCCTCTGGT_TTTC_TGTTGG_TG_CGTC__TTTCT__T_TTTC_CCC__CCGTTG_GC_CCTTGTGCG_TC__TTGTTG_TCC_GTTTT_TG_TTGC_CCGC_G___GTGTC_T_TTCTG_GCTGCCT___CC__CCGCCCC___GCGT_CTTGGG_T___TC_GGCTTTTGTTGTTCG_TCTGTTCT__T__TGGCTGC__GTT_TC_GGT_G_TCCCCGGC_CC_TG_GTGG_TGTC_CG_TT__CC_C_GGCC_TTC_GCGT__GTTCGTCC__CTCTGGGCC_TG__GT_TTTCTGT_G____CCC_GCTTCTTCT__TTT_TCCGCT___TGTTC_GC__C_T_TTC_GC_CT_CC__GCGT_CTGCC_CTT_TC__CGTT_TGTC_GCC_T'</li>\n",
       "\t<li>'TT__GG__CG_TCGT_CGC_TG_T_GGGTTTTGC_GTG_T_TT_GTGTCTCGGTTG_CTGG_TCTC_TC__T_GTCTGG_TTTTGTTG_T__GT_CCTGCTGC__TGC_TC__TGG_TTT_C_C_TC_CTTT__T___T_TGCTGT_GTGGCC_GTGGTGT__T_GGCCTC__CC_CTTCTTCT__GCTTTCC__TTTTTTC__GGCGG__GGGT__TCTTTGGC_CTTTTC__G_TT_TGCC__T___GC_GC___CGTCGT__CCC_GTTGTTTTGGGTT__CGTGT_C_C__GCTGCGGT__TG_TCCCTGCTTGCCGC_TCTTTTCT_CTCTT_C_TG__T_GTTCCGGGGCT__C_GCG_GGTTTTTGGCT__TTC_GC_T_GGGTGTGCGTGC_TTTTCC_TT__TGCTTTC_GG_TGCTGCG_TCG_G_TT_TCG_TCTG_T___TTTC_CTC_T'</li>\n",
       "\t<li>'_TG______C__TTT_TCC_____C__C__C___TC_GCTTCGT____TC_TTCTTTTCCCGCC__TT_G_GC__C__CTTGGCTTG_TCG__GTCC_GGCTCCT_TTTTG_GCCGTGTGGGTG_TGG__CCC__G_T__CCTTTCTGGTTCTG_G___GCGGT_C_GGT____GTT__GTC_TTGCCGG_TTC__CTTTTG__GTTGT_C_TTC_TT_GCG__GTGG___CGT____CCTT_GGGCGTTTTG_TTTTGGTGCTG_CC__GGGGTGT_T_CCC_T_TG___GC_TTGCGCCC_G_TG__G_TCGCCTG_GTGCT_TTC_TTCTGT_T_TGT_G_TC_GTGGG_TTGGG__CGGGTT_TGGGGG_CGGTG__CGT__CCTGGCTT_CCTG___TCG_CTGTT__C__G_TTT_TGC_GCG_TT___G___CTG__GCGGCG_TC_GTGCTG_GTTTGGTGTG__GCCTTTCCTGCCGG_TC_T_TTC_GTTT_TCC_C_GTG___GCCTGCGGGCC_G_TTCCCTG_TTT_G_TGCT___GGCCGTG__CGTGC__TTGCC___G_GTT_GGTGCTGTCTTCCTT_T_GGG_TTGGTGGC___TTGGC_G_TGGTC__TCCC_TG_TGTTCGTGCGCC_G_TT_TG_TG_TTGG_CCTCTCCG_GTGCGG__GGTTTCTCTGG_TT___CGGCG_C_TT_TTGTCTGG__CCC__T_TTGG__G_TGCCTTTG_G_T_TCTTCT_TGGG__TTCGTGTTG_TGCCG__GCTCTT__GCGTC_GTT_GCCCTG_CTGGCG_TG__G_CCGCTTGG__CTGG__TGGC_TC__TC_CTGTTGCGCGGTG___TGCC_C___CT_TCGGGGG_GGT_TTGGTC_GTCCCGCTT_GTG_TGTT_TTGCTGC_G___C__C_T_TTGGTC_GGTGC__TGTGGTGTTTGGGGCCCTG___TC_GCG_G___GTTG_TGGCCTGCTGT__'</li>\n",
       "</ol>\n"
      ],
      "text/latex": [
       "\\begin{enumerate*}\n",
       "\\item 'TT\\_G\\_GT\\_\\_\\_TT\\_\\_TCC\\_\\_TCTTTG\\_CCC\\_\\_\\_TCTCTGCTGG\\_TCCTCTGGT\\_TTTC\\_TGTTGG\\_TG\\_CGTC\\_\\_TTTCT\\_\\_T\\_TTTC\\_CCC\\_\\_CCGTTG\\_GC\\_CCTTGTGCG\\_TC\\_\\_TTGTTG\\_TCC\\_GTTTT\\_TG\\_TTGC\\_CCGC\\_G\\_\\_\\_GTGTC\\_T\\_TTCTG\\_GCTGCCT\\_\\_\\_CC\\_\\_CCGCCCC\\_\\_\\_GCGT\\_CTTGGG\\_T\\_\\_\\_TC\\_GGCTTTTGTTGTTCG\\_TCTGTTCT\\_\\_T\\_\\_TGGCTGC\\_\\_GTT\\_TC\\_GGT\\_G\\_TCCCCGGC\\_CC\\_TG\\_GTGG\\_TGTC\\_CG\\_TT\\_\\_CC\\_C\\_GGCC\\_TTC\\_GCGT\\_\\_GTTCGTCC\\_\\_CTCTGGGCC\\_TG\\_\\_GT\\_TTTCTGT\\_G\\_\\_\\_\\_CCC\\_GCTTCTTCT\\_\\_TTT\\_TCCGCT\\_\\_\\_TGTTC\\_GC\\_\\_C\\_T\\_TTC\\_GC\\_CT\\_CC\\_\\_GCGT\\_CTGCC\\_CTT\\_TC\\_\\_CGTT\\_TGTC\\_GCC\\_T'\n",
       "\\item 'TT\\_\\_GG\\_\\_CG\\_TCGT\\_CGC\\_TG\\_T\\_GGGTTTTGC\\_GTG\\_T\\_TT\\_GTGTCTCGGTTG\\_CTGG\\_TCTC\\_TC\\_\\_T\\_GTCTGG\\_TTTTGTTG\\_T\\_\\_GT\\_CCTGCTGC\\_\\_TGC\\_TC\\_\\_TGG\\_TTT\\_C\\_C\\_TC\\_CTTT\\_\\_T\\_\\_\\_T\\_TGCTGT\\_GTGGCC\\_GTGGTGT\\_\\_T\\_GGCCTC\\_\\_CC\\_CTTCTTCT\\_\\_GCTTTCC\\_\\_TTTTTTC\\_\\_GGCGG\\_\\_GGGT\\_\\_TCTTTGGC\\_CTTTTC\\_\\_G\\_TT\\_TGCC\\_\\_T\\_\\_\\_GC\\_GC\\_\\_\\_CGTCGT\\_\\_CCC\\_GTTGTTTTGGGTT\\_\\_CGTGT\\_C\\_C\\_\\_GCTGCGGT\\_\\_TG\\_TCCCTGCTTGCCGC\\_TCTTTTCT\\_CTCTT\\_C\\_TG\\_\\_T\\_GTTCCGGGGCT\\_\\_C\\_GCG\\_GGTTTTTGGCT\\_\\_TTC\\_GC\\_T\\_GGGTGTGCGTGC\\_TTTTCC\\_TT\\_\\_TGCTTTC\\_GG\\_TGCTGCG\\_TCG\\_G\\_TT\\_TCG\\_TCTG\\_T\\_\\_\\_TTTC\\_CTC\\_T'\n",
       "\\item '\\_TG\\_\\_\\_\\_\\_\\_C\\_\\_TTT\\_TCC\\_\\_\\_\\_\\_C\\_\\_C\\_\\_C\\_\\_\\_TC\\_GCTTCGT\\_\\_\\_\\_TC\\_TTCTTTTCCCGCC\\_\\_TT\\_G\\_GC\\_\\_C\\_\\_CTTGGCTTG\\_TCG\\_\\_GTCC\\_GGCTCCT\\_TTTTG\\_GCCGTGTGGGTG\\_TGG\\_\\_CCC\\_\\_G\\_T\\_\\_CCTTTCTGGTTCTG\\_G\\_\\_\\_GCGGT\\_C\\_GGT\\_\\_\\_\\_GTT\\_\\_GTC\\_TTGCCGG\\_TTC\\_\\_CTTTTG\\_\\_GTTGT\\_C\\_TTC\\_TT\\_GCG\\_\\_GTGG\\_\\_\\_CGT\\_\\_\\_\\_CCTT\\_GGGCGTTTTG\\_TTTTGGTGCTG\\_CC\\_\\_GGGGTGT\\_T\\_CCC\\_T\\_TG\\_\\_\\_GC\\_TTGCGCCC\\_G\\_TG\\_\\_G\\_TCGCCTG\\_GTGCT\\_TTC\\_TTCTGT\\_T\\_TGT\\_G\\_TC\\_GTGGG\\_TTGGG\\_\\_CGGGTT\\_TGGGGG\\_CGGTG\\_\\_CGT\\_\\_CCTGGCTT\\_CCTG\\_\\_\\_TCG\\_CTGTT\\_\\_C\\_\\_G\\_TTT\\_TGC\\_GCG\\_TT\\_\\_\\_G\\_\\_\\_CTG\\_\\_GCGGCG\\_TC\\_GTGCTG\\_GTTTGGTGTG\\_\\_GCCTTTCCTGCCGG\\_TC\\_T\\_TTC\\_GTTT\\_TCC\\_C\\_GTG\\_\\_\\_GCCTGCGGGCC\\_G\\_TTCCCTG\\_TTT\\_G\\_TGCT\\_\\_\\_GGCCGTG\\_\\_CGTGC\\_\\_TTGCC\\_\\_\\_G\\_GTT\\_GGTGCTGTCTTCCTT\\_T\\_GGG\\_TTGGTGGC\\_\\_\\_TTGGC\\_G\\_TGGTC\\_\\_TCCC\\_TG\\_TGTTCGTGCGCC\\_G\\_TT\\_TG\\_TG\\_TTGG\\_CCTCTCCG\\_GTGCGG\\_\\_GGTTTCTCTGG\\_TT\\_\\_\\_CGGCG\\_C\\_TT\\_TTGTCTGG\\_\\_CCC\\_\\_T\\_TTGG\\_\\_G\\_TGCCTTTG\\_G\\_T\\_TCTTCT\\_TGGG\\_\\_TTCGTGTTG\\_TGCCG\\_\\_GCTCTT\\_\\_GCGTC\\_GTT\\_GCCCTG\\_CTGGCG\\_TG\\_\\_G\\_CCGCTTGG\\_\\_CTGG\\_\\_TGGC\\_TC\\_\\_TC\\_CTGTTGCGCGGTG\\_\\_\\_TGCC\\_C\\_\\_\\_CT\\_TCGGGGG\\_GGT\\_TTGGTC\\_GTCCCGCTT\\_GTG\\_TGTT\\_TTGCTGC\\_G\\_\\_\\_C\\_\\_C\\_T\\_TTGGTC\\_GGTGC\\_\\_TGTGGTGTTTGGGGCCCTG\\_\\_\\_TC\\_GCG\\_G\\_\\_\\_GTTG\\_TGGCCTGCTGT\\_\\_'\n",
       "\\end{enumerate*}\n"
      ],
      "text/markdown": [
       "1. 'TT_G_GT___TT__TCC__TCTTTG_CCC___TCTCTGCTGG_TCCTCTGGT_TTTC_TGTTGG_TG_CGTC__TTTCT__T_TTTC_CCC__CCGTTG_GC_CCTTGTGCG_TC__TTGTTG_TCC_GTTTT_TG_TTGC_CCGC_G___GTGTC_T_TTCTG_GCTGCCT___CC__CCGCCCC___GCGT_CTTGGG_T___TC_GGCTTTTGTTGTTCG_TCTGTTCT__T__TGGCTGC__GTT_TC_GGT_G_TCCCCGGC_CC_TG_GTGG_TGTC_CG_TT__CC_C_GGCC_TTC_GCGT__GTTCGTCC__CTCTGGGCC_TG__GT_TTTCTGT_G____CCC_GCTTCTTCT__TTT_TCCGCT___TGTTC_GC__C_T_TTC_GC_CT_CC__GCGT_CTGCC_CTT_TC__CGTT_TGTC_GCC_T'\n",
       "2. 'TT__GG__CG_TCGT_CGC_TG_T_GGGTTTTGC_GTG_T_TT_GTGTCTCGGTTG_CTGG_TCTC_TC__T_GTCTGG_TTTTGTTG_T__GT_CCTGCTGC__TGC_TC__TGG_TTT_C_C_TC_CTTT__T___T_TGCTGT_GTGGCC_GTGGTGT__T_GGCCTC__CC_CTTCTTCT__GCTTTCC__TTTTTTC__GGCGG__GGGT__TCTTTGGC_CTTTTC__G_TT_TGCC__T___GC_GC___CGTCGT__CCC_GTTGTTTTGGGTT__CGTGT_C_C__GCTGCGGT__TG_TCCCTGCTTGCCGC_TCTTTTCT_CTCTT_C_TG__T_GTTCCGGGGCT__C_GCG_GGTTTTTGGCT__TTC_GC_T_GGGTGTGCGTGC_TTTTCC_TT__TGCTTTC_GG_TGCTGCG_TCG_G_TT_TCG_TCTG_T___TTTC_CTC_T'\n",
       "3. '_TG______C__TTT_TCC_____C__C__C___TC_GCTTCGT____TC_TTCTTTTCCCGCC__TT_G_GC__C__CTTGGCTTG_TCG__GTCC_GGCTCCT_TTTTG_GCCGTGTGGGTG_TGG__CCC__G_T__CCTTTCTGGTTCTG_G___GCGGT_C_GGT____GTT__GTC_TTGCCGG_TTC__CTTTTG__GTTGT_C_TTC_TT_GCG__GTGG___CGT____CCTT_GGGCGTTTTG_TTTTGGTGCTG_CC__GGGGTGT_T_CCC_T_TG___GC_TTGCGCCC_G_TG__G_TCGCCTG_GTGCT_TTC_TTCTGT_T_TGT_G_TC_GTGGG_TTGGG__CGGGTT_TGGGGG_CGGTG__CGT__CCTGGCTT_CCTG___TCG_CTGTT__C__G_TTT_TGC_GCG_TT___G___CTG__GCGGCG_TC_GTGCTG_GTTTGGTGTG__GCCTTTCCTGCCGG_TC_T_TTC_GTTT_TCC_C_GTG___GCCTGCGGGCC_G_TTCCCTG_TTT_G_TGCT___GGCCGTG__CGTGC__TTGCC___G_GTT_GGTGCTGTCTTCCTT_T_GGG_TTGGTGGC___TTGGC_G_TGGTC__TCCC_TG_TGTTCGTGCGCC_G_TT_TG_TG_TTGG_CCTCTCCG_GTGCGG__GGTTTCTCTGG_TT___CGGCG_C_TT_TTGTCTGG__CCC__T_TTGG__G_TGCCTTTG_G_T_TCTTCT_TGGG__TTCGTGTTG_TGCCG__GCTCTT__GCGTC_GTT_GCCCTG_CTGGCG_TG__G_CCGCTTGG__CTGG__TGGC_TC__TC_CTGTTGCGCGGTG___TGCC_C___CT_TCGGGGG_GGT_TTGGTC_GTCCCGCTT_GTG_TGTT_TTGCTGC_G___C__C_T_TTGGTC_GGTGC__TGTGGTGTTTGGGGCCCTG___TC_GCG_G___GTTG_TGGCCTGCTGT__'\n",
       "\n",
       "\n"
      ],
      "text/plain": [
       "[1] \"TT_G_GT___TT__TCC__TCTTTG_CCC___TCTCTGCTGG_TCCTCTGGT_TTTC_TGTTGG_TG_CGTC__TTTCT__T_TTTC_CCC__CCGTTG_GC_CCTTGTGCG_TC__TTGTTG_TCC_GTTTT_TG_TTGC_CCGC_G___GTGTC_T_TTCTG_GCTGCCT___CC__CCGCCCC___GCGT_CTTGGG_T___TC_GGCTTTTGTTGTTCG_TCTGTTCT__T__TGGCTGC__GTT_TC_GGT_G_TCCCCGGC_CC_TG_GTGG_TGTC_CG_TT__CC_C_GGCC_TTC_GCGT__GTTCGTCC__CTCTGGGCC_TG__GT_TTTCTGT_G____CCC_GCTTCTTCT__TTT_TCCGCT___TGTTC_GC__C_T_TTC_GC_CT_CC__GCGT_CTGCC_CTT_TC__CGTT_TGTC_GCC_T\"                                                                                                                                                                                                                                                                                                                                                                                                                                                                                                                                                                        \n",
       "[2] \"TT__GG__CG_TCGT_CGC_TG_T_GGGTTTTGC_GTG_T_TT_GTGTCTCGGTTG_CTGG_TCTC_TC__T_GTCTGG_TTTTGTTG_T__GT_CCTGCTGC__TGC_TC__TGG_TTT_C_C_TC_CTTT__T___T_TGCTGT_GTGGCC_GTGGTGT__T_GGCCTC__CC_CTTCTTCT__GCTTTCC__TTTTTTC__GGCGG__GGGT__TCTTTGGC_CTTTTC__G_TT_TGCC__T___GC_GC___CGTCGT__CCC_GTTGTTTTGGGTT__CGTGT_C_C__GCTGCGGT__TG_TCCCTGCTTGCCGC_TCTTTTCT_CTCTT_C_TG__T_GTTCCGGGGCT__C_GCG_GGTTTTTGGCT__TTC_GC_T_GGGTGTGCGTGC_TTTTCC_TT__TGCTTTC_GG_TGCTGCG_TCG_G_TT_TCG_TCTG_T___TTTC_CTC_T\"                                                                                                                                                                                                                                                                                                                                                                                                                                                                                                                                                   \n",
       "[3] \"_TG______C__TTT_TCC_____C__C__C___TC_GCTTCGT____TC_TTCTTTTCCCGCC__TT_G_GC__C__CTTGGCTTG_TCG__GTCC_GGCTCCT_TTTTG_GCCGTGTGGGTG_TGG__CCC__G_T__CCTTTCTGGTTCTG_G___GCGGT_C_GGT____GTT__GTC_TTGCCGG_TTC__CTTTTG__GTTGT_C_TTC_TT_GCG__GTGG___CGT____CCTT_GGGCGTTTTG_TTTTGGTGCTG_CC__GGGGTGT_T_CCC_T_TG___GC_TTGCGCCC_G_TG__G_TCGCCTG_GTGCT_TTC_TTCTGT_T_TGT_G_TC_GTGGG_TTGGG__CGGGTT_TGGGGG_CGGTG__CGT__CCTGGCTT_CCTG___TCG_CTGTT__C__G_TTT_TGC_GCG_TT___G___CTG__GCGGCG_TC_GTGCTG_GTTTGGTGTG__GCCTTTCCTGCCGG_TC_T_TTC_GTTT_TCC_C_GTG___GCCTGCGGGCC_G_TTCCCTG_TTT_G_TGCT___GGCCGTG__CGTGC__TTGCC___G_GTT_GGTGCTGTCTTCCTT_T_GGG_TTGGTGGC___TTGGC_G_TGGTC__TCCC_TG_TGTTCGTGCGCC_G_TT_TG_TG_TTGG_CCTCTCCG_GTGCGG__GGTTTCTCTGG_TT___CGGCG_C_TT_TTGTCTGG__CCC__T_TTGG__G_TGCCTTTG_G_T_TCTTCT_TGGG__TTCGTGTTG_TGCCG__GCTCTT__GCGTC_GTT_GCCCTG_CTGGCG_TG__G_CCGCTTGG__CTGG__TGGC_TC__TC_CTGTTGCGCGGTG___TGCC_C___CT_TCGGGGG_GGT_TTGGTC_GTCCCGCTT_GTG_TGTT_TTGCTGC_G___C__C_T_TTGGTC_GGTGC__TGTGGTGTTTGGGGCCCTG___TC_GCG_G___GTTG_TGGCCTGCTGT__\""
      ]
     },
     "metadata": {},
     "output_type": "display_data"
    }
   ],
   "source": [
    "genes <- readRDS(file = \"dna.rds\")\n",
    "print(genes)\n",
    "\n",
    "# Find the number of nucleotides in each sequence\n",
    "str_length(genes)\n",
    "\n",
    "# Find the number of A's occur in each sequence\n",
    "str_count(genes, fixed(\"A\"))\n",
    "\n",
    "# Return the sequences that contain \"TTTTTT\"\n",
    "\n",
    "str_subset(genes, fixed(\"TTTTTT\"))\n",
    "\n",
    "# Replace all the \"A\"s in the sequences with a \"_\"\n",
    "str_replace_all(genes, pattern = fixed(\"A\"), replacement = \"_\")"
   ]
  },
  {
   "cell_type": "markdown",
   "metadata": {},
   "source": [
    "### Final challenges\n",
    "You've mastered using stringr functions on their own, but by combining multiple operations together in sequence you can achieve quite complicated manipulations.\n",
    "\n",
    "As the final exercise we want to expose you to the power of combining operations. You'll complete two tasks:\n",
    "\n",
    "1. You'll turn a vector of full names, like \"Bruce Wayne\", into abbreviated names like \"B. Wayne\". This requires combining   str_split(), str_sub() and str_c().\n",
    "\n",
    "2. You'll compare how many boy names end in \"ee\" compared to girl names. This requires combining str_sub() with str_detect() along with the base function table()."
   ]
  },
  {
   "cell_type": "code",
   "execution_count": 30,
   "metadata": {},
   "outputs": [
    {
     "data": {
      "text/html": [
       "<ol class=list-inline>\n",
       "\t<li>'D. Prince'</li>\n",
       "\t<li>'C. Kent'</li>\n",
       "</ol>\n"
      ],
      "text/latex": [
       "\\begin{enumerate*}\n",
       "\\item 'D. Prince'\n",
       "\\item 'C. Kent'\n",
       "\\end{enumerate*}\n"
      ],
      "text/markdown": [
       "1. 'D. Prince'\n",
       "2. 'C. Kent'\n",
       "\n",
       "\n"
      ],
      "text/plain": [
       "[1] \"D. Prince\" \"C. Kent\"  "
      ]
     },
     "metadata": {},
     "output_type": "display_data"
    }
   ],
   "source": [
    "# Define some full names\n",
    "names <- c(\"Diana Prince\", \"Clark Kent\")\n",
    "\n",
    "# Split into first and last names\n",
    "names_split <- str_split(names, pattern = \" \", simplify = TRUE)\n",
    "\n",
    "# Extract the first letter in the first name\n",
    "abb_first <-str_sub(names_split[,1], 1, 1)\n",
    "\n",
    "# Combine the first letter \". \" and last name\n",
    "str_c(abb_first,\". \", names_split[,2])"
   ]
  },
  {
   "cell_type": "code",
   "execution_count": 33,
   "metadata": {},
   "outputs": [
    {
     "data": {
      "text/plain": [
       "sex\n",
       "  F   M \n",
       "572  84 "
      ]
     },
     "metadata": {},
     "output_type": "display_data"
    }
   ],
   "source": [
    "# Use all names in babynames_2014\n",
    "all_names <- babynames_2014$name\n",
    "\n",
    "# Get the last two letters of all_names\n",
    "last_two_letters <- str_sub(all_names,-2,-1)\n",
    "\n",
    "# Does the name end in \"ee\"?\n",
    "ends_in_ee <- str_detect(last_two_letters, \"ee\")\n",
    "\n",
    "# Extract rows and \"sex\" column\n",
    "sex <- babynames_2014$sex[ends_in_ee]\n",
    "\n",
    "# Display result as a table\n",
    "table(sex)"
   ]
  },
  {
   "cell_type": "code",
   "execution_count": null,
   "metadata": {},
   "outputs": [],
   "source": []
  }
 ],
 "metadata": {
  "kernelspec": {
   "display_name": "R",
   "language": "R",
   "name": "ir"
  },
  "language_info": {
   "codemirror_mode": "r",
   "file_extension": ".r",
   "mimetype": "text/x-r-source",
   "name": "R",
   "pygments_lexer": "r",
   "version": "3.6.1"
  }
 },
 "nbformat": 4,
 "nbformat_minor": 4
}
