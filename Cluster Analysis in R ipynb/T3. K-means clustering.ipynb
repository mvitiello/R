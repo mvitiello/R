{
 "cells": [
  {
   "cell_type": "markdown",
   "metadata": {},
   "source": [
    "## K-means clustering\n",
    "\n",
    "In this chapter, you will build an understanding of the principles behind the k-means algorithm, learn how to select the right k when it isn't previously known, and revisit the wholesale data from a different perspective."
   ]
  },
  {
   "cell_type": "markdown",
   "metadata": {},
   "source": [
    "### K-means on a soccer field\n",
    "In the previous chapter you used the lineup dataset to learn about hierarchical clustering, in this chapter you will use the same data to learn about k-means clustering. As a reminder, the lineup data frame contains the positions of 12 players at the start of a 6v6 soccer match.\n",
    "\n",
    "Just like before, you know that this match has two teams on the field so you can perform a k-means analysis using k = 2 in order to determine which player belongs to which team.\n",
    "\n",
    "Note that in the kmeans() function k is specified using the centers parameter."
   ]
  },
  {
   "cell_type": "code",
   "execution_count": 2,
   "metadata": {},
   "outputs": [
    {
     "data": {
      "image/png": "[encoded data removed]",
      "text/plain": [
       "plot without title"
      ]
     },
     "metadata": {},
     "output_type": "display_data"
    }
   ],
   "source": [
    "library(dplyr)\n",
    "library(ggplot2)\n",
    "\n",
    "lineup <- readRDS(\"lineup.rds\")\n",
    "\n",
    "# Build a kmeans model\n",
    "model_km2 <- kmeans(lineup, centers = 2)\n",
    "\n",
    "# Extract the cluster assignment vector from the kmeans model\n",
    "clust_km2 <- model_km2$cluster\n",
    "\n",
    "# Create a new data frame appending the cluster assignment\n",
    "lineup_km2 <- mutate(lineup, cluster = clust_km2)\n",
    "\n",
    "# Plot the positions of the players and color them using their cluster\n",
    "ggplot(lineup_km2, aes(x = x, y = y, color = factor(cluster))) +\n",
    "  geom_point()"
   ]
  },
  {
   "cell_type": "markdown",
   "metadata": {},
   "source": [
    "### K-means on a soccer field (part 2)\n",
    "In the previous exercise you successfully used the k-means algorithm to cluster the two teams from the lineup data frame. This time, let's explore what happens when you use a k of 3.\n",
    "\n",
    "You will see that the algorithm will still run, but does it actually make sense in this context…"
   ]
  },
  {
   "cell_type": "code",
   "execution_count": 3,
   "metadata": {},
   "outputs": [
    {
     "data": {
      "image/png": "[encoded data removed]",
      "text/plain": [
       "plot without title"
      ]
     },
     "metadata": {},
     "output_type": "display_data"
    }
   ],
   "source": [
    "# Build a kmeans model\n",
    "model_km3 <- kmeans(lineup, centers = 3)\n",
    "\n",
    "# Extract the cluster assignment vector from the kmeans model\n",
    "clust_km3 <- model_km3$cluster\n",
    "\n",
    "# Create a new data frame appending the cluster assignment\n",
    "lineup_km3 <- mutate(lineup, cluster = clust_km3)\n",
    "\n",
    "# Plot the positions of the players and color them using their cluster\n",
    "ggplot(lineup_km3, aes(x = x, y = y, color = factor(cluster))) +\n",
    "  geom_point()"
   ]
  },
  {
   "cell_type": "markdown",
   "metadata": {},
   "source": [
    "### Many K's many models\n",
    "While the lineup dataset clearly has a known value of k, often times the optimal number of clusters isn't known and must be estimated.\n",
    "\n",
    "In this exercise you will leverage map_dbl() from the purrr library to run k-means using values of k ranging from 1 to 10 and extract the total within-cluster sum of squares metric from each one. This will be the first step towards visualizing the elbow plot."
   ]
  },
  {
   "cell_type": "code",
   "execution_count": 5,
   "metadata": {},
   "outputs": [
    {
     "data": {
      "text/html": [
       "<table>\n",
       "<thead><tr><th scope=col>k</th><th scope=col>tot_withinss</th></tr></thead>\n",
       "<tbody>\n",
       "\t<tr><td> 1       </td><td>3489.9167</td></tr>\n",
       "\t<tr><td> 2       </td><td>1434.5000</td></tr>\n",
       "\t<tr><td> 3       </td><td> 940.8333</td></tr>\n",
       "\t<tr><td> 4       </td><td> 622.5000</td></tr>\n",
       "\t<tr><td> 5       </td><td> 496.4167</td></tr>\n",
       "\t<tr><td> 6       </td><td> 387.5000</td></tr>\n",
       "\t<tr><td> 7       </td><td> 171.0000</td></tr>\n",
       "\t<tr><td> 8       </td><td> 134.0000</td></tr>\n",
       "\t<tr><td> 9       </td><td>  59.5000</td></tr>\n",
       "\t<tr><td>10       </td><td>  83.0000</td></tr>\n",
       "</tbody>\n",
       "</table>\n"
      ],
      "text/latex": [
       "\\begin{tabular}{r|ll}\n",
       " k & tot\\_withinss\\\\\n",
       "\\hline\n",
       "\t  1        & 3489.9167\\\\\n",
       "\t  2        & 1434.5000\\\\\n",
       "\t  3        &  940.8333\\\\\n",
       "\t  4        &  622.5000\\\\\n",
       "\t  5        &  496.4167\\\\\n",
       "\t  6        &  387.5000\\\\\n",
       "\t  7        &  171.0000\\\\\n",
       "\t  8        &  134.0000\\\\\n",
       "\t  9        &   59.5000\\\\\n",
       "\t 10        &   83.0000\\\\\n",
       "\\end{tabular}\n"
      ],
      "text/markdown": [
       "\n",
       "| k | tot_withinss |\n",
       "|---|---|\n",
       "|  1        | 3489.9167 |\n",
       "|  2        | 1434.5000 |\n",
       "|  3        |  940.8333 |\n",
       "|  4        |  622.5000 |\n",
       "|  5        |  496.4167 |\n",
       "|  6        |  387.5000 |\n",
       "|  7        |  171.0000 |\n",
       "|  8        |  134.0000 |\n",
       "|  9        |   59.5000 |\n",
       "| 10        |   83.0000 |\n",
       "\n"
      ],
      "text/plain": [
       "   k  tot_withinss\n",
       "1   1 3489.9167   \n",
       "2   2 1434.5000   \n",
       "3   3  940.8333   \n",
       "4   4  622.5000   \n",
       "5   5  496.4167   \n",
       "6   6  387.5000   \n",
       "7   7  171.0000   \n",
       "8   8  134.0000   \n",
       "9   9   59.5000   \n",
       "10 10   83.0000   "
      ]
     },
     "metadata": {},
     "output_type": "display_data"
    }
   ],
   "source": [
    "library(purrr)\n",
    "\n",
    "# Use map_dbl to run many models with varying value of k (centers)\n",
    "tot_withinss <- map_dbl(1:10,  function(k){\n",
    "  model <- kmeans(x = lineup, centers = k)\n",
    "  model$tot.withinss\n",
    "})\n",
    "\n",
    "# Generate a data frame containing both k and tot_withinss\n",
    "elbow_df <- data.frame(\n",
    "  k = 1:10 ,\n",
    "  tot_withinss = tot_withinss\n",
    ")\n",
    "\n",
    "elbow_df"
   ]
  },
  {
   "cell_type": "markdown",
   "metadata": {},
   "source": [
    "### Elbow (Scree) plot\n",
    "In the previous exercises you have calculated the total within-cluster sum of squares for values of k ranging from 1 to 10. You can visualize this relationship using a line plot to create what is known as an elbow plot (or scree plot).\n",
    "\n",
    "When looking at an elbow plot you want to see a sharp decline from one k to another followed by a more gradual decrease in slope. The last value of k before the slope of the plot levels off suggests a \"good\" value of k."
   ]
  },
  {
   "cell_type": "code",
   "execution_count": 6,
   "metadata": {},
   "outputs": [
    {
     "data": {
      "image/png": "[encoded data removed]",
      "text/plain": [
       "plot without title"
      ]
     },
     "metadata": {},
     "output_type": "display_data"
    }
   ],
   "source": [
    "# Plot the elbow plot\n",
    "ggplot(elbow_df, aes(x = k, y = tot_withinss)) +\n",
    "  geom_line() +\n",
    "  scale_x_continuous(breaks = 1:10)"
   ]
  },
  {
   "cell_type": "markdown",
   "metadata": {},
   "source": [
    "### Silhouette analysis\n",
    "Silhouette analysis allows you to calculate how similar each observations is with the cluster it is assigned relative to other clusters. This metric (silhouette width) ranges from -1 to 1 for each observation in your data and can be interpreted as follows:\n",
    "\n",
    "1. Values close to 1 suggest that the observation is well matched to the assigned cluster\n",
    "2. Values close to 0 suggest that the observation is borderline matched between two clusters\n",
    "3. Values close to -1 suggest that the observations may be assigned to the wrong cluster\n",
    "\n",
    "In this exercise you will leverage the pam() and the silhouette() functions from the cluster"
   ]
  },
  {
   "cell_type": "code",
   "execution_count": 7,
   "metadata": {},
   "outputs": [
    {
     "data": {
      "image/png": "[encoded data removed]",
      "text/plain": [
       "Plot with title \"Silhouette plot of pam(x = lineup, k = 2)\""
      ]
     },
     "metadata": {},
     "output_type": "display_data"
    }
   ],
   "source": [
    "library(cluster)\n",
    "\n",
    "# Generate a k-means model using the pam() function with a k = 2\n",
    "pam_k2 <- pam(lineup, k = 2)\n",
    "\n",
    "# Plot the silhouette visual for the pam_k2 model\n",
    "plot(silhouette(pam_k2))"
   ]
  },
  {
   "cell_type": "code",
   "execution_count": 8,
   "metadata": {},
   "outputs": [
    {
     "data": {
      "image/png": "[encoded data removed]",
      "text/plain": [
       "Plot with title \"Silhouette plot of pam(x = lineup, k = 3)\""
      ]
     },
     "metadata": {},
     "output_type": "display_data"
    }
   ],
   "source": [
    "# Generate a k-means model using the pam() function with a k = 3\n",
    "pam_k3 <- pam(lineup, k = 3)\n",
    "\n",
    "# Plot the silhouette visual for the pam_k3 model\n",
    "plot(silhouette(pam_k3))"
   ]
  },
  {
   "cell_type": "code",
   "execution_count": 12,
   "metadata": {},
   "outputs": [
    {
     "data": {
      "text/html": [
       "<table>\n",
       "<thead><tr><th scope=col>k</th><th scope=col>sil_width</th></tr></thead>\n",
       "<tbody>\n",
       "\t<tr><td> 2       </td><td>0.4164141</td></tr>\n",
       "\t<tr><td> 3       </td><td>0.3534140</td></tr>\n",
       "\t<tr><td> 4       </td><td>0.3535534</td></tr>\n",
       "\t<tr><td> 5       </td><td>0.3724115</td></tr>\n",
       "\t<tr><td> 6       </td><td>0.3436130</td></tr>\n",
       "\t<tr><td> 7       </td><td>0.3236397</td></tr>\n",
       "\t<tr><td> 8       </td><td>0.3275222</td></tr>\n",
       "\t<tr><td> 9       </td><td>0.2547311</td></tr>\n",
       "\t<tr><td>10       </td><td>0.2099424</td></tr>\n",
       "</tbody>\n",
       "</table>\n"
      ],
      "text/latex": [
       "\\begin{tabular}{r|ll}\n",
       " k & sil\\_width\\\\\n",
       "\\hline\n",
       "\t  2        & 0.4164141\\\\\n",
       "\t  3        & 0.3534140\\\\\n",
       "\t  4        & 0.3535534\\\\\n",
       "\t  5        & 0.3724115\\\\\n",
       "\t  6        & 0.3436130\\\\\n",
       "\t  7        & 0.3236397\\\\\n",
       "\t  8        & 0.3275222\\\\\n",
       "\t  9        & 0.2547311\\\\\n",
       "\t 10        & 0.2099424\\\\\n",
       "\\end{tabular}\n"
      ],
      "text/markdown": [
       "\n",
       "| k | sil_width |\n",
       "|---|---|\n",
       "|  2        | 0.4164141 |\n",
       "|  3        | 0.3534140 |\n",
       "|  4        | 0.3535534 |\n",
       "|  5        | 0.3724115 |\n",
       "|  6        | 0.3436130 |\n",
       "|  7        | 0.3236397 |\n",
       "|  8        | 0.3275222 |\n",
       "|  9        | 0.2547311 |\n",
       "| 10        | 0.2099424 |\n",
       "\n"
      ],
      "text/plain": [
       "  k  sil_width\n",
       "1  2 0.4164141\n",
       "2  3 0.3534140\n",
       "3  4 0.3535534\n",
       "4  5 0.3724115\n",
       "5  6 0.3436130\n",
       "6  7 0.3236397\n",
       "7  8 0.3275222\n",
       "8  9 0.2547311\n",
       "9 10 0.2099424"
      ]
     },
     "metadata": {},
     "output_type": "display_data"
    },
    {
     "data": {
      "image/png": "[encoded data removed]",
      "text/plain": [
       "plot without title"
      ]
     },
     "metadata": {},
     "output_type": "display_data"
    }
   ],
   "source": [
    "# Use map_dbl to run many models with varying value of k (centers)\n",
    "sil_width <- map_dbl(2:10,  function(k){\n",
    "  model <- pam(x = lineup, k = k)\n",
    "  model$silinfo$avg.width\n",
    "})\n",
    "\n",
    "# Generate a data frame containing both k and silhouette width\n",
    "sil_df <- data.frame(\n",
    "  k = 2:10 ,\n",
    "  sil_width = sil_width\n",
    ")\n",
    "\n",
    "sil_df\n",
    "\n",
    "# Plot the sil_widht plot\n",
    "ggplot(sil_df, aes(x = k, y = sil_width)) +\n",
    "  geom_line() +\n",
    "  scale_x_continuous(breaks = 2:10)\n",
    "\n",
    "# check k = 2 has the highest sil_width, so the \"best\" k"
   ]
  },
  {
   "cell_type": "markdown",
   "metadata": {},
   "source": [
    "### Revisiting wholesale data: \"Best\" k\n",
    "At the end of Chapter 2 you explored wholesale distributor data customers_spend using hierarchical clustering. This time you will analyze this data using the k-means clustering tools covered in this chapter.\n",
    "\n",
    "The first step will be to determine the \"best\" value of k using average silhouette width.\n",
    "\n",
    "A refresher about the data: it contains records of the amount spent by 45 different clients of a wholesale distributor for the food categories of Milk, Grocery & Frozen. This is stored in the data frame customers_spend. For this exercise you can assume that because the data is all of the same type (amount spent) and you will not need to scale it."
   ]
  },
  {
   "cell_type": "code",
   "execution_count": 13,
   "metadata": {},
   "outputs": [
    {
     "data": {
      "image/png": "[encoded data removed]",
      "text/plain": [
       "plot without title"
      ]
     },
     "metadata": {},
     "output_type": "display_data"
    }
   ],
   "source": [
    "customers_spend <- readRDS(\"ws_customers.rds\")\n",
    "\n",
    "# Use map_dbl to run many models with varying value of k\n",
    "sil_width <- map_dbl(2:10,  function(k){\n",
    "  model <- pam(x = customers_spend, k = k)\n",
    "  model$silinfo$avg.width\n",
    "})\n",
    "\n",
    "# Generate a data frame containing both k and sil_width\n",
    "sil_df <- data.frame(\n",
    "  k = 2:10,\n",
    "  sil_width = sil_width\n",
    ")\n",
    "\n",
    "# Plot the relationship between k and sil_width\n",
    "ggplot(sil_df, aes(x = k, y = sil_width)) +\n",
    "  geom_line() +\n",
    "  scale_x_continuous(breaks = 2:10)\n",
    "\n",
    "# From the plot noticed that k = 2 has the highest average sillhouette width and is the “best” value of k."
   ]
  },
  {
   "cell_type": "markdown",
   "metadata": {},
   "source": [
    "### Revisiting wholesale data: Exploration\n",
    "From the previous analysis you have found that k = 2 has the highest average silhouette width. In this exercise you will continue to analyze the wholesale customer data by building and exploring a kmeans model with 2 clusters."
   ]
  },
  {
   "cell_type": "code",
   "execution_count": 20,
   "metadata": {},
   "outputs": [
    {
     "data": {
      "text/html": [
       "<table>\n",
       "<thead><tr><th scope=col>cluster</th><th scope=col>n</th></tr></thead>\n",
       "<tbody>\n",
       "\t<tr><td>1 </td><td>35</td></tr>\n",
       "\t<tr><td>2 </td><td>10</td></tr>\n",
       "</tbody>\n",
       "</table>\n"
      ],
      "text/latex": [
       "\\begin{tabular}{r|ll}\n",
       " cluster & n\\\\\n",
       "\\hline\n",
       "\t 1  & 35\\\\\n",
       "\t 2  & 10\\\\\n",
       "\\end{tabular}\n"
      ],
      "text/markdown": [
       "\n",
       "| cluster | n |\n",
       "|---|---|\n",
       "| 1  | 35 |\n",
       "| 2  | 10 |\n",
       "\n"
      ],
      "text/plain": [
       "  cluster n \n",
       "1 1       35\n",
       "2 2       10"
      ]
     },
     "metadata": {},
     "output_type": "display_data"
    },
    {
     "data": {
      "text/html": [
       "<table>\n",
       "<thead><tr><th scope=col>cluster</th><th scope=col>Milk</th><th scope=col>Grocery</th><th scope=col>Frozen</th></tr></thead>\n",
       "<tbody>\n",
       "\t<tr><td>1        </td><td> 2296.257</td><td> 5004    </td><td>3354.343 </td></tr>\n",
       "\t<tr><td>2        </td><td>13701.100</td><td>17721    </td><td>1173.000 </td></tr>\n",
       "</tbody>\n",
       "</table>\n"
      ],
      "text/latex": [
       "\\begin{tabular}{r|llll}\n",
       " cluster & Milk & Grocery & Frozen\\\\\n",
       "\\hline\n",
       "\t 1         &  2296.257 &  5004     & 3354.343 \\\\\n",
       "\t 2         & 13701.100 & 17721     & 1173.000 \\\\\n",
       "\\end{tabular}\n"
      ],
      "text/markdown": [
       "\n",
       "| cluster | Milk | Grocery | Frozen |\n",
       "|---|---|---|---|\n",
       "| 1         |  2296.257 |  5004     | 3354.343  |\n",
       "| 2         | 13701.100 | 17721     | 1173.000  |\n",
       "\n"
      ],
      "text/plain": [
       "  cluster Milk      Grocery Frozen  \n",
       "1 1        2296.257  5004   3354.343\n",
       "2 2       13701.100 17721   1173.000"
      ]
     },
     "metadata": {},
     "output_type": "display_data"
    }
   ],
   "source": [
    "set.seed(42)\n",
    "\n",
    "# Build a k-means model for the customers_spend with a k of 2\n",
    "model_customers <- kmeans(customers_spend, centers = 2)\n",
    "\n",
    "# Extract the vector of cluster assignments from the model\n",
    "clust_customers <- model_customers$cluster\n",
    "\n",
    "# Build the segment_customers data frame\n",
    "segment_customers <- mutate(customers_spend, cluster = clust_customers)\n",
    "\n",
    "# Calculate the size of each cluster\n",
    "count(segment_customers, cluster)\n",
    "\n",
    "# Calculate the mean for each category\n",
    "segment_customers %>% \n",
    "  group_by(cluster) %>% \n",
    "  summarise_all(list(mean))"
   ]
  },
  {
   "cell_type": "markdown",
   "metadata": {},
   "source": [
    "Did you notice that when you explored this data using hierarchical clustering, the method resulted in 4 clusters while using k-means got you 2. Both of these results are valid, but which one is appropriate for this would require more subject matter expertise. Before you proceed with the next chapter, remember that: Generating clusters is a science, but interpreting them is an art."
   ]
  },
  {
   "cell_type": "code",
   "execution_count": null,
   "metadata": {},
   "outputs": [],
   "source": []
  }
 ],
 "metadata": {
  "kernelspec": {
   "display_name": "R",
   "language": "R",
   "name": "ir"
  },
  "language_info": {
   "codemirror_mode": "r",
   "file_extension": ".r",
   "mimetype": "text/x-r-source",
   "name": "R",
   "pygments_lexer": "r",
   "version": "3.6.1"
  }
 },
 "nbformat": 4,
 "nbformat_minor": 4
}
