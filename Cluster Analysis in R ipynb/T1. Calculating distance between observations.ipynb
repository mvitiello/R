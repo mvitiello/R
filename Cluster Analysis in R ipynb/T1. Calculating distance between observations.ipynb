{
 "cells": [
  {
   "cell_type": "markdown",
   "metadata": {},
   "source": [
    "# Cluster Analysis in R"
   ]
  },
  {
   "cell_type": "markdown",
   "metadata": {},
   "source": [
    "Cluster analysis is a powerful toolkit in the data science workbench. It is used to find groups of observations (clusters) that share similar characteristics. These similarities can inform all kinds of business decisions; for example, in marketing, it is used to identify distinct groups of customers for which advertisements can be tailored. In this course, you will learn about two commonly used clustering methods - hierarchical clustering and k-means clustering. You won't just learn how to use these methods, you'll build a strong intuition for how they work and how to interpret their results. You'll develop this intuition by exploring three different datasets: soccer player positions, wholesale customer spending data, and longitudinal occupational wage data."
   ]
  },
  {
   "cell_type": "markdown",
   "metadata": {},
   "source": [
    "## Calculating distance between observations\n",
    "\n",
    "\n",
    "Cluster analysis seeks to find groups of observations that are similar to one another, but the identified groups are different from each other. This similarity/difference is captured by the metric called distance. In this chapter, you will learn how to calculate the distance between observations for both continuous and categorical features. You will also develop an intuition for how the scales of your features can affect distance."
   ]
  },
  {
   "cell_type": "markdown",
   "metadata": {},
   "source": [
    "### Calculate & plot the distance between two players\n",
    "You've obtained the coordinates relative to the center of the field for two players in a soccer match and would like to calculate the distance between them.\n",
    "\n",
    "In this exercise you will plot the positions of the 2 players and manually calculate the distance between them by using the Euclidean distance formula."
   ]
  },
  {
   "cell_type": "code",
   "execution_count": 5,
   "metadata": {},
   "outputs": [
    {
     "name": "stderr",
     "output_type": "stream",
     "text": [
      "Warning message:\n",
      "\"package 'ggplot2' was built under R version 3.6.3\""
     ]
    },
    {
     "data": {
      "text/html": [
       "11.6619037896906"
      ],
      "text/latex": [
       "11.6619037896906"
      ],
      "text/markdown": [
       "11.6619037896906"
      ],
      "text/plain": [
       "[1] 11.6619"
      ]
     },
     "metadata": {},
     "output_type": "display_data"
    },
    {
     "data": {
      "image/png": "[encoded data removed]",
      "text/plain": [
       "plot without title"
      ]
     },
     "metadata": {},
     "output_type": "display_data"
    }
   ],
   "source": [
    "library(ggplot2)\n",
    "# two players\n",
    "x = c(5,15)\n",
    "y = c(4,10)\n",
    "two_players <- data.frame(x,y)\n",
    "\n",
    "# Plot the positions of the players\n",
    "ggplot(two_players, aes(x = x, y = y)) + \n",
    "  geom_point() +\n",
    "  # Assuming a 40x60 field\n",
    "  lims(x = c(-30,30), y = c(-20, 20))\n",
    "\n",
    "# Split the players data frame into two observations\n",
    "player1 <- two_players[1, ]\n",
    "player2 <- two_players[2, ]\n",
    "\n",
    "# Calculate and print their distance using the Euclidean Distance formula\n",
    "player_distance <- sqrt( (player1$x - player2$x)^2 + (player1$y - player2$y)^2 )\n",
    "player_distance"
   ]
  },
  {
   "cell_type": "markdown",
   "metadata": {},
   "source": [
    "### Using the dist() function\n",
    "Using the Euclidean formula manually may be practical for 2 observations but can get more complicated rather quickly when measuring the distance between many observations.\n",
    "\n",
    "The dist() function simplifies this process by calculating distances between our observations (rows) using their features (columns). In this case the observations are the player positions and the dimensions are their x and y coordinates.\n",
    "\n",
    "Note: The default distance calculation for the dist() function is Euclidean distance"
   ]
  },
  {
   "cell_type": "code",
   "execution_count": 6,
   "metadata": {},
   "outputs": [
    {
     "data": {
      "text/plain": [
       "        1\n",
       "2 11.6619"
      ]
     },
     "metadata": {},
     "output_type": "display_data"
    },
    {
     "data": {
      "text/plain": [
       "         1        2\n",
       "2 11.66190         \n",
       "3 16.76305 18.02776"
      ]
     },
     "metadata": {},
     "output_type": "display_data"
    }
   ],
   "source": [
    "# two players\n",
    "x1 = c(5,15, 0)\n",
    "y1 = c(4,10, 20)\n",
    "three_players <- data.frame(x1,y1)\n",
    "\n",
    "# Calculate the Distance Between two_players\n",
    "dist_two_players <- dist(two_players)\n",
    "dist_two_players\n",
    "\n",
    "# Calculate the Distance Between three_players\n",
    "dist_three_players <- dist(three_players)\n",
    "dist_three_players"
   ]
  },
  {
   "cell_type": "markdown",
   "metadata": {},
   "source": [
    "### Effects of scale\n",
    "You have learned that when a variable is on a larger scale than other variables in your data it may disproportionately influence the resulting distance calculated between your observations. Lets see this in action by observing a sample of data from the trees data set.\n",
    "\n",
    "You will leverage the scale() function which by default centers & scales our column features.\n",
    "\n",
    "Our variables are the following:\n",
    "\n",
    "Girth - tree diameter in inches\n",
    "\n",
    "Height - tree height in inches"
   ]
  },
  {
   "cell_type": "code",
   "execution_count": 17,
   "metadata": {},
   "outputs": [
    {
     "name": "stdout",
     "output_type": "stream",
     "text": [
      "[1] \"Without Scaling\"\n",
      "            1           2\n",
      "2 0.009985568            \n",
      "3 0.019971034 0.009985470\n",
      "[1] \"With Scaling\"\n",
      "         1        2\n",
      "2 1.407281         \n",
      "3 2.828404 1.421157\n"
     ]
    }
   ],
   "source": [
    "trees <- read.csv('trees.csv')\n",
    "\n",
    "three_trees <- trees[1:3, 1:2]\n",
    "\n",
    "# Calculate distance for three_trees \n",
    "dist_trees <- dist(three_trees)\n",
    "\n",
    "# Scale three trees & calculate the distance  \n",
    "scaled_three_trees <- scale(three_trees)\n",
    "dist_scaled_trees <- dist(scaled_three_trees)\n",
    "\n",
    "# Output the results of both Matrices\n",
    "print('Without Scaling')\n",
    "print(dist_trees)\n",
    "\n",
    "print('With Scaling')\n",
    "print(dist_scaled_trees)"
   ]
  },
  {
   "cell_type": "markdown",
   "metadata": {},
   "source": [
    "### Calculating distance between categorical variables\n",
    "In this exercise you will explore how to calculate binary (Jaccard) distances. In order to calculate distances we will first have to dummify our categories using the dummy.data.frame() from the library dummies\n",
    "\n",
    "You will use a small collection of survey observations stored in the data frame job_survey with the following columns:\n",
    "\n",
    "job_satisfaction Possible options: \"Hi\", \"Mid\", \"Low\"\n",
    "\n",
    "is_happy Possible options: \"Yes\", \"No\""
   ]
  },
  {
   "cell_type": "code",
   "execution_count": 20,
   "metadata": {},
   "outputs": [
    {
     "name": "stdout",
     "output_type": "stream",
     "text": [
      "package 'dummies' successfully unpacked and MD5 sums checked\n",
      "\n",
      "The downloaded binary packages are in\n",
      "\tC:\\Users\\Migue\\AppData\\Local\\Temp\\RtmpWCA41B\\downloaded_packages\n"
     ]
    },
    {
     "name": "stderr",
     "output_type": "stream",
     "text": [
      "dummies-1.5.6 provided by Decision Patterns\n",
      "\n",
      "Warning message in model.matrix.default(~x - 1, model.frame(~x - 1), contrasts = FALSE):\n",
      "\"non-list contrasts argument ignored\"Warning message in model.matrix.default(~x - 1, model.frame(~x - 1), contrasts = FALSE):\n",
      "\"non-list contrasts argument ignored\""
     ]
    },
    {
     "name": "stdout",
     "output_type": "stream",
     "text": [
      "  job_satisfaction is_happy\n",
      "1              Low       No\n",
      "2              Low       No\n",
      "3               Hi      Yes\n",
      "4              Low      Yes\n",
      "5              Mid       No\n",
      "6               Hi       No\n",
      "          1         2         3         4         5\n",
      "2 0.0000000                                        \n",
      "3 1.0000000 1.0000000                              \n",
      "4 0.6666667 0.6666667 0.6666667                    \n",
      "5 0.6666667 0.6666667 1.0000000 1.0000000          \n",
      "6 0.6666667 0.6666667 0.6666667 1.0000000 0.6666667\n"
     ]
    }
   ],
   "source": [
    "job_satisfaction = c(\"Low\", \"Low\", \"Hi\", \"Low\", \"Mid\", \"Hi\")\n",
    "is_happy = c(\"No\", \"No\", \"Yes\", \"Yes\", \"No\", \"No\")\n",
    "\n",
    "job_survey = data.frame(job_satisfaction, is_happy)\n",
    "\n",
    "install.packages(\"dummies\")\n",
    "library(dummies)\n",
    "\n",
    "# Dummify the Survey Data\n",
    "dummy_survey <- dummy.data.frame(job_survey)\n",
    "\n",
    "# Calculate the Distance\n",
    "dist_survey <- dist(dummy_survey, method = \"binary\")\n",
    "\n",
    "# Print the Original Data\n",
    "print(job_survey)\n",
    "\n",
    "# Print the Distance Matrix\n",
    "print(dist_survey)"
   ]
  },
  {
   "cell_type": "code",
   "execution_count": null,
   "metadata": {},
   "outputs": [],
   "source": []
  }
 ],
 "metadata": {
  "kernelspec": {
   "display_name": "R",
   "language": "R",
   "name": "ir"
  },
  "language_info": {
   "codemirror_mode": "r",
   "file_extension": ".r",
   "mimetype": "text/x-r-source",
   "name": "R",
   "pygments_lexer": "r",
   "version": "3.6.1"
  }
 },
 "nbformat": 4,
 "nbformat_minor": 4
}
