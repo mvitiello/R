{
 "cells": [
  {
   "cell_type": "markdown",
   "metadata": {},
   "source": [
    "## Case Study: National Occupational mean wage\n",
    "\n",
    "In this chapter, you will apply the skills you have learned to explore how the average salary amongst professions have changed over time."
   ]
  },
  {
   "cell_type": "markdown",
   "metadata": {},
   "source": [
    "### Initial exploration of the data\n",
    "You are presented with data from the Occupational Employment Statistics (OES) program which produces employment and wage estimates annually. This data contains the yearly average income from 2001 to 2016 for 22 occupation groups. You would like to use this data to identify clusters of occupations that maintained similar income trends.\n",
    "\n",
    "The data is stored in your environment as the data.matrix oes.\n",
    "\n",
    "Before you begin to cluster this data you should determine whether any pre-processing steps (such as scaling and imputation) are necessary.\n",
    "\n",
    "Leverage the functions head() and summary() to explore the oes data in order to determine which of the pre-processing steps below are necessary:"
   ]
  },
  {
   "cell_type": "code",
   "execution_count": 1,
   "metadata": {},
   "outputs": [
    {
     "data": {
      "text/html": [
       "<table>\n",
       "<thead><tr><th></th><th scope=col>2001</th><th scope=col>2002</th><th scope=col>2003</th><th scope=col>2004</th><th scope=col>2005</th><th scope=col>2006</th><th scope=col>2007</th><th scope=col>2008</th><th scope=col>2010</th><th scope=col>2011</th><th scope=col>2012</th><th scope=col>2013</th><th scope=col>2014</th><th scope=col>2015</th><th scope=col>2016</th></tr></thead>\n",
       "<tbody>\n",
       "\t<tr><th scope=row>Management</th><td>70800 </td><td>78870 </td><td>83400 </td><td>87090 </td><td>88450 </td><td>91930 </td><td>96150 </td><td>100310</td><td>105440</td><td>107410</td><td>108570</td><td>110550</td><td>112490</td><td>115020</td><td>118020</td></tr>\n",
       "\t<tr><th scope=row>Business Operations</th><td>50580 </td><td>53350 </td><td>56000 </td><td>57120 </td><td>57930 </td><td>60000 </td><td>62410 </td><td> 64720</td><td> 67690</td><td> 68740</td><td> 69550</td><td> 71020</td><td> 72410</td><td> 73800</td><td> 75070</td></tr>\n",
       "\t<tr><th scope=row>Computer Science</th><td>60350 </td><td>61630 </td><td>64150 </td><td>66370 </td><td>67100 </td><td>69240 </td><td>72190 </td><td> 74500</td><td> 77230</td><td> 78730</td><td> 80180</td><td> 82010</td><td> 83970</td><td> 86170</td><td> 87880</td></tr>\n",
       "\t<tr><th scope=row>Architecture/Engineering</th><td>56330 </td><td>58020 </td><td>60390 </td><td>63060 </td><td>63910 </td><td>66190 </td><td>68880 </td><td> 71430</td><td> 75550</td><td> 77120</td><td> 79000</td><td> 80100</td><td> 81520</td><td> 82980</td><td> 84300</td></tr>\n",
       "\t<tr><th scope=row>Life/Physical/Social Sci.</th><td>49710 </td><td>52380 </td><td>54930 </td><td>57550 </td><td>58030 </td><td>59660 </td><td>62020 </td><td> 64280</td><td> 66390</td><td> 67470</td><td> 68360</td><td> 69400</td><td> 70070</td><td> 71220</td><td> 72930</td></tr>\n",
       "\t<tr><th scope=row>Community Services</th><td>34190 </td><td>34630 </td><td>35800 </td><td>37050 </td><td>37530 </td><td>39000 </td><td>40540 </td><td> 41790</td><td> 43180</td><td> 43830</td><td> 44240</td><td> 44710</td><td> 45310</td><td> 46160</td><td> 47200</td></tr>\n",
       "</tbody>\n",
       "</table>\n"
      ],
      "text/latex": [
       "\\begin{tabular}{r|lllllllllllllll}\n",
       "  & 2001 & 2002 & 2003 & 2004 & 2005 & 2006 & 2007 & 2008 & 2010 & 2011 & 2012 & 2013 & 2014 & 2015 & 2016\\\\\n",
       "\\hline\n",
       "\tManagement & 70800  & 78870  & 83400  & 87090  & 88450  & 91930  & 96150  & 100310 & 105440 & 107410 & 108570 & 110550 & 112490 & 115020 & 118020\\\\\n",
       "\tBusiness Operations & 50580  & 53350  & 56000  & 57120  & 57930  & 60000  & 62410  &  64720 &  67690 &  68740 &  69550 &  71020 &  72410 &  73800 &  75070\\\\\n",
       "\tComputer Science & 60350  & 61630  & 64150  & 66370  & 67100  & 69240  & 72190  &  74500 &  77230 &  78730 &  80180 &  82010 &  83970 &  86170 &  87880\\\\\n",
       "\tArchitecture/Engineering & 56330  & 58020  & 60390  & 63060  & 63910  & 66190  & 68880  &  71430 &  75550 &  77120 &  79000 &  80100 &  81520 &  82980 &  84300\\\\\n",
       "\tLife/Physical/Social Sci. & 49710  & 52380  & 54930  & 57550  & 58030  & 59660  & 62020  &  64280 &  66390 &  67470 &  68360 &  69400 &  70070 &  71220 &  72930\\\\\n",
       "\tCommunity Services & 34190  & 34630  & 35800  & 37050  & 37530  & 39000  & 40540  &  41790 &  43180 &  43830 &  44240 &  44710 &  45310 &  46160 &  47200\\\\\n",
       "\\end{tabular}\n"
      ],
      "text/markdown": [
       "\n",
       "| <!--/--> | 2001 | 2002 | 2003 | 2004 | 2005 | 2006 | 2007 | 2008 | 2010 | 2011 | 2012 | 2013 | 2014 | 2015 | 2016 |\n",
       "|---|---|---|---|---|---|---|---|---|---|---|---|---|---|---|---|\n",
       "| Management | 70800  | 78870  | 83400  | 87090  | 88450  | 91930  | 96150  | 100310 | 105440 | 107410 | 108570 | 110550 | 112490 | 115020 | 118020 |\n",
       "| Business Operations | 50580  | 53350  | 56000  | 57120  | 57930  | 60000  | 62410  |  64720 |  67690 |  68740 |  69550 |  71020 |  72410 |  73800 |  75070 |\n",
       "| Computer Science | 60350  | 61630  | 64150  | 66370  | 67100  | 69240  | 72190  |  74500 |  77230 |  78730 |  80180 |  82010 |  83970 |  86170 |  87880 |\n",
       "| Architecture/Engineering | 56330  | 58020  | 60390  | 63060  | 63910  | 66190  | 68880  |  71430 |  75550 |  77120 |  79000 |  80100 |  81520 |  82980 |  84300 |\n",
       "| Life/Physical/Social Sci. | 49710  | 52380  | 54930  | 57550  | 58030  | 59660  | 62020  |  64280 |  66390 |  67470 |  68360 |  69400 |  70070 |  71220 |  72930 |\n",
       "| Community Services | 34190  | 34630  | 35800  | 37050  | 37530  | 39000  | 40540  |  41790 |  43180 |  43830 |  44240 |  44710 |  45310 |  46160 |  47200 |\n",
       "\n"
      ],
      "text/plain": [
       "                          2001  2002  2003  2004  2005  2006  2007  2008  \n",
       "Management                70800 78870 83400 87090 88450 91930 96150 100310\n",
       "Business Operations       50580 53350 56000 57120 57930 60000 62410  64720\n",
       "Computer Science          60350 61630 64150 66370 67100 69240 72190  74500\n",
       "Architecture/Engineering  56330 58020 60390 63060 63910 66190 68880  71430\n",
       "Life/Physical/Social Sci. 49710 52380 54930 57550 58030 59660 62020  64280\n",
       "Community Services        34190 34630 35800 37050 37530 39000 40540  41790\n",
       "                          2010   2011   2012   2013   2014   2015   2016  \n",
       "Management                105440 107410 108570 110550 112490 115020 118020\n",
       "Business Operations        67690  68740  69550  71020  72410  73800  75070\n",
       "Computer Science           77230  78730  80180  82010  83970  86170  87880\n",
       "Architecture/Engineering   75550  77120  79000  80100  81520  82980  84300\n",
       "Life/Physical/Social Sci.  66390  67470  68360  69400  70070  71220  72930\n",
       "Community Services         43180  43830  44240  44710  45310  46160  47200"
      ]
     },
     "metadata": {},
     "output_type": "display_data"
    },
    {
     "data": {
      "text/plain": [
       "      2001            2002            2003            2004      \n",
       " Min.   :16720   Min.   :17180   Min.   :17400   Min.   :17620  \n",
       " 1st Qu.:26728   1st Qu.:27393   1st Qu.:27858   1st Qu.:28535  \n",
       " Median :34575   Median :35205   Median :36180   Median :37335  \n",
       " Mean   :37850   Mean   :39701   Mean   :41018   Mean   :42275  \n",
       " 3rd Qu.:49875   3rd Qu.:53108   3rd Qu.:55733   3rd Qu.:57443  \n",
       " Max.   :70800   Max.   :78870   Max.   :83400   Max.   :87090  \n",
       "      2005            2006            2007            2008       \n",
       " Min.   :17840   Min.   :18430   Min.   :19440   Min.   : 20220  \n",
       " 1st Qu.:29043   1st Qu.:29688   1st Qu.:30810   1st Qu.: 31643  \n",
       " Median :37790   Median :39030   Median :40235   Median : 41510  \n",
       " Mean   :42775   Mean   :44329   Mean   :46074   Mean   : 47763  \n",
       " 3rd Qu.:58005   3rd Qu.:59915   3rd Qu.:62313   3rd Qu.: 64610  \n",
       " Max.   :88450   Max.   :91930   Max.   :96150   Max.   :100310  \n",
       "      2010             2011             2012             2013       \n",
       " Min.   : 21240   Min.   : 21430   Min.   : 21380   Min.   : 21580  \n",
       " 1st Qu.: 32863   1st Qu.: 33430   1st Qu.: 33795   1st Qu.: 34120  \n",
       " Median : 42995   Median : 43610   Median : 44055   Median : 44565  \n",
       " Mean   : 49758   Mean   : 50555   Mean   : 51077   Mean   : 51800  \n",
       " 3rd Qu.: 67365   3rd Qu.: 68423   3rd Qu.: 69253   3rd Qu.: 70615  \n",
       " Max.   :105440   Max.   :107410   Max.   :108570   Max.   :110550  \n",
       "      2014             2015             2016       \n",
       " Min.   : 21980   Min.   : 22850   Min.   : 23850  \n",
       " 1st Qu.: 34718   1st Qu.: 35425   1st Qu.: 36350  \n",
       " Median : 45265   Median : 46075   Median : 46945  \n",
       " Mean   : 52643   Mean   : 53785   Mean   : 55117  \n",
       " 3rd Qu.: 71825   3rd Qu.: 73155   3rd Qu.: 74535  \n",
       " Max.   :112490   Max.   :115020   Max.   :118020  "
      ]
     },
     "metadata": {},
     "output_type": "display_data"
    }
   ],
   "source": [
    "oes <- readRDS(\"oes.rds\")\n",
    "\n",
    "head(oes)\n",
    "\n",
    "summary(oes)"
   ]
  },
  {
   "cell_type": "markdown",
   "metadata": {},
   "source": [
    "### Hierarchical clustering: Occupation trees\n",
    "In the previous exercise you have learned that the oes data is ready for hierarchical clustering without any preprocessing steps necessary. In this exercise you will take the necessary steps to build a dendrogram of occupations based on their yearly average salaries and propose clusters using a height of 100,000."
   ]
  },
  {
   "cell_type": "code",
   "execution_count": 3,
   "metadata": {},
   "outputs": [
    {
     "name": "stderr",
     "output_type": "stream",
     "text": [
      "Warning message:\n",
      "\"package 'dendextend' was built under R version 3.6.3\"\n",
      "---------------------\n",
      "Welcome to dendextend version 1.14.0\n",
      "Type citation('dendextend') for how to cite the package.\n",
      "\n",
      "Type browseVignettes(package = 'dendextend') for the package vignette.\n",
      "The github page is: https://github.com/talgalili/dendextend/\n",
      "\n",
      "Suggestions and bug-reports can be submitted at: https://github.com/talgalili/dendextend/issues\n",
      "Or contact: <tal.galili@gmail.com>\n",
      "\n",
      "\tTo suppress this message use:  suppressPackageStartupMessages(library(dendextend))\n",
      "---------------------\n",
      "\n",
      "\n",
      "Attaching package: 'dendextend'\n",
      "\n",
      "The following object is masked from 'package:stats':\n",
      "\n",
      "    cutree\n",
      "\n"
     ]
    },
    {
     "data": {
      "image/png": "[encoded data removed]",
      "text/plain": [
       "plot without title"
      ]
     },
     "metadata": {},
     "output_type": "display_data"
    },
    {
     "data": {
      "image/png": "[encoded data removed]",
      "text/plain": [
       "plot without title"
      ]
     },
     "metadata": {},
     "output_type": "display_data"
    }
   ],
   "source": [
    "library(dendextend)\n",
    "\n",
    "# Calculate Euclidean distance between the occupations\n",
    "dist_oes <- dist(oes, method = \"euclidean\")\n",
    "\n",
    "# Generate an average linkage analysis \n",
    "hc_oes <- hclust(dist_oes, method = \"average\")\n",
    "\n",
    "# Create a dendrogram object from the hclust variable\n",
    "dend_oes <- as.dendrogram(hc_oes)\n",
    "\n",
    "# Plot the dendrogram\n",
    "plot(dend_oes)\n",
    "\n",
    "# Color branches by cluster formed from the cut at a height of 100000\n",
    "dend_colored <- color_branches(dend_oes, h = 100000)\n",
    "\n",
    "# Plot the colored dendrogram\n",
    "plot(dend_colored)"
   ]
  },
  {
   "cell_type": "markdown",
   "metadata": {},
   "source": [
    "### Hierarchical clustering: Preparing for exploration\n",
    "You have now created a potential clustering for the oes data, before you can explore these clusters with ggplot2 you will need to process the oes data matrix into a tidy data frame with each occupation assigned its cluster."
   ]
  },
  {
   "cell_type": "code",
   "execution_count": 7,
   "metadata": {},
   "outputs": [
    {
     "data": {
      "text/html": [
       "<table>\n",
       "<thead><tr><th scope=col>occupation</th><th scope=col>cluster</th><th scope=col>year</th><th scope=col>mean_salary</th></tr></thead>\n",
       "<tbody>\n",
       "\t<tr><td>Management               </td><td>1                        </td><td>2001                     </td><td>70800                    </td></tr>\n",
       "\t<tr><td>Business Operations      </td><td>2                        </td><td>2001                     </td><td>50580                    </td></tr>\n",
       "\t<tr><td>Computer Science         </td><td>2                        </td><td>2001                     </td><td>60350                    </td></tr>\n",
       "\t<tr><td>Architecture/Engineering </td><td>2                        </td><td>2001                     </td><td>56330                    </td></tr>\n",
       "\t<tr><td>Life/Physical/Social Sci.</td><td>2                        </td><td>2001                     </td><td>49710                    </td></tr>\n",
       "\t<tr><td>Community Services       </td><td>3                        </td><td>2001                     </td><td>34190                    </td></tr>\n",
       "</tbody>\n",
       "</table>\n"
      ],
      "text/latex": [
       "\\begin{tabular}{r|llll}\n",
       " occupation & cluster & year & mean\\_salary\\\\\n",
       "\\hline\n",
       "\t Management                & 1                         & 2001                      & 70800                    \\\\\n",
       "\t Business Operations       & 2                         & 2001                      & 50580                    \\\\\n",
       "\t Computer Science          & 2                         & 2001                      & 60350                    \\\\\n",
       "\t Architecture/Engineering  & 2                         & 2001                      & 56330                    \\\\\n",
       "\t Life/Physical/Social Sci. & 2                         & 2001                      & 49710                    \\\\\n",
       "\t Community Services        & 3                         & 2001                      & 34190                    \\\\\n",
       "\\end{tabular}\n"
      ],
      "text/markdown": [
       "\n",
       "| occupation | cluster | year | mean_salary |\n",
       "|---|---|---|---|\n",
       "| Management                | 1                         | 2001                      | 70800                     |\n",
       "| Business Operations       | 2                         | 2001                      | 50580                     |\n",
       "| Computer Science          | 2                         | 2001                      | 60350                     |\n",
       "| Architecture/Engineering  | 2                         | 2001                      | 56330                     |\n",
       "| Life/Physical/Social Sci. | 2                         | 2001                      | 49710                     |\n",
       "| Community Services        | 3                         | 2001                      | 34190                     |\n",
       "\n"
      ],
      "text/plain": [
       "  occupation                cluster year mean_salary\n",
       "1 Management                1       2001 70800      \n",
       "2 Business Operations       2       2001 50580      \n",
       "3 Computer Science          2       2001 60350      \n",
       "4 Architecture/Engineering  2       2001 56330      \n",
       "5 Life/Physical/Social Sci. 2       2001 49710      \n",
       "6 Community Services        3       2001 34190      "
      ]
     },
     "metadata": {},
     "output_type": "display_data"
    }
   ],
   "source": [
    "library(tibble)\n",
    "library(tidyr)\n",
    "library(dplyr)\n",
    "\n",
    "# Use rownames_to_column to move the rownames into a column of the data frame\n",
    "df_oes <- rownames_to_column(as.data.frame(oes), var = 'occupation')\n",
    "\n",
    "# Create a cluster assignment vector at h = 100,000\n",
    "cut_oes <- cutree(hc_oes, h = 100000)\n",
    "\n",
    "# Generate the segmented the oes data frame\n",
    "clust_oes <- mutate(df_oes, cluster = cut_oes)\n",
    "\n",
    "# Create a tidy data frame by gathering the year and values into two columns\n",
    "gathered_oes <- gather(data = clust_oes, \n",
    "                       key = year, \n",
    "                       value = mean_salary, \n",
    "                       -occupation, -cluster)\n",
    "head(gathered_oes)"
   ]
  },
  {
   "cell_type": "markdown",
   "metadata": {},
   "source": [
    "### Hierarchical clustering: Plotting occupational clusters\n",
    "You have succesfully created all the parts necessary to explore the results of this hierarchical clustering work. In this exercise you will leverage the named assignment vector cut_oes and the tidy data frame gathered_oes to analyze the resulting clusters."
   ]
  },
  {
   "cell_type": "code",
   "execution_count": 9,
   "metadata": {},
   "outputs": [
    {
     "name": "stderr",
     "output_type": "stream",
     "text": [
      "Warning message:\n",
      "\"package 'ggplot2' was built under R version 3.6.3\""
     ]
    },
    {
     "data": {
      "text/html": [
       "<dl class=dl-horizontal>\n",
       "\t<dt>Management</dt>\n",
       "\t\t<dd>1</dd>\n",
       "\t<dt>Legal</dt>\n",
       "\t\t<dd>1</dd>\n",
       "\t<dt>Business Operations</dt>\n",
       "\t\t<dd>2</dd>\n",
       "\t<dt>Computer Science</dt>\n",
       "\t\t<dd>2</dd>\n",
       "\t<dt>Architecture/Engineering</dt>\n",
       "\t\t<dd>2</dd>\n",
       "\t<dt>Life/Physical/Social Sci.</dt>\n",
       "\t\t<dd>2</dd>\n",
       "\t<dt>Healthcare Practitioners</dt>\n",
       "\t\t<dd>2</dd>\n",
       "\t<dt>Community Services</dt>\n",
       "\t\t<dd>3</dd>\n",
       "\t<dt>Education/Training/Library</dt>\n",
       "\t\t<dd>3</dd>\n",
       "\t<dt>Arts/Design/Entertainment</dt>\n",
       "\t\t<dd>3</dd>\n",
       "\t<dt>Healthcare Support</dt>\n",
       "\t\t<dd>3</dd>\n",
       "\t<dt>Protective Service</dt>\n",
       "\t\t<dd>3</dd>\n",
       "\t<dt>Food Preparation</dt>\n",
       "\t\t<dd>3</dd>\n",
       "\t<dt>Grounds Cleaning &amp; Maint.</dt>\n",
       "\t\t<dd>3</dd>\n",
       "\t<dt>Personal Care</dt>\n",
       "\t\t<dd>3</dd>\n",
       "\t<dt>Sales</dt>\n",
       "\t\t<dd>3</dd>\n",
       "\t<dt>Office Administrative</dt>\n",
       "\t\t<dd>3</dd>\n",
       "\t<dt>Farming/Fishing/Forestry</dt>\n",
       "\t\t<dd>3</dd>\n",
       "\t<dt>Construction</dt>\n",
       "\t\t<dd>3</dd>\n",
       "\t<dt>Installation/Repair/Maint.</dt>\n",
       "\t\t<dd>3</dd>\n",
       "\t<dt>Production</dt>\n",
       "\t\t<dd>3</dd>\n",
       "\t<dt>Transportation/Moving</dt>\n",
       "\t\t<dd>3</dd>\n",
       "</dl>\n"
      ],
      "text/latex": [
       "\\begin{description*}\n",
       "\\item[Management] 1\n",
       "\\item[Legal] 1\n",
       "\\item[Business Operations] 2\n",
       "\\item[Computer Science] 2\n",
       "\\item[Architecture/Engineering] 2\n",
       "\\item[Life/Physical/Social Sci.] 2\n",
       "\\item[Healthcare Practitioners] 2\n",
       "\\item[Community Services] 3\n",
       "\\item[Education/Training/Library] 3\n",
       "\\item[Arts/Design/Entertainment] 3\n",
       "\\item[Healthcare Support] 3\n",
       "\\item[Protective Service] 3\n",
       "\\item[Food Preparation] 3\n",
       "\\item[Grounds Cleaning \\textbackslash{}\\& Maint.] 3\n",
       "\\item[Personal Care] 3\n",
       "\\item[Sales] 3\n",
       "\\item[Office Administrative] 3\n",
       "\\item[Farming/Fishing/Forestry] 3\n",
       "\\item[Construction] 3\n",
       "\\item[Installation/Repair/Maint.] 3\n",
       "\\item[Production] 3\n",
       "\\item[Transportation/Moving] 3\n",
       "\\end{description*}\n"
      ],
      "text/markdown": [
       "Management\n",
       ":   1Legal\n",
       ":   1Business Operations\n",
       ":   2Computer Science\n",
       ":   2Architecture/Engineering\n",
       ":   2Life/Physical/Social Sci.\n",
       ":   2Healthcare Practitioners\n",
       ":   2Community Services\n",
       ":   3Education/Training/Library\n",
       ":   3Arts/Design/Entertainment\n",
       ":   3Healthcare Support\n",
       ":   3Protective Service\n",
       ":   3Food Preparation\n",
       ":   3Grounds Cleaning &amp;amp; Maint.\n",
       ":   3Personal Care\n",
       ":   3Sales\n",
       ":   3Office Administrative\n",
       ":   3Farming/Fishing/Forestry\n",
       ":   3Construction\n",
       ":   3Installation/Repair/Maint.\n",
       ":   3Production\n",
       ":   3Transportation/Moving\n",
       ":   3\n",
       "\n"
      ],
      "text/plain": [
       "                Management                      Legal \n",
       "                         1                          1 \n",
       "       Business Operations           Computer Science \n",
       "                         2                          2 \n",
       "  Architecture/Engineering  Life/Physical/Social Sci. \n",
       "                         2                          2 \n",
       "  Healthcare Practitioners         Community Services \n",
       "                         2                          3 \n",
       "Education/Training/Library  Arts/Design/Entertainment \n",
       "                         3                          3 \n",
       "        Healthcare Support         Protective Service \n",
       "                         3                          3 \n",
       "          Food Preparation  Grounds Cleaning & Maint. \n",
       "                         3                          3 \n",
       "             Personal Care                      Sales \n",
       "                         3                          3 \n",
       "     Office Administrative   Farming/Fishing/Forestry \n",
       "                         3                          3 \n",
       "              Construction Installation/Repair/Maint. \n",
       "                         3                          3 \n",
       "                Production      Transportation/Moving \n",
       "                         3                          3 "
      ]
     },
     "metadata": {},
     "output_type": "display_data"
    },
    {
     "data": {
      "image/png": "[encoded data removed]",
      "text/plain": [
       "plot without title"
      ]
     },
     "metadata": {},
     "output_type": "display_data"
    }
   ],
   "source": [
    "library(ggplot2)\n",
    "# View the clustering assignments by sorting the cluster assignment vector\n",
    "sort(cut_oes)\n",
    "\n",
    "# Plot the relationship between mean_salary and year and color the lines by the assigned cluster\n",
    "ggplot(gathered_oes, aes(x = year, y = mean_salary, color = factor(cluster))) + \n",
    "    geom_line(aes(group = occupation))"
   ]
  },
  {
   "cell_type": "markdown",
   "metadata": {},
   "source": [
    "### K-means: Elbow analysis\n",
    "In the previous exercises you used the dendrogram to propose a clustering that generated 3 trees. In this exercise you will leverage the k-means elbow plot to propose the \"best\" number of clusters."
   ]
  },
  {
   "cell_type": "code",
   "execution_count": 11,
   "metadata": {},
   "outputs": [
    {
     "name": "stderr",
     "output_type": "stream",
     "text": [
      "Warning message:\n",
      "\"package 'purrr' was built under R version 3.6.3\""
     ]
    },
    {
     "data": {
      "image/png": "[encoded data removed]",
      "text/plain": [
       "plot without title"
      ]
     },
     "metadata": {},
     "output_type": "display_data"
    }
   ],
   "source": [
    "library(purrr)\n",
    "\n",
    "# Use map_dbl to run many models with varying value of k (centers)\n",
    "tot_withinss <- map_dbl(1:10,  function(k){\n",
    "  model <- kmeans(x = oes, centers = k)\n",
    "  model$tot.withinss\n",
    "})\n",
    "\n",
    "# Generate a data frame containing both k and tot_withinss\n",
    "elbow_df <- data.frame(\n",
    "  k = 1:10,\n",
    "  tot_withinss = tot_withinss\n",
    ")\n",
    "\n",
    "# Plot the elbow plot\n",
    "ggplot(elbow_df, aes(x = k, y = tot_withinss)) +\n",
    "  geom_line() +\n",
    "  scale_x_continuous(breaks = 1:10)"
   ]
  },
  {
   "cell_type": "markdown",
   "metadata": {},
   "source": [
    "### K-means: Average Silhouette Widths\n",
    "So hierarchical clustering resulting in 3 clusters and the elbow method suggests 2. In this exercise use average silhouette widths to explore what the \"best\" value of k should be."
   ]
  },
  {
   "cell_type": "code",
   "execution_count": 13,
   "metadata": {},
   "outputs": [
    {
     "data": {
      "image/png": "[encoded data removed]",
      "text/plain": [
       "plot without title"
      ]
     },
     "metadata": {},
     "output_type": "display_data"
    }
   ],
   "source": [
    "library(cluster)\n",
    "\n",
    "# Use map_dbl to run many models with varying value of k\n",
    "sil_width <- map_dbl(2:10,  function(k){\n",
    "  model <- pam(oes, k = k)\n",
    "  model$silinfo$avg.width\n",
    "})\n",
    "\n",
    "# Generate a data frame containing both k and sil_width\n",
    "sil_df <- data.frame(\n",
    "  k = 2:10,\n",
    "  sil_width = sil_width\n",
    ")\n",
    "\n",
    "# Plot the relationship between k and sil_width\n",
    "ggplot(sil_df, aes(x = k, y = sil_width)) +\n",
    "  geom_line() +\n",
    "  scale_x_continuous(breaks = 2:10)"
   ]
  },
  {
   "cell_type": "code",
   "execution_count": null,
   "metadata": {},
   "outputs": [],
   "source": []
  }
 ],
 "metadata": {
  "kernelspec": {
   "display_name": "R",
   "language": "R",
   "name": "ir"
  },
  "language_info": {
   "codemirror_mode": "r",
   "file_extension": ".r",
   "mimetype": "text/x-r-source",
   "name": "R",
   "pygments_lexer": "r",
   "version": "3.6.1"
  }
 },
 "nbformat": 4,
 "nbformat_minor": 4
}
