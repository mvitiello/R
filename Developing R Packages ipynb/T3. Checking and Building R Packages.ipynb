{
 "cells": [
  {
   "cell_type": "markdown",
   "metadata": {},
   "source": [
    "## Checking and Building R Packages\n",
    "\n",
    "In this chapter, you will learn about how to run checks to ensure that your R package is correctly structured and can be installed. You will learn how to correct common problems, and get your package ready to be built so it can be shared with others."
   ]
  },
  {
   "cell_type": "markdown",
   "metadata": {},
   "source": [
    "### Running a check\n",
    "Before a package can be made available on CRAN it is required to pass a series of checks that can be run from the command line using R CMD check. Even if you don't intend to make a package available on CRAN, it is good practice to run this and ensure that your package passes all of the checks. Just like all other build features this is simplified in devtools with the function check().\n",
    "\n",
    "When you run check(), if the argument cran is set to TRUE, you run exactly the same checks which are run when you submit a package to CRAN. As the cran argument has a default value of TRUE, you do not need to do change it unless you do not wish to run all of the CRAN checks."
   ]
  },
  {
   "cell_type": "code",
   "execution_count": null,
   "metadata": {},
   "outputs": [],
   "source": [
    "# do not run\n",
    "# Check your package\n",
    "check(\"datasummary\")"
   ]
  },
  {
   "cell_type": "markdown",
   "metadata": {},
   "source": [
    "### Undocumented parameters\n",
    "If you've forgotten to document any of the parameters, when you run the check() function, you'll get a WARNING message that looks a bit like this:\n",
    "\n",
    "Undocumented arguments in documentation object 'numeric_summary'\n",
    "  'na.rm'\n",
    "\n",
    "Note: you wouldn't normally get this error for non-exported functions\n",
    "\n",
    "To remove this warning, you'll need to update the documentation for the parameter in the function's .R file, and then run check() again. You might think you need to run the document() function again. However, there's no need to do this, as check() automatically runs document() for you before completing its checks."
   ]
  },
  {
   "cell_type": "code",
   "execution_count": 1,
   "metadata": {},
   "outputs": [],
   "source": [
    "# Update the roxygen header for the function \"numeric_summary\" to document the missing parameter (na.rm).\n",
    "\n",
    "#' Numeric Summaries\n",
    "#' Summarises numeric data and returns a data frame containing the minimum value, median, standard deviation, and maximum value.\n",
    "#'\n",
    "#' @param x a numeric vector containing the values to summarize.\n",
    "#' @param na.rm a logical value indicating whether NA values should be stripped before the computation proceeds.\n",
    "numeric_summary <- function(x, na.rm){\n",
    "\n",
    "  if(!is.numeric(x)){\n",
    "    stop(\"data must be numeric\")\n",
    "  }\n",
    "\n",
    "  data.frame( min = min(x, na.rm = na.rm),\n",
    "              median = median(x, na.rm = na.rm),\n",
    "              sd = sd(x, na.rm = na.rm),\n",
    "              max = max(x, na.rm = na.rm))\n",
    "}\n"
   ]
  },
  {
   "cell_type": "markdown",
   "metadata": {},
   "source": [
    "### Adding the import to the description\n",
    "If your package imports functions from other packages, they must be listed in the DESCRIPTION file. You don't need to manually add these - you can use the use_package() function to automatically add packages to your DESCRIPTION file. By default, they are added as imports, but if you alter the type parameter, you can change whether the package is listed as depends, imports, suggests, or a different option."
   ]
  },
  {
   "cell_type": "code",
   "execution_count": null,
   "metadata": {},
   "outputs": [],
   "source": [
    "# Add dplyr as a dependency to the DESCRIPTION file\n",
    "use_package(\"dplyr\", pkg = \"datasummary\")\n",
    "\n",
    "# Add purrr as a dependency to the DESCRIPTION file\n",
    "use_package(\"purrr\", pkg = \"datasummary\")\n",
    "\n",
    "# Add tidyr as an imported dependency to the DESCRIPTION file\n",
    "use_package(\"tidyr\", pkg = \"datasummary\")"
   ]
  },
  {
   "cell_type": "markdown",
   "metadata": {},
   "source": [
    "### Building an R package\n",
    "Once you have created the correct structure, included all of your functions, created the package documentation and ensured that the checks pass you can then build your package so that it is in a shareable format.\n",
    "\n",
    "You can build your package using the build() function from devtools. You can use this function to build either a source version of the package, or a Windows/Mac specific binary version. The source version of the package will have a file ending of \".tar.gz\" and the binary will take the ending \".zip\" (Windows) or \".tgz\" (Mac). You can only build binaries for the current platform that you're using. The build() function builds the source version of the package by default."
   ]
  },
  {
   "cell_type": "code",
   "execution_count": null,
   "metadata": {},
   "outputs": [],
   "source": [
    "## Do not run\n",
    "\n",
    "# Build the package\n",
    "build(\"datasummary\")\n",
    "\n",
    "# Examine the contents of the current directory\n",
    "dir()"
   ]
  }
 ],
 "metadata": {
  "kernelspec": {
   "display_name": "R",
   "language": "R",
   "name": "ir"
  },
  "language_info": {
   "codemirror_mode": "r",
   "file_extension": ".r",
   "mimetype": "text/x-r-source",
   "name": "R",
   "pygments_lexer": "r",
   "version": "3.6.1"
  }
 },
 "nbformat": 4,
 "nbformat_minor": 4
}
