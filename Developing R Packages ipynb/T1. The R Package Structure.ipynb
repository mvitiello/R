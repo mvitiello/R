{
 "cells": [
  {
   "cell_type": "markdown",
   "metadata": {},
   "source": [
    "# Developing R Packages\n",
    "\n",
    "In this course, you will learn the end-to-end process for creating an R package from scratch. You will start off by creating the basic structure for your package, and adding in important details like functions and metadata. Once the basic components of your package are in place, you will learn about how to document your package, and why this is important for creating quality packages that other people - as well as your future self - can use with ease. Once you have created the components of your package, you will learn how to test they work properly, by creating tests, running checks, and building your package. By the end of this course you can expect to have all the necessary skills to create and share your own R packages."
   ]
  },
  {
   "cell_type": "markdown",
   "metadata": {},
   "source": [
    "## The R Package Structure\n",
    "\n",
    "In this chapter, you will learn the basics of creating an R package. You will learn about the structure of R packages, set up a package, and write a function and include it in your package. You will also learn about the metadata stored in the DESCRIPTION and NAMESPACE files."
   ]
  },
  {
   "cell_type": "markdown",
   "metadata": {},
   "source": [
    "### The structure of an R package\n",
    "You can use devtools to create the basic structure of an R package by using the create() function.\n",
    "\n",
    "There are some optional arguments to this function but the main one that you will use is the path argument. You use this to specify where your package will be created and the name that your package will take.\n",
    "\n",
    "If you want to create the package in your current working directory, as you often will, you just need to supply the name for the package. When naming your package remember to think about:\n",
    "\n",
    "If the name is already taken by another package.\n",
    "Whether the name makes it clear what the package does.\n",
    "devtools is loaded in your workspace."
   ]
  },
  {
   "cell_type": "code",
   "execution_count": 2,
   "metadata": {},
   "outputs": [
    {
     "name": "stderr",
     "output_type": "stream",
     "text": [
      "Warning message:\n",
      "\"package 'devtools' was built under R version 3.6.3\"Loading required package: usethis\n",
      "Warning message:\n",
      "\"package 'usethis' was built under R version 3.6.3\"√ Creating 'datasummary/'\n",
      "√ Setting active project to 'C:/Users/Migue/datacamp R/Developing R Packages/datasummary'\n",
      "√ Creating 'R/'\n",
      "√ Writing 'DESCRIPTION'\n"
     ]
    },
    {
     "name": "stdout",
     "output_type": "stream",
     "text": [
      "Package: datasummary\n",
      "Title: What the Package Does (One Line, Title Case)\n",
      "Version: 0.0.0.9000\n",
      "Authors@R (parsed):\n",
      "    * First Last <first.last@example.com> [aut, cre] (<https://orcid.org/YOUR-ORCID-ID>)\n",
      "Description: What the package does (one paragraph).\n",
      "License: `use_mit_license()`, `use_gpl3_license()` or friends to pick a\n",
      "    license\n",
      "Encoding: UTF-8\n",
      "LazyData: true\n",
      "Roxygen: list(markdown = TRUE)\n",
      "RoxygenNote: 7.1.1\n"
     ]
    },
    {
     "name": "stderr",
     "output_type": "stream",
     "text": [
      "√ Writing 'NAMESPACE'\n",
      "√ Setting active project to '<no active project>'\n"
     ]
    },
    {
     "data": {
      "text/html": [
       "<ol class=list-inline>\n",
       "\t<li>'DESCRIPTION'</li>\n",
       "\t<li>'NAMESPACE'</li>\n",
       "\t<li>'R'</li>\n",
       "</ol>\n"
      ],
      "text/latex": [
       "\\begin{enumerate*}\n",
       "\\item 'DESCRIPTION'\n",
       "\\item 'NAMESPACE'\n",
       "\\item 'R'\n",
       "\\end{enumerate*}\n"
      ],
      "text/markdown": [
       "1. 'DESCRIPTION'\n",
       "2. 'NAMESPACE'\n",
       "3. 'R'\n",
       "\n",
       "\n"
      ],
      "text/plain": [
       "[1] \"DESCRIPTION\" \"NAMESPACE\"   \"R\"          "
      ]
     },
     "metadata": {},
     "output_type": "display_data"
    }
   ],
   "source": [
    "library(devtools)\n",
    "# Use the create function to set up your first package\n",
    "create(\"datasummary\")\n",
    "\n",
    "# Take a look at the files and folders in your package\n",
    "dir(path = \"datasummary\")"
   ]
  },
  {
   "cell_type": "markdown",
   "metadata": {},
   "source": [
    "### Writing a simple function\n",
    "Whilst there are packages that contain only data, typically packages are created to collect together functions for performing a specific task. If you need a refresher on writing functions you might want to review the course Writing Functions in R.\n",
    "\n",
    "For your package you are going to keep the functions simple. You are going to create a package that produces custom summary output for your data."
   ]
  },
  {
   "cell_type": "code",
   "execution_count": 3,
   "metadata": {},
   "outputs": [
    {
     "data": {
      "text/html": [
       "<table>\n",
       "<thead><tr><th scope=col>min</th><th scope=col>median</th><th scope=col>sd</th><th scope=col>max</th></tr></thead>\n",
       "<tbody>\n",
       "\t<tr><td>0.002214653</td><td>0.4997426  </td><td>0.2869247  </td><td>0.999113   </td></tr>\n",
       "</tbody>\n",
       "</table>\n"
      ],
      "text/latex": [
       "\\begin{tabular}{r|llll}\n",
       " min & median & sd & max\\\\\n",
       "\\hline\n",
       "\t 0.002214653 & 0.4997426   & 0.2869247   & 0.999113   \\\\\n",
       "\\end{tabular}\n"
      ],
      "text/markdown": [
       "\n",
       "| min | median | sd | max |\n",
       "|---|---|---|---|\n",
       "| 0.002214653 | 0.4997426   | 0.2869247   | 0.999113    |\n",
       "\n"
      ],
      "text/plain": [
       "  min         median    sd        max     \n",
       "1 0.002214653 0.4997426 0.2869247 0.999113"
      ]
     },
     "metadata": {},
     "output_type": "display_data"
    }
   ],
   "source": [
    "# Create numeric_summary() function\n",
    "numeric_summary <- function(x, na.rm) {\n",
    "\n",
    "    # Include an error if x is not numeric\n",
    "    if(!is.numeric(x)){\n",
    "        stop(\"Data must be numeric\")\n",
    "    }\n",
    "    \n",
    "    # Create data frame\n",
    "    data.frame( min = min(x, na.rm = na.rm),\n",
    "                median = median(x, na.rm = na.rm),\n",
    "                sd = sd(x, na.rm = na.rm),\n",
    "                max = max(x, na.rm = na.rm))\n",
    "}\n",
    "\n",
    "# Test numeric_summary() function\n",
    "numeric_summary(runif(1000), TRUE)"
   ]
  },
  {
   "cell_type": "markdown",
   "metadata": {},
   "source": [
    "### Including functions in a package\n",
    "Once you have written your function code you need to save it in the R directory of your package. Typically you can do that by saving an R script in the usual manner (i.e. \"Save As\").\n",
    "\n",
    "In the instance that you already have objects created, as you did in the last exercise, that you want to write to the R directory you can do this programmatically. You can use the function dump() to send a named R function to a particular file. The two arguments that you need to pass to this function are the name of the R object, as a character string, and the path to the file that you want to create, including the extension .R.\n",
    "\n",
    "The package datasummary has already been created, along with the function numeric_summary() and is available in your workspace."
   ]
  },
  {
   "cell_type": "code",
   "execution_count": 4,
   "metadata": {},
   "outputs": [
    {
     "data": {
      "text/html": [],
      "text/latex": [],
      "text/markdown": [],
      "text/plain": [
       "character(0)"
      ]
     },
     "metadata": {},
     "output_type": "display_data"
    },
    {
     "data": {
      "text/html": [
       "'numeric_summary.R'"
      ],
      "text/latex": [
       "'numeric\\_summary.R'"
      ],
      "text/markdown": [
       "'numeric_summary.R'"
      ],
      "text/plain": [
       "[1] \"numeric_summary.R\""
      ]
     },
     "metadata": {},
     "output_type": "display_data"
    }
   ],
   "source": [
    "# What is in the R directory before adding a function?\n",
    "dir(\"datasummary/R\")\n",
    "\n",
    "# Use the dump() function to write the numeric_summary function\n",
    "dump(\"numeric_summary\", file = \"datasummary/R/numeric_summary.R\")\n",
    "\n",
    "# Verify that the file is in the correct directory\n",
    "dir(\"datasummary/R\")"
   ]
  },
  {
   "cell_type": "markdown",
   "metadata": {},
   "source": [
    "### The use_* functions\n",
    "Beyond the required structure you can include a number of additional directories containing elements such as vignettes (user guides), data and unit tests. The devtools package makes it really simple for you to add to the package structure by providing a series of use_* functions. For example, use_data() and use_vignette(). Note that when adding vignettes, it's best not to include any spaces in the vignette name.\n",
    "\n",
    "When you are adding data you need to provide the name of the data object along with the argument pkg, giving the path to the package that you want to put your data in.\n",
    "\n",
    "devtools is loaded in your workspace."
   ]
  },
  {
   "cell_type": "code",
   "execution_count": 7,
   "metadata": {},
   "outputs": [],
   "source": [
    "## Not run\n",
    "# What is in the package at the moment?\n",
    "dir(path = \"datasummary\")\n",
    "\n",
    "weather = runif(10000)\n",
    "# Add the weather data\n",
    "use_data(weather, pkg = \"datasummary\", overwrite = TRUE)\n",
    "\n",
    "# Add a vignette called \"Generating Summaries with Data Summary\"\n",
    "use_vignette(\"Generating_Summaries_with_Data_Summary\", pkg = \"datasummary\")\n",
    "\n",
    "# What directories do you now have in your package now?\n",
    " dir(path = \"datasummary\")"
   ]
  },
  {
   "cell_type": "markdown",
   "metadata": {},
   "source": [
    "### Best practice for structuring code\n",
    "A typical R package contains a number of functions that you need to maintain. Whilst there are no strict rules around how you should structure code in a package you generally want to avoid having all of your code in a single script. As you can't have sub-directories you also need to think carefully about how you name the file so that you can find your code again in the future.\n",
    "\n",
    "Suppose you were to write another function for your package that takes all numeric columns in your data and returns a data frame of all of their summary statistics. What would be the best way to structure this code?"
   ]
  },
  {
   "cell_type": "code",
   "execution_count": 8,
   "metadata": {},
   "outputs": [],
   "source": [
    "data_summary <- function(x, na.rm = TRUE){\n",
    "  \n",
    "  num_data <- select_if(x, .predicate = is.numeric) \n",
    "  \n",
    "  map_df(num_data, .f = numeric_summary, na.rm = TRUE, .id = \"ID\")\n",
    "  \n",
    "}\n",
    "\n",
    "# Write the function to the R directory\n",
    "dump(\"data_summary\", file = \"datasummary/R/data_summary.R\")"
   ]
  },
  {
   "cell_type": "code",
   "execution_count": null,
   "metadata": {},
   "outputs": [],
   "source": []
  }
 ],
 "metadata": {
  "kernelspec": {
   "display_name": "R",
   "language": "R",
   "name": "ir"
  },
  "language_info": {
   "codemirror_mode": "r",
   "file_extension": ".r",
   "mimetype": "text/x-r-source",
   "name": "R",
   "pygments_lexer": "r",
   "version": "3.6.1"
  }
 },
 "nbformat": 4,
 "nbformat_minor": 4
}
