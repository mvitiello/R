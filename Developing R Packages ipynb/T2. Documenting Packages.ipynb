{
 "cells": [
  {
   "cell_type": "markdown",
   "metadata": {},
   "source": [
    "## Documenting Packages\n",
    "\n",
    "In this chapter, you will learn how to document your package. You will learn why documentation is important, and how to provide documentation for your package, its functions, and other components. You will also learn about what it means to export a function and how to implement this in your package."
   ]
  },
  {
   "cell_type": "markdown",
   "metadata": {},
   "source": [
    "## A simple function header\n",
    "The roxygen headers are included in the same script as the function code. You use roxygen comments #' to identify a line as part of the roxygen header. You can include regular R comments in the header if you wish, using the usual comment character, #.\n",
    "\n",
    "The first three lines of the header have special meaning and you don't need to use tags to identify them. The first three lines are:\n",
    "\n",
    "1. title\n",
    "2. description\n",
    "3. details\n",
    "\n",
    "Since you don't mention any tags to identify the first three lines, it is necessary that you seperate each one of them by a new line. For example:\n",
    "\n",
    "#' Title goes here\n",
    "\n",
    "#'\n",
    "\n",
    "#' Description goes here\n",
    "\n",
    "#'\n",
    "\n",
    "#' Details go here"
   ]
  },
  {
   "cell_type": "code",
   "execution_count": 5,
   "metadata": {},
   "outputs": [
    {
     "name": "stdout",
     "output_type": "stream",
     "text": [
      "package 'roxygen2' successfully unpacked and MD5 sums checked\n",
      "\n",
      "The downloaded binary packages are in\n",
      "\tC:\\Users\\Migue\\AppData\\Local\\Temp\\RtmpcXyI3R\\downloaded_packages\n"
     ]
    },
    {
     "name": "stderr",
     "output_type": "stream",
     "text": [
      "Warning message:\n",
      "\"package 'roxygen2' was built under R version 3.6.3\""
     ]
    }
   ],
   "source": [
    "## install.packages(\"roxygen2\")\n",
    "library(roxygen2)\n",
    "# Add a title and description\n",
    "#' Numeric Summaries\n",
    "#'\n",
    "#' Summarises numeric data and returns a data frame containing the minimum value, median, standard deviation, and maximum value.\n",
    "\n",
    "numeric_summary <- function(x, na.rm){\n",
    "\n",
    "    if(!is.numeric(x)){\n",
    "        stop(\"Data must be numeric\")\n",
    "    }\n",
    "    \n",
    "    data.frame( min = min(x, na.rm = na.rm),\n",
    "                median = median(x, na.rm = na.rm),\n",
    "                sd = sd(x, na.rm = na.rm),\n",
    "                max = max(x, na.rm = na.rm))\n",
    "}"
   ]
  },
  {
   "cell_type": "markdown",
   "metadata": {},
   "source": [
    "## Documenting function arguments\n",
    "One of the most important aspects of a function to document are the arguments.\n",
    "\n",
    "With roxygen you do this with the @param tag. You follow the tag with the argument name and then any details the user needs to know.\n",
    "\n",
    "If there is a lot of information that you need to provide about an argument you might want to consider putting this in the details section instead.\n",
    "\n",
    "Normally you must document every argument of your function, but in this exercise you'll just document the first argument and come back to the second one later!"
   ]
  },
  {
   "cell_type": "code",
   "execution_count": 6,
   "metadata": {},
   "outputs": [],
   "source": [
    "library(roxygen2)\n",
    "#' Numeric Summaries\n",
    "#'\n",
    "#' Summarises numeric data and returns a data frame containing the minimum value, median, standard deviation, and maximum value.\n",
    "#'\n",
    "# Add appropriate tag and details to document the first argument\n",
    "\n",
    "#' @param x a numeric vector containing the values to summarize.\"\n",
    "\n",
    "numeric_summary <- function(x, na.rm){\n",
    "\n",
    "    if(!is.numeric(x)){\n",
    "        stop(\"data must be numeric\")\n",
    "    }\n",
    "    \n",
    "    data.frame( min = min(x, na.rm = na.rm),\n",
    "                median = median(x, na.rm = na.rm),\n",
    "                sd = sd(x, na.rm = na.rm),\n",
    "                max = max(x, na.rm = na.rm))\n",
    "}"
   ]
  },
  {
   "cell_type": "markdown",
   "metadata": {},
   "source": [
    "### Importing other packages\n",
    "If you wish to use functions from other packages, you should import them in your roxygen header. You can use @import to import an entire package, or @importFrom to import a single function. To show you how @importFrom works, we have imported the gather() function from the tidyr package for you (although it's not needed in this case)."
   ]
  },
  {
   "cell_type": "code",
   "execution_count": 7,
   "metadata": {},
   "outputs": [],
   "source": [
    "#' Summary of Numeric Columns\n",
    "#'\n",
    "#' Generate specific summaries of numeric columns in a data frame\n",
    "#' \n",
    "#' @param x A data frame. Non-numeric columns will be removed\n",
    "#' @param na.rm A logical indicating whether missing values should be removed\n",
    "#' @import purrr\n",
    "#' @import dplyr\n",
    "#' @importFrom tidyr gather\n",
    "data_summary <- function(x, na.rm = TRUE){\n",
    "  \n",
    "  num_data <- select_if(x, .predicate = is.numeric) \n",
    "  \n",
    "  map_df(num_data, .f = numeric_summary, na.rm = na.rm, .id = \"ID\")\n",
    "  \n",
    "}"
   ]
  },
  {
   "cell_type": "markdown",
   "metadata": {},
   "source": [
    "### Exporting functions\n",
    "Although the NAMESPACE file is used to identify functions that are exported you use roxygen tags to create this file. This makes it really easy to see, right next to the function, if your users will be able to work with it or not.\n",
    "\n",
    "We mark a function for exporting using the tag @export."
   ]
  },
  {
   "cell_type": "code",
   "execution_count": 8,
   "metadata": {},
   "outputs": [],
   "source": [
    "#' Summary of Numeric Columns\n",
    "#'\n",
    "#' Generate specific summaries of numeric columns in a data frame\n",
    "#' \n",
    "#' @param x A data frame. Non-numeric columns will be removed\n",
    "#' @param na.rm A logical indicating whether missing values should be removed\n",
    "#' @import dplyr\n",
    "#' @import purrr\n",
    "#' @importFrom tidyr gather\n",
    "#' @export data_summary()\n",
    "data_summary <- function(x, na.rm = TRUE){\n",
    "  \n",
    "  num_data <- select_if(x, .predicate = is.numeric) \n",
    "  \n",
    "  map_df(num_data, .f = numeric_summary, na.rm = na.rm, .id = \"ID\")\n",
    "  \n",
    "}"
   ]
  },
  {
   "cell_type": "markdown",
   "metadata": {},
   "source": [
    "### Adding examples\n",
    "Examples are the way that your end users will learn how to work with your code. You should provide at least one example for any function that is exported. If there are any tricky arguments to your function you might also want to consider examples for those.\n",
    "\n",
    "Examples should ideally be easily reproducible and should not cause an error. If you are going to publish your package to CRAN then examples should also run in a reasonable time, CRAN sets this to around 15 minutes but it's worth double checking the recommendations at the time of submission.\n",
    "\n",
    "You add examples using the @examples tag. Examples will typically span multiple lines. This is fine as roxygen will assume that everything is part of the examples until it finds another tag."
   ]
  },
  {
   "cell_type": "code",
   "execution_count": 9,
   "metadata": {},
   "outputs": [],
   "source": [
    "#' Data Summary for Numeric Columns\n",
    "#'\n",
    "#' Custom summaries of numeric data in a provided data frame\n",
    "#'\n",
    "#' @param x A data.frame containing at least one numeric column\n",
    "#' @param na.rm A logical indicating whether missing values should be removed\n",
    "#' @import dplyr\n",
    "#' @import purrr\n",
    "#' @importFrom tidyr gather\n",
    "#' @export\n",
    "#' @examples\n",
    "#' data_summary(iris)\n",
    "#' data_summary(airquality, na.rm = FALSE)\n",
    "data_summary <- function(x, na.rm = TRUE){\n",
    "  \n",
    "  num_data <- select_if(x, .predicate = is.numeric) \n",
    "  \n",
    "  map_df(num_data, .f = numeric_summary, na.rm = na.rm, .id = \"ID\")\n",
    "  \n",
    "}"
   ]
  },
  {
   "cell_type": "markdown",
   "metadata": {},
   "source": [
    "### Documenting function return values\n",
    "You document the return value of a function using the tag @return. This is where you can tell users what they can expect to get from the function, be that data, a graphic or any other output.\n",
    "\n",
    "When you write documentation you may want to format the text to look like code, link to other functions or, particularly for return objects, format as a bulleted list. You can do this using special formatting:\n",
    "\n",
    "For code you use \\code{text to format}\n",
    "\n",
    "To link to other functions you use \\link[packageName]{functionName}, although note the package name is only required if the function is not in your package\n",
    "\n",
    "To include an unordered list you use \\itemize{}. Inside the brackets you mark new items with \\item followed by the item text."
   ]
  },
  {
   "cell_type": "code",
   "execution_count": 10,
   "metadata": {},
   "outputs": [],
   "source": [
    "#' Data Summary for Numeric Columns\n",
    "#'\n",
    "#' Custom summaries of numeric data in a provided data frame\n",
    "#'\n",
    "#' @param x A data.frame containing at least one numeric column\n",
    "#' @param na.rm A logical indicating whether missing values should be removed\n",
    "#' @import dplyr\n",
    "#' @import purrr\n",
    "#' @importFrom tidyr gather\n",
    "#' @export\n",
    "#' @examples\n",
    "#' data_summary(iris)\n",
    "#' data_summary(airquality, na.rm = FALSE)\n",
    "#'\n",
    "## Update the details for the return value\n",
    "#' @return This function returns a \\code{data.frame} including columns:\n",
    "#' \\itemize{\n",
    "#'  \\item ID Identifier\n",
    "#'  \\item min minimum value of the array \n",
    "#'  \\item median median of the array\n",
    "#'  \\item sd standard deviation of the array\n",
    "#'  \\item maximum value of the array\n",
    "#' }\n",
    "#'\n",
    "#' @export\n",
    "data_summary <- function(x, na.rm = TRUE){\n",
    "  \n",
    "  num_data <- select_if(x, .predicate = is.numeric) \n",
    "  \n",
    "  map_df(num_data, .f = numeric_summary, na.rm = na.rm, .id = \"ID\")\n",
    "  \n",
    "}"
   ]
  },
  {
   "cell_type": "markdown",
   "metadata": {},
   "source": [
    "### Additional documentation\n",
    "Beyond the functions arguments and return values there are many additional items that can be provided in function help files. From who wrote that function to other functions that you might be interested in using. We will also see later how we can identify dependencies using the roxygen header.\n",
    "\n",
    "Other tags that we can use include:\n",
    "\n",
    "@author to identify who wrote the function.\n",
    "\n",
    "@seealso to list other functions that may be of interest to users.\n",
    "\n",
    "@notes to add any other notes relating to the function (e.g. if its experimental, likely to change etc.)"
   ]
  },
  {
   "cell_type": "code",
   "execution_count": 13,
   "metadata": {},
   "outputs": [],
   "source": [
    "#' Summary of Numeric Columns\n",
    "#' Generate specific summaries of numeric columns in a data frame\n",
    "#'\n",
    "#' @param x A data frame. Non-numeric columns will be removed\n",
    "#' @param na.rm A logical indicating whether missing values should be removed\n",
    "#' @import dplyr\n",
    "#' @import purrr\n",
    "#' @importFrom tidyr gather\n",
    "#' @export\n",
    "#' @examples\n",
    "#' data_summary(iris)\n",
    "#' data_summary(airquality, na.rm = FALSE)\n",
    "#' \n",
    "#' @return This function returns a \\code{data.frame} including columns: \n",
    "#' \\itemize{\n",
    "#'  \\item ID\n",
    "#'  \\item min\n",
    "#'  \\item median\n",
    "#'  \\item sd\n",
    "#'  \\item max\n",
    "#' }\n",
    "#'\n",
    "## Add in the author of the `data_summary()` function\n",
    "#' @author My Name <myemail@example.com>  \n",
    "## List the `summary()` function (from the `base` package)\n",
    "#' @seealso \\link[base]{summary}\n",
    "\n",
    "data_summary <- function(x, na.rm = TRUE){\n",
    "  \n",
    "  num_data <- select_if(x, .predicate = is.numeric) \n",
    "  \n",
    "  map_df(num_data, .f = numeric_summary, na.rm = na.rm, .id = \"ID\")\n",
    "  \n",
    "}"
   ]
  },
  {
   "cell_type": "markdown",
   "metadata": {},
   "source": [
    "### Adding package documentation\n",
    "In addition to the individual functions you can also document the whole package.\n",
    "\n",
    "When you document a package you can use all of the same tags as for functions but the problem that you have is that there is no R code to document. Instead you put the keyword \"_PACKAGE\" underneath your package header.\n",
    "\n",
    "You should also use the @docType and @name tags to indicate that this is package level documentation, and specify your package name.\n",
    "\n",
    "You should then save the package documentation in the R directory in a file ending with .R with the same name as the package."
   ]
  },
  {
   "cell_type": "code",
   "execution_count": 14,
   "metadata": {},
   "outputs": [
    {
     "data": {
      "text/html": [
       "'_PACKAGE'"
      ],
      "text/latex": [
       "'\\_PACKAGE'"
      ],
      "text/markdown": [
       "'_PACKAGE'"
      ],
      "text/plain": [
       "[1] \"_PACKAGE\""
      ]
     },
     "metadata": {},
     "output_type": "display_data"
    }
   ],
   "source": [
    "#' Custom Data Summaries\n",
    "#' \n",
    "#' Easily generate custom data frame summaries\n",
    "#' \n",
    "#' @author My Name <myemail@example.com>\n",
    "#' @docType package\n",
    "#' @name datasummary \n",
    "\"_PACKAGE\"\n"
   ]
  },
  {
   "cell_type": "markdown",
   "metadata": {},
   "source": [
    "### Documenting data objects\n",
    "If you include a data set in your package you must also provide documentation for it. As with package level documentation, you should include a title and description.\n",
    "\n",
    "With a data set, once again, there is no function object to document. You instead give the name of the dataset as a character string, for instance \"airquality\". Additionally there are two tags that you need to use:\n",
    "\n",
    "@format to describe the format of the data. This is often used with the describe format.\n",
    "@source to identify where the data came from.\n",
    "You should then save the package documentation in the R directory with a suitable name (in the above case, either airquality.R or data.R).\n",
    "\n",
    "The weather dataset is available in your workspace. Run print(weather) to view it."
   ]
  },
  {
   "cell_type": "code",
   "execution_count": null,
   "metadata": {},
   "outputs": [],
   "source": [
    "#' Random Weather Data\n",
    "#'\n",
    "#' A dataset containing randomly generated weather data.\n",
    "#'\n",
    "#' @format A data frame of 7 rows and 3 columns\n",
    "#' \\describe{\n",
    "#'  \\item{Day}{Numeric values giving day of the week, 1 = Monday, 7 = Sunday}\n",
    "#'  \\item{Temp}{Numeric values giving the temperature each day} \n",
    "#'  \\item{Weather}{character values describing the weather: Snow, Sun and Rain}\n",
    "#' }\n",
    "#' @source Randomly generated data \n",
    "\"weather\""
   ]
  },
  {
   "cell_type": "markdown",
   "metadata": {},
   "source": [
    "### Creating man files\n",
    "Once you've created your documentation using roxygen headers, you need to build your documentation. You can use the document() function from the devtools package to generate your documentation, supplying the path to the package as the first argument. The generated documentation will appear in the man directory. Once you've documented your package, you can view the help files just like you can with any of your existing packages."
   ]
  },
  {
   "cell_type": "code",
   "execution_count": null,
   "metadata": {},
   "outputs": [],
   "source": [
    "# Not run \n",
    "# Generate package documentation\n",
    "document(\"datasummary\")\n",
    "\n",
    "# Examine the contents of the man directory\n",
    "dir(\"datasummary/man\")\n",
    "\n",
    "# View the documentation for the data_summary function\n",
    "help(\"data_summary\")\n",
    "\n",
    "# View the documentation for the weather dataset\n",
    "help(\"weather\")"
   ]
  }
 ],
 "metadata": {
  "kernelspec": {
   "display_name": "R",
   "language": "R",
   "name": "ir"
  },
  "language_info": {
   "codemirror_mode": "r",
   "file_extension": ".r",
   "mimetype": "text/x-r-source",
   "name": "R",
   "pygments_lexer": "r",
   "version": "3.6.1"
  }
 },
 "nbformat": 4,
 "nbformat_minor": 4
}
