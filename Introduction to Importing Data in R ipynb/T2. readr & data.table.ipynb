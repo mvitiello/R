{
 "cells": [
  {
   "cell_type": "markdown",
   "metadata": {},
   "source": [
    "## readr & data.table\n",
    "\n",
    "In addition to base R, there are dedicated packages to easily and efficiently import flat file data. We'll talk about two such packages: readr and data.table."
   ]
  },
  {
   "cell_type": "markdown",
   "metadata": {},
   "source": [
    "### read_csv\n",
    "CSV files can be imported with read_csv(). It's a wrapper function around read_delim() that handles all the details for you. For example, it will assume that the first row contains the column names.\n",
    "\n",
    "The dataset you'll be working with here is potatoes.csv. It gives information on the impact of storage period and cooking on potatoes' flavor. It uses commas to delimit fields in a record, and contains column names in the first row. The file is available in your workspace. Remember that you can inspect your workspace with dir()."
   ]
  },
  {
   "cell_type": "code",
   "execution_count": 2,
   "metadata": {},
   "outputs": [
    {
     "name": "stderr",
     "output_type": "stream",
     "text": [
      "Warning message:\n",
      "\"package 'readr' was built under R version 3.6.3\"\n",
      "-- Column specification ------------------------------------------------------------------------------------------------\n",
      "cols(\n",
      "  area = col_double(),\n",
      "  temp = col_double(),\n",
      "  size = col_double(),\n",
      "  storage = col_double(),\n",
      "  method = col_double(),\n",
      "  texture = col_double(),\n",
      "  flavor = col_double(),\n",
      "  moistness = col_double()\n",
      ")\n",
      "\n"
     ]
    }
   ],
   "source": [
    "# Load the readr package\n",
    "library(readr)\n",
    "\n",
    "# Import potatoes.csv with read_csv(): potatoes\n",
    "potatoes <- read_csv(\"Potatoes.csv\")"
   ]
  },
  {
   "cell_type": "markdown",
   "metadata": {},
   "source": [
    "### read_tsv\n",
    "Where you use read_csv() to easily read in CSV files, you use read_tsv() to easily read in TSV files. TSV is short for tab-separated values.\n",
    "\n",
    "This time, the potatoes data comes in the form of a tab-separated values file; potatoes.txt is available in your workspace. In contrast to potatoes.csv, this file does not contain columns names in the first row, though.\n",
    "\n",
    "There's a vector properties that you can use to specify these column names manually."
   ]
  },
  {
   "cell_type": "code",
   "execution_count": 3,
   "metadata": {},
   "outputs": [
    {
     "name": "stderr",
     "output_type": "stream",
     "text": [
      "\n",
      "-- Column specification ------------------------------------------------------------------------------------------------\n",
      "cols(\n",
      "  area = col_double(),\n",
      "  temp = col_double(),\n",
      "  size = col_double(),\n",
      "  storage = col_double(),\n",
      "  method = col_double(),\n",
      "  texture = col_double(),\n",
      "  flavor = col_double(),\n",
      "  moistness = col_double()\n",
      ")\n",
      "\n"
     ]
    },
    {
     "data": {
      "text/html": [
       "<table>\n",
       "<thead><tr><th scope=col>area</th><th scope=col>temp</th><th scope=col>size</th><th scope=col>storage</th><th scope=col>method</th><th scope=col>texture</th><th scope=col>flavor</th><th scope=col>moistness</th></tr></thead>\n",
       "<tbody>\n",
       "\t<tr><td>1  </td><td>1  </td><td>1  </td><td>1  </td><td>1  </td><td>2.9</td><td>3.2</td><td>3.0</td></tr>\n",
       "\t<tr><td>1  </td><td>1  </td><td>1  </td><td>1  </td><td>2  </td><td>2.3</td><td>2.5</td><td>2.6</td></tr>\n",
       "\t<tr><td>1  </td><td>1  </td><td>1  </td><td>1  </td><td>3  </td><td>2.5</td><td>2.8</td><td>2.8</td></tr>\n",
       "\t<tr><td>1  </td><td>1  </td><td>1  </td><td>1  </td><td>4  </td><td>2.1</td><td>2.9</td><td>2.4</td></tr>\n",
       "\t<tr><td>1  </td><td>1  </td><td>1  </td><td>1  </td><td>5  </td><td>1.9</td><td>2.8</td><td>2.2</td></tr>\n",
       "\t<tr><td>1  </td><td>1  </td><td>1  </td><td>2  </td><td>1  </td><td>1.8</td><td>3.0</td><td>1.7</td></tr>\n",
       "</tbody>\n",
       "</table>\n"
      ],
      "text/latex": [
       "\\begin{tabular}{r|llllllll}\n",
       " area & temp & size & storage & method & texture & flavor & moistness\\\\\n",
       "\\hline\n",
       "\t 1   & 1   & 1   & 1   & 1   & 2.9 & 3.2 & 3.0\\\\\n",
       "\t 1   & 1   & 1   & 1   & 2   & 2.3 & 2.5 & 2.6\\\\\n",
       "\t 1   & 1   & 1   & 1   & 3   & 2.5 & 2.8 & 2.8\\\\\n",
       "\t 1   & 1   & 1   & 1   & 4   & 2.1 & 2.9 & 2.4\\\\\n",
       "\t 1   & 1   & 1   & 1   & 5   & 1.9 & 2.8 & 2.2\\\\\n",
       "\t 1   & 1   & 1   & 2   & 1   & 1.8 & 3.0 & 1.7\\\\\n",
       "\\end{tabular}\n"
      ],
      "text/markdown": [
       "\n",
       "| area | temp | size | storage | method | texture | flavor | moistness |\n",
       "|---|---|---|---|---|---|---|---|\n",
       "| 1   | 1   | 1   | 1   | 1   | 2.9 | 3.2 | 3.0 |\n",
       "| 1   | 1   | 1   | 1   | 2   | 2.3 | 2.5 | 2.6 |\n",
       "| 1   | 1   | 1   | 1   | 3   | 2.5 | 2.8 | 2.8 |\n",
       "| 1   | 1   | 1   | 1   | 4   | 2.1 | 2.9 | 2.4 |\n",
       "| 1   | 1   | 1   | 1   | 5   | 1.9 | 2.8 | 2.2 |\n",
       "| 1   | 1   | 1   | 2   | 1   | 1.8 | 3.0 | 1.7 |\n",
       "\n"
      ],
      "text/plain": [
       "  area temp size storage method texture flavor moistness\n",
       "1 1    1    1    1       1      2.9     3.2    3.0      \n",
       "2 1    1    1    1       2      2.3     2.5    2.6      \n",
       "3 1    1    1    1       3      2.5     2.8    2.8      \n",
       "4 1    1    1    1       4      2.1     2.9    2.4      \n",
       "5 1    1    1    1       5      1.9     2.8    2.2      \n",
       "6 1    1    1    2       1      1.8     3.0    1.7      "
      ]
     },
     "metadata": {},
     "output_type": "display_data"
    }
   ],
   "source": [
    "# Column names\n",
    "properties <- c(\"area\", \"temp\", \"size\", \"storage\", \"method\",\n",
    "                \"texture\", \"flavor\", \"moistness\")\n",
    "\n",
    "# Import potatoes.txt: potatoes\n",
    "potatoes = read_tsv(\"Potatoes.txt\", col_names = properties)\n",
    "\n",
    "# Call head() on potatoes\n",
    "head(potatoes)"
   ]
  },
  {
   "cell_type": "markdown",
   "metadata": {},
   "source": [
    "### read_delim\n",
    "Just as read.table() was the main utils function, read_delim() is the main readr function.\n",
    "\n",
    "read_delim() takes two mandatory arguments:\n",
    "\n",
    "1. file: the file that contains the data\n",
    "2. delim: the character that separates the values in the data file\n",
    "\n",
    "You'll again be working potatoes.txt; the file uses tabs (\"\\t\") to delimit values and does not contain column names in its first line. It's available in your working directory so you can start right away. As before, the vector properties is available to set the col_names."
   ]
  },
  {
   "cell_type": "code",
   "execution_count": 4,
   "metadata": {},
   "outputs": [
    {
     "name": "stderr",
     "output_type": "stream",
     "text": [
      "\n",
      "-- Column specification ------------------------------------------------------------------------------------------------\n",
      "cols(\n",
      "  area = col_double(),\n",
      "  temp = col_double(),\n",
      "  size = col_double(),\n",
      "  storage = col_double(),\n",
      "  method = col_double(),\n",
      "  texture = col_double(),\n",
      "  flavor = col_double(),\n",
      "  moistness = col_double()\n",
      ")\n",
      "\n"
     ]
    },
    {
     "name": "stdout",
     "output_type": "stream",
     "text": [
      "# A tibble: 160 x 8\n",
      "    area  temp  size storage method texture flavor moistness\n",
      "   <dbl> <dbl> <dbl>   <dbl>  <dbl>   <dbl>  <dbl>     <dbl>\n",
      " 1     1     1     1       1      1     2.9    3.2       3  \n",
      " 2     1     1     1       1      2     2.3    2.5       2.6\n",
      " 3     1     1     1       1      3     2.5    2.8       2.8\n",
      " 4     1     1     1       1      4     2.1    2.9       2.4\n",
      " 5     1     1     1       1      5     1.9    2.8       2.2\n",
      " 6     1     1     1       2      1     1.8    3         1.7\n",
      " 7     1     1     1       2      2     2.6    3.1       2.4\n",
      " 8     1     1     1       2      3     3      3         2.9\n",
      " 9     1     1     1       2      4     2.2    3.2       2.5\n",
      "10     1     1     1       2      5     2      2.8       1.9\n",
      "# ... with 150 more rows\n"
     ]
    }
   ],
   "source": [
    "# Column names\n",
    "properties <- c(\"area\", \"temp\", \"size\", \"storage\", \"method\",\n",
    "                \"texture\", \"flavor\", \"moistness\")\n",
    "\n",
    "# Import potatoes.txt using read_delim(): potatoes\n",
    "\n",
    "potatoes = read_delim(\"Potatoes.txt\", delim = \"\\t\", col_names = properties)\n",
    "# Print out potatoes\n",
    "print(potatoes)"
   ]
  },
  {
   "cell_type": "markdown",
   "metadata": {},
   "source": [
    "### skip and n_max\n",
    "Through skip and n_max you can control which part of your flat file you're actually importing into R.\n",
    "\n",
    "skip specifies the number of lines you're ignoring in the flat file before actually starting to import data.\n",
    "n_max specifies the number of lines you're actually importing.\n",
    "Say for example you have a CSV file with 20 lines, and set skip = 2 and n_max = 3, you're only reading in lines 3, 4 and 5 of the file.\n",
    "\n",
    "Watch out: Once you skip some lines, you also skip the first line that can contain column names!\n",
    "\n",
    "potatoes.txt, a flat file with tab-delimited records and without column names, is available in your workspace."
   ]
  },
  {
   "cell_type": "code",
   "execution_count": 5,
   "metadata": {},
   "outputs": [
    {
     "name": "stderr",
     "output_type": "stream",
     "text": [
      "\n",
      "-- Column specification ------------------------------------------------------------------------------------------------\n",
      "cols(\n",
      "  area = col_double(),\n",
      "  temp = col_double(),\n",
      "  size = col_double(),\n",
      "  storage = col_double(),\n",
      "  method = col_double(),\n",
      "  texture = col_double(),\n",
      "  flavor = col_double(),\n",
      "  moistness = col_double()\n",
      ")\n",
      "\n"
     ]
    },
    {
     "name": "stdout",
     "output_type": "stream",
     "text": [
      "# A tibble: 5 x 8\n",
      "   area  temp  size storage method texture flavor moistness\n",
      "  <dbl> <dbl> <dbl>   <dbl>  <dbl>   <dbl>  <dbl>     <dbl>\n",
      "1     1     1     1       2      2     2.6    3.1       2.4\n",
      "2     1     1     1       2      3     3      3         2.9\n",
      "3     1     1     1       2      4     2.2    3.2       2.5\n",
      "4     1     1     1       2      5     2      2.8       1.9\n",
      "5     1     1     1       3      1     1.8    2.6       1.5\n"
     ]
    }
   ],
   "source": [
    "# Column names\n",
    "properties <- c(\"area\", \"temp\", \"size\", \"storage\", \"method\",\n",
    "                \"texture\", \"flavor\", \"moistness\")\n",
    "\n",
    "# Import 5 observations from potatoes.txt: potatoes_fragment\n",
    "potatoes_fragment <- read_tsv(\"Potatoes.txt\", skip = 6, n_max = 5, col_names = properties)\n",
    "\n",
    "print(potatoes_fragment)"
   ]
  },
  {
   "cell_type": "markdown",
   "metadata": {},
   "source": [
    "### col_types\n",
    "You can also specify which types the columns in your imported data frame should have. You can do this with col_types. If set to NULL, the default, functions from the readr package will try to find the correct types themselves. You can manually set the types with a string, where each character denotes the class of the column: character(c), double (d), integer(i) and logical(l). _ skips the column as a whole.\n",
    "\n",
    "potatoes.txt, a flat file with tab-delimited records and without column names, is again available in your workspace."
   ]
  },
  {
   "cell_type": "code",
   "execution_count": 7,
   "metadata": {},
   "outputs": [
    {
     "name": "stdout",
     "output_type": "stream",
     "text": [
      "tibble [160 x 8] (S3: spec_tbl_df/tbl_df/tbl/data.frame)\n",
      " $ area     : chr [1:160] \"1\" \"1\" \"1\" \"1\" ...\n",
      " $ temp     : chr [1:160] \"1\" \"1\" \"1\" \"1\" ...\n",
      " $ size     : chr [1:160] \"1\" \"1\" \"1\" \"1\" ...\n",
      " $ storage  : chr [1:160] \"1\" \"1\" \"1\" \"1\" ...\n",
      " $ method   : chr [1:160] \"1\" \"2\" \"3\" \"4\" ...\n",
      " $ texture  : chr [1:160] \"2.9\" \"2.3\" \"2.5\" \"2.1\" ...\n",
      " $ flavor   : chr [1:160] \"3.2\" \"2.5\" \"2.8\" \"2.9\" ...\n",
      " $ moistness: chr [1:160] \"3\" \"2.6\" \"2.8\" \"2.4\" ...\n",
      " - attr(*, \"spec\")=\n",
      "  .. cols(\n",
      "  ..   area = col_character(),\n",
      "  ..   temp = col_character(),\n",
      "  ..   size = col_character(),\n",
      "  ..   storage = col_character(),\n",
      "  ..   method = col_character(),\n",
      "  ..   texture = col_character(),\n",
      "  ..   flavor = col_character(),\n",
      "  ..   moistness = col_character()\n",
      "  .. )\n"
     ]
    }
   ],
   "source": [
    "# readr is already loaded\n",
    "\n",
    "# Column names\n",
    "properties <- c(\"area\", \"temp\", \"size\", \"storage\", \"method\",\n",
    "                \"texture\", \"flavor\", \"moistness\")\n",
    "\n",
    "# Import all data, but force all columns to be character: potatoes_char\n",
    "potatoes_char <- read_tsv(\"Potatoes.txt\", col_types = \"cccccccc\", col_names = properties)\n",
    "\n",
    "# Print out structure of potatoes_char\n",
    "str(potatoes_char)"
   ]
  },
  {
   "cell_type": "code",
   "execution_count": 8,
   "metadata": {},
   "outputs": [
    {
     "name": "stderr",
     "output_type": "stream",
     "text": [
      "\n",
      "-- Column specification ------------------------------------------------------------------------------------------------\n",
      "cols(\n",
      "  type = col_character(),\n",
      "  calories = col_double(),\n",
      "  sodium = col_double()\n",
      ")\n",
      "\n"
     ]
    },
    {
     "data": {
      "text/plain": [
       "     type              calories         sodium     \n",
       " Length:54          Min.   : 86.0   Min.   :144.0  \n",
       " Class :character   1st Qu.:132.0   1st Qu.:362.5  \n",
       " Mode  :character   Median :145.0   Median :405.0  \n",
       "                    Mean   :145.4   Mean   :424.8  \n",
       "                    3rd Qu.:172.8   3rd Qu.:503.5  \n",
       "                    Max.   :195.0   Max.   :645.0  "
      ]
     },
     "metadata": {},
     "output_type": "display_data"
    },
    {
     "data": {
      "text/plain": [
       "      type       calories         sodium     \n",
       " Beef   :20   Min.   : 86.0   Min.   :144.0  \n",
       " Meat   :17   1st Qu.:132.0   1st Qu.:362.5  \n",
       " Poultry:17   Median :145.0   Median :405.0  \n",
       "              Mean   :145.4   Mean   :424.8  \n",
       "              3rd Qu.:172.8   3rd Qu.:503.5  \n",
       "              Max.   :195.0   Max.   :645.0  "
      ]
     },
     "metadata": {},
     "output_type": "display_data"
    }
   ],
   "source": [
    "# Import without col_types\n",
    "hotdogs <- read_tsv(\"hotdogs.txt\", col_names = c(\"type\", \"calories\", \"sodium\"))\n",
    "\n",
    "# Display the summary of hotdogs\n",
    "summary(hotdogs)\n",
    "\n",
    "# The collectors you will need to import the data\n",
    "fac <- col_factor(levels = c(\"Beef\", \"Meat\", \"Poultry\"))\n",
    "int <- col_integer()\n",
    "\n",
    "# Edit the col_types argument to import the data correctly: hotdogs_factor\n",
    "hotdogs_factor <- read_tsv(\"hotdogs.txt\",\n",
    "                           col_names = c(\"type\", \"calories\", \"sodium\"),\n",
    "                           col_types = list(fac, int, int))\n",
    "\n",
    "# Display the summary of hotdogs_factor\n",
    "summary(hotdogs_factor)"
   ]
  },
  {
   "cell_type": "markdown",
   "metadata": {},
   "source": [
    "### fread\n",
    "You still remember how to use read.table(), right? Well, fread() is a function that does the same job with very similar arguments. It is extremely easy to use and blazingly fast! Often, simply specifying the path to the file is enough to successfully import your data.\n",
    "\n",
    "Don't take our word for it, try it yourself! You'll be working with the potatoes.csv file, that's available in your workspace. Fields are delimited by commas, and the first line contains the column names."
   ]
  },
  {
   "cell_type": "code",
   "execution_count": 11,
   "metadata": {},
   "outputs": [
    {
     "name": "stdout",
     "output_type": "stream",
     "text": [
      "     area temp size storage method texture flavor moistness\n",
      "  1:    1    1    1       1      1     2.9    3.2       3.0\n",
      "  2:    1    1    1       1      2     2.3    2.5       2.6\n",
      "  3:    1    1    1       1      3     2.5    2.8       2.8\n",
      "  4:    1    1    1       1      4     2.1    2.9       2.4\n",
      "  5:    1    1    1       1      5     1.9    2.8       2.2\n",
      " ---                                                       \n",
      "156:    2    2    2       4      1     2.7    3.3       2.6\n",
      "157:    2    2    2       4      2     2.6    2.8       2.3\n",
      "158:    2    2    2       4      3     2.5    3.1       2.6\n",
      "159:    2    2    2       4      4     3.4    3.3       3.0\n",
      "160:    2    2    2       4      5     2.5    2.8       2.3\n"
     ]
    }
   ],
   "source": [
    "# load the data.table package using library()\n",
    "library(data.table)\n",
    "\n",
    "# Import potatoes.csv with fread(): potatoes\n",
    "potatoes <- fread(\"Potatoes.csv\")\n",
    "\n",
    "# Print out potatoes\n",
    "print(potatoes)"
   ]
  },
  {
   "cell_type": "markdown",
   "metadata": {},
   "source": [
    "### fread: more advanced use\n",
    "Now that you know the basics about fread(), you should know about two arguments of the function: drop and select, to drop or select variables of interest.\n",
    "\n",
    "Suppose you have a dataset that contains 5 variables and you want to keep the first and fifth variable, named \"a\" and \"e\". The following options will all do the trick:\n",
    "\n",
    "fread(\"path/to/file.txt\", drop = 2:4)\n",
    "\n",
    "fread(\"path/to/file.txt\", select = c(1, 5))\n",
    "\n",
    "fread(\"path/to/file.txt\", drop = c(\"b\", \"c\", \"d\"))\n",
    "\n",
    "fread(\"path/to/file.txt\", select = c(\"a\", \"e\"))\n",
    "\n",
    "Let's stick with potatoes since we're particularly fond of them here at DataCamp. The data is again available in the file potatoes.csv, containing comma-separated records."
   ]
  },
  {
   "cell_type": "code",
   "execution_count": 12,
   "metadata": {},
   "outputs": [
    {
     "data": {
      "image/png": "[encoded data removed]",
      "text/plain": [
       "plot without title"
      ]
     },
     "metadata": {},
     "output_type": "display_data"
    }
   ],
   "source": [
    "# Import columns 6 and 8 of potatoes.csv: potatoes\n",
    "potatoes = fread(\"Potatoes.csv\", select = c(6, 8))\n",
    "\n",
    "# Plot texture (x) and moistness (y) of potatoes\n",
    "plot(potatoes$texture, potatoes$moistness)"
   ]
  },
  {
   "cell_type": "code",
   "execution_count": null,
   "metadata": {},
   "outputs": [],
   "source": []
  }
 ],
 "metadata": {
  "kernelspec": {
   "display_name": "R",
   "language": "R",
   "name": "ir"
  },
  "language_info": {
   "codemirror_mode": "r",
   "file_extension": ".r",
   "mimetype": "text/x-r-source",
   "name": "R",
   "pygments_lexer": "r",
   "version": "3.6.1"
  }
 },
 "nbformat": 4,
 "nbformat_minor": 4
}
