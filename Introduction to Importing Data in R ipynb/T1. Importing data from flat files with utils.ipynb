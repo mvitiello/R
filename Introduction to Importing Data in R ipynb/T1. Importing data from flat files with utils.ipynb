{
 "cells": [
  {
   "cell_type": "markdown",
   "metadata": {},
   "source": [
    "# Introduction to Importing Data in R"
   ]
  },
  {
   "cell_type": "markdown",
   "metadata": {},
   "source": [
    "Importing data into R should be the easiest step in your analysis. Unfortunately, that is almost never the case. Data can come in many formats, ranging from .csv and text files, to statistical software files, to databases and HTML data. Knowing which approach to use is key to getting started with the actual analysis. In this course, you’ll start by learning how to read .csv and text files in R. You will then cover the readr and data.table packages to easily and efficiently import flat file data. After that, you will learn how to read .xls files in R using readxl and gdata."
   ]
  },
  {
   "cell_type": "markdown",
   "metadata": {},
   "source": [
    "## Importing data from flat files with utils\n",
    "A lot of data comes in the form of flat files: simple tabular text files. Learn how to import the common formats of flat file data with base R functions."
   ]
  },
  {
   "cell_type": "markdown",
   "metadata": {},
   "source": [
    "### Read.csv\n",
    "The utils package, which is automatically loaded in your R session on startup, can import CSV files with the read.csv() function.\n",
    "\n",
    "In this exercise, you'll be working with swimming_pools.csv; it contains data on swimming pools in Brisbane, Australia (Source: data.gov.au). The file contains the column names in the first row. It uses a comma to separate values within rows."
   ]
  },
  {
   "cell_type": "code",
   "execution_count": 1,
   "metadata": {},
   "outputs": [
    {
     "name": "stdout",
     "output_type": "stream",
     "text": [
      "'data.frame':\t20 obs. of  4 variables:\n",
      " $ Name     : Factor w/ 20 levels \"Acacia Ridge Leisure Centre\",..: 1 2 3 4 5 6 19 7 8 9 ...\n",
      " $ Address  : Factor w/ 20 levels \"1 Fairlead Crescent, Manly\",..: 5 20 18 10 9 11 6 15 12 17 ...\n",
      " $ Latitude : num  -27.6 -27.6 -27.6 -27.5 -27.4 ...\n",
      " $ Longitude: num  153 153 153 153 153 ...\n"
     ]
    }
   ],
   "source": [
    "# Import swimming_pools.csv: pools\n",
    "pools = read.csv(\"Swimming_pools.csv\")\n",
    "\n",
    "# Print the structure of pools\n",
    "str(pools)"
   ]
  },
  {
   "cell_type": "markdown",
   "metadata": {},
   "source": [
    "### stringsAsFactors\n",
    "With stringsAsFactors, you can tell R whether it should convert strings in the flat file to factors.\n",
    "\n",
    "For all importing functions in the utils package, this argument is TRUE, which means that you import strings as factors. This only makes sense if the strings you import represent categorical variables in R. If you set stringsAsFactors to FALSE, the data frame columns corresponding to strings in your text file will be character.\n",
    "\n",
    "You'll again be working with the swimming_pools.csv file. It contains two columns (Name and Address), which shouldn't be factors."
   ]
  },
  {
   "cell_type": "code",
   "execution_count": 2,
   "metadata": {},
   "outputs": [
    {
     "name": "stdout",
     "output_type": "stream",
     "text": [
      "'data.frame':\t20 obs. of  4 variables:\n",
      " $ Name     : chr  \"Acacia Ridge Leisure Centre\" \"Bellbowrie Pool\" \"Carole Park\" \"Centenary Pool (inner City)\" ...\n",
      " $ Address  : chr  \"1391 Beaudesert Road, Acacia Ridge\" \"Sugarwood Street, Bellbowrie\" \"Cnr Boundary Road and Waterford Road Wacol\" \"400 Gregory Terrace, Spring Hill\" ...\n",
      " $ Latitude : num  -27.6 -27.6 -27.6 -27.5 -27.4 ...\n",
      " $ Longitude: num  153 153 153 153 153 ...\n"
     ]
    }
   ],
   "source": [
    "# Import swimming_pools.csv correctly: pools\n",
    "pools = read.csv(\"Swimming_pools.csv\", stringsAsFactors = FALSE)\n",
    "\n",
    "# Check the structure of pools\n",
    "str(pools)"
   ]
  },
  {
   "cell_type": "markdown",
   "metadata": {},
   "source": [
    "### read.delim\n",
    "Aside from .csv files, there are also the .txt files which are basically text files. You can import these functions with read.delim(). By default, it sets the sep argument to \"\\t\" (fields in a record are delimited by tabs) and the header argument to TRUE (the first row contains the field names).\n",
    "\n",
    "In this exercise, you will import hotdogs.txt, containing information on sodium and calorie levels in different hotdogs (Source: UCLA). The dataset has 3 variables, but the variable names are not available in the first line of the file. The file uses tabs as field separators."
   ]
  },
  {
   "cell_type": "code",
   "execution_count": 3,
   "metadata": {},
   "outputs": [
    {
     "data": {
      "text/plain": [
       "       V1           V2              V3       \n",
       " Beef   :20   Min.   : 86.0   Min.   :144.0  \n",
       " Meat   :17   1st Qu.:132.0   1st Qu.:362.5  \n",
       " Poultry:17   Median :145.0   Median :405.0  \n",
       "              Mean   :145.4   Mean   :424.8  \n",
       "              3rd Qu.:172.8   3rd Qu.:503.5  \n",
       "              Max.   :195.0   Max.   :645.0  "
      ]
     },
     "metadata": {},
     "output_type": "display_data"
    }
   ],
   "source": [
    "# Import hotdogs.txt: hotdogs. The variable names are not on the first line, \n",
    "# so make sure to set the header argument appropriately.\n",
    "hotdogs = read.delim(\"hotdogs.txt\", header = FALSE)\n",
    "\n",
    "# Summarize hotdogs. This will print out some summary statistics about all variables in the data frame.\n",
    "\n",
    "summary(hotdogs)"
   ]
  },
  {
   "cell_type": "markdown",
   "metadata": {},
   "source": [
    "### read.table\n",
    "If you're dealing with more exotic flat file formats, you'll want to use read.table(). It's the most basic importing function; you can specify tons of different arguments in this function. Unlike read.csv() and read.delim(), the header argument defaults to FALSE and the sep argument is \"\" by default.\n",
    "\n",
    "Up to you again! The data is still hotdogs.txt. It has no column names in the first row, and the field separators are tabs. "
   ]
  },
  {
   "cell_type": "code",
   "execution_count": 4,
   "metadata": {},
   "outputs": [
    {
     "data": {
      "text/html": [
       "<table>\n",
       "<thead><tr><th scope=col>type</th><th scope=col>calories</th><th scope=col>sodium</th></tr></thead>\n",
       "<tbody>\n",
       "\t<tr><td>Beef</td><td>186 </td><td>495 </td></tr>\n",
       "\t<tr><td>Beef</td><td>181 </td><td>477 </td></tr>\n",
       "\t<tr><td>Beef</td><td>176 </td><td>425 </td></tr>\n",
       "\t<tr><td>Beef</td><td>149 </td><td>322 </td></tr>\n",
       "\t<tr><td>Beef</td><td>184 </td><td>482 </td></tr>\n",
       "\t<tr><td>Beef</td><td>190 </td><td>587 </td></tr>\n",
       "</tbody>\n",
       "</table>\n"
      ],
      "text/latex": [
       "\\begin{tabular}{r|lll}\n",
       " type & calories & sodium\\\\\n",
       "\\hline\n",
       "\t Beef & 186  & 495 \\\\\n",
       "\t Beef & 181  & 477 \\\\\n",
       "\t Beef & 176  & 425 \\\\\n",
       "\t Beef & 149  & 322 \\\\\n",
       "\t Beef & 184  & 482 \\\\\n",
       "\t Beef & 190  & 587 \\\\\n",
       "\\end{tabular}\n"
      ],
      "text/markdown": [
       "\n",
       "| type | calories | sodium |\n",
       "|---|---|---|\n",
       "| Beef | 186  | 495  |\n",
       "| Beef | 181  | 477  |\n",
       "| Beef | 176  | 425  |\n",
       "| Beef | 149  | 322  |\n",
       "| Beef | 184  | 482  |\n",
       "| Beef | 190  | 587  |\n",
       "\n"
      ],
      "text/plain": [
       "  type calories sodium\n",
       "1 Beef 186      495   \n",
       "2 Beef 181      477   \n",
       "3 Beef 176      425   \n",
       "4 Beef 149      322   \n",
       "5 Beef 184      482   \n",
       "6 Beef 190      587   "
      ]
     },
     "metadata": {},
     "output_type": "display_data"
    }
   ],
   "source": [
    "# Import the hotdogs.txt file: hotdogs\n",
    "hotdogs <- read.table(\"hotdogs.txt\", \n",
    "                      sep = \"\", \n",
    "                      col.names = c(\"type\", \"calories\", \"sodium\"))\n",
    "\n",
    "# Call head() on hotdogs\n",
    "head(hotdogs)\n"
   ]
  },
  {
   "cell_type": "markdown",
   "metadata": {},
   "source": [
    "### Arguments\n",
    "Lily and Tom are having an argument because they want to share a hot dog but they can't seem to agree on which one to choose. After some time, they simply decide that they will have one each. Lily wants to have the one with the fewest calories while Tom wants to have the one with the most sodium.\n",
    "\n",
    "Next to calories and sodium, the hotdogs have one more variable: type. This can be one of three things: Beef, Meat, or Poultry, so a categorical variable: a factor is fine."
   ]
  },
  {
   "cell_type": "code",
   "execution_count": 5,
   "metadata": {},
   "outputs": [
    {
     "name": "stdout",
     "output_type": "stream",
     "text": [
      "      type calories sodium\n",
      "50 Poultry       86    358\n",
      "   type calories sodium\n",
      "15 Beef      190    645\n"
     ]
    }
   ],
   "source": [
    "# Finish the read.delim() call\n",
    "hotdogs <- read.delim(\"hotdogs.txt\", header =FALSE, col.names = c(\"type\", \"calories\", \"sodium\" ))\n",
    "\n",
    "# Select the hot dog with the least calories: lily\n",
    "lily <- hotdogs[which.min(hotdogs$calories), ]\n",
    "\n",
    "# Select the observation with the most sodium: tom\n",
    "tom <- hotdogs[which.max(hotdogs$sodium), ]\n",
    "\n",
    "# Print lily and tom\n",
    "print(lily)\n",
    "\n",
    "print(tom)\n"
   ]
  },
  {
   "cell_type": "markdown",
   "metadata": {},
   "source": [
    "### Column classes\n",
    "Next to column names, you can also specify the column types or column classes of the resulting data frame. You can do this by setting the colClasses argument to a vector of strings representing classes:\n",
    "\n",
    "read.delim(\"my_file.txt\", colClasses = c(\"character\", \"numeric\", \"logical\"))\n",
    "\n",
    "This approach can be useful if you have some columns that should be factors and others that should be characters. You don't have to bother with stringsAsFactors anymore; just state for each column what the class should be.\n",
    "\n",
    "If a column is set to \"NULL\" in the colClasses vector, this column will be skipped and will not be loaded into the data frame."
   ]
  },
  {
   "cell_type": "code",
   "execution_count": 9,
   "metadata": {},
   "outputs": [
    {
     "name": "stdout",
     "output_type": "stream",
     "text": [
      "'data.frame':\t54 obs. of  3 variables:\n",
      " $ type    : Factor w/ 3 levels \"Beef\",\"Meat\",..: 1 1 1 1 1 1 1 1 1 1 ...\n",
      " $ calories: int  186 181 176 149 184 190 158 139 175 148 ...\n",
      " $ sodium  : int  495 477 425 322 482 587 370 322 479 375 ...\n",
      "'data.frame':\t54 obs. of  2 variables:\n",
      " $ type  : Factor w/ 3 levels \"Beef\",\"Meat\",..: 1 1 1 1 1 1 1 1 1 1 ...\n",
      " $ sodium: num  495 477 425 322 482 587 370 322 479 375 ...\n"
     ]
    }
   ],
   "source": [
    "# Previous call to import hotdogs.txt\n",
    "hotdogs <- read.delim(\"hotdogs.txt\", header = FALSE, col.names = c(\"type\", \"calories\", \"sodium\"))\n",
    "\n",
    "# Display structure of hotdogs\n",
    "str(hotdogs)\n",
    "\n",
    "# Edit the colClasses argument to import the data correctly: hotdogs2\n",
    "hotdogs2 <- read.delim(\"hotdogs.txt\", header = FALSE, \n",
    "                       col.names = c(\"type\", \"calories\", \"sodium\"),\n",
    "                       colClasses = c(\"factor\", \"NULL\", \"numeric\"))\n",
    "\n",
    "\n",
    "# Display structure of hotdogs2\n",
    "str(hotdogs2)"
   ]
  },
  {
   "cell_type": "code",
   "execution_count": null,
   "metadata": {},
   "outputs": [],
   "source": []
  }
 ],
 "metadata": {
  "kernelspec": {
   "display_name": "R",
   "language": "R",
   "name": "ir"
  },
  "language_info": {
   "codemirror_mode": "r",
   "file_extension": ".r",
   "mimetype": "text/x-r-source",
   "name": "R",
   "pygments_lexer": "r",
   "version": "3.6.1"
  }
 },
 "nbformat": 4,
 "nbformat_minor": 4
}
