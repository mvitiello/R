{
 "cells": [
  {
   "cell_type": "markdown",
   "metadata": {},
   "source": [
    "## Importing Excel data\n",
    "Excel is a widely used data analysis tool. If you prefer to do your analyses in R, though, you'll need an understanding of how to import .csv data into R. This chapter will show you how to use readxl and gdata to do so."
   ]
  },
  {
   "cell_type": "markdown",
   "metadata": {},
   "source": [
    "### List the sheets of an Excel file\n",
    "Before you can start importing from Excel, you should find out which sheets are available in the workbook. You can use the excel_sheets() function for this.\n",
    "\n",
    "You will find the Excel file urbanpop.xlsx in your working directory (type dir() to see it). This dataset contains urban population metrics for practically all countries in the world throughout time (Source: Gapminder). It contains three sheets for three different time periods. In each sheet, the first row contains the column names."
   ]
  },
  {
   "cell_type": "code",
   "execution_count": 1,
   "metadata": {},
   "outputs": [
    {
     "data": {
      "text/html": [
       "<ol class=list-inline>\n",
       "\t<li>'1960-1966'</li>\n",
       "\t<li>'1967-1974'</li>\n",
       "\t<li>'1975-2011'</li>\n",
       "</ol>\n"
      ],
      "text/latex": [
       "\\begin{enumerate*}\n",
       "\\item '1960-1966'\n",
       "\\item '1967-1974'\n",
       "\\item '1975-2011'\n",
       "\\end{enumerate*}\n"
      ],
      "text/markdown": [
       "1. '1960-1966'\n",
       "2. '1967-1974'\n",
       "3. '1975-2011'\n",
       "\n",
       "\n"
      ],
      "text/plain": [
       "[1] \"1960-1966\" \"1967-1974\" \"1975-2011\""
      ]
     },
     "metadata": {},
     "output_type": "display_data"
    }
   ],
   "source": [
    "# Load the readxl package\n",
    "library(readxl)\n",
    "\n",
    "# Print the names of all worksheets\n",
    "excel_sheets(\"urbanpop.xlsx\")"
   ]
  },
  {
   "cell_type": "markdown",
   "metadata": {},
   "source": [
    "### Import an Excel sheet\n",
    "Now that you know the names of the sheets in the Excel file you want to import, it is time to import those sheets into R. You can do this with the read_excel() function. Have a look at this recipe:\n",
    "\n",
    "data <- read_excel(\"data.xlsx\", sheet = \"my_sheet\")\n",
    "\n",
    "This call simply imports the sheet with the name \"my_sheet\" from the \"data.xlsx\" file. You can also pass a number to the sheet argument; this will cause read_excel() to import the sheet with the given sheet number. sheet = 1 will import the first sheet, sheet = 2 will import the second sheet, and so on.\n",
    "\n",
    "In this exercise, you'll continue working with the urbanpop.xlsx file."
   ]
  },
  {
   "cell_type": "code",
   "execution_count": 2,
   "metadata": {},
   "outputs": [
    {
     "name": "stdout",
     "output_type": "stream",
     "text": [
      "List of 3\n",
      " $ : tibble [209 x 8] (S3: tbl_df/tbl/data.frame)\n",
      "  ..$ country: chr [1:209] \"Afghanistan\" \"Albania\" \"Algeria\" \"American Samoa\" ...\n",
      "  ..$ 1960   : num [1:209] 769308 494443 3293999 NA NA ...\n",
      "  ..$ 1961   : num [1:209] 814923 511803 3515148 13660 8724 ...\n",
      "  ..$ 1962   : num [1:209] 858522 529439 3739963 14166 9700 ...\n",
      "  ..$ 1963   : num [1:209] 903914 547377 3973289 14759 10748 ...\n",
      "  ..$ 1964   : num [1:209] 951226 565572 4220987 15396 11866 ...\n",
      "  ..$ 1965   : num [1:209] 1000582 583983 4488176 16045 13053 ...\n",
      "  ..$ 1966   : num [1:209] 1058743 602512 4649105 16693 14217 ...\n",
      " $ : tibble [209 x 9] (S3: tbl_df/tbl/data.frame)\n",
      "  ..$ country: chr [1:209] \"Afghanistan\" \"Albania\" \"Algeria\" \"American Samoa\" ...\n",
      "  ..$ 1967   : num [1:209] 1119067 621180 4826104 17349 15440 ...\n",
      "  ..$ 1968   : num [1:209] 1182159 639964 5017299 17996 16727 ...\n",
      "  ..$ 1969   : num [1:209] 1248901 658853 5219332 18619 18088 ...\n",
      "  ..$ 1970   : num [1:209] 1319849 677839 5429743 19206 19529 ...\n",
      "  ..$ 1971   : num [1:209] 1409001 698932 5619042 19752 20929 ...\n",
      "  ..$ 1972   : num [1:209] 1502402 720207 5815734 20263 22406 ...\n",
      "  ..$ 1973   : num [1:209] 1598835 741681 6020647 20742 23937 ...\n",
      "  ..$ 1974   : num [1:209] 1696445 763385 6235114 21194 25482 ...\n",
      " $ : tibble [209 x 38] (S3: tbl_df/tbl/data.frame)\n",
      "  ..$ country: chr [1:209] \"Afghanistan\" \"Albania\" \"Algeria\" \"American Samoa\" ...\n",
      "  ..$ 1975   : num [1:209] 1793266 785350 6460138 21632 27019 ...\n",
      "  ..$ 1976   : num [1:209] 1905033 807990 6774099 22047 28366 ...\n",
      "  ..$ 1977   : num [1:209] 2021308 830959 7102902 22452 29677 ...\n",
      "  ..$ 1978   : num [1:209] 2142248 854262 7447728 22899 31037 ...\n",
      "  ..$ 1979   : num [1:209] 2268015 877898 7810073 23457 32572 ...\n",
      "  ..$ 1980   : num [1:209] 2398775 901884 8190772 24177 34366 ...\n",
      "  ..$ 1981   : num [1:209] 2493265 927224 8637724 25173 36356 ...\n",
      "  ..$ 1982   : num [1:209] 2590846 952447 9105820 26342 38618 ...\n",
      "  ..$ 1983   : num [1:209] 2691612 978476 9591900 27655 40983 ...\n",
      "  ..$ 1984   : num [1:209] 2795656 1006613 10091289 29062 43207 ...\n",
      "  ..$ 1985   : num [1:209] 2903078 1037541 10600112 30524 45119 ...\n",
      "  ..$ 1986   : num [1:209] 3006983 1072365 11101757 32014 46254 ...\n",
      "  ..$ 1987   : num [1:209] 3113957 1109954 11609104 33548 47019 ...\n",
      "  ..$ 1988   : num [1:209] 3224082 1146633 12122941 35095 47669 ...\n",
      "  ..$ 1989   : num [1:209] 3337444 1177286 12645263 36618 48577 ...\n",
      "  ..$ 1990   : num [1:209] 3454129 1198293 13177079 38088 49982 ...\n",
      "  ..$ 1991   : num [1:209] 3617842 1215445 13708813 39600 51972 ...\n",
      "  ..$ 1992   : num [1:209] 3788685 1222544 14248297 41049 54469 ...\n",
      "  ..$ 1993   : num [1:209] 3966956 1222812 14789176 42443 57079 ...\n",
      "  ..$ 1994   : num [1:209] 4152960 1221364 15322651 43798 59243 ...\n",
      "  ..$ 1995   : num [1:209] 4347018 1222234 15842442 45129 60598 ...\n",
      "  ..$ 1996   : num [1:209] 4531285 1228760 16395553 46343 60927 ...\n",
      "  ..$ 1997   : num [1:209] 4722603 1238090 16935451 47527 60462 ...\n",
      "  ..$ 1998   : num [1:209] 4921227 1250366 17469200 48705 59685 ...\n",
      "  ..$ 1999   : num [1:209] 5127421 1265195 18007937 49906 59281 ...\n",
      "  ..$ 2000   : num [1:209] 5341456 1282223 18560597 51151 59719 ...\n",
      "  ..$ 2001   : num [1:209] 5564492 1315690 19198872 52341 61062 ...\n",
      "  ..$ 2002   : num [1:209] 5795940 1352278 19854835 53583 63212 ...\n",
      "  ..$ 2003   : num [1:209] 6036100 1391143 20529356 54864 65802 ...\n",
      "  ..$ 2004   : num [1:209] 6285281 1430918 21222198 56166 68301 ...\n",
      "  ..$ 2005   : num [1:209] 6543804 1470488 21932978 57474 70329 ...\n",
      "  ..$ 2006   : num [1:209] 6812538 1512255 22625052 58679 71726 ...\n",
      "  ..$ 2007   : num [1:209] 7091245 1553491 23335543 59894 72684 ...\n",
      "  ..$ 2008   : num [1:209] 7380272 1594351 24061749 61118 73335 ...\n",
      "  ..$ 2009   : num [1:209] 7679982 1635262 24799591 62357 73897 ...\n",
      "  ..$ 2010   : num [1:209] 7990746 1676545 25545622 63616 74525 ...\n",
      "  ..$ 2011   : num [1:209] 8316976 1716842 26216968 64817 75207 ...\n"
     ]
    }
   ],
   "source": [
    "# Read the sheets, one by one\n",
    "pop_1 <- read_excel(\"urbanpop.xlsx\", sheet = 1)\n",
    "pop_2 <- read_excel(\"urbanpop.xlsx\", sheet = 2)\n",
    "pop_3 <- read_excel(\"urbanpop.xlsx\", sheet = 3)\n",
    "\n",
    "\n",
    "# Put pop_1, pop_2 and pop_3 in a list: pop_list\n",
    "pop_list = list(pop_1, pop_2, pop_3)\n",
    "# Display the structure of pop_list\n",
    "str(pop_list)"
   ]
  },
  {
   "cell_type": "markdown",
   "metadata": {},
   "source": [
    "### Reading a workbook\n",
    "In the previous exercise you generated a list of three Excel sheets that you imported. However, loading in every sheet manually and then merging them in a list can be quite tedious. Luckily, you can automate this with lapply(). If you have no experience with lapply(), feel free to take Chapter 4 of the Intermediate R course.\n",
    "\n",
    "Have a look at the example code below:\n",
    "\n",
    "my_workbook <- lapply(excel_sheets(\"data.xlsx\"), read_excel, path = \"data.xlsx\")\n",
    "\n",
    "The read_excel() function is called multiple times on the \"data.xlsx\" file and each sheet is loaded in one after the other. The result is a list of data frames, each data frame representing one of the sheets in data.xlsx.\n",
    "\n",
    "You're still working with the urbanpop.xlsx file."
   ]
  },
  {
   "cell_type": "code",
   "execution_count": 3,
   "metadata": {},
   "outputs": [
    {
     "name": "stdout",
     "output_type": "stream",
     "text": [
      "List of 3\n",
      " $ : tibble [209 x 8] (S3: tbl_df/tbl/data.frame)\n",
      "  ..$ country: chr [1:209] \"Afghanistan\" \"Albania\" \"Algeria\" \"American Samoa\" ...\n",
      "  ..$ 1960   : num [1:209] 769308 494443 3293999 NA NA ...\n",
      "  ..$ 1961   : num [1:209] 814923 511803 3515148 13660 8724 ...\n",
      "  ..$ 1962   : num [1:209] 858522 529439 3739963 14166 9700 ...\n",
      "  ..$ 1963   : num [1:209] 903914 547377 3973289 14759 10748 ...\n",
      "  ..$ 1964   : num [1:209] 951226 565572 4220987 15396 11866 ...\n",
      "  ..$ 1965   : num [1:209] 1000582 583983 4488176 16045 13053 ...\n",
      "  ..$ 1966   : num [1:209] 1058743 602512 4649105 16693 14217 ...\n",
      " $ : tibble [209 x 9] (S3: tbl_df/tbl/data.frame)\n",
      "  ..$ country: chr [1:209] \"Afghanistan\" \"Albania\" \"Algeria\" \"American Samoa\" ...\n",
      "  ..$ 1967   : num [1:209] 1119067 621180 4826104 17349 15440 ...\n",
      "  ..$ 1968   : num [1:209] 1182159 639964 5017299 17996 16727 ...\n",
      "  ..$ 1969   : num [1:209] 1248901 658853 5219332 18619 18088 ...\n",
      "  ..$ 1970   : num [1:209] 1319849 677839 5429743 19206 19529 ...\n",
      "  ..$ 1971   : num [1:209] 1409001 698932 5619042 19752 20929 ...\n",
      "  ..$ 1972   : num [1:209] 1502402 720207 5815734 20263 22406 ...\n",
      "  ..$ 1973   : num [1:209] 1598835 741681 6020647 20742 23937 ...\n",
      "  ..$ 1974   : num [1:209] 1696445 763385 6235114 21194 25482 ...\n",
      " $ : tibble [209 x 38] (S3: tbl_df/tbl/data.frame)\n",
      "  ..$ country: chr [1:209] \"Afghanistan\" \"Albania\" \"Algeria\" \"American Samoa\" ...\n",
      "  ..$ 1975   : num [1:209] 1793266 785350 6460138 21632 27019 ...\n",
      "  ..$ 1976   : num [1:209] 1905033 807990 6774099 22047 28366 ...\n",
      "  ..$ 1977   : num [1:209] 2021308 830959 7102902 22452 29677 ...\n",
      "  ..$ 1978   : num [1:209] 2142248 854262 7447728 22899 31037 ...\n",
      "  ..$ 1979   : num [1:209] 2268015 877898 7810073 23457 32572 ...\n",
      "  ..$ 1980   : num [1:209] 2398775 901884 8190772 24177 34366 ...\n",
      "  ..$ 1981   : num [1:209] 2493265 927224 8637724 25173 36356 ...\n",
      "  ..$ 1982   : num [1:209] 2590846 952447 9105820 26342 38618 ...\n",
      "  ..$ 1983   : num [1:209] 2691612 978476 9591900 27655 40983 ...\n",
      "  ..$ 1984   : num [1:209] 2795656 1006613 10091289 29062 43207 ...\n",
      "  ..$ 1985   : num [1:209] 2903078 1037541 10600112 30524 45119 ...\n",
      "  ..$ 1986   : num [1:209] 3006983 1072365 11101757 32014 46254 ...\n",
      "  ..$ 1987   : num [1:209] 3113957 1109954 11609104 33548 47019 ...\n",
      "  ..$ 1988   : num [1:209] 3224082 1146633 12122941 35095 47669 ...\n",
      "  ..$ 1989   : num [1:209] 3337444 1177286 12645263 36618 48577 ...\n",
      "  ..$ 1990   : num [1:209] 3454129 1198293 13177079 38088 49982 ...\n",
      "  ..$ 1991   : num [1:209] 3617842 1215445 13708813 39600 51972 ...\n",
      "  ..$ 1992   : num [1:209] 3788685 1222544 14248297 41049 54469 ...\n",
      "  ..$ 1993   : num [1:209] 3966956 1222812 14789176 42443 57079 ...\n",
      "  ..$ 1994   : num [1:209] 4152960 1221364 15322651 43798 59243 ...\n",
      "  ..$ 1995   : num [1:209] 4347018 1222234 15842442 45129 60598 ...\n",
      "  ..$ 1996   : num [1:209] 4531285 1228760 16395553 46343 60927 ...\n",
      "  ..$ 1997   : num [1:209] 4722603 1238090 16935451 47527 60462 ...\n",
      "  ..$ 1998   : num [1:209] 4921227 1250366 17469200 48705 59685 ...\n",
      "  ..$ 1999   : num [1:209] 5127421 1265195 18007937 49906 59281 ...\n",
      "  ..$ 2000   : num [1:209] 5341456 1282223 18560597 51151 59719 ...\n",
      "  ..$ 2001   : num [1:209] 5564492 1315690 19198872 52341 61062 ...\n",
      "  ..$ 2002   : num [1:209] 5795940 1352278 19854835 53583 63212 ...\n",
      "  ..$ 2003   : num [1:209] 6036100 1391143 20529356 54864 65802 ...\n",
      "  ..$ 2004   : num [1:209] 6285281 1430918 21222198 56166 68301 ...\n",
      "  ..$ 2005   : num [1:209] 6543804 1470488 21932978 57474 70329 ...\n",
      "  ..$ 2006   : num [1:209] 6812538 1512255 22625052 58679 71726 ...\n",
      "  ..$ 2007   : num [1:209] 7091245 1553491 23335543 59894 72684 ...\n",
      "  ..$ 2008   : num [1:209] 7380272 1594351 24061749 61118 73335 ...\n",
      "  ..$ 2009   : num [1:209] 7679982 1635262 24799591 62357 73897 ...\n",
      "  ..$ 2010   : num [1:209] 7990746 1676545 25545622 63616 74525 ...\n",
      "  ..$ 2011   : num [1:209] 8316976 1716842 26216968 64817 75207 ...\n"
     ]
    }
   ],
   "source": [
    "# Read all Excel sheets with lapply(): pop_list\n",
    "pop_list = lapply(excel_sheets(\"urbanpop.xlsx\"), read_excel, path = \"urbanpop.xlsx\")\n",
    "\n",
    "# Display the structure of pop_list\n",
    "str(pop_list)"
   ]
  },
  {
   "cell_type": "markdown",
   "metadata": {},
   "source": [
    "### The col_names argument\n",
    "Apart from path and sheet, there are several other arguments you can specify in read_excel(). One of these arguments is called col_names.\n",
    "\n",
    "By default it is TRUE, denoting whether the first row in the Excel sheets contains the column names. If this is not the case, you can set col_names to FALSE. In this case, R will choose column names for you. You can also choose to set col_names to a character vector with names for each column. It works exactly the same as in the readr package.\n",
    "\n",
    "You'll be working with the urbanpop_nonames.xlsx file. It contains the same data as urbanpop.xlsx but has no column names in the first row of the excel sheets."
   ]
  },
  {
   "cell_type": "code",
   "execution_count": 5,
   "metadata": {},
   "outputs": [
    {
     "name": "stderr",
     "output_type": "stream",
     "text": [
      "New names:\n",
      "* `` -> ...1\n",
      "* `` -> ...2\n",
      "* `` -> ...3\n",
      "* `` -> ...4\n",
      "* `` -> ...5\n",
      "* ...\n"
     ]
    },
    {
     "data": {
      "text/plain": [
       "     ...1                ...2                ...3                ...4          \n",
       " Length:209         Min.   :     3378   Min.   :     1028   Min.   :     1090  \n",
       " Class :character   1st Qu.:    88978   1st Qu.:    70644   1st Qu.:    74974  \n",
       " Mode  :character   Median :   580675   Median :   570159   Median :   593968  \n",
       "                    Mean   :  4988124   Mean   :  4991613   Mean   :  5141592  \n",
       "                    3rd Qu.:  3077228   3rd Qu.:  2807280   3rd Qu.:  2948396  \n",
       "                    Max.   :126469700   Max.   :129268133   Max.   :131974143  \n",
       "                    NA's   :11                                                 \n",
       "      ...5                ...6                ...7          \n",
       " Min.   :     1154   Min.   :     1218   Min.   :     1281  \n",
       " 1st Qu.:    81870   1st Qu.:    84953   1st Qu.:    88633  \n",
       " Median :   619331   Median :   645262   Median :   679109  \n",
       " Mean   :  5303711   Mean   :  5468966   Mean   :  5637394  \n",
       " 3rd Qu.:  3148941   3rd Qu.:  3296444   3rd Qu.:  3317422  \n",
       " Max.   :134599886   Max.   :137205240   Max.   :139663053  \n",
       "                                                            \n",
       "      ...8          \n",
       " Min.   :     1349  \n",
       " 1st Qu.:    93638  \n",
       " Median :   735139  \n",
       " Mean   :  5790281  \n",
       " 3rd Qu.:  3418036  \n",
       " Max.   :141962708  \n",
       "                    "
      ]
     },
     "metadata": {},
     "output_type": "display_data"
    },
    {
     "data": {
      "text/plain": [
       "   country            year_1960           year_1961           year_1962        \n",
       " Length:209         Min.   :     3378   Min.   :     1028   Min.   :     1090  \n",
       " Class :character   1st Qu.:    88978   1st Qu.:    70644   1st Qu.:    74974  \n",
       " Mode  :character   Median :   580675   Median :   570159   Median :   593968  \n",
       "                    Mean   :  4988124   Mean   :  4991613   Mean   :  5141592  \n",
       "                    3rd Qu.:  3077228   3rd Qu.:  2807280   3rd Qu.:  2948396  \n",
       "                    Max.   :126469700   Max.   :129268133   Max.   :131974143  \n",
       "                    NA's   :11                                                 \n",
       "   year_1963           year_1964           year_1965        \n",
       " Min.   :     1154   Min.   :     1218   Min.   :     1281  \n",
       " 1st Qu.:    81870   1st Qu.:    84953   1st Qu.:    88633  \n",
       " Median :   619331   Median :   645262   Median :   679109  \n",
       " Mean   :  5303711   Mean   :  5468966   Mean   :  5637394  \n",
       " 3rd Qu.:  3148941   3rd Qu.:  3296444   3rd Qu.:  3317422  \n",
       " Max.   :134599886   Max.   :137205240   Max.   :139663053  \n",
       "                                                            \n",
       "   year_1966        \n",
       " Min.   :     1349  \n",
       " 1st Qu.:    93638  \n",
       " Median :   735139  \n",
       " Mean   :  5790281  \n",
       " 3rd Qu.:  3418036  \n",
       " Max.   :141962708  \n",
       "                    "
      ]
     },
     "metadata": {},
     "output_type": "display_data"
    }
   ],
   "source": [
    "# Import the first Excel sheet of urbanpop_nonames.xlsx (R gives names): pop_a\n",
    "pop_a = read_excel(\"urbanpop_nonames.xlsx\", sheet = 1, col_names = FALSE)\n",
    "\n",
    "# Import the first Excel sheet of urbanpop_nonames.xlsx (specify col_names): pop_b\n",
    "cols <- c(\"country\", paste0(\"year_\", 1960:1966))\n",
    "pop_b = read_excel(\"urbanpop_nonames.xlsx\", sheet = 1, col_names = cols)\n",
    "\n",
    "\n",
    "# Print the summary of pop_a\n",
    "summary(pop_a)\n",
    "\n",
    "# Print the summary of pop_b\n",
    "summary(pop_b)"
   ]
  },
  {
   "cell_type": "markdown",
   "metadata": {},
   "source": [
    "### The skip argument\n",
    "Another argument that can be very useful when reading in Excel files that are less tidy, is skip. With skip, you can tell R to ignore a specified number of rows inside the Excel sheets you're trying to pull data from. Have a look at this example:\n",
    "\n",
    "read_excel(\"data.xlsx\", skip = 15)\n",
    "\n",
    "In this case, the first 15 rows in the first sheet of \"data.xlsx\" are ignored.\n",
    "\n",
    "If the first row of this sheet contained the column names, this information will also be ignored by readxl. Make sure to set col_names to FALSE or manually specify column names in this case!\n",
    "\n",
    "The file urbanpop.xlsx is available in your directory; it has column names in the first rows."
   ]
  },
  {
   "cell_type": "code",
   "execution_count": 6,
   "metadata": {},
   "outputs": [
    {
     "name": "stderr",
     "output_type": "stream",
     "text": [
      "New names:\n",
      "* `` -> ...1\n",
      "* `` -> ...2\n",
      "* `` -> ...3\n",
      "* `` -> ...4\n",
      "* `` -> ...5\n",
      "* ...\n"
     ]
    },
    {
     "data": {
      "text/html": [
       "<table>\n",
       "<thead><tr><th scope=col>...1</th><th scope=col>...2</th><th scope=col>...3</th><th scope=col>...4</th><th scope=col>...5</th><th scope=col>...6</th><th scope=col>...7</th><th scope=col>...8</th><th scope=col>...9</th></tr></thead>\n",
       "<tbody>\n",
       "\t<tr><td>Benin   </td><td>382022.1</td><td>411859.5</td><td>443013.1</td><td>475611.4</td><td>515819.5</td><td>557937.6</td><td>602093.2</td><td>648409.7</td></tr>\n",
       "</tbody>\n",
       "</table>\n"
      ],
      "text/latex": [
       "\\begin{tabular}{r|lllllllll}\n",
       " ...1 & ...2 & ...3 & ...4 & ...5 & ...6 & ...7 & ...8 & ...9\\\\\n",
       "\\hline\n",
       "\t Benin    & 382022.1 & 411859.5 & 443013.1 & 475611.4 & 515819.5 & 557937.6 & 602093.2 & 648409.7\\\\\n",
       "\\end{tabular}\n"
      ],
      "text/markdown": [
       "\n",
       "| ...1 | ...2 | ...3 | ...4 | ...5 | ...6 | ...7 | ...8 | ...9 |\n",
       "|---|---|---|---|---|---|---|---|---|\n",
       "| Benin    | 382022.1 | 411859.5 | 443013.1 | 475611.4 | 515819.5 | 557937.6 | 602093.2 | 648409.7 |\n",
       "\n"
      ],
      "text/plain": [
       "  ...1  ...2     ...3     ...4     ...5     ...6     ...7     ...8     ...9    \n",
       "1 Benin 382022.1 411859.5 443013.1 475611.4 515819.5 557937.6 602093.2 648409.7"
      ]
     },
     "metadata": {},
     "output_type": "display_data"
    }
   ],
   "source": [
    "# Import the second sheet of urbanpop.xlsx, skipping the first 21 rows: urbanpop_sel\n",
    "urbanpop_sel = read_excel(\"urbanpop.xlsx\", sheet = 2, col_names = FALSE, skip = 21)\n",
    "\n",
    "# Print out the first observation from urbanpop_sel\n",
    "head(urbanpop_sel, 1)"
   ]
  },
  {
   "cell_type": "markdown",
   "metadata": {},
   "source": [
    "### Work that Excel data!\n",
    "Now that you can read in Excel data, let's try to clean and merge it. You already used the cbind() function some exercises ago. Let's take it one step further now.\n",
    "\n",
    "The urbanpop.xls dataset is available in your working directory. The file still contains three sheets, and has column names in the first row of each sheet."
   ]
  },
  {
   "cell_type": "code",
   "execution_count": 12,
   "metadata": {},
   "outputs": [
    {
     "data": {
      "text/plain": [
       "   country               1960                1961                1962          \n",
       " Length:197         Min.   :     3378   Min.   :     3433   Min.   :     3481  \n",
       " Class :character   1st Qu.:    87735   1st Qu.:    92905   1st Qu.:    98331  \n",
       " Mode  :character   Median :   599714   Median :   630788   Median :   659464  \n",
       "                    Mean   :  5012388   Mean   :  5282488   Mean   :  5440972  \n",
       "                    3rd Qu.:  3130085   3rd Qu.:  3155370   3rd Qu.:  3250211  \n",
       "                    Max.   :126469700   Max.   :129268133   Max.   :131974143  \n",
       "      1963                1964                1965          \n",
       " Min.   :     3532   Min.   :     3586   Min.   :     3644  \n",
       " 1st Qu.:   104988   1st Qu.:   112084   1st Qu.:   119322  \n",
       " Median :   704989   Median :   740609   Median :   774957  \n",
       " Mean   :  5612312   Mean   :  5786961   Mean   :  5964970  \n",
       " 3rd Qu.:  3416490   3rd Qu.:  3585464   3rd Qu.:  3666724  \n",
       " Max.   :134599886   Max.   :137205240   Max.   :139663053  \n",
       "      1966                1967                1968          \n",
       " Min.   :     3706   Min.   :     3771   Min.   :     3835  \n",
       " 1st Qu.:   128565   1st Qu.:   138024   1st Qu.:   147846  \n",
       " Median :   809768   Median :   838449   Median :   890270  \n",
       " Mean   :  6126413   Mean   :  6288771   Mean   :  6451367  \n",
       " 3rd Qu.:  3871757   3rd Qu.:  4019906   3rd Qu.:  4158186  \n",
       " Max.   :141962708   Max.   :144201722   Max.   :146340364  \n",
       "      1969                1970                1971          \n",
       " Min.   :     3893   Min.   :     3941   Min.   :     4017  \n",
       " 1st Qu.:   158252   1st Qu.:   171063   1st Qu.:   181483  \n",
       " Median :   929450   Median :   976471   Median :  1008630  \n",
       " Mean   :  6624909   Mean   :  6799110   Mean   :  6980895  \n",
       " 3rd Qu.:  4300669   3rd Qu.:  4440047   3rd Qu.:  4595966  \n",
       " Max.   :148475901   Max.   :150922373   Max.   :152863831  \n",
       "      1972                1973                1974          \n",
       " Min.   :     4084   Min.   :     4146   Min.   :     4206  \n",
       " 1st Qu.:   189492   1st Qu.:   197792   1st Qu.:   205410  \n",
       " Median :  1048738   Median :  1097293   Median :  1159402  \n",
       " Mean   :  7165338   Mean   :  7349454   Mean   :  7540446  \n",
       " 3rd Qu.:  4766545   3rd Qu.:  4838297   3rd Qu.:  4906384  \n",
       " Max.   :154530473   Max.   :156034106   Max.   :157488074  \n",
       "      1975                1976                1977          \n",
       " Min.   :     4267   Min.   :     4334   Min.   :     4402  \n",
       " 1st Qu.:   211746   1st Qu.:   216991   1st Qu.:   222209  \n",
       " Median :  1223146   Median :  1249829   Median :  1311276  \n",
       " Mean   :  7731973   Mean   :  7936401   Mean   :  8145945  \n",
       " 3rd Qu.:  5003370   3rd Qu.:  5121118   3rd Qu.:  5227677  \n",
       " Max.   :159452730   Max.   :165583752   Max.   :171550310  \n",
       "      1978                1979                1980          \n",
       " Min.   :     4470   Min.   :     4539   Min.   :     4607  \n",
       " 1st Qu.:   227605   1st Qu.:   233461   1st Qu.:   242583  \n",
       " Median :  1340811   Median :  1448185   Median :  1592397  \n",
       " Mean   :  8361360   Mean   :  8583138   Mean   :  8808772  \n",
       " 3rd Qu.:  5352746   3rd Qu.:  5558850   3rd Qu.:  5815772  \n",
       " Max.   :177605736   Max.   :183785364   Max.   :189947471  \n",
       "      1981                1982                1983          \n",
       " Min.   :     4645   Min.   :     4681   Min.   :     4716  \n",
       " 1st Qu.:   248948   1st Qu.:   257944   1st Qu.:   274139  \n",
       " Median :  1673079   Median :  1713060   Median :  1730626  \n",
       " Mean   :  9049163   Mean   :  9295226   Mean   :  9545035  \n",
       " 3rd Qu.:  6070457   3rd Qu.:  6337995   3rd Qu.:  6619987  \n",
       " Max.   :199385258   Max.   :209435968   Max.   :219680098  \n",
       "      1984                1985                1986          \n",
       " Min.   :     4750   Min.   :     4782   Min.   :     4809  \n",
       " 1st Qu.:   284939   1st Qu.:   300928   1st Qu.:   307699  \n",
       " Median :  1749033   Median :  1786125   Median :  1850910  \n",
       " Mean   :  9798559   Mean   : 10058661   Mean   : 10323839  \n",
       " 3rd Qu.:  6918261   3rd Qu.:  6931780   3rd Qu.:  6935763  \n",
       " Max.   :229872397   Max.   :240414890   Max.   :251630158  \n",
       "      1987                1988                1989          \n",
       " Min.   :     4835   Min.   :     4859   Min.   :     4883  \n",
       " 1st Qu.:   321125   1st Qu.:   334616   1st Qu.:   347348  \n",
       " Median :  1953694   Median :  1997011   Median :  1993544  \n",
       " Mean   : 10595817   Mean   : 10873041   Mean   : 11154458  \n",
       " 3rd Qu.:  6939905   3rd Qu.:  6945022   3rd Qu.:  6885378  \n",
       " Max.   :263433513   Max.   :275570541   Max.   :287810747  \n",
       "      1990                1991                1992          \n",
       " Min.   :     4907   Min.   :     4946   Min.   :     4985  \n",
       " 1st Qu.:   370152   1st Qu.:   394611   1st Qu.:   418788  \n",
       " Median :  2066505   Median :  2150230   Median :  2237405  \n",
       " Mean   : 11438543   Mean   : 11725076   Mean   : 12010922  \n",
       " 3rd Qu.:  6830026   3rd Qu.:  6816589   3rd Qu.:  6820099  \n",
       " Max.   :300165618   Max.   :314689997   Max.   :329099365  \n",
       "      1993                1994                1995          \n",
       " Min.   :     5024   Min.   :     5062   Min.   :     5100  \n",
       " 1st Qu.:   427457   1st Qu.:   435959   1st Qu.:   461993  \n",
       " Median :  2322158   Median :  2410297   Median :  2482393  \n",
       " Mean   : 12296949   Mean   : 12582930   Mean   : 12871480  \n",
       " 3rd Qu.:  7139656   3rd Qu.:  7499901   3rd Qu.:  7708571  \n",
       " Max.   :343555327   Max.   :358232230   Max.   :373035157  \n",
       "      1996                1997                1998          \n",
       " Min.   :     5079   Min.   :     5055   Min.   :     5029  \n",
       " 1st Qu.:   488136   1st Qu.:   494203   1st Qu.:   498002  \n",
       " Median :  2522460   Median :  2606125   Median :  2664983  \n",
       " Mean   : 13165924   Mean   : 13463675   Mean   : 13762861  \n",
       " 3rd Qu.:  7686092   3rd Qu.:  7664316   3rd Qu.:  7784056  \n",
       " Max.   :388936607   Max.   :405031716   Max.   :421147610  \n",
       "      1999                2000                2001          \n",
       " Min.   :     5001   Min.   :     4971   Min.   :     5003  \n",
       " 1st Qu.:   505144   1st Qu.:   525629   1st Qu.:   550638  \n",
       " Median :  2737809   Median :  2826647   Median :  2925851  \n",
       " Mean   : 14063387   Mean   : 14369278   Mean   : 14705743  \n",
       " 3rd Qu.:  8083488   3rd Qu.:  8305564   3rd Qu.:  8421967  \n",
       " Max.   :437126845   Max.   :452999147   Max.   :473204511  \n",
       "      2002                2003                2004          \n",
       " Min.   :     5034   Min.   :     5064   Min.   :     5090  \n",
       " 1st Qu.:   567531   1st Qu.:   572094   1st Qu.:   593900  \n",
       " Median :  2928252   Median :  2944934   Median :  2994356  \n",
       " Mean   : 15043381   Mean   : 15384513   Mean   : 15730299  \n",
       " 3rd Qu.:  8448628   3rd Qu.:  8622732   3rd Qu.:  8999112  \n",
       " Max.   :493402140   Max.   :513607776   Max.   :533892175  \n",
       "      2005                2006                2007          \n",
       " Min.   :     5111   Min.   :     5135   Min.   :     5155  \n",
       " 1st Qu.:   620511   1st Qu.:   632659   1st Qu.:   645172  \n",
       " Median :  3057923   Median :  3269963   Median :  3432024  \n",
       " Mean   : 16080262   Mean   : 16435872   Mean   : 16797484  \n",
       " 3rd Qu.:  9394001   3rd Qu.:  9689807   3rd Qu.:  9803381  \n",
       " Max.   :554367818   Max.   :575050081   Max.   :595731464  \n",
       "      2008                2009                2010          \n",
       " Min.   :     5172   Min.   :     5189   Min.   :     5206  \n",
       " 1st Qu.:   658017   1st Qu.:   671085   1st Qu.:   684302  \n",
       " Median :  3589395   Median :  3652338   Median :  3676309  \n",
       " Mean   : 17164898   Mean   : 17533997   Mean   : 17904811  \n",
       " 3rd Qu.: 10210317   3rd Qu.: 10518289   3rd Qu.: 10618596  \n",
       " Max.   :616552722   Max.   :637533976   Max.   :658557734  \n",
       "      2011          \n",
       " Min.   :     5233  \n",
       " 1st Qu.:   698009  \n",
       " Median :  3664664  \n",
       " Mean   : 18276297  \n",
       " 3rd Qu.: 10731193  \n",
       " Max.   :678796403  "
      ]
     },
     "metadata": {},
     "output_type": "display_data"
    }
   ],
   "source": [
    "# Add code to import data from all three sheets in urbanpop.xls\n",
    "path <- \"urbanpop.xls\"\n",
    "urban_sheet1 <- read_excel(path, sheet = 1)\n",
    "urban_sheet2 <- read_excel(path, sheet = 2)\n",
    "urban_sheet3 <- read_excel(path, sheet = 3)\n",
    "\n",
    "# Extend the cbind() call to include urban_sheet3: urban\n",
    "urban <- cbind(urban_sheet1, urban_sheet2[-1], urban_sheet3[-1])\n",
    "\n",
    "# Remove all rows with NAs from urban: urban_clean\n",
    "urban_clean = na.omit(urban)\n",
    "\n",
    "# Print out a summary of urban_clean\n",
    "summary(urban_clean)"
   ]
  },
  {
   "cell_type": "code",
   "execution_count": null,
   "metadata": {},
   "outputs": [],
   "source": []
  }
 ],
 "metadata": {
  "kernelspec": {
   "display_name": "R",
   "language": "R",
   "name": "ir"
  },
  "language_info": {
   "codemirror_mode": "r",
   "file_extension": ".r",
   "mimetype": "text/x-r-source",
   "name": "R",
   "pygments_lexer": "r",
   "version": "3.6.1"
  }
 },
 "nbformat": 4,
 "nbformat_minor": 4
}
