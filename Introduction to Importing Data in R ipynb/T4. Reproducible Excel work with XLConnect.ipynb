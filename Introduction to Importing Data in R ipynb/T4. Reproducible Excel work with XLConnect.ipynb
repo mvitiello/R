{
 "cells": [
  {
   "cell_type": "markdown",
   "metadata": {},
   "source": [
    "## Reproducible Excel work with XLConnect\n",
    "Beyond importing data from Excel, you can take things one step further with XLConnect. Learn all about it and bridge the gap between R and Excel."
   ]
  },
  {
   "cell_type": "code",
   "execution_count": 1,
   "metadata": {},
   "outputs": [
    {
     "name": "stderr",
     "output_type": "stream",
     "text": [
      "also installing the dependency 'rJava'\n",
      "\n"
     ]
    },
    {
     "name": "stdout",
     "output_type": "stream",
     "text": [
      "package 'rJava' successfully unpacked and MD5 sums checked\n",
      "package 'XLConnect' successfully unpacked and MD5 sums checked\n",
      "\n",
      "The downloaded binary packages are in\n",
      "\tC:\\Users\\Migue\\AppData\\Local\\Temp\\Rtmp61C9lE\\downloaded_packages\n"
     ]
    }
   ],
   "source": [
    "install.packages(\"XLConnect\")"
   ]
  },
  {
   "cell_type": "code",
   "execution_count": null,
   "metadata": {},
   "outputs": [],
   "source": [
    "# Do not RUN - Need 64-bit Java \n",
    "# Load the XLConnect package\n",
    "library(XLConnect)\n",
    "\n",
    "# Build connection to urbanpop.xlsx: my_book\n",
    "my_book = loadWorkbook(\"urbanpop.xlsx\")\n",
    "\n",
    "# Print out the class of my_book\n",
    "print(my_book)"
   ]
  },
  {
   "cell_type": "markdown",
   "metadata": {},
   "source": [
    "### List and read Excel sheets\n",
    "Just as readxl and gdata, you can use XLConnect to import data from Excel file into R.\n",
    "\n",
    "To list the sheets in an Excel file, use getSheets(). To actually import data from a sheet, you can use readWorksheet(). Both functions require an XLConnect workbook object as the first argument.\n",
    "\n",
    "You'll again be working with urbanpop.xlsx. The my_book object that links to this Excel file has already been created."
   ]
  },
  {
   "cell_type": "code",
   "execution_count": null,
   "metadata": {},
   "outputs": [],
   "source": [
    "# Build connection to urbanpop.xlsx\n",
    "my_book <- loadWorkbook(\"urbanpop.xlsx\")\n",
    "\n",
    "# List the sheets in my_book\n",
    "getSheets(my_book)\n",
    "\n",
    "# Import the second sheet in my_book\n",
    "readWorksheet(my_book, sheet = 2)\n"
   ]
  },
  {
   "cell_type": "markdown",
   "metadata": {},
   "source": [
    "### Customize readWorksheet\n",
    "To get a clear overview about urbanpop.xlsx without having to open up the Excel file, you can execute the following code:\n",
    "\n",
    "my_book <- loadWorkbook(\"urbanpop.xlsx\")\n",
    "\n",
    "sheets <- getSheets(my_book)\n",
    "\n",
    "all <- lapply(sheets, readWorksheet, object = my_book)\n",
    "\n",
    "str(all)\n",
    "\n",
    "Suppose we're only interested in urban population data of the years 1968, 1969 and 1970. The data for these years is in the columns 3, 4, and 5 of the second sheet. Only selecting these columns will leave us in the dark about the actual countries the figures belong to."
   ]
  },
  {
   "cell_type": "code",
   "execution_count": null,
   "metadata": {},
   "outputs": [],
   "source": [
    "# Build connection to urbanpop.xlsx\n",
    "my_book <- loadWorkbook(\"urbanpop.xlsx\")\n",
    "\n",
    "# Import columns 3, 4, and 5 from second sheet in my_book: urbanpop_sel\n",
    "urbanpop_sel <- readWorksheet(my_book, sheet = 2, startCol =3, endCol = 5)\n",
    "\n",
    "# Import first column from second sheet in my_book: countries\n",
    "countries <- readWorksheet(my_book, sheet = 2, startCol =1, endCol = 1)\n",
    "\n",
    "# cbind() urbanpop_sel and countries together: selection\n",
    "selection = cbind(countries, urbanpop_sel)"
   ]
  },
  {
   "cell_type": "markdown",
   "metadata": {},
   "source": [
    "### Add worksheet\n",
    "Where readxl and gdata were only able to import Excel data, XLConnect's approach of providing an actual interface to an Excel file makes it able to edit your Excel files from inside R. In this exercise, you'll create a new sheet. In the next exercise, you'll populate the sheet with data, and save the results in a new Excel file.\n",
    "\n",
    "You'll continue to work with urbanpop.xlsx. The my_book object that links to this Excel file is already available."
   ]
  },
  {
   "cell_type": "code",
   "execution_count": null,
   "metadata": {},
   "outputs": [],
   "source": [
    "# Build connection to urbanpop.xlsx\n",
    "my_book <- loadWorkbook(\"urbanpop.xlsx\")\n",
    "\n",
    "# Add a worksheet to my_book, named \"data_summary\"\n",
    "createSheet(my_book, \"data_summary\")\n",
    "\n",
    "# Use getSheets() on my_book\n",
    "getSheets(my_book)"
   ]
  },
  {
   "cell_type": "markdown",
   "metadata": {},
   "source": [
    "### Populate worksheet\n",
    "The first step of creating a sheet is done; let's populate it with some data now! summ, a data frame with some summary statistics on the two Excel sheets is already coded so you can take it from there."
   ]
  },
  {
   "cell_type": "code",
   "execution_count": null,
   "metadata": {},
   "outputs": [],
   "source": [
    "# Create data frame: summ\n",
    "sheets <- getSheets(my_book)[1:3]\n",
    "dims <- sapply(sheets, function(x) dim(readWorksheet(my_book, sheet = x)), USE.NAMES = FALSE)\n",
    "summ <- data.frame(sheets = sheets,\n",
    "                   nrows = dims[1, ],\n",
    "                   ncols = dims[2, ])\n",
    "\n",
    "# Add data in summ to \"data_summary\" sheet\n",
    "writeWorksheet(my_book, summ, sheet = \"data_summary\")\n",
    "\n",
    "# Save workbook as summary.xlsx\n",
    "saveWorkbook(my_book, \"summary.xlsx\")"
   ]
  },
  {
   "cell_type": "markdown",
   "metadata": {},
   "source": [
    "### Renaming sheets\n",
    "Come to think of it, \"data_summary\" is not an ideal name. As the summary of these excel sheets is always data-related, you simply want to name the sheet \"summary\".\n",
    "\n",
    "The code to build a connection to \"urbanpop.xlsx\" and create my_book is already provided for you. It refers to an Excel file with 4 sheets: the three data sheets, and the \"data_summary\" sheet."
   ]
  },
  {
   "cell_type": "code",
   "execution_count": null,
   "metadata": {},
   "outputs": [],
   "source": [
    "# Build connection to urbanpop.xlsx: my_book\n",
    "my_book <- loadWorkbook(\"urbanpop.xlsx\")\n",
    "\n",
    "# Rename \"data_summary\" sheet to \"summary\"\n",
    "renameSheet(my_book,\"data_summary\", \"summary\")\n",
    "\n",
    "# Print out sheets of my_book\n",
    "getSheets(my_book)\n",
    "\n",
    "# Save workbook to \"renamed.xlsx\"\n",
    "saveWorkbook(my_book, \"renamed.xlsx\")"
   ]
  },
  {
   "cell_type": "markdown",
   "metadata": {},
   "source": [
    "### Removing sheets\n",
    "After presenting the new Excel sheet to your peers, it appears not everybody is a big fan. Why summarize sheets and store the info in Excel if all the information is implicitly available? To hell with it, just remove the entire fourth sheet!"
   ]
  },
  {
   "cell_type": "code",
   "execution_count": null,
   "metadata": {},
   "outputs": [],
   "source": [
    "# Build connection to renamed.xlsx: my_book\n",
    "my_book <- loadWorkbook(\"renamed.xlsx\")\n",
    "\n",
    "# Remove the fourth sheet\n",
    "removeSheet(my_book,\"summary\")\n",
    "\n",
    "# Save workbook to \"clean.xlsx\"\n",
    "saveWorkbook(my_book, \"clean.xlsx\")"
   ]
  }
 ],
 "metadata": {
  "kernelspec": {
   "display_name": "R",
   "language": "R",
   "name": "ir"
  },
  "language_info": {
   "codemirror_mode": "r",
   "file_extension": ".r",
   "mimetype": "text/x-r-source",
   "name": "R",
   "pygments_lexer": "r",
   "version": "3.6.1"
  }
 },
 "nbformat": 4,
 "nbformat_minor": 4
}
