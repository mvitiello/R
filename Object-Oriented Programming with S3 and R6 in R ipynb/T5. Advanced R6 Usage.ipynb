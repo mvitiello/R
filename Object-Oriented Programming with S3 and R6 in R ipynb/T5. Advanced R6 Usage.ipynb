{
 "cells": [
  {
   "cell_type": "markdown",
   "metadata": {},
   "source": [
    "## Advanced R6 Usage\n",
    "\n",
    "Complete your mastery of R6 by learning about advanced topics such as copying by reference, shared fields, cloning objects, and finalizing objects. The chapter concludes with an interview with Winston Chang, creator of the R6 package."
   ]
  },
  {
   "cell_type": "markdown",
   "metadata": {},
   "source": [
    "### Working with Environments (1)\n",
    "The environment variable type is similar to a list in that it can contain other variables.\n",
    "\n",
    "You can create a new environment using new.env().\n",
    "\n",
    "Variables can be added to the environment using the same syntax as for lists, that is, you can use the $ and [[ operators."
   ]
  },
  {
   "cell_type": "code",
   "execution_count": 1,
   "metadata": {},
   "outputs": [],
   "source": [
    "# Define a new environment\n",
    "env <- new.env()\n",
    "  \n",
    "# Add an element named perfect\n",
    "env$perfect = c(6,28,496)\n",
    "\n",
    "# Add an element named bases\n",
    "env$bases = c(\"A\",\"C\",\"G\",\"T\")"
   ]
  },
  {
   "cell_type": "markdown",
   "metadata": {},
   "source": [
    "### Working with Environments (2)\n",
    "Most types of R variable use \"copy by value\", meaning that when you take a copy of them, the new variable has its own copy of the values. In this case, changing one variable does not affect the other.\n",
    "\n",
    "Environments use a different system, known as \"copy by reference\", so that all copies are identical; changing one copy changes all the copies.\n",
    "\n",
    "Useful biology fact: RNA bases are slightly different to DNA bases. They are A, C, G, and U."
   ]
  },
  {
   "cell_type": "code",
   "execution_count": 2,
   "metadata": {},
   "outputs": [
    {
     "data": {
      "text/html": [
       "FALSE"
      ],
      "text/latex": [
       "FALSE"
      ],
      "text/markdown": [
       "FALSE"
      ],
      "text/plain": [
       "[1] FALSE"
      ]
     },
     "metadata": {},
     "output_type": "display_data"
    }
   ],
   "source": [
    "# Assign lst\n",
    "lst <- list(\n",
    "  perfect = c(6, 28, 496),\n",
    "  bases = c(\"A\", \"C\", \"G\", \"T\")\n",
    ")\n",
    "\n",
    "# Copy lst\n",
    "lst2 <- lst\n",
    "  \n",
    "# Change lst's bases element\n",
    "lst$bases[4] = \"U\"\n",
    "  \n",
    "# Test lst and lst2 identical\n",
    "identical(lst$bases, lst2$bases)"
   ]
  },
  {
   "cell_type": "code",
   "execution_count": 3,
   "metadata": {},
   "outputs": [
    {
     "data": {
      "text/html": [
       "TRUE"
      ],
      "text/latex": [
       "TRUE"
      ],
      "text/markdown": [
       "TRUE"
      ],
      "text/plain": [
       "[1] TRUE"
      ]
     },
     "metadata": {},
     "output_type": "display_data"
    }
   ],
   "source": [
    "# Do the same with environments\n",
    "\n",
    "# Copy env\n",
    "env2 <- env\n",
    "  \n",
    "# Change env's bases element\n",
    "env$bases[4] = \"U\"\n",
    "  \n",
    "# Test env and env2 identical\n",
    "identical(env$bases, env2$bases)"
   ]
  },
  {
   "cell_type": "markdown",
   "metadata": {},
   "source": [
    "### Static Electricity\n",
    "R6 classes can use environments' copy by reference behavior to share fields between objects. To set this up, define a private field named shared. This field takes several lines to define. It should:\n",
    "\n",
    "1. Create a new environment.\n",
    "2. Assign any shared fields to that environment.\n",
    "3. Return the environment.\n",
    "\n",
    "The shared fields should be accessed via active bindings. These work in the same way as other active bindings that you have seen, but retrieve the fields using a private(dollarSing)shared(dollarSing) prefix."
   ]
  },
  {
   "cell_type": "code",
   "execution_count": 5,
   "metadata": {},
   "outputs": [
    {
     "name": "stderr",
     "output_type": "stream",
     "text": [
      "Warning message:\n",
      "\"package 'R6' was built under R version 3.6.3\""
     ]
    },
    {
     "data": {
      "text/html": [
       "'Warning. If the food is too hot you may scald yourself.'"
      ],
      "text/latex": [
       "'Warning. If the food is too hot you may scald yourself.'"
      ],
      "text/markdown": [
       "'Warning. If the food is too hot you may scald yourself.'"
      ],
      "text/plain": [
       "[1] \"Warning. If the food is too hot you may scald yourself.\""
      ]
     },
     "metadata": {},
     "output_type": "display_data"
    }
   ],
   "source": [
    "library(R6)\n",
    "# Complete the class definition\n",
    "microwave_oven_factory <- R6Class(\n",
    "  \"MicrowaveOven\",\n",
    "  private = list(\n",
    "    shared = {\n",
    "      # Create a new environment named e\n",
    "      e <- new.env()\n",
    "      # Assign safety_warning into e\n",
    "      e$safety_warning <- \"Warning. Do not try to cook metal objects.\"\n",
    "      # Return e\n",
    "      e\n",
    "    }\n",
    "  ),\n",
    "  active = list(\n",
    "    # Add the safety_warning binding\n",
    "    safety_warning = function(value) {\n",
    "      if(missing(value)) {\n",
    "        private$shared$safety_warning\n",
    "      } else {\n",
    "        private$shared$safety_warning <- value\n",
    "      }\n",
    "    }\n",
    "  )\n",
    ")\n",
    "\n",
    "# Create two microwave ovens\n",
    "a_microwave_oven <- microwave_oven_factory$new()\n",
    "another_microwave_oven <- microwave_oven_factory$new()\n",
    "  \n",
    "# Change the safety warning for a_microwave_oven\n",
    "a_microwave_oven$safety_warning <- \"Warning. If the food is too hot you may scald yourself.\"\n",
    "  \n",
    "# Verify that the warning has change for another_microwave\n",
    "another_microwave_oven$safety_warning"
   ]
  },
  {
   "cell_type": "markdown",
   "metadata": {},
   "source": [
    "### Attack of the Clones\n",
    "R6 objects use the same copy by reference behavior as environments. That is, if you copy an R6 object using <- assignment, then changes in one object will be reflected in the copies as well.\n",
    "\n",
    "a_reference_copy <- an_r6_object\n",
    "R6 objects have an automatically generated clone() method that is used to create a copy by value, so that changes to one copy do not affect the others.\n",
    "\n",
    "a_value <- an_r6_object$clone()"
   ]
  },
  {
   "cell_type": "code",
   "execution_count": 6,
   "metadata": {},
   "outputs": [
    {
     "name": "stderr",
     "output_type": "stream",
     "text": [
      "Warning message:\n",
      "\"package 'assertive' was built under R version 3.6.3\""
     ]
    },
    {
     "data": {
      "text/html": [
       "TRUE"
      ],
      "text/latex": [
       "TRUE"
      ],
      "text/markdown": [
       "TRUE"
      ],
      "text/plain": [
       "[1] TRUE"
      ]
     },
     "metadata": {},
     "output_type": "display_data"
    },
    {
     "data": {
      "text/html": [
       "FALSE"
      ],
      "text/latex": [
       "FALSE"
      ],
      "text/markdown": [
       "FALSE"
      ],
      "text/plain": [
       "[1] FALSE"
      ]
     },
     "metadata": {},
     "output_type": "display_data"
    }
   ],
   "source": [
    "library(assertive)\n",
    "\n",
    "# define microwave_oven_factory\n",
    "\n",
    "microwave_oven_factory <- R6Class(\n",
    "  \"MicrowaveOven\",\n",
    "  private = list(\n",
    "    ..power_rating_watts = 800,\n",
    "    ..power_level_watts = 800\n",
    "  ),\n",
    "  \n",
    "  public = list(\n",
    "    cook = function(time_seconds) {\n",
    "      Sys.sleep(time_seconds)\n",
    "      print(\"Your food is cooked!\")\n",
    "    }),\n",
    "  # Add active list containing an active binding\n",
    "  active = list(\n",
    "    power_level_watts = function(value) {\n",
    "      if(missing(value)) {\n",
    "        # Return the private value\n",
    "        private$..power_level_watts\n",
    "      } else {\n",
    "        # Assert that value is a number\n",
    "        assert_is_a_number(value)\n",
    "        # Assert that value is in a closed range from 0 to power rating\n",
    "        assert_all_are_in_closed_range(value, 0,private$..power_rating_watts)\n",
    "        # Set the private power level to value\n",
    "        private$..power_level_watts <- value\n",
    "      }\n",
    "    }\n",
    "  )\n",
    ")\n",
    "\n",
    "\n",
    "# Create a microwave oven\n",
    "a_microwave_oven <- microwave_oven_factory$new()\n",
    "\n",
    "# Copy a_microwave_oven using <-\n",
    "assigned_microwave_oven <- a_microwave_oven\n",
    "  \n",
    "# Copy a_microwave_oven using clone()\n",
    "cloned_microwave_oven <- a_microwave_oven$clone()\n",
    "  \n",
    "# Change a_microwave_oven's power level  \n",
    "a_microwave_oven$power_level_watts <- 400\n",
    "  \n",
    "# Check a_microwave_oven & assigned_microwave_oven same \n",
    "identical(a_microwave_oven$power_level_watts, assigned_microwave_oven$power_level_watts)\n",
    "\n",
    "# Check a_microwave_oven & cloned_microwave_oven different \n",
    "identical(a_microwave_oven$power_level_watts, cloned_microwave_oven$power_level_watts)  "
   ]
  },
  {
   "cell_type": "markdown",
   "metadata": {},
   "source": [
    "### This is the End (of an R6 Object)\n",
    "Just as an R6 class can define a public initialize() method to run custom code when objects are created, they can also define a public finalize() method to run custom code when objects are destroyed. finalize() should take no arguments. It is typically used to close connections to databases or files, or undo side-effects such as changing global options() or graphics par()ameters.\n",
    "\n",
    "The template for the code should be as follows.\n",
    "\n",
    "thing_factory <- R6Class(\n",
    "    \n",
    "  \"Thing\",\n",
    "  \n",
    "    public = list(\n",
    "    \n",
    "        initialize = function(x, y, z) {\n",
    "      # do something\n",
    "    },\n",
    "    \n",
    "        finalize = function() {\n",
    "      # undo something\n",
    "    }\n",
    "\n",
    ")\n",
    "\n",
    ")\n",
    "\n",
    "The finalize() method is called when the object is removed from memory by R's automated garbage collector. You can force a garbage collection by typing gc()."
   ]
  },
  {
   "cell_type": "code",
   "execution_count": 14,
   "metadata": {},
   "outputs": [
    {
     "name": "stderr",
     "output_type": "stream",
     "text": [
      "also installing the dependencies 'bit', 'bit64'\n",
      "\n"
     ]
    },
    {
     "name": "stdout",
     "output_type": "stream",
     "text": [
      "package 'bit' successfully unpacked and MD5 sums checked\n",
      "package 'bit64' successfully unpacked and MD5 sums checked\n",
      "package 'RSQLite' successfully unpacked and MD5 sums checked\n",
      "\n",
      "The downloaded binary packages are in\n",
      "\tC:\\Users\\Migue\\AppData\\Local\\Temp\\Rtmpg3ZrAv\\downloaded_packages\n"
     ]
    },
    {
     "name": "stderr",
     "output_type": "stream",
     "text": [
      "Warning message:\n",
      "\"package 'RSQLite' was built under R version 3.6.3\""
     ]
    },
    {
     "data": {
      "text/html": [
       "<table>\n",
       "<thead><tr><th></th><th scope=col>used</th><th scope=col>(Mb)</th><th scope=col>gc trigger</th><th scope=col>(Mb)</th><th scope=col>max used</th><th scope=col>(Mb)</th></tr></thead>\n",
       "<tbody>\n",
       "\t<tr><th scope=row>Ncells</th><td> 749850</td><td>40.1   </td><td>1417382</td><td>75.7   </td><td>1139135</td><td>60.9   </td></tr>\n",
       "\t<tr><th scope=row>Vcells</th><td>1316696</td><td>10.1   </td><td>8388608</td><td>64.0   </td><td>8199993</td><td>62.6   </td></tr>\n",
       "</tbody>\n",
       "</table>\n"
      ],
      "text/latex": [
       "\\begin{tabular}{r|llllll}\n",
       "  & used & (Mb) & gc trigger & (Mb) & max used & (Mb)\\\\\n",
       "\\hline\n",
       "\tNcells &  749850 & 40.1    & 1417382 & 75.7    & 1139135 & 60.9   \\\\\n",
       "\tVcells & 1316696 & 10.1    & 8388608 & 64.0    & 8199993 & 62.6   \\\\\n",
       "\\end{tabular}\n"
      ],
      "text/markdown": [
       "\n",
       "| <!--/--> | used | (Mb) | gc trigger | (Mb) | max used | (Mb) |\n",
       "|---|---|---|---|---|---|---|\n",
       "| Ncells |  749850 | 40.1    | 1417382 | 75.7    | 1139135 | 60.9    |\n",
       "| Vcells | 1316696 | 10.1    | 8388608 | 64.0    | 8199993 | 62.6    |\n",
       "\n"
      ],
      "text/plain": [
       "       used    (Mb) gc trigger (Mb) max used (Mb)\n",
       "Ncells  749850 40.1 1417382    75.7 1139135  60.9\n",
       "Vcells 1316696 10.1 8388608    64.0 8199993  62.6"
      ]
     },
     "metadata": {},
     "output_type": "display_data"
    }
   ],
   "source": [
    "# install.packages(\"DBI\")\n",
    "# install.packages(\"RSQLite\")\n",
    "library(DBI)\n",
    "library(RSQLite)\n",
    "# From previous step\n",
    "smart_microwave_oven_factory <- R6Class(\n",
    "  \"SmartMicrowaveOven\",\n",
    "  inherit = microwave_oven_factory, \n",
    "  private = list(\n",
    "    conn = NULL\n",
    "  ),\n",
    "  public = list(\n",
    "    initialize = function() {\n",
    "      private$conn <- dbConnect(SQLite(), \"cooking-times.sqlite\")\n",
    "    },\n",
    "    get_cooking_time = function(food) {\n",
    "      dbGetQuery(\n",
    "        private$conn,\n",
    "        sprintf(\"SELECT time_seconds FROM cooking_times WHERE food = '%s'\", food)\n",
    "      )\n",
    "    },\n",
    "    finalize = function() {\n",
    "      message(\"Disconnecting from the cooking times database.\")\n",
    "      dbDisconnect(private$conn)\n",
    "    }\n",
    "  )\n",
    ")\n",
    "a_smart_microwave <- smart_microwave_oven_factory$new()\n",
    "\n",
    "# Remove the smart microwave\n",
    "rm(a_smart_microwave)  \n",
    "\n",
    "# Force garbage collection\n",
    "gc() "
   ]
  },
  {
   "cell_type": "code",
   "execution_count": null,
   "metadata": {},
   "outputs": [],
   "source": []
  }
 ],
 "metadata": {
  "kernelspec": {
   "display_name": "R",
   "language": "R",
   "name": "ir"
  },
  "language_info": {
   "codemirror_mode": "r",
   "file_extension": ".r",
   "mimetype": "text/x-r-source",
   "name": "R",
   "pygments_lexer": "r",
   "version": "3.6.1"
  }
 },
 "nbformat": 4,
 "nbformat_minor": 4
}
