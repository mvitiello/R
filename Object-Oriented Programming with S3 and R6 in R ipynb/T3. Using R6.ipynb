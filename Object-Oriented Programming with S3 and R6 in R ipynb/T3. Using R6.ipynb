{
 "cells": [
  {
   "cell_type": "markdown",
   "metadata": {},
   "source": [
    "## Using R6\n",
    "\n",
    "Learn how to define R6 classes, and to create R6 objects. You'll also learn about the structure of R6 classes, and how to separate the user interface from the implementation details."
   ]
  },
  {
   "cell_type": "markdown",
   "metadata": {},
   "source": [
    "### Specifying the Microwave Oven Class\n",
    "To create R6 objects, you first have to create a class generator, sometimes known as a factory. These are created using the R6Class() function.\n",
    "\n",
    "The first argument to R6Class() is the name of the class of the objects that are created. By convention, this is written in UpperCamelCase. Another argument to R6Class() is called private and holds the data fields for the object. This argument should be a list, with names for each of its elements.\n",
    "\n",
    "Further arguments to R6Class() will be discussed in the coming exercises. The pattern for defining an object factory is as follows.\n",
    "\n",
    "thing_factory <- R6Class(\n",
    "  \n",
    "  \"Thing\",\n",
    "  \n",
    "  private = list(a_field = \"a value\", another_field = 123)\n",
    "\n",
    ")"
   ]
  },
  {
   "cell_type": "code",
   "execution_count": 3,
   "metadata": {},
   "outputs": [
    {
     "name": "stdout",
     "output_type": "stream",
     "text": [
      "package 'R6' successfully unpacked and MD5 sums checked\n",
      "\n",
      "The downloaded binary packages are in\n",
      "\tC:\\Users\\Migue\\AppData\\Local\\Temp\\RtmpGqgoSL\\downloaded_packages\n"
     ]
    },
    {
     "name": "stderr",
     "output_type": "stream",
     "text": [
      "Warning message:\n",
      "\"package 'R6' was built under R version 3.6.3\""
     ]
    }
   ],
   "source": [
    "# install.packages(\"R6\")\n",
    "library(R6)\n",
    "\n",
    "# Define microwave_oven_factory\n",
    "microwave_oven_factory <- R6Class(\n",
    "  \"MicrowaveOven\",\n",
    "  private = list(\n",
    "    power_rating_watts = 800\n",
    "  )\n",
    ")\n"
   ]
  },
  {
   "cell_type": "markdown",
   "metadata": {},
   "source": [
    "### Making Microwave Ovens\n",
    "To make an object, you create a factory, then call its new() method. Note that you don't need to define this method; all factories have a new() method by default."
   ]
  },
  {
   "cell_type": "code",
   "execution_count": 4,
   "metadata": {},
   "outputs": [
    {
     "data": {
      "text/plain": [
       "<MicrowaveOven> object generator\n",
       "  Public:\n",
       "    clone: function (deep = FALSE) \n",
       "  Private:\n",
       "    power_rating_watts: 800\n",
       "  Parent env: <environment: R_GlobalEnv>\n",
       "  Locked objects: TRUE\n",
       "  Locked class: FALSE\n",
       "  Portable: TRUE"
      ]
     },
     "metadata": {},
     "output_type": "display_data"
    }
   ],
   "source": [
    "# View the microwave_oven_factory\n",
    "microwave_oven_factory\n",
    "\n",
    "# Make a new microwave oven\n",
    "microwave_oven <- microwave_oven_factory$new()"
   ]
  },
  {
   "cell_type": "markdown",
   "metadata": {},
   "source": [
    "### Learning to Cook\n",
    "The third argument to R6Class() is called public and holds the user-facing functionality for the object. This argument should be a list, with names for each of its elements.\n",
    "\n",
    "The public element of an R6 class contains the functionality available to the user. Usually it will only contain functions.\n",
    "\n",
    "The updated pattern for creating an R6 class generator is as follows:\n",
    "\n",
    "thing_factory <- R6Class(\n",
    "  \n",
    "  \"Thing\",\n",
    "  \n",
    "  private = list( a_field = \"a value\", another_field = 123),\n",
    "  \n",
    "  public = list(\n",
    "    do_something = function(x, y, z) {\n",
    "      \n",
    "      # Do something here\n",
    "    \n",
    "    }\n",
    "    \n",
    "  )\n",
    "\n",
    ")"
   ]
  },
  {
   "cell_type": "code",
   "execution_count": 5,
   "metadata": {},
   "outputs": [
    {
     "name": "stdout",
     "output_type": "stream",
     "text": [
      "[1] \"Your food is cooked!\"\n"
     ]
    }
   ],
   "source": [
    "# Add a cook method to the factory definition\n",
    "microwave_oven_factory <- R6Class(\n",
    "  \"MicrowaveOven\",\n",
    "  private = list(\n",
    "    power_rating_watts = 800\n",
    "  ),\n",
    "  public = list(\n",
    "    cook = function(time_seconds) {\n",
    "      Sys.sleep(time_seconds)\n",
    "      print(\"Your food is cooked!\")\n",
    "    }\n",
    "  )\n",
    ")\n",
    "\n",
    "# Create microwave oven object\n",
    "a_microwave_oven <- microwave_oven_factory$new()\n",
    "\n",
    "# Call cook method for 1 second\n",
    "a_microwave_oven$cook(1)"
   ]
  },
  {
   "cell_type": "markdown",
   "metadata": {},
   "source": [
    "### Close the Door\n",
    "Methods for an R6 object can access its private fields by using the private$ prefix."
   ]
  },
  {
   "cell_type": "code",
   "execution_count": 6,
   "metadata": {},
   "outputs": [],
   "source": [
    "# Add a close_door() method\n",
    "microwave_oven_factory <- R6Class(\n",
    "  \"MicrowaveOven\",\n",
    "  private = list(\n",
    "    power_rating_watts = 800,\n",
    "    door_is_open = FALSE\n",
    "  ),\n",
    "  public = list(\n",
    "    cook = function(time_seconds) {\n",
    "      Sys.sleep(time_seconds)\n",
    "      print(\"Your food is cooked!\")\n",
    "    },\n",
    "    open_door = function() {\n",
    "      private$door_is_open <- TRUE\n",
    "    },\n",
    "    close_door = function(){\n",
    "      private$door_is_open <- FALSE\n",
    "    }\n",
    "  )\n",
    ")"
   ]
  },
  {
   "cell_type": "markdown",
   "metadata": {},
   "source": [
    "## First Thing's First\n",
    "There is one special public method named initialize() (note the American English spelling). This is not called directly by the user. Instead, it is called automatically when an object is created; that is, when the user calls new().\n",
    "\n",
    "initialize() lets you set the values of the private fields when you create an R6 object. The pattern for an initialize() function is as follows:\n",
    "\n",
    "thing_factory <- R6Class(\n",
    "  \n",
    "    \"Thing\",\n",
    "  \n",
    "    private = list(a_field = \"a value\", another_field = 123),\n",
    "    \n",
    "    public = list(\n",
    "    \n",
    "    initialize = function(a_field, another_field) {\n",
    "        \n",
    "      if(!missing(a_field)) {\n",
    "          \n",
    "        private$a_field <- a_field\n",
    "      \n",
    "      }\n",
    "      \n",
    "        if(!missing(another_field)) {\n",
    "            \n",
    "        private$another_field <- another_field\n",
    "      }\n",
    "        \n",
    "    }\n",
    "        \n",
    "  )\n",
    "\n",
    ")\n",
    "\n",
    "Notice the use of missing(). This returns TRUE if an argument wasn't passed in the function call.\n",
    "\n",
    "Arguments to the factory's new() method are passed to initialize().\n",
    "\n",
    "a_thing <- thing_factory$new(\n",
    "    \n",
    "    a_field = \"a different value\", \n",
    "  \n",
    "    another_field = 456\n",
    ")"
   ]
  },
  {
   "cell_type": "code",
   "execution_count": 7,
   "metadata": {},
   "outputs": [],
   "source": [
    "# Add an initialize method\n",
    "microwave_oven_factory <- R6Class(\n",
    "  \"MicrowaveOven\",\n",
    "  private = list(\n",
    "    power_rating_watts = 800,\n",
    "    door_is_open = FALSE\n",
    "  ),\n",
    "  public = list(\n",
    "    cook = function(time_seconds) {\n",
    "      Sys.sleep(time_seconds)\n",
    "      print(\"Your food is cooked!\")\n",
    "    },\n",
    "    open_door = function() {\n",
    "      private$door_is_open <- TRUE\n",
    "    },\n",
    "    close_door = function() {\n",
    "      private$door_is_open <- FALSE\n",
    "    },\n",
    "    # Add initialize() method here\n",
    "    initialize = function(power_rating_watts,door_is_open) {\n",
    "      if(!missing(power_rating_watts)) {\n",
    "        private$power_rating_watts <- power_rating_watts\n",
    "      }\n",
    "      if(!missing(door_is_open)) {\n",
    "        private$door_is_open <- door_is_open\n",
    "      }  \n",
    "    }\n",
    "  )\n",
    ")\n",
    "\n",
    "# Make a microwave\n",
    "a_microwave_oven <- microwave_oven_factory$new(650, TRUE)\n"
   ]
  },
  {
   "cell_type": "markdown",
   "metadata": {},
   "source": [
    "### Read the Rating\n",
    "The data stored by an R6 object is deliberately hidden away from the user by keeping it in the private element. This is the principle of encapsulation.\n",
    "\n",
    "If you want to provide access to any of the data values, you can use an active binding. These are functions that behave like variables.\n",
    "\n",
    "Active bindings are stored in the active element of an R6 object. To create an active binding to get a private data field (i.e. a \"read-only\" binding), you create a function with no arguments that simply returns the private element.\n",
    "\n",
    "The pattern for creating a read-only active binding is as follows:\n",
    "\n",
    "thing_factory <- R6Class(\n",
    "  \n",
    "    \"Thing\",\n",
    "  \n",
    "    private = list(\n",
    "    \n",
    "        ..a_field = \"a value\"\n",
    "  ),\n",
    "  \n",
    "    active = list(\n",
    "    a_field = function() {\n",
    "        \n",
    "      private$..a_field\n",
    "    \n",
    "    }\n",
    "        \n",
    "    )\n",
    "\n",
    ")\n",
    "\n",
    "The active binding is called like a data variable, not a function.\n",
    "\n",
    "a_thing <- thing_factory$new()\n",
    "\n",
    "\n",
    "a_thing$a_field\n",
    "\n",
    "'#not a_thing$a_field()\n"
   ]
  },
  {
   "cell_type": "code",
   "execution_count": 9,
   "metadata": {},
   "outputs": [
    {
     "data": {
      "text/html": [
       "800"
      ],
      "text/latex": [
       "800"
      ],
      "text/markdown": [
       "800"
      ],
      "text/plain": [
       "[1] 800"
      ]
     },
     "metadata": {},
     "output_type": "display_data"
    }
   ],
   "source": [
    "# Add a binding for power rating\n",
    "microwave_oven_factory <- R6Class(\n",
    "  \"MicrowaveOven\",\n",
    "  private = list(\n",
    "    ..power_rating_watts = 800\n",
    "  ),\n",
    "  active = list(\n",
    "    # Add the binding here\n",
    "     power_rating_watts = function(){\n",
    "       private$..power_rating_watts\n",
    "     }\n",
    "  )\n",
    ")\n",
    "\n",
    "# Make a microwave \n",
    "a_microwave_oven <- microwave_oven_factory$new()\n",
    "\n",
    "# Get the power rating\n",
    "a_microwave_oven$power_rating_watts"
   ]
  },
  {
   "cell_type": "markdown",
   "metadata": {},
   "source": [
    "Control the Power\n",
    "Active bindings can also be used to set private fields. In this case, the binding function should accept a single argument, named \"value\".\n",
    "\n",
    "The pattern for creating a read/write active binding is as follows.\n",
    "\n",
    "thing_factory <- R6Class(\n",
    "    \n",
    "    \"Thing\",\n",
    "  \n",
    "    private = list(..a_field = \"a value\"),\n",
    "  \n",
    "    active = list(\n",
    "    a_field = function(value) {\n",
    "      \n",
    "        if(missing(value)) {\n",
    "        \n",
    "            private$..a_field\n",
    "      } else {\n",
    "        \n",
    "            assert_is_a_string(value) # or another assertion\n",
    "        \n",
    "            private$..a_field <- value\n",
    "      }\n",
    "    }\n",
    "  \n",
    "    )\n",
    "\n",
    ")\n",
    "\n",
    "Values are assigned as though the binding was a data variable, not a function.\n",
    "\n",
    "a_thing <- thing_factory$new()\n",
    "\n",
    "a_thing$a_field <- \"a new value\"\n",
    "\n",
    "'# not a_thing$a_field(\"a new value\")"
   ]
  },
  {
   "cell_type": "code",
   "execution_count": 13,
   "metadata": {},
   "outputs": [
    {
     "data": {
      "text/html": [
       "800"
      ],
      "text/latex": [
       "800"
      ],
      "text/markdown": [
       "800"
      ],
      "text/plain": [
       "[1] 800"
      ]
     },
     "metadata": {},
     "output_type": "display_data"
    },
    {
     "ename": "ERROR",
     "evalue": "Error in (function (value) : is_in_closed_range : value are not all in the range [0,800].\nThere was 1 failure:\n  Position Value    Cause\n1        1  1600 too high\n",
     "output_type": "error",
     "traceback": [
      "Error in (function (value) : is_in_closed_range : value are not all in the range [0,800].\nThere was 1 failure:\n  Position Value    Cause\n1        1  1600 too high\nTraceback:\n",
      "1. (function (value) \n . {\n .     if (missing(value)) {\n .         private$..power_level_watts\n .     }\n .     else {\n .         assert_is_a_number(value)\n .         assert_all_are_in_closed_range(value, 0, private$..power_rating_watts)\n .         private$..power_level_watts <- value\n .     }\n . })(base::quote(1600))",
      "2. assert_all_are_in_closed_range(value, 0, private$..power_rating_watts)   # at line 21 of file <text>",
      "3. assert_engine(is_in_closed_range, x, lower = lower, upper = upper, \n .     .xname = .xname, msg = msg, na_ignore = na_ignore, severity = severity)",
      "4. give_feedback(handler_type, msg, predicate_name)"
     ]
    }
   ],
   "source": [
    "# install.packages(\"assertive\")\n",
    "library(assertive)\n",
    "\n",
    "# Add a binding for power rating\n",
    "microwave_oven_factory <- R6Class(\n",
    "  \"MicrowaveOven\",\n",
    "  private = list(\n",
    "    ..power_rating_watts = 800,\n",
    "    ..power_level_watts = 800\n",
    "  ),\n",
    "  # Add active list containing an active binding\n",
    "  active = list(\n",
    "    power_level_watts = function(value) {\n",
    "      if(missing(value)) {\n",
    "        # Return the private value\n",
    "        private$..power_level_watts\n",
    "      } else {\n",
    "        # Assert that value is a number\n",
    "        assert_is_a_number(value)\n",
    "        # Assert that value is in a closed range from 0 to power rating\n",
    "        assert_all_are_in_closed_range(value, 0,private$..power_rating_watts)\n",
    "        # Set the private power level to value\n",
    "        private$..power_level_watts <- value\n",
    "      }\n",
    "    }\n",
    "  )\n",
    ")\n",
    "\n",
    "# Make a microwave \n",
    "a_microwave_oven <- microwave_oven_factory$new()\n",
    "\n",
    "# Get the power level\n",
    "a_microwave_oven$power_level_watts\n",
    "\n",
    "# Try to set the power level to 1600 watts\n",
    "a_microwave_oven$power_level_watts <- 1600"
   ]
  },
  {
   "cell_type": "code",
   "execution_count": 14,
   "metadata": {},
   "outputs": [],
   "source": [
    "# Set the power level to 400 watts\n",
    "a_microwave_oven$power_level_watts <- 400"
   ]
  },
  {
   "cell_type": "code",
   "execution_count": 15,
   "metadata": {},
   "outputs": [
    {
     "ename": "ERROR",
     "evalue": "Error in (function (value) : is_a_number : value is not of class 'numeric'; it has class 'character'.\n",
     "output_type": "error",
     "traceback": [
      "Error in (function (value) : is_a_number : value is not of class 'numeric'; it has class 'character'.\nTraceback:\n",
      "1. (function (value) \n . {\n .     if (missing(value)) {\n .         private$..power_level_watts\n .     }\n .     else {\n .         assert_is_a_number(value)\n .         assert_all_are_in_closed_range(value, 0, private$..power_rating_watts)\n .         private$..power_level_watts <- value\n .     }\n . })(base::quote(\"400\"))",
      "2. assert_is_a_number(value)   # at line 19 of file <text>",
      "3. assert_engine(is_a_number, x, .xname = get_name_in_parent(x), \n .     severity = severity)",
      "4. give_feedback(handler_type, msg, predicate_name)"
     ]
    }
   ],
   "source": [
    "# Try to set the power level to \"400\"\n",
    "a_microwave_oven$power_level_watts <- \"400\""
   ]
  },
  {
   "cell_type": "code",
   "execution_count": null,
   "metadata": {},
   "outputs": [],
   "source": []
  }
 ],
 "metadata": {
  "kernelspec": {
   "display_name": "R",
   "language": "R",
   "name": "ir"
  },
  "language_info": {
   "codemirror_mode": "r",
   "file_extension": ".r",
   "mimetype": "text/x-r-source",
   "name": "R",
   "pygments_lexer": "r",
   "version": "3.6.1"
  }
 },
 "nbformat": 4,
 "nbformat_minor": 4
}
