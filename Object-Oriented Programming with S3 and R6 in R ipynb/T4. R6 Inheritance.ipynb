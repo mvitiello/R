{
 "cells": [
  {
   "cell_type": "markdown",
   "metadata": {},
   "source": [
    "## R6 Inheritance\n",
    "\n",
    "Learn how to inherit from an R6 class, and how the relationship between parent and child classes works."
   ]
  },
  {
   "cell_type": "markdown",
   "metadata": {},
   "source": [
    "### Specifying a Fancy Microwave Oven\n",
    "Inheritance is used to propagate – that is, copy – functionality from one class to another. To create a child class from another class, use the inherit argument to R6Class().\n",
    "\n",
    "The pattern to create a child class is:\n",
    "\n",
    "child_class_factory <- R6Class(\n",
    "  \n",
    "  \"ChildClass\",\n",
    "  \n",
    "  inherit = parent_class_factory\n",
    ")"
   ]
  },
  {
   "cell_type": "code",
   "execution_count": 4,
   "metadata": {},
   "outputs": [],
   "source": [
    "library(R6)\n",
    "library(assertive)\n",
    "\n",
    "microwave_oven_factory <- R6Class(\n",
    "  \"MicrowaveOven\",\n",
    "  private = list(\n",
    "    ..power_rating_watts = 800,\n",
    "    ..power_level_watts = 800\n",
    "  ),\n",
    "  \n",
    "  public = list(\n",
    "    cook = function(time_seconds) {\n",
    "      Sys.sleep(time_seconds)\n",
    "      print(\"Your food is cooked!\")\n",
    "    }),\n",
    "  # Add active list containing an active binding\n",
    "  active = list(\n",
    "    power_level_watts = function(value) {\n",
    "      if(missing(value)) {\n",
    "        # Return the private value\n",
    "        private$..power_level_watts\n",
    "      } else {\n",
    "        # Assert that value is a number\n",
    "        assert_is_a_number(value)\n",
    "        # Assert that value is in a closed range from 0 to power rating\n",
    "        assert_all_are_in_closed_range(value, 0,private$..power_rating_watts)\n",
    "        # Set the private power level to value\n",
    "        private$..power_level_watts <- value\n",
    "      }\n",
    "    }\n",
    "  )\n",
    ")\n",
    "\n",
    "\n",
    "\n",
    "# Define a fancy microwave class inheriting from microwave oven\n",
    "fancy_microwave_oven_factory <- R6Class(\n",
    "    \"FancyMicrowaveOven\",\n",
    "    inherit = microwave_oven_factory\n",
    ")"
   ]
  },
  {
   "cell_type": "markdown",
   "metadata": {},
   "source": [
    "### Making a Fancy Microwave Oven\n",
    "Inheritance means that the methods of the child class are exact copies of those in the parent class."
   ]
  },
  {
   "cell_type": "code",
   "execution_count": 5,
   "metadata": {},
   "outputs": [
    {
     "data": {
      "text/plain": [
       "<MicrowaveOven> object generator\n",
       "  Public:\n",
       "    cook: function (time_seconds) \n",
       "    clone: function (deep = FALSE) \n",
       "  Active bindings:\n",
       "    power_level_watts: function (value) \n",
       "  Private:\n",
       "    ..power_rating_watts: 800\n",
       "    ..power_level_watts: 800\n",
       "  Parent env: <environment: R_GlobalEnv>\n",
       "  Locked objects: TRUE\n",
       "  Locked class: FALSE\n",
       "  Portable: TRUE"
      ]
     },
     "metadata": {},
     "output_type": "display_data"
    },
    {
     "data": {
      "text/plain": [
       "<FancyMicrowaveOven> object generator\n",
       "  Inherits from: <microwave_oven_factory>\n",
       "  Public:\n",
       "    clone: function (deep = FALSE) \n",
       "  Parent env: <environment: R_GlobalEnv>\n",
       "  Locked objects: TRUE\n",
       "  Locked class: FALSE\n",
       "  Portable: TRUE"
      ]
     },
     "metadata": {},
     "output_type": "display_data"
    },
    {
     "data": {
      "text/html": [
       "TRUE"
      ],
      "text/latex": [
       "TRUE"
      ],
      "text/markdown": [
       "TRUE"
      ],
      "text/plain": [
       "[1] TRUE"
      ]
     },
     "metadata": {},
     "output_type": "display_data"
    },
    {
     "name": "stdout",
     "output_type": "stream",
     "text": [
      "[1] \"Your food is cooked!\"\n",
      "[1] \"Your food is cooked!\"\n"
     ]
    }
   ],
   "source": [
    "# Explore microwave oven classes\n",
    "microwave_oven_factory\n",
    "fancy_microwave_oven_factory\n",
    "\n",
    "# Instantiate both types of microwave\n",
    "a_microwave_oven <- microwave_oven_factory$new()\n",
    "a_fancy_microwave <- fancy_microwave_oven_factory$new()\n",
    "\n",
    "# Get power rating for each microwave\n",
    "microwave_power_rating <- a_microwave_oven$power_rating_watts\n",
    "fancy_microwave_power_rating <- a_fancy_microwave$power_rating_watts\n",
    "\n",
    "# Verify that these are the same\n",
    "identical(microwave_power_rating, fancy_microwave_power_rating)\n",
    "\n",
    "# Cook with each microwave\n",
    "a_microwave_oven$cook(1)\n",
    "a_fancy_microwave$cook(1)"
   ]
  },
  {
   "cell_type": "markdown",
   "metadata": {},
   "source": [
    "### Extending the Cooking Capabilities\n",
    "The child class can extend the functionality of the parent by adding further public methods with names that are different to those available in the parent class.\n",
    "\n",
    "Public methods can call other public methods by prefixing their name with self$."
   ]
  },
  {
   "cell_type": "code",
   "execution_count": 6,
   "metadata": {},
   "outputs": [
    {
     "name": "stdout",
     "output_type": "stream",
     "text": [
      "[1] \"Your food is cooked!\"\n"
     ]
    }
   ],
   "source": [
    "# Extend the class definition\n",
    "fancy_microwave_oven_factory <- R6Class(\n",
    "  \"FancyMicrowaveOven\",\n",
    "  inherit = microwave_oven_factory,\n",
    "  # Add a public list with a cook baked potato method\n",
    "  public = list(\n",
    "    cook_baked_potato = function(){\n",
    "      self$cook(3)\n",
    "    }\n",
    "  )\n",
    ")\n",
    "\n",
    "# Instantiate a fancy microwave\n",
    "a_fancy_microwave <- fancy_microwave_oven_factory$new()\n",
    "\n",
    "# Call the cook_baked_potato() method\n",
    "a_fancy_microwave$cook_baked_potato()"
   ]
  },
  {
   "cell_type": "markdown",
   "metadata": {},
   "source": [
    "### Overriding the Cooking Capabilities\n",
    "Child classes can also extend functionality by overriding methods. They do this by defining methods with the same name as that of the parent.\n",
    "\n",
    "Child classes can access public methods from their parent class by prefixing the name with super$."
   ]
  },
  {
   "cell_type": "code",
   "execution_count": 7,
   "metadata": {},
   "outputs": [
    {
     "name": "stdout",
     "output_type": "stream",
     "text": [
      "[1] \"Your food is cooked!\"\n"
     ]
    },
    {
     "name": "stderr",
     "output_type": "stream",
     "text": [
      "Enjoy your dinner!\n"
     ]
    }
   ],
   "source": [
    "# Update the class definition\n",
    "fancy_microwave_oven_factory <- R6Class(\n",
    "  \"FancyMicrowaveOven\",\n",
    "  inherit = microwave_oven_factory,\n",
    "  # Add a public list with a cook method\n",
    "  public = list(\n",
    "    cook = function(time_seconds){\n",
    "      super$cook(time_seconds)\n",
    "      message(\"Enjoy your dinner!\")\n",
    "    } \n",
    "  )\n",
    ")\n",
    "\n",
    "# Instantiate a fancy microwave\n",
    "a_fancy_microwave <- fancy_microwave_oven_factory$new()\n",
    "\n",
    "# Call the cook() method\n",
    "a_fancy_microwave$cook(1)"
   ]
  },
  {
   "cell_type": "markdown",
   "metadata": {},
   "source": [
    "### Exposing your Parent\n",
    "By default, R6 classes only have access to the functionality of their direct parent. To allow access across multiple generations, the intermediate classes need to define an active binding that exposes their parent. This takes the form\n",
    "\n",
    "active = list(\n",
    "  \n",
    "  super_ = function() super\n",
    "\n",
    ")"
   ]
  },
  {
   "cell_type": "code",
   "execution_count": 8,
   "metadata": {},
   "outputs": [
    {
     "name": "stdout",
     "output_type": "stream",
     "text": [
      "[1] \"Your food is cooked!\"\n"
     ]
    }
   ],
   "source": [
    "# Expose the parent functionality\n",
    "fancy_microwave_oven_factory <- R6Class(\n",
    "  \"FancyMicrowaveOven\",\n",
    "  inherit = microwave_oven_factory,\n",
    "  public = list(\n",
    "    cook_baked_potato = function() {\n",
    "      self$cook(3)\n",
    "    },\n",
    "    cook = function(time_seconds) {\n",
    "      super$cook(time_seconds)\n",
    "      message(\"Enjoy your dinner!\")\n",
    "    }\n",
    "  ),\n",
    "  # Add an active element with a super_ binding\n",
    "  active = list(\n",
    "    super_ = function() super\n",
    "  )\n",
    ")\n",
    "\n",
    "# Instantiate a fancy microwave\n",
    "a_fancy_microwave <- fancy_microwave_oven_factory$new()\n",
    "\n",
    "# Call the super_ binding\n",
    "a_fancy_microwave$super_$cook(1)"
   ]
  },
  {
   "cell_type": "markdown",
   "metadata": {},
   "source": [
    "### Over-Overriding the Cooking Capabilities\n",
    "\n",
    "Once intermediate classes have exposed their parent functionality with super_ active bindings, you can access methods across several generations of R6 class. The syntax is\n",
    "\n",
    "parent_method <- super$method()\n",
    "\n",
    "grand_parent_method <- super$super_\n",
    "\n",
    "$method()\n",
    "\n",
    "great_grand_parent_method <- super$super_\n",
    "\n",
    "$super_\n",
    "\n",
    "$method()"
   ]
  },
  {
   "cell_type": "code",
   "execution_count": 10,
   "metadata": {},
   "outputs": [
    {
     "data": {
      "text/plain": [
       "<MicrowaveOven> object generator\n",
       "  Public:\n",
       "    cook: function (time_seconds) \n",
       "    clone: function (deep = FALSE) \n",
       "  Active bindings:\n",
       "    power_level_watts: function (value) \n",
       "  Private:\n",
       "    ..power_rating_watts: 800\n",
       "    ..power_level_watts: 800\n",
       "  Parent env: <environment: R_GlobalEnv>\n",
       "  Locked objects: TRUE\n",
       "  Locked class: FALSE\n",
       "  Portable: TRUE"
      ]
     },
     "metadata": {},
     "output_type": "display_data"
    },
    {
     "data": {
      "text/plain": [
       "<FancyMicrowaveOven> object generator\n",
       "  Inherits from: <microwave_oven_factory>\n",
       "  Public:\n",
       "    cook_baked_potato: function () \n",
       "    cook: function (time_seconds) \n",
       "    clone: function (deep = FALSE) \n",
       "  Active bindings:\n",
       "    super_: function () \n",
       "  Parent env: <environment: R_GlobalEnv>\n",
       "  Locked objects: TRUE\n",
       "  Locked class: FALSE\n",
       "  Portable: TRUE"
      ]
     },
     "metadata": {},
     "output_type": "display_data"
    },
    {
     "name": "stdout",
     "output_type": "stream",
     "text": [
      "[1] \"Your food is cooked!\"\n"
     ]
    },
    {
     "name": "stderr",
     "output_type": "stream",
     "text": [
      "enjoy your food\n"
     ]
    }
   ],
   "source": [
    "# Explore other microwaves\n",
    "microwave_oven_factory\n",
    "fancy_microwave_oven_factory\n",
    "\n",
    "# Define a high-end microwave oven class\n",
    "high_end_microwave_oven_factory <- R6Class(\n",
    " \"HighEndMicrowaveOven\",\n",
    "  inherit = fancy_microwave_oven_factory,\n",
    "  public = list(\n",
    "    cook = function(time_seconds){\n",
    "      super$super_$cook(time_seconds)\n",
    "       message(\"enjoy your food\")\n",
    "    }\n",
    "  )\n",
    ")\n",
    "\n",
    "# Instantiate a high-end microwave oven\n",
    "a_high_end_microwave <- high_end_microwave_oven_factory$new()\n",
    "\n",
    "# Use it to cook for one second\n",
    "a_high_end_microwave$cook(1)"
   ]
  },
  {
   "cell_type": "code",
   "execution_count": null,
   "metadata": {},
   "outputs": [],
   "source": []
  }
 ],
 "metadata": {
  "kernelspec": {
   "display_name": "R",
   "language": "R",
   "name": "ir"
  },
  "language_info": {
   "codemirror_mode": "r",
   "file_extension": ".r",
   "mimetype": "text/x-r-source",
   "name": "R",
   "pygments_lexer": "r",
   "version": "3.6.1"
  }
 },
 "nbformat": 4,
 "nbformat_minor": 4
}
