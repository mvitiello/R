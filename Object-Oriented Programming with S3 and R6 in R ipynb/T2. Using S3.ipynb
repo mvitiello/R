{
 "cells": [
  {
   "cell_type": "markdown",
   "metadata": {},
   "source": [
    "## Using S3\n",
    "\n",
    "S3 is a very simple object-oriented system that lets you define different behavior for functions, depending upon their input argument. This chapter explains how to use S3, and how generics and methods work."
   ]
  },
  {
   "cell_type": "markdown",
   "metadata": {},
   "source": [
    "### What's in a Name?\n",
    "S3 uses a strict naming convention: all S3 methods have a name of the form generic.class.\n",
    "\n",
    "The converse is not true: a function can have a name containing a dot without being an S3 method. This is the case with many of the functions that have been around since the early days of the S language. For example, all.equal() is actually an S3 generic, not a method. (This is an example of how leopard.case can be confusing.)\n",
    "\n",
    "You can check if a function is an S3 generic by calling is_s3_generic() from the pryr package. You can also print it (by typing its name in the console), then looking to see if it calls UseMethod().\n",
    "\n",
    "Similarly, you can check if a function is an S3 method by calling is_s3_method() from pryr. For example,\n",
    "\n",
    "library(pryr)\n",
    "\n",
    "is_s3_generic(\"t\")           # generic transpose function\n",
    "\n",
    "is_s3_method(\"t.data.frame\") # transpose method for data.frames\n",
    "\n",
    "is_s3_method(\"t.test\")       # a function for Student's t-tests \n",
    "\n",
    "Which statements are true?\n",
    "\n",
    "1. is.complex() is a method of the is generic that acts on complex objects.\n",
    "2. seq.Date() is a method of the seq generic that acts on Date objects.\n",
    "3. is.na.data.frame() is a method of the is.na generic that acts on data.frame objects.\n",
    "4. sort() is a generic function.\n",
    "5. order() is a generic function.\n",
    "\n",
    "Answer: 2, 3 and 4"
   ]
  },
  {
   "cell_type": "code",
   "execution_count": 4,
   "metadata": {},
   "outputs": [
    {
     "data": {
      "text/html": [
       "FALSE"
      ],
      "text/latex": [
       "FALSE"
      ],
      "text/markdown": [
       "FALSE"
      ],
      "text/plain": [
       "[1] FALSE"
      ]
     },
     "metadata": {},
     "output_type": "display_data"
    },
    {
     "data": {
      "text/html": [
       "TRUE"
      ],
      "text/latex": [
       "TRUE"
      ],
      "text/markdown": [
       "TRUE"
      ],
      "text/plain": [
       "[1] TRUE"
      ]
     },
     "metadata": {},
     "output_type": "display_data"
    },
    {
     "data": {
      "text/html": [
       "TRUE"
      ],
      "text/latex": [
       "TRUE"
      ],
      "text/markdown": [
       "TRUE"
      ],
      "text/plain": [
       "[1] TRUE"
      ]
     },
     "metadata": {},
     "output_type": "display_data"
    },
    {
     "data": {
      "text/html": [
       "TRUE"
      ],
      "text/latex": [
       "TRUE"
      ],
      "text/markdown": [
       "TRUE"
      ],
      "text/plain": [
       "[1] TRUE"
      ]
     },
     "metadata": {},
     "output_type": "display_data"
    },
    {
     "data": {
      "text/html": [
       "FALSE"
      ],
      "text/latex": [
       "FALSE"
      ],
      "text/markdown": [
       "FALSE"
      ],
      "text/plain": [
       "[1] FALSE"
      ]
     },
     "metadata": {},
     "output_type": "display_data"
    }
   ],
   "source": [
    "# install.packages(\"pryr\")\n",
    "library(pryr)\n",
    "is_s3_method(\"is.complex\")\n",
    "is_s3_method(\"seq.Date\")\n",
    "is_s3_method(\"is.na.data.frame\")\n",
    "is_s3_generic(\"sort\")\n",
    "is_s3_generic(\"order\")"
   ]
  },
  {
   "cell_type": "markdown",
   "metadata": {},
   "source": [
    "### Creating a Generic Function\n",
    "You can create your own S3 functions. The first step is to write the generic. This is typically a single line function that calls UseMethod(), passing its name as a string.\n",
    "\n",
    "The first argument to an S3 generic is usually called x, though this isn't compulsory. It is also good practice to include a ... (\"ellipsis\", or \"dot-dot-dot\") argument, in case arguments need to be passed from one method to another.\n",
    "\n",
    "Overall, the structure of an S3 generic looks like this.\n",
    "\n",
    "an_s3_generic <- function(x, maybe = \"some\", other = \"arguments\", ...) {\n",
    "  \n",
    "  UseMethod(\"an_s3_generic\")\n",
    "\n",
    "}"
   ]
  },
  {
   "cell_type": "code",
   "execution_count": 5,
   "metadata": {},
   "outputs": [],
   "source": [
    "# Create get_n_elements\n",
    "get_n_elements <- function(x, ...)\n",
    "{\n",
    "  UseMethod(\"get_n_elements\")\n",
    "}"
   ]
  },
  {
   "cell_type": "markdown",
   "metadata": {},
   "source": [
    "### Creating an S3 Method (1)\n",
    "By itself, the generic function doesn't do anything. For that, you need to create methods, which are just regular functions with two conditions:\n",
    "\n",
    "The name of the method must be of the form generic.class.\n",
    "The method signature - that is, the arguments that are passed in to the method - must contain the signature of the generic.\n",
    "The syntax is:\n",
    "\n",
    "generic.class <- function(some, arguments, ...) {\n",
    "  \n",
    "    # Do something\n",
    "\n",
    "}"
   ]
  },
  {
   "cell_type": "code",
   "execution_count": 9,
   "metadata": {},
   "outputs": [
    {
     "data": {
      "text/html": [
       "<pre class=language-r><code>function (x, ...) \n",
       "{\n",
       "<span style=white-space:pre-wrap>    UseMethod(\"get_n_elements\")</span>\n",
       "}</code></pre>"
      ],
      "text/latex": [
       "\\begin{minted}{r}\n",
       "function (x, ...) \n",
       "\\{\n",
       "    UseMethod(\"get\\_n\\_elements\")\n",
       "\\}\n",
       "\\end{minted}"
      ],
      "text/markdown": [
       "```r\n",
       "function (x, ...) \n",
       "{\n",
       "    UseMethod(\"get_n_elements\")\n",
       "}\n",
       "```"
      ],
      "text/plain": [
       "function(x, ...)\n",
       "{\n",
       "  UseMethod(\"get_n_elements\")\n",
       "}"
      ]
     },
     "metadata": {},
     "output_type": "display_data"
    },
    {
     "data": {
      "text/html": [
       "60"
      ],
      "text/latex": [
       "60"
      ],
      "text/markdown": [
       "60"
      ],
      "text/plain": [
       "[1] 60"
      ]
     },
     "metadata": {},
     "output_type": "display_data"
    }
   ],
   "source": [
    "# load datasets to get sleep data\n",
    "library(datasets)\n",
    "\n",
    "# View get_n_elements\n",
    "get_n_elements\n",
    "\n",
    "# Create a data.frame method for get_n_elements\n",
    "get_n_elements.data.frame <- function(x,...){\n",
    "\n",
    "return = nrow(x) * ncol(x)\n",
    "\n",
    "}\n",
    "\n",
    "\n",
    "\n",
    "\n",
    "# Call the method on the sleep dataset\n",
    "n_elements_sleep <- get_n_elements.data.frame(sleep)\n",
    "\n",
    "# View the result\n",
    "n_elements_sleep"
   ]
  },
  {
   "cell_type": "markdown",
   "metadata": {},
   "source": [
    "### Creating an S3 method (2)\n",
    "If no suitable method is found for a generic, then an error is thrown. For example, at the moment, get_n_elements() only has a method available for data.frames. If you pass a matrix to get_n_elements() instead, you'll see an error.\n",
    "\n",
    "'> get_n_elements(matrix())\n",
    "\n",
    "Error: no applicable method for 'get_n_elements' applied to an object of class \"c('matrix', 'logical')\"\n",
    "\n",
    "Rather than having to write dozens of methods for every kind of input, you can create a method that handles all types that don't have a specific method. This is called the default method; it always has the name generic.default. For example, print.default() will print any type of object that doesn't have its own print() method."
   ]
  },
  {
   "cell_type": "code",
   "execution_count": 12,
   "metadata": {},
   "outputs": [
    {
     "data": {
      "text/plain": [
       "get_n_elements : function (x, ...)  \n",
       "get_n_elements.data.frame : function (x, ...)  \n",
       "get_n_elements.default : function (x, ...)  \n",
       "n_elements_ability.cov :  int 43\n",
       "n_elements_sleep :  int 60"
      ]
     },
     "metadata": {},
     "output_type": "display_data"
    }
   ],
   "source": [
    "# View predefined objects\n",
    "ls.str()\n",
    "\n",
    "# Create a default method for get_n_elements\n",
    "get_n_elements.default <- function(x,...){\n",
    "\n",
    "    length(unlist(x))\n",
    "}\n",
    "\n",
    "# Call the method on the ability.cov dataset\n",
    "n_elements_ability.cov <- get_n_elements.default(ability.cov)"
   ]
  },
  {
   "cell_type": "markdown",
   "metadata": {},
   "source": [
    "### Finding Available Methods (1)\n",
    "To find all the available methods for an S3 generic, call the methods() function.\n",
    "\n",
    "It takes one argument that can be passed with or without quotes (though quoting is preferred, since the lookup feature to turn an R expression into a string is not perfect). This example shows both syntaxes, applied to the generic wilcox.text() for running Wilcoxon-Mann-Whitney rank sum tests. They give the same output:\n",
    "\n",
    "methods(\"wilcox.test\")\n",
    "\n",
    "[1] wilcox.test.default* wilcox.test.formula*\n",
    "\n",
    "see '?methods' for accessing help and source code\n",
    "\n",
    "methods(wilcox.test)\n",
    "\n",
    "[1] wilcox.test.default* wilcox.test.formula*\n",
    "\n",
    "see '?methods' for accessing help and source code"
   ]
  },
  {
   "cell_type": "code",
   "execution_count": 13,
   "metadata": {},
   "outputs": [
    {
     "data": {
      "text/plain": [
       "  [1] print.acf*                                          \n",
       "  [2] print.AES*                                          \n",
       "  [3] print.anova*                                        \n",
       "  [4] print.aov*                                          \n",
       "  [5] print.aovlist*                                      \n",
       "  [6] print.ar*                                           \n",
       "  [7] print.Arima*                                        \n",
       "  [8] print.arima0*                                       \n",
       "  [9] print.AsIs                                          \n",
       " [10] print.aspell*                                       \n",
       " [11] print.aspell_inspect_context*                       \n",
       " [12] print.bibentry*                                     \n",
       " [13] print.Bibtex*                                       \n",
       " [14] print.browseVignettes*                              \n",
       " [15] print.by                                            \n",
       " [16] print.bytes*                                        \n",
       " [17] print.changedFiles*                                 \n",
       " [18] print.check_code_usage_in_package*                  \n",
       " [19] print.check_compiled_code*                          \n",
       " [20] print.check_demo_index*                             \n",
       " [21] print.check_depdef*                                 \n",
       " [22] print.check_details*                                \n",
       " [23] print.check_details_changes*                        \n",
       " [24] print.check_doi_db*                                 \n",
       " [25] print.check_dotInternal*                            \n",
       " [26] print.check_make_vars*                              \n",
       " [27] print.check_nonAPI_calls*                           \n",
       " [28] print.check_package_code_assign_to_globalenv*       \n",
       " [29] print.check_package_code_attach*                    \n",
       " [30] print.check_package_code_data_into_globalenv*       \n",
       " [31] print.check_package_code_startup_functions*         \n",
       " [32] print.check_package_code_syntax*                    \n",
       " [33] print.check_package_code_unload_functions*          \n",
       " [34] print.check_package_compact_datasets*               \n",
       " [35] print.check_package_CRAN_incoming*                  \n",
       " [36] print.check_package_datasets*                       \n",
       " [37] print.check_package_depends*                        \n",
       " [38] print.check_package_description*                    \n",
       " [39] print.check_package_description_encoding*           \n",
       " [40] print.check_package_license*                        \n",
       " [41] print.check_packages_in_dir*                        \n",
       " [42] print.check_packages_used*                          \n",
       " [43] print.check_po_files*                               \n",
       " [44] print.check_pragmas*                                \n",
       " [45] print.check_Rd_contents*                            \n",
       " [46] print.check_Rd_line_widths*                         \n",
       " [47] print.check_Rd_metadata*                            \n",
       " [48] print.check_Rd_xrefs*                               \n",
       " [49] print.check_RegSym_calls*                           \n",
       " [50] print.check_S3_methods_needing_delayed_registration*\n",
       " [51] print.check_so_symbols*                             \n",
       " [52] print.check_T_and_F*                                \n",
       " [53] print.check_url_db*                                 \n",
       " [54] print.check_vignette_index*                         \n",
       " [55] print.checkDocFiles*                                \n",
       " [56] print.checkDocStyle*                                \n",
       " [57] print.checkFF*                                      \n",
       " [58] print.checkRd*                                      \n",
       " [59] print.checkReplaceFuns*                             \n",
       " [60] print.checkS3methods*                               \n",
       " [61] print.checkTnF*                                     \n",
       " [62] print.checkVignettes*                               \n",
       " [63] print.citation*                                     \n",
       " [64] print.codoc*                                        \n",
       " [65] print.codocClasses*                                 \n",
       " [66] print.codocData*                                    \n",
       " [67] print.colorConverter*                               \n",
       " [68] print.compactPDF*                                   \n",
       " [69] print.condition                                     \n",
       " [70] print.connection                                    \n",
       " [71] print.CRAN_package_reverse_dependencies_and_views*  \n",
       " [72] print.crayon*                                       \n",
       " [73] print.data.frame                                    \n",
       " [74] print.Date                                          \n",
       " [75] print.default                                       \n",
       " [76] print.dendrogram*                                   \n",
       " [77] print.density*                                      \n",
       " [78] print.difftime                                      \n",
       " [79] print.dist*                                         \n",
       " [80] print.Dlist                                         \n",
       " [81] print.DLLInfo                                       \n",
       " [82] print.DLLInfoList                                   \n",
       " [83] print.DLLRegisteredRoutines                         \n",
       " [84] print.dummy_coef*                                   \n",
       " [85] print.dummy_coef_list*                              \n",
       " [86] print.ecdf*                                         \n",
       " [87] print.eigen                                         \n",
       " [88] print.envlist*                                      \n",
       " [89] print.factanal*                                     \n",
       " [90] print.factor                                        \n",
       " [91] print.family*                                       \n",
       " [92] print.fileSnapshot*                                 \n",
       " [93] print.findLineNumResult*                            \n",
       " [94] print.formula*                                      \n",
       " [95] print.fseq*                                         \n",
       " [96] print.ftable*                                       \n",
       " [97] print.function                                      \n",
       " [98] print.getAnywhere*                                  \n",
       " [99] print.glm*                                          \n",
       "[100] print.hclust*                                       \n",
       "[101] print.help_files_with_topic*                        \n",
       "[102] print.hexmode                                       \n",
       "[103] print.HoltWinters*                                  \n",
       "[104] print.hsearch*                                      \n",
       "[105] print.hsearch_db*                                   \n",
       "[106] print.htest*                                        \n",
       "[107] print.html*                                         \n",
       "[108] print.html_dependency*                              \n",
       "[109] print.infl*                                         \n",
       "[110] print.inspect*                                      \n",
       "[111] print.inspect_NILSXP*                               \n",
       "[112] print.integrate*                                    \n",
       "[113] print.isoreg*                                       \n",
       "[114] print.json*                                         \n",
       "[115] print.kmeans*                                       \n",
       "[116] print.Latex*                                        \n",
       "[117] print.LaTeX*                                        \n",
       "[118] print.libraryIQR                                    \n",
       "[119] print.listof                                        \n",
       "[120] print.lm*                                           \n",
       "[121] print.loadings*                                     \n",
       "[122] print.loess*                                        \n",
       "[123] print.logLik*                                       \n",
       "[124] print.ls_str*                                       \n",
       "[125] print.medpolish*                                    \n",
       "[126] print.MethodsFunction*                              \n",
       "[127] print.mtable*                                       \n",
       "[128] print.NativeRoutineList                             \n",
       "[129] print.news_db*                                      \n",
       "[130] print.nls*                                          \n",
       "[131] print.noquote                                       \n",
       "[132] print.numeric_version                               \n",
       "[133] print.object_size*                                  \n",
       "[134] print.octmode                                       \n",
       "[135] print.packageDescription*                           \n",
       "[136] print.packageInfo                                   \n",
       "[137] print.packageIQR*                                   \n",
       "[138] print.packageStatus*                                \n",
       "[139] print.pairwise.htest*                               \n",
       "[140] print.person*                                       \n",
       "[141] print.POSIXct                                       \n",
       "[142] print.POSIXlt                                       \n",
       "[143] print.power.htest*                                  \n",
       "[144] print.ppr*                                          \n",
       "[145] print.prcomp*                                       \n",
       "[146] print.princomp*                                     \n",
       "[147] print.proc_time                                     \n",
       "[148] print.raster*                                       \n",
       "[149] print.Rcpp_stack_trace*                             \n",
       "[150] print.Rd*                                           \n",
       "[151] print.recordedplot*                                 \n",
       "[152] print.restart                                       \n",
       "[153] print.RGBcolorConverter*                            \n",
       "[154] print.rle                                           \n",
       "[155] print.roman*                                        \n",
       "[156] print.SavedPlots*                                   \n",
       "[157] print.scalar*                                       \n",
       "[158] print.sessionInfo*                                  \n",
       "[159] print.shiny.tag*                                    \n",
       "[160] print.shiny.tag.list*                               \n",
       "[161] print.simple.list                                   \n",
       "[162] print.smooth.spline*                                \n",
       "[163] print.socket*                                       \n",
       "[164] print.srcfile                                       \n",
       "[165] print.srcref                                        \n",
       "[166] print.stepfun*                                      \n",
       "[167] print.stl*                                          \n",
       "[168] print.StructTS*                                     \n",
       "[169] print.subdir_tests*                                 \n",
       "[170] print.summarize_CRAN_check_status*                  \n",
       "[171] print.summary.aov*                                  \n",
       "[172] print.summary.aovlist*                              \n",
       "[173] print.summary.ecdf*                                 \n",
       "[174] print.summary.glm*                                  \n",
       "[175] print.summary.lm*                                   \n",
       "[176] print.summary.loess*                                \n",
       "[177] print.summary.manova*                               \n",
       "[178] print.summary.nls*                                  \n",
       "[179] print.summary.packageStatus*                        \n",
       "[180] print.summary.ppr*                                  \n",
       "[181] print.summary.prcomp*                               \n",
       "[182] print.summary.princomp*                             \n",
       "[183] print.summary.table                                 \n",
       "[184] print.summary.warnings                              \n",
       "[185] print.summaryDefault                                \n",
       "[186] print.table                                         \n",
       "[187] print.tables_aov*                                   \n",
       "[188] print.terms*                                        \n",
       "[189] print.ts*                                           \n",
       "[190] print.tskernel*                                     \n",
       "[191] print.TukeyHSD*                                     \n",
       "[192] print.tukeyline*                                    \n",
       "[193] print.tukeysmooth*                                  \n",
       "[194] print.undoc*                                        \n",
       "[195] print.vignette                                      \n",
       "[196] print.warnings                                      \n",
       "[197] print.xgettext*                                     \n",
       "[198] print.xngettext*                                    \n",
       "[199] print.xtabs*                                        \n",
       "see '?methods' for accessing help and source code"
      ]
     },
     "metadata": {},
     "output_type": "display_data"
    }
   ],
   "source": [
    "# Find methods for print\n",
    "methods(\"print\")"
   ]
  },
  {
   "cell_type": "markdown",
   "metadata": {},
   "source": [
    "### Method Lookup for Primitive Generics\n",
    "Some core functionality of R is defined using primitive functions, which use a special technique for accessing C-code, for performance reasons. Examples of primitive functions include language elements, like if and for, operators like + and $, and mathematical functions like exp and sin. Primitive functions include S3 generics; the complete list of S3 primitive generics can be found using .S3PrimitiveGenerics.\n",
    "\n",
    "When an S3 generic is primitive, its lookup process to find methods works slightly differently. R will look for methods using the class, as normal, but if nothing is found, the internal C-code function will be called. (Compare this to regular generics, where an error is thrown if no method is found.) This means that if you override the class of an object, fundamental behavior like calculating the length will not be broken."
   ]
  },
  {
   "cell_type": "code",
   "execution_count": 19,
   "metadata": {},
   "outputs": [
    {
     "data": {
      "text/html": [
       "'list'"
      ],
      "text/latex": [
       "'list'"
      ],
      "text/markdown": [
       "'list'"
      ],
      "text/plain": [
       "[1] \"list\""
      ]
     },
     "metadata": {},
     "output_type": "display_data"
    },
    {
     "name": "stdout",
     "output_type": "stream",
     "text": [
      "List of 2\n",
      " $ colors: chr [1:5] \"black\" \"brown\" \"blonde\" \"ginger\" ...\n",
      " $ styles: chr [1:6] \"afro\" \"beehive\" \"crew cut\" \"mohawk\" ...\n",
      " - attr(*, \"class\")= chr \"hairstylist\"\n"
     ]
    },
    {
     "data": {
      "text/html": [
       "<ol class=list-inline>\n",
       "\t<li>'anyNA'</li>\n",
       "\t<li>'as.character'</li>\n",
       "\t<li>'as.complex'</li>\n",
       "\t<li>'as.double'</li>\n",
       "\t<li>'as.environment'</li>\n",
       "\t<li>'as.integer'</li>\n",
       "\t<li>'as.logical'</li>\n",
       "\t<li>'as.call'</li>\n",
       "\t<li>'as.numeric'</li>\n",
       "\t<li>'as.raw'</li>\n",
       "\t<li>'c'</li>\n",
       "\t<li>'dim'</li>\n",
       "\t<li>'dim&lt;-'</li>\n",
       "\t<li>'dimnames'</li>\n",
       "\t<li>'dimnames&lt;-'</li>\n",
       "\t<li>'is.array'</li>\n",
       "\t<li>'is.finite'</li>\n",
       "\t<li>'is.infinite'</li>\n",
       "\t<li>'is.matrix'</li>\n",
       "\t<li>'is.na'</li>\n",
       "\t<li>'is.nan'</li>\n",
       "\t<li>'is.numeric'</li>\n",
       "\t<li>'length'</li>\n",
       "\t<li>'length&lt;-'</li>\n",
       "\t<li>'levels&lt;-'</li>\n",
       "\t<li>'names'</li>\n",
       "\t<li>'names&lt;-'</li>\n",
       "\t<li>'rep'</li>\n",
       "\t<li>'seq.int'</li>\n",
       "\t<li>'xtfrm'</li>\n",
       "</ol>\n"
      ],
      "text/latex": [
       "\\begin{enumerate*}\n",
       "\\item 'anyNA'\n",
       "\\item 'as.character'\n",
       "\\item 'as.complex'\n",
       "\\item 'as.double'\n",
       "\\item 'as.environment'\n",
       "\\item 'as.integer'\n",
       "\\item 'as.logical'\n",
       "\\item 'as.call'\n",
       "\\item 'as.numeric'\n",
       "\\item 'as.raw'\n",
       "\\item 'c'\n",
       "\\item 'dim'\n",
       "\\item 'dim<-'\n",
       "\\item 'dimnames'\n",
       "\\item 'dimnames<-'\n",
       "\\item 'is.array'\n",
       "\\item 'is.finite'\n",
       "\\item 'is.infinite'\n",
       "\\item 'is.matrix'\n",
       "\\item 'is.na'\n",
       "\\item 'is.nan'\n",
       "\\item 'is.numeric'\n",
       "\\item 'length'\n",
       "\\item 'length<-'\n",
       "\\item 'levels<-'\n",
       "\\item 'names'\n",
       "\\item 'names<-'\n",
       "\\item 'rep'\n",
       "\\item 'seq.int'\n",
       "\\item 'xtfrm'\n",
       "\\end{enumerate*}\n"
      ],
      "text/markdown": [
       "1. 'anyNA'\n",
       "2. 'as.character'\n",
       "3. 'as.complex'\n",
       "4. 'as.double'\n",
       "5. 'as.environment'\n",
       "6. 'as.integer'\n",
       "7. 'as.logical'\n",
       "8. 'as.call'\n",
       "9. 'as.numeric'\n",
       "10. 'as.raw'\n",
       "11. 'c'\n",
       "12. 'dim'\n",
       "13. 'dim&lt;-'\n",
       "14. 'dimnames'\n",
       "15. 'dimnames&lt;-'\n",
       "16. 'is.array'\n",
       "17. 'is.finite'\n",
       "18. 'is.infinite'\n",
       "19. 'is.matrix'\n",
       "20. 'is.na'\n",
       "21. 'is.nan'\n",
       "22. 'is.numeric'\n",
       "23. 'length'\n",
       "24. 'length&lt;-'\n",
       "25. 'levels&lt;-'\n",
       "26. 'names'\n",
       "27. 'names&lt;-'\n",
       "28. 'rep'\n",
       "29. 'seq.int'\n",
       "30. 'xtfrm'\n",
       "\n",
       "\n"
      ],
      "text/plain": [
       " [1] \"anyNA\"          \"as.character\"   \"as.complex\"     \"as.double\"     \n",
       " [5] \"as.environment\" \"as.integer\"     \"as.logical\"     \"as.call\"       \n",
       " [9] \"as.numeric\"     \"as.raw\"         \"c\"              \"dim\"           \n",
       "[13] \"dim<-\"          \"dimnames\"       \"dimnames<-\"     \"is.array\"      \n",
       "[17] \"is.finite\"      \"is.infinite\"    \"is.matrix\"      \"is.na\"         \n",
       "[21] \"is.nan\"         \"is.numeric\"     \"length\"         \"length<-\"      \n",
       "[25] \"levels<-\"       \"names\"          \"names<-\"        \"rep\"           \n",
       "[29] \"seq.int\"        \"xtfrm\"         "
      ]
     },
     "metadata": {},
     "output_type": "display_data"
    },
    {
     "data": {
      "text/html": [
       "FALSE"
      ],
      "text/latex": [
       "FALSE"
      ],
      "text/markdown": [
       "FALSE"
      ],
      "text/plain": [
       "[1] FALSE"
      ]
     },
     "metadata": {},
     "output_type": "display_data"
    },
    {
     "data": {
      "text/html": [
       "2"
      ],
      "text/latex": [
       "2"
      ],
      "text/markdown": [
       "2"
      ],
      "text/plain": [
       "[1] 2"
      ]
     },
     "metadata": {},
     "output_type": "display_data"
    }
   ],
   "source": [
    "# define a list\n",
    "hair = list(colors = c(\"black\", \"brown\", \"blonde\" , \"ginger\" , \"grey\"),  \n",
    "            styles = c(\"afro\", \"beehive\", \"crew cut\", \"mohawk\", \"mullet\", \"pony tail\"))\n",
    "# check the class\n",
    "class(hair)\n",
    "# change the class\n",
    "class(hair) <- \"hairstylist\"\n",
    "# View the structure of hair\n",
    "str(hair)\n",
    "# What primitive generics are available?\n",
    ".S3PrimitiveGenerics\n",
    "\n",
    "# Does length.hairstylist exist?\n",
    "exists(\"length.hairstylist()\")\n",
    "\n",
    "# What is the length of hair?\n",
    "length(hair)\n",
    "\n",
    "\n",
    "\n"
   ]
  },
  {
   "cell_type": "markdown",
   "metadata": {},
   "source": [
    "### Who is Calling?\n",
    "is.na() is a primitive generic. In the console, look at its available methods.\n",
    "\n",
    "When you call is.na(list(TRUE, FALSE, NA)), which of the following statements is true?\n",
    "\n",
    "1. data.frames are lists, so is.na.data.frame() is called.\n",
    "\n",
    "2. Neither is.na.list() nor is.na.default() exist, so an error will be thrown.\n",
    "\n",
    "3. Since neither is.na.list() nor is.na.default() exist, the primitive is.na() is called.\n",
    "\n",
    "4. lists are rasters, so is.na.raster() is called.\n",
    "\n",
    "Answer 3"
   ]
  },
  {
   "cell_type": "code",
   "execution_count": 21,
   "metadata": {},
   "outputs": [
    {
     "data": {
      "text/plain": [
       "[1] is.na.data.frame      is.na.numeric_version is.na.POSIXlt        \n",
       "[4] is.na.raster*        \n",
       "see '?methods' for accessing help and source code"
      ]
     },
     "metadata": {},
     "output_type": "display_data"
    }
   ],
   "source": [
    "methods(\"is.na\")"
   ]
  },
  {
   "cell_type": "markdown",
   "metadata": {},
   "source": [
    "### Very Classy\n",
    "Variables can have more than one class. In this case, class() returns a character vector of length greater than one.\n",
    "\n",
    "Likewise you can set multiple classes by assigning a character vector to class(). The classes should be ordered from more specific to more general as you move left to right, since you want to begin with the behavior most targeted to your object. For example:\n",
    "\n",
    "x <- c(\"a\", \"e\", \"i\", \"o\", \"u\")\n",
    "\n",
    "class(x) <- c(\"vowels\", \"letters\", \"character\")\n",
    "\n",
    "You can check for the other classes using the general purpose inherits() function. For example:\n",
    "\n",
    "inherits(x, \"vowels\")"
   ]
  },
  {
   "cell_type": "code",
   "execution_count": 22,
   "metadata": {},
   "outputs": [
    {
     "data": {
      "text/html": [
       "TRUE"
      ],
      "text/latex": [
       "TRUE"
      ],
      "text/markdown": [
       "TRUE"
      ],
      "text/plain": [
       "[1] TRUE"
      ]
     },
     "metadata": {},
     "output_type": "display_data"
    },
    {
     "data": {
      "text/html": [
       "TRUE"
      ],
      "text/latex": [
       "TRUE"
      ],
      "text/markdown": [
       "TRUE"
      ],
      "text/plain": [
       "[1] TRUE"
      ]
     },
     "metadata": {},
     "output_type": "display_data"
    },
    {
     "data": {
      "text/html": [
       "TRUE"
      ],
      "text/latex": [
       "TRUE"
      ],
      "text/markdown": [
       "TRUE"
      ],
      "text/plain": [
       "[1] TRUE"
      ]
     },
     "metadata": {},
     "output_type": "display_data"
    },
    {
     "data": {
      "text/html": [
       "TRUE"
      ],
      "text/latex": [
       "TRUE"
      ],
      "text/markdown": [
       "TRUE"
      ],
      "text/plain": [
       "[1] TRUE"
      ]
     },
     "metadata": {},
     "output_type": "display_data"
    },
    {
     "data": {
      "text/html": [
       "FALSE"
      ],
      "text/latex": [
       "FALSE"
      ],
      "text/markdown": [
       "FALSE"
      ],
      "text/plain": [
       "[1] FALSE"
      ]
     },
     "metadata": {},
     "output_type": "display_data"
    }
   ],
   "source": [
    "kitty <- \"Miaow!\"\n",
    "\n",
    "# Assign classes\n",
    "class(kitty) <- c(\"cat\", \"mammal\", \"character\")\n",
    "\n",
    "# Does kitty inherit from cat/mammal/character?\n",
    "inherits(kitty, \"cat\")\n",
    "inherits(kitty, \"mammal\")\n",
    "inherits(kitty, \"character\")\n",
    "\n",
    "# Is kitty a character vector?\n",
    "is.character(kitty)\n",
    "\n",
    "# Does kitty inherit from dog?\n",
    "inherits(kitty, \"dog\")"
   ]
  },
  {
   "cell_type": "markdown",
   "metadata": {},
   "source": [
    "### Writing the Next Method\n",
    "When objects have multiple classes, you may wish to call methods for several of these classes. This is done using NextMethod().\n",
    "\n",
    "The S3 methods now take the form:\n",
    "\n",
    "an_s3_method.some_class <- function(x, ...){\n",
    "\n",
    "  '# Act on some_class, then\n",
    "  NextMethod(\"an_s3_method\")\n",
    "}\n",
    "\n",
    "That is, NextMethod() should be the last line of the method."
   ]
  },
  {
   "cell_type": "code",
   "execution_count": 24,
   "metadata": {},
   "outputs": [
    {
     "ename": "ERROR",
     "evalue": "Error in what_am_i(kitty): could not find function \"what_am_i\"\n",
     "output_type": "error",
     "traceback": [
      "Error in what_am_i(kitty): could not find function \"what_am_i\"\nTraceback:\n"
     ]
    }
   ],
   "source": [
    "# cat method\n",
    "what_am_i.cat <- function(x, ...)\n",
    "{\n",
    "  # Write a message\n",
    "  message(\"I'm a cat\")\n",
    "  # Call NextMethod\n",
    "NextMethod(\"what_am_i\")\n",
    "}\n",
    "\n",
    "# mammal method\n",
    "what_am_i.mammal <- function(x, ...)\n",
    "{\n",
    "  # Write a message\n",
    "  message(\"I'm a mammal\")\n",
    "  # Call NextMethod\n",
    "NextMethod(\"what_am_i\")\n",
    "}\n",
    "# character method\n",
    "what_am_i.character <- function(x, ...)\n",
    "{\n",
    "  # Write a message\n",
    "  message(\"I'm a character vector\")\n",
    "}\n",
    "# Call what_am_i()\n",
    "what_am_i(kitty)\n",
    "# expected output\n",
    "# what_am_i(kitty)\n",
    "# I'm a cat\n",
    "# I'm a mammal\n",
    "# I'm a character vector"
   ]
  },
  {
   "cell_type": "code",
   "execution_count": null,
   "metadata": {},
   "outputs": [],
   "source": []
  }
 ],
 "metadata": {
  "kernelspec": {
   "display_name": "R",
   "language": "R",
   "name": "ir"
  },
  "language_info": {
   "codemirror_mode": "r",
   "file_extension": ".r",
   "mimetype": "text/x-r-source",
   "name": "R",
   "pygments_lexer": "r",
   "version": "3.6.1"
  }
 },
 "nbformat": 4,
 "nbformat_minor": 4
}
