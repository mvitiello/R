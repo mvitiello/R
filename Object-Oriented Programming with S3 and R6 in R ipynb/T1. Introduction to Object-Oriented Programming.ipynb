{
 "cells": [
  {
   "cell_type": "markdown",
   "metadata": {},
   "source": [
    "# Object-Oriented Programming with S3 and R6 in R\n",
    "\n",
    "Object-oriented programming (OOP) lets you specify relationships between functions and the objects that they can act on, helping you manage complexity in your code. This is an intermediate level course, providing an introduction to OOP, using the S3 and R6 systems. S3 is a great day-to-day R programming tool that simplifies some of the functions that you write. R6 is especially useful for industry-specific analyses, working with web APIs, and building GUIs. The course concludes with an interview with Winston Chang, creator of the R6 package.\n"
   ]
  },
  {
   "cell_type": "markdown",
   "metadata": {},
   "source": [
    "## Introduction to Object-Oriented Programming\n",
    "\n",
    "Learn what object-oriented programming (OOP) consists of, when to use it, and what OOP systems are available in R. You'll also learn how R identifies different types of variable, using classes, types, and modes.\n",
    "\n"
   ]
  },
  {
   "cell_type": "markdown",
   "metadata": {},
   "source": [
    "### Should I OOP?\n",
    "Object-oriented programming (OOP) is very powerful, but not appropriate for every data analysis workflow. Which of the following scenarios are a good fit for using object-oriented programming?\n",
    "\n",
    "1. Cleaning up a dirty dataset.\n",
    "2. Writing an interface to the Internet Movie Database API.\n",
    "3. Creating objects to work with cartographic data for spatial analysis.\n",
    "4. Using ggplot2 to visualize your dataset.\n",
    "\n",
    "Answer: 2 and 3"
   ]
  },
  {
   "cell_type": "markdown",
   "metadata": {},
   "source": [
    "### You've Already Been Working With Objects\n",
    "In the Introduction to R course you already met several common R objects such as numeric, logical and character vectors, as well as data.frames. One of the principles of OOP is that functions can behave differently for different kinds of object.\n",
    "\n",
    "The summary() function is a good example of this. Since different types of variable need to be summarized in different ways, the output that is displayed to you varies depending upon what you pass into it."
   ]
  },
  {
   "cell_type": "code",
   "execution_count": 3,
   "metadata": {},
   "outputs": [
    {
     "data": {
      "text/plain": [
       "   Min. 1st Qu.  Median    Mean 3rd Qu.    Max. \n",
       " 0.1134  0.6788  0.8490  1.5057  2.0764  8.1382 "
      ]
     },
     "metadata": {},
     "output_type": "display_data"
    },
    {
     "data": {
      "text/html": [
       "<dl class=dl-horizontal>\n",
       "\t<dt>A</dt>\n",
       "\t\t<dd>4</dd>\n",
       "\t<dt>B</dt>\n",
       "\t\t<dd>6</dd>\n",
       "\t<dt>C</dt>\n",
       "\t\t<dd>13</dd>\n",
       "\t<dt>D</dt>\n",
       "\t\t<dd>11</dd>\n",
       "\t<dt>E</dt>\n",
       "\t\t<dd>4</dd>\n",
       "\t<dt>NA's</dt>\n",
       "\t\t<dd>12</dd>\n",
       "</dl>\n"
      ],
      "text/latex": [
       "\\begin{description*}\n",
       "\\item[A] 4\n",
       "\\item[B] 6\n",
       "\\item[C] 13\n",
       "\\item[D] 11\n",
       "\\item[E] 4\n",
       "\\item[NA's] 12\n",
       "\\end{description*}\n"
      ],
      "text/markdown": [
       "A\n",
       ":   4B\n",
       ":   6C\n",
       ":   13D\n",
       ":   11E\n",
       ":   4NA's\n",
       ":   12\n",
       "\n"
      ],
      "text/plain": [
       "   A    B    C    D    E NA's \n",
       "   4    6   13   11    4   12 "
      ]
     },
     "metadata": {},
     "output_type": "display_data"
    },
    {
     "data": {
      "text/plain": [
       "       n             f     \n",
       " Min.   :0.1134   A   : 4  \n",
       " 1st Qu.:0.6788   B   : 6  \n",
       " Median :0.8490   C   :13  \n",
       " Mean   :1.5057   D   :11  \n",
       " 3rd Qu.:2.0764   E   : 4  \n",
       " Max.   :8.1382   NA's:12  "
      ]
     },
     "metadata": {},
     "output_type": "display_data"
    },
    {
     "data": {
      "text/plain": [
       "\n",
       "Call:\n",
       "lm(formula = dist ~ speed, data = cars)\n",
       "\n",
       "Residuals:\n",
       "    Min      1Q  Median      3Q     Max \n",
       "-29.069  -9.525  -2.272   9.215  43.201 \n",
       "\n",
       "Coefficients:\n",
       "            Estimate Std. Error t value Pr(>|t|)    \n",
       "(Intercept) -17.5791     6.7584  -2.601   0.0123 *  \n",
       "speed         3.9324     0.4155   9.464 1.49e-12 ***\n",
       "---\n",
       "Signif. codes:  0 '***' 0.001 '**' 0.01 '*' 0.05 '.' 0.1 ' ' 1\n",
       "\n",
       "Residual standard error: 15.38 on 48 degrees of freedom\n",
       "Multiple R-squared:  0.6511,\tAdjusted R-squared:  0.6438 \n",
       "F-statistic: 89.57 on 1 and 48 DF,  p-value: 1.49e-12\n"
      ]
     },
     "metadata": {},
     "output_type": "display_data"
    }
   ],
   "source": [
    "LETTERS = c(\"A\", \"B\", \"C\", \"D\" ,\"E\", \"F\", \"G\", \"H\", \"I\", \"J\" ,\"K\" ,\"L\" ,\"M\", \"N\" ,\"O\", \"P\" ,\"Q\",\n",
    "            \"R\", \"S\" ,\"T\", \"U\", \"V\" ,\"W\" ,\"X\" ,\"Y\" ,\"Z\")\n",
    "\n",
    "a_numeric_vector <- rlnorm(50)\n",
    "a_factor <- factor(\n",
    "  sample(c(LETTERS[1:5], NA), 50, replace = TRUE)\n",
    ")\n",
    "a_data_frame <- data.frame(\n",
    "  n = a_numeric_vector,\n",
    "  f = a_factor\n",
    ")\n",
    "a_linear_model <- lm(dist ~ speed, cars)\n",
    "\n",
    "# Call summary() on the numeric vector\n",
    "summary(a_numeric_vector)\n",
    "\n",
    "# Do the same for the other three objects\n",
    "\n",
    "summary(a_factor)\n",
    "summary(a_data_frame)\n",
    "summary(a_linear_model)\n",
    "\n",
    "# Functions can behave differently depending upon the type of input."
   ]
  },
  {
   "cell_type": "markdown",
   "metadata": {},
   "source": [
    "### Which Systems Should I Use?\n",
    "R has many OOP frameworks, some of which are better than others. Test your ability to choose an appropriate framework by deciding which of the following statements is true.\n",
    "\n",
    "1. Knowing how to use S3 is a fundamental R skill.\n",
    "2. R6 and ReferenceClasses are powerful OOP frameworks.\n",
    "3. If it’s good enough for ggplot2, it’s good enough for me. I should make regular use of proto.\n",
    "4. I should use any framework with a number in its name.\n",
    "5. S4 is useful for working with Bioconductor.\n",
    "\n",
    "Answer: 1, 2 and 5"
   ]
  },
  {
   "cell_type": "markdown",
   "metadata": {},
   "source": [
    "### What's my type?\n",
    "You've just seen four functions that help you determine what type of variable you're working with. class() and typeof() are important and will come in handy often. mode() and storage.mode() mostly exist for compatibility with the S programming language.\n",
    "\n",
    "In this exercise, you will look at what these functions return for different variable types. There are some rarer types that you may not have come across yet.\n",
    "\n",
    "1. array: Generalization of a matrix with an arbitrary number of dimensions.\n",
    "2. formula: Used by modeling and plotting functions to define relationships between variables.\n",
    "\n",
    "Also note that there are three kinds of functions in R.\n",
    "\n",
    "1. Most of the functions that you come across are called closures.\n",
    "2. A few important functions, like length() are known as builtin functions, which use a special evaluation mechanism to make them go faster.\n",
    "3. Language constructs, like if and while are also functions! They are known as special functions."
   ]
  },
  {
   "cell_type": "code",
   "execution_count": 4,
   "metadata": {},
   "outputs": [
    {
     "data": {
      "text/html": [
       "<dl>\n",
       "\t<dt>$an_integer_vector</dt>\n",
       "\t\t<dd><dl class=dl-horizontal>\n",
       "\t<dt>class</dt>\n",
       "\t\t<dd>'integer'</dd>\n",
       "\t<dt>typeof</dt>\n",
       "\t\t<dd>'integer'</dd>\n",
       "\t<dt>mode</dt>\n",
       "\t\t<dd>'numeric'</dd>\n",
       "\t<dt>storage.mode</dt>\n",
       "\t\t<dd>'integer'</dd>\n",
       "</dl>\n",
       "</dd>\n",
       "\t<dt>$a_numeric_vector</dt>\n",
       "\t\t<dd><dl class=dl-horizontal>\n",
       "\t<dt>class</dt>\n",
       "\t\t<dd>'numeric'</dd>\n",
       "\t<dt>typeof</dt>\n",
       "\t\t<dd>'double'</dd>\n",
       "\t<dt>mode</dt>\n",
       "\t\t<dd>'numeric'</dd>\n",
       "\t<dt>storage.mode</dt>\n",
       "\t\t<dd>'double'</dd>\n",
       "</dl>\n",
       "</dd>\n",
       "\t<dt>$an_integer_array</dt>\n",
       "\t\t<dd><dl class=dl-horizontal>\n",
       "\t<dt>class</dt>\n",
       "\t\t<dd>'array'</dd>\n",
       "\t<dt>typeof</dt>\n",
       "\t\t<dd>'integer'</dd>\n",
       "\t<dt>mode</dt>\n",
       "\t\t<dd>'numeric'</dd>\n",
       "\t<dt>storage.mode</dt>\n",
       "\t\t<dd>'integer'</dd>\n",
       "</dl>\n",
       "</dd>\n",
       "\t<dt>$a_numeric_array</dt>\n",
       "\t\t<dd><dl class=dl-horizontal>\n",
       "\t<dt>class</dt>\n",
       "\t\t<dd>'array'</dd>\n",
       "\t<dt>typeof</dt>\n",
       "\t\t<dd>'double'</dd>\n",
       "\t<dt>mode</dt>\n",
       "\t\t<dd>'numeric'</dd>\n",
       "\t<dt>storage.mode</dt>\n",
       "\t\t<dd>'double'</dd>\n",
       "</dl>\n",
       "</dd>\n",
       "\t<dt>$a_data_frame</dt>\n",
       "\t\t<dd><dl class=dl-horizontal>\n",
       "\t<dt>class</dt>\n",
       "\t\t<dd>'data.frame'</dd>\n",
       "\t<dt>typeof</dt>\n",
       "\t\t<dd>'list'</dd>\n",
       "\t<dt>mode</dt>\n",
       "\t\t<dd>'list'</dd>\n",
       "\t<dt>storage.mode</dt>\n",
       "\t\t<dd>'list'</dd>\n",
       "</dl>\n",
       "</dd>\n",
       "\t<dt>$a_factor</dt>\n",
       "\t\t<dd><dl class=dl-horizontal>\n",
       "\t<dt>class</dt>\n",
       "\t\t<dd>'factor'</dd>\n",
       "\t<dt>typeof</dt>\n",
       "\t\t<dd>'integer'</dd>\n",
       "\t<dt>mode</dt>\n",
       "\t\t<dd>'numeric'</dd>\n",
       "\t<dt>storage.mode</dt>\n",
       "\t\t<dd>'integer'</dd>\n",
       "</dl>\n",
       "</dd>\n",
       "\t<dt>$a_formula</dt>\n",
       "\t\t<dd><dl class=dl-horizontal>\n",
       "\t<dt>class</dt>\n",
       "\t\t<dd>'formula'</dd>\n",
       "\t<dt>typeof</dt>\n",
       "\t\t<dd>'language'</dd>\n",
       "\t<dt>mode</dt>\n",
       "\t\t<dd>'call'</dd>\n",
       "\t<dt>storage.mode</dt>\n",
       "\t\t<dd>'language'</dd>\n",
       "</dl>\n",
       "</dd>\n",
       "\t<dt>$a_closure_function</dt>\n",
       "\t\t<dd><dl class=dl-horizontal>\n",
       "\t<dt>class</dt>\n",
       "\t\t<dd>'function'</dd>\n",
       "\t<dt>typeof</dt>\n",
       "\t\t<dd>'closure'</dd>\n",
       "\t<dt>mode</dt>\n",
       "\t\t<dd>'function'</dd>\n",
       "\t<dt>storage.mode</dt>\n",
       "\t\t<dd>'function'</dd>\n",
       "</dl>\n",
       "</dd>\n",
       "\t<dt>$a_builtin_function</dt>\n",
       "\t\t<dd><dl class=dl-horizontal>\n",
       "\t<dt>class</dt>\n",
       "\t\t<dd>'function'</dd>\n",
       "\t<dt>typeof</dt>\n",
       "\t\t<dd>'builtin'</dd>\n",
       "\t<dt>mode</dt>\n",
       "\t\t<dd>'function'</dd>\n",
       "\t<dt>storage.mode</dt>\n",
       "\t\t<dd>'function'</dd>\n",
       "</dl>\n",
       "</dd>\n",
       "\t<dt>$a_special_function</dt>\n",
       "\t\t<dd><dl class=dl-horizontal>\n",
       "\t<dt>class</dt>\n",
       "\t\t<dd>'function'</dd>\n",
       "\t<dt>typeof</dt>\n",
       "\t\t<dd>'special'</dd>\n",
       "\t<dt>mode</dt>\n",
       "\t\t<dd>'function'</dd>\n",
       "\t<dt>storage.mode</dt>\n",
       "\t\t<dd>'function'</dd>\n",
       "</dl>\n",
       "</dd>\n",
       "</dl>\n"
      ],
      "text/latex": [
       "\\begin{description}\n",
       "\\item[\\$an\\_integer\\_vector] \\begin{description*}\n",
       "\\item[class] 'integer'\n",
       "\\item[typeof] 'integer'\n",
       "\\item[mode] 'numeric'\n",
       "\\item[storage.mode] 'integer'\n",
       "\\end{description*}\n",
       "\n",
       "\\item[\\$a\\_numeric\\_vector] \\begin{description*}\n",
       "\\item[class] 'numeric'\n",
       "\\item[typeof] 'double'\n",
       "\\item[mode] 'numeric'\n",
       "\\item[storage.mode] 'double'\n",
       "\\end{description*}\n",
       "\n",
       "\\item[\\$an\\_integer\\_array] \\begin{description*}\n",
       "\\item[class] 'array'\n",
       "\\item[typeof] 'integer'\n",
       "\\item[mode] 'numeric'\n",
       "\\item[storage.mode] 'integer'\n",
       "\\end{description*}\n",
       "\n",
       "\\item[\\$a\\_numeric\\_array] \\begin{description*}\n",
       "\\item[class] 'array'\n",
       "\\item[typeof] 'double'\n",
       "\\item[mode] 'numeric'\n",
       "\\item[storage.mode] 'double'\n",
       "\\end{description*}\n",
       "\n",
       "\\item[\\$a\\_data\\_frame] \\begin{description*}\n",
       "\\item[class] 'data.frame'\n",
       "\\item[typeof] 'list'\n",
       "\\item[mode] 'list'\n",
       "\\item[storage.mode] 'list'\n",
       "\\end{description*}\n",
       "\n",
       "\\item[\\$a\\_factor] \\begin{description*}\n",
       "\\item[class] 'factor'\n",
       "\\item[typeof] 'integer'\n",
       "\\item[mode] 'numeric'\n",
       "\\item[storage.mode] 'integer'\n",
       "\\end{description*}\n",
       "\n",
       "\\item[\\$a\\_formula] \\begin{description*}\n",
       "\\item[class] 'formula'\n",
       "\\item[typeof] 'language'\n",
       "\\item[mode] 'call'\n",
       "\\item[storage.mode] 'language'\n",
       "\\end{description*}\n",
       "\n",
       "\\item[\\$a\\_closure\\_function] \\begin{description*}\n",
       "\\item[class] 'function'\n",
       "\\item[typeof] 'closure'\n",
       "\\item[mode] 'function'\n",
       "\\item[storage.mode] 'function'\n",
       "\\end{description*}\n",
       "\n",
       "\\item[\\$a\\_builtin\\_function] \\begin{description*}\n",
       "\\item[class] 'function'\n",
       "\\item[typeof] 'builtin'\n",
       "\\item[mode] 'function'\n",
       "\\item[storage.mode] 'function'\n",
       "\\end{description*}\n",
       "\n",
       "\\item[\\$a\\_special\\_function] \\begin{description*}\n",
       "\\item[class] 'function'\n",
       "\\item[typeof] 'special'\n",
       "\\item[mode] 'function'\n",
       "\\item[storage.mode] 'function'\n",
       "\\end{description*}\n",
       "\n",
       "\\end{description}\n"
      ],
      "text/markdown": [
       "$an_integer_vector\n",
       ":   class\n",
       ":   'integer'typeof\n",
       ":   'integer'mode\n",
       ":   'numeric'storage.mode\n",
       ":   'integer'\n",
       "\n",
       "\n",
       "$a_numeric_vector\n",
       ":   class\n",
       ":   'numeric'typeof\n",
       ":   'double'mode\n",
       ":   'numeric'storage.mode\n",
       ":   'double'\n",
       "\n",
       "\n",
       "$an_integer_array\n",
       ":   class\n",
       ":   'array'typeof\n",
       ":   'integer'mode\n",
       ":   'numeric'storage.mode\n",
       ":   'integer'\n",
       "\n",
       "\n",
       "$a_numeric_array\n",
       ":   class\n",
       ":   'array'typeof\n",
       ":   'double'mode\n",
       ":   'numeric'storage.mode\n",
       ":   'double'\n",
       "\n",
       "\n",
       "$a_data_frame\n",
       ":   class\n",
       ":   'data.frame'typeof\n",
       ":   'list'mode\n",
       ":   'list'storage.mode\n",
       ":   'list'\n",
       "\n",
       "\n",
       "$a_factor\n",
       ":   class\n",
       ":   'factor'typeof\n",
       ":   'integer'mode\n",
       ":   'numeric'storage.mode\n",
       ":   'integer'\n",
       "\n",
       "\n",
       "$a_formula\n",
       ":   class\n",
       ":   'formula'typeof\n",
       ":   'language'mode\n",
       ":   'call'storage.mode\n",
       ":   'language'\n",
       "\n",
       "\n",
       "$a_closure_function\n",
       ":   class\n",
       ":   'function'typeof\n",
       ":   'closure'mode\n",
       ":   'function'storage.mode\n",
       ":   'function'\n",
       "\n",
       "\n",
       "$a_builtin_function\n",
       ":   class\n",
       ":   'function'typeof\n",
       ":   'builtin'mode\n",
       ":   'function'storage.mode\n",
       ":   'function'\n",
       "\n",
       "\n",
       "$a_special_function\n",
       ":   class\n",
       ":   'function'typeof\n",
       ":   'special'mode\n",
       ":   'function'storage.mode\n",
       ":   'function'\n",
       "\n",
       "\n",
       "\n",
       "\n"
      ],
      "text/plain": [
       "$an_integer_vector\n",
       "       class       typeof         mode storage.mode \n",
       "   \"integer\"    \"integer\"    \"numeric\"    \"integer\" \n",
       "\n",
       "$a_numeric_vector\n",
       "       class       typeof         mode storage.mode \n",
       "   \"numeric\"     \"double\"    \"numeric\"     \"double\" \n",
       "\n",
       "$an_integer_array\n",
       "       class       typeof         mode storage.mode \n",
       "     \"array\"    \"integer\"    \"numeric\"    \"integer\" \n",
       "\n",
       "$a_numeric_array\n",
       "       class       typeof         mode storage.mode \n",
       "     \"array\"     \"double\"    \"numeric\"     \"double\" \n",
       "\n",
       "$a_data_frame\n",
       "       class       typeof         mode storage.mode \n",
       "\"data.frame\"       \"list\"       \"list\"       \"list\" \n",
       "\n",
       "$a_factor\n",
       "       class       typeof         mode storage.mode \n",
       "    \"factor\"    \"integer\"    \"numeric\"    \"integer\" \n",
       "\n",
       "$a_formula\n",
       "       class       typeof         mode storage.mode \n",
       "   \"formula\"   \"language\"       \"call\"   \"language\" \n",
       "\n",
       "$a_closure_function\n",
       "       class       typeof         mode storage.mode \n",
       "  \"function\"    \"closure\"   \"function\"   \"function\" \n",
       "\n",
       "$a_builtin_function\n",
       "       class       typeof         mode storage.mode \n",
       "  \"function\"    \"builtin\"   \"function\"   \"function\" \n",
       "\n",
       "$a_special_function\n",
       "       class       typeof         mode storage.mode \n",
       "  \"function\"    \"special\"   \"function\"   \"function\" \n"
      ]
     },
     "metadata": {},
     "output_type": "display_data"
    }
   ],
   "source": [
    "type_info <- function(x) {\n",
    "  c(\n",
    "    class = class(x), \n",
    "    typeof = typeof(x), \n",
    "    mode = mode(x), \n",
    "    storage.mode = storage.mode(x)\n",
    "  )\n",
    "}\n",
    "\n",
    "# Create list of example variables\n",
    "some_vars <- list(\n",
    "  an_integer_vector = rpois(24, lambda = 5),\n",
    "  a_numeric_vector = rbeta(24, shape1 = 1, shape2 = 1),\n",
    "  an_integer_array = array(rbinom(24, size = 8, prob = 0.5), dim = c(2, 3, 4)),\n",
    "  a_numeric_array = array(rweibull(24, shape = 1, scale = 1), dim = c(2, 3, 4)),\n",
    "  a_data_frame = data.frame(int = rgeom(24, prob = 0.5), num = runif(24)),\n",
    "  a_factor = factor(month.abb),\n",
    "  a_formula = y ~ x,\n",
    "  a_closure_function = mean,\n",
    "  a_builtin_function = length,\n",
    "  a_special_function = `if`\n",
    ")\n",
    "\n",
    "# Loop over some_vars calling type_info() on each element to explore them\n",
    "lapply(some_vars, type_info)"
   ]
  },
  {
   "cell_type": "markdown",
   "metadata": {},
   "source": [
    "### Make it Classy (1)\n",
    "As well as simply retrieving the class, the class() function can be used to override it. The syntax is\n",
    "\n",
    "class(x) <- \"some_class\"\n",
    "\n",
    "This is particularly useful for lists, since lists can be used to combine other variables into more complex variables. (Remember the Lego analogy: individual variables are like Lego pieces, and you can use lists to build whatever you like.)\n",
    "\n",
    "In this exercise, you'll look at an object to store the state of a chess game, and override its class.\n",
    "\n",
    "To make sense of the exercise, you need to know a little bit about chess.\n",
    "\n",
    "1. There are two players in a chess game, named \"white\" and \"black\".\n",
    "2. Each player has six types of piece: a king, a queen, bishops, knights, rooks, and pawns.\n",
    "3. The position of each piece can be recorded using the row (\"a\" to \"h\") and the column (1 to 8)."
   ]
  },
  {
   "cell_type": "code",
   "execution_count": 5,
   "metadata": {},
   "outputs": [
    {
     "name": "stdout",
     "output_type": "stream",
     "text": [
      "List of 6\n",
      " $ white_king : chr \"g1\"\n",
      " $ white_queen: chr \"h4\"\n",
      " $ white_rooks: chr [1:2] \"f1\" \"f6\"\n",
      " $ black_king : chr \"g8\"\n",
      " $ black_queen: chr \"d7\"\n",
      " $ black_rooks: chr [1:2] \"a6\" \"f8\"\n"
     ]
    },
    {
     "data": {
      "text/html": [
       "TRUE"
      ],
      "text/latex": [
       "TRUE"
      ],
      "text/markdown": [
       "TRUE"
      ],
      "text/plain": [
       "[1] TRUE"
      ]
     },
     "metadata": {},
     "output_type": "display_data"
    },
    {
     "data": {
      "text/html": [
       "8"
      ],
      "text/latex": [
       "8"
      ],
      "text/markdown": [
       "8"
      ],
      "text/plain": [
       "[1] 8"
      ]
     },
     "metadata": {},
     "output_type": "display_data"
    }
   ],
   "source": [
    "chess <- list(white_king = \"g1\", white_queen = \"h4\", white_rooks = c(\"f1\" ,\"f6\"), \n",
    "              black_king = \"g8\", black_queen = \"d7\", black_rooks = c(\"a6\", \"f8\"))\n",
    "\n",
    "# Explore the structure of chess\n",
    "str(chess)\n",
    "\n",
    "# Override the class of chess\n",
    "class(chess) <- \"chess_game\"\n",
    "\n",
    "# Is chess still a list?\n",
    "is.list(chess)\n",
    "\n",
    "# How many pieces are left on the board?\n",
    "length(unlist(chess))\n",
    "\n"
   ]
  },
  {
   "cell_type": "markdown",
   "metadata": {},
   "source": [
    "### Make it Classy (2)\n",
    "In the last exercise, you overrode the class of an object representing a chess game.\n",
    "\n",
    "To test your understanding, see if you can tell how this affects the four functions for interrogating variable type: class(), typeof(), mode(), and storage.mode().\n",
    "\n",
    "Which of the following statements is true?\n",
    "\n",
    "\n",
    "1. typeof() is a fundamental property that is overridden to match the class() of chess.\n",
    "\n",
    "2. mode() is the S-language equivalent of class(), and is overridden to match the class() of chess.\n",
    "\n",
    "3. storage.mode() is the S-language equivalent of class(), and is overridden to match the class() of chess.\n",
    "\n",
    "4. The typeof(), mode(), and storage.mode() of chess are all still \"list\".\n",
    "\n",
    "Answer 4"
   ]
  },
  {
   "cell_type": "code",
   "execution_count": 6,
   "metadata": {},
   "outputs": [
    {
     "data": {
      "text/html": [
       "'list'"
      ],
      "text/latex": [
       "'list'"
      ],
      "text/markdown": [
       "'list'"
      ],
      "text/plain": [
       "[1] \"list\""
      ]
     },
     "metadata": {},
     "output_type": "display_data"
    },
    {
     "data": {
      "text/html": [
       "'list'"
      ],
      "text/latex": [
       "'list'"
      ],
      "text/markdown": [
       "'list'"
      ],
      "text/plain": [
       "[1] \"list\""
      ]
     },
     "metadata": {},
     "output_type": "display_data"
    },
    {
     "data": {
      "text/html": [
       "'list'"
      ],
      "text/latex": [
       "'list'"
      ],
      "text/markdown": [
       "'list'"
      ],
      "text/plain": [
       "[1] \"list\""
      ]
     },
     "metadata": {},
     "output_type": "display_data"
    }
   ],
   "source": [
    "typeof(chess)\n",
    "mode(chess)\n",
    "storage.mode(chess)"
   ]
  },
  {
   "cell_type": "code",
   "execution_count": null,
   "metadata": {},
   "outputs": [],
   "source": []
  }
 ],
 "metadata": {
  "kernelspec": {
   "display_name": "R",
   "language": "R",
   "name": "ir"
  },
  "language_info": {
   "codemirror_mode": "r",
   "file_extension": ".r",
   "mimetype": "text/x-r-source",
   "name": "R",
   "pygments_lexer": "r",
   "version": "3.6.1"
  }
 },
 "nbformat": 4,
 "nbformat_minor": 4
}
