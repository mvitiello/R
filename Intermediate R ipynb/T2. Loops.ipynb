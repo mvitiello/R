{
 "cells": [
  {
   "cell_type": "markdown",
   "metadata": {},
   "source": [
    "## Loops\n",
    "\n",
    "Loops can come in handy on numerous occasions. While loops are like repeated if statements, the for loop is designed to iterate over all elements in a sequence. Learn about them in this chapter."
   ]
  },
  {
   "cell_type": "markdown",
   "metadata": {},
   "source": [
    "### Write a while loop\n",
    "Let's get you started with building a while loop from the ground up. Have another look at its recipe:\n",
    "\n",
    "while (condition) {\n",
    "      \n",
    "    expr\n",
    "\n",
    "}\n",
    "\n",
    "Remember that the condition part of this recipe should become FALSE at some point during the execution. Otherwise, the while loop will go on indefinitely.\n",
    "\n",
    "If your session expires when you run your code, check the body of your while loop carefully.\n",
    "\n",
    "Have a look at the code on the right; it initializes the speed variables and already provides a while loop template to get you started."
   ]
  },
  {
   "cell_type": "code",
   "execution_count": 1,
   "metadata": {},
   "outputs": [
    {
     "name": "stdout",
     "output_type": "stream",
     "text": [
      "[1] \"Slow down!\"\n",
      "[1] \"Slow down!\"\n",
      "[1] \"Slow down!\"\n",
      "[1] \"Slow down!\"\n",
      "[1] \"Slow down!\"\n"
     ]
    },
    {
     "data": {
      "text/html": [
       "29"
      ],
      "text/latex": [
       "29"
      ],
      "text/markdown": [
       "29"
      ],
      "text/plain": [
       "[1] 29"
      ]
     },
     "metadata": {},
     "output_type": "display_data"
    }
   ],
   "source": [
    "# Initialize the speed variable\n",
    "speed <- 64\n",
    "\n",
    "# Code the while loop\n",
    "while (speed > 30 ) {\n",
    "  print(\"Slow down!\")\n",
    "speed = speed - 7\n",
    "}\n",
    "\n",
    "# Print out the speed variable\n",
    "speed"
   ]
  },
  {
   "cell_type": "markdown",
   "metadata": {},
   "source": [
    "### Throw in more conditionals\n",
    "In the previous exercise, you simulated the interaction between a driver and a driver's assistant: When the speed was too high, \"Slow down!\" got printed out to the console, resulting in a decrease of your speed by 7 units.\n",
    "\n",
    "There are several ways in which you could make your driver's assistant more advanced. For example, the assistant could give you different messages based on your speed or provide you with a current speed at a given moment.\n",
    "\n",
    "A while loop similar to the one you've coded in the previous exercise is already available in the editor. It prints out your current speed, but there's no code that decreases the speed variable yet, which is pretty dangerous. Can you make the appropriate changes?"
   ]
  },
  {
   "cell_type": "code",
   "execution_count": 2,
   "metadata": {},
   "outputs": [
    {
     "name": "stdout",
     "output_type": "stream",
     "text": [
      "[1] \"Your speed is 64\"\n",
      "[1] \"Slow down big time!\"\n",
      "[1] \"Your speed is 53\"\n",
      "[1] \"Slow down big time!\"\n",
      "[1] \"Your speed is 42\"\n",
      "[1] \"Slow down!\"\n",
      "[1] \"Your speed is 36\"\n",
      "[1] \"Slow down!\"\n"
     ]
    }
   ],
   "source": [
    "# Initialize the speed variable\n",
    "speed <- 64\n",
    "\n",
    "# Extend/adapt the while loop\n",
    "while (speed > 30) {\n",
    "  print(paste(\"Your speed is\",speed))\n",
    "  if (speed > 48 ) {\n",
    "    print(\"Slow down big time!\")\n",
    "    speed = speed - 11\n",
    "  } else {\n",
    "    print(\"Slow down!\")\n",
    "    speed = speed - 6\n",
    "  }\n",
    "}"
   ]
  },
  {
   "cell_type": "markdown",
   "metadata": {},
   "source": [
    "### Stop the while loop: break\n",
    "There are some very rare situations in which severe speeding is necessary: what if a hurricane is approaching and you have to get away as quickly as possible? You don't want the driver's assistant sending you speeding notifications in that scenario, right?\n",
    "\n",
    "This seems like a great opportunity to include the break statement in the while loop you've been working on. Remember that the break statement is a control statement. When R encounters it, the while loop is abandoned completely."
   ]
  },
  {
   "cell_type": "code",
   "execution_count": 4,
   "metadata": {},
   "outputs": [
    {
     "name": "stdout",
     "output_type": "stream",
     "text": [
      "[1] \"Your speed is 88\"\n"
     ]
    }
   ],
   "source": [
    "# Initialize the speed variable\n",
    "speed <- 88\n",
    "\n",
    "while (speed > 30) {\n",
    "  print(paste(\"Your speed is\", speed))\n",
    "  \n",
    "  # Break the while loop when speed exceeds 80\n",
    "  if ( speed > 80 ) {\n",
    "  break\n",
    "  }\n",
    "  \n",
    "  if (speed > 48) {\n",
    "    print(\"Slow down big time!\")\n",
    "    speed <- speed - 11\n",
    "  } else {\n",
    "    print(\"Slow down!\")\n",
    "    speed <- speed - 6\n",
    "  }\n",
    "}"
   ]
  },
  {
   "cell_type": "markdown",
   "metadata": {},
   "source": [
    "### Build a while loop from scratch\n",
    "The previous exercises guided you through developing a pretty advanced while loop, containing a break statement and different messages and updates as determined by control flow constructs. If you manage to solve this comprehensive exercise using a while loop, you're totally ready for the next topic: the for loop."
   ]
  },
  {
   "cell_type": "code",
   "execution_count": 5,
   "metadata": {},
   "outputs": [
    {
     "name": "stdout",
     "output_type": "stream",
     "text": [
      "[1] 3\n",
      "[1] 6\n",
      "[1] 9\n",
      "[1] 12\n",
      "[1] 15\n",
      "[1] 18\n",
      "[1] 21\n",
      "[1] 24\n"
     ]
    }
   ],
   "source": [
    "# Initialize i as 1 \n",
    "i <- 1\n",
    "\n",
    "# Code the while loop\n",
    "while (i <= 10) {\n",
    "  print(3*i)\n",
    "  if (3*i%%8 == 0) {\n",
    "  break  \n",
    "  }\n",
    "  i <- i + 1\n",
    "}"
   ]
  },
  {
   "cell_type": "markdown",
   "metadata": {},
   "source": [
    "### Loop over a vector\n",
    "In the previous video, Filip told you about two different strategies for using the for loop. Remember our linkedin vector? It's a vector that contains the number of views your LinkedIn profile had in the last seven days. The linkedin vector has already been defined in the editor on the right so that you can fully focus on the instructions!"
   ]
  },
  {
   "cell_type": "code",
   "execution_count": 7,
   "metadata": {},
   "outputs": [
    {
     "name": "stdout",
     "output_type": "stream",
     "text": [
      "[1] 16\n",
      "[1] 9\n",
      "[1] 13\n",
      "[1] 5\n",
      "[1] 2\n",
      "[1] 17\n",
      "[1] 14\n",
      "[1] 16\n",
      "[1] 9\n",
      "[1] 13\n",
      "[1] 5\n",
      "[1] 2\n",
      "[1] 17\n",
      "[1] 14\n"
     ]
    }
   ],
   "source": [
    "# The linkedin vector has already been defined for you\n",
    "linkedin <- c(16, 9, 13, 5, 2, 17, 14)\n",
    "\n",
    "# Loop version 1\n",
    "\n",
    "for (i in linkedin){\n",
    "  print (i)\n",
    "}\n",
    "# Loop version 2\n",
    "\n",
    "\n",
    "for (i in 1:length(linkedin)){\n",
    "  print(linkedin[i])\n",
    "}"
   ]
  },
  {
   "cell_type": "markdown",
   "metadata": {},
   "source": [
    "### Loop over a list\n",
    "Looping over a list is just as easy and convenient as looping over a vector. Suppose you have a list of all sorts of information on New York City: its population size, the names of the boroughs, and whether it is the capital of the United States. "
   ]
  },
  {
   "cell_type": "code",
   "execution_count": 8,
   "metadata": {},
   "outputs": [
    {
     "name": "stdout",
     "output_type": "stream",
     "text": [
      "[1] 8405837\n",
      "[1] \"Manhattan\"     \"Bronx\"         \"Brooklyn\"      \"Queens\"       \n",
      "[5] \"Staten Island\"\n",
      "[1] FALSE\n",
      "[1] 8405837\n",
      "[1] \"Manhattan\"     \"Bronx\"         \"Brooklyn\"      \"Queens\"       \n",
      "[5] \"Staten Island\"\n",
      "[1] FALSE\n"
     ]
    }
   ],
   "source": [
    "# The nyc list is already specified\n",
    "nyc <- list(pop = 8405837, boroughs = c(\"Manhattan\", \"Bronx\", \"Brooklyn\", \"Queens\",\n",
    "                                        \"Staten Island\"), capital = FALSE)\n",
    "\n",
    "# Loop version 1\n",
    "for (i in nyc){\n",
    "  print(i)\n",
    "}\n",
    "\n",
    "# Loop version 2\n",
    "for (i in 1:length(nyc)) {\n",
    "  print(nyc[[i]])\n",
    "}\n",
    "\n",
    "### Notice that you need double square brackets - [[ ]] - to select the list elements in loop version 2."
   ]
  },
  {
   "cell_type": "markdown",
   "metadata": {},
   "source": [
    "### Loop over a matrix\n",
    "In your workspace, there's a matrix ttt, that represents the status of a tic-tac-toe game. It contains the values \"X\", \"O\" and \"NA\". Print out ttt in the console so you can have a closer look. On row 1 and column 1, there's \"O\", while on row 3 and column 2 there's \"NA\".\n",
    "\n",
    "To solve this exercise, you'll need a for loop inside a for loop, often called a nested loop."
   ]
  },
  {
   "cell_type": "code",
   "execution_count": 10,
   "metadata": {},
   "outputs": [
    {
     "name": "stdout",
     "output_type": "stream",
     "text": [
      "[1] \"On row 1 and column 1 the board contains O\"\n",
      "[1] \"On row 1 and column 2 the board contains NA\"\n",
      "[1] \"On row 1 and column 3 the board contains X\"\n",
      "[1] \"On row 2 and column 1 the board contains NA\"\n",
      "[1] \"On row 2 and column 2 the board contains O\"\n",
      "[1] \"On row 2 and column 3 the board contains NA\"\n",
      "[1] \"On row 3 and column 1 the board contains X\"\n",
      "[1] \"On row 3 and column 2 the board contains O\"\n",
      "[1] \"On row 3 and column 3 the board contains X\"\n"
     ]
    }
   ],
   "source": [
    "# The tic-tac-toe matrix ttt has already been defined for you\n",
    "\n",
    "ttt = matrix(c(\"O\", NA, \"X\", NA, \"O\", \"O\", \"X\", NA , \"X\"), 3,3) \n",
    "\n",
    "# define the double for loop\n",
    "for (i in 1:nrow(ttt)) {\n",
    "  for (j in 1:ncol(ttt)) {\n",
    "    print(paste(\"On row\", i,\"and column\", j, \"the board contains\",ttt[i,j]))\n",
    "  }\n",
    "}\n",
    "\n"
   ]
  },
  {
   "cell_type": "markdown",
   "metadata": {},
   "source": [
    "### Mix it up with control flow\n",
    "Let's return to the LinkedIn profile views data, stored in a vector linkedin. In the first exercise on for loops you already did a simple printout of each element in this vector. A little more in-depth interpretation of this data wouldn't hurt, right? Time to throw in some conditionals! As with the while loop, you can use the if and else statements inside the for loop."
   ]
  },
  {
   "cell_type": "code",
   "execution_count": 11,
   "metadata": {},
   "outputs": [
    {
     "name": "stdout",
     "output_type": "stream",
     "text": [
      "[1] \"You're popular!\"\n",
      "[1] 16\n",
      "[1] \"Be more visible!\"\n",
      "[1] 9\n",
      "[1] \"You're popular!\"\n",
      "[1] 13\n",
      "[1] \"Be more visible!\"\n",
      "[1] 5\n",
      "[1] \"Be more visible!\"\n",
      "[1] 2\n",
      "[1] \"You're popular!\"\n",
      "[1] 17\n",
      "[1] \"You're popular!\"\n",
      "[1] 14\n"
     ]
    }
   ],
   "source": [
    "# The linkedin vector has already been defined for you\n",
    "linkedin <- c(16, 9, 13, 5, 2, 17, 14)\n",
    "\n",
    "# Code the for loop with conditionals\n",
    "for (li in linkedin) {\n",
    "  if (li>10) {\n",
    "    print(\"You're popular!\")\n",
    "  } else {\n",
    "    print(\"Be more visible!\")\n",
    "  }\n",
    "  print(li)\n",
    "}"
   ]
  },
  {
   "cell_type": "markdown",
   "metadata": {},
   "source": [
    "### Next, you break it\n",
    "In the editor on the right you'll find a possible solution to the previous exercise. The code loops over the linkedin vector and prints out different messages depending on the values of li.\n",
    "\n",
    "In this exercise, you will use the break and next statements:\n",
    "\n",
    "The break statement abandons the active loop: the remaining code in the loop is skipped and the loop is not iterated over anymore.\n",
    "The next statement skips the remainder of the code in the loop, but continues the iteration."
   ]
  },
  {
   "cell_type": "code",
   "execution_count": 12,
   "metadata": {},
   "outputs": [
    {
     "name": "stdout",
     "output_type": "stream",
     "text": [
      "[1] \"You're popular!\"\n",
      "[1] 16\n",
      "[1] \"Be more visible!\"\n",
      "[1] 9\n",
      "[1] \"You're popular!\"\n",
      "[1] 13\n",
      "[1] \"Be more visible!\"\n",
      "[1] 5\n",
      "[1] \"Be more visible!\"\n",
      "[1] \"This is too embarrassing!\"\n",
      "[1] \"You're popular!\"\n",
      "[1] \"This is ridiculous, I'm outta here!\"\n"
     ]
    }
   ],
   "source": [
    "# The linkedin vector has already been defined for you\n",
    "linkedin <- c(16, 9, 13, 5, 2, 17, 14)\n",
    "\n",
    "# Adapt/extend the for loop\n",
    "for (li in linkedin) {\n",
    "  if (li > 10) {\n",
    "    print(\"You're popular!\")\n",
    "  } else {\n",
    "    print(\"Be more visible!\")\n",
    "  }\n",
    "\n",
    "  # Add if statement with break\n",
    "if(li > 16){ \n",
    "print(\"This is ridiculous, I'm outta here!\")\n",
    "break\n",
    "}\n",
    "  # Add if statement with next\n",
    " if(li < 5){ \n",
    "print( \"This is too embarrassing!\" )\n",
    "next\n",
    "} \n",
    "  print(li)\n",
    "}"
   ]
  },
  {
   "cell_type": "markdown",
   "metadata": {},
   "source": [
    "### Build a for loop from scratch\n",
    "This exercise will not introduce any new concepts on for loops.\n",
    "\n",
    "In the editor on the right, we already went ahead and defined a variable rquote. This variable has been split up into a vector that contains separate letters and has been stored in a vector chars with the strsplit() function.\n",
    "\n",
    "Can you write code that counts the number of r's that come before the first u in rquote?"
   ]
  },
  {
   "cell_type": "code",
   "execution_count": 13,
   "metadata": {},
   "outputs": [
    {
     "data": {
      "text/html": [
       "<ol class=list-inline>\n",
       "\t<li>'r'</li>\n",
       "\t<li>'\\''</li>\n",
       "\t<li>'s'</li>\n",
       "\t<li>' '</li>\n",
       "\t<li>'i'</li>\n",
       "\t<li>'n'</li>\n",
       "\t<li>'t'</li>\n",
       "\t<li>'e'</li>\n",
       "\t<li>'r'</li>\n",
       "\t<li>'n'</li>\n",
       "\t<li>'a'</li>\n",
       "\t<li>'l'</li>\n",
       "\t<li>'s'</li>\n",
       "\t<li>' '</li>\n",
       "\t<li>'a'</li>\n",
       "\t<li>'r'</li>\n",
       "\t<li>'e'</li>\n",
       "\t<li>' '</li>\n",
       "\t<li>'i'</li>\n",
       "\t<li>'r'</li>\n",
       "\t<li>'r'</li>\n",
       "\t<li>'e'</li>\n",
       "\t<li>'f'</li>\n",
       "\t<li>'u'</li>\n",
       "\t<li>'t'</li>\n",
       "\t<li>'a'</li>\n",
       "\t<li>'b'</li>\n",
       "\t<li>'l'</li>\n",
       "\t<li>'y'</li>\n",
       "\t<li>' '</li>\n",
       "\t<li>'i'</li>\n",
       "\t<li>'n'</li>\n",
       "\t<li>'t'</li>\n",
       "\t<li>'r'</li>\n",
       "\t<li>'i'</li>\n",
       "\t<li>'g'</li>\n",
       "\t<li>'u'</li>\n",
       "\t<li>'i'</li>\n",
       "\t<li>'n'</li>\n",
       "\t<li>'g'</li>\n",
       "</ol>\n"
      ],
      "text/latex": [
       "\\begin{enumerate*}\n",
       "\\item 'r'\n",
       "\\item '\\textbackslash{}''\n",
       "\\item 's'\n",
       "\\item ' '\n",
       "\\item 'i'\n",
       "\\item 'n'\n",
       "\\item 't'\n",
       "\\item 'e'\n",
       "\\item 'r'\n",
       "\\item 'n'\n",
       "\\item 'a'\n",
       "\\item 'l'\n",
       "\\item 's'\n",
       "\\item ' '\n",
       "\\item 'a'\n",
       "\\item 'r'\n",
       "\\item 'e'\n",
       "\\item ' '\n",
       "\\item 'i'\n",
       "\\item 'r'\n",
       "\\item 'r'\n",
       "\\item 'e'\n",
       "\\item 'f'\n",
       "\\item 'u'\n",
       "\\item 't'\n",
       "\\item 'a'\n",
       "\\item 'b'\n",
       "\\item 'l'\n",
       "\\item 'y'\n",
       "\\item ' '\n",
       "\\item 'i'\n",
       "\\item 'n'\n",
       "\\item 't'\n",
       "\\item 'r'\n",
       "\\item 'i'\n",
       "\\item 'g'\n",
       "\\item 'u'\n",
       "\\item 'i'\n",
       "\\item 'n'\n",
       "\\item 'g'\n",
       "\\end{enumerate*}\n"
      ],
      "text/markdown": [
       "1. 'r'\n",
       "2. '\\''\n",
       "3. 's'\n",
       "4. ' '\n",
       "5. 'i'\n",
       "6. 'n'\n",
       "7. 't'\n",
       "8. 'e'\n",
       "9. 'r'\n",
       "10. 'n'\n",
       "11. 'a'\n",
       "12. 'l'\n",
       "13. 's'\n",
       "14. ' '\n",
       "15. 'a'\n",
       "16. 'r'\n",
       "17. 'e'\n",
       "18. ' '\n",
       "19. 'i'\n",
       "20. 'r'\n",
       "21. 'r'\n",
       "22. 'e'\n",
       "23. 'f'\n",
       "24. 'u'\n",
       "25. 't'\n",
       "26. 'a'\n",
       "27. 'b'\n",
       "28. 'l'\n",
       "29. 'y'\n",
       "30. ' '\n",
       "31. 'i'\n",
       "32. 'n'\n",
       "33. 't'\n",
       "34. 'r'\n",
       "35. 'i'\n",
       "36. 'g'\n",
       "37. 'u'\n",
       "38. 'i'\n",
       "39. 'n'\n",
       "40. 'g'\n",
       "\n",
       "\n"
      ],
      "text/plain": [
       " [1] \"r\" \"'\" \"s\" \" \" \"i\" \"n\" \"t\" \"e\" \"r\" \"n\" \"a\" \"l\" \"s\" \" \" \"a\" \"r\" \"e\" \" \" \"i\"\n",
       "[20] \"r\" \"r\" \"e\" \"f\" \"u\" \"t\" \"a\" \"b\" \"l\" \"y\" \" \" \"i\" \"n\" \"t\" \"r\" \"i\" \"g\" \"u\" \"i\"\n",
       "[39] \"n\" \"g\""
      ]
     },
     "metadata": {},
     "output_type": "display_data"
    },
    {
     "name": "stdout",
     "output_type": "stream",
     "text": [
      "[1] 5\n"
     ]
    }
   ],
   "source": [
    "# Pre-defined variables\n",
    "rquote <- \"r's internals are irrefutably intriguing\"\n",
    "(chars <- strsplit(rquote, split = \"\")[[1]])\n",
    "\n",
    "# Initialize rcount\n",
    "rcount <- 0\n",
    "\n",
    "# Finish the for loop\n",
    "for (char in chars) {\n",
    "  if (char == \"r\") {\n",
    "    rcount = rcount +1\n",
    "  } \n",
    "  if (char == \"u\"){\n",
    "  break\n",
    "  } \n",
    "}\n",
    "\n",
    "# Print out rcount\n",
    "print(rcount)"
   ]
  },
  {
   "cell_type": "code",
   "execution_count": null,
   "metadata": {},
   "outputs": [],
   "source": []
  }
 ],
 "metadata": {
  "kernelspec": {
   "display_name": "R",
   "language": "R",
   "name": "ir"
  },
  "language_info": {
   "codemirror_mode": "r",
   "file_extension": ".r",
   "mimetype": "text/x-r-source",
   "name": "R",
   "pygments_lexer": "r",
   "version": "3.6.1"
  }
 },
 "nbformat": 4,
 "nbformat_minor": 4
}
