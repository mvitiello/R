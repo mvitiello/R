{
 "cells": [
  {
   "cell_type": "markdown",
   "metadata": {},
   "source": [
    "## More Distributions and the Central Limit Theorem\n",
    "\n",
    "It’s time to explore one of the most important probability distributions in statistics, normal distribution. You’ll create histograms to plot normal distributions and gain an understanding of the central limit theorem, before expanding your knowledge of statistical functions by adding the Poisson, exponential, and t-distributions to your repertoire."
   ]
  },
  {
   "cell_type": "markdown",
   "metadata": {},
   "source": [
    "### Distribution of Amir's sales\n",
    "Since each deal Amir worked on (both won and lost) was different, each was worth a different amount of money. These values are stored in the amount column of amir_deals As part of Amir's performance review, you want to be able to estimate the probability of him selling different amounts, but before you can do this, you'll need to determine what kind of distribution the amount variable follows."
   ]
  },
  {
   "cell_type": "code",
   "execution_count": 1,
   "metadata": {},
   "outputs": [
    {
     "name": "stderr",
     "output_type": "stream",
     "text": [
      "Warning message:\n",
      "\"package 'dplyr' was built under R version 3.6.3\"\n",
      "Attaching package: 'dplyr'\n",
      "\n",
      "The following objects are masked from 'package:stats':\n",
      "\n",
      "    filter, lag\n",
      "\n",
      "The following objects are masked from 'package:base':\n",
      "\n",
      "    intersect, setdiff, setequal, union\n",
      "\n",
      "Warning message:\n",
      "\"package 'ggplot2' was built under R version 3.6.3\""
     ]
    },
    {
     "data": {
      "text/html": [
       "<table>\n",
       "<thead><tr><th scope=col>product</th><th scope=col>client</th><th scope=col>status</th><th scope=col>amount</th><th scope=col>num_users</th></tr></thead>\n",
       "<tbody>\n",
       "\t<tr><td>Product F</td><td>Current  </td><td>Won      </td><td>7389.52  </td><td>19       </td></tr>\n",
       "\t<tr><td>Product C</td><td>New      </td><td>Won      </td><td>4493.01  </td><td>43       </td></tr>\n",
       "\t<tr><td>Product B</td><td>New      </td><td>Won      </td><td>5738.09  </td><td>87       </td></tr>\n",
       "\t<tr><td>Product I</td><td>Current  </td><td>Won      </td><td>2591.24  </td><td>83       </td></tr>\n",
       "\t<tr><td>Product E</td><td>Current  </td><td>Won      </td><td>6622.97  </td><td>17       </td></tr>\n",
       "\t<tr><td>Product B</td><td>New      </td><td>Won      </td><td>5496.27  </td><td> 2       </td></tr>\n",
       "</tbody>\n",
       "</table>\n"
      ],
      "text/latex": [
       "\\begin{tabular}{r|lllll}\n",
       " product & client & status & amount & num\\_users\\\\\n",
       "\\hline\n",
       "\t Product F & Current   & Won       & 7389.52   & 19       \\\\\n",
       "\t Product C & New       & Won       & 4493.01   & 43       \\\\\n",
       "\t Product B & New       & Won       & 5738.09   & 87       \\\\\n",
       "\t Product I & Current   & Won       & 2591.24   & 83       \\\\\n",
       "\t Product E & Current   & Won       & 6622.97   & 17       \\\\\n",
       "\t Product B & New       & Won       & 5496.27   &  2       \\\\\n",
       "\\end{tabular}\n"
      ],
      "text/markdown": [
       "\n",
       "| product | client | status | amount | num_users |\n",
       "|---|---|---|---|---|\n",
       "| Product F | Current   | Won       | 7389.52   | 19        |\n",
       "| Product C | New       | Won       | 4493.01   | 43        |\n",
       "| Product B | New       | Won       | 5738.09   | 87        |\n",
       "| Product I | Current   | Won       | 2591.24   | 83        |\n",
       "| Product E | Current   | Won       | 6622.97   | 17        |\n",
       "| Product B | New       | Won       | 5496.27   |  2        |\n",
       "\n"
      ],
      "text/plain": [
       "  product   client  status amount  num_users\n",
       "1 Product F Current Won    7389.52 19       \n",
       "2 Product C New     Won    4493.01 43       \n",
       "3 Product B New     Won    5738.09 87       \n",
       "4 Product I Current Won    2591.24 83       \n",
       "5 Product E Current Won    6622.97 17       \n",
       "6 Product B New     Won    5496.27  2       "
      ]
     },
     "metadata": {},
     "output_type": "display_data"
    },
    {
     "data": {
      "image/png": "[encoded data removed]",
      "text/plain": [
       "plot without title"
      ]
     },
     "metadata": {},
     "output_type": "display_data"
    }
   ],
   "source": [
    "library(dplyr)\n",
    "library(ggplot2)\n",
    "\n",
    "sel <- readRDS(\"seller_1.rds\")\n",
    "\n",
    "head(sel)\n",
    "\n",
    "# Histogram of amount with 10 bins\n",
    "ggplot(sel, aes(x= amount)) + geom_histogram(bins = 10)"
   ]
  },
  {
   "cell_type": "markdown",
   "metadata": {},
   "source": [
    "### Probabilities from the normal distribution\n",
    "Since each deal Amir worked on (both won and lost) was different, each was worth a different amount of money. These values are stored in the amount column of amir_deals and follow a normal distribution with a mean of 5000 dollars and a standard deviation of 2000 dollars. As part of his performance metrics, you want to calculate the probability of Amir closing a deal worth various amounts."
   ]
  },
  {
   "cell_type": "code",
   "execution_count": 2,
   "metadata": {},
   "outputs": [
    {
     "data": {
      "text/html": [
       "0.894350226333145"
      ],
      "text/latex": [
       "0.894350226333145"
      ],
      "text/markdown": [
       "0.894350226333145"
      ],
      "text/plain": [
       "[1] 0.8943502"
      ]
     },
     "metadata": {},
     "output_type": "display_data"
    }
   ],
   "source": [
    "# Probability of deal < 7500\n",
    "pnorm(7500, mean = 5000, sd = 2000)"
   ]
  },
  {
   "cell_type": "code",
   "execution_count": 3,
   "metadata": {},
   "outputs": [
    {
     "data": {
      "text/html": [
       "0.977249868051821"
      ],
      "text/latex": [
       "0.977249868051821"
      ],
      "text/markdown": [
       "0.977249868051821"
      ],
      "text/plain": [
       "[1] 0.9772499"
      ]
     },
     "metadata": {},
     "output_type": "display_data"
    }
   ],
   "source": [
    "# Probability of deal > 1000\n",
    "1 - pnorm(1000, mean = 5000, sd = 2000)\n",
    "# the same pnorm(1000, mean = 5000, sd = 2000, lower.tail = FALSE)"
   ]
  },
  {
   "cell_type": "code",
   "execution_count": 4,
   "metadata": {},
   "outputs": [
    {
     "data": {
      "text/html": [
       "0.682689492137086"
      ],
      "text/latex": [
       "0.682689492137086"
      ],
      "text/markdown": [
       "0.682689492137086"
      ],
      "text/plain": [
       "[1] 0.6826895"
      ]
     },
     "metadata": {},
     "output_type": "display_data"
    }
   ],
   "source": [
    "# Probability of deal between 3000 and 7000\n",
    "pnorm(7000, mean = 5000, sd = 2000) - pnorm(3000, mean = 5000, sd = 2000)"
   ]
  },
  {
   "cell_type": "code",
   "execution_count": 5,
   "metadata": {},
   "outputs": [
    {
     "data": {
      "text/html": [
       "3651.02049960784"
      ],
      "text/latex": [
       "3651.02049960784"
      ],
      "text/markdown": [
       "3651.02049960784"
      ],
      "text/plain": [
       "[1] 3651.02"
      ]
     },
     "metadata": {},
     "output_type": "display_data"
    }
   ],
   "source": [
    "# Calculate amount that 75% of deals will be more than\n",
    "qnorm(0.75, 5000, 2000, lower.tail = FALSE)"
   ]
  },
  {
   "cell_type": "markdown",
   "metadata": {},
   "source": [
    "### Simulating sales under new market conditions\n",
    "The company's financial analyst is predicting that next quarter, the worth of each sale will increase by 20% and the volatility, or standard deviation, of each sale's worth will increase by 30%. To see what Amir's sales might look like next quarter under these new market conditions, you'll simulate new sales amounts using the normal distribution and store these in the new_sales data frame, which has already been created for you."
   ]
  },
  {
   "cell_type": "code",
   "execution_count": 8,
   "metadata": {},
   "outputs": [
    {
     "data": {
      "image/png": "[encoded data removed]",
      "text/plain": [
       "plot without title"
      ]
     },
     "metadata": {},
     "output_type": "display_data"
    }
   ],
   "source": [
    "# Calculate new average amount\n",
    "new_mean <- 1.2*5000\n",
    "\n",
    "# Calculate new standard deviation\n",
    "new_sd <- 1.3*2000\n",
    "\n",
    "# Simulate 36 sales\n",
    "new_sales <- sel %>% \n",
    "  mutate(amount = rnorm(178, mean = new_mean, sd = new_sd))\n",
    "\n",
    "# Create histogram with 10 bins\n",
    "ggplot(new_sales, aes(x= amount)) + geom_histogram(bins = 10)"
   ]
  },
  {
   "cell_type": "markdown",
   "metadata": {},
   "source": [
    "### The CLT in action\n",
    "The central limit theorem states that a sampling distribution of a sample statistic approaches the normal distribution as you take more samples, no matter the original distribution being sampled from.\n",
    "\n",
    "In this exercise, you'll focus on the sample mean and see the central limit theorem in action while examining the num_users column of amir_deals more closely, which contains the number of people who intend to use the product Amir is selling."
   ]
  },
  {
   "cell_type": "code",
   "execution_count": 10,
   "metadata": {},
   "outputs": [
    {
     "data": {
      "image/png": "[encoded data removed]",
      "text/plain": [
       "plot without title"
      ]
     },
     "metadata": {},
     "output_type": "display_data"
    }
   ],
   "source": [
    "# Create a histogram of num_users\n",
    "ggplot(sel, aes(num_users)) + geom_histogram(bins = 10)"
   ]
  },
  {
   "cell_type": "code",
   "execution_count": 15,
   "metadata": {},
   "outputs": [
    {
     "data": {
      "text/html": [
       "30.35"
      ],
      "text/latex": [
       "30.35"
      ],
      "text/markdown": [
       "30.35"
      ],
      "text/plain": [
       "[1] 30.35"
      ]
     },
     "metadata": {},
     "output_type": "display_data"
    }
   ],
   "source": [
    "# Set seed to 104\n",
    "set.seed(104)\n",
    "\n",
    "# Sample 20 num_users with replacement from amir_deals\n",
    "sample(sel$num_users,20, replace = TRUE) %>%\n",
    "  # Take mean\n",
    "  mean()"
   ]
  },
  {
   "cell_type": "code",
   "execution_count": 14,
   "metadata": {},
   "outputs": [
    {
     "data": {
      "image/png": "[encoded data removed]",
      "text/plain": [
       "plot without title"
      ]
     },
     "metadata": {},
     "output_type": "display_data"
    }
   ],
   "source": [
    "# Set seed to 104\n",
    "set.seed(104)\n",
    "\n",
    "# Sample 20 num_users from amir_deals and take mean\n",
    "sample(amir_deals$num_users, size = 20, replace = TRUE) %>%\n",
    "  mean()\n",
    "\n",
    "# Repeat the above 100 times\n",
    "sample_means <- replicate(100, sample(amir_deals$num_users, size = 20, replace = TRUE) %>% mean())\n",
    "\n",
    "# Create data frame for plotting\n",
    "samples <- data.frame(mean = sample_means)\n",
    "\n",
    "# Histogram of sample means\n",
    "ggplot(samples, aes(mean))+\n",
    "  geom_histogram(bins = 10)"
   ]
  },
  {
   "cell_type": "markdown",
   "metadata": {},
   "source": [
    "### The mean of means\n",
    "You want to know what the average number of users (num_users) is per deal, but you want to know this number for the entire company so that you can see if Amir's deals have more or fewer users than the company's average deal. The problem is that over the past year, the company has worked on more than ten thousand deals, so it's not realistic to compile all the data. Instead, you'll estimate the mean by taking several random samples of deals, since this is much easier than collecting data from everyone in the company.\n",
    "\n",
    "The user data for all the company's deals is available in all_deals."
   ]
  },
  {
   "cell_type": "code",
   "execution_count": 18,
   "metadata": {},
   "outputs": [
    {
     "data": {
      "text/html": [
       "38.205"
      ],
      "text/latex": [
       "38.205"
      ],
      "text/markdown": [
       "38.205"
      ],
      "text/plain": [
       "[1] 38.205"
      ]
     },
     "metadata": {},
     "output_type": "display_data"
    },
    {
     "data": {
      "text/html": [
       "37.6516853932584"
      ],
      "text/latex": [
       "37.6516853932584"
      ],
      "text/markdown": [
       "37.6516853932584"
      ],
      "text/plain": [
       "[1] 37.65169"
      ]
     },
     "metadata": {},
     "output_type": "display_data"
    }
   ],
   "source": [
    "all_deals = sel[, c(\"product\", \"num_users\")]\n",
    "\n",
    "# Set seed to 321\n",
    "set.seed(321)\n",
    "\n",
    "# Take 30 samples of 20 values of num_users, take mean of each sample\n",
    "sample_means <- replicate(30, sample(all_deals$num_users, size = 20) %>% mean())\n",
    "\n",
    "# Calculate mean of sample_means\n",
    "mean(sample_means)\n",
    "# Calculate mean of num_users in amir_deals\n",
    "mean(sel$num_users)\n"
   ]
  },
  {
   "cell_type": "markdown",
   "metadata": {},
   "source": [
    "### Tracking lead responses\n",
    "Your company uses sales software to keep track of new sales leads. It organizes them into a queue so that anyone can follow up on one when they have a bit of free time. Since the number of lead responses is a countable outcome over a period of time, this scenario corresponds to a Poisson distribution. On average, Amir responds to 4 leads each day. In this exercise, you'll calculate probabilities of Amir responding to different numbers of leads."
   ]
  },
  {
   "cell_type": "code",
   "execution_count": 19,
   "metadata": {},
   "outputs": [
    {
     "data": {
      "text/html": [
       "0.156293451850532"
      ],
      "text/latex": [
       "0.156293451850532"
      ],
      "text/markdown": [
       "0.156293451850532"
      ],
      "text/plain": [
       "[1] 0.1562935"
      ]
     },
     "metadata": {},
     "output_type": "display_data"
    }
   ],
   "source": [
    "# What's the probability that Amir responds to 5 leads in a day, given that he responds to an average of 4?\n",
    "dpois(5, lambda = 4)"
   ]
  },
  {
   "cell_type": "code",
   "execution_count": 20,
   "metadata": {},
   "outputs": [
    {
     "data": {
      "text/html": [
       "0.171400684097937"
      ],
      "text/latex": [
       "0.171400684097937"
      ],
      "text/markdown": [
       "0.171400684097937"
      ],
      "text/plain": [
       "[1] 0.1714007"
      ]
     },
     "metadata": {},
     "output_type": "display_data"
    }
   ],
   "source": [
    " # Amir's coworker responds to an average of 5.5 leads per day. What is the probability that she answers 5 leads in a day?\n",
    "dpois(5, lambda = 5.5)"
   ]
  },
  {
   "cell_type": "code",
   "execution_count": 21,
   "metadata": {},
   "outputs": [
    {
     "data": {
      "text/html": [
       "0.238103305553544"
      ],
      "text/latex": [
       "0.238103305553544"
      ],
      "text/markdown": [
       "0.238103305553544"
      ],
      "text/plain": [
       "[1] 0.2381033"
      ]
     },
     "metadata": {},
     "output_type": "display_data"
    }
   ],
   "source": [
    "# What's the probability that Amir responds to 2 or fewer leads in a day?\n",
    "ppois(2, lambda = 4)"
   ]
  },
  {
   "cell_type": "code",
   "execution_count": 22,
   "metadata": {},
   "outputs": [
    {
     "data": {
      "text/html": [
       "0.00283976612051374"
      ],
      "text/latex": [
       "0.00283976612051374"
      ],
      "text/markdown": [
       "0.00283976612051374"
      ],
      "text/plain": [
       "[1] 0.002839766"
      ]
     },
     "metadata": {},
     "output_type": "display_data"
    }
   ],
   "source": [
    "# What's the probability that Amir responds to more than 10 leads in a day?\n",
    "ppois(10, lambda = 4, lower.tail = FALSE)"
   ]
  },
  {
   "cell_type": "markdown",
   "metadata": {},
   "source": [
    "### Modeling time between leads\n",
    "To further evaluate Amir's performance, you want to know how much time it takes him to respond to a lead after he opens it. On average, it takes 2.5 hours for him to respond. In this exercise, you'll calculate probabilities of different amounts of time passing between Amir receiving a lead and sending a response."
   ]
  },
  {
   "cell_type": "code",
   "execution_count": 23,
   "metadata": {},
   "outputs": [
    {
     "data": {
      "text/html": [
       "0.329679953964361"
      ],
      "text/latex": [
       "0.329679953964361"
      ],
      "text/markdown": [
       "0.329679953964361"
      ],
      "text/plain": [
       "[1] 0.32968"
      ]
     },
     "metadata": {},
     "output_type": "display_data"
    }
   ],
   "source": [
    "# Probability response takes < 1 hour\n",
    "pexp(1, 1/2.5)"
   ]
  },
  {
   "cell_type": "code",
   "execution_count": 24,
   "metadata": {},
   "outputs": [
    {
     "data": {
      "text/html": [
       "0.201896517994655"
      ],
      "text/latex": [
       "0.201896517994655"
      ],
      "text/markdown": [
       "0.201896517994655"
      ],
      "text/plain": [
       "[1] 0.2018965"
      ]
     },
     "metadata": {},
     "output_type": "display_data"
    }
   ],
   "source": [
    "# What's the probability it takes Amir more than 4 hours to respond to a lead?\n",
    "pexp(4, 1/2.5, lower.tail = FALSE)"
   ]
  },
  {
   "cell_type": "code",
   "execution_count": 25,
   "metadata": {},
   "outputs": [
    {
     "data": {
      "text/html": [
       "0.0992976939175468"
      ],
      "text/latex": [
       "0.0992976939175468"
      ],
      "text/markdown": [
       "0.0992976939175468"
      ],
      "text/plain": [
       "[1] 0.09929769"
      ]
     },
     "metadata": {},
     "output_type": "display_data"
    }
   ],
   "source": [
    "# What's the probability it takes Amir 3-4 hours to respond to a lead?\n",
    "pexp(4, 1/2.5) - pexp(3, 1/2.5)"
   ]
  },
  {
   "cell_type": "code",
   "execution_count": null,
   "metadata": {},
   "outputs": [],
   "source": []
  }
 ],
 "metadata": {
  "kernelspec": {
   "display_name": "R",
   "language": "R",
   "name": "ir"
  },
  "language_info": {
   "codemirror_mode": "r",
   "file_extension": ".r",
   "mimetype": "text/x-r-source",
   "name": "R",
   "pygments_lexer": "r",
   "version": "3.6.1"
  }
 },
 "nbformat": 4,
 "nbformat_minor": 4
}
