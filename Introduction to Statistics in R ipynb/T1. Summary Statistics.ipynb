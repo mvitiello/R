{
 "cells": [
  {
   "cell_type": "markdown",
   "metadata": {},
   "source": [
    "# Introduction to Statistics in R\n",
    "\n",
    "Statistics is the study of how to collect, analyze, and draw conclusions from data. It’s a hugely valuable tool that you can use to bring the future into focus and infer the answer to tons of questions. For example, what is the likelihood of someone purchasing your product, how many calls will your support team receive, and how many jeans sizes should you manufacture to fit 95% of the population? In this course, you'll use sales data to discover how to answer questions like these as you grow your statistical skills and learn how to calculate averages, use scatterplots to show the relationship between numeric values, and calculate correlation. You'll also tackle probability, the backbone of statistical reasoning, and learn how to conduct a well-designed study to draw your own conclusions from data."
   ]
  },
  {
   "cell_type": "markdown",
   "metadata": {},
   "source": [
    "## Summary Statistics\n",
    "\n",
    "Summary statistics gives you the tools you need to boil down massive datasets to reveal the highlights. In this chapter, you'll explore summary statistics including mean, median, and standard deviation, and learn how to accurately interpret them. You'll also develop your critical thinking skills, allowing you to choose the best summary statistics for your data."
   ]
  },
  {
   "cell_type": "markdown",
   "metadata": {},
   "source": [
    "### Mean and median\n",
    "In this chapter, you'll be working with the 2018 Food Carbon Footprint Index from nu3. The food_consumption dataset contains information about the kilograms of food consumed per person per year in each country in each food category (consumption) as well as information about the carbon footprint of that food category (co2_emissions) measured in kilograms of carbon dioxide, or CO, per person per year in each country.\n",
    "\n",
    "In this exercise, you'll compute measures of center to compare food consumption in the US and Belgium using your dplyr skills."
   ]
  },
  {
   "cell_type": "code",
   "execution_count": 1,
   "metadata": {},
   "outputs": [
    {
     "name": "stderr",
     "output_type": "stream",
     "text": [
      "Warning message:\n",
      "\"package 'dplyr' was built under R version 3.6.3\"\n",
      "Attaching package: 'dplyr'\n",
      "\n",
      "The following objects are masked from 'package:stats':\n",
      "\n",
      "    filter, lag\n",
      "\n",
      "The following objects are masked from 'package:base':\n",
      "\n",
      "    intersect, setdiff, setequal, union\n",
      "\n"
     ]
    },
    {
     "data": {
      "text/html": [
       "42.1327272727273"
      ],
      "text/latex": [
       "42.1327272727273"
      ],
      "text/markdown": [
       "42.1327272727273"
      ],
      "text/plain": [
       "[1] 42.13273"
      ]
     },
     "metadata": {},
     "output_type": "display_data"
    },
    {
     "data": {
      "text/html": [
       "12.59"
      ],
      "text/latex": [
       "12.59"
      ],
      "text/markdown": [
       "12.59"
      ],
      "text/plain": [
       "[1] 12.59"
      ]
     },
     "metadata": {},
     "output_type": "display_data"
    },
    {
     "data": {
      "text/html": [
       "44.65"
      ],
      "text/latex": [
       "44.65"
      ],
      "text/markdown": [
       "44.65"
      ],
      "text/plain": [
       "[1] 44.65"
      ]
     },
     "metadata": {},
     "output_type": "display_data"
    },
    {
     "data": {
      "text/html": [
       "14.58"
      ],
      "text/latex": [
       "14.58"
      ],
      "text/markdown": [
       "14.58"
      ],
      "text/plain": [
       "[1] 14.58"
      ]
     },
     "metadata": {},
     "output_type": "display_data"
    }
   ],
   "source": [
    "library(dplyr)\n",
    "\n",
    "food_consumption <- readRDS(\"food_consumption.rds\")\n",
    "\n",
    "# Filter for Belgium\n",
    "belgium_consumption <- food_consumption %>%\n",
    "  filter(country == \"Belgium\")\n",
    "\n",
    "# Filter for USA\n",
    "usa_consumption <- food_consumption %>%\n",
    "  filter(country == \"USA\")\n",
    "\n",
    "# Calculate mean and median consumption in Belgium\n",
    "mean(belgium_consumption$consumption)\n",
    "median(belgium_consumption$consumption)\n",
    "\n",
    "# Calculate mean and median consumption in USA\n",
    "mean(usa_consumption$consumption)\n",
    "median(usa_consumption$consumption)"
   ]
  },
  {
   "cell_type": "code",
   "execution_count": 2,
   "metadata": {},
   "outputs": [
    {
     "name": "stderr",
     "output_type": "stream",
     "text": [
      "`summarise()` ungrouping output (override with `.groups` argument)\n"
     ]
    },
    {
     "data": {
      "text/html": [
       "<table>\n",
       "<thead><tr><th scope=col>country</th><th scope=col>mean_consumption</th><th scope=col>median_consumption</th></tr></thead>\n",
       "<tbody>\n",
       "\t<tr><td>Belgium </td><td>42.13273</td><td>12.59   </td></tr>\n",
       "\t<tr><td>USA     </td><td>44.65000</td><td>14.58   </td></tr>\n",
       "</tbody>\n",
       "</table>\n"
      ],
      "text/latex": [
       "\\begin{tabular}{r|lll}\n",
       " country & mean\\_consumption & median\\_consumption\\\\\n",
       "\\hline\n",
       "\t Belgium  & 42.13273 & 12.59   \\\\\n",
       "\t USA      & 44.65000 & 14.58   \\\\\n",
       "\\end{tabular}\n"
      ],
      "text/markdown": [
       "\n",
       "| country | mean_consumption | median_consumption |\n",
       "|---|---|---|\n",
       "| Belgium  | 42.13273 | 12.59    |\n",
       "| USA      | 44.65000 | 14.58    |\n",
       "\n"
      ],
      "text/plain": [
       "  country mean_consumption median_consumption\n",
       "1 Belgium 42.13273         12.59             \n",
       "2 USA     44.65000         14.58             "
      ]
     },
     "metadata": {},
     "output_type": "display_data"
    }
   ],
   "source": [
    "# other way to do it, much better \n",
    "food_consumption %>%\n",
    "  # Filter for Belgium and USA\n",
    "  filter(country %in% c(\"Belgium\", \"USA\")) %>%\n",
    "  # Group by country\n",
    "   group_by(country)%>%\n",
    "  # Get mean_consumption and median_consumption\n",
    "  summarize(mean_consumption = mean(consumption),\n",
    "      median_consumption = median(consumption))"
   ]
  },
  {
   "cell_type": "markdown",
   "metadata": {},
   "source": [
    "### Mean vs. median\n",
    "In the video, you learned that the mean is the sum of all the data points divided by the total number of data points, and the median is the middle value of the dataset where 50% of the data is less than the median, and 50% of the data is greater than the median. In this exercise, you'll compare these two measures of center."
   ]
  },
  {
   "cell_type": "code",
   "execution_count": 3,
   "metadata": {},
   "outputs": [
    {
     "name": "stderr",
     "output_type": "stream",
     "text": [
      "Warning message:\n",
      "\"package 'ggplot2' was built under R version 3.6.3\"`stat_bin()` using `bins = 30`. Pick better value with `binwidth`.\n"
     ]
    },
    {
     "data": {
      "image/png": "[encoded data removed]",
      "text/plain": [
       "plot without title"
      ]
     },
     "metadata": {},
     "output_type": "display_data"
    }
   ],
   "source": [
    "library(ggplot2)\n",
    "\n",
    "food_consumption %>%\n",
    "  # Filter for rice food category\n",
    "  filter(food_category == \"rice\") %>%\n",
    "  # Create histogram of co2_emission\n",
    "  ggplot(.,aes(co2_emission)) + geom_histogram()\n"
   ]
  },
  {
   "cell_type": "code",
   "execution_count": 4,
   "metadata": {},
   "outputs": [
    {
     "data": {
      "text/html": [
       "<table>\n",
       "<thead><tr><th scope=col>mean_co2</th><th scope=col>median_co2</th></tr></thead>\n",
       "<tbody>\n",
       "\t<tr><td>37.59162</td><td>15.2    </td></tr>\n",
       "</tbody>\n",
       "</table>\n"
      ],
      "text/latex": [
       "\\begin{tabular}{r|ll}\n",
       " mean\\_co2 & median\\_co2\\\\\n",
       "\\hline\n",
       "\t 37.59162 & 15.2    \\\\\n",
       "\\end{tabular}\n"
      ],
      "text/markdown": [
       "\n",
       "| mean_co2 | median_co2 |\n",
       "|---|---|\n",
       "| 37.59162 | 15.2     |\n",
       "\n"
      ],
      "text/plain": [
       "  mean_co2 median_co2\n",
       "1 37.59162 15.2      "
      ]
     },
     "metadata": {},
     "output_type": "display_data"
    }
   ],
   "source": [
    "food_consumption %>%\n",
    "  # Filter for rice food category\n",
    "filter(food_category == \"rice\") %>% \n",
    "  # Get mean_co2 and median_co2\n",
    "  summarize(mean_co2 = mean(co2_emission), median_co2 = median(co2_emission))\n"
   ]
  },
  {
   "cell_type": "markdown",
   "metadata": {},
   "source": [
    "### Quartiles, quantiles, and quintiles\n",
    "Quantiles are a great way of summarizing numerical data since they can be used to measure center and spread, as well as to get a sense of where a data point stands in relation to the rest of the data set. For example, you might want to give a discount to the 10% most active users on a website.\n",
    "\n",
    "In this exercise, you'll calculate quartiles, quintiles, and deciles, which split up a dataset into 4, 5, and 10 pieces, respectively."
   ]
  },
  {
   "cell_type": "code",
   "execution_count": 5,
   "metadata": {},
   "outputs": [
    {
     "data": {
      "text/html": [
       "<dl class=dl-horizontal>\n",
       "\t<dt>0%</dt>\n",
       "\t\t<dd>0</dd>\n",
       "\t<dt>25%</dt>\n",
       "\t\t<dd>5.21</dd>\n",
       "\t<dt>50%</dt>\n",
       "\t\t<dd>16.53</dd>\n",
       "\t<dt>75%</dt>\n",
       "\t\t<dd>62.5975</dd>\n",
       "\t<dt>100%</dt>\n",
       "\t\t<dd>1712</dd>\n",
       "</dl>\n"
      ],
      "text/latex": [
       "\\begin{description*}\n",
       "\\item[0\\textbackslash{}\\%] 0\n",
       "\\item[25\\textbackslash{}\\%] 5.21\n",
       "\\item[50\\textbackslash{}\\%] 16.53\n",
       "\\item[75\\textbackslash{}\\%] 62.5975\n",
       "\\item[100\\textbackslash{}\\%] 1712\n",
       "\\end{description*}\n"
      ],
      "text/markdown": [
       "0%\n",
       ":   025%\n",
       ":   5.2150%\n",
       ":   16.5375%\n",
       ":   62.5975100%\n",
       ":   1712\n",
       "\n"
      ],
      "text/plain": [
       "       0%       25%       50%       75%      100% \n",
       "   0.0000    5.2100   16.5300   62.5975 1712.0000 "
      ]
     },
     "metadata": {},
     "output_type": "display_data"
    }
   ],
   "source": [
    "# Calculate the quartiles of co2_emission\n",
    "quantile(food_consumption$co2_emission)"
   ]
  },
  {
   "cell_type": "code",
   "execution_count": 6,
   "metadata": {},
   "outputs": [
    {
     "data": {
      "text/html": [
       "<dl class=dl-horizontal>\n",
       "\t<dt>0%</dt>\n",
       "\t\t<dd>0</dd>\n",
       "\t<dt>20%</dt>\n",
       "\t\t<dd>3.54</dd>\n",
       "\t<dt>40%</dt>\n",
       "\t\t<dd>11.026</dd>\n",
       "\t<dt>60%</dt>\n",
       "\t\t<dd>25.59</dd>\n",
       "\t<dt>80%</dt>\n",
       "\t\t<dd>99.978</dd>\n",
       "\t<dt>100%</dt>\n",
       "\t\t<dd>1712</dd>\n",
       "</dl>\n"
      ],
      "text/latex": [
       "\\begin{description*}\n",
       "\\item[0\\textbackslash{}\\%] 0\n",
       "\\item[20\\textbackslash{}\\%] 3.54\n",
       "\\item[40\\textbackslash{}\\%] 11.026\n",
       "\\item[60\\textbackslash{}\\%] 25.59\n",
       "\\item[80\\textbackslash{}\\%] 99.978\n",
       "\\item[100\\textbackslash{}\\%] 1712\n",
       "\\end{description*}\n"
      ],
      "text/markdown": [
       "0%\n",
       ":   020%\n",
       ":   3.5440%\n",
       ":   11.02660%\n",
       ":   25.5980%\n",
       ":   99.978100%\n",
       ":   1712\n",
       "\n"
      ],
      "text/plain": [
       "      0%      20%      40%      60%      80%     100% \n",
       "   0.000    3.540   11.026   25.590   99.978 1712.000 "
      ]
     },
     "metadata": {},
     "output_type": "display_data"
    }
   ],
   "source": [
    "# Calculate the quintiles of co2_emission\n",
    "quantile(food_consumption$co2_emission, probs = seq(0,1,0.2))"
   ]
  },
  {
   "cell_type": "code",
   "execution_count": 7,
   "metadata": {},
   "outputs": [
    {
     "data": {
      "text/html": [
       "<dl class=dl-horizontal>\n",
       "\t<dt>0%</dt>\n",
       "\t\t<dd>0</dd>\n",
       "\t<dt>10%</dt>\n",
       "\t\t<dd>0.668</dd>\n",
       "\t<dt>20%</dt>\n",
       "\t\t<dd>3.54</dd>\n",
       "\t<dt>30%</dt>\n",
       "\t\t<dd>7.04</dd>\n",
       "\t<dt>40%</dt>\n",
       "\t\t<dd>11.026</dd>\n",
       "\t<dt>50%</dt>\n",
       "\t\t<dd>16.53</dd>\n",
       "\t<dt>60%</dt>\n",
       "\t\t<dd>25.59</dd>\n",
       "\t<dt>70%</dt>\n",
       "\t\t<dd>44.271</dd>\n",
       "\t<dt>80%</dt>\n",
       "\t\t<dd>99.978</dd>\n",
       "\t<dt>90%</dt>\n",
       "\t\t<dd>203.629</dd>\n",
       "\t<dt>100%</dt>\n",
       "\t\t<dd>1712</dd>\n",
       "</dl>\n"
      ],
      "text/latex": [
       "\\begin{description*}\n",
       "\\item[0\\textbackslash{}\\%] 0\n",
       "\\item[10\\textbackslash{}\\%] 0.668\n",
       "\\item[20\\textbackslash{}\\%] 3.54\n",
       "\\item[30\\textbackslash{}\\%] 7.04\n",
       "\\item[40\\textbackslash{}\\%] 11.026\n",
       "\\item[50\\textbackslash{}\\%] 16.53\n",
       "\\item[60\\textbackslash{}\\%] 25.59\n",
       "\\item[70\\textbackslash{}\\%] 44.271\n",
       "\\item[80\\textbackslash{}\\%] 99.978\n",
       "\\item[90\\textbackslash{}\\%] 203.629\n",
       "\\item[100\\textbackslash{}\\%] 1712\n",
       "\\end{description*}\n"
      ],
      "text/markdown": [
       "0%\n",
       ":   010%\n",
       ":   0.66820%\n",
       ":   3.5430%\n",
       ":   7.0440%\n",
       ":   11.02650%\n",
       ":   16.5360%\n",
       ":   25.5970%\n",
       ":   44.27180%\n",
       ":   99.97890%\n",
       ":   203.629100%\n",
       ":   1712\n",
       "\n"
      ],
      "text/plain": [
       "      0%      10%      20%      30%      40%      50%      60%      70% \n",
       "   0.000    0.668    3.540    7.040   11.026   16.530   25.590   44.271 \n",
       "     80%      90%     100% \n",
       "  99.978  203.629 1712.000 "
      ]
     },
     "metadata": {},
     "output_type": "display_data"
    }
   ],
   "source": [
    "# Calculate the deciles of co2_emission\n",
    "quantile(food_consumption$co2_emission, probs = seq(0,1,0.1))"
   ]
  },
  {
   "cell_type": "markdown",
   "metadata": {},
   "source": [
    "### Variance and standard deviation\n",
    "Variance and standard deviation are two of the most common ways to measure the spread of a variable, and you'll practice calculating these in this exercise. Spread is important since it can help inform expectations. For example, if a salesperson sells a mean of 20 products a day, but has a standard deviation of 10 products, there will probably be days where they sell 40 products, but also days where they only sell one or two. Information like this is important, especially when making predictions."
   ]
  },
  {
   "cell_type": "code",
   "execution_count": 9,
   "metadata": {},
   "outputs": [
    {
     "name": "stderr",
     "output_type": "stream",
     "text": [
      "`summarise()` ungrouping output (override with `.groups` argument)\n"
     ]
    },
    {
     "data": {
      "text/html": [
       "<table>\n",
       "<thead><tr><th scope=col>food_category</th><th scope=col>var_co2</th><th scope=col>sd_co2</th></tr></thead>\n",
       "<tbody>\n",
       "\t<tr><td>beef        </td><td>8.874841e+04</td><td>297.9067105 </td></tr>\n",
       "\t<tr><td>eggs        </td><td>2.137182e+01</td><td>  4.6229665 </td></tr>\n",
       "\t<tr><td>fish        </td><td>9.216373e+02</td><td> 30.3584807 </td></tr>\n",
       "\t<tr><td>lamb_goat   </td><td>1.647552e+04</td><td>128.3569958 </td></tr>\n",
       "\t<tr><td>dairy       </td><td>1.767189e+04</td><td>132.9356686 </td></tr>\n",
       "\t<tr><td>nuts        </td><td>3.563965e+01</td><td>  5.9698955 </td></tr>\n",
       "\t<tr><td>pork        </td><td>3.094964e+03</td><td> 55.6323965 </td></tr>\n",
       "\t<tr><td>poultry     </td><td>2.450268e+02</td><td> 15.6533320 </td></tr>\n",
       "\t<tr><td>rice        </td><td>2.281376e+03</td><td> 47.7637545 </td></tr>\n",
       "\t<tr><td>soybeans    </td><td>8.798818e-01</td><td>  0.9380202 </td></tr>\n",
       "\t<tr><td>wheat       </td><td>7.102394e+01</td><td>  8.4275700 </td></tr>\n",
       "</tbody>\n",
       "</table>\n"
      ],
      "text/latex": [
       "\\begin{tabular}{r|lll}\n",
       " food\\_category & var\\_co2 & sd\\_co2\\\\\n",
       "\\hline\n",
       "\t beef         & 8.874841e+04 & 297.9067105 \\\\\n",
       "\t eggs         & 2.137182e+01 &   4.6229665 \\\\\n",
       "\t fish         & 9.216373e+02 &  30.3584807 \\\\\n",
       "\t lamb\\_goat  & 1.647552e+04 & 128.3569958 \\\\\n",
       "\t dairy        & 1.767189e+04 & 132.9356686 \\\\\n",
       "\t nuts         & 3.563965e+01 &   5.9698955 \\\\\n",
       "\t pork         & 3.094964e+03 &  55.6323965 \\\\\n",
       "\t poultry      & 2.450268e+02 &  15.6533320 \\\\\n",
       "\t rice         & 2.281376e+03 &  47.7637545 \\\\\n",
       "\t soybeans     & 8.798818e-01 &   0.9380202 \\\\\n",
       "\t wheat        & 7.102394e+01 &   8.4275700 \\\\\n",
       "\\end{tabular}\n"
      ],
      "text/markdown": [
       "\n",
       "| food_category | var_co2 | sd_co2 |\n",
       "|---|---|---|\n",
       "| beef         | 8.874841e+04 | 297.9067105  |\n",
       "| eggs         | 2.137182e+01 |   4.6229665  |\n",
       "| fish         | 9.216373e+02 |  30.3584807  |\n",
       "| lamb_goat    | 1.647552e+04 | 128.3569958  |\n",
       "| dairy        | 1.767189e+04 | 132.9356686  |\n",
       "| nuts         | 3.563965e+01 |   5.9698955  |\n",
       "| pork         | 3.094964e+03 |  55.6323965  |\n",
       "| poultry      | 2.450268e+02 |  15.6533320  |\n",
       "| rice         | 2.281376e+03 |  47.7637545  |\n",
       "| soybeans     | 8.798818e-01 |   0.9380202  |\n",
       "| wheat        | 7.102394e+01 |   8.4275700  |\n",
       "\n"
      ],
      "text/plain": [
       "   food_category var_co2      sd_co2     \n",
       "1  beef          8.874841e+04 297.9067105\n",
       "2  eggs          2.137182e+01   4.6229665\n",
       "3  fish          9.216373e+02  30.3584807\n",
       "4  lamb_goat     1.647552e+04 128.3569958\n",
       "5  dairy         1.767189e+04 132.9356686\n",
       "6  nuts          3.563965e+01   5.9698955\n",
       "7  pork          3.094964e+03  55.6323965\n",
       "8  poultry       2.450268e+02  15.6533320\n",
       "9  rice          2.281376e+03  47.7637545\n",
       "10 soybeans      8.798818e-01   0.9380202\n",
       "11 wheat         7.102394e+01   8.4275700"
      ]
     },
     "metadata": {},
     "output_type": "display_data"
    },
    {
     "name": "stderr",
     "output_type": "stream",
     "text": [
      "`stat_bin()` using `bins = 30`. Pick better value with `binwidth`.\n"
     ]
    },
    {
     "data": {
      "image/png": "[encoded data removed]",
      "text/plain": [
       "plot without title"
      ]
     },
     "metadata": {},
     "output_type": "display_data"
    }
   ],
   "source": [
    "# Calculate variance and sd of co2_emission for each food_category\n",
    "food_consumption %>% \n",
    "  group_by(food_category) %>% \n",
    "  summarise(var_co2 = var(co2_emission),\n",
    "     sd_co2 = sd(co2_emission))\n",
    "\n",
    "# Plot food_consumption with co2_emission on x-axis\n",
    "ggplot(food_consumption, aes(co2_emission)) +\n",
    "  # Create a histogram\n",
    "  geom_histogram() +\n",
    "  # Create a separate sub-graph for each food_category\n",
    "  facet_wrap(~ food_category)"
   ]
  },
  {
   "attachments": {
    "Screen%20Shot%202020-04-28%20at%2010.04.54%20AM.png": {
     "image/png": "[encoded data removed]"
    }
   },
   "cell_type": "markdown",
   "metadata": {},
   "source": [
    "### Finding outliers using IQR\n",
    "Outliers can have big effects on statistics like mean, as well as statistics that rely on the mean, such as variance and standard deviation. Interquartile range, or IQR, is another way of measuring spread that's less influenced by outliers. IQR is also often used to find outliers. If a value is less than Q1 - 1.5*IQR or greater than Q3 + 1.5*IQR, it's considered an outlier. In fact, this is how the lengths of the whiskers in a ggplot2 box plot are calculated.\n",
    "\n",
    "![Screen%20Shot%202020-04-28%20at%2010.04.54%20AM.png](attachment:Screen%20Shot%202020-04-28%20at%2010.04.54%20AM.png)"
   ]
  },
  {
   "cell_type": "code",
   "execution_count": 11,
   "metadata": {},
   "outputs": [
    {
     "name": "stderr",
     "output_type": "stream",
     "text": [
      "`summarise()` ungrouping output (override with `.groups` argument)\n"
     ]
    },
    {
     "data": {
      "text/html": [
       "<table>\n",
       "<thead><tr><th scope=col>country</th><th scope=col>total_emission</th></tr></thead>\n",
       "<tbody>\n",
       "\t<tr><td>Argentina</td><td>2172.4   </td></tr>\n",
       "</tbody>\n",
       "</table>\n"
      ],
      "text/latex": [
       "\\begin{tabular}{r|ll}\n",
       " country & total\\_emission\\\\\n",
       "\\hline\n",
       "\t Argentina & 2172.4   \\\\\n",
       "\\end{tabular}\n"
      ],
      "text/markdown": [
       "\n",
       "| country | total_emission |\n",
       "|---|---|\n",
       "| Argentina | 2172.4    |\n",
       "\n"
      ],
      "text/plain": [
       "  country   total_emission\n",
       "1 Argentina 2172.4        "
      ]
     },
     "metadata": {},
     "output_type": "display_data"
    }
   ],
   "source": [
    "# Calculate total co2_emission per country: emissions_by_country\n",
    "emissions_by_country <- food_consumption %>%\n",
    "  group_by(country) %>%\n",
    "  summarise(total_emission = sum(co2_emission))\n",
    "\n",
    "# Compute the first and third quantiles and IQR of total_emission\n",
    "q1 <- quantile(emissions_by_country$total_emission, 0.25)\n",
    "q3 <- quantile(emissions_by_country$total_emission, 0.75)\n",
    "iqr <- q3 - q1\n",
    "\n",
    "# Calculate the lower and upper cutoffs for outliers\n",
    "lower <- q1 - 1.5 * iqr\n",
    "upper <- q3 + 1.5 * iqr\n",
    "\n",
    "# Filter emissions_by_country to find outliers\n",
    "emissions_by_country %>%\n",
    "  filter(total_emission < lower | total_emission > upper)"
   ]
  },
  {
   "cell_type": "code",
   "execution_count": null,
   "metadata": {},
   "outputs": [],
   "source": []
  }
 ],
 "metadata": {
  "kernelspec": {
   "display_name": "R",
   "language": "R",
   "name": "ir"
  },
  "language_info": {
   "codemirror_mode": "r",
   "file_extension": ".r",
   "mimetype": "text/x-r-source",
   "name": "R",
   "pygments_lexer": "r",
   "version": "3.6.1"
  }
 },
 "nbformat": 4,
 "nbformat_minor": 4
}
