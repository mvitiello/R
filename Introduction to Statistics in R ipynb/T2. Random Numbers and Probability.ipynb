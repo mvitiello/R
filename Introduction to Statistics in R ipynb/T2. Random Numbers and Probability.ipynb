{
 "cells": [
  {
   "cell_type": "markdown",
   "metadata": {},
   "source": [
    "## Random Numbers and Probability\n",
    "In this chapter, you'll learn how to generate random samples and measure chance using probability. You'll work with real-world sales data to calculate the probability of a salesperson being successful. Finally, you’ll use the binomial distribution to model events with binary outcomes."
   ]
  },
  {
   "attachments": {
    "images.png": {
     "image/png": "[encoded data removed]"
    }
   },
   "cell_type": "markdown",
   "metadata": {},
   "source": [
    "### Calculating probabilities\n",
    "You're in charge of the sales team, and it's time for performance reviews, starting with Amir. As part of the review, you want to randomly select a few of the deals that he's worked on over the past year so that you can look at them more deeply. Before you start selecting deals, you'll first figure out what the chances are of selecting certain deals.\n",
    "\n",
    "Recall that the probability of an event can be calculated by\n",
    "\n",
    "![images.png](attachment:images.png)"
   ]
  },
  {
   "cell_type": "code",
   "execution_count": 2,
   "metadata": {},
   "outputs": [
    {
     "data": {
      "text/html": [
       "<table>\n",
       "<thead><tr><th scope=col>product</th><th scope=col>client</th><th scope=col>status</th><th scope=col>amount</th><th scope=col>num_users</th></tr></thead>\n",
       "<tbody>\n",
       "\t<tr><td>Product F</td><td>Current  </td><td>Won      </td><td>7389.52  </td><td>19       </td></tr>\n",
       "\t<tr><td>Product C</td><td>New      </td><td>Won      </td><td>4493.01  </td><td>43       </td></tr>\n",
       "\t<tr><td>Product B</td><td>New      </td><td>Won      </td><td>5738.09  </td><td>87       </td></tr>\n",
       "\t<tr><td>Product I</td><td>Current  </td><td>Won      </td><td>2591.24  </td><td>83       </td></tr>\n",
       "\t<tr><td>Product E</td><td>Current  </td><td>Won      </td><td>6622.97  </td><td>17       </td></tr>\n",
       "\t<tr><td>Product B</td><td>New      </td><td>Won      </td><td>5496.27  </td><td> 2       </td></tr>\n",
       "</tbody>\n",
       "</table>\n"
      ],
      "text/latex": [
       "\\begin{tabular}{r|lllll}\n",
       " product & client & status & amount & num\\_users\\\\\n",
       "\\hline\n",
       "\t Product F & Current   & Won       & 7389.52   & 19       \\\\\n",
       "\t Product C & New       & Won       & 4493.01   & 43       \\\\\n",
       "\t Product B & New       & Won       & 5738.09   & 87       \\\\\n",
       "\t Product I & Current   & Won       & 2591.24   & 83       \\\\\n",
       "\t Product E & Current   & Won       & 6622.97   & 17       \\\\\n",
       "\t Product B & New       & Won       & 5496.27   &  2       \\\\\n",
       "\\end{tabular}\n"
      ],
      "text/markdown": [
       "\n",
       "| product | client | status | amount | num_users |\n",
       "|---|---|---|---|---|\n",
       "| Product F | Current   | Won       | 7389.52   | 19        |\n",
       "| Product C | New       | Won       | 4493.01   | 43        |\n",
       "| Product B | New       | Won       | 5738.09   | 87        |\n",
       "| Product I | Current   | Won       | 2591.24   | 83        |\n",
       "| Product E | Current   | Won       | 6622.97   | 17        |\n",
       "| Product B | New       | Won       | 5496.27   |  2        |\n",
       "\n"
      ],
      "text/plain": [
       "  product   client  status amount  num_users\n",
       "1 Product F Current Won    7389.52 19       \n",
       "2 Product C New     Won    4493.01 43       \n",
       "3 Product B New     Won    5738.09 87       \n",
       "4 Product I Current Won    2591.24 83       \n",
       "5 Product E Current Won    6622.97 17       \n",
       "6 Product B New     Won    5496.27  2       "
      ]
     },
     "metadata": {},
     "output_type": "display_data"
    },
    {
     "data": {
      "text/html": [
       "<table>\n",
       "<thead><tr><th scope=col>product</th><th scope=col>n</th><th scope=col>prob</th></tr></thead>\n",
       "<tbody>\n",
       "\t<tr><td>Product A </td><td>23        </td><td>0.12921348</td></tr>\n",
       "\t<tr><td>Product B </td><td>62        </td><td>0.34831461</td></tr>\n",
       "\t<tr><td>Product C </td><td>15        </td><td>0.08426966</td></tr>\n",
       "\t<tr><td>Product D </td><td>40        </td><td>0.22471910</td></tr>\n",
       "\t<tr><td>Product E </td><td> 5        </td><td>0.02808989</td></tr>\n",
       "\t<tr><td>Product F </td><td>11        </td><td>0.06179775</td></tr>\n",
       "\t<tr><td>Product G </td><td> 2        </td><td>0.01123596</td></tr>\n",
       "\t<tr><td>Product H </td><td> 8        </td><td>0.04494382</td></tr>\n",
       "\t<tr><td>Product I </td><td> 7        </td><td>0.03932584</td></tr>\n",
       "\t<tr><td>Product J </td><td> 2        </td><td>0.01123596</td></tr>\n",
       "\t<tr><td>Product N </td><td> 3        </td><td>0.01685393</td></tr>\n",
       "</tbody>\n",
       "</table>\n"
      ],
      "text/latex": [
       "\\begin{tabular}{r|lll}\n",
       " product & n & prob\\\\\n",
       "\\hline\n",
       "\t Product A  & 23         & 0.12921348\\\\\n",
       "\t Product B  & 62         & 0.34831461\\\\\n",
       "\t Product C  & 15         & 0.08426966\\\\\n",
       "\t Product D  & 40         & 0.22471910\\\\\n",
       "\t Product E  &  5         & 0.02808989\\\\\n",
       "\t Product F  & 11         & 0.06179775\\\\\n",
       "\t Product G  &  2         & 0.01123596\\\\\n",
       "\t Product H  &  8         & 0.04494382\\\\\n",
       "\t Product I  &  7         & 0.03932584\\\\\n",
       "\t Product J  &  2         & 0.01123596\\\\\n",
       "\t Product N  &  3         & 0.01685393\\\\\n",
       "\\end{tabular}\n"
      ],
      "text/markdown": [
       "\n",
       "| product | n | prob |\n",
       "|---|---|---|\n",
       "| Product A  | 23         | 0.12921348 |\n",
       "| Product B  | 62         | 0.34831461 |\n",
       "| Product C  | 15         | 0.08426966 |\n",
       "| Product D  | 40         | 0.22471910 |\n",
       "| Product E  |  5         | 0.02808989 |\n",
       "| Product F  | 11         | 0.06179775 |\n",
       "| Product G  |  2         | 0.01123596 |\n",
       "| Product H  |  8         | 0.04494382 |\n",
       "| Product I  |  7         | 0.03932584 |\n",
       "| Product J  |  2         | 0.01123596 |\n",
       "| Product N  |  3         | 0.01685393 |\n",
       "\n"
      ],
      "text/plain": [
       "   product   n  prob      \n",
       "1  Product A 23 0.12921348\n",
       "2  Product B 62 0.34831461\n",
       "3  Product C 15 0.08426966\n",
       "4  Product D 40 0.22471910\n",
       "5  Product E  5 0.02808989\n",
       "6  Product F 11 0.06179775\n",
       "7  Product G  2 0.01123596\n",
       "8  Product H  8 0.04494382\n",
       "9  Product I  7 0.03932584\n",
       "10 Product J  2 0.01123596\n",
       "11 Product N  3 0.01685393"
      ]
     },
     "metadata": {},
     "output_type": "display_data"
    }
   ],
   "source": [
    "library(dplyr)\n",
    "\n",
    "sel <- readRDS(\"seller_1.rds\")\n",
    "\n",
    "head(sel)\n",
    "\n",
    "sel %>%\n",
    "# Count the deals for each product\n",
    "  count(product) %>%\n",
    "# Calculate probability of picking a deal with each product\n",
    "  mutate(prob = n/sum(n))\n"
   ]
  },
  {
   "cell_type": "markdown",
   "metadata": {},
   "source": [
    "### Sampling deals\n",
    "In the previous exercise, you counted the deals Amir worked on. Now it's time to randomly pick five deals so that you can reach out to each customer and ask if they were satisfied with the service they received. You'll try doing this both with and without replacement.\n",
    "\n",
    "Additionally, you want to make sure this is done randomly and that it can be reproduced in case you get asked how you chose the deals, so you'll need to set the random seed before sampling from the deals."
   ]
  },
  {
   "cell_type": "code",
   "execution_count": 4,
   "metadata": {},
   "outputs": [
    {
     "data": {
      "text/html": [
       "<table>\n",
       "<thead><tr><th scope=col>product</th><th scope=col>client</th><th scope=col>status</th><th scope=col>amount</th><th scope=col>num_users</th></tr></thead>\n",
       "<tbody>\n",
       "\t<tr><td>Product D</td><td>Current  </td><td>Lost     </td><td>3086.88  </td><td>55       </td></tr>\n",
       "\t<tr><td>Product C</td><td>Current  </td><td>Lost     </td><td>3727.66  </td><td>19       </td></tr>\n",
       "\t<tr><td>Product D</td><td>Current  </td><td>Lost     </td><td>4274.80  </td><td> 9       </td></tr>\n",
       "\t<tr><td>Product B</td><td>Current  </td><td>Won      </td><td>4965.08  </td><td> 9       </td></tr>\n",
       "\t<tr><td>Product A</td><td>Current  </td><td>Won      </td><td>5827.35  </td><td>50       </td></tr>\n",
       "</tbody>\n",
       "</table>\n"
      ],
      "text/latex": [
       "\\begin{tabular}{r|lllll}\n",
       " product & client & status & amount & num\\_users\\\\\n",
       "\\hline\n",
       "\t Product D & Current   & Lost      & 3086.88   & 55       \\\\\n",
       "\t Product C & Current   & Lost      & 3727.66   & 19       \\\\\n",
       "\t Product D & Current   & Lost      & 4274.80   &  9       \\\\\n",
       "\t Product B & Current   & Won       & 4965.08   &  9       \\\\\n",
       "\t Product A & Current   & Won       & 5827.35   & 50       \\\\\n",
       "\\end{tabular}\n"
      ],
      "text/markdown": [
       "\n",
       "| product | client | status | amount | num_users |\n",
       "|---|---|---|---|---|\n",
       "| Product D | Current   | Lost      | 3086.88   | 55        |\n",
       "| Product C | Current   | Lost      | 3727.66   | 19        |\n",
       "| Product D | Current   | Lost      | 4274.80   |  9        |\n",
       "| Product B | Current   | Won       | 4965.08   |  9        |\n",
       "| Product A | Current   | Won       | 5827.35   | 50        |\n",
       "\n"
      ],
      "text/plain": [
       "  product   client  status amount  num_users\n",
       "1 Product D Current Lost   3086.88 55       \n",
       "2 Product C Current Lost   3727.66 19       \n",
       "3 Product D Current Lost   4274.80  9       \n",
       "4 Product B Current Won    4965.08  9       \n",
       "5 Product A Current Won    5827.35 50       "
      ]
     },
     "metadata": {},
     "output_type": "display_data"
    }
   ],
   "source": [
    "# Set random seed to 31\n",
    "set.seed(31)\n",
    "\n",
    "# Sample 5 deals without replacement\n",
    "sel %>%\n",
    "  sample_n(5)"
   ]
  },
  {
   "cell_type": "code",
   "execution_count": 5,
   "metadata": {},
   "outputs": [
    {
     "data": {
      "text/html": [
       "<table>\n",
       "<thead><tr><th scope=col>product</th><th scope=col>client</th><th scope=col>status</th><th scope=col>amount</th><th scope=col>num_users</th></tr></thead>\n",
       "<tbody>\n",
       "\t<tr><td>Product A</td><td>Current  </td><td>Won      </td><td>6010.04  </td><td>24       </td></tr>\n",
       "\t<tr><td>Product B</td><td>Current  </td><td>Lost     </td><td>5701.70  </td><td>53       </td></tr>\n",
       "\t<tr><td>Product D</td><td>Current  </td><td>Won      </td><td>6733.62  </td><td>27       </td></tr>\n",
       "\t<tr><td>Product F</td><td>Current  </td><td>Won      </td><td>6780.85  </td><td>80       </td></tr>\n",
       "\t<tr><td>Product C</td><td>Current  </td><td>Won      </td><td>-539.23  </td><td>11       </td></tr>\n",
       "</tbody>\n",
       "</table>\n"
      ],
      "text/latex": [
       "\\begin{tabular}{r|lllll}\n",
       " product & client & status & amount & num\\_users\\\\\n",
       "\\hline\n",
       "\t Product A & Current   & Won       & 6010.04   & 24       \\\\\n",
       "\t Product B & Current   & Lost      & 5701.70   & 53       \\\\\n",
       "\t Product D & Current   & Won       & 6733.62   & 27       \\\\\n",
       "\t Product F & Current   & Won       & 6780.85   & 80       \\\\\n",
       "\t Product C & Current   & Won       & -539.23   & 11       \\\\\n",
       "\\end{tabular}\n"
      ],
      "text/markdown": [
       "\n",
       "| product | client | status | amount | num_users |\n",
       "|---|---|---|---|---|\n",
       "| Product A | Current   | Won       | 6010.04   | 24        |\n",
       "| Product B | Current   | Lost      | 5701.70   | 53        |\n",
       "| Product D | Current   | Won       | 6733.62   | 27        |\n",
       "| Product F | Current   | Won       | 6780.85   | 80        |\n",
       "| Product C | Current   | Won       | -539.23   | 11        |\n",
       "\n"
      ],
      "text/plain": [
       "  product   client  status amount  num_users\n",
       "1 Product A Current Won    6010.04 24       \n",
       "2 Product B Current Lost   5701.70 53       \n",
       "3 Product D Current Won    6733.62 27       \n",
       "4 Product F Current Won    6780.85 80       \n",
       "5 Product C Current Won    -539.23 11       "
      ]
     },
     "metadata": {},
     "output_type": "display_data"
    }
   ],
   "source": [
    "# Sample 5 deals with replacement\n",
    "sel %>%\n",
    "  sample_n(5, replace = TRUE)"
   ]
  },
  {
   "cell_type": "markdown",
   "metadata": {},
   "source": [
    "### Creating a probability distribution\n",
    "A new restaurant opened a few months ago, and the restaurant's management wants to optimize its seating space based on the size of the groups that come most often. On one night, there are 10 groups of people waiting to be seated at the restaurant, but instead of being called in the order they arrived, they will be called randomly. In this exercise, you'll investigate the probability of groups of different sizes getting picked first. Data on each of the ten groups is contained in the restaurant_groups data frame.\n",
    "\n",
    "Remember that expected value can be calculated by multiplying each possible outcome with its corresponding probability and taking the sum."
   ]
  },
  {
   "cell_type": "code",
   "execution_count": 8,
   "metadata": {},
   "outputs": [
    {
     "name": "stderr",
     "output_type": "stream",
     "text": [
      "Warning message:\n",
      "\"package 'ggplot2' was built under R version 3.6.3\""
     ]
    },
    {
     "data": {
      "image/png": "[encoded data removed]",
      "text/plain": [
       "plot without title"
      ]
     },
     "metadata": {},
     "output_type": "display_data"
    }
   ],
   "source": [
    "library(ggplot2)\n",
    "# define restaurant_groups\n",
    "group_id <- c(\"A\", \"B\", \"C\", \"D\", \"E\", \"F\", \"G\", \"H\")\n",
    "group_size <- c(2,3,6,1,2,6,7,8)\n",
    "restaurant_groups = data.frame(group_id, group_size)\n",
    "# Create a histogram of group_size\n",
    "ggplot(restaurant_groups, aes(group_size)) + geom_histogram(bins = 5)"
   ]
  },
  {
   "cell_type": "code",
   "execution_count": 10,
   "metadata": {},
   "outputs": [
    {
     "data": {
      "text/html": [
       "<table>\n",
       "<thead><tr><th scope=col>group_size</th><th scope=col>n</th><th scope=col>probability</th></tr></thead>\n",
       "<tbody>\n",
       "\t<tr><td>1    </td><td>1    </td><td>0.125</td></tr>\n",
       "\t<tr><td>2    </td><td>2    </td><td>0.250</td></tr>\n",
       "\t<tr><td>3    </td><td>1    </td><td>0.125</td></tr>\n",
       "\t<tr><td>6    </td><td>2    </td><td>0.250</td></tr>\n",
       "\t<tr><td>7    </td><td>1    </td><td>0.125</td></tr>\n",
       "\t<tr><td>8    </td><td>1    </td><td>0.125</td></tr>\n",
       "</tbody>\n",
       "</table>\n"
      ],
      "text/latex": [
       "\\begin{tabular}{r|lll}\n",
       " group\\_size & n & probability\\\\\n",
       "\\hline\n",
       "\t 1     & 1     & 0.125\\\\\n",
       "\t 2     & 2     & 0.250\\\\\n",
       "\t 3     & 1     & 0.125\\\\\n",
       "\t 6     & 2     & 0.250\\\\\n",
       "\t 7     & 1     & 0.125\\\\\n",
       "\t 8     & 1     & 0.125\\\\\n",
       "\\end{tabular}\n"
      ],
      "text/markdown": [
       "\n",
       "| group_size | n | probability |\n",
       "|---|---|---|\n",
       "| 1     | 1     | 0.125 |\n",
       "| 2     | 2     | 0.250 |\n",
       "| 3     | 1     | 0.125 |\n",
       "| 6     | 2     | 0.250 |\n",
       "| 7     | 1     | 0.125 |\n",
       "| 8     | 1     | 0.125 |\n",
       "\n"
      ],
      "text/plain": [
       "  group_size n probability\n",
       "1 1          1 0.125      \n",
       "2 2          2 0.250      \n",
       "3 3          1 0.125      \n",
       "4 6          2 0.250      \n",
       "5 7          1 0.125      \n",
       "6 8          1 0.125      "
      ]
     },
     "metadata": {},
     "output_type": "display_data"
    },
    {
     "data": {
      "text/html": [
       "4.375"
      ],
      "text/latex": [
       "4.375"
      ],
      "text/markdown": [
       "4.375"
      ],
      "text/plain": [
       "[1] 4.375"
      ]
     },
     "metadata": {},
     "output_type": "display_data"
    }
   ],
   "source": [
    "# Create probability distribution\n",
    "size_distribution <- restaurant_groups %>%\n",
    "  # Count number of each group size\n",
    "  count(group_size) %>%\n",
    "  # Calculate probability\n",
    "  mutate(probability = n / sum(n))\n",
    "\n",
    "size_distribution\n",
    "\n",
    "# Calculate expected group size\n",
    "expected_val <- sum(size_distribution$group_size *size_distribution$probability)\n",
    "expected_val"
   ]
  },
  {
   "cell_type": "code",
   "execution_count": 11,
   "metadata": {},
   "outputs": [
    {
     "data": {
      "text/html": [
       "<table>\n",
       "<thead><tr><th scope=col>prob_4_or_more</th></tr></thead>\n",
       "<tbody>\n",
       "\t<tr><td>0.5</td></tr>\n",
       "</tbody>\n",
       "</table>\n"
      ],
      "text/latex": [
       "\\begin{tabular}{r|l}\n",
       " prob\\_4\\_or\\_more\\\\\n",
       "\\hline\n",
       "\t 0.5\\\\\n",
       "\\end{tabular}\n"
      ],
      "text/markdown": [
       "\n",
       "| prob_4_or_more |\n",
       "|---|\n",
       "| 0.5 |\n",
       "\n"
      ],
      "text/plain": [
       "  prob_4_or_more\n",
       "1 0.5           "
      ]
     },
     "metadata": {},
     "output_type": "display_data"
    }
   ],
   "source": [
    "# Calculate probability of picking group of 4 or more\n",
    "size_distribution %>%\n",
    "  # Filter for groups of 4 or larger\n",
    "  filter(group_size >= 4) %>%\n",
    "  # Calculate prob_4_or_more by taking sum of probabilities\n",
    "  summarize(prob_4_or_more = sum(probability))"
   ]
  },
  {
   "cell_type": "markdown",
   "metadata": {},
   "source": [
    "### Data back-ups\n",
    "The sales software used at your company is set to automatically back itself up, but no one knows exactly what time the back-ups happen. It is known, however, that back-ups happen exactly every 30 minutes. Amir comes back from sales meetings at random times to update the data on the client he just met with. He wants to know how long he'll have to wait for his newly-entered data to get backed up. Use your new knowledge of continuous uniform distributions to model this situation and answer Amir's questions."
   ]
  },
  {
   "cell_type": "code",
   "execution_count": 12,
   "metadata": {},
   "outputs": [
    {
     "data": {
      "text/html": [
       "0.166666666666667"
      ],
      "text/latex": [
       "0.166666666666667"
      ],
      "text/markdown": [
       "0.166666666666667"
      ],
      "text/plain": [
       "[1] 0.1666667"
      ]
     },
     "metadata": {},
     "output_type": "display_data"
    }
   ],
   "source": [
    "# Min and max wait times for back-up that happens every 30 min\n",
    "min <- 0\n",
    "max <- 30\n",
    "\n",
    "# Calculate probability of waiting less than 5 mins\n",
    "prob_less_than_5 <- punif(5, min, max)\n",
    "prob_less_than_5"
   ]
  },
  {
   "cell_type": "code",
   "execution_count": 14,
   "metadata": {},
   "outputs": [
    {
     "data": {
      "text/html": [
       "0.833333333333333"
      ],
      "text/latex": [
       "0.833333333333333"
      ],
      "text/markdown": [
       "0.833333333333333"
      ],
      "text/plain": [
       "[1] 0.8333333"
      ]
     },
     "metadata": {},
     "output_type": "display_data"
    },
    {
     "data": {
      "text/html": [
       "'Y'"
      ],
      "text/latex": [
       "'Y'"
      ],
      "text/markdown": [
       "'Y'"
      ],
      "text/plain": [
       "[1] \"Y\""
      ]
     },
     "metadata": {},
     "output_type": "display_data"
    }
   ],
   "source": [
    "# Calculate probability of waiting more than 5 mins\n",
    "prob_greater_than_5 <- punif(5, min, max, lower.tail = FALSE)\n",
    "prob_greater_than_5\n",
    "# or..\n",
    "prob_greater_than_5_b = 1 - prob_less_than_5\n",
    "ifelse(prob_greater_than_5_b == prob_greater_than_5, \"Y\", \"N\")"
   ]
  },
  {
   "cell_type": "code",
   "execution_count": 15,
   "metadata": {},
   "outputs": [
    {
     "data": {
      "text/html": [
       "0.333333333333333"
      ],
      "text/latex": [
       "0.333333333333333"
      ],
      "text/markdown": [
       "0.333333333333333"
      ],
      "text/plain": [
       "[1] 0.3333333"
      ]
     },
     "metadata": {},
     "output_type": "display_data"
    }
   ],
   "source": [
    "# Calculate probability of waiting 10-20 mins\n",
    "prob_between_10_and_20 <- punif(20, min, max) - punif(10, min, max)\n",
    "prob_between_10_and_20"
   ]
  },
  {
   "cell_type": "markdown",
   "metadata": {},
   "source": [
    "### Simulating wait times\n",
    "To give Amir a better idea of how long he'll have to wait, you'll simulate Amir waiting 1000 times and create a histogram to show him what he should expect. Recall from the last exercise that his minimum wait time is 0 minutes and his maximum wait time is 30 minutes."
   ]
  },
  {
   "cell_type": "code",
   "execution_count": 17,
   "metadata": {},
   "outputs": [
    {
     "data": {
      "image/png": "[encoded data removed]",
      "text/plain": [
       "plot without title"
      ]
     },
     "metadata": {},
     "output_type": "display_data"
    }
   ],
   "source": [
    "simulation_nb = seq(1, 1000, 1)\n",
    "wait_times = data.frame(simulation_nb)\n",
    "\n",
    "# Set random seed to 334\n",
    "set.seed(334)\n",
    "\n",
    "# Generate 1000 wait times between 0 and 30 mins, save in time column\n",
    "wait_times %>%\n",
    "  mutate(time = runif(1000, min = 0, max = 30)) %>%\n",
    "  # Create a histogram of simulated times\n",
    "   ggplot(., aes(time)) + geom_histogram(bins = 30)"
   ]
  },
  {
   "cell_type": "markdown",
   "metadata": {},
   "source": [
    "### Simulating sales deals\n",
    "Assume that Amir usually works on 3 deals per week, and overall, he wins 30% of deals he works on. Each deal has a binary outcome: it's either lost, or won, so you can model his sales deals with a binomial distribution. In this exercise, you'll help Amir simulate a year's worth of his deals so he can better understand his performance."
   ]
  },
  {
   "cell_type": "code",
   "execution_count": 1,
   "metadata": {},
   "outputs": [
    {
     "data": {
      "text/html": [
       "0"
      ],
      "text/latex": [
       "0"
      ],
      "text/markdown": [
       "0"
      ],
      "text/plain": [
       "[1] 0"
      ]
     },
     "metadata": {},
     "output_type": "display_data"
    }
   ],
   "source": [
    "# Set random seed to 10\n",
    "set.seed(10)\n",
    "\n",
    "# Simulate a single deal\n",
    "rbinom(1, 1, 0.30)\n"
   ]
  },
  {
   "cell_type": "code",
   "execution_count": 2,
   "metadata": {},
   "outputs": [
    {
     "data": {
      "text/html": [
       "1"
      ],
      "text/latex": [
       "1"
      ],
      "text/markdown": [
       "1"
      ],
      "text/plain": [
       "[1] 1"
      ]
     },
     "metadata": {},
     "output_type": "display_data"
    }
   ],
   "source": [
    "# Set random seed to 10\n",
    "set.seed(10)\n",
    "\n",
    "# Simulate 1 week of 3 deals\n",
    "rbinom(1, 3, 0.30)"
   ]
  },
  {
   "cell_type": "code",
   "execution_count": 3,
   "metadata": {},
   "outputs": [
    {
     "data": {
      "text/html": [
       "0.807692307692308"
      ],
      "text/latex": [
       "0.807692307692308"
      ],
      "text/markdown": [
       "0.807692307692308"
      ],
      "text/plain": [
       "[1] 0.8076923"
      ]
     },
     "metadata": {},
     "output_type": "display_data"
    }
   ],
   "source": [
    "# Set random seed to 10\n",
    "set.seed(10)\n",
    "\n",
    "# Simulate 52 weeks of 3 deals\n",
    "deals <- rbinom(52, 3, 0.30)\n",
    "\n",
    "# Calculate mean deals won per week\n",
    "mean(deals)"
   ]
  },
  {
   "cell_type": "markdown",
   "metadata": {},
   "source": [
    "### Calculating binomial probabilities\n",
    "Just as in the last exercise, assume that Amir wins 30% of deals. He wants to get an idea of how likely he is to close a certain number of deals each week. In this exercise, you'll calculate what the chances are of him closing different numbers of deals using the binomial distribution."
   ]
  },
  {
   "cell_type": "code",
   "execution_count": 4,
   "metadata": {},
   "outputs": [
    {
     "data": {
      "text/html": [
       "0.027"
      ],
      "text/latex": [
       "0.027"
      ],
      "text/markdown": [
       "0.027"
      ],
      "text/plain": [
       "[1] 0.027"
      ]
     },
     "metadata": {},
     "output_type": "display_data"
    }
   ],
   "source": [
    "# Probability of closing 3 out of 3 deals\n",
    "dbinom(3,3,0.3)"
   ]
  },
  {
   "cell_type": "code",
   "execution_count": 5,
   "metadata": {},
   "outputs": [
    {
     "data": {
      "text/html": [
       "0.784"
      ],
      "text/latex": [
       "0.784"
      ],
      "text/markdown": [
       "0.784"
      ],
      "text/plain": [
       "[1] 0.784"
      ]
     },
     "metadata": {},
     "output_type": "display_data"
    }
   ],
   "source": [
    "# Probability of closing <= 1 deal out of 3 deals\n",
    "pbinom(1, 3,0.3)"
   ]
  },
  {
   "cell_type": "code",
   "execution_count": 6,
   "metadata": {},
   "outputs": [
    {
     "data": {
      "text/html": [
       "0.216"
      ],
      "text/latex": [
       "0.216"
      ],
      "text/markdown": [
       "0.216"
      ],
      "text/plain": [
       "[1] 0.216"
      ]
     },
     "metadata": {},
     "output_type": "display_data"
    }
   ],
   "source": [
    "# Probability of closing > 1 deal out of 3 deals    \n",
    "pbinom(1, 3,0.3, lower.tail = FALSE)\n"
   ]
  },
  {
   "cell_type": "markdown",
   "metadata": {},
   "source": [
    "### How many sales will be won?\n",
    "Now Amir wants to know how many deals he can expect to close each week if his win rate changes. Luckily, you can use your binomial distribution knowledge to help him calculate the expected value in different situations. Recall from the video that the expected value of a binomial distribution can be calculated by ."
   ]
  },
  {
   "cell_type": "code",
   "execution_count": 7,
   "metadata": {},
   "outputs": [
    {
     "data": {
      "text/html": [
       "0.9"
      ],
      "text/latex": [
       "0.9"
      ],
      "text/markdown": [
       "0.9"
      ],
      "text/plain": [
       "[1] 0.9"
      ]
     },
     "metadata": {},
     "output_type": "display_data"
    },
    {
     "data": {
      "text/html": [
       "0.75"
      ],
      "text/latex": [
       "0.75"
      ],
      "text/markdown": [
       "0.75"
      ],
      "text/plain": [
       "[1] 0.75"
      ]
     },
     "metadata": {},
     "output_type": "display_data"
    },
    {
     "data": {
      "text/html": [
       "1.05"
      ],
      "text/latex": [
       "1.05"
      ],
      "text/markdown": [
       "1.05"
      ],
      "text/plain": [
       "[1] 1.05"
      ]
     },
     "metadata": {},
     "output_type": "display_data"
    }
   ],
   "source": [
    "# Calculate the expected number of sales out of the 3 he works on that Amir will win each week if he maintains his X% win rate.\n",
    "\n",
    "# Expected number won with 30% win rate\n",
    "won_30pct <- 3 * 0.3\n",
    "won_30pct\n",
    "\n",
    "# Expected number won with 25% win rate\n",
    "won_25pct <- 3*0.25\n",
    "won_25pct\n",
    "\n",
    "# Expected number won with 35% win rate\n",
    "won_35pct <- 3*0.35\n",
    "won_35pct"
   ]
  },
  {
   "cell_type": "code",
   "execution_count": null,
   "metadata": {},
   "outputs": [],
   "source": []
  }
 ],
 "metadata": {
  "kernelspec": {
   "display_name": "R",
   "language": "R",
   "name": "ir"
  },
  "language_info": {
   "codemirror_mode": "r",
   "file_extension": ".r",
   "mimetype": "text/x-r-source",
   "name": "R",
   "pygments_lexer": "r",
   "version": "3.6.1"
  }
 },
 "nbformat": 4,
 "nbformat_minor": 4
}
