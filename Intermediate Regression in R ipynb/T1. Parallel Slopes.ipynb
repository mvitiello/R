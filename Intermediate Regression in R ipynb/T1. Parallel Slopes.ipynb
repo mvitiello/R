{
 "cells": [
  {
   "cell_type": "markdown",
   "metadata": {},
   "source": [
    "# Intermediate Regression in R\n",
    "\n",
    "Linear regression and logistic regression are the two most widely used statistical models and act like master keys, unlocking the secrets hidden in datasets. This course builds on the skills you gained in \"Introduction to Regression in R\", covering linear and logistic regression with multiple explanatory variables. Through hands-on exercises, you’ll explore the relationships between variables in real-world datasets, Taiwan house prices and customer churn modeling, and more. By the end of this course, you’ll know how to include multiple explanatory variables in a model, understand how interactions between variables affect predictions, and understand how linear and logistic regression work."
   ]
  },
  {
   "cell_type": "markdown",
   "metadata": {},
   "source": [
    "## Parallel Slopes\n",
    "\n",
    "Extend your linear regression skills to \"parallel slopes\" regression, with one numeric and one categorical explanatory variable. This is the first step towards conquering multiple linear regression."
   ]
  },
  {
   "cell_type": "markdown",
   "metadata": {},
   "source": [
    "### Fitting a parallel slopes linear regression\n",
    "In Introduction to Regression in R, you learned to fit linear regression models with a single explanatory variable. In many cases, using only one explanatory variable limits the accuracy of predictions. That means that to truly master linear regression, you need to be able to include multiple explanatory variables.\n",
    "\n",
    "The case when there is one numeric explanatory variable and one categorical explanatory variable is sometimes called a \"parallel slopes\" linear regression due to the shape of the predictions – more on that in the next exercise.\n",
    "\n",
    "Here, you'll revisit the Taiwan real estate dataset."
   ]
  },
  {
   "cell_type": "code",
   "execution_count": 5,
   "metadata": {},
   "outputs": [
    {
     "name": "stdout",
     "output_type": "stream",
     "text": [
      "'data.frame':\t414 obs. of  4 variables:\n",
      " $ dist_to_mrt_m  : num  84.9 306.6 562 562 390.6 ...\n",
      " $ n_convenience  : num  10 9 5 5 5 3 7 6 1 3 ...\n",
      " $ house_age_years: Factor w/ 3 levels \"0 to 15\",\"15 to 30\",..: 3 2 1 1 1 1 3 2 3 2 ...\n",
      " $ price_twd_msq  : num  11.5 12.8 14.3 16.6 13 ...\n"
     ]
    },
    {
     "data": {
      "text/html": [
       "<table>\n",
       "<thead><tr><th scope=col>dist_to_mrt_m</th><th scope=col>n_convenience</th><th scope=col>house_age_years</th><th scope=col>price_twd_msq</th></tr></thead>\n",
       "<tbody>\n",
       "\t<tr><td>  84.87882</td><td>10        </td><td>30 to 45  </td><td>11.467474 </td></tr>\n",
       "\t<tr><td> 306.59470</td><td> 9        </td><td>15 to 30  </td><td>12.768533 </td></tr>\n",
       "\t<tr><td> 561.98450</td><td> 5        </td><td>0 to 15   </td><td>14.311649 </td></tr>\n",
       "\t<tr><td> 561.98450</td><td> 5        </td><td>0 to 15   </td><td>16.580938 </td></tr>\n",
       "\t<tr><td> 390.56840</td><td> 5        </td><td>0 to 15   </td><td>13.040847 </td></tr>\n",
       "\t<tr><td>2175.03000</td><td> 3        </td><td>0 to 15   </td><td> 9.712557 </td></tr>\n",
       "</tbody>\n",
       "</table>\n"
      ],
      "text/latex": [
       "\\begin{tabular}{r|llll}\n",
       " dist\\_to\\_mrt\\_m & n\\_convenience & house\\_age\\_years & price\\_twd\\_msq\\\\\n",
       "\\hline\n",
       "\t   84.87882 & 10         & 30 to 45   & 11.467474 \\\\\n",
       "\t  306.59470 &  9         & 15 to 30   & 12.768533 \\\\\n",
       "\t  561.98450 &  5         & 0 to 15    & 14.311649 \\\\\n",
       "\t  561.98450 &  5         & 0 to 15    & 16.580938 \\\\\n",
       "\t  390.56840 &  5         & 0 to 15    & 13.040847 \\\\\n",
       "\t 2175.03000 &  3         & 0 to 15    &  9.712557 \\\\\n",
       "\\end{tabular}\n"
      ],
      "text/markdown": [
       "\n",
       "| dist_to_mrt_m | n_convenience | house_age_years | price_twd_msq |\n",
       "|---|---|---|---|\n",
       "|   84.87882 | 10         | 30 to 45   | 11.467474  |\n",
       "|  306.59470 |  9         | 15 to 30   | 12.768533  |\n",
       "|  561.98450 |  5         | 0 to 15    | 14.311649  |\n",
       "|  561.98450 |  5         | 0 to 15    | 16.580938  |\n",
       "|  390.56840 |  5         | 0 to 15    | 13.040847  |\n",
       "| 2175.03000 |  3         | 0 to 15    |  9.712557  |\n",
       "\n"
      ],
      "text/plain": [
       "  dist_to_mrt_m n_convenience house_age_years price_twd_msq\n",
       "1   84.87882    10            30 to 45        11.467474    \n",
       "2  306.59470     9            15 to 30        12.768533    \n",
       "3  561.98450     5            0 to 15         14.311649    \n",
       "4  561.98450     5            0 to 15         16.580938    \n",
       "5  390.56840     5            0 to 15         13.040847    \n",
       "6 2175.03000     3            0 to 15          9.712557    "
      ]
     },
     "metadata": {},
     "output_type": "display_data"
    },
    {
     "data": {
      "text/plain": [
       "\n",
       "Call:\n",
       "lm(formula = price_twd_msq ~ n_convenience, data = taiwan_real_estate)\n",
       "\n",
       "Coefficients:\n",
       "  (Intercept)  n_convenience  \n",
       "       8.2242         0.7981  \n"
      ]
     },
     "metadata": {},
     "output_type": "display_data"
    }
   ],
   "source": [
    "# libraries\n",
    "library(fst)\n",
    "library(ggplot2)\n",
    "library(dplyr)\n",
    "library(broom)\n",
    "# read and see data \n",
    "taiwan_real_estate = read_fst(\"taiwan_real_estate2.fst\")\n",
    "str(taiwan_real_estate)\n",
    "head(taiwan_real_estate)\n",
    "\n",
    "# Fit a linear regr'n of price_twd_msq vs. n_convenience\n",
    "mdl_price_vs_conv <- lm(price_twd_msq ~ n_convenience, data = taiwan_real_estate)\n",
    "\n",
    "# See the result\n",
    "mdl_price_vs_conv"
   ]
  },
  {
   "cell_type": "code",
   "execution_count": 6,
   "metadata": {},
   "outputs": [
    {
     "data": {
      "text/plain": [
       "\n",
       "Call:\n",
       "lm(formula = price_twd_msq ~ house_age_years + 0, data = taiwan_real_estate)\n",
       "\n",
       "Coefficients:\n",
       " house_age_years0 to 15  house_age_years15 to 30  house_age_years30 to 45  \n",
       "                 12.637                    9.877                   11.393  \n"
      ]
     },
     "metadata": {},
     "output_type": "display_data"
    }
   ],
   "source": [
    "# Fit a linear regr'n of price_twd_msq vs. house_age_years, no intercept\n",
    "mdl_price_vs_age <- lm(price_twd_msq ~ house_age_years + 0 , data = taiwan_real_estate)\n",
    "\n",
    "# See the result\n",
    "mdl_price_vs_age"
   ]
  },
  {
   "cell_type": "code",
   "execution_count": 7,
   "metadata": {},
   "outputs": [
    {
     "data": {
      "text/plain": [
       "\n",
       "Call:\n",
       "lm(formula = price_twd_msq ~ n_convenience + house_age_years + \n",
       "    0, data = taiwan_real_estate)\n",
       "\n",
       "Coefficients:\n",
       "          n_convenience   house_age_years0 to 15  house_age_years15 to 30  \n",
       "                 0.7915                   9.4133                   7.0852  \n",
       "house_age_years30 to 45  \n",
       "                 7.5110  \n"
      ]
     },
     "metadata": {},
     "output_type": "display_data"
    }
   ],
   "source": [
    "# Fit a linear regr'n of price_twd_msq vs. n_convenience \n",
    "# plus house_age_years, no intercept\n",
    "mdl_price_vs_both <- lm(price_twd_msq ~ n_convenience + house_age_years + 0 , data = taiwan_real_estate)\n",
    "\n",
    "# See the result\n",
    "mdl_price_vs_both"
   ]
  },
  {
   "cell_type": "markdown",
   "metadata": {},
   "source": [
    "### Visualizing each explanatory variable\n",
    "Being able to see the predictions made by a model makes it easier to understand. In the case where there is only one explanatory variable, ggplot lets you do this without any manual calculation or messing about.\n",
    "\n",
    "To visualize the relationship between a numeric explanatory variable and the numeric response, you can draw a scatter plot with a linear trend line.\n",
    "\n",
    "To visualize the relationship between a categorical explanatory variable and the numeric response, you can draw a box plot."
   ]
  },
  {
   "cell_type": "code",
   "execution_count": 9,
   "metadata": {},
   "outputs": [
    {
     "name": "stderr",
     "output_type": "stream",
     "text": [
      "`geom_smooth()` using formula 'y ~ x'\n"
     ]
    },
    {
     "data": {
      "image/png": "[encoded data removed]",
      "text/plain": [
       "plot without title"
      ]
     },
     "metadata": {},
     "output_type": "display_data"
    }
   ],
   "source": [
    "# Using taiwan_real_estate, plot price_twd_msq vs. n_convenience\n",
    "ggplot(taiwan_real_estate, aes(x = n_convenience, y = price_twd_msq )) +\n",
    "  # Add a point layer\n",
    "  geom_point() +\n",
    "  # Add a smooth trend line using linear regr'n, no ribbon\n",
    "  geom_smooth(method = \"lm\", se = FALSE)"
   ]
  },
  {
   "cell_type": "code",
   "execution_count": 10,
   "metadata": {},
   "outputs": [
    {
     "data": {
      "image/png": "[encoded data removed]",
      "text/plain": [
       "plot without title"
      ]
     },
     "metadata": {},
     "output_type": "display_data"
    }
   ],
   "source": [
    "# Using taiwan_real_estate, plot price_twd_msq vs. house_age_years\n",
    "ggplot(taiwan_real_estate, aes(x = house_age_years, y = price_twd_msq )) +\n",
    "  # Add a box-plot layer\n",
    "  geom_boxplot()"
   ]
  },
  {
   "cell_type": "markdown",
   "metadata": {},
   "source": [
    "### Visualizing parallel slopes\n",
    "The two plots in the previous exercise gave very different predictions: one gave a predicted response that increased linearly with a numeric variable; the other gave a fixed response for each category. The only sensible way to reconcile these two conflicting predictions is to incorporate both explanatory variables in the model at once.\n",
    "\n",
    "When it comes to a linear regression model with a numeric and a categorical explanatory variable, ggplot2 doesn't have an easy, \"out of the box\" way to show the predictions. Fortunately, the moderndive package includes an extra geom, geom_parallel_slopes() to make it simple."
   ]
  },
  {
   "cell_type": "code",
   "execution_count": 13,
   "metadata": {},
   "outputs": [
    {
     "name": "stderr",
     "output_type": "stream",
     "text": [
      "also installing the dependencies 'snakecase', 'operator.tools', 'janitor', 'formula.tools', 'infer'\n",
      "\n"
     ]
    },
    {
     "name": "stdout",
     "output_type": "stream",
     "text": [
      "package 'snakecase' successfully unpacked and MD5 sums checked\n",
      "package 'operator.tools' successfully unpacked and MD5 sums checked\n",
      "package 'janitor' successfully unpacked and MD5 sums checked\n",
      "package 'formula.tools' successfully unpacked and MD5 sums checked\n",
      "package 'infer' successfully unpacked and MD5 sums checked\n",
      "package 'moderndive' successfully unpacked and MD5 sums checked\n",
      "\n",
      "The downloaded binary packages are in\n",
      "\tC:\\Users\\Migue\\AppData\\Local\\Temp\\Rtmp0qaMEH\\downloaded_packages\n"
     ]
    },
    {
     "name": "stderr",
     "output_type": "stream",
     "text": [
      "Warning message:\n",
      "\"package 'moderndive' was built under R version 3.6.3\"Warning message:\n",
      "\"`geom_parallel_slopes()` doesn't need a `method` argument (\"lm\" is used).\""
     ]
    },
    {
     "data": {
      "image/png": "[encoded data removed]",
      "text/plain": [
       "plot without title"
      ]
     },
     "metadata": {},
     "output_type": "display_data"
    }
   ],
   "source": [
    "install.packages(\"moderndive\")\n",
    "library(moderndive)\n",
    "\n",
    "# Using taiwan_real_estate, plot price_twd_msq vs. n_convenience\n",
    "# colored by house_age_years\n",
    "ggplot(taiwan_real_estate, aes(x = n_convenience, y = price_twd_msq, color = house_age_years)) +\n",
    "  # Add a point layer\n",
    "  geom_point() +\n",
    "  # Add parallel slopes, no ribbon\n",
    "  geom_parallel_slopes(method = \"lm\", se = FALSE)"
   ]
  },
  {
   "cell_type": "markdown",
   "metadata": {},
   "source": [
    "### Predicting with a parallel slopes model\n",
    "While ggplot can automatically show you model predictions, in order to get those values to program with, you'll need to do the calculations yourself.\n",
    "\n",
    "Just as with the case of a single explanatory variable, the workflow has two steps: create a data frame of explanatory variables, then add a column of predictions. To make sure you've got the right answer, you can add your predictions to the ggplot with the geom_parallel_slopes() lines."
   ]
  },
  {
   "cell_type": "code",
   "execution_count": 14,
   "metadata": {},
   "outputs": [
    {
     "data": {
      "text/html": [
       "<table>\n",
       "<thead><tr><th scope=col>n_convenience</th><th scope=col>house_age_years</th></tr></thead>\n",
       "<tbody>\n",
       "\t<tr><td> 0      </td><td>30 to 45</td></tr>\n",
       "\t<tr><td> 1      </td><td>30 to 45</td></tr>\n",
       "\t<tr><td> 2      </td><td>30 to 45</td></tr>\n",
       "\t<tr><td> 3      </td><td>30 to 45</td></tr>\n",
       "\t<tr><td> 4      </td><td>30 to 45</td></tr>\n",
       "\t<tr><td> 5      </td><td>30 to 45</td></tr>\n",
       "\t<tr><td> 6      </td><td>30 to 45</td></tr>\n",
       "\t<tr><td> 7      </td><td>30 to 45</td></tr>\n",
       "\t<tr><td> 8      </td><td>30 to 45</td></tr>\n",
       "\t<tr><td> 9      </td><td>30 to 45</td></tr>\n",
       "\t<tr><td>10      </td><td>30 to 45</td></tr>\n",
       "\t<tr><td> 0      </td><td>15 to 30</td></tr>\n",
       "\t<tr><td> 1      </td><td>15 to 30</td></tr>\n",
       "\t<tr><td> 2      </td><td>15 to 30</td></tr>\n",
       "\t<tr><td> 3      </td><td>15 to 30</td></tr>\n",
       "\t<tr><td> 4      </td><td>15 to 30</td></tr>\n",
       "\t<tr><td> 5      </td><td>15 to 30</td></tr>\n",
       "\t<tr><td> 6      </td><td>15 to 30</td></tr>\n",
       "\t<tr><td> 7      </td><td>15 to 30</td></tr>\n",
       "\t<tr><td> 8      </td><td>15 to 30</td></tr>\n",
       "\t<tr><td> 9      </td><td>15 to 30</td></tr>\n",
       "\t<tr><td>10      </td><td>15 to 30</td></tr>\n",
       "\t<tr><td> 0      </td><td>0 to 15 </td></tr>\n",
       "\t<tr><td> 1      </td><td>0 to 15 </td></tr>\n",
       "\t<tr><td> 2      </td><td>0 to 15 </td></tr>\n",
       "\t<tr><td> 3      </td><td>0 to 15 </td></tr>\n",
       "\t<tr><td> 4      </td><td>0 to 15 </td></tr>\n",
       "\t<tr><td> 5      </td><td>0 to 15 </td></tr>\n",
       "\t<tr><td> 6      </td><td>0 to 15 </td></tr>\n",
       "\t<tr><td> 7      </td><td>0 to 15 </td></tr>\n",
       "\t<tr><td> 8      </td><td>0 to 15 </td></tr>\n",
       "\t<tr><td> 9      </td><td>0 to 15 </td></tr>\n",
       "\t<tr><td>10      </td><td>0 to 15 </td></tr>\n",
       "</tbody>\n",
       "</table>\n"
      ],
      "text/latex": [
       "\\begin{tabular}{r|ll}\n",
       " n\\_convenience & house\\_age\\_years\\\\\n",
       "\\hline\n",
       "\t  0       & 30 to 45\\\\\n",
       "\t  1       & 30 to 45\\\\\n",
       "\t  2       & 30 to 45\\\\\n",
       "\t  3       & 30 to 45\\\\\n",
       "\t  4       & 30 to 45\\\\\n",
       "\t  5       & 30 to 45\\\\\n",
       "\t  6       & 30 to 45\\\\\n",
       "\t  7       & 30 to 45\\\\\n",
       "\t  8       & 30 to 45\\\\\n",
       "\t  9       & 30 to 45\\\\\n",
       "\t 10       & 30 to 45\\\\\n",
       "\t  0       & 15 to 30\\\\\n",
       "\t  1       & 15 to 30\\\\\n",
       "\t  2       & 15 to 30\\\\\n",
       "\t  3       & 15 to 30\\\\\n",
       "\t  4       & 15 to 30\\\\\n",
       "\t  5       & 15 to 30\\\\\n",
       "\t  6       & 15 to 30\\\\\n",
       "\t  7       & 15 to 30\\\\\n",
       "\t  8       & 15 to 30\\\\\n",
       "\t  9       & 15 to 30\\\\\n",
       "\t 10       & 15 to 30\\\\\n",
       "\t  0       & 0 to 15 \\\\\n",
       "\t  1       & 0 to 15 \\\\\n",
       "\t  2       & 0 to 15 \\\\\n",
       "\t  3       & 0 to 15 \\\\\n",
       "\t  4       & 0 to 15 \\\\\n",
       "\t  5       & 0 to 15 \\\\\n",
       "\t  6       & 0 to 15 \\\\\n",
       "\t  7       & 0 to 15 \\\\\n",
       "\t  8       & 0 to 15 \\\\\n",
       "\t  9       & 0 to 15 \\\\\n",
       "\t 10       & 0 to 15 \\\\\n",
       "\\end{tabular}\n"
      ],
      "text/markdown": [
       "\n",
       "| n_convenience | house_age_years |\n",
       "|---|---|\n",
       "|  0       | 30 to 45 |\n",
       "|  1       | 30 to 45 |\n",
       "|  2       | 30 to 45 |\n",
       "|  3       | 30 to 45 |\n",
       "|  4       | 30 to 45 |\n",
       "|  5       | 30 to 45 |\n",
       "|  6       | 30 to 45 |\n",
       "|  7       | 30 to 45 |\n",
       "|  8       | 30 to 45 |\n",
       "|  9       | 30 to 45 |\n",
       "| 10       | 30 to 45 |\n",
       "|  0       | 15 to 30 |\n",
       "|  1       | 15 to 30 |\n",
       "|  2       | 15 to 30 |\n",
       "|  3       | 15 to 30 |\n",
       "|  4       | 15 to 30 |\n",
       "|  5       | 15 to 30 |\n",
       "|  6       | 15 to 30 |\n",
       "|  7       | 15 to 30 |\n",
       "|  8       | 15 to 30 |\n",
       "|  9       | 15 to 30 |\n",
       "| 10       | 15 to 30 |\n",
       "|  0       | 0 to 15  |\n",
       "|  1       | 0 to 15  |\n",
       "|  2       | 0 to 15  |\n",
       "|  3       | 0 to 15  |\n",
       "|  4       | 0 to 15  |\n",
       "|  5       | 0 to 15  |\n",
       "|  6       | 0 to 15  |\n",
       "|  7       | 0 to 15  |\n",
       "|  8       | 0 to 15  |\n",
       "|  9       | 0 to 15  |\n",
       "| 10       | 0 to 15  |\n",
       "\n"
      ],
      "text/plain": [
       "   n_convenience house_age_years\n",
       "1   0            30 to 45       \n",
       "2   1            30 to 45       \n",
       "3   2            30 to 45       \n",
       "4   3            30 to 45       \n",
       "5   4            30 to 45       \n",
       "6   5            30 to 45       \n",
       "7   6            30 to 45       \n",
       "8   7            30 to 45       \n",
       "9   8            30 to 45       \n",
       "10  9            30 to 45       \n",
       "11 10            30 to 45       \n",
       "12  0            15 to 30       \n",
       "13  1            15 to 30       \n",
       "14  2            15 to 30       \n",
       "15  3            15 to 30       \n",
       "16  4            15 to 30       \n",
       "17  5            15 to 30       \n",
       "18  6            15 to 30       \n",
       "19  7            15 to 30       \n",
       "20  8            15 to 30       \n",
       "21  9            15 to 30       \n",
       "22 10            15 to 30       \n",
       "23  0            0 to 15        \n",
       "24  1            0 to 15        \n",
       "25  2            0 to 15        \n",
       "26  3            0 to 15        \n",
       "27  4            0 to 15        \n",
       "28  5            0 to 15        \n",
       "29  6            0 to 15        \n",
       "30  7            0 to 15        \n",
       "31  8            0 to 15        \n",
       "32  9            0 to 15        \n",
       "33 10            0 to 15        "
      ]
     },
     "metadata": {},
     "output_type": "display_data"
    },
    {
     "data": {
      "text/html": [
       "<table>\n",
       "<thead><tr><th scope=col>n_convenience</th><th scope=col>house_age_years</th><th scope=col>price_twd_msq</th></tr></thead>\n",
       "<tbody>\n",
       "\t<tr><td> 0       </td><td>30 to 45 </td><td> 7.510958</td></tr>\n",
       "\t<tr><td> 1       </td><td>30 to 45 </td><td> 8.302415</td></tr>\n",
       "\t<tr><td> 2       </td><td>30 to 45 </td><td> 9.093873</td></tr>\n",
       "\t<tr><td> 3       </td><td>30 to 45 </td><td> 9.885330</td></tr>\n",
       "\t<tr><td> 4       </td><td>30 to 45 </td><td>10.676787</td></tr>\n",
       "\t<tr><td> 5       </td><td>30 to 45 </td><td>11.468244</td></tr>\n",
       "\t<tr><td> 6       </td><td>30 to 45 </td><td>12.259701</td></tr>\n",
       "\t<tr><td> 7       </td><td>30 to 45 </td><td>13.051158</td></tr>\n",
       "\t<tr><td> 8       </td><td>30 to 45 </td><td>13.842615</td></tr>\n",
       "\t<tr><td> 9       </td><td>30 to 45 </td><td>14.634072</td></tr>\n",
       "\t<tr><td>10       </td><td>30 to 45 </td><td>15.425530</td></tr>\n",
       "\t<tr><td> 0       </td><td>15 to 30 </td><td> 7.085169</td></tr>\n",
       "\t<tr><td> 1       </td><td>15 to 30 </td><td> 7.876627</td></tr>\n",
       "\t<tr><td> 2       </td><td>15 to 30 </td><td> 8.668084</td></tr>\n",
       "\t<tr><td> 3       </td><td>15 to 30 </td><td> 9.459541</td></tr>\n",
       "\t<tr><td> 4       </td><td>15 to 30 </td><td>10.250998</td></tr>\n",
       "\t<tr><td> 5       </td><td>15 to 30 </td><td>11.042455</td></tr>\n",
       "\t<tr><td> 6       </td><td>15 to 30 </td><td>11.833912</td></tr>\n",
       "\t<tr><td> 7       </td><td>15 to 30 </td><td>12.625369</td></tr>\n",
       "\t<tr><td> 8       </td><td>15 to 30 </td><td>13.416826</td></tr>\n",
       "\t<tr><td> 9       </td><td>15 to 30 </td><td>14.208284</td></tr>\n",
       "\t<tr><td>10       </td><td>15 to 30 </td><td>14.999741</td></tr>\n",
       "\t<tr><td> 0       </td><td>0 to 15  </td><td> 9.413325</td></tr>\n",
       "\t<tr><td> 1       </td><td>0 to 15  </td><td>10.204782</td></tr>\n",
       "\t<tr><td> 2       </td><td>0 to 15  </td><td>10.996239</td></tr>\n",
       "\t<tr><td> 3       </td><td>0 to 15  </td><td>11.787696</td></tr>\n",
       "\t<tr><td> 4       </td><td>0 to 15  </td><td>12.579153</td></tr>\n",
       "\t<tr><td> 5       </td><td>0 to 15  </td><td>13.370610</td></tr>\n",
       "\t<tr><td> 6       </td><td>0 to 15  </td><td>14.162067</td></tr>\n",
       "\t<tr><td> 7       </td><td>0 to 15  </td><td>14.953525</td></tr>\n",
       "\t<tr><td> 8       </td><td>0 to 15  </td><td>15.744982</td></tr>\n",
       "\t<tr><td> 9       </td><td>0 to 15  </td><td>16.536439</td></tr>\n",
       "\t<tr><td>10       </td><td>0 to 15  </td><td>17.327896</td></tr>\n",
       "</tbody>\n",
       "</table>\n"
      ],
      "text/latex": [
       "\\begin{tabular}{r|lll}\n",
       " n\\_convenience & house\\_age\\_years & price\\_twd\\_msq\\\\\n",
       "\\hline\n",
       "\t  0        & 30 to 45  &  7.510958\\\\\n",
       "\t  1        & 30 to 45  &  8.302415\\\\\n",
       "\t  2        & 30 to 45  &  9.093873\\\\\n",
       "\t  3        & 30 to 45  &  9.885330\\\\\n",
       "\t  4        & 30 to 45  & 10.676787\\\\\n",
       "\t  5        & 30 to 45  & 11.468244\\\\\n",
       "\t  6        & 30 to 45  & 12.259701\\\\\n",
       "\t  7        & 30 to 45  & 13.051158\\\\\n",
       "\t  8        & 30 to 45  & 13.842615\\\\\n",
       "\t  9        & 30 to 45  & 14.634072\\\\\n",
       "\t 10        & 30 to 45  & 15.425530\\\\\n",
       "\t  0        & 15 to 30  &  7.085169\\\\\n",
       "\t  1        & 15 to 30  &  7.876627\\\\\n",
       "\t  2        & 15 to 30  &  8.668084\\\\\n",
       "\t  3        & 15 to 30  &  9.459541\\\\\n",
       "\t  4        & 15 to 30  & 10.250998\\\\\n",
       "\t  5        & 15 to 30  & 11.042455\\\\\n",
       "\t  6        & 15 to 30  & 11.833912\\\\\n",
       "\t  7        & 15 to 30  & 12.625369\\\\\n",
       "\t  8        & 15 to 30  & 13.416826\\\\\n",
       "\t  9        & 15 to 30  & 14.208284\\\\\n",
       "\t 10        & 15 to 30  & 14.999741\\\\\n",
       "\t  0        & 0 to 15   &  9.413325\\\\\n",
       "\t  1        & 0 to 15   & 10.204782\\\\\n",
       "\t  2        & 0 to 15   & 10.996239\\\\\n",
       "\t  3        & 0 to 15   & 11.787696\\\\\n",
       "\t  4        & 0 to 15   & 12.579153\\\\\n",
       "\t  5        & 0 to 15   & 13.370610\\\\\n",
       "\t  6        & 0 to 15   & 14.162067\\\\\n",
       "\t  7        & 0 to 15   & 14.953525\\\\\n",
       "\t  8        & 0 to 15   & 15.744982\\\\\n",
       "\t  9        & 0 to 15   & 16.536439\\\\\n",
       "\t 10        & 0 to 15   & 17.327896\\\\\n",
       "\\end{tabular}\n"
      ],
      "text/markdown": [
       "\n",
       "| n_convenience | house_age_years | price_twd_msq |\n",
       "|---|---|---|\n",
       "|  0        | 30 to 45  |  7.510958 |\n",
       "|  1        | 30 to 45  |  8.302415 |\n",
       "|  2        | 30 to 45  |  9.093873 |\n",
       "|  3        | 30 to 45  |  9.885330 |\n",
       "|  4        | 30 to 45  | 10.676787 |\n",
       "|  5        | 30 to 45  | 11.468244 |\n",
       "|  6        | 30 to 45  | 12.259701 |\n",
       "|  7        | 30 to 45  | 13.051158 |\n",
       "|  8        | 30 to 45  | 13.842615 |\n",
       "|  9        | 30 to 45  | 14.634072 |\n",
       "| 10        | 30 to 45  | 15.425530 |\n",
       "|  0        | 15 to 30  |  7.085169 |\n",
       "|  1        | 15 to 30  |  7.876627 |\n",
       "|  2        | 15 to 30  |  8.668084 |\n",
       "|  3        | 15 to 30  |  9.459541 |\n",
       "|  4        | 15 to 30  | 10.250998 |\n",
       "|  5        | 15 to 30  | 11.042455 |\n",
       "|  6        | 15 to 30  | 11.833912 |\n",
       "|  7        | 15 to 30  | 12.625369 |\n",
       "|  8        | 15 to 30  | 13.416826 |\n",
       "|  9        | 15 to 30  | 14.208284 |\n",
       "| 10        | 15 to 30  | 14.999741 |\n",
       "|  0        | 0 to 15   |  9.413325 |\n",
       "|  1        | 0 to 15   | 10.204782 |\n",
       "|  2        | 0 to 15   | 10.996239 |\n",
       "|  3        | 0 to 15   | 11.787696 |\n",
       "|  4        | 0 to 15   | 12.579153 |\n",
       "|  5        | 0 to 15   | 13.370610 |\n",
       "|  6        | 0 to 15   | 14.162067 |\n",
       "|  7        | 0 to 15   | 14.953525 |\n",
       "|  8        | 0 to 15   | 15.744982 |\n",
       "|  9        | 0 to 15   | 16.536439 |\n",
       "| 10        | 0 to 15   | 17.327896 |\n",
       "\n"
      ],
      "text/plain": [
       "   n_convenience house_age_years price_twd_msq\n",
       "1   0            30 to 45         7.510958    \n",
       "2   1            30 to 45         8.302415    \n",
       "3   2            30 to 45         9.093873    \n",
       "4   3            30 to 45         9.885330    \n",
       "5   4            30 to 45        10.676787    \n",
       "6   5            30 to 45        11.468244    \n",
       "7   6            30 to 45        12.259701    \n",
       "8   7            30 to 45        13.051158    \n",
       "9   8            30 to 45        13.842615    \n",
       "10  9            30 to 45        14.634072    \n",
       "11 10            30 to 45        15.425530    \n",
       "12  0            15 to 30         7.085169    \n",
       "13  1            15 to 30         7.876627    \n",
       "14  2            15 to 30         8.668084    \n",
       "15  3            15 to 30         9.459541    \n",
       "16  4            15 to 30        10.250998    \n",
       "17  5            15 to 30        11.042455    \n",
       "18  6            15 to 30        11.833912    \n",
       "19  7            15 to 30        12.625369    \n",
       "20  8            15 to 30        13.416826    \n",
       "21  9            15 to 30        14.208284    \n",
       "22 10            15 to 30        14.999741    \n",
       "23  0            0 to 15          9.413325    \n",
       "24  1            0 to 15         10.204782    \n",
       "25  2            0 to 15         10.996239    \n",
       "26  3            0 to 15         11.787696    \n",
       "27  4            0 to 15         12.579153    \n",
       "28  5            0 to 15         13.370610    \n",
       "29  6            0 to 15         14.162067    \n",
       "30  7            0 to 15         14.953525    \n",
       "31  8            0 to 15         15.744982    \n",
       "32  9            0 to 15         16.536439    \n",
       "33 10            0 to 15         17.327896    "
      ]
     },
     "metadata": {},
     "output_type": "display_data"
    }
   ],
   "source": [
    "# Make a grid of explanatory data\n",
    "explanatory_data <- expand.grid(\n",
    "  # Set n_convenience to zero to ten\n",
    "  n_convenience = seq(0,10,1),\n",
    "  # Set house_age_years to the unique values of that variable\n",
    "  house_age_years = unique(taiwan_real_estate$house_age_years)\n",
    ")\n",
    "\n",
    "# See the result\n",
    "explanatory_data\n",
    "\n",
    "# Add predictions to the data frame\n",
    "prediction_data <- explanatory_data %>% \n",
    "  mutate(price_twd_msq = predict(mdl_price_vs_both, explanatory_data))\n",
    "\n",
    "# See the result\n",
    "prediction_data"
   ]
  },
  {
   "cell_type": "code",
   "execution_count": 15,
   "metadata": {},
   "outputs": [
    {
     "data": {
      "image/png": "[encoded data removed]",
      "text/plain": [
       "plot without title"
      ]
     },
     "metadata": {},
     "output_type": "display_data"
    }
   ],
   "source": [
    "# plot\n",
    "\n",
    "taiwan_real_estate %>% \n",
    "  ggplot(aes(n_convenience, price_twd_msq, color = house_age_years)) +\n",
    "  geom_point() +\n",
    "  geom_parallel_slopes(se = FALSE) +\n",
    "  # Add points using prediction_data, with size 5 and shape 15\n",
    "  geom_point(data = prediction_data, size = 5, shape = 15 )"
   ]
  },
  {
   "cell_type": "markdown",
   "metadata": {},
   "source": [
    "### Manually calculating predictions\n",
    "As with simple linear regression, you can manually calculate the predictions from the model coefficients. The only change for the parallel slopes case is that the intercept is different for each category of the categorical explanatory variable. That means you need to consider the case when each each category occurs separately."
   ]
  },
  {
   "cell_type": "code",
   "execution_count": 17,
   "metadata": {},
   "outputs": [
    {
     "data": {
      "text/html": [
       "<table>\n",
       "<thead><tr><th scope=col>n_convenience</th><th scope=col>house_age_years</th><th scope=col>intercept</th><th scope=col>price_twd_msq</th></tr></thead>\n",
       "<tbody>\n",
       "\t<tr><td> 0       </td><td>30 to 45 </td><td>7.510958 </td><td> 7.510958</td></tr>\n",
       "\t<tr><td> 1       </td><td>30 to 45 </td><td>7.510958 </td><td> 8.302415</td></tr>\n",
       "\t<tr><td> 2       </td><td>30 to 45 </td><td>7.510958 </td><td> 9.093873</td></tr>\n",
       "\t<tr><td> 3       </td><td>30 to 45 </td><td>7.510958 </td><td> 9.885330</td></tr>\n",
       "\t<tr><td> 4       </td><td>30 to 45 </td><td>7.510958 </td><td>10.676787</td></tr>\n",
       "\t<tr><td> 5       </td><td>30 to 45 </td><td>7.510958 </td><td>11.468244</td></tr>\n",
       "\t<tr><td> 6       </td><td>30 to 45 </td><td>7.510958 </td><td>12.259701</td></tr>\n",
       "\t<tr><td> 7       </td><td>30 to 45 </td><td>7.510958 </td><td>13.051158</td></tr>\n",
       "\t<tr><td> 8       </td><td>30 to 45 </td><td>7.510958 </td><td>13.842615</td></tr>\n",
       "\t<tr><td> 9       </td><td>30 to 45 </td><td>7.510958 </td><td>14.634072</td></tr>\n",
       "\t<tr><td>10       </td><td>30 to 45 </td><td>7.510958 </td><td>15.425530</td></tr>\n",
       "\t<tr><td> 0       </td><td>15 to 30 </td><td>7.085169 </td><td> 7.085169</td></tr>\n",
       "\t<tr><td> 1       </td><td>15 to 30 </td><td>7.085169 </td><td> 7.876627</td></tr>\n",
       "\t<tr><td> 2       </td><td>15 to 30 </td><td>7.085169 </td><td> 8.668084</td></tr>\n",
       "\t<tr><td> 3       </td><td>15 to 30 </td><td>7.085169 </td><td> 9.459541</td></tr>\n",
       "\t<tr><td> 4       </td><td>15 to 30 </td><td>7.085169 </td><td>10.250998</td></tr>\n",
       "\t<tr><td> 5       </td><td>15 to 30 </td><td>7.085169 </td><td>11.042455</td></tr>\n",
       "\t<tr><td> 6       </td><td>15 to 30 </td><td>7.085169 </td><td>11.833912</td></tr>\n",
       "\t<tr><td> 7       </td><td>15 to 30 </td><td>7.085169 </td><td>12.625369</td></tr>\n",
       "\t<tr><td> 8       </td><td>15 to 30 </td><td>7.085169 </td><td>13.416826</td></tr>\n",
       "\t<tr><td> 9       </td><td>15 to 30 </td><td>7.085169 </td><td>14.208284</td></tr>\n",
       "\t<tr><td>10       </td><td>15 to 30 </td><td>7.085169 </td><td>14.999741</td></tr>\n",
       "\t<tr><td> 0       </td><td>0 to 15  </td><td>9.413325 </td><td> 9.413325</td></tr>\n",
       "\t<tr><td> 1       </td><td>0 to 15  </td><td>9.413325 </td><td>10.204782</td></tr>\n",
       "\t<tr><td> 2       </td><td>0 to 15  </td><td>9.413325 </td><td>10.996239</td></tr>\n",
       "\t<tr><td> 3       </td><td>0 to 15  </td><td>9.413325 </td><td>11.787696</td></tr>\n",
       "\t<tr><td> 4       </td><td>0 to 15  </td><td>9.413325 </td><td>12.579153</td></tr>\n",
       "\t<tr><td> 5       </td><td>0 to 15  </td><td>9.413325 </td><td>13.370610</td></tr>\n",
       "\t<tr><td> 6       </td><td>0 to 15  </td><td>9.413325 </td><td>14.162067</td></tr>\n",
       "\t<tr><td> 7       </td><td>0 to 15  </td><td>9.413325 </td><td>14.953525</td></tr>\n",
       "\t<tr><td> 8       </td><td>0 to 15  </td><td>9.413325 </td><td>15.744982</td></tr>\n",
       "\t<tr><td> 9       </td><td>0 to 15  </td><td>9.413325 </td><td>16.536439</td></tr>\n",
       "\t<tr><td>10       </td><td>0 to 15  </td><td>9.413325 </td><td>17.327896</td></tr>\n",
       "</tbody>\n",
       "</table>\n"
      ],
      "text/latex": [
       "\\begin{tabular}{r|llll}\n",
       " n\\_convenience & house\\_age\\_years & intercept & price\\_twd\\_msq\\\\\n",
       "\\hline\n",
       "\t  0        & 30 to 45  & 7.510958  &  7.510958\\\\\n",
       "\t  1        & 30 to 45  & 7.510958  &  8.302415\\\\\n",
       "\t  2        & 30 to 45  & 7.510958  &  9.093873\\\\\n",
       "\t  3        & 30 to 45  & 7.510958  &  9.885330\\\\\n",
       "\t  4        & 30 to 45  & 7.510958  & 10.676787\\\\\n",
       "\t  5        & 30 to 45  & 7.510958  & 11.468244\\\\\n",
       "\t  6        & 30 to 45  & 7.510958  & 12.259701\\\\\n",
       "\t  7        & 30 to 45  & 7.510958  & 13.051158\\\\\n",
       "\t  8        & 30 to 45  & 7.510958  & 13.842615\\\\\n",
       "\t  9        & 30 to 45  & 7.510958  & 14.634072\\\\\n",
       "\t 10        & 30 to 45  & 7.510958  & 15.425530\\\\\n",
       "\t  0        & 15 to 30  & 7.085169  &  7.085169\\\\\n",
       "\t  1        & 15 to 30  & 7.085169  &  7.876627\\\\\n",
       "\t  2        & 15 to 30  & 7.085169  &  8.668084\\\\\n",
       "\t  3        & 15 to 30  & 7.085169  &  9.459541\\\\\n",
       "\t  4        & 15 to 30  & 7.085169  & 10.250998\\\\\n",
       "\t  5        & 15 to 30  & 7.085169  & 11.042455\\\\\n",
       "\t  6        & 15 to 30  & 7.085169  & 11.833912\\\\\n",
       "\t  7        & 15 to 30  & 7.085169  & 12.625369\\\\\n",
       "\t  8        & 15 to 30  & 7.085169  & 13.416826\\\\\n",
       "\t  9        & 15 to 30  & 7.085169  & 14.208284\\\\\n",
       "\t 10        & 15 to 30  & 7.085169  & 14.999741\\\\\n",
       "\t  0        & 0 to 15   & 9.413325  &  9.413325\\\\\n",
       "\t  1        & 0 to 15   & 9.413325  & 10.204782\\\\\n",
       "\t  2        & 0 to 15   & 9.413325  & 10.996239\\\\\n",
       "\t  3        & 0 to 15   & 9.413325  & 11.787696\\\\\n",
       "\t  4        & 0 to 15   & 9.413325  & 12.579153\\\\\n",
       "\t  5        & 0 to 15   & 9.413325  & 13.370610\\\\\n",
       "\t  6        & 0 to 15   & 9.413325  & 14.162067\\\\\n",
       "\t  7        & 0 to 15   & 9.413325  & 14.953525\\\\\n",
       "\t  8        & 0 to 15   & 9.413325  & 15.744982\\\\\n",
       "\t  9        & 0 to 15   & 9.413325  & 16.536439\\\\\n",
       "\t 10        & 0 to 15   & 9.413325  & 17.327896\\\\\n",
       "\\end{tabular}\n"
      ],
      "text/markdown": [
       "\n",
       "| n_convenience | house_age_years | intercept | price_twd_msq |\n",
       "|---|---|---|---|\n",
       "|  0        | 30 to 45  | 7.510958  |  7.510958 |\n",
       "|  1        | 30 to 45  | 7.510958  |  8.302415 |\n",
       "|  2        | 30 to 45  | 7.510958  |  9.093873 |\n",
       "|  3        | 30 to 45  | 7.510958  |  9.885330 |\n",
       "|  4        | 30 to 45  | 7.510958  | 10.676787 |\n",
       "|  5        | 30 to 45  | 7.510958  | 11.468244 |\n",
       "|  6        | 30 to 45  | 7.510958  | 12.259701 |\n",
       "|  7        | 30 to 45  | 7.510958  | 13.051158 |\n",
       "|  8        | 30 to 45  | 7.510958  | 13.842615 |\n",
       "|  9        | 30 to 45  | 7.510958  | 14.634072 |\n",
       "| 10        | 30 to 45  | 7.510958  | 15.425530 |\n",
       "|  0        | 15 to 30  | 7.085169  |  7.085169 |\n",
       "|  1        | 15 to 30  | 7.085169  |  7.876627 |\n",
       "|  2        | 15 to 30  | 7.085169  |  8.668084 |\n",
       "|  3        | 15 to 30  | 7.085169  |  9.459541 |\n",
       "|  4        | 15 to 30  | 7.085169  | 10.250998 |\n",
       "|  5        | 15 to 30  | 7.085169  | 11.042455 |\n",
       "|  6        | 15 to 30  | 7.085169  | 11.833912 |\n",
       "|  7        | 15 to 30  | 7.085169  | 12.625369 |\n",
       "|  8        | 15 to 30  | 7.085169  | 13.416826 |\n",
       "|  9        | 15 to 30  | 7.085169  | 14.208284 |\n",
       "| 10        | 15 to 30  | 7.085169  | 14.999741 |\n",
       "|  0        | 0 to 15   | 9.413325  |  9.413325 |\n",
       "|  1        | 0 to 15   | 9.413325  | 10.204782 |\n",
       "|  2        | 0 to 15   | 9.413325  | 10.996239 |\n",
       "|  3        | 0 to 15   | 9.413325  | 11.787696 |\n",
       "|  4        | 0 to 15   | 9.413325  | 12.579153 |\n",
       "|  5        | 0 to 15   | 9.413325  | 13.370610 |\n",
       "|  6        | 0 to 15   | 9.413325  | 14.162067 |\n",
       "|  7        | 0 to 15   | 9.413325  | 14.953525 |\n",
       "|  8        | 0 to 15   | 9.413325  | 15.744982 |\n",
       "|  9        | 0 to 15   | 9.413325  | 16.536439 |\n",
       "| 10        | 0 to 15   | 9.413325  | 17.327896 |\n",
       "\n"
      ],
      "text/plain": [
       "   n_convenience house_age_years intercept price_twd_msq\n",
       "1   0            30 to 45        7.510958   7.510958    \n",
       "2   1            30 to 45        7.510958   8.302415    \n",
       "3   2            30 to 45        7.510958   9.093873    \n",
       "4   3            30 to 45        7.510958   9.885330    \n",
       "5   4            30 to 45        7.510958  10.676787    \n",
       "6   5            30 to 45        7.510958  11.468244    \n",
       "7   6            30 to 45        7.510958  12.259701    \n",
       "8   7            30 to 45        7.510958  13.051158    \n",
       "9   8            30 to 45        7.510958  13.842615    \n",
       "10  9            30 to 45        7.510958  14.634072    \n",
       "11 10            30 to 45        7.510958  15.425530    \n",
       "12  0            15 to 30        7.085169   7.085169    \n",
       "13  1            15 to 30        7.085169   7.876627    \n",
       "14  2            15 to 30        7.085169   8.668084    \n",
       "15  3            15 to 30        7.085169   9.459541    \n",
       "16  4            15 to 30        7.085169  10.250998    \n",
       "17  5            15 to 30        7.085169  11.042455    \n",
       "18  6            15 to 30        7.085169  11.833912    \n",
       "19  7            15 to 30        7.085169  12.625369    \n",
       "20  8            15 to 30        7.085169  13.416826    \n",
       "21  9            15 to 30        7.085169  14.208284    \n",
       "22 10            15 to 30        7.085169  14.999741    \n",
       "23  0            0 to 15         9.413325   9.413325    \n",
       "24  1            0 to 15         9.413325  10.204782    \n",
       "25  2            0 to 15         9.413325  10.996239    \n",
       "26  3            0 to 15         9.413325  11.787696    \n",
       "27  4            0 to 15         9.413325  12.579153    \n",
       "28  5            0 to 15         9.413325  13.370610    \n",
       "29  6            0 to 15         9.413325  14.162067    \n",
       "30  7            0 to 15         9.413325  14.953525    \n",
       "31  8            0 to 15         9.413325  15.744982    \n",
       "32  9            0 to 15         9.413325  16.536439    \n",
       "33 10            0 to 15         9.413325  17.327896    "
      ]
     },
     "metadata": {},
     "output_type": "display_data"
    }
   ],
   "source": [
    "# Get the coefficients from mdl_price_vs_both\n",
    "coeffs <- coefficients(mdl_price_vs_both)\n",
    "\n",
    "# Extract the slope coefficient\n",
    "slope <- coeffs[1]\n",
    "\n",
    "# Extract the intercept coefficient for 0 to 15\n",
    "intercept_0_15 <- coeffs[2]\n",
    "\n",
    "# Extract the intercept coefficient for 15 to 30\n",
    "intercept_15_30 <- coeffs[3]\n",
    "\n",
    "# Extract the intercept coefficient for 30 to 45\n",
    "intercept_30_45 <- coeffs[4]\n",
    "\n",
    "prediction_data <- explanatory_data %>% \n",
    "  mutate(\n",
    "    # Consider the 3 cases to choose the intercept\n",
    "    intercept = case_when(house_age_years == \"0 to 15\" ~ intercept_0_15,\n",
    "     house_age_years == \"15 to 30\" ~ intercept_15_30, \n",
    "     house_age_years == \"30 to 45\" ~ intercept_30_45),\n",
    "    \n",
    "    # Manually calculate the predictions\n",
    "    price_twd_msq = slope* n_convenience + intercept\n",
    "  )\n",
    "\n",
    "# See the results\n",
    "prediction_data"
   ]
  },
  {
   "cell_type": "markdown",
   "metadata": {},
   "source": [
    "### Comparing coefficients of determination\n",
    "Recall that the coefficient of determination is a measure of how well the linear regression line fits the observed values. An important motivation for including several explanatory variables in a linear regression is that you can improve the fit compared to considering only a single explanatory variable.\n",
    "\n",
    "Here you'll compare the coefficient of determination for the three Taiwan house price models, to see which gives the best result."
   ]
  },
  {
   "cell_type": "code",
   "execution_count": 19,
   "metadata": {},
   "outputs": [
    {
     "data": {
      "text/html": [
       "<table>\n",
       "<thead><tr><th scope=col>r.squared</th><th scope=col>adj.r.squared</th></tr></thead>\n",
       "<tbody>\n",
       "\t<tr><td>0.3260466</td><td>0.3244108</td></tr>\n",
       "</tbody>\n",
       "</table>\n"
      ],
      "text/latex": [
       "\\begin{tabular}{r|ll}\n",
       " r.squared & adj.r.squared\\\\\n",
       "\\hline\n",
       "\t 0.3260466 & 0.3244108\\\\\n",
       "\\end{tabular}\n"
      ],
      "text/markdown": [
       "\n",
       "| r.squared | adj.r.squared |\n",
       "|---|---|\n",
       "| 0.3260466 | 0.3244108 |\n",
       "\n"
      ],
      "text/plain": [
       "  r.squared adj.r.squared\n",
       "1 0.3260466 0.3244108    "
      ]
     },
     "metadata": {},
     "output_type": "display_data"
    },
    {
     "data": {
      "text/html": [
       "<table>\n",
       "<thead><tr><th scope=col>r.squared</th><th scope=col>adj.r.squared</th></tr></thead>\n",
       "<tbody>\n",
       "\t<tr><td>0.8960122</td><td>0.8952532</td></tr>\n",
       "</tbody>\n",
       "</table>\n"
      ],
      "text/latex": [
       "\\begin{tabular}{r|ll}\n",
       " r.squared & adj.r.squared\\\\\n",
       "\\hline\n",
       "\t 0.8960122 & 0.8952532\\\\\n",
       "\\end{tabular}\n"
      ],
      "text/markdown": [
       "\n",
       "| r.squared | adj.r.squared |\n",
       "|---|---|\n",
       "| 0.8960122 | 0.8952532 |\n",
       "\n"
      ],
      "text/plain": [
       "  r.squared adj.r.squared\n",
       "1 0.8960122 0.8952532    "
      ]
     },
     "metadata": {},
     "output_type": "display_data"
    },
    {
     "data": {
      "text/html": [
       "<table>\n",
       "<thead><tr><th scope=col>r.squared</th><th scope=col>adj.r.squared</th></tr></thead>\n",
       "<tbody>\n",
       "\t<tr><td>0.9313508</td><td>0.930681 </td></tr>\n",
       "</tbody>\n",
       "</table>\n"
      ],
      "text/latex": [
       "\\begin{tabular}{r|ll}\n",
       " r.squared & adj.r.squared\\\\\n",
       "\\hline\n",
       "\t 0.9313508 & 0.930681 \\\\\n",
       "\\end{tabular}\n"
      ],
      "text/markdown": [
       "\n",
       "| r.squared | adj.r.squared |\n",
       "|---|---|\n",
       "| 0.9313508 | 0.930681  |\n",
       "\n"
      ],
      "text/plain": [
       "  r.squared adj.r.squared\n",
       "1 0.9313508 0.930681     "
      ]
     },
     "metadata": {},
     "output_type": "display_data"
    }
   ],
   "source": [
    "mdl_price_vs_conv %>% \n",
    "  # Get the model-level coefficients\n",
    "  glance() %>% \n",
    "  # Select the coeffs of determination\n",
    "  select(r.squared, adj.r.squared)\n",
    "\n",
    "# Get the coeffs of determination for mdl_price_vs_age\n",
    "mdl_price_vs_age %>% \n",
    " # Get the model-level coefficients\n",
    "  glance() %>% \n",
    "  # Select the coeffs of determination\n",
    "  select(r.squared, adj.r.squared)\n",
    "\n",
    "# Get the coeffs of determination for mdl_price_vs_both\n",
    "mdl_price_vs_both %>% \n",
    " # Get the model-level coefficients\n",
    "  glance() %>% \n",
    "  # Select the coeffs of determination\n",
    "  select(r.squared, adj.r.squared)"
   ]
  },
  {
   "cell_type": "markdown",
   "metadata": {},
   "source": [
    "### Comparing residual standard error\n",
    "The other common metric for assessing model fit is the residual standard error (RSE), which measures the typical size of the residuals.\n",
    "\n",
    "In the last exercise you saw how including both explanatory variables into the model increased the coefficient of determination. How do you think using both explanatory variables will change the RSE?"
   ]
  },
  {
   "cell_type": "code",
   "execution_count": 20,
   "metadata": {},
   "outputs": [
    {
     "data": {
      "text/html": [
       "3.38388752134305"
      ],
      "text/latex": [
       "3.38388752134305"
      ],
      "text/markdown": [
       "3.38388752134305"
      ],
      "text/plain": [
       "[1] 3.383888"
      ]
     },
     "metadata": {},
     "output_type": "display_data"
    },
    {
     "data": {
      "text/html": [
       "3.95018387563086"
      ],
      "text/latex": [
       "3.95018387563086"
      ],
      "text/markdown": [
       "3.95018387563086"
      ],
      "text/plain": [
       "[1] 3.950184"
      ]
     },
     "metadata": {},
     "output_type": "display_data"
    },
    {
     "data": {
      "text/html": [
       "3.21346028055232"
      ],
      "text/latex": [
       "3.21346028055232"
      ],
      "text/markdown": [
       "3.21346028055232"
      ],
      "text/plain": [
       "[1] 3.21346"
      ]
     },
     "metadata": {},
     "output_type": "display_data"
    }
   ],
   "source": [
    "mdl_price_vs_conv %>% \n",
    "  # Get the model-level coefficients\n",
    "glance() %>% \n",
    "  # Pull out the RSE\n",
    "  pull(sigma)\n",
    "\n",
    "# Get the RSE for mdl_price_vs_age\n",
    "mdl_price_vs_age %>% \n",
    "  # Get the model-level coefficients\n",
    "glance() %>% \n",
    "  # Pull out the RSE\n",
    "  pull(sigma)\n",
    "\n",
    "# Get the RSE for mdl_price_vs_both\n",
    "mdl_price_vs_both %>% \n",
    "# Get the model-level coefficients\n",
    "glance() %>% \n",
    "  # Pull out the RSE\n",
    "  pull(sigma)\n",
    "\n",
    "# By including both explanatory variables in the model, a lower RSE was achieved, indicating a smaller difference between \n",
    "# the predicted responses and the actual responses."
   ]
  },
  {
   "cell_type": "code",
   "execution_count": null,
   "metadata": {},
   "outputs": [],
   "source": []
  }
 ],
 "metadata": {
  "kernelspec": {
   "display_name": "R",
   "language": "R",
   "name": "ir"
  },
  "language_info": {
   "codemirror_mode": "r",
   "file_extension": ".r",
   "mimetype": "text/x-r-source",
   "name": "R",
   "pygments_lexer": "r",
   "version": "3.6.1"
  }
 },
 "nbformat": 4,
 "nbformat_minor": 4
}
