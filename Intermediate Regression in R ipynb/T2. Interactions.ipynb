{
 "cells": [
  {
   "cell_type": "markdown",
   "metadata": {},
   "source": [
    "## Interactions\n",
    "\n",
    "Explore the effect of interactions between explanatory variables. Considering interactions allows for more realistic models that can have better predictive power. You'll also deal with Simpson's Paradox: a non-intuitive result that arises when you have multiple explanatory variables."
   ]
  },
  {
   "cell_type": "markdown",
   "metadata": {},
   "source": [
    "### One model per category\n",
    "The model you ran on the whole dataset fits some parts of the data better than others. It's worth taking a look at what happens when you run a linear model on different parts of the dataset separately, to see if each model agrees or disagrees with the others"
   ]
  },
  {
   "cell_type": "code",
   "execution_count": 7,
   "metadata": {},
   "outputs": [
    {
     "data": {
      "text/plain": [
       "\n",
       "Call:\n",
       "lm(formula = price_twd_msq ~ n_convenience, data = taiwan_real_estate)\n",
       "\n",
       "Coefficients:\n",
       "  (Intercept)  n_convenience  \n",
       "       8.2242         0.7981  \n"
      ]
     },
     "metadata": {},
     "output_type": "display_data"
    },
    {
     "data": {
      "text/plain": [
       "\n",
       "Call:\n",
       "lm(formula = price_twd_msq ~ n_convenience, data = taiwan_0_to_15)\n",
       "\n",
       "Coefficients:\n",
       "  (Intercept)  n_convenience  \n",
       "       9.2417         0.8336  \n"
      ]
     },
     "metadata": {},
     "output_type": "display_data"
    },
    {
     "data": {
      "text/plain": [
       "\n",
       "Call:\n",
       "lm(formula = price_twd_msq ~ n_convenience, data = taiwan_15_to_30)\n",
       "\n",
       "Coefficients:\n",
       "  (Intercept)  n_convenience  \n",
       "       6.8719         0.8519  \n"
      ]
     },
     "metadata": {},
     "output_type": "display_data"
    },
    {
     "data": {
      "text/plain": [
       "\n",
       "Call:\n",
       "lm(formula = price_twd_msq ~ n_convenience, data = taiwan_30_to_45)\n",
       "\n",
       "Coefficients:\n",
       "  (Intercept)  n_convenience  \n",
       "       8.1131         0.6687  \n"
      ]
     },
     "metadata": {},
     "output_type": "display_data"
    }
   ],
   "source": [
    "# libraries\n",
    "library(fst)\n",
    "library(ggplot2)\n",
    "library(dplyr)\n",
    "library(broom)\n",
    "library(moderndive)\n",
    "# read and see data \n",
    "taiwan_real_estate = read_fst(\"taiwan_real_estate2.fst\")\n",
    "\n",
    "# # Filter for rows where house age is 0 to 15 years, 15-30 and 30-45 \n",
    "taiwan_0_to_15 <- taiwan_real_estate %>%\n",
    "  filter(house_age_years == \"0 to 15\")\n",
    "taiwan_15_to_30 <- taiwan_real_estate %>%\n",
    "  filter(house_age_years == \"15 to 30\")\n",
    "taiwan_30_to_45 <- taiwan_real_estate %>%\n",
    "  filter(house_age_years == \"30 to 45\")\n",
    "\n",
    "# Model price vs. no. convenience stores all ages\n",
    "mdl_all_ages <- lm(price_twd_msq ~ n_convenience, data = taiwan_real_estate)\n",
    "\n",
    "# Model price vs. no. convenience stores using 0 to 15 data\n",
    "mdl_0_to_15 <- lm(price_twd_msq ~ n_convenience, data = taiwan_0_to_15)\n",
    "\n",
    "# Model price vs. no. convenience stores using 15 to 30 data\n",
    "mdl_15_to_30 <- lm(price_twd_msq ~ n_convenience, data = taiwan_15_to_30)\n",
    "\n",
    "# Model price vs. no. convenience stores using 30 to 45 data\n",
    "mdl_30_to_45 <- lm(price_twd_msq ~ n_convenience, data = taiwan_30_to_45)\n",
    "\n",
    "# See the results\n",
    "mdl_all_ages\n",
    "mdl_0_to_15\n",
    "mdl_15_to_30\n",
    "mdl_30_to_45"
   ]
  },
  {
   "cell_type": "markdown",
   "metadata": {},
   "source": [
    " ### Predicting multiple models\n",
    "In order to see what each of the models for individual categories are doing, it's helpful to make predictions from them. The flow is exactly the same as the flow for making predictions on the whole model, though remember that you only have a single explanatory variable in these models (so expand_grid() isn't needed.)"
   ]
  },
  {
   "cell_type": "code",
   "execution_count": 2,
   "metadata": {},
   "outputs": [],
   "source": [
    "# Create a tibble of explanatory data, setting\n",
    "# no. of conv stores to 0 to 10\n",
    "explanatory_data <- tibble(n_convenience = seq(0,10,1))\n",
    "\n",
    "# Add column of predictions using \"0 to 15\" model and explanatory data \n",
    "prediction_data_0_to_15 <- explanatory_data %>% \n",
    "  mutate(price_twd_msq = predict(mdl_0_to_15, explanatory_data))\n",
    "\n",
    "# Same again, with \"15 to 30\"\n",
    "prediction_data_15_to_30 <- explanatory_data %>% \n",
    "  mutate(price_twd_msq = predict(mdl_15_to_30, explanatory_data))\n",
    "\n",
    "\n",
    "# Same again, with \"30 to 45\"\n",
    "prediction_data_30_to_45 <- explanatory_data %>% \n",
    "  mutate(price_twd_msq = predict(mdl_30_to_45, explanatory_data))\n"
   ]
  },
  {
   "cell_type": "markdown",
   "metadata": {},
   "source": [
    "### Visualizing multiple models\n",
    "In the last two exercises, you ran models for each category of house ages separately, then calculated predictions for each model. Now it's time to visualize those predictions to see how they compare.\n",
    "\n",
    "When you use geom_smooth() in a ggplot with an aesthetic that splits the dataset into groups and draws a line for each group (like the color aesthetic), you get multiple trend lines. This is the same as running a model on each group separately, so we get a chance to test our predictions against ggplot's."
   ]
  },
  {
   "cell_type": "code",
   "execution_count": 5,
   "metadata": {},
   "outputs": [
    {
     "name": "stderr",
     "output_type": "stream",
     "text": [
      "`geom_smooth()` using formula 'y ~ x'\n"
     ]
    },
    {
     "data": {
      "image/png": "[encoded data removed]",
      "text/plain": [
       "plot without title"
      ]
     },
     "metadata": {},
     "output_type": "display_data"
    }
   ],
   "source": [
    "# Using taiwan_real_estate, plot price vs. no. of conv. stores\n",
    "# colored by house age\n",
    "taiwan_real_estate %>% \n",
    "  ggplot(aes(n_convenience, price_twd_msq, color = house_age_years)) +\n",
    "  # Make it a scatter plot\n",
    "  geom_point() +\n",
    "  # Add smooth linear regression trend lines, no ribbon\n",
    "  geom_smooth(method = \"lm\", se = FALSE) +\n",
    "  # Add points using prediction_data_0_to_15, colored red, size 3, shape 15\n",
    "    geom_point(data = prediction_data_0_to_15, color = \"red\", size = 3, shape = 15 ) +\n",
    "  # Add points using prediction_data_15_to_30, colored green, size 3, shape 15\n",
    "  geom_point(data = prediction_data_15_to_30, color = \"green\", size = 3, shape = 15 ) +\n",
    "  # Add points using prediction_data_30_to_45, colored blue, size 3, shape 15\n",
    "  geom_point(data = prediction_data_30_to_45, color = \"blue\", size = 3, shape = 15 )"
   ]
  },
  {
   "cell_type": "markdown",
   "metadata": {},
   "source": [
    "### Assessing model performance\n",
    "To test which approach is best – the whole dataset model or the models for each house age category – you need to calculate some metrics. Here's, you'll compare the coefficient of determination and the residual standard error for each model."
   ]
  },
  {
   "cell_type": "code",
   "execution_count": 8,
   "metadata": {},
   "outputs": [
    {
     "data": {
      "text/html": [
       "0.32604660851305"
      ],
      "text/latex": [
       "0.32604660851305"
      ],
      "text/markdown": [
       "0.32604660851305"
      ],
      "text/plain": [
       "[1] 0.3260466"
      ]
     },
     "metadata": {},
     "output_type": "display_data"
    },
    {
     "data": {
      "text/html": [
       "0.312053633943518"
      ],
      "text/latex": [
       "0.312053633943518"
      ],
      "text/markdown": [
       "0.312053633943518"
      ],
      "text/plain": [
       "[1] 0.3120536"
      ]
     },
     "metadata": {},
     "output_type": "display_data"
    },
    {
     "data": {
      "text/html": [
       "0.442460486968243"
      ],
      "text/latex": [
       "0.442460486968243"
      ],
      "text/markdown": [
       "0.442460486968243"
      ],
      "text/plain": [
       "[1] 0.4424605"
      ]
     },
     "metadata": {},
     "output_type": "display_data"
    },
    {
     "data": {
      "text/html": [
       "0.312571333438728"
      ],
      "text/latex": [
       "0.312571333438728"
      ],
      "text/markdown": [
       "0.312571333438728"
      ],
      "text/plain": [
       "[1] 0.3125713"
      ]
     },
     "metadata": {},
     "output_type": "display_data"
    }
   ],
   "source": [
    "# Get the coeff. of determination for mdl_all_ages\n",
    "mdl_all_ages %>%\n",
    "glance() %>%\n",
    "pull(r.squared)\n",
    "\n",
    "\n",
    "# Get the coeff. of determination for mdl_0_to_15\n",
    "mdl_0_to_15 %>%\n",
    "glance() %>%\n",
    "pull(r.squared)\n",
    "\n",
    "\n",
    "\n",
    "# Get the coeff. of determination for mdl_15_to_30\n",
    "mdl_15_to_30 %>%\n",
    "glance()%>%\n",
    "pull(r.squared)\n",
    "\n",
    "\n",
    "\n",
    "# Get the coeff. of determination for mdl_30_to_45\n",
    "mdl_30_to_45 %>%\n",
    "glance() %>%\n",
    "pull(r.squared)"
   ]
  },
  {
   "cell_type": "code",
   "execution_count": 9,
   "metadata": {},
   "outputs": [
    {
     "data": {
      "text/html": [
       "3.38388752134305"
      ],
      "text/latex": [
       "3.38388752134305"
      ],
      "text/markdown": [
       "3.38388752134305"
      ],
      "text/plain": [
       "[1] 3.383888"
      ]
     },
     "metadata": {},
     "output_type": "display_data"
    },
    {
     "data": {
      "text/html": [
       "3.56412699363197"
      ],
      "text/latex": [
       "3.56412699363197"
      ],
      "text/markdown": [
       "3.56412699363197"
      ],
      "text/plain": [
       "[1] 3.564127"
      ]
     },
     "metadata": {},
     "output_type": "display_data"
    },
    {
     "data": {
      "text/html": [
       "2.58527287090734"
      ],
      "text/latex": [
       "2.58527287090734"
      ],
      "text/markdown": [
       "2.58527287090734"
      ],
      "text/plain": [
       "[1] 2.585273"
      ]
     },
     "metadata": {},
     "output_type": "display_data"
    },
    {
     "data": {
      "text/html": [
       "3.23903747943498"
      ],
      "text/latex": [
       "3.23903747943498"
      ],
      "text/markdown": [
       "3.23903747943498"
      ],
      "text/plain": [
       "[1] 3.239037"
      ]
     },
     "metadata": {},
     "output_type": "display_data"
    }
   ],
   "source": [
    "# Get the RSE for mdl_all\n",
    "mdl_all_ages %>%\n",
    "glance() %>%\n",
    "pull(sigma)\n",
    "\n",
    "# Get the RSE for mdl_0_to_15\n",
    "mdl_0_to_15 %>%\n",
    "glance() %>%\n",
    "pull(sigma)\n",
    "\n",
    "# Get the RSE for mdl_15_to_30\n",
    "mdl_15_to_30 %>%\n",
    "glance() %>%\n",
    "pull(sigma)\n",
    "\n",
    "# Get the RSE for mdl_30_to_45\n",
    "mdl_30_to_45 %>%\n",
    "glance() %>%\n",
    "pull(sigma)\n"
   ]
  },
  {
   "cell_type": "markdown",
   "metadata": {},
   "source": [
    "### Specifying an interaction\n",
    "So far you used a single parallel slopes model, which gave an OK fit for the whole dataset, then three separate models for each house age category, which gave a better fit for each individual category, but was clunky because you had three separate models to work with and explain. Ideally, you'd have a single model that had all the predictive power of the individual models.\n",
    "\n",
    "Defining this single model is achieved through adding interactions between explanatory variables. R's formula syntax is flexible, and gives you a couple of options, depending on whether you prefer concise code that is quick to type and to read, or explicit code that describes what you are doing in detail."
   ]
  },
  {
   "cell_type": "code",
   "execution_count": 10,
   "metadata": {},
   "outputs": [
    {
     "data": {
      "text/plain": [
       "\n",
       "Call:\n",
       "lm(formula = price_twd_msq ~ n_convenience * house_age_years, \n",
       "    data = taiwan_real_estate)\n",
       "\n",
       "Coefficients:\n",
       "                          (Intercept)                          n_convenience  \n",
       "                              9.24170                                0.83359  \n",
       "              house_age_years15 to 30                house_age_years30 to 45  \n",
       "                             -2.36978                               -1.12858  \n",
       "n_convenience:house_age_years15 to 30  n_convenience:house_age_years30 to 45  \n",
       "                              0.01833                               -0.16489  \n"
      ]
     },
     "metadata": {},
     "output_type": "display_data"
    }
   ],
   "source": [
    "# Model price vs both with an interaction using \"times\" syntax\n",
    "lm(price_twd_msq ~ n_convenience * house_age_years, data = taiwan_real_estate)"
   ]
  },
  {
   "cell_type": "code",
   "execution_count": 11,
   "metadata": {},
   "outputs": [
    {
     "data": {
      "text/plain": [
       "\n",
       "Call:\n",
       "lm(formula = price_twd_msq ~ n_convenience + house_age_years + \n",
       "    n_convenience:house_age_years, data = taiwan_real_estate)\n",
       "\n",
       "Coefficients:\n",
       "                          (Intercept)                          n_convenience  \n",
       "                              9.24170                                0.83359  \n",
       "              house_age_years15 to 30                house_age_years30 to 45  \n",
       "                             -2.36978                               -1.12858  \n",
       "n_convenience:house_age_years15 to 30  n_convenience:house_age_years30 to 45  \n",
       "                              0.01833                               -0.16489  \n"
      ]
     },
     "metadata": {},
     "output_type": "display_data"
    }
   ],
   "source": [
    "# Model price vs both with an interaction using \"colon\" syntax\n",
    "lm(price_twd_msq ~ n_convenience + house_age_years + n_convenience:house_age_years , data = taiwan_real_estate)"
   ]
  },
  {
   "cell_type": "markdown",
   "metadata": {},
   "source": [
    "### Interactions with understandable coeffs\n",
    "The previous model with the interaction term returned coefficients that were a little tricky to interpret. In order clarify what the model is predicting, you can reformulate the model in a way that returns understandable coefficients. For further clarity, you can compare the results to the models on the separate house age categories (mdl_0_to_15, mdl_15_to_30, and mdl_30_to_45)."
   ]
  },
  {
   "cell_type": "code",
   "execution_count": 13,
   "metadata": {},
   "outputs": [
    {
     "data": {
      "text/plain": [
       "\n",
       "Call:\n",
       "lm(formula = price_twd_msq ~ house_age_years + n_convenience:house_age_years + \n",
       "    0, data = taiwan_real_estate)\n",
       "\n",
       "Coefficients:\n",
       "               house_age_years0 to 15                house_age_years15 to 30  \n",
       "                               9.2417                                 6.8719  \n",
       "              house_age_years30 to 45   house_age_years0 to 15:n_convenience  \n",
       "                               8.1131                                 0.8336  \n",
       "house_age_years15 to 30:n_convenience  house_age_years30 to 45:n_convenience  \n",
       "                               0.8519                                 0.6687  \n"
      ]
     },
     "metadata": {},
     "output_type": "display_data"
    },
    {
     "data": {
      "text/html": [
       "<dl class=dl-horizontal>\n",
       "\t<dt>(Intercept)</dt>\n",
       "\t\t<dd>9.24170223200006</dd>\n",
       "\t<dt>n_convenience</dt>\n",
       "\t\t<dd>0.833586681918577</dd>\n",
       "</dl>\n"
      ],
      "text/latex": [
       "\\begin{description*}\n",
       "\\item[(Intercept)] 9.24170223200006\n",
       "\\item[n\\textbackslash{}\\_convenience] 0.833586681918577\n",
       "\\end{description*}\n"
      ],
      "text/markdown": [
       "(Intercept)\n",
       ":   9.24170223200006n_convenience\n",
       ":   0.833586681918577\n",
       "\n"
      ],
      "text/plain": [
       "  (Intercept) n_convenience \n",
       "    9.2417022     0.8335867 "
      ]
     },
     "metadata": {},
     "output_type": "display_data"
    },
    {
     "data": {
      "text/html": [
       "<dl class=dl-horizontal>\n",
       "\t<dt>(Intercept)</dt>\n",
       "\t\t<dd>6.87191864149643</dd>\n",
       "\t<dt>n_convenience</dt>\n",
       "\t\t<dd>0.851917239474755</dd>\n",
       "</dl>\n"
      ],
      "text/latex": [
       "\\begin{description*}\n",
       "\\item[(Intercept)] 6.87191864149643\n",
       "\\item[n\\textbackslash{}\\_convenience] 0.851917239474755\n",
       "\\end{description*}\n"
      ],
      "text/markdown": [
       "(Intercept)\n",
       ":   6.87191864149643n_convenience\n",
       ":   0.851917239474755\n",
       "\n"
      ],
      "text/plain": [
       "  (Intercept) n_convenience \n",
       "    6.8719186     0.8519172 "
      ]
     },
     "metadata": {},
     "output_type": "display_data"
    },
    {
     "data": {
      "text/html": [
       "<dl class=dl-horizontal>\n",
       "\t<dt>(Intercept)</dt>\n",
       "\t\t<dd>8.11312349508978</dd>\n",
       "\t<dt>n_convenience</dt>\n",
       "\t\t<dd>0.668698129787185</dd>\n",
       "</dl>\n"
      ],
      "text/latex": [
       "\\begin{description*}\n",
       "\\item[(Intercept)] 8.11312349508978\n",
       "\\item[n\\textbackslash{}\\_convenience] 0.668698129787185\n",
       "\\end{description*}\n"
      ],
      "text/markdown": [
       "(Intercept)\n",
       ":   8.11312349508978n_convenience\n",
       ":   0.668698129787185\n",
       "\n"
      ],
      "text/plain": [
       "  (Intercept) n_convenience \n",
       "    8.1131235     0.6686981 "
      ]
     },
     "metadata": {},
     "output_type": "display_data"
    }
   ],
   "source": [
    "# Model price vs. house age plus an interaction, no intercept\n",
    "mdl_readable_inter <- lm(price_twd_msq ~ house_age_years + n_convenience:house_age_years + 0 , data = taiwan_real_estate)\n",
    "\n",
    "# See the result\n",
    "mdl_readable_inter\n",
    "\n",
    "# Get coefficients for mdl_0_to_15\n",
    "coefficients(mdl_0_to_15)\n",
    "\n",
    "# Get coefficients for mdl_15_to_30\n",
    "coefficients(mdl_15_to_30)\n",
    "\n",
    "# Get coefficients for mdl_30_to_45\n",
    "coefficients(mdl_30_to_45)"
   ]
  },
  {
   "cell_type": "markdown",
   "metadata": {},
   "source": [
    "### Predicting with interactions\n",
    "As with every other regression model you've created, the fun part is making predictions. Fortunately, the code flow for this case is the same as the one without interactions – R can handle calculating the interactions without any extra prompting from you. The only thing you need to remember is the trick for getting combinations of explanatory variables."
   ]
  },
  {
   "cell_type": "code",
   "execution_count": 16,
   "metadata": {},
   "outputs": [
    {
     "data": {
      "text/html": [
       "<table>\n",
       "<thead><tr><th scope=col>n_convenience</th><th scope=col>house_age_years</th></tr></thead>\n",
       "<tbody>\n",
       "\t<tr><td> 0      </td><td>30 to 45</td></tr>\n",
       "\t<tr><td> 1      </td><td>30 to 45</td></tr>\n",
       "\t<tr><td> 2      </td><td>30 to 45</td></tr>\n",
       "\t<tr><td> 3      </td><td>30 to 45</td></tr>\n",
       "\t<tr><td> 4      </td><td>30 to 45</td></tr>\n",
       "\t<tr><td> 5      </td><td>30 to 45</td></tr>\n",
       "\t<tr><td> 6      </td><td>30 to 45</td></tr>\n",
       "\t<tr><td> 7      </td><td>30 to 45</td></tr>\n",
       "\t<tr><td> 8      </td><td>30 to 45</td></tr>\n",
       "\t<tr><td> 9      </td><td>30 to 45</td></tr>\n",
       "\t<tr><td>10      </td><td>30 to 45</td></tr>\n",
       "\t<tr><td> 0      </td><td>15 to 30</td></tr>\n",
       "\t<tr><td> 1      </td><td>15 to 30</td></tr>\n",
       "\t<tr><td> 2      </td><td>15 to 30</td></tr>\n",
       "\t<tr><td> 3      </td><td>15 to 30</td></tr>\n",
       "\t<tr><td> 4      </td><td>15 to 30</td></tr>\n",
       "\t<tr><td> 5      </td><td>15 to 30</td></tr>\n",
       "\t<tr><td> 6      </td><td>15 to 30</td></tr>\n",
       "\t<tr><td> 7      </td><td>15 to 30</td></tr>\n",
       "\t<tr><td> 8      </td><td>15 to 30</td></tr>\n",
       "\t<tr><td> 9      </td><td>15 to 30</td></tr>\n",
       "\t<tr><td>10      </td><td>15 to 30</td></tr>\n",
       "\t<tr><td> 0      </td><td>0 to 15 </td></tr>\n",
       "\t<tr><td> 1      </td><td>0 to 15 </td></tr>\n",
       "\t<tr><td> 2      </td><td>0 to 15 </td></tr>\n",
       "\t<tr><td> 3      </td><td>0 to 15 </td></tr>\n",
       "\t<tr><td> 4      </td><td>0 to 15 </td></tr>\n",
       "\t<tr><td> 5      </td><td>0 to 15 </td></tr>\n",
       "\t<tr><td> 6      </td><td>0 to 15 </td></tr>\n",
       "\t<tr><td> 7      </td><td>0 to 15 </td></tr>\n",
       "\t<tr><td> 8      </td><td>0 to 15 </td></tr>\n",
       "\t<tr><td> 9      </td><td>0 to 15 </td></tr>\n",
       "\t<tr><td>10      </td><td>0 to 15 </td></tr>\n",
       "</tbody>\n",
       "</table>\n"
      ],
      "text/latex": [
       "\\begin{tabular}{r|ll}\n",
       " n\\_convenience & house\\_age\\_years\\\\\n",
       "\\hline\n",
       "\t  0       & 30 to 45\\\\\n",
       "\t  1       & 30 to 45\\\\\n",
       "\t  2       & 30 to 45\\\\\n",
       "\t  3       & 30 to 45\\\\\n",
       "\t  4       & 30 to 45\\\\\n",
       "\t  5       & 30 to 45\\\\\n",
       "\t  6       & 30 to 45\\\\\n",
       "\t  7       & 30 to 45\\\\\n",
       "\t  8       & 30 to 45\\\\\n",
       "\t  9       & 30 to 45\\\\\n",
       "\t 10       & 30 to 45\\\\\n",
       "\t  0       & 15 to 30\\\\\n",
       "\t  1       & 15 to 30\\\\\n",
       "\t  2       & 15 to 30\\\\\n",
       "\t  3       & 15 to 30\\\\\n",
       "\t  4       & 15 to 30\\\\\n",
       "\t  5       & 15 to 30\\\\\n",
       "\t  6       & 15 to 30\\\\\n",
       "\t  7       & 15 to 30\\\\\n",
       "\t  8       & 15 to 30\\\\\n",
       "\t  9       & 15 to 30\\\\\n",
       "\t 10       & 15 to 30\\\\\n",
       "\t  0       & 0 to 15 \\\\\n",
       "\t  1       & 0 to 15 \\\\\n",
       "\t  2       & 0 to 15 \\\\\n",
       "\t  3       & 0 to 15 \\\\\n",
       "\t  4       & 0 to 15 \\\\\n",
       "\t  5       & 0 to 15 \\\\\n",
       "\t  6       & 0 to 15 \\\\\n",
       "\t  7       & 0 to 15 \\\\\n",
       "\t  8       & 0 to 15 \\\\\n",
       "\t  9       & 0 to 15 \\\\\n",
       "\t 10       & 0 to 15 \\\\\n",
       "\\end{tabular}\n"
      ],
      "text/markdown": [
       "\n",
       "| n_convenience | house_age_years |\n",
       "|---|---|\n",
       "|  0       | 30 to 45 |\n",
       "|  1       | 30 to 45 |\n",
       "|  2       | 30 to 45 |\n",
       "|  3       | 30 to 45 |\n",
       "|  4       | 30 to 45 |\n",
       "|  5       | 30 to 45 |\n",
       "|  6       | 30 to 45 |\n",
       "|  7       | 30 to 45 |\n",
       "|  8       | 30 to 45 |\n",
       "|  9       | 30 to 45 |\n",
       "| 10       | 30 to 45 |\n",
       "|  0       | 15 to 30 |\n",
       "|  1       | 15 to 30 |\n",
       "|  2       | 15 to 30 |\n",
       "|  3       | 15 to 30 |\n",
       "|  4       | 15 to 30 |\n",
       "|  5       | 15 to 30 |\n",
       "|  6       | 15 to 30 |\n",
       "|  7       | 15 to 30 |\n",
       "|  8       | 15 to 30 |\n",
       "|  9       | 15 to 30 |\n",
       "| 10       | 15 to 30 |\n",
       "|  0       | 0 to 15  |\n",
       "|  1       | 0 to 15  |\n",
       "|  2       | 0 to 15  |\n",
       "|  3       | 0 to 15  |\n",
       "|  4       | 0 to 15  |\n",
       "|  5       | 0 to 15  |\n",
       "|  6       | 0 to 15  |\n",
       "|  7       | 0 to 15  |\n",
       "|  8       | 0 to 15  |\n",
       "|  9       | 0 to 15  |\n",
       "| 10       | 0 to 15  |\n",
       "\n"
      ],
      "text/plain": [
       "   n_convenience house_age_years\n",
       "1   0            30 to 45       \n",
       "2   1            30 to 45       \n",
       "3   2            30 to 45       \n",
       "4   3            30 to 45       \n",
       "5   4            30 to 45       \n",
       "6   5            30 to 45       \n",
       "7   6            30 to 45       \n",
       "8   7            30 to 45       \n",
       "9   8            30 to 45       \n",
       "10  9            30 to 45       \n",
       "11 10            30 to 45       \n",
       "12  0            15 to 30       \n",
       "13  1            15 to 30       \n",
       "14  2            15 to 30       \n",
       "15  3            15 to 30       \n",
       "16  4            15 to 30       \n",
       "17  5            15 to 30       \n",
       "18  6            15 to 30       \n",
       "19  7            15 to 30       \n",
       "20  8            15 to 30       \n",
       "21  9            15 to 30       \n",
       "22 10            15 to 30       \n",
       "23  0            0 to 15        \n",
       "24  1            0 to 15        \n",
       "25  2            0 to 15        \n",
       "26  3            0 to 15        \n",
       "27  4            0 to 15        \n",
       "28  5            0 to 15        \n",
       "29  6            0 to 15        \n",
       "30  7            0 to 15        \n",
       "31  8            0 to 15        \n",
       "32  9            0 to 15        \n",
       "33 10            0 to 15        "
      ]
     },
     "metadata": {},
     "output_type": "display_data"
    },
    {
     "data": {
      "text/html": [
       "<table>\n",
       "<thead><tr><th scope=col>n_convenience</th><th scope=col>house_age_years</th><th scope=col>price_twd_msq</th></tr></thead>\n",
       "<tbody>\n",
       "\t<tr><td> 0       </td><td>30 to 45 </td><td> 8.113123</td></tr>\n",
       "\t<tr><td> 1       </td><td>30 to 45 </td><td> 8.781822</td></tr>\n",
       "\t<tr><td> 2       </td><td>30 to 45 </td><td> 9.450520</td></tr>\n",
       "\t<tr><td> 3       </td><td>30 to 45 </td><td>10.119218</td></tr>\n",
       "\t<tr><td> 4       </td><td>30 to 45 </td><td>10.787916</td></tr>\n",
       "\t<tr><td> 5       </td><td>30 to 45 </td><td>11.456614</td></tr>\n",
       "\t<tr><td> 6       </td><td>30 to 45 </td><td>12.125312</td></tr>\n",
       "\t<tr><td> 7       </td><td>30 to 45 </td><td>12.794010</td></tr>\n",
       "\t<tr><td> 8       </td><td>30 to 45 </td><td>13.462709</td></tr>\n",
       "\t<tr><td> 9       </td><td>30 to 45 </td><td>14.131407</td></tr>\n",
       "\t<tr><td>10       </td><td>30 to 45 </td><td>14.800105</td></tr>\n",
       "\t<tr><td> 0       </td><td>15 to 30 </td><td> 6.871919</td></tr>\n",
       "\t<tr><td> 1       </td><td>15 to 30 </td><td> 7.723836</td></tr>\n",
       "\t<tr><td> 2       </td><td>15 to 30 </td><td> 8.575753</td></tr>\n",
       "\t<tr><td> 3       </td><td>15 to 30 </td><td> 9.427670</td></tr>\n",
       "\t<tr><td> 4       </td><td>15 to 30 </td><td>10.279588</td></tr>\n",
       "\t<tr><td> 5       </td><td>15 to 30 </td><td>11.131505</td></tr>\n",
       "\t<tr><td> 6       </td><td>15 to 30 </td><td>11.983422</td></tr>\n",
       "\t<tr><td> 7       </td><td>15 to 30 </td><td>12.835339</td></tr>\n",
       "\t<tr><td> 8       </td><td>15 to 30 </td><td>13.687257</td></tr>\n",
       "\t<tr><td> 9       </td><td>15 to 30 </td><td>14.539174</td></tr>\n",
       "\t<tr><td>10       </td><td>15 to 30 </td><td>15.391091</td></tr>\n",
       "\t<tr><td> 0       </td><td>0 to 15  </td><td> 9.241702</td></tr>\n",
       "\t<tr><td> 1       </td><td>0 to 15  </td><td>10.075289</td></tr>\n",
       "\t<tr><td> 2       </td><td>0 to 15  </td><td>10.908876</td></tr>\n",
       "\t<tr><td> 3       </td><td>0 to 15  </td><td>11.742462</td></tr>\n",
       "\t<tr><td> 4       </td><td>0 to 15  </td><td>12.576049</td></tr>\n",
       "\t<tr><td> 5       </td><td>0 to 15  </td><td>13.409636</td></tr>\n",
       "\t<tr><td> 6       </td><td>0 to 15  </td><td>14.243222</td></tr>\n",
       "\t<tr><td> 7       </td><td>0 to 15  </td><td>15.076809</td></tr>\n",
       "\t<tr><td> 8       </td><td>0 to 15  </td><td>15.910396</td></tr>\n",
       "\t<tr><td> 9       </td><td>0 to 15  </td><td>16.743982</td></tr>\n",
       "\t<tr><td>10       </td><td>0 to 15  </td><td>17.577569</td></tr>\n",
       "</tbody>\n",
       "</table>\n"
      ],
      "text/latex": [
       "\\begin{tabular}{r|lll}\n",
       " n\\_convenience & house\\_age\\_years & price\\_twd\\_msq\\\\\n",
       "\\hline\n",
       "\t  0        & 30 to 45  &  8.113123\\\\\n",
       "\t  1        & 30 to 45  &  8.781822\\\\\n",
       "\t  2        & 30 to 45  &  9.450520\\\\\n",
       "\t  3        & 30 to 45  & 10.119218\\\\\n",
       "\t  4        & 30 to 45  & 10.787916\\\\\n",
       "\t  5        & 30 to 45  & 11.456614\\\\\n",
       "\t  6        & 30 to 45  & 12.125312\\\\\n",
       "\t  7        & 30 to 45  & 12.794010\\\\\n",
       "\t  8        & 30 to 45  & 13.462709\\\\\n",
       "\t  9        & 30 to 45  & 14.131407\\\\\n",
       "\t 10        & 30 to 45  & 14.800105\\\\\n",
       "\t  0        & 15 to 30  &  6.871919\\\\\n",
       "\t  1        & 15 to 30  &  7.723836\\\\\n",
       "\t  2        & 15 to 30  &  8.575753\\\\\n",
       "\t  3        & 15 to 30  &  9.427670\\\\\n",
       "\t  4        & 15 to 30  & 10.279588\\\\\n",
       "\t  5        & 15 to 30  & 11.131505\\\\\n",
       "\t  6        & 15 to 30  & 11.983422\\\\\n",
       "\t  7        & 15 to 30  & 12.835339\\\\\n",
       "\t  8        & 15 to 30  & 13.687257\\\\\n",
       "\t  9        & 15 to 30  & 14.539174\\\\\n",
       "\t 10        & 15 to 30  & 15.391091\\\\\n",
       "\t  0        & 0 to 15   &  9.241702\\\\\n",
       "\t  1        & 0 to 15   & 10.075289\\\\\n",
       "\t  2        & 0 to 15   & 10.908876\\\\\n",
       "\t  3        & 0 to 15   & 11.742462\\\\\n",
       "\t  4        & 0 to 15   & 12.576049\\\\\n",
       "\t  5        & 0 to 15   & 13.409636\\\\\n",
       "\t  6        & 0 to 15   & 14.243222\\\\\n",
       "\t  7        & 0 to 15   & 15.076809\\\\\n",
       "\t  8        & 0 to 15   & 15.910396\\\\\n",
       "\t  9        & 0 to 15   & 16.743982\\\\\n",
       "\t 10        & 0 to 15   & 17.577569\\\\\n",
       "\\end{tabular}\n"
      ],
      "text/markdown": [
       "\n",
       "| n_convenience | house_age_years | price_twd_msq |\n",
       "|---|---|---|\n",
       "|  0        | 30 to 45  |  8.113123 |\n",
       "|  1        | 30 to 45  |  8.781822 |\n",
       "|  2        | 30 to 45  |  9.450520 |\n",
       "|  3        | 30 to 45  | 10.119218 |\n",
       "|  4        | 30 to 45  | 10.787916 |\n",
       "|  5        | 30 to 45  | 11.456614 |\n",
       "|  6        | 30 to 45  | 12.125312 |\n",
       "|  7        | 30 to 45  | 12.794010 |\n",
       "|  8        | 30 to 45  | 13.462709 |\n",
       "|  9        | 30 to 45  | 14.131407 |\n",
       "| 10        | 30 to 45  | 14.800105 |\n",
       "|  0        | 15 to 30  |  6.871919 |\n",
       "|  1        | 15 to 30  |  7.723836 |\n",
       "|  2        | 15 to 30  |  8.575753 |\n",
       "|  3        | 15 to 30  |  9.427670 |\n",
       "|  4        | 15 to 30  | 10.279588 |\n",
       "|  5        | 15 to 30  | 11.131505 |\n",
       "|  6        | 15 to 30  | 11.983422 |\n",
       "|  7        | 15 to 30  | 12.835339 |\n",
       "|  8        | 15 to 30  | 13.687257 |\n",
       "|  9        | 15 to 30  | 14.539174 |\n",
       "| 10        | 15 to 30  | 15.391091 |\n",
       "|  0        | 0 to 15   |  9.241702 |\n",
       "|  1        | 0 to 15   | 10.075289 |\n",
       "|  2        | 0 to 15   | 10.908876 |\n",
       "|  3        | 0 to 15   | 11.742462 |\n",
       "|  4        | 0 to 15   | 12.576049 |\n",
       "|  5        | 0 to 15   | 13.409636 |\n",
       "|  6        | 0 to 15   | 14.243222 |\n",
       "|  7        | 0 to 15   | 15.076809 |\n",
       "|  8        | 0 to 15   | 15.910396 |\n",
       "|  9        | 0 to 15   | 16.743982 |\n",
       "| 10        | 0 to 15   | 17.577569 |\n",
       "\n"
      ],
      "text/plain": [
       "   n_convenience house_age_years price_twd_msq\n",
       "1   0            30 to 45         8.113123    \n",
       "2   1            30 to 45         8.781822    \n",
       "3   2            30 to 45         9.450520    \n",
       "4   3            30 to 45        10.119218    \n",
       "5   4            30 to 45        10.787916    \n",
       "6   5            30 to 45        11.456614    \n",
       "7   6            30 to 45        12.125312    \n",
       "8   7            30 to 45        12.794010    \n",
       "9   8            30 to 45        13.462709    \n",
       "10  9            30 to 45        14.131407    \n",
       "11 10            30 to 45        14.800105    \n",
       "12  0            15 to 30         6.871919    \n",
       "13  1            15 to 30         7.723836    \n",
       "14  2            15 to 30         8.575753    \n",
       "15  3            15 to 30         9.427670    \n",
       "16  4            15 to 30        10.279588    \n",
       "17  5            15 to 30        11.131505    \n",
       "18  6            15 to 30        11.983422    \n",
       "19  7            15 to 30        12.835339    \n",
       "20  8            15 to 30        13.687257    \n",
       "21  9            15 to 30        14.539174    \n",
       "22 10            15 to 30        15.391091    \n",
       "23  0            0 to 15          9.241702    \n",
       "24  1            0 to 15         10.075289    \n",
       "25  2            0 to 15         10.908876    \n",
       "26  3            0 to 15         11.742462    \n",
       "27  4            0 to 15         12.576049    \n",
       "28  5            0 to 15         13.409636    \n",
       "29  6            0 to 15         14.243222    \n",
       "30  7            0 to 15         15.076809    \n",
       "31  8            0 to 15         15.910396    \n",
       "32  9            0 to 15         16.743982    \n",
       "33 10            0 to 15         17.577569    "
      ]
     },
     "metadata": {},
     "output_type": "display_data"
    }
   ],
   "source": [
    "# Make a grid of explanatory data\n",
    "explanatory_data <- expand_grid(\n",
    "  # Set n_convenience to zero to ten\n",
    "  n_convenience = seq(0,10,1),\n",
    "  # Set house_age_years to the unique values of that variable\n",
    "  house_age_years = unique(taiwan_real_estate$house_age_years)\n",
    ")\n",
    "\n",
    "\n",
    "# See the result\n",
    "explanatory_data\n",
    "\n",
    "# Add predictions to the data frame\n",
    "prediction_data <- explanatory_data %>% \n",
    "  mutate(price_twd_msq = predict(mdl_readable_inter, explanatory_data))\n",
    "\n",
    "# See the result\n",
    "prediction_data\n"
   ]
  },
  {
   "cell_type": "code",
   "execution_count": 17,
   "metadata": {},
   "outputs": [
    {
     "name": "stderr",
     "output_type": "stream",
     "text": [
      "`geom_smooth()` using formula 'y ~ x'\n"
     ]
    },
    {
     "data": {
      "image/png": "[encoded data removed]",
      "text/plain": [
       "plot without title"
      ]
     },
     "metadata": {},
     "output_type": "display_data"
    }
   ],
   "source": [
    "# plot \n",
    "taiwan_real_estate %>% \n",
    "  ggplot(aes(n_convenience, price_twd_msq, color = house_age_years)) +\n",
    "  geom_point() +\n",
    "  geom_smooth(method = \"lm\", se = FALSE) +\n",
    "  geom_point(data =  prediction_data, size = 5, shape = 15)"
   ]
  },
  {
   "cell_type": "markdown",
   "metadata": {},
   "source": [
    "### Manually calculating predictions with interactions\n",
    "In order to understand how predict() works, it's time to calculate the predictions manually again. For this model, there are three separate lines to calculate for, and in each one, the prediction is an intercept plus a slope times the numeric explanatory value. The tricky part is getting the right intercept and the right slope for each case."
   ]
  },
  {
   "cell_type": "code",
   "execution_count": 19,
   "metadata": {},
   "outputs": [
    {
     "data": {
      "text/html": [
       "<table>\n",
       "<thead><tr><th scope=col>n_convenience</th><th scope=col>house_age_years</th><th scope=col>price_twd_msq</th></tr></thead>\n",
       "<tbody>\n",
       "\t<tr><td> 0       </td><td>30 to 45 </td><td> 8.113123</td></tr>\n",
       "\t<tr><td> 1       </td><td>30 to 45 </td><td> 8.781822</td></tr>\n",
       "\t<tr><td> 2       </td><td>30 to 45 </td><td> 9.450520</td></tr>\n",
       "\t<tr><td> 3       </td><td>30 to 45 </td><td>10.119218</td></tr>\n",
       "\t<tr><td> 4       </td><td>30 to 45 </td><td>10.787916</td></tr>\n",
       "\t<tr><td> 5       </td><td>30 to 45 </td><td>11.456614</td></tr>\n",
       "\t<tr><td> 6       </td><td>30 to 45 </td><td>12.125312</td></tr>\n",
       "\t<tr><td> 7       </td><td>30 to 45 </td><td>12.794010</td></tr>\n",
       "\t<tr><td> 8       </td><td>30 to 45 </td><td>13.462709</td></tr>\n",
       "\t<tr><td> 9       </td><td>30 to 45 </td><td>14.131407</td></tr>\n",
       "\t<tr><td>10       </td><td>30 to 45 </td><td>14.800105</td></tr>\n",
       "\t<tr><td> 0       </td><td>15 to 30 </td><td> 6.871919</td></tr>\n",
       "\t<tr><td> 1       </td><td>15 to 30 </td><td> 7.723836</td></tr>\n",
       "\t<tr><td> 2       </td><td>15 to 30 </td><td> 8.575753</td></tr>\n",
       "\t<tr><td> 3       </td><td>15 to 30 </td><td> 9.427670</td></tr>\n",
       "\t<tr><td> 4       </td><td>15 to 30 </td><td>10.279588</td></tr>\n",
       "\t<tr><td> 5       </td><td>15 to 30 </td><td>11.131505</td></tr>\n",
       "\t<tr><td> 6       </td><td>15 to 30 </td><td>11.983422</td></tr>\n",
       "\t<tr><td> 7       </td><td>15 to 30 </td><td>12.835339</td></tr>\n",
       "\t<tr><td> 8       </td><td>15 to 30 </td><td>13.687257</td></tr>\n",
       "\t<tr><td> 9       </td><td>15 to 30 </td><td>14.539174</td></tr>\n",
       "\t<tr><td>10       </td><td>15 to 30 </td><td>15.391091</td></tr>\n",
       "\t<tr><td> 0       </td><td>0 to 15  </td><td> 9.241702</td></tr>\n",
       "\t<tr><td> 1       </td><td>0 to 15  </td><td>10.075289</td></tr>\n",
       "\t<tr><td> 2       </td><td>0 to 15  </td><td>10.908876</td></tr>\n",
       "\t<tr><td> 3       </td><td>0 to 15  </td><td>11.742462</td></tr>\n",
       "\t<tr><td> 4       </td><td>0 to 15  </td><td>12.576049</td></tr>\n",
       "\t<tr><td> 5       </td><td>0 to 15  </td><td>13.409636</td></tr>\n",
       "\t<tr><td> 6       </td><td>0 to 15  </td><td>14.243222</td></tr>\n",
       "\t<tr><td> 7       </td><td>0 to 15  </td><td>15.076809</td></tr>\n",
       "\t<tr><td> 8       </td><td>0 to 15  </td><td>15.910396</td></tr>\n",
       "\t<tr><td> 9       </td><td>0 to 15  </td><td>16.743982</td></tr>\n",
       "\t<tr><td>10       </td><td>0 to 15  </td><td>17.577569</td></tr>\n",
       "</tbody>\n",
       "</table>\n"
      ],
      "text/latex": [
       "\\begin{tabular}{r|lll}\n",
       " n\\_convenience & house\\_age\\_years & price\\_twd\\_msq\\\\\n",
       "\\hline\n",
       "\t  0        & 30 to 45  &  8.113123\\\\\n",
       "\t  1        & 30 to 45  &  8.781822\\\\\n",
       "\t  2        & 30 to 45  &  9.450520\\\\\n",
       "\t  3        & 30 to 45  & 10.119218\\\\\n",
       "\t  4        & 30 to 45  & 10.787916\\\\\n",
       "\t  5        & 30 to 45  & 11.456614\\\\\n",
       "\t  6        & 30 to 45  & 12.125312\\\\\n",
       "\t  7        & 30 to 45  & 12.794010\\\\\n",
       "\t  8        & 30 to 45  & 13.462709\\\\\n",
       "\t  9        & 30 to 45  & 14.131407\\\\\n",
       "\t 10        & 30 to 45  & 14.800105\\\\\n",
       "\t  0        & 15 to 30  &  6.871919\\\\\n",
       "\t  1        & 15 to 30  &  7.723836\\\\\n",
       "\t  2        & 15 to 30  &  8.575753\\\\\n",
       "\t  3        & 15 to 30  &  9.427670\\\\\n",
       "\t  4        & 15 to 30  & 10.279588\\\\\n",
       "\t  5        & 15 to 30  & 11.131505\\\\\n",
       "\t  6        & 15 to 30  & 11.983422\\\\\n",
       "\t  7        & 15 to 30  & 12.835339\\\\\n",
       "\t  8        & 15 to 30  & 13.687257\\\\\n",
       "\t  9        & 15 to 30  & 14.539174\\\\\n",
       "\t 10        & 15 to 30  & 15.391091\\\\\n",
       "\t  0        & 0 to 15   &  9.241702\\\\\n",
       "\t  1        & 0 to 15   & 10.075289\\\\\n",
       "\t  2        & 0 to 15   & 10.908876\\\\\n",
       "\t  3        & 0 to 15   & 11.742462\\\\\n",
       "\t  4        & 0 to 15   & 12.576049\\\\\n",
       "\t  5        & 0 to 15   & 13.409636\\\\\n",
       "\t  6        & 0 to 15   & 14.243222\\\\\n",
       "\t  7        & 0 to 15   & 15.076809\\\\\n",
       "\t  8        & 0 to 15   & 15.910396\\\\\n",
       "\t  9        & 0 to 15   & 16.743982\\\\\n",
       "\t 10        & 0 to 15   & 17.577569\\\\\n",
       "\\end{tabular}\n"
      ],
      "text/markdown": [
       "\n",
       "| n_convenience | house_age_years | price_twd_msq |\n",
       "|---|---|---|\n",
       "|  0        | 30 to 45  |  8.113123 |\n",
       "|  1        | 30 to 45  |  8.781822 |\n",
       "|  2        | 30 to 45  |  9.450520 |\n",
       "|  3        | 30 to 45  | 10.119218 |\n",
       "|  4        | 30 to 45  | 10.787916 |\n",
       "|  5        | 30 to 45  | 11.456614 |\n",
       "|  6        | 30 to 45  | 12.125312 |\n",
       "|  7        | 30 to 45  | 12.794010 |\n",
       "|  8        | 30 to 45  | 13.462709 |\n",
       "|  9        | 30 to 45  | 14.131407 |\n",
       "| 10        | 30 to 45  | 14.800105 |\n",
       "|  0        | 15 to 30  |  6.871919 |\n",
       "|  1        | 15 to 30  |  7.723836 |\n",
       "|  2        | 15 to 30  |  8.575753 |\n",
       "|  3        | 15 to 30  |  9.427670 |\n",
       "|  4        | 15 to 30  | 10.279588 |\n",
       "|  5        | 15 to 30  | 11.131505 |\n",
       "|  6        | 15 to 30  | 11.983422 |\n",
       "|  7        | 15 to 30  | 12.835339 |\n",
       "|  8        | 15 to 30  | 13.687257 |\n",
       "|  9        | 15 to 30  | 14.539174 |\n",
       "| 10        | 15 to 30  | 15.391091 |\n",
       "|  0        | 0 to 15   |  9.241702 |\n",
       "|  1        | 0 to 15   | 10.075289 |\n",
       "|  2        | 0 to 15   | 10.908876 |\n",
       "|  3        | 0 to 15   | 11.742462 |\n",
       "|  4        | 0 to 15   | 12.576049 |\n",
       "|  5        | 0 to 15   | 13.409636 |\n",
       "|  6        | 0 to 15   | 14.243222 |\n",
       "|  7        | 0 to 15   | 15.076809 |\n",
       "|  8        | 0 to 15   | 15.910396 |\n",
       "|  9        | 0 to 15   | 16.743982 |\n",
       "| 10        | 0 to 15   | 17.577569 |\n",
       "\n"
      ],
      "text/plain": [
       "   n_convenience house_age_years price_twd_msq\n",
       "1   0            30 to 45         8.113123    \n",
       "2   1            30 to 45         8.781822    \n",
       "3   2            30 to 45         9.450520    \n",
       "4   3            30 to 45        10.119218    \n",
       "5   4            30 to 45        10.787916    \n",
       "6   5            30 to 45        11.456614    \n",
       "7   6            30 to 45        12.125312    \n",
       "8   7            30 to 45        12.794010    \n",
       "9   8            30 to 45        13.462709    \n",
       "10  9            30 to 45        14.131407    \n",
       "11 10            30 to 45        14.800105    \n",
       "12  0            15 to 30         6.871919    \n",
       "13  1            15 to 30         7.723836    \n",
       "14  2            15 to 30         8.575753    \n",
       "15  3            15 to 30         9.427670    \n",
       "16  4            15 to 30        10.279588    \n",
       "17  5            15 to 30        11.131505    \n",
       "18  6            15 to 30        11.983422    \n",
       "19  7            15 to 30        12.835339    \n",
       "20  8            15 to 30        13.687257    \n",
       "21  9            15 to 30        14.539174    \n",
       "22 10            15 to 30        15.391091    \n",
       "23  0            0 to 15          9.241702    \n",
       "24  1            0 to 15         10.075289    \n",
       "25  2            0 to 15         10.908876    \n",
       "26  3            0 to 15         11.742462    \n",
       "27  4            0 to 15         12.576049    \n",
       "28  5            0 to 15         13.409636    \n",
       "29  6            0 to 15         14.243222    \n",
       "30  7            0 to 15         15.076809    \n",
       "31  8            0 to 15         15.910396    \n",
       "32  9            0 to 15         16.743982    \n",
       "33 10            0 to 15         17.577569    "
      ]
     },
     "metadata": {},
     "output_type": "display_data"
    }
   ],
   "source": [
    "# Get the coefficients from mdl_price_vs_both_inter\n",
    "coeffs <- coefficients(mdl_readable_inter)\n",
    "\n",
    "# Get the intercept for 0 to 15 year age group\n",
    "intercept_0_15 <- coeffs[1]\n",
    "\n",
    "# Get the intercept for 15 to 30 year age group\n",
    "intercept_15_30 <- coeffs[2]\n",
    "\n",
    "# Get the intercept for 30 to 45 year age group\n",
    "intercept_30_45 <- coeffs[3]\n",
    "\n",
    "# Get the slope for 0 to 15 year age group\n",
    "slope_0_15 <- coeffs[4]\n",
    "\n",
    "# Get the slope for 15 to 30 year age group\n",
    "slope_15_30 <- coeffs[5]\n",
    "\n",
    "# Get the slope for 30 to 45 year age group\n",
    "slope_30_45 <- coeffs[6]\n",
    "\n",
    "prediction_data <- explanatory_data %>% \n",
    "  mutate(\n",
    "    # Consider the 3 cases to choose the price\n",
    "    price_twd_msq = case_when(\n",
    "      house_age_years == \"0 to 15\" ~ intercept_0_15 + slope_0_15 * n_convenience,\n",
    "      house_age_years == \"15 to 30\" ~ intercept_15_30 + slope_15_30 * n_convenience,\n",
    "      house_age_years == \"30 to 45\" ~ intercept_30_45 + slope_30_45 * n_convenience \n",
    "    ) \n",
    "  )\n",
    "\n",
    "# See the result\n",
    "prediction_data"
   ]
  },
  {
   "cell_type": "markdown",
   "metadata": {},
   "source": [
    "### Modeling eBay auctions\n",
    "Sometimes modeling a whole dataset suggests trends that disagree with models on separate parts of that dataset. This is known as Simpson's paradox. In the most extreme case, you may see a positive slope on the whole dataset, and negative slopes on every subset of that dataset (or the other way around).Over the next few exercises, you'll look at eBay auctions (https://www.modelingonlineauctions.com/datasets). "
   ]
  },
  {
   "cell_type": "code",
   "execution_count": 29,
   "metadata": {},
   "outputs": [
    {
     "name": "stdout",
     "output_type": "stream",
     "text": [
      "'data.frame':\t1861 obs. of  8 variables:\n",
      " $ auctionid   : num  8.21e+09 8.21e+09 8.21e+09 8.21e+09 8.21e+09 ...\n",
      " $ bid         : num  53 51 102 57 144 ...\n",
      " $ bidtime     : num  1.2 1.2 1.2 1.71 3.09 ...\n",
      " $ bidder      : Factor w/ 657 levels \"\",\"1gyros\",\"2005jevonne\",..: 260 646 646 445 414 235 63 414 355 29 ...\n",
      " $ bidderrate  : int  94 90 90 14 3 5 1 3 12 292 ...\n",
      " $ openbid     : num  50 50 50 50 50 ...\n",
      " $ price       : num  312 312 312 312 312 ...\n",
      " $ auction_type: Factor w/ 8 levels \"1 day\",\"2 day\",..: 2 2 2 3 4 5 6 7 7 8 ...\n"
     ]
    },
    {
     "data": {
      "text/plain": [
       "\n",
       "Call:\n",
       "lm(formula = price ~ openbid, data = auctions)\n",
       "\n",
       "Coefficients:\n",
       "(Intercept)      openbid  \n",
       "   153.0035      -0.1761  \n"
      ]
     },
     "metadata": {},
     "output_type": "display_data"
    },
    {
     "name": "stderr",
     "output_type": "stream",
     "text": [
      "`geom_smooth()` using formula 'y ~ x'\n"
     ]
    },
    {
     "data": {
      "image/png": "[encoded data removed]",
      "text/plain": [
       "plot without title"
      ]
     },
     "metadata": {},
     "output_type": "display_data"
    }
   ],
   "source": [
    "auctions = read.csv(\"Xbox_auctions.csv\")\n",
    "\n",
    "# Take a glimpse at the dataset\n",
    "str(auctions)\n",
    "\n",
    "# Model price vs. opening bid using auctions\n",
    "mdl_price_vs_openbid <- lm(price ~ openbid, data = auctions)\n",
    "\n",
    "# See the result\n",
    "mdl_price_vs_openbid\n",
    "\n",
    "# Using auctions, plot price vs. opening bid as a \n",
    "# scatter plot with linear regression trend lines\n",
    "ggplot(auctions, aes(x = openbid, y  = price)) + geom_point() + \n",
    "geom_smooth(method = \"lm\", se = FALSE)\n",
    "\n"
   ]
  },
  {
   "cell_type": "markdown",
   "metadata": {},
   "source": [
    "### Modeling each auction type\n",
    "You just saw that the opening bid price appeared not to affect the final sale price of Palm Pilots in the eBay auctions. Now let's look at what happens when you model the three auction types (1, 2, 3, 5,7,..) separately."
   ]
  },
  {
   "cell_type": "code",
   "execution_count": 30,
   "metadata": {},
   "outputs": [
    {
     "data": {
      "text/plain": [
       "\n",
       "Call:\n",
       "lm(formula = price ~ openbid + auction_type + openbid:auction_type, \n",
       "    data = auctions)\n",
       "\n",
       "Coefficients:\n",
       "              (Intercept)                    openbid  \n",
       "                 177.1444                    -1.6293  \n",
       "        auction_type2 day          auction_type3 day  \n",
       "                 -27.3778                     3.4335  \n",
       "        auction_type4 day          auction_type5 day  \n",
       "                  -4.8017                   -54.1205  \n",
       "        auction_type6 day          auction_type7 day  \n",
       "                 -56.1155                   -15.1903  \n",
       "        auction_type8 day  openbid:auction_type2 day  \n",
       "                 -31.9526                     2.2851  \n",
       "openbid:auction_type3 day  openbid:auction_type4 day  \n",
       "                   0.7025                     1.3311  \n",
       "openbid:auction_type5 day  openbid:auction_type6 day  \n",
       "                   2.0433                     1.7587  \n",
       "openbid:auction_type7 day  openbid:auction_type8 day  \n",
       "                   1.3571                     1.5744  \n"
      ]
     },
     "metadata": {},
     "output_type": "display_data"
    }
   ],
   "source": [
    "# Fit linear regression of price vs. opening bid and auction \n",
    "# type, with an interaction.\n",
    "mdl_price_vs_both <- lm(price ~ openbid + auction_type + openbid:auction_type , data = auctions)\n",
    "\n",
    "# See the result\n",
    "mdl_price_vs_both"
   ]
  },
  {
   "cell_type": "code",
   "execution_count": 31,
   "metadata": {},
   "outputs": [
    {
     "name": "stderr",
     "output_type": "stream",
     "text": [
      "`geom_smooth()` using formula 'y ~ x'\n"
     ]
    },
    {
     "data": {
      "image/png": "[encoded data removed]",
      "text/plain": [
       "plot without title"
      ]
     },
     "metadata": {},
     "output_type": "display_data"
    }
   ],
   "source": [
    "# Using auctions, plot price vs. opening bid colored by\n",
    "# auction type as a scatter plot with linear regr'n trend lines\n",
    "ggplot(auctions, aes(x = openbid, y  = price, color = auction_type)) + geom_point() + \n",
    "geom_smooth(method = \"lm\", se = FALSE)"
   ]
  },
  {
   "cell_type": "markdown",
   "metadata": {},
   "source": [
    "### What is the Simpson's Paradox?\n",
    "\n",
    "Interpreting models is a subtle art, and your conclusions need to be based on the question you are trying to answer. Here, the answer to 'Does opening bid affect final sale price?' is no overall, but the answer to 'Does opening bid price affect final sale price for any type of auction?' is yes, for 5 day auctions.\n",
    "\n",
    "Simpson's paradox is a phenomenon in which a trend appears in several different groups of data but disappears or reverses when these groups are combined. This result is often encountered in social-science and medical-science statistics and is particularly problematic when frequency data is unduly given causal interpretations."
   ]
  },
  {
   "cell_type": "code",
   "execution_count": null,
   "metadata": {},
   "outputs": [],
   "source": []
  }
 ],
 "metadata": {
  "kernelspec": {
   "display_name": "R",
   "language": "R",
   "name": "ir"
  },
  "language_info": {
   "codemirror_mode": "r",
   "file_extension": ".r",
   "mimetype": "text/x-r-source",
   "name": "R",
   "pygments_lexer": "r",
   "version": "3.6.1"
  }
 },
 "nbformat": 4,
 "nbformat_minor": 4
}
