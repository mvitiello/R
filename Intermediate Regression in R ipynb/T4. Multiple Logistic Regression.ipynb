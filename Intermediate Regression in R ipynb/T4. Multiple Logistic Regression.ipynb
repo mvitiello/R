{
 "cells": [
  {
   "cell_type": "markdown",
   "metadata": {},
   "source": [
    "## Multiple Logistic Regression\n",
    "\n",
    "Extend your logistic regression skills to multiple explanatory variables. Understand the logistic distribution, which underpins this form of regression. Finally, implement your own logistic regression algorithm."
   ]
  },
  {
   "cell_type": "markdown",
   "metadata": {},
   "source": [
    "### Visualizing multiple explanatory variables\n",
    "Logistic regression also supports multiple explanatory variables. Plotting has similar issues as the linear regression case: it quickly becomes difficult to include more numeric variables in the plot. Here we'll look at the case of two numeric explanatory variables, and the solution is basically the same as before: use color to denote the response.\n",
    "\n",
    "Here there are only two possible values of response (zero and one), and later when we add predicted responses, the values all lie between zero and one. Once you include predicted responses, the most important thing to determine from the plot is whether the predictions are close to zero, or close to one. That means that a 2-color gradient split at 0.5 is really useful: responses above 0.5 are one color, and responses below 0.5 are another color."
   ]
  },
  {
   "cell_type": "code",
   "execution_count": 1,
   "metadata": {},
   "outputs": [
    {
     "name": "stderr",
     "output_type": "stream",
     "text": [
      "Warning message:\n",
      "\"package 'fst' was built under R version 3.6.3\"Warning message:\n",
      "\"package 'ggplot2' was built under R version 3.6.3\"Warning message:\n",
      "\"package 'dplyr' was built under R version 3.6.3\"\n",
      "Attaching package: 'dplyr'\n",
      "\n",
      "The following objects are masked from 'package:stats':\n",
      "\n",
      "    filter, lag\n",
      "\n",
      "The following objects are masked from 'package:base':\n",
      "\n",
      "    intersect, setdiff, setequal, union\n",
      "\n",
      "Warning message:\n",
      "\"package 'broom' was built under R version 3.6.3\""
     ]
    },
    {
     "data": {
      "image/png": "[encoded data removed]",
      "text/plain": [
       "plot without title"
      ]
     },
     "metadata": {},
     "output_type": "display_data"
    }
   ],
   "source": [
    "# libraries\n",
    "library(fst)\n",
    "library(ggplot2)\n",
    "library(dplyr)\n",
    "library(broom)\n",
    "\n",
    "# read and see data \n",
    "churn = read_fst(\"churn.fst\")\n",
    "\n",
    "# Using churn, plot recency vs. length of relationship,\n",
    "# colored by churn status\n",
    "ggplot(churn, aes(time_since_first_purchase, time_since_last_purchase, color = has_churned))+\n",
    "  # Make it a scatter plot, with transparency 0.5\n",
    "  geom_point(alpha = 0.5) +\n",
    "  # Use a 2-color gradient split at 0.5\n",
    "  scale_color_gradient2(midpoint = 0.5) +\n",
    "  # Use the black and white theme\n",
    "  theme_bw()"
   ]
  },
  {
   "cell_type": "markdown",
   "metadata": {},
   "source": [
    "### Logistic regression with 2 explanatory variables\n",
    "To include multiple explanatory variables in logistic regression models, the syntax is the same as for linear regressions. The only change is the same as in the simple case: you run a generalized linear model with a binomial error family.\n",
    "\n",
    "Here you'll fit a model of churn status with both of the explanatory variables from the dataset: the length of customer relationship and the recency of purchase."
   ]
  },
  {
   "cell_type": "code",
   "execution_count": 2,
   "metadata": {},
   "outputs": [
    {
     "data": {
      "text/plain": [
       "\n",
       "Call:  glm(formula = has_churned ~ time_since_first_purchase + time_since_last_purchase + \n",
       "    time_since_first_purchase:time_since_last_purchase, family = \"binomial\", \n",
       "    data = churn)\n",
       "\n",
       "Coefficients:\n",
       "                                       (Intercept)  \n",
       "                                           -0.1505  \n",
       "                         time_since_first_purchase  \n",
       "                                           -0.6376  \n",
       "                          time_since_last_purchase  \n",
       "                                            0.4233  \n",
       "time_since_first_purchase:time_since_last_purchase  \n",
       "                                            0.1123  \n",
       "\n",
       "Degrees of Freedom: 399 Total (i.e. Null);  396 Residual\n",
       "Null Deviance:\t    554.5 \n",
       "Residual Deviance: 519.8 \tAIC: 527.8"
      ]
     },
     "metadata": {},
     "output_type": "display_data"
    }
   ],
   "source": [
    "# Fit a logistic regression of churn status vs. length of\n",
    "# relationship, recency, and an interaction\n",
    "mdl_churn_vs_both_inter <- glm(has_churned ~ time_since_first_purchase + time_since_last_purchase + time_since_first_purchase:time_since_last_purchase, data = churn, family = \"binomial\")\n",
    "\n",
    "# See the result\n",
    "mdl_churn_vs_both_inter"
   ]
  },
  {
   "cell_type": "markdown",
   "metadata": {},
   "source": [
    "### Logistic regression prediction\n",
    "As with linear regression, the joy of logistic regression is that you can make predictions. Let's step through the prediction flow one more time!"
   ]
  },
  {
   "cell_type": "code",
   "execution_count": 4,
   "metadata": {},
   "outputs": [
    {
     "data": {
      "text/html": [
       "<table>\n",
       "<thead><tr><th scope=col>time_since_first_purchase</th><th scope=col>time_since_last_purchase</th></tr></thead>\n",
       "<tbody>\n",
       "\t<tr><td>-2.0</td><td>-1  </td></tr>\n",
       "\t<tr><td>-1.9</td><td>-1  </td></tr>\n",
       "\t<tr><td>-1.8</td><td>-1  </td></tr>\n",
       "\t<tr><td>-1.7</td><td>-1  </td></tr>\n",
       "\t<tr><td>-1.6</td><td>-1  </td></tr>\n",
       "\t<tr><td>-1.5</td><td>-1  </td></tr>\n",
       "\t<tr><td>-1.4</td><td>-1  </td></tr>\n",
       "\t<tr><td>-1.3</td><td>-1  </td></tr>\n",
       "\t<tr><td>-1.2</td><td>-1  </td></tr>\n",
       "\t<tr><td>-1.1</td><td>-1  </td></tr>\n",
       "\t<tr><td>-1.0</td><td>-1  </td></tr>\n",
       "\t<tr><td>-0.9</td><td>-1  </td></tr>\n",
       "\t<tr><td>-0.8</td><td>-1  </td></tr>\n",
       "\t<tr><td>-0.7</td><td>-1  </td></tr>\n",
       "\t<tr><td>-0.6</td><td>-1  </td></tr>\n",
       "\t<tr><td>-0.5</td><td>-1  </td></tr>\n",
       "\t<tr><td>-0.4</td><td>-1  </td></tr>\n",
       "\t<tr><td>-0.3</td><td>-1  </td></tr>\n",
       "\t<tr><td>-0.2</td><td>-1  </td></tr>\n",
       "\t<tr><td>-0.1</td><td>-1  </td></tr>\n",
       "\t<tr><td> 0.0</td><td>-1  </td></tr>\n",
       "\t<tr><td> 0.1</td><td>-1  </td></tr>\n",
       "\t<tr><td> 0.2</td><td>-1  </td></tr>\n",
       "\t<tr><td> 0.3</td><td>-1  </td></tr>\n",
       "\t<tr><td> 0.4</td><td>-1  </td></tr>\n",
       "\t<tr><td> 0.5</td><td>-1  </td></tr>\n",
       "\t<tr><td> 0.6</td><td>-1  </td></tr>\n",
       "\t<tr><td> 0.7</td><td>-1  </td></tr>\n",
       "\t<tr><td> 0.8</td><td>-1  </td></tr>\n",
       "\t<tr><td> 0.9</td><td>-1  </td></tr>\n",
       "\t<tr><td>...</td><td>...</td></tr>\n",
       "\t<tr><td>1.1</td><td>6  </td></tr>\n",
       "\t<tr><td>1.2</td><td>6  </td></tr>\n",
       "\t<tr><td>1.3</td><td>6  </td></tr>\n",
       "\t<tr><td>1.4</td><td>6  </td></tr>\n",
       "\t<tr><td>1.5</td><td>6  </td></tr>\n",
       "\t<tr><td>1.6</td><td>6  </td></tr>\n",
       "\t<tr><td>1.7</td><td>6  </td></tr>\n",
       "\t<tr><td>1.8</td><td>6  </td></tr>\n",
       "\t<tr><td>1.9</td><td>6  </td></tr>\n",
       "\t<tr><td>2.0</td><td>6  </td></tr>\n",
       "\t<tr><td>2.1</td><td>6  </td></tr>\n",
       "\t<tr><td>2.2</td><td>6  </td></tr>\n",
       "\t<tr><td>2.3</td><td>6  </td></tr>\n",
       "\t<tr><td>2.4</td><td>6  </td></tr>\n",
       "\t<tr><td>2.5</td><td>6  </td></tr>\n",
       "\t<tr><td>2.6</td><td>6  </td></tr>\n",
       "\t<tr><td>2.7</td><td>6  </td></tr>\n",
       "\t<tr><td>2.8</td><td>6  </td></tr>\n",
       "\t<tr><td>2.9</td><td>6  </td></tr>\n",
       "\t<tr><td>3.0</td><td>6  </td></tr>\n",
       "\t<tr><td>3.1</td><td>6  </td></tr>\n",
       "\t<tr><td>3.2</td><td>6  </td></tr>\n",
       "\t<tr><td>3.3</td><td>6  </td></tr>\n",
       "\t<tr><td>3.4</td><td>6  </td></tr>\n",
       "\t<tr><td>3.5</td><td>6  </td></tr>\n",
       "\t<tr><td>3.6</td><td>6  </td></tr>\n",
       "\t<tr><td>3.7</td><td>6  </td></tr>\n",
       "\t<tr><td>3.8</td><td>6  </td></tr>\n",
       "\t<tr><td>3.9</td><td>6  </td></tr>\n",
       "\t<tr><td>4.0</td><td>6  </td></tr>\n",
       "</tbody>\n",
       "</table>\n"
      ],
      "text/latex": [
       "\\begin{tabular}{r|ll}\n",
       " time\\_since\\_first\\_purchase & time\\_since\\_last\\_purchase\\\\\n",
       "\\hline\n",
       "\t -2.0 & -1  \\\\\n",
       "\t -1.9 & -1  \\\\\n",
       "\t -1.8 & -1  \\\\\n",
       "\t -1.7 & -1  \\\\\n",
       "\t -1.6 & -1  \\\\\n",
       "\t -1.5 & -1  \\\\\n",
       "\t -1.4 & -1  \\\\\n",
       "\t -1.3 & -1  \\\\\n",
       "\t -1.2 & -1  \\\\\n",
       "\t -1.1 & -1  \\\\\n",
       "\t -1.0 & -1  \\\\\n",
       "\t -0.9 & -1  \\\\\n",
       "\t -0.8 & -1  \\\\\n",
       "\t -0.7 & -1  \\\\\n",
       "\t -0.6 & -1  \\\\\n",
       "\t -0.5 & -1  \\\\\n",
       "\t -0.4 & -1  \\\\\n",
       "\t -0.3 & -1  \\\\\n",
       "\t -0.2 & -1  \\\\\n",
       "\t -0.1 & -1  \\\\\n",
       "\t  0.0 & -1  \\\\\n",
       "\t  0.1 & -1  \\\\\n",
       "\t  0.2 & -1  \\\\\n",
       "\t  0.3 & -1  \\\\\n",
       "\t  0.4 & -1  \\\\\n",
       "\t  0.5 & -1  \\\\\n",
       "\t  0.6 & -1  \\\\\n",
       "\t  0.7 & -1  \\\\\n",
       "\t  0.8 & -1  \\\\\n",
       "\t  0.9 & -1  \\\\\n",
       "\t ... & ...\\\\\n",
       "\t 1.1 & 6  \\\\\n",
       "\t 1.2 & 6  \\\\\n",
       "\t 1.3 & 6  \\\\\n",
       "\t 1.4 & 6  \\\\\n",
       "\t 1.5 & 6  \\\\\n",
       "\t 1.6 & 6  \\\\\n",
       "\t 1.7 & 6  \\\\\n",
       "\t 1.8 & 6  \\\\\n",
       "\t 1.9 & 6  \\\\\n",
       "\t 2.0 & 6  \\\\\n",
       "\t 2.1 & 6  \\\\\n",
       "\t 2.2 & 6  \\\\\n",
       "\t 2.3 & 6  \\\\\n",
       "\t 2.4 & 6  \\\\\n",
       "\t 2.5 & 6  \\\\\n",
       "\t 2.6 & 6  \\\\\n",
       "\t 2.7 & 6  \\\\\n",
       "\t 2.8 & 6  \\\\\n",
       "\t 2.9 & 6  \\\\\n",
       "\t 3.0 & 6  \\\\\n",
       "\t 3.1 & 6  \\\\\n",
       "\t 3.2 & 6  \\\\\n",
       "\t 3.3 & 6  \\\\\n",
       "\t 3.4 & 6  \\\\\n",
       "\t 3.5 & 6  \\\\\n",
       "\t 3.6 & 6  \\\\\n",
       "\t 3.7 & 6  \\\\\n",
       "\t 3.8 & 6  \\\\\n",
       "\t 3.9 & 6  \\\\\n",
       "\t 4.0 & 6  \\\\\n",
       "\\end{tabular}\n"
      ],
      "text/markdown": [
       "\n",
       "| time_since_first_purchase | time_since_last_purchase |\n",
       "|---|---|\n",
       "| -2.0 | -1   |\n",
       "| -1.9 | -1   |\n",
       "| -1.8 | -1   |\n",
       "| -1.7 | -1   |\n",
       "| -1.6 | -1   |\n",
       "| -1.5 | -1   |\n",
       "| -1.4 | -1   |\n",
       "| -1.3 | -1   |\n",
       "| -1.2 | -1   |\n",
       "| -1.1 | -1   |\n",
       "| -1.0 | -1   |\n",
       "| -0.9 | -1   |\n",
       "| -0.8 | -1   |\n",
       "| -0.7 | -1   |\n",
       "| -0.6 | -1   |\n",
       "| -0.5 | -1   |\n",
       "| -0.4 | -1   |\n",
       "| -0.3 | -1   |\n",
       "| -0.2 | -1   |\n",
       "| -0.1 | -1   |\n",
       "|  0.0 | -1   |\n",
       "|  0.1 | -1   |\n",
       "|  0.2 | -1   |\n",
       "|  0.3 | -1   |\n",
       "|  0.4 | -1   |\n",
       "|  0.5 | -1   |\n",
       "|  0.6 | -1   |\n",
       "|  0.7 | -1   |\n",
       "|  0.8 | -1   |\n",
       "|  0.9 | -1   |\n",
       "| ... | ... |\n",
       "| 1.1 | 6   |\n",
       "| 1.2 | 6   |\n",
       "| 1.3 | 6   |\n",
       "| 1.4 | 6   |\n",
       "| 1.5 | 6   |\n",
       "| 1.6 | 6   |\n",
       "| 1.7 | 6   |\n",
       "| 1.8 | 6   |\n",
       "| 1.9 | 6   |\n",
       "| 2.0 | 6   |\n",
       "| 2.1 | 6   |\n",
       "| 2.2 | 6   |\n",
       "| 2.3 | 6   |\n",
       "| 2.4 | 6   |\n",
       "| 2.5 | 6   |\n",
       "| 2.6 | 6   |\n",
       "| 2.7 | 6   |\n",
       "| 2.8 | 6   |\n",
       "| 2.9 | 6   |\n",
       "| 3.0 | 6   |\n",
       "| 3.1 | 6   |\n",
       "| 3.2 | 6   |\n",
       "| 3.3 | 6   |\n",
       "| 3.4 | 6   |\n",
       "| 3.5 | 6   |\n",
       "| 3.6 | 6   |\n",
       "| 3.7 | 6   |\n",
       "| 3.8 | 6   |\n",
       "| 3.9 | 6   |\n",
       "| 4.0 | 6   |\n",
       "\n"
      ],
      "text/plain": [
       "     time_since_first_purchase time_since_last_purchase\n",
       "1    -2.0                      -1                      \n",
       "2    -1.9                      -1                      \n",
       "3    -1.8                      -1                      \n",
       "4    -1.7                      -1                      \n",
       "5    -1.6                      -1                      \n",
       "6    -1.5                      -1                      \n",
       "7    -1.4                      -1                      \n",
       "8    -1.3                      -1                      \n",
       "9    -1.2                      -1                      \n",
       "10   -1.1                      -1                      \n",
       "11   -1.0                      -1                      \n",
       "12   -0.9                      -1                      \n",
       "13   -0.8                      -1                      \n",
       "14   -0.7                      -1                      \n",
       "15   -0.6                      -1                      \n",
       "16   -0.5                      -1                      \n",
       "17   -0.4                      -1                      \n",
       "18   -0.3                      -1                      \n",
       "19   -0.2                      -1                      \n",
       "20   -0.1                      -1                      \n",
       "21    0.0                      -1                      \n",
       "22    0.1                      -1                      \n",
       "23    0.2                      -1                      \n",
       "24    0.3                      -1                      \n",
       "25    0.4                      -1                      \n",
       "26    0.5                      -1                      \n",
       "27    0.6                      -1                      \n",
       "28    0.7                      -1                      \n",
       "29    0.8                      -1                      \n",
       "30    0.9                      -1                      \n",
       "...  ...                       ...                     \n",
       "4302 1.1                       6                       \n",
       "4303 1.2                       6                       \n",
       "4304 1.3                       6                       \n",
       "4305 1.4                       6                       \n",
       "4306 1.5                       6                       \n",
       "4307 1.6                       6                       \n",
       "4308 1.7                       6                       \n",
       "4309 1.8                       6                       \n",
       "4310 1.9                       6                       \n",
       "4311 2.0                       6                       \n",
       "4312 2.1                       6                       \n",
       "4313 2.2                       6                       \n",
       "4314 2.3                       6                       \n",
       "4315 2.4                       6                       \n",
       "4316 2.5                       6                       \n",
       "4317 2.6                       6                       \n",
       "4318 2.7                       6                       \n",
       "4319 2.8                       6                       \n",
       "4320 2.9                       6                       \n",
       "4321 3.0                       6                       \n",
       "4322 3.1                       6                       \n",
       "4323 3.2                       6                       \n",
       "4324 3.3                       6                       \n",
       "4325 3.4                       6                       \n",
       "4326 3.5                       6                       \n",
       "4327 3.6                       6                       \n",
       "4328 3.7                       6                       \n",
       "4329 3.8                       6                       \n",
       "4330 3.9                       6                       \n",
       "4331 4.0                       6                       "
      ]
     },
     "metadata": {},
     "output_type": "display_data"
    }
   ],
   "source": [
    "# Make a grid of explanatory data\n",
    "explanatory_data <- expandgrid(\n",
    "  # Set len. relationship to seq from -2 to 4 in steps of 0.1\n",
    "  time_since_first_purchase = seq(-2, 4, 0.1),\n",
    "  # Set recency to seq from -1 to 6 in steps of 0.1\n",
    "  time_since_last_purchase = seq(-1, 6, 0.1),\n",
    ")\n",
    "\n",
    "# See the result\n",
    "explanatory_data"
   ]
  },
  {
   "cell_type": "code",
   "execution_count": 5,
   "metadata": {},
   "outputs": [
    {
     "data": {
      "text/html": [
       "<table>\n",
       "<thead><tr><th scope=col>time_since_first_purchase</th><th scope=col>time_since_last_purchase</th><th scope=col>has_churned</th></tr></thead>\n",
       "<tbody>\n",
       "\t<tr><td>-2.0     </td><td>-1       </td><td>0.7162561</td></tr>\n",
       "\t<tr><td>-1.9     </td><td>-1       </td><td>0.7007719</td></tr>\n",
       "\t<tr><td>-1.8     </td><td>-1       </td><td>0.6848146</td></tr>\n",
       "\t<tr><td>-1.7     </td><td>-1       </td><td>0.6684090</td></tr>\n",
       "\t<tr><td>-1.6     </td><td>-1       </td><td>0.6515839</td></tr>\n",
       "\t<tr><td>-1.5     </td><td>-1       </td><td>0.6343721</td></tr>\n",
       "\t<tr><td>-1.4     </td><td>-1       </td><td>0.6168101</td></tr>\n",
       "\t<tr><td>-1.3     </td><td>-1       </td><td>0.5989378</td></tr>\n",
       "\t<tr><td>-1.2     </td><td>-1       </td><td>0.5807985</td></tr>\n",
       "\t<tr><td>-1.1     </td><td>-1       </td><td>0.5624381</td></tr>\n",
       "\t<tr><td>-1.0     </td><td>-1       </td><td>0.5439051</td></tr>\n",
       "\t<tr><td>-0.9     </td><td>-1       </td><td>0.5252497</td></tr>\n",
       "\t<tr><td>-0.8     </td><td>-1       </td><td>0.5065235</td></tr>\n",
       "\t<tr><td>-0.7     </td><td>-1       </td><td>0.4877790</td></tr>\n",
       "\t<tr><td>-0.6     </td><td>-1       </td><td>0.4690688</td></tr>\n",
       "\t<tr><td>-0.5     </td><td>-1       </td><td>0.4504452</td></tr>\n",
       "\t<tr><td>-0.4     </td><td>-1       </td><td>0.4319594</td></tr>\n",
       "\t<tr><td>-0.3     </td><td>-1       </td><td>0.4136613</td></tr>\n",
       "\t<tr><td>-0.2     </td><td>-1       </td><td>0.3955984</td></tr>\n",
       "\t<tr><td>-0.1     </td><td>-1       </td><td>0.3778160</td></tr>\n",
       "\t<tr><td> 0.0     </td><td>-1       </td><td>0.3603564</td></tr>\n",
       "\t<tr><td> 0.1     </td><td>-1       </td><td>0.3432584</td></tr>\n",
       "\t<tr><td> 0.2     </td><td>-1       </td><td>0.3265576</td></tr>\n",
       "\t<tr><td> 0.3     </td><td>-1       </td><td>0.3102854</td></tr>\n",
       "\t<tr><td> 0.4     </td><td>-1       </td><td>0.2944695</td></tr>\n",
       "\t<tr><td> 0.5     </td><td>-1       </td><td>0.2791335</td></tr>\n",
       "\t<tr><td> 0.6     </td><td>-1       </td><td>0.2642971</td></tr>\n",
       "\t<tr><td> 0.7     </td><td>-1       </td><td>0.2499757</td></tr>\n",
       "\t<tr><td> 0.8     </td><td>-1       </td><td>0.2361812</td></tr>\n",
       "\t<tr><td> 0.9     </td><td>-1       </td><td>0.2229218</td></tr>\n",
       "\t<tr><td>...</td><td>...</td><td>...</td></tr>\n",
       "\t<tr><td>1.1      </td><td>6        </td><td>0.9189834</td></tr>\n",
       "\t<tr><td>1.2      </td><td>6        </td><td>0.9192500</td></tr>\n",
       "\t<tr><td>1.3      </td><td>6        </td><td>0.9195158</td></tr>\n",
       "\t<tr><td>1.4      </td><td>6        </td><td>0.9197808</td></tr>\n",
       "\t<tr><td>1.5      </td><td>6        </td><td>0.9200449</td></tr>\n",
       "\t<tr><td>1.6      </td><td>6        </td><td>0.9203083</td></tr>\n",
       "\t<tr><td>1.7      </td><td>6        </td><td>0.9205709</td></tr>\n",
       "\t<tr><td>1.8      </td><td>6        </td><td>0.9208327</td></tr>\n",
       "\t<tr><td>1.9      </td><td>6        </td><td>0.9210938</td></tr>\n",
       "\t<tr><td>2.0      </td><td>6        </td><td>0.9213540</td></tr>\n",
       "\t<tr><td>2.1      </td><td>6        </td><td>0.9216134</td></tr>\n",
       "\t<tr><td>2.2      </td><td>6        </td><td>0.9218721</td></tr>\n",
       "\t<tr><td>2.3      </td><td>6        </td><td>0.9221300</td></tr>\n",
       "\t<tr><td>2.4      </td><td>6        </td><td>0.9223871</td></tr>\n",
       "\t<tr><td>2.5      </td><td>6        </td><td>0.9226434</td></tr>\n",
       "\t<tr><td>2.6      </td><td>6        </td><td>0.9228990</td></tr>\n",
       "\t<tr><td>2.7      </td><td>6        </td><td>0.9231537</td></tr>\n",
       "\t<tr><td>2.8      </td><td>6        </td><td>0.9234077</td></tr>\n",
       "\t<tr><td>2.9      </td><td>6        </td><td>0.9236610</td></tr>\n",
       "\t<tr><td>3.0      </td><td>6        </td><td>0.9239134</td></tr>\n",
       "\t<tr><td>3.1      </td><td>6        </td><td>0.9241651</td></tr>\n",
       "\t<tr><td>3.2      </td><td>6        </td><td>0.9244161</td></tr>\n",
       "\t<tr><td>3.3      </td><td>6        </td><td>0.9246662</td></tr>\n",
       "\t<tr><td>3.4      </td><td>6        </td><td>0.9249156</td></tr>\n",
       "\t<tr><td>3.5      </td><td>6        </td><td>0.9251643</td></tr>\n",
       "\t<tr><td>3.6      </td><td>6        </td><td>0.9254122</td></tr>\n",
       "\t<tr><td>3.7      </td><td>6        </td><td>0.9256593</td></tr>\n",
       "\t<tr><td>3.8      </td><td>6        </td><td>0.9259057</td></tr>\n",
       "\t<tr><td>3.9      </td><td>6        </td><td>0.9261513</td></tr>\n",
       "\t<tr><td>4.0      </td><td>6        </td><td>0.9263962</td></tr>\n",
       "</tbody>\n",
       "</table>\n"
      ],
      "text/latex": [
       "\\begin{tabular}{r|lll}\n",
       " time\\_since\\_first\\_purchase & time\\_since\\_last\\_purchase & has\\_churned\\\\\n",
       "\\hline\n",
       "\t -2.0      & -1        & 0.7162561\\\\\n",
       "\t -1.9      & -1        & 0.7007719\\\\\n",
       "\t -1.8      & -1        & 0.6848146\\\\\n",
       "\t -1.7      & -1        & 0.6684090\\\\\n",
       "\t -1.6      & -1        & 0.6515839\\\\\n",
       "\t -1.5      & -1        & 0.6343721\\\\\n",
       "\t -1.4      & -1        & 0.6168101\\\\\n",
       "\t -1.3      & -1        & 0.5989378\\\\\n",
       "\t -1.2      & -1        & 0.5807985\\\\\n",
       "\t -1.1      & -1        & 0.5624381\\\\\n",
       "\t -1.0      & -1        & 0.5439051\\\\\n",
       "\t -0.9      & -1        & 0.5252497\\\\\n",
       "\t -0.8      & -1        & 0.5065235\\\\\n",
       "\t -0.7      & -1        & 0.4877790\\\\\n",
       "\t -0.6      & -1        & 0.4690688\\\\\n",
       "\t -0.5      & -1        & 0.4504452\\\\\n",
       "\t -0.4      & -1        & 0.4319594\\\\\n",
       "\t -0.3      & -1        & 0.4136613\\\\\n",
       "\t -0.2      & -1        & 0.3955984\\\\\n",
       "\t -0.1      & -1        & 0.3778160\\\\\n",
       "\t  0.0      & -1        & 0.3603564\\\\\n",
       "\t  0.1      & -1        & 0.3432584\\\\\n",
       "\t  0.2      & -1        & 0.3265576\\\\\n",
       "\t  0.3      & -1        & 0.3102854\\\\\n",
       "\t  0.4      & -1        & 0.2944695\\\\\n",
       "\t  0.5      & -1        & 0.2791335\\\\\n",
       "\t  0.6      & -1        & 0.2642971\\\\\n",
       "\t  0.7      & -1        & 0.2499757\\\\\n",
       "\t  0.8      & -1        & 0.2361812\\\\\n",
       "\t  0.9      & -1        & 0.2229218\\\\\n",
       "\t ... & ... & ...\\\\\n",
       "\t 1.1       & 6         & 0.9189834\\\\\n",
       "\t 1.2       & 6         & 0.9192500\\\\\n",
       "\t 1.3       & 6         & 0.9195158\\\\\n",
       "\t 1.4       & 6         & 0.9197808\\\\\n",
       "\t 1.5       & 6         & 0.9200449\\\\\n",
       "\t 1.6       & 6         & 0.9203083\\\\\n",
       "\t 1.7       & 6         & 0.9205709\\\\\n",
       "\t 1.8       & 6         & 0.9208327\\\\\n",
       "\t 1.9       & 6         & 0.9210938\\\\\n",
       "\t 2.0       & 6         & 0.9213540\\\\\n",
       "\t 2.1       & 6         & 0.9216134\\\\\n",
       "\t 2.2       & 6         & 0.9218721\\\\\n",
       "\t 2.3       & 6         & 0.9221300\\\\\n",
       "\t 2.4       & 6         & 0.9223871\\\\\n",
       "\t 2.5       & 6         & 0.9226434\\\\\n",
       "\t 2.6       & 6         & 0.9228990\\\\\n",
       "\t 2.7       & 6         & 0.9231537\\\\\n",
       "\t 2.8       & 6         & 0.9234077\\\\\n",
       "\t 2.9       & 6         & 0.9236610\\\\\n",
       "\t 3.0       & 6         & 0.9239134\\\\\n",
       "\t 3.1       & 6         & 0.9241651\\\\\n",
       "\t 3.2       & 6         & 0.9244161\\\\\n",
       "\t 3.3       & 6         & 0.9246662\\\\\n",
       "\t 3.4       & 6         & 0.9249156\\\\\n",
       "\t 3.5       & 6         & 0.9251643\\\\\n",
       "\t 3.6       & 6         & 0.9254122\\\\\n",
       "\t 3.7       & 6         & 0.9256593\\\\\n",
       "\t 3.8       & 6         & 0.9259057\\\\\n",
       "\t 3.9       & 6         & 0.9261513\\\\\n",
       "\t 4.0       & 6         & 0.9263962\\\\\n",
       "\\end{tabular}\n"
      ],
      "text/markdown": [
       "\n",
       "| time_since_first_purchase | time_since_last_purchase | has_churned |\n",
       "|---|---|---|\n",
       "| -2.0      | -1        | 0.7162561 |\n",
       "| -1.9      | -1        | 0.7007719 |\n",
       "| -1.8      | -1        | 0.6848146 |\n",
       "| -1.7      | -1        | 0.6684090 |\n",
       "| -1.6      | -1        | 0.6515839 |\n",
       "| -1.5      | -1        | 0.6343721 |\n",
       "| -1.4      | -1        | 0.6168101 |\n",
       "| -1.3      | -1        | 0.5989378 |\n",
       "| -1.2      | -1        | 0.5807985 |\n",
       "| -1.1      | -1        | 0.5624381 |\n",
       "| -1.0      | -1        | 0.5439051 |\n",
       "| -0.9      | -1        | 0.5252497 |\n",
       "| -0.8      | -1        | 0.5065235 |\n",
       "| -0.7      | -1        | 0.4877790 |\n",
       "| -0.6      | -1        | 0.4690688 |\n",
       "| -0.5      | -1        | 0.4504452 |\n",
       "| -0.4      | -1        | 0.4319594 |\n",
       "| -0.3      | -1        | 0.4136613 |\n",
       "| -0.2      | -1        | 0.3955984 |\n",
       "| -0.1      | -1        | 0.3778160 |\n",
       "|  0.0      | -1        | 0.3603564 |\n",
       "|  0.1      | -1        | 0.3432584 |\n",
       "|  0.2      | -1        | 0.3265576 |\n",
       "|  0.3      | -1        | 0.3102854 |\n",
       "|  0.4      | -1        | 0.2944695 |\n",
       "|  0.5      | -1        | 0.2791335 |\n",
       "|  0.6      | -1        | 0.2642971 |\n",
       "|  0.7      | -1        | 0.2499757 |\n",
       "|  0.8      | -1        | 0.2361812 |\n",
       "|  0.9      | -1        | 0.2229218 |\n",
       "| ... | ... | ... |\n",
       "| 1.1       | 6         | 0.9189834 |\n",
       "| 1.2       | 6         | 0.9192500 |\n",
       "| 1.3       | 6         | 0.9195158 |\n",
       "| 1.4       | 6         | 0.9197808 |\n",
       "| 1.5       | 6         | 0.9200449 |\n",
       "| 1.6       | 6         | 0.9203083 |\n",
       "| 1.7       | 6         | 0.9205709 |\n",
       "| 1.8       | 6         | 0.9208327 |\n",
       "| 1.9       | 6         | 0.9210938 |\n",
       "| 2.0       | 6         | 0.9213540 |\n",
       "| 2.1       | 6         | 0.9216134 |\n",
       "| 2.2       | 6         | 0.9218721 |\n",
       "| 2.3       | 6         | 0.9221300 |\n",
       "| 2.4       | 6         | 0.9223871 |\n",
       "| 2.5       | 6         | 0.9226434 |\n",
       "| 2.6       | 6         | 0.9228990 |\n",
       "| 2.7       | 6         | 0.9231537 |\n",
       "| 2.8       | 6         | 0.9234077 |\n",
       "| 2.9       | 6         | 0.9236610 |\n",
       "| 3.0       | 6         | 0.9239134 |\n",
       "| 3.1       | 6         | 0.9241651 |\n",
       "| 3.2       | 6         | 0.9244161 |\n",
       "| 3.3       | 6         | 0.9246662 |\n",
       "| 3.4       | 6         | 0.9249156 |\n",
       "| 3.5       | 6         | 0.9251643 |\n",
       "| 3.6       | 6         | 0.9254122 |\n",
       "| 3.7       | 6         | 0.9256593 |\n",
       "| 3.8       | 6         | 0.9259057 |\n",
       "| 3.9       | 6         | 0.9261513 |\n",
       "| 4.0       | 6         | 0.9263962 |\n",
       "\n"
      ],
      "text/plain": [
       "     time_since_first_purchase time_since_last_purchase has_churned\n",
       "1    -2.0                      -1                       0.7162561  \n",
       "2    -1.9                      -1                       0.7007719  \n",
       "3    -1.8                      -1                       0.6848146  \n",
       "4    -1.7                      -1                       0.6684090  \n",
       "5    -1.6                      -1                       0.6515839  \n",
       "6    -1.5                      -1                       0.6343721  \n",
       "7    -1.4                      -1                       0.6168101  \n",
       "8    -1.3                      -1                       0.5989378  \n",
       "9    -1.2                      -1                       0.5807985  \n",
       "10   -1.1                      -1                       0.5624381  \n",
       "11   -1.0                      -1                       0.5439051  \n",
       "12   -0.9                      -1                       0.5252497  \n",
       "13   -0.8                      -1                       0.5065235  \n",
       "14   -0.7                      -1                       0.4877790  \n",
       "15   -0.6                      -1                       0.4690688  \n",
       "16   -0.5                      -1                       0.4504452  \n",
       "17   -0.4                      -1                       0.4319594  \n",
       "18   -0.3                      -1                       0.4136613  \n",
       "19   -0.2                      -1                       0.3955984  \n",
       "20   -0.1                      -1                       0.3778160  \n",
       "21    0.0                      -1                       0.3603564  \n",
       "22    0.1                      -1                       0.3432584  \n",
       "23    0.2                      -1                       0.3265576  \n",
       "24    0.3                      -1                       0.3102854  \n",
       "25    0.4                      -1                       0.2944695  \n",
       "26    0.5                      -1                       0.2791335  \n",
       "27    0.6                      -1                       0.2642971  \n",
       "28    0.7                      -1                       0.2499757  \n",
       "29    0.8                      -1                       0.2361812  \n",
       "30    0.9                      -1                       0.2229218  \n",
       "...  ...                       ...                      ...        \n",
       "4302 1.1                       6                        0.9189834  \n",
       "4303 1.2                       6                        0.9192500  \n",
       "4304 1.3                       6                        0.9195158  \n",
       "4305 1.4                       6                        0.9197808  \n",
       "4306 1.5                       6                        0.9200449  \n",
       "4307 1.6                       6                        0.9203083  \n",
       "4308 1.7                       6                        0.9205709  \n",
       "4309 1.8                       6                        0.9208327  \n",
       "4310 1.9                       6                        0.9210938  \n",
       "4311 2.0                       6                        0.9213540  \n",
       "4312 2.1                       6                        0.9216134  \n",
       "4313 2.2                       6                        0.9218721  \n",
       "4314 2.3                       6                        0.9221300  \n",
       "4315 2.4                       6                        0.9223871  \n",
       "4316 2.5                       6                        0.9226434  \n",
       "4317 2.6                       6                        0.9228990  \n",
       "4318 2.7                       6                        0.9231537  \n",
       "4319 2.8                       6                        0.9234077  \n",
       "4320 2.9                       6                        0.9236610  \n",
       "4321 3.0                       6                        0.9239134  \n",
       "4322 3.1                       6                        0.9241651  \n",
       "4323 3.2                       6                        0.9244161  \n",
       "4324 3.3                       6                        0.9246662  \n",
       "4325 3.4                       6                        0.9249156  \n",
       "4326 3.5                       6                        0.9251643  \n",
       "4327 3.6                       6                        0.9254122  \n",
       "4328 3.7                       6                        0.9256593  \n",
       "4329 3.8                       6                        0.9259057  \n",
       "4330 3.9                       6                        0.9261513  \n",
       "4331 4.0                       6                        0.9263962  "
      ]
     },
     "metadata": {},
     "output_type": "display_data"
    }
   ],
   "source": [
    "# Add a column of predictions using mdl_churn_vs_both_inter\n",
    "# and explanatory_data with type response\n",
    "prediction_data <-  explanatory_data %>% \n",
    "  mutate(has_churned = predict(mdl_churn_vs_both_inter, explanatory_data, type = \"response\"))\n",
    "\n",
    "# See the result\n",
    "prediction_data"
   ]
  },
  {
   "cell_type": "code",
   "execution_count": 9,
   "metadata": {},
   "outputs": [
    {
     "data": {
      "image/png": "[encoded data removed]",
      "text/plain": [
       "plot without title"
      ]
     },
     "metadata": {},
     "output_type": "display_data"
    }
   ],
   "source": [
    "# Extend the plot\n",
    "ggplot(\n",
    "  churn, \n",
    "  aes(time_since_first_purchase, time_since_last_purchase, color = has_churned)\n",
    ") +\n",
    "  geom_point(alpha = 0.5) +\n",
    "  scale_color_gradient2(midpoint = 0.5) +\n",
    "  theme_bw() +\n",
    "  # Add points from prediction_data with size 3 and shape 15\n",
    "   geom_point(data = prediction_data, size = 3, shape = 15)"
   ]
  },
  {
   "cell_type": "markdown",
   "metadata": {},
   "source": [
    "### Confusion matrix\n",
    "When the response variable has just two outcomes, like the case of churn, the measures of success for the model are \"how many cases where the customer churned did the model correctly predict?\" and \"how many cases where the customer didn't churn did the model correctly predict?\". These can be found by generating a confusion matrix and calculating summary metrics on it. A mosaic plot is the natural way to visualize the results."
   ]
  },
  {
   "cell_type": "code",
   "execution_count": 10,
   "metadata": {},
   "outputs": [
    {
     "name": "stderr",
     "output_type": "stream",
     "text": [
      "Warning message:\n",
      "\"package 'yardstick' was built under R version 3.6.3\"For binary classification, the first factor level is assumed to be the event.\n",
      "Use the argument `event_level = \"second\"` to alter this as needed.\n"
     ]
    },
    {
     "data": {
      "text/plain": [
       "                  actual_response\n",
       "predicted_response   0   1\n",
       "                 0 102  53\n",
       "                 1  98 147"
      ]
     },
     "metadata": {},
     "output_type": "display_data"
    }
   ],
   "source": [
    "library(yardstick)\n",
    "\n",
    "# Get the actual responses from churn\n",
    "actual_response <- churn$has_churned\n",
    "\n",
    "# Get the predicted responses from the model\n",
    "predicted_response <- round(fitted(mdl_churn_vs_both_inter))\n",
    "\n",
    "# Get a table of these values\n",
    "outcomes <- table(predicted_response, actual_response)\n",
    "\n",
    "# Convert the table to a conf_mat object\n",
    "confusion <- conf_mat(outcomes)\n",
    "\n",
    "# See the result\n",
    "confusion"
   ]
  },
  {
   "cell_type": "code",
   "execution_count": 11,
   "metadata": {},
   "outputs": [
    {
     "data": {
      "text/html": [
       "<table>\n",
       "<thead><tr><th scope=col>.metric</th><th scope=col>.estimator</th><th scope=col>.estimate</th></tr></thead>\n",
       "<tbody>\n",
       "\t<tr><td>accuracy            </td><td>binary              </td><td>0.6225000           </td></tr>\n",
       "\t<tr><td>kap                 </td><td>binary              </td><td>0.2450000           </td></tr>\n",
       "\t<tr><td>sens                </td><td>binary              </td><td>0.7350000           </td></tr>\n",
       "\t<tr><td>spec                </td><td>binary              </td><td>0.5100000           </td></tr>\n",
       "\t<tr><td>ppv                 </td><td>binary              </td><td>0.6000000           </td></tr>\n",
       "\t<tr><td>npv                 </td><td>binary              </td><td>0.6580645           </td></tr>\n",
       "\t<tr><td>mcc                 </td><td>binary              </td><td>0.2514474           </td></tr>\n",
       "\t<tr><td>j_index             </td><td>binary              </td><td>0.2450000           </td></tr>\n",
       "\t<tr><td>bal_accuracy        </td><td>binary              </td><td>0.6225000           </td></tr>\n",
       "\t<tr><td>detection_prevalence</td><td>binary              </td><td>0.6125000           </td></tr>\n",
       "\t<tr><td>precision           </td><td>binary              </td><td>0.6000000           </td></tr>\n",
       "\t<tr><td>recall              </td><td>binary              </td><td>0.7350000           </td></tr>\n",
       "\t<tr><td>f_meas              </td><td>binary              </td><td>0.6606742           </td></tr>\n",
       "</tbody>\n",
       "</table>\n"
      ],
      "text/latex": [
       "\\begin{tabular}{r|lll}\n",
       " .metric & .estimator & .estimate\\\\\n",
       "\\hline\n",
       "\t accuracy             & binary               & 0.6225000           \\\\\n",
       "\t kap                  & binary               & 0.2450000           \\\\\n",
       "\t sens                 & binary               & 0.7350000           \\\\\n",
       "\t spec                 & binary               & 0.5100000           \\\\\n",
       "\t ppv                  & binary               & 0.6000000           \\\\\n",
       "\t npv                  & binary               & 0.6580645           \\\\\n",
       "\t mcc                  & binary               & 0.2514474           \\\\\n",
       "\t j\\_index              & binary                 & 0.2450000             \\\\\n",
       "\t bal\\_accuracy         & binary                 & 0.6225000             \\\\\n",
       "\t detection\\_prevalence & binary                 & 0.6125000             \\\\\n",
       "\t precision            & binary               & 0.6000000           \\\\\n",
       "\t recall               & binary               & 0.7350000           \\\\\n",
       "\t f\\_meas               & binary                 & 0.6606742             \\\\\n",
       "\\end{tabular}\n"
      ],
      "text/markdown": [
       "\n",
       "| .metric | .estimator | .estimate |\n",
       "|---|---|---|\n",
       "| accuracy             | binary               | 0.6225000            |\n",
       "| kap                  | binary               | 0.2450000            |\n",
       "| sens                 | binary               | 0.7350000            |\n",
       "| spec                 | binary               | 0.5100000            |\n",
       "| ppv                  | binary               | 0.6000000            |\n",
       "| npv                  | binary               | 0.6580645            |\n",
       "| mcc                  | binary               | 0.2514474            |\n",
       "| j_index              | binary               | 0.2450000            |\n",
       "| bal_accuracy         | binary               | 0.6225000            |\n",
       "| detection_prevalence | binary               | 0.6125000            |\n",
       "| precision            | binary               | 0.6000000            |\n",
       "| recall               | binary               | 0.7350000            |\n",
       "| f_meas               | binary               | 0.6606742            |\n",
       "\n"
      ],
      "text/plain": [
       "   .metric              .estimator .estimate\n",
       "1  accuracy             binary     0.6225000\n",
       "2  kap                  binary     0.2450000\n",
       "3  sens                 binary     0.7350000\n",
       "4  spec                 binary     0.5100000\n",
       "5  ppv                  binary     0.6000000\n",
       "6  npv                  binary     0.6580645\n",
       "7  mcc                  binary     0.2514474\n",
       "8  j_index              binary     0.2450000\n",
       "9  bal_accuracy         binary     0.6225000\n",
       "10 detection_prevalence binary     0.6125000\n",
       "11 precision            binary     0.6000000\n",
       "12 recall               binary     0.7350000\n",
       "13 f_meas               binary     0.6606742"
      ]
     },
     "metadata": {},
     "output_type": "display_data"
    },
    {
     "data": {
      "image/png": "[encoded data removed]",
      "text/plain": [
       "plot without title"
      ]
     },
     "metadata": {},
     "output_type": "display_data"
    }
   ],
   "source": [
    "# \"Automatically\" plot the confusion matrix\n",
    "autoplot(confusion)\n",
    "\n",
    "# Get summary metrics\n",
    "summary(confusion, event_level = \"second\")"
   ]
  },
  {
   "cell_type": "markdown",
   "metadata": {},
   "source": [
    "### Cumulative distribution function\n",
    "Understanding the logistic distribution is key to understanding logistic regression. Like the normal (Gaussian) distribution, it is a probability distribution of a single continuous variable. Here you'll visualize the cumulative distribution function (CDF) for the logistic distribution. That is, if you have a logistically distributed variable, x, and a possible value, xval, that x could take, then the CDF gives the probability that x is less than xval.\n",
    "\n",
    "The logistic distribution's CDF is calculated with the logistic function (hence the name). The plot of this has an S-shape, known as a sigmoid curve. An important property of this function is that it takes an input that can be any number from minus infinity to infinity, and returns a value between zero and one."
   ]
  },
  {
   "cell_type": "code",
   "execution_count": 13,
   "metadata": {},
   "outputs": [
    {
     "data": {
      "text/html": [
       "TRUE"
      ],
      "text/latex": [
       "TRUE"
      ],
      "text/markdown": [
       "TRUE"
      ],
      "text/plain": [
       "[1] TRUE"
      ]
     },
     "metadata": {},
     "output_type": "display_data"
    }
   ],
   "source": [
    "logistic_distn_cdf <- tibble(\n",
    "  # Make a seq from -10 to 10 in steps of 0.1\n",
    "  x = seq(-10,10, 0.1),\n",
    "  # Transform x with built-in logistic CDF\n",
    "  logistic_x = plogis(x),\n",
    "  # Transform x with manual logistic\n",
    "  logistic_x_man = 1/(1+ exp(-x))\n",
    ") \n",
    "\n",
    "# Check that each logistic function gives the same results\n",
    "all.equal(\n",
    "  logistic_distn_cdf$logistic_x, \n",
    "  logistic_distn_cdf$logistic_x_man\n",
    ")"
   ]
  },
  {
   "cell_type": "code",
   "execution_count": 15,
   "metadata": {},
   "outputs": [
    {
     "data": {
      "image/png": "[encoded data removed]",
      "text/plain": [
       "plot without title"
      ]
     },
     "metadata": {},
     "output_type": "display_data"
    }
   ],
   "source": [
    "# Using logistic_distn_cdf, plot logistic_x vs. x\n",
    "ggplot(logistic_distn_cdf, aes(x = x, y = logistic_x )) +\n",
    "  # Make it a line plot\n",
    "  geom_line()"
   ]
  },
  {
   "cell_type": "markdown",
   "metadata": {},
   "source": [
    "### Inverse cumulative distribution function\n",
    "The logistic function (logistic distribution CDF) has another important property: each x input value is transformed to a unique value. That means that the transformation can be reversed. The logit function is the name for the inverse logistic function, which is also the logistic distribution inverse cumulative distribution function. (All three terms mean exactly the same thing.)\n",
    "\n",
    "The logit function takes values between zero and one, and returns values between minus infinity and infinity."
   ]
  },
  {
   "cell_type": "code",
   "execution_count": 16,
   "metadata": {},
   "outputs": [
    {
     "data": {
      "text/html": [
       "TRUE"
      ],
      "text/latex": [
       "TRUE"
      ],
      "text/markdown": [
       "TRUE"
      ],
      "text/plain": [
       "[1] TRUE"
      ]
     },
     "metadata": {},
     "output_type": "display_data"
    }
   ],
   "source": [
    "logistic_distn_inv_cdf <- tibble(\n",
    "  # Make a seq from 0.001 to 0.999 in steps of 0.001\n",
    "  p = seq(0.001, 0.999, 0.001),\n",
    "  # Transform with built-in logistic inverse CDF\n",
    "  logit_p = qlogis(p),\n",
    "  # Transform with manual logit\n",
    "  logit_p_man = log(p/(1-p))\n",
    ") \n",
    "\n",
    "# Check that each logistic function gives the same results\n",
    "all.equal(\n",
    "  logistic_distn_inv_cdf$logit_p,\n",
    "  logistic_distn_inv_cdf$logit_p_man\n",
    ")"
   ]
  },
  {
   "cell_type": "code",
   "execution_count": 19,
   "metadata": {},
   "outputs": [
    {
     "data": {
      "image/png": "[encoded data removed]",
      "text/plain": [
       "plot without title"
      ]
     },
     "metadata": {},
     "output_type": "display_data"
    }
   ],
   "source": [
    "# Using logistic_distn_inv_cdf, plot logit_p vs. p\n",
    "ggplot(logistic_distn_inv_cdf, aes(x = p, y = logit_p )) +\n",
    "  # Make it a line plot\n",
    "  geom_line()\n",
    "\n",
    "# The inverse CDF is the “opposite” transformation to the CDF. If you flip the x and y axes on this plot, \n",
    "# you get the same plot you saw in the previous exercise."
   ]
  },
  {
   "cell_type": "markdown",
   "metadata": {},
   "source": [
    "### binomial family argument\n",
    "The big difference between running a linear regression with lm() and running a logistic regression with glm() is that you have to set glm()'s family argument to binomial. binomial() is a function that returns a list of other functions that tell glm() how to perform calculations in the regression. The two most interesting functions are linkinv and linkfun, which are used for transforming variables from the whole number line (minus infinity to infinity) to probabilities (zero to one) and back again."
   ]
  },
  {
   "cell_type": "code",
   "execution_count": 21,
   "metadata": {},
   "outputs": [
    {
     "name": "stdout",
     "output_type": "stream",
     "text": [
      "List of 12\n",
      " $ family    : chr \"binomial\"\n",
      " $ link      : chr \"logit\"\n",
      " $ linkfun   :function (mu)  \n",
      " $ linkinv   :function (eta)  \n",
      " $ variance  :function (mu)  \n",
      " $ dev.resids:function (y, mu, wt)  \n",
      " $ aic       :function (y, n, mu, wt, dev)  \n",
      " $ mu.eta    :function (eta)  \n",
      " $ initialize:  expression({  if (NCOL(y) == 1) {  if (is.factor(y))  y <- y != levels(y)[1L]  n <- rep.int(1, nobs)  y[weights =| __truncated__\n",
      " $ validmu   :function (mu)  \n",
      " $ valideta  :function (eta)  \n",
      " $ simulate  :function (object, nsim)  \n",
      " - attr(*, \"class\")= chr \"family\"\n"
     ]
    },
    {
     "data": {
      "text/html": [
       "TRUE"
      ],
      "text/latex": [
       "TRUE"
      ],
      "text/markdown": [
       "TRUE"
      ],
      "text/plain": [
       "[1] TRUE"
      ]
     },
     "metadata": {},
     "output_type": "display_data"
    },
    {
     "data": {
      "text/html": [
       "TRUE"
      ],
      "text/latex": [
       "TRUE"
      ],
      "text/markdown": [
       "TRUE"
      ],
      "text/plain": [
       "[1] TRUE"
      ]
     },
     "metadata": {},
     "output_type": "display_data"
    }
   ],
   "source": [
    "x = seq(-10,10, 0.1)\n",
    "p = seq(0.001, 0.999, 0.001)\n",
    "\n",
    "# Look at the structure of binomial() function\n",
    "str(binomial())\n",
    "\n",
    "# Call the link inverse on x\n",
    "linkinv_x <- binomial()$linkinv(x)\n",
    "\n",
    "# Check linkinv_x and plogis() of x give same results \n",
    "all.equal(linkinv_x, plogis(x))\n",
    "\n",
    "# Call the link fun on p\n",
    "linkfun_p <- binomial()$linkfun(p)\n",
    "\n",
    "# Check linkfun_p and qlogis() of p give same results  \n",
    "all.equal(linkfun_p, qlogis(p))"
   ]
  },
  {
   "cell_type": "markdown",
   "metadata": {},
   "source": [
    "### Logistic regression algorithm\n",
    "Let's dig into the internals and implement a logistic regression algorithm. Since R's glm() function is very complex, you'll stick to implementing simple logistic regression for a single dataset.\n",
    "\n",
    "Rather than using sum of squares as the metric, we want to use likelihood. However, log-likelihood is more computationally stable, so we'll use that instead. Actually, there is one more change: since we want to maximize log-likelihood, but optim() defaults to finding minimum values, it is easier to calculate the negative log-likelihood.\n",
    "\n",
    "The log-likelihood value for each observation is\n",
    "\n",
    "log(y_pred) * y_actual + log(1-y_pred) * (1- y_actual)\n",
    "\n",
    "The metric to calculate is minus the sum of these log-likelihood contributions."
   ]
  },
  {
   "cell_type": "code",
   "execution_count": 22,
   "metadata": {},
   "outputs": [
    {
     "data": {
      "text/html": [
       "326.259901445075"
      ],
      "text/latex": [
       "326.259901445075"
      ],
      "text/markdown": [
       "326.259901445075"
      ],
      "text/plain": [
       "[1] 326.2599"
      ]
     },
     "metadata": {},
     "output_type": "display_data"
    }
   ],
   "source": [
    "x_actual = churn$time_since_last_purchase\n",
    "y_actual = churn$has_churned\n",
    "\n",
    "# Set the intercept to 1\n",
    "intercept <- 1\n",
    "\n",
    "# Set the slope to 0.5\n",
    "slope <- 0.5\n",
    "\n",
    "# Calculate the predicted y values\n",
    "y_pred <- plogis(intercept + slope * x_actual)\n",
    "\n",
    "# Calculate the log-likelihood for each term\n",
    "log_likelihoods <- log(y_pred) * y_actual + log(1- y_pred)*(1-y_actual)\n",
    "\n",
    "# Calculate minus the sum of the log-likelihoods for each term\n",
    "-sum(log_likelihoods)"
   ]
  },
  {
   "cell_type": "code",
   "execution_count": 23,
   "metadata": {},
   "outputs": [],
   "source": [
    "calc_neg_log_likelihood <- function(coeffs) {\n",
    "  # Get the intercept coeff\n",
    "  intercept <- coeffs[1]\n",
    "\n",
    "  # Get the slope coeff\n",
    "  slope <- coeffs[2]\n",
    "\n",
    "  # Calculate the predicted y values\n",
    "  y_pred <- plogis(intercept + slope * x_actual)\n",
    "\n",
    "  # Calculate the log-likelihood for each term\n",
    "  log_likelihoods <- log(y_pred) * y_actual + log(1- y_pred)*(1-y_actual)\n",
    "\n",
    "  # Calculate minus the sum of the log-likelihoods for each term\n",
    "  -sum(log_likelihoods)\n",
    "}"
   ]
  },
  {
   "cell_type": "code",
   "execution_count": 24,
   "metadata": {},
   "outputs": [
    {
     "data": {
      "text/html": [
       "<dl>\n",
       "\t<dt>$par</dt>\n",
       "\t\t<dd><dl class=dl-horizontal>\n",
       "\t<dt>intercept</dt>\n",
       "\t\t<dd>-0.0347825491800904</dd>\n",
       "\t<dt>slope</dt>\n",
       "\t\t<dd>0.268900407105684</dd>\n",
       "</dl>\n",
       "</dd>\n",
       "\t<dt>$value</dt>\n",
       "\t\t<dd>273.200152455499</dd>\n",
       "\t<dt>$counts</dt>\n",
       "\t\t<dd><dl class=dl-horizontal>\n",
       "\t<dt>function</dt>\n",
       "\t\t<dd>51</dd>\n",
       "\t<dt>gradient</dt>\n",
       "\t\t<dd>&lt;NA&gt;</dd>\n",
       "</dl>\n",
       "</dd>\n",
       "\t<dt>$convergence</dt>\n",
       "\t\t<dd>0</dd>\n",
       "\t<dt>$message</dt>\n",
       "\t\t<dd>NULL</dd>\n",
       "</dl>\n"
      ],
      "text/latex": [
       "\\begin{description}\n",
       "\\item[\\$par] \\begin{description*}\n",
       "\\item[intercept] -0.0347825491800904\n",
       "\\item[slope] 0.268900407105684\n",
       "\\end{description*}\n",
       "\n",
       "\\item[\\$value] 273.200152455499\n",
       "\\item[\\$counts] \\begin{description*}\n",
       "\\item[function] 51\n",
       "\\item[gradient] <NA>\n",
       "\\end{description*}\n",
       "\n",
       "\\item[\\$convergence] 0\n",
       "\\item[\\$message] NULL\n",
       "\\end{description}\n"
      ],
      "text/markdown": [
       "$par\n",
       ":   intercept\n",
       ":   -0.0347825491800904slope\n",
       ":   0.268900407105684\n",
       "\n",
       "\n",
       "$value\n",
       ":   273.200152455499\n",
       "$counts\n",
       ":   function\n",
       ":   51gradient\n",
       ":   &lt;NA&gt;\n",
       "\n",
       "\n",
       "$convergence\n",
       ":   0\n",
       "$message\n",
       ":   NULL\n",
       "\n",
       "\n"
      ],
      "text/plain": [
       "$par\n",
       "  intercept       slope \n",
       "-0.03478255  0.26890041 \n",
       "\n",
       "$value\n",
       "[1] 273.2002\n",
       "\n",
       "$counts\n",
       "function gradient \n",
       "      51       NA \n",
       "\n",
       "$convergence\n",
       "[1] 0\n",
       "\n",
       "$message\n",
       "NULL\n"
      ]
     },
     "metadata": {},
     "output_type": "display_data"
    },
    {
     "data": {
      "text/plain": [
       "\n",
       "Call:  glm(formula = has_churned ~ time_since_last_purchase, family = binomial, \n",
       "    data = churn)\n",
       "\n",
       "Coefficients:\n",
       "             (Intercept)  time_since_last_purchase  \n",
       "                -0.03502                   0.26921  \n",
       "\n",
       "Degrees of Freedom: 399 Total (i.e. Null);  398 Residual\n",
       "Null Deviance:\t    554.5 \n",
       "Residual Deviance: 546.4 \tAIC: 550.4"
      ]
     },
     "metadata": {},
     "output_type": "display_data"
    }
   ],
   "source": [
    "# Optimize the metric\n",
    "optim(\n",
    "  # Initially guess 0 intercept and 1 slope\n",
    "  par = c(intercept = 0, slope = 1),\n",
    "  # Use calc_neg_log_likelihood as the optimization fn \n",
    "  fn =  calc_neg_log_likelihood\n",
    ")\n",
    "\n",
    "# Compare the coefficients to those calculated by glm()\n",
    "glm(has_churned ~ time_since_last_purchase, data = churn, family = binomial)"
   ]
  },
  {
   "cell_type": "code",
   "execution_count": null,
   "metadata": {},
   "outputs": [],
   "source": []
  }
 ],
 "metadata": {
  "kernelspec": {
   "display_name": "R",
   "language": "R",
   "name": "ir"
  },
  "language_info": {
   "codemirror_mode": "r",
   "file_extension": ".r",
   "mimetype": "text/x-r-source",
   "name": "R",
   "pygments_lexer": "r",
   "version": "3.6.1"
  }
 },
 "nbformat": 4,
 "nbformat_minor": 4
}
