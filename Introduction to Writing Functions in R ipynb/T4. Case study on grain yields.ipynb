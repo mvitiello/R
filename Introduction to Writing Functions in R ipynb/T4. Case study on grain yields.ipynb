{
 "cells": [
  {
   "cell_type": "markdown",
   "metadata": {},
   "source": [
    "## Case study on grain yields\n",
    "Apply your function writing skills to a case study involving data preparation, visualization, and modeling."
   ]
  },
  {
   "cell_type": "markdown",
   "metadata": {},
   "source": [
    "### Converting areas to metric 1\n",
    "In this chapter, you'll be working with grain yield data from the United States Department of Agriculture, \n",
    "National Agricultural Statistics Service. Unfortunately, they report all areas in acres. So, the first thing \n",
    "you need to do is write some utility functions to convert areas in acres to areas in hectares.\n",
    "To solve this exercise, you need to know the following:\n",
    "There are 4840 square yards in an acre.\n",
    "There are 36 inches in a yard and one inch is 0.0254 meters.\n",
    "There are 10000 square meters in a hectare."
   ]
  },
  {
   "cell_type": "code",
   "execution_count": null,
   "metadata": {},
   "outputs": [],
   "source": [
    "# Write a function, acres_to_sq_yards(), to convert areas in acres to areas in square yards. \n",
    "# This should take a single argument, acres.\n",
    "\n",
    "acres_to_sq_yards <- function(acres) {\n",
    "  acres * 4840\n",
    "}\n",
    "\n",
    "# Write a function, yards_to_meters(), to convert distances in yards to distances in meters. \n",
    "# This should take a single argument, yards.\n",
    "\n",
    "yards_to_meters <- function(yards) {\n",
    "  yards * 36 * 0.0254\n",
    "}\n",
    "\n",
    "# Write a function, sq_meters_to_hectares(), to convert areas in square meters to areas in hectares. \n",
    "# This should take a single argument, sq_meters.\n",
    "\n",
    "sq_meters_to_hectares <- function(sq_meters) {\n",
    "  sq_meters/10000\n",
    "}"
   ]
  },
  {
   "cell_type": "markdown",
   "metadata": {},
   "source": [
    "### Converting areas to metric 2\n",
    "You're almost there with creating a function to convert acres to hectares. You need another utility function to deal \n",
    "with getting from square yards to square meters. Then, you can bring everything together to write the overall # \n",
    "acres-to-hectares conversion function. Finally, in the next exercise you'll be calculating area conversions \n",
    "in the denominator of a ratio, so you'll need a harmonic acre-to-hectare conversion function."
   ]
  },
  {
   "cell_type": "code",
   "execution_count": 6,
   "metadata": {},
   "outputs": [],
   "source": [
    "# install.packages(\"magrittr\")\n",
    "library(magrittr)\n",
    "library(dplyr)\n",
    "\n",
    "# Write a function to convert distance in square yards to square meters. It should take the square root of the input, \n",
    "# then convert yards to meters, then square the result.\n",
    "\n",
    "# Write a function to convert sq. yards to sq. meters\n",
    "sq_yards_to_sq_meters <- function(sq_yards) {\n",
    "  sq_yards %>%\n",
    "    # Take the square root\n",
    "    sqrt() %>%\n",
    "    # Convert yards to meters\n",
    "    yards_to_meters() %>%\n",
    "    # Square it\n",
    "    raise_to_power(2)\n",
    "}\n",
    "\n",
    "# Write a function to convert areas in acres to hectares. The function should convert the input \n",
    "# from acres to square yards, then to square meters, then to hectares.\n",
    "\n",
    "acres_to_hectares <- function(acres) {\n",
    "  acres %>%\n",
    "    # Convert acres to sq yards\n",
    "    acres_to_sq_yards() %>%\n",
    "    # Convert sq yards to sq meters\n",
    "    sq_yards_to_sq_meters()%>%\n",
    "    # Convert sq meters to hectares\n",
    "    sq_meters_to_hectares()\n",
    "}\n",
    "\n",
    "# Write a function to calculate the reciprocal\n",
    "get_reciprocal <- function(x) {\n",
    "   1/x\n",
    "}\n",
    "\n",
    "# Write a function to harmonically convert areas in acres to hectares. The function should get the reciprocal of the input, \n",
    "# then convert from acres to hectares, then get the reciprocal again.\n",
    "\n",
    "harmonic_acres_to_hectares <- function(acres) {\n",
    "  acres %>% \n",
    "    # Get the reciprocal\n",
    "    get_reciprocal() %>%\n",
    "    # Convert acres to hectares\n",
    "    acres_to_hectares() %>% \n",
    "    # Get the reciprocal again\n",
    "    get_reciprocal()\n",
    "}\n"
   ]
  },
  {
   "cell_type": "markdown",
   "metadata": {},
   "source": [
    "### Converting yields to metric\n",
    "The yields in the NASS corn data are also given in US units, namely bushels per acre. You'll need to write some \n",
    "more utility functions to convert this unit to the metric unit of kg per hectare.\n",
    "Bushels historically meant a volume of 8 gallons, but in the context of grain, they are now defined as masses. \n",
    "This mass differs for each grain! To solve this exercise, you need to know these facts.\n",
    "\n",
    "One pound (lb) is 0.45359237 kilograms (kg).\n",
    "\n",
    "One bushel is 48 lbs of barley, 56 lbs of corn, or 60 lbs of wheat."
   ]
  },
  {
   "cell_type": "code",
   "execution_count": 12,
   "metadata": {},
   "outputs": [],
   "source": [
    "# Write a function to convert lb to kg\n",
    "lbs_to_kgs <- function(lb){\n",
    "   lb*0.45359237 \n",
    "}\n",
    "\n",
    "# Write a function to convert masses in bushels to lbs. This should take two arguments, bushels and crop. \n",
    "# It should define a lookup vector of scale factors for each crop (barley, corn, wheat), extract the scale factor for the crop, \n",
    "# then multiply this by the number of bushels.\n",
    "\n",
    "# Write a function to convert bushels to lbs\n",
    "bushels_to_lbs <- function(bushels, crop) {\n",
    "  # Define a lookup table of scale factors\n",
    "  c(barley = 48, corn = 56, wheat = 60) %>%\n",
    "    # Extract the value for the crop\n",
    "    extract(crop) %>%\n",
    "    # Multiply by the no. of bushels\n",
    "    multiply_by(bushels)\n",
    "}\n",
    "\n",
    "# Write a function to convert masses in bushels to kgs. This should take two arguments, bushels and crop. \n",
    "# It should convert the mass in bushels to lbs then to kgs.\n",
    "bushels_to_kgs <- function(bushels, crop) {\n",
    "  bushels %>%\n",
    "    # Convert bushels to lbs for this crop\n",
    "    bushels_to_lbs(crop) %>%\n",
    "    # Convert lbs to kgs\n",
    "    lbs_to_kgs()\n",
    "}\n",
    "\n",
    "# Write a function to convert yields in bushels/acre to kg/ha. The arguments should be bushels_per_acre and crop. \n",
    "# Three choices of crop should be allowed: \"barley\", \"corn\", and \"wheat\". It should match the crop argument, \n",
    "# then convert bushels to kgs, then convert harmonic acres to hectares.\n",
    "\n",
    "bushels_per_acre_to_kgs_per_hectare <- function(bushels_per_acre, crop = c(\"barley\", \"corn\", \"wheat\")) {\n",
    "  # Match the crop argument\n",
    "  crop <- match.arg(crop)\n",
    "  bushels_per_acre %>%\n",
    "    # Convert bushels to kgs for this crop\n",
    "    bushels_to_kgs(crop) %>%\n",
    "    # Convert harmonic acres to ha\n",
    "    harmonic_acres_to_hectares()\n",
    "}"
   ]
  },
  {
   "cell_type": "markdown",
   "metadata": {},
   "source": [
    "### Applying the unit conversion\n",
    "Now that you've written some functions, it's time to apply them! The NASS corn dataset is available, \n",
    "and you can fortify it (jargon for \"adding new columns\") with metrics areas and yields.\n",
    "This fortification process can also be turned in to a function, so you'll define a function for this, \n",
    "and test it on the NASS wheat dataset.\n",
    "Look at the corn dataset. Add two columns: farmed_area_ha should be farmed_area_acres converted to hectares; \n",
    "yield_kg_per_ha should be yield_bushels_per_acre converted to kilograms per hectare."
   ]
  },
  {
   "cell_type": "code",
   "execution_count": 23,
   "metadata": {},
   "outputs": [
    {
     "name": "stdout",
     "output_type": "stream",
     "text": [
      "  year       state farmed_area_acres yield_bushels_per_acre\n",
      "1 1866     Alabama           1050000                      9\n",
      "2 1866    Arkansas            280000                     18\n",
      "3 1866  California             42000                     28\n",
      "4 1866 Connecticut             57000                     34\n",
      "5 1866    Delaware            200000                     23\n",
      "6 1866     Florida            125000                      9\n",
      "  year       state farmed_area_acres yield_bushels_per_acre farmed_area_ha\n",
      "1 1866     Alabama           1050000                      9      424919.92\n",
      "2 1866    Arkansas            280000                     18      113311.98\n",
      "3 1866  California             42000                     28       16996.80\n",
      "4 1866 Connecticut             57000                     34       23067.08\n",
      "5 1866    Delaware            200000                     23       80937.13\n",
      "6 1866     Florida            125000                      9       50585.71\n",
      "  yield_kg_per_ha\n",
      "1         564.909\n",
      "2        1129.818\n",
      "3        1757.495\n",
      "4        2134.101\n",
      "5        1443.656\n",
      "6         564.909\n"
     ]
    }
   ],
   "source": [
    "corn <- readRDS(file = \"nass.corn.rds\")\n",
    "print(head(corn))\n",
    "\n",
    "corn <- corn %>%\n",
    "  # Add some columns\n",
    "  mutate(\n",
    "    # Convert farmed area from acres to ha\n",
    "    farmed_area_ha = acres_to_hectares(farmed_area_acres),\n",
    "    # Convert yield from bushels/acre to kg/ha\n",
    "    yield_kg_per_ha = bushels_per_acre_to_kgs_per_hectare(\n",
    "      yield_bushels_per_acre,\n",
    "      crop = \"corn\"\n",
    "    )\n",
    "  )\n",
    "\n",
    "print(head(corn))"
   ]
  },
  {
   "cell_type": "code",
   "execution_count": 30,
   "metadata": {},
   "outputs": [
    {
     "name": "stdout",
     "output_type": "stream",
     "text": [
      "  year       state farmed_area_acres yield_bushels_per_acre farmed_area_ha\n",
      "1 1866     Alabama            125000                    5.0     50585.7053\n",
      "2 1866    Arkansas             50000                    6.5     20234.2821\n",
      "3 1866  California            650000                   18.0    263045.6675\n",
      "4 1866 Connecticut              2000                   17.5       809.3713\n",
      "5 1866    Delaware             59000                   11.0     23876.4529\n",
      "6 1866     Georgia            245000                    4.0     99147.9823\n",
      "  yield_kg_per_ha\n",
      "1        336.2553\n",
      "2        437.1320\n",
      "3       1210.5192\n",
      "4       1176.8937\n",
      "5        739.7618\n",
      "6        269.0043\n"
     ]
    }
   ],
   "source": [
    "# Wrap the mutation code into a function, fortify_with_metric_units. \n",
    "# This should take two arguments, data and crop with no defaults.\n",
    "\n",
    "# Wrap this code into a function\n",
    "fortify_with_metric_units <- function(data, crop){\n",
    "  data %>%\n",
    "    mutate(\n",
    "      farmed_area_ha = acres_to_hectares(farmed_area_acres),\n",
    "      yield_kg_per_ha = bushels_per_acre_to_kgs_per_hectare(\n",
    "        yield_bushels_per_acre, \n",
    "        crop = crop\n",
    "      )\n",
    "    )\n",
    "}\n",
    "\n",
    "# Use fortify_with_metric_units() on the wheat dataset.\n",
    "# read data\n",
    "wheat <- readRDS(file = \"nass.wheat.rds\")\n",
    "# Try it on the wheat dataset\n",
    "wheat <- fortify_with_metric_units(wheat, \"wheat\")\n",
    "print(head(wheat))"
   ]
  },
  {
   "cell_type": "markdown",
   "metadata": {},
   "source": [
    "### Plotting yields over time\n",
    "Now that the units have been dealt with, it's time to explore the datasets. \n",
    "An obvious question to ask about each crop is, \"how do the yields change over time in each US state?\" \n",
    "Let's draw a line plot to find out!"
   ]
  },
  {
   "cell_type": "code",
   "execution_count": 25,
   "metadata": {},
   "outputs": [
    {
     "name": "stderr",
     "output_type": "stream",
     "text": [
      "`geom_smooth()` using method = 'gam' and formula 'y ~ s(x, bs = \"cs\")'\n"
     ]
    },
    {
     "data": {
      "image/png": "[encoded data removed]",
      "text/plain": [
       "plot without title"
      ]
     },
     "metadata": {},
     "output_type": "display_data"
    }
   ],
   "source": [
    "# install.packages(\"ggplot2\")\n",
    "library(ggplot2)\n",
    "\n",
    "\n",
    "# Using corn, plot yield (kg/ha) vs. year\n",
    "ggplot(corn, aes(year, yield_kg_per_ha)) +\n",
    "  # Add a line layer, grouped by state\n",
    "  geom_line(aes(group = state)) +\n",
    "  # Add a smooth trend layer\n",
    "  geom_smooth()"
   ]
  },
  {
   "cell_type": "code",
   "execution_count": 31,
   "metadata": {},
   "outputs": [
    {
     "name": "stderr",
     "output_type": "stream",
     "text": [
      "`geom_smooth()` using method = 'gam' and formula 'y ~ s(x, bs = \"cs\")'\n"
     ]
    },
    {
     "data": {
      "image/png": "[encoded data removed]",
      "text/plain": [
       "plot without title"
      ]
     },
     "metadata": {},
     "output_type": "display_data"
    }
   ],
   "source": [
    "# Wrap this plotting code into a function\n",
    "plot_yield_vs_year <- function(data){\n",
    "  ggplot(data, aes(year, yield_kg_per_ha)) +\n",
    "    geom_line(aes(group = state)) +\n",
    "    geom_smooth()\n",
    "}\n",
    "\n",
    "# Test it on the wheat dataset\n",
    "plot_yield_vs_year(wheat)"
   ]
  },
  {
   "cell_type": "markdown",
   "metadata": {},
   "source": [
    "### Running a model\n",
    "The smooth trend line you saw in the plots of yield over time use a generalized additive model (GAM) \n",
    "to determine where the line should lie. This sort of model is ideal for fitting nonlinear curves. \n",
    "So we can make predictions about future yields, let's explicitly run the model. The syntax for running \n",
    "this GAM takes the following form.\n",
    "gam(response ~ s(explanatory_var1) + explanatory_var2, data = dataset)\n",
    "Here, s() means \"make the variable smooth\", where smooth very roughly means nonlinear."
   ]
  },
  {
   "cell_type": "code",
   "execution_count": 36,
   "metadata": {},
   "outputs": [
    {
     "data": {
      "text/plain": [
       "\n",
       "Family: gaussian \n",
       "Link function: identity \n",
       "\n",
       "Formula:\n",
       "yield_kg_per_ha ~ s(year)\n",
       "\n",
       "Estimated degrees of freedom:\n",
       "7.29  total = 8.29 \n",
       "\n",
       "GCV score: 1201604     "
      ]
     },
     "metadata": {},
     "output_type": "display_data"
    },
    {
     "data": {
      "text/plain": [
       "\n",
       "Family: gaussian \n",
       "Link function: identity \n",
       "\n",
       "Formula:\n",
       "yield_kg_per_ha ~ s(year)\n",
       "\n",
       "Estimated degrees of freedom:\n",
       "6.63  total = 7.63 \n",
       "\n",
       "GCV score: 390595.8     "
      ]
     },
     "metadata": {},
     "output_type": "display_data"
    }
   ],
   "source": [
    "# need mgcv packages\n",
    "# install.packages(\"mgcv\")\n",
    "library(mgcv)\n",
    "\n",
    "# Run a generalized additive model of \n",
    "# yield vs. smoothed year \n",
    "corn_model = gam(yield_kg_per_ha ~ s(year), data = corn)\n",
    "corn_model\n",
    "# Wrap the model code into a function\n",
    "run_gam_yield_vs_year<- function(data){\n",
    "  gam(yield_kg_per_ha ~ s(year), data = data)\n",
    "}\n",
    "\n",
    "# Try it on the wheat dataset\n",
    "wheat_model = run_gam_yield_vs_year(wheat)\n",
    "wheat_model"
   ]
  },
  {
   "cell_type": "code",
   "execution_count": null,
   "metadata": {},
   "outputs": [],
   "source": []
  }
 ],
 "metadata": {
  "kernelspec": {
   "display_name": "R",
   "language": "R",
   "name": "ir"
  },
  "language_info": {
   "codemirror_mode": "r",
   "file_extension": ".r",
   "mimetype": "text/x-r-source",
   "name": "R",
   "pygments_lexer": "r",
   "version": "3.6.1"
  }
 },
 "nbformat": 4,
 "nbformat_minor": 4
}
