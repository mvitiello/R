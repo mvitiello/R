{
 "cells": [
  {
   "cell_type": "markdown",
   "metadata": {},
   "source": [
    "## Arithmetic with Dates and Times\n",
    "Getting datetimes into R is just the first step. Now that you know how to parse datetimes, you need to learn how to do calculations with them. In this chapter, you'll learn the different ways of representing spans of time with lubridate and how to leverage them to do arithmetic on datetimes. By the end of the chapter, you'll have calculated how long it's been since the first man stepped on the moon, generated sequences of dates to help schedule reminders, calculated when an eclipse occurs, and explored the reigns of monarch's of England (and which ones might have seen Halley's comet!)."
   ]
  },
  {
   "cell_type": "markdown",
   "metadata": {},
   "source": [
    "### How long has it been?\n",
    "To get finer control over a difference between datetimes use the base function difftime(). \n",
    "For example instead of time1 - time2, you use difftime(time1, time2).\n",
    "difftime() takes an argument units which specifies the units for the difference. Your options are \"secs\", \"mins\", \n",
    "\"hours\", \"days\", or \"weeks\".\n",
    "To practice you'll find the time since the first man stepped on the moon. \n",
    "You'll also see the lubridate functions today() and now() which when called with \n",
    "no arguments return the current date and time in your system's timezone."
   ]
  },
  {
   "cell_type": "code",
   "execution_count": 3,
   "metadata": {},
   "outputs": [
    {
     "data": {
      "text/plain": [
       "Time difference of 18787 days"
      ]
     },
     "metadata": {},
     "output_type": "display_data"
    },
    {
     "data": {
      "text/plain": [
       "Time difference of 1623265239 secs"
      ]
     },
     "metadata": {},
     "output_type": "display_data"
    }
   ],
   "source": [
    "library(lubridate)\n",
    "\n",
    "# Apollo 11 landed on July 20, 1969. Use difftime() to find the number of days between today() and date_landing.\n",
    "\n",
    "# The date of landing and moment of step\n",
    "date_landing <- mdy(\"July 20, 1969\")\n",
    "moment_step <- mdy_hms(\"July 20, 1969, 02:56:15\", tz = \"UTC\")\n",
    "\n",
    "# How many days since the first man on the moon?\n",
    "difftime(today(),date_landing, , units = 'days')\n",
    "\n",
    "# How many seconds since the first man step on the moon?\n",
    "difftime(now(), moment_step, units = 'secs')"
   ]
  },
  {
   "cell_type": "markdown",
   "metadata": {},
   "source": [
    "### How many seconds are in a day?\n",
    "How many seconds are in a day? There are 24 hours in a day, 60 minutes in an hour, and 60 seconds in a minute, \n",
    "so there should be 24*60*60 = 86400 seconds, right?\n",
    "Not always! In this exercise you'll see a counter example, can you figure out what is going on?\n",
    "We've put code to define three times in your script - noon on March 11th, March 12th, and March 13th in 2017 in the US Pacific timezone. Find the difference in time between mar_13 and mar_12 in seconds. This should match your intuition."
   ]
  },
  {
   "cell_type": "code",
   "execution_count": 2,
   "metadata": {},
   "outputs": [
    {
     "name": "stderr",
     "output_type": "stream",
     "text": [
      "\n",
      "Attaching package: 'lubridate'\n",
      "\n",
      "The following object is masked from 'package:base':\n",
      "\n",
      "    date\n",
      "\n"
     ]
    },
    {
     "data": {
      "text/plain": [
       "Time difference of 86400 secs"
      ]
     },
     "metadata": {},
     "output_type": "display_data"
    },
    {
     "data": {
      "text/plain": [
       "Time difference of 82800 secs"
      ]
     },
     "metadata": {},
     "output_type": "display_data"
    }
   ],
   "source": [
    "library(lubridate)\n",
    "\n",
    "# Three dates\n",
    "mar_11 <- ymd_hms(\"2017-03-11 12:00:00\", \n",
    "  tz = \"America/Los_Angeles\")\n",
    "mar_12 <- ymd_hms(\"2017-03-12 12:00:00\", \n",
    "  tz = \"America/Los_Angeles\")\n",
    "mar_13 <- ymd_hms(\"2017-03-13 12:00:00\", \n",
    "  tz = \"America/Los_Angeles\")\n",
    "\n",
    "# Difference between mar_13 and mar_12 in seconds\n",
    "difftime(mar_13, mar_12, units = 'secs')\n",
    "\n",
    "# Now, find the difference in time between mar_12 and mar_11 in seconds. Surprised?\n",
    "\n",
    "# Difference between mar_12 and mar_11 in seconds\n",
    "difftime(mar_12, mar_11, units = 'secs')\n",
    "\n",
    "# Why would a day only have 82800 seconds? At 2am on Mar 12th 2017, Daylight Savings started in the Pacific timezone. \n",
    "# That means a whole hour of seconds gets skipped between noon on the 11th and noon on the 12th."
   ]
  },
  {
   "cell_type": "markdown",
   "metadata": {},
   "source": [
    "### Adding or subtracting a time span to a datetime\n",
    "A common use of time spans is to add or subtract them from a moment in time. For, example \n",
    "to calculate the time one day in the future from mar_11 (from the previous exercises), you could do either of:\n",
    "\n",
    "marr_11 + days(1)\n",
    "marr_11 + ddays(1)\n",
    "\n",
    "Try them in the console, you get different results! But which one is the right one? It depends on your intent. \n",
    "If you want to account for the fact that time units, in this case days, have different lengths (i.e. due to daylight savings),\n",
    "you want a period days(). If you want the time 86400 seconds in the future you use a duration ddays().\n",
    "In this exercise you'll add and subtract timespans from dates and datetimes."
   ]
  },
  {
   "cell_type": "code",
   "execution_count": 4,
   "metadata": {},
   "outputs": [
    {
     "data": {
      "text/plain": [
       "[1] \"2017-03-12 12:00:00 PDT\""
      ]
     },
     "metadata": {},
     "output_type": "display_data"
    },
    {
     "data": {
      "text/plain": [
       "[1] \"2017-03-12 13:00:00 PDT\""
      ]
     },
     "metadata": {},
     "output_type": "display_data"
    },
    {
     "data": {
      "text/plain": [
       "[1] \"2018-09-03 14:00:00 UTC\""
      ]
     },
     "metadata": {},
     "output_type": "display_data"
    },
    {
     "data": {
      "text/plain": [
       "[1] \"2018-08-31 18:00:00 UTC\""
      ]
     },
     "metadata": {},
     "output_type": "display_data"
    },
    {
     "data": {
      "text/html": [
       "<time datetime=\"2015-12-27\">2015-12-27</time>"
      ],
      "text/latex": [
       "2015-12-27"
      ],
      "text/markdown": [
       "2015-12-27"
      ],
      "text/plain": [
       "[1] \"2015-12-27\""
      ]
     },
     "metadata": {},
     "output_type": "display_data"
    },
    {
     "data": {
      "text/html": [
       "<time datetime=\"2015-12-29\">2015-12-29</time>"
      ],
      "text/latex": [
       "2015-12-29"
      ],
      "text/markdown": [
       "2015-12-29"
      ],
      "text/plain": [
       "[1] \"2015-12-29\""
      ]
     },
     "metadata": {},
     "output_type": "display_data"
    }
   ],
   "source": [
    "# Add a period of one week to mon_2pm\n",
    "mon_2pm <- dmy_hm(\"27 Aug 2018 14:00\")\n",
    "mon_2pm + (weeks(1))\n",
    "\n",
    "# Add a duration of 81 hours to tue_9am\n",
    "tue_9am <- dmy_hm(\"28 Aug 2018 9:00\")\n",
    "tue_9am + dhours(81)\n",
    "\n",
    "# What were you doing five years ago? Subtract a period of 5 years from today().\n",
    "# Subtract a period of five years from today()\n",
    "today() - years(5)\n",
    "\n",
    "# Subtract a duration of 5 years from today(). Will this give a different date?\n",
    "# Subtract a duration of five years from today()\n",
    "today() - dyears(5)\n",
    "\n",
    "# Why did subtracting a duration of five years from today, give a different answer to subtracting a period of five years? \n",
    "# Periods know about leap years, and since five years ago includes at least one leap year (assuming you aren't taking \n",
    "# this course in 2100) the period of five years is longer than the duration of 365*5 days."
   ]
  },
  {
   "cell_type": "markdown",
   "metadata": {},
   "source": [
    "### Arithmetic with timespans\n",
    "You can add and subtract timespans to create different length timespans, and even multiply them by numbers. \n",
    "For example, to create a duration of three days and three hours you could do: ddays(3) + dhours(3), or 3*ddays(1) + 3*dhours(1) \n",
    "or even 3*(ddays(1) + dhours(1)).\n",
    "There was an eclipse over North America on 2017-08-21 at 18:26:40. It's possible to predict the next eclipse \n",
    "with similar geometry by calculating the time and date one Saros in the future. A Saros is a length of time \n",
    "that corresponds to 223 Synodic months, a Synodic month being the period of the Moon's phases, \n",
    "a duration of 29 days, 12 hours, 44 minutes and 3 seconds.\n",
    "Do just that in this exercise!"
   ]
  },
  {
   "cell_type": "code",
   "execution_count": 5,
   "metadata": {},
   "outputs": [
    {
     "name": "stdout",
     "output_type": "stream",
     "text": [
      "[1] \"2035-09-02 02:09:49 UTC\"\n"
     ]
    }
   ],
   "source": [
    "# Time of North American Eclipse 2017\n",
    "eclipse_2017 <- ymd_hms(\"2017-08-21 18:26:40\")\n",
    "\n",
    "# Duration of 29 days, 12 hours, 44 mins and 3 secs\n",
    "synodic <- ddays(29) + dhours(12) + dminutes(44) + dseconds(3)\n",
    "\n",
    "# 223 synodic months\n",
    "saros <- 223 * synodic\n",
    "\n",
    "# Add saros to eclipse_2017\n",
    "next_eclipse = eclipse_2017 + saros\n",
    "print(next_eclipse)"
   ]
  },
  {
   "cell_type": "markdown",
   "metadata": {},
   "source": [
    "### Generating sequences of datetimes\n",
    "By combining addition and multiplication with sequences you can generate sequences of datetimes. \n",
    "For example, you can generate a sequence of periods from 1 day up to 10 days with,\n",
    "\n",
    "10 * days(1)\n",
    "\n",
    "Then by adding this sequence to a specific datetime, you can construct a sequence of datetimes \n",
    "from 1 day up to 10 days into the future\n",
    "\n",
    "today() + 1:10 * days(1)\n",
    "\n",
    "You had a meeting this morning at 8am and you'd like to have that meeting at the same time and day \n",
    "every two weeks for a year. Generate the meeting times in this exercise."
   ]
  },
  {
   "cell_type": "code",
   "execution_count": 7,
   "metadata": {},
   "outputs": [
    {
     "data": {
      "text/html": [
       "<ol class=list-inline>\n",
       "\t<li>1d 0H 0M 0S</li>\n",
       "\t<li>2d 0H 0M 0S</li>\n",
       "\t<li>3d 0H 0M 0S</li>\n",
       "\t<li>4d 0H 0M 0S</li>\n",
       "\t<li>5d 0H 0M 0S</li>\n",
       "\t<li>6d 0H 0M 0S</li>\n",
       "\t<li>7d 0H 0M 0S</li>\n",
       "\t<li>8d 0H 0M 0S</li>\n",
       "\t<li>9d 0H 0M 0S</li>\n",
       "\t<li>10d 0H 0M 0S</li>\n",
       "</ol>\n"
      ],
      "text/latex": [
       "\\begin{enumerate*}\n",
       "\\item 1d 0H 0M 0S\n",
       "\\item 2d 0H 0M 0S\n",
       "\\item 3d 0H 0M 0S\n",
       "\\item 4d 0H 0M 0S\n",
       "\\item 5d 0H 0M 0S\n",
       "\\item 6d 0H 0M 0S\n",
       "\\item 7d 0H 0M 0S\n",
       "\\item 8d 0H 0M 0S\n",
       "\\item 9d 0H 0M 0S\n",
       "\\item 10d 0H 0M 0S\n",
       "\\end{enumerate*}\n"
      ],
      "text/markdown": [
       "1. 1d 0H 0M 0S\n",
       "2. 2d 0H 0M 0S\n",
       "3. 3d 0H 0M 0S\n",
       "4. 4d 0H 0M 0S\n",
       "5. 5d 0H 0M 0S\n",
       "6. 6d 0H 0M 0S\n",
       "7. 7d 0H 0M 0S\n",
       "8. 8d 0H 0M 0S\n",
       "9. 9d 0H 0M 0S\n",
       "10. 10d 0H 0M 0S\n",
       "\n",
       "\n"
      ],
      "text/plain": [
       " [1] \"1d 0H 0M 0S\"  \"2d 0H 0M 0S\"  \"3d 0H 0M 0S\"  \"4d 0H 0M 0S\"  \"5d 0H 0M 0S\" \n",
       " [6] \"6d 0H 0M 0S\"  \"7d 0H 0M 0S\"  \"8d 0H 0M 0S\"  \"9d 0H 0M 0S\"  \"10d 0H 0M 0S\""
      ]
     },
     "metadata": {},
     "output_type": "display_data"
    },
    {
     "data": {
      "text/html": [
       "<ol class=list-inline>\n",
       "\t<li><time datetime=\"2020-12-28\">2020-12-28</time></li>\n",
       "\t<li><time datetime=\"2020-12-29\">2020-12-29</time></li>\n",
       "\t<li><time datetime=\"2020-12-30\">2020-12-30</time></li>\n",
       "\t<li><time datetime=\"2020-12-31\">2020-12-31</time></li>\n",
       "\t<li><time datetime=\"2021-01-01\">2021-01-01</time></li>\n",
       "\t<li><time datetime=\"2021-01-02\">2021-01-02</time></li>\n",
       "\t<li><time datetime=\"2021-01-03\">2021-01-03</time></li>\n",
       "\t<li><time datetime=\"2021-01-04\">2021-01-04</time></li>\n",
       "\t<li><time datetime=\"2021-01-05\">2021-01-05</time></li>\n",
       "\t<li><time datetime=\"2021-01-06\">2021-01-06</time></li>\n",
       "</ol>\n"
      ],
      "text/latex": [
       "\\begin{enumerate*}\n",
       "\\item 2020-12-28\n",
       "\\item 2020-12-29\n",
       "\\item 2020-12-30\n",
       "\\item 2020-12-31\n",
       "\\item 2021-01-01\n",
       "\\item 2021-01-02\n",
       "\\item 2021-01-03\n",
       "\\item 2021-01-04\n",
       "\\item 2021-01-05\n",
       "\\item 2021-01-06\n",
       "\\end{enumerate*}\n"
      ],
      "text/markdown": [
       "1. 2020-12-28\n",
       "2. 2020-12-29\n",
       "3. 2020-12-30\n",
       "4. 2020-12-31\n",
       "5. 2021-01-01\n",
       "6. 2021-01-02\n",
       "7. 2021-01-03\n",
       "8. 2021-01-04\n",
       "9. 2021-01-05\n",
       "10. 2021-01-06\n",
       "\n",
       "\n"
      ],
      "text/plain": [
       " [1] \"2020-12-28\" \"2020-12-29\" \"2020-12-30\" \"2020-12-31\" \"2021-01-01\"\n",
       " [6] \"2021-01-02\" \"2021-01-03\" \"2021-01-04\" \"2021-01-05\" \"2021-01-06\""
      ]
     },
     "metadata": {},
     "output_type": "display_data"
    },
    {
     "data": {
      "text/plain": [
       " [1] \"2021-01-10 08:00:00 UTC\" \"2021-01-24 08:00:00 UTC\"\n",
       " [3] \"2021-02-07 08:00:00 UTC\" \"2021-02-21 08:00:00 UTC\"\n",
       " [5] \"2021-03-07 08:00:00 UTC\" \"2021-03-21 08:00:00 UTC\"\n",
       " [7] \"2021-04-04 08:00:00 UTC\" \"2021-04-18 08:00:00 UTC\"\n",
       " [9] \"2021-05-02 08:00:00 UTC\" \"2021-05-16 08:00:00 UTC\"\n",
       "[11] \"2021-05-30 08:00:00 UTC\" \"2021-06-13 08:00:00 UTC\"\n",
       "[13] \"2021-06-27 08:00:00 UTC\" \"2021-07-11 08:00:00 UTC\"\n",
       "[15] \"2021-07-25 08:00:00 UTC\" \"2021-08-08 08:00:00 UTC\"\n",
       "[17] \"2021-08-22 08:00:00 UTC\" \"2021-09-05 08:00:00 UTC\"\n",
       "[19] \"2021-09-19 08:00:00 UTC\" \"2021-10-03 08:00:00 UTC\"\n",
       "[21] \"2021-10-17 08:00:00 UTC\" \"2021-10-31 08:00:00 UTC\"\n",
       "[23] \"2021-11-14 08:00:00 UTC\" \"2021-11-28 08:00:00 UTC\"\n",
       "[25] \"2021-12-12 08:00:00 UTC\" \"2021-12-26 08:00:00 UTC\""
      ]
     },
     "metadata": {},
     "output_type": "display_data"
    }
   ],
   "source": [
    "# Add a period of 8 hours to today\n",
    "today_8am <- today() + hours(8)\n",
    "\n",
    "# Sequence of two weeks from 1 to 26\n",
    "every_two_weeks <- 1:26 * weeks(2)\n",
    "\n",
    "# Create datetime for every two weeks for a year\n",
    "today_8am + every_two_weeks"
   ]
  },
  {
   "cell_type": "markdown",
   "metadata": {},
   "source": [
    "### The tricky thing about months\n",
    "What should ymd(\"2020-01-31\") + months(1) return? Should it be 30, 31 or 28 days in the future? \n",
    "Try it. In general lubridate returns the same day of the month in the next month, but since the 31st of February \n",
    "doesn't exist lubridate returns a missing value, NA.\n",
    "There are alternative addition and subtraction operators: %m+% and %m-% that have different behavior. \n",
    "Rather than returning an NA for a non-existent date, they roll back to the last existing date.\n",
    "You'll explore their behavior by trying to generate a sequence for the last day in every month this year."
   ]
  },
  {
   "cell_type": "code",
   "execution_count": 8,
   "metadata": {},
   "outputs": [
    {
     "data": {
      "text/html": [
       "<ol class=list-inline>\n",
       "\t<li><time datetime=\"&lt;NA&gt;\">&lt;NA&gt;</time></li>\n",
       "\t<li><time datetime=\"2020-03-31\">2020-03-31</time></li>\n",
       "\t<li><time datetime=\"&lt;NA&gt;\">&lt;NA&gt;</time></li>\n",
       "\t<li><time datetime=\"2020-05-31\">2020-05-31</time></li>\n",
       "\t<li><time datetime=\"&lt;NA&gt;\">&lt;NA&gt;</time></li>\n",
       "\t<li><time datetime=\"2020-07-31\">2020-07-31</time></li>\n",
       "\t<li><time datetime=\"2020-08-31\">2020-08-31</time></li>\n",
       "\t<li><time datetime=\"&lt;NA&gt;\">&lt;NA&gt;</time></li>\n",
       "\t<li><time datetime=\"2020-10-31\">2020-10-31</time></li>\n",
       "\t<li><time datetime=\"&lt;NA&gt;\">&lt;NA&gt;</time></li>\n",
       "\t<li><time datetime=\"2020-12-31\">2020-12-31</time></li>\n",
       "\t<li><time datetime=\"2021-01-31\">2021-01-31</time></li>\n",
       "</ol>\n"
      ],
      "text/latex": [
       "\\begin{enumerate*}\n",
       "\\item <NA>\n",
       "\\item 2020-03-31\n",
       "\\item <NA>\n",
       "\\item 2020-05-31\n",
       "\\item <NA>\n",
       "\\item 2020-07-31\n",
       "\\item 2020-08-31\n",
       "\\item <NA>\n",
       "\\item 2020-10-31\n",
       "\\item <NA>\n",
       "\\item 2020-12-31\n",
       "\\item 2021-01-31\n",
       "\\end{enumerate*}\n"
      ],
      "text/markdown": [
       "1. &lt;NA&gt;\n",
       "2. 2020-03-31\n",
       "3. &lt;NA&gt;\n",
       "4. 2020-05-31\n",
       "5. &lt;NA&gt;\n",
       "6. 2020-07-31\n",
       "7. 2020-08-31\n",
       "8. &lt;NA&gt;\n",
       "9. 2020-10-31\n",
       "10. &lt;NA&gt;\n",
       "11. 2020-12-31\n",
       "12. 2021-01-31\n",
       "\n",
       "\n"
      ],
      "text/plain": [
       " [1] NA           \"2020-03-31\" NA           \"2020-05-31\" NA          \n",
       " [6] \"2020-07-31\" \"2020-08-31\" NA           \"2020-10-31\" NA          \n",
       "[11] \"2020-12-31\" \"2021-01-31\""
      ]
     },
     "metadata": {},
     "output_type": "display_data"
    },
    {
     "data": {
      "text/html": [
       "<ol class=list-inline>\n",
       "\t<li><time datetime=\"2020-02-29\">2020-02-29</time></li>\n",
       "\t<li><time datetime=\"2020-03-31\">2020-03-31</time></li>\n",
       "\t<li><time datetime=\"2020-04-30\">2020-04-30</time></li>\n",
       "\t<li><time datetime=\"2020-05-31\">2020-05-31</time></li>\n",
       "\t<li><time datetime=\"2020-06-30\">2020-06-30</time></li>\n",
       "\t<li><time datetime=\"2020-07-31\">2020-07-31</time></li>\n",
       "\t<li><time datetime=\"2020-08-31\">2020-08-31</time></li>\n",
       "\t<li><time datetime=\"2020-09-30\">2020-09-30</time></li>\n",
       "\t<li><time datetime=\"2020-10-31\">2020-10-31</time></li>\n",
       "\t<li><time datetime=\"2020-11-30\">2020-11-30</time></li>\n",
       "\t<li><time datetime=\"2020-12-31\">2020-12-31</time></li>\n",
       "\t<li><time datetime=\"2021-01-31\">2021-01-31</time></li>\n",
       "</ol>\n"
      ],
      "text/latex": [
       "\\begin{enumerate*}\n",
       "\\item 2020-02-29\n",
       "\\item 2020-03-31\n",
       "\\item 2020-04-30\n",
       "\\item 2020-05-31\n",
       "\\item 2020-06-30\n",
       "\\item 2020-07-31\n",
       "\\item 2020-08-31\n",
       "\\item 2020-09-30\n",
       "\\item 2020-10-31\n",
       "\\item 2020-11-30\n",
       "\\item 2020-12-31\n",
       "\\item 2021-01-31\n",
       "\\end{enumerate*}\n"
      ],
      "text/markdown": [
       "1. 2020-02-29\n",
       "2. 2020-03-31\n",
       "3. 2020-04-30\n",
       "4. 2020-05-31\n",
       "5. 2020-06-30\n",
       "6. 2020-07-31\n",
       "7. 2020-08-31\n",
       "8. 2020-09-30\n",
       "9. 2020-10-31\n",
       "10. 2020-11-30\n",
       "11. 2020-12-31\n",
       "12. 2021-01-31\n",
       "\n",
       "\n"
      ],
      "text/plain": [
       " [1] \"2020-02-29\" \"2020-03-31\" \"2020-04-30\" \"2020-05-31\" \"2020-06-30\"\n",
       " [6] \"2020-07-31\" \"2020-08-31\" \"2020-09-30\" \"2020-10-31\" \"2020-11-30\"\n",
       "[11] \"2020-12-31\" \"2021-01-31\""
      ]
     },
     "metadata": {},
     "output_type": "display_data"
    },
    {
     "data": {
      "text/html": [
       "<ol class=list-inline>\n",
       "\t<li><time datetime=\"2019-12-31\">2019-12-31</time></li>\n",
       "\t<li><time datetime=\"2019-11-30\">2019-11-30</time></li>\n",
       "\t<li><time datetime=\"2019-10-31\">2019-10-31</time></li>\n",
       "\t<li><time datetime=\"2019-09-30\">2019-09-30</time></li>\n",
       "\t<li><time datetime=\"2019-08-31\">2019-08-31</time></li>\n",
       "\t<li><time datetime=\"2019-07-31\">2019-07-31</time></li>\n",
       "\t<li><time datetime=\"2019-06-30\">2019-06-30</time></li>\n",
       "\t<li><time datetime=\"2019-05-31\">2019-05-31</time></li>\n",
       "\t<li><time datetime=\"2019-04-30\">2019-04-30</time></li>\n",
       "\t<li><time datetime=\"2019-03-31\">2019-03-31</time></li>\n",
       "\t<li><time datetime=\"2019-02-28\">2019-02-28</time></li>\n",
       "\t<li><time datetime=\"2019-01-31\">2019-01-31</time></li>\n",
       "</ol>\n"
      ],
      "text/latex": [
       "\\begin{enumerate*}\n",
       "\\item 2019-12-31\n",
       "\\item 2019-11-30\n",
       "\\item 2019-10-31\n",
       "\\item 2019-09-30\n",
       "\\item 2019-08-31\n",
       "\\item 2019-07-31\n",
       "\\item 2019-06-30\n",
       "\\item 2019-05-31\n",
       "\\item 2019-04-30\n",
       "\\item 2019-03-31\n",
       "\\item 2019-02-28\n",
       "\\item 2019-01-31\n",
       "\\end{enumerate*}\n"
      ],
      "text/markdown": [
       "1. 2019-12-31\n",
       "2. 2019-11-30\n",
       "3. 2019-10-31\n",
       "4. 2019-09-30\n",
       "5. 2019-08-31\n",
       "6. 2019-07-31\n",
       "7. 2019-06-30\n",
       "8. 2019-05-31\n",
       "9. 2019-04-30\n",
       "10. 2019-03-31\n",
       "11. 2019-02-28\n",
       "12. 2019-01-31\n",
       "\n",
       "\n"
      ],
      "text/plain": [
       " [1] \"2019-12-31\" \"2019-11-30\" \"2019-10-31\" \"2019-09-30\" \"2019-08-31\"\n",
       " [6] \"2019-07-31\" \"2019-06-30\" \"2019-05-31\" \"2019-04-30\" \"2019-03-31\"\n",
       "[11] \"2019-02-28\" \"2019-01-31\""
      ]
     },
     "metadata": {},
     "output_type": "display_data"
    }
   ],
   "source": [
    "jan_31 = ymd(\"2020-01-31\")\n",
    "\n",
    "# Start by creating a sequence of 1 to 12 periods of 1 month.\n",
    "month_seq <- 1:12 * months(1)\n",
    "# Add month_seq to jan_31. Notice what happens to any month where the 31st doesn't exist\n",
    "jan_31 + month_seq\n",
    "# Now add month_seq to jan_31 using the %m+% operator.\n",
    "jan_31 %m+% month_seq\n",
    "# Try subtracting month_seq from jan_31 using the %m-% operator.\n",
    "jan_31 %m-% month_seq"
   ]
  },
  {
   "cell_type": "markdown",
   "metadata": {},
   "source": [
    "### Examining intervals. Reigns of kings and queens\n",
    "You can create an interval by using the operator %--% with two datetimes. \n",
    "For example ymd(\"2001-01-01\") %--% ymd(\"2001-12-31\") creates an interval for the year of 2001.\n",
    "Once you have an interval you can find out certain properties like its start, end and length with \n",
    "int_start(), int_end() and int_length() respectively.\n",
    "Practice by exploring the reigns of kings and queens of Britain"
   ]
  },
  {
   "cell_type": "code",
   "execution_count": 16,
   "metadata": {},
   "outputs": [
    {
     "data": {
      "text/html": [
       "<table>\n",
       "<thead><tr><th scope=col>name</th><th scope=col>from</th><th scope=col>to</th></tr></thead>\n",
       "<tbody>\n",
       "\t<tr><td>Elizabeth II</td><td>2/6/1952    </td><td>12/26/2020  </td></tr>\n",
       "\t<tr><td>Victoria    </td><td>1837-06-20  </td><td>1/22/1901   </td></tr>\n",
       "\t<tr><td>George V    </td><td>5/6/1910    </td><td>1/20/1936   </td></tr>\n",
       "\t<tr><td>George III  </td><td>1801-01-01  </td><td>1820-01-29  </td></tr>\n",
       "\t<tr><td>George VI   </td><td>12/11/1936  </td><td>2/6/1952    </td></tr>\n",
       "\t<tr><td>George IV   </td><td>1820-01-29  </td><td>1830-06-26  </td></tr>\n",
       "\t<tr><td>Edward VII  </td><td>1/22/1901   </td><td>5/6/1910    </td></tr>\n",
       "\t<tr><td>William IV  </td><td>1830-06-26  </td><td>1837-06-20  </td></tr>\n",
       "\t<tr><td>Edward VIII </td><td>1/20/1936   </td><td>12/11/1936  </td></tr>\n",
       "\t<tr><td>George III  </td><td>1760-10-25  </td><td>1801-01-01  </td></tr>\n",
       "</tbody>\n",
       "</table>\n"
      ],
      "text/latex": [
       "\\begin{tabular}{r|lll}\n",
       " name & from & to\\\\\n",
       "\\hline\n",
       "\t Elizabeth II & 2/6/1952     & 12/26/2020  \\\\\n",
       "\t Victoria     & 1837-06-20   & 1/22/1901   \\\\\n",
       "\t George V     & 5/6/1910     & 1/20/1936   \\\\\n",
       "\t George III   & 1801-01-01   & 1820-01-29  \\\\\n",
       "\t George VI    & 12/11/1936   & 2/6/1952    \\\\\n",
       "\t George IV    & 1820-01-29   & 1830-06-26  \\\\\n",
       "\t Edward VII   & 1/22/1901    & 5/6/1910    \\\\\n",
       "\t William IV   & 1830-06-26   & 1837-06-20  \\\\\n",
       "\t Edward VIII  & 1/20/1936    & 12/11/1936  \\\\\n",
       "\t George III   & 1760-10-25   & 1801-01-01  \\\\\n",
       "\\end{tabular}\n"
      ],
      "text/markdown": [
       "\n",
       "| name | from | to |\n",
       "|---|---|---|\n",
       "| Elizabeth II | 2/6/1952     | 12/26/2020   |\n",
       "| Victoria     | 1837-06-20   | 1/22/1901    |\n",
       "| George V     | 5/6/1910     | 1/20/1936    |\n",
       "| George III   | 1801-01-01   | 1820-01-29   |\n",
       "| George VI    | 12/11/1936   | 2/6/1952     |\n",
       "| George IV    | 1820-01-29   | 1830-06-26   |\n",
       "| Edward VII   | 1/22/1901    | 5/6/1910     |\n",
       "| William IV   | 1830-06-26   | 1837-06-20   |\n",
       "| Edward VIII  | 1/20/1936    | 12/11/1936   |\n",
       "| George III   | 1760-10-25   | 1801-01-01   |\n",
       "\n"
      ],
      "text/plain": [
       "   name         from       to        \n",
       "1  Elizabeth II 2/6/1952   12/26/2020\n",
       "2  Victoria     1837-06-20 1/22/1901 \n",
       "3  George V     5/6/1910   1/20/1936 \n",
       "4  George III   1801-01-01 1820-01-29\n",
       "5  George VI    12/11/1936 2/6/1952  \n",
       "6  George IV    1820-01-29 1830-06-26\n",
       "7  Edward VII   1/22/1901  5/6/1910  \n",
       "8  William IV   1830-06-26 1837-06-20\n",
       "9  Edward VIII  1/20/1936  12/11/1936\n",
       "10 George III   1760-10-25 1801-01-01"
      ]
     },
     "metadata": {},
     "output_type": "display_data"
    },
    {
     "name": "stdout",
     "output_type": "stream",
     "text": [
      "           name       from         to  from_date    to_date\n",
      "1  Elizabeth II   2/6/1952 12/26/2020 1952-02-05 2020-12-25\n",
      "2      Victoria 1837-06-20  1/22/1901 1837-06-19 1901-01-21\n",
      "3      George V   5/6/1910  1/20/1936 1910-05-05 1936-01-19\n",
      "4    George III 1801-01-01 1820-01-29 1800-12-31 1820-01-28\n",
      "5     George VI 12/11/1936   2/6/1952 1936-12-10 1952-02-05\n",
      "6     George IV 1820-01-29 1830-06-26 1820-01-28 1830-06-25\n",
      "7    Edward VII  1/22/1901   5/6/1910 1901-01-21 1910-05-05\n",
      "8    William IV 1830-06-26 1837-06-20 1830-06-25 1837-06-19\n",
      "9   Edward VIII  1/20/1936 12/11/1936 1936-01-19 1936-12-10\n",
      "10   George III 1760-10-25 1801-01-01 1760-10-24 1800-12-31\n"
     ]
    },
    {
     "data": {
      "text/html": [
       "<table>\n",
       "<thead><tr><th scope=col>name</th><th scope=col>length</th></tr></thead>\n",
       "<tbody>\n",
       "\t<tr><td>Elizabeth II</td><td>2173910400  </td></tr>\n",
       "\t<tr><td>Victoria    </td><td>2006726400  </td></tr>\n",
       "\t<tr><td>George III  </td><td>1268092800  </td></tr>\n",
       "\t<tr><td>George V    </td><td> 811296000  </td></tr>\n",
       "\t<tr><td>George III  </td><td> 601948800  </td></tr>\n",
       "\t<tr><td>George VI   </td><td> 478224000  </td></tr>\n",
       "\t<tr><td>George IV   </td><td> 328406400  </td></tr>\n",
       "\t<tr><td>Edward VII  </td><td> 292982400  </td></tr>\n",
       "\t<tr><td>William IV  </td><td> 220406400  </td></tr>\n",
       "\t<tr><td>Edward VIII </td><td>  28166400  </td></tr>\n",
       "</tbody>\n",
       "</table>\n"
      ],
      "text/latex": [
       "\\begin{tabular}{r|ll}\n",
       " name & length\\\\\n",
       "\\hline\n",
       "\t Elizabeth II & 2173910400  \\\\\n",
       "\t Victoria     & 2006726400  \\\\\n",
       "\t George III   & 1268092800  \\\\\n",
       "\t George V     &  811296000  \\\\\n",
       "\t George III   &  601948800  \\\\\n",
       "\t George VI    &  478224000  \\\\\n",
       "\t George IV    &  328406400  \\\\\n",
       "\t Edward VII   &  292982400  \\\\\n",
       "\t William IV   &  220406400  \\\\\n",
       "\t Edward VIII  &   28166400  \\\\\n",
       "\\end{tabular}\n"
      ],
      "text/markdown": [
       "\n",
       "| name | length |\n",
       "|---|---|\n",
       "| Elizabeth II | 2173910400   |\n",
       "| Victoria     | 2006726400   |\n",
       "| George III   | 1268092800   |\n",
       "| George V     |  811296000   |\n",
       "| George III   |  601948800   |\n",
       "| George VI    |  478224000   |\n",
       "| George IV    |  328406400   |\n",
       "| Edward VII   |  292982400   |\n",
       "| William IV   |  220406400   |\n",
       "| Edward VIII  |   28166400   |\n",
       "\n"
      ],
      "text/plain": [
       "   name         length    \n",
       "1  Elizabeth II 2173910400\n",
       "2  Victoria     2006726400\n",
       "3  George III   1268092800\n",
       "4  George V      811296000\n",
       "5  George III    601948800\n",
       "6  George VI     478224000\n",
       "7  George IV     328406400\n",
       "8  Edward VII    292982400\n",
       "9  William IV    220406400\n",
       "10 Edward VIII    28166400"
      ]
     },
     "metadata": {},
     "output_type": "display_data"
    }
   ],
   "source": [
    "# import libraries\n",
    "library(anytime)\n",
    "library(dplyr)\n",
    "# Use read.csv()\n",
    "monarch <- read.csv('monarchs.csv')\n",
    "monarch\n",
    "# create  a datetime\n",
    "monarch_mod <- monarch%>% \n",
    "  mutate(\n",
    "    from_date = as.Date(anytime(from)),\n",
    "    to_date  = as.Date(anytime(to)))\n",
    "# check\n",
    "print(monarch_mod)\n",
    "\n",
    "# Create an interval for reign\n",
    "monarchs <- monarch_mod %>%\n",
    "  mutate(reign = from_date %--% to_date) \n",
    "\n",
    "# Find the length of reign, and arrange\n",
    "monarchs %>%\n",
    "  mutate(length = int_length(reign)) %>% \n",
    "  arrange(desc(length)) %>%\n",
    "  select(name, length)"
   ]
  },
  {
   "cell_type": "markdown",
   "metadata": {},
   "source": [
    "### Comparing intervals and datetimes\n",
    "A common task with intervals is to ask if a certain time is inside the interval or whether it overlaps with another interval.\n",
    "The operator %within% tests if the datetime (or interval) on the left hand side is within the interval of the right hand side. \n",
    "For example, if y2001 is the interval covering the year 2001,\n",
    "\n",
    "2001 <- ymd(\"2001-01-01\") %--% ymd(\"2001-12-31\")\n",
    "\n",
    "Then \n",
    "\n",
    "ymd(\"2001-03-30\") %within% y2001 \n",
    "\n",
    "will return TRUE and \n",
    "\n",
    "ymd(\"2002-03-30\") %within% y2001 \n",
    "\n",
    "will return FALSE.\n",
    "\n",
    "int_overlaps() performs a similar test, but will return true if two intervals overlap at all."
   ]
  },
  {
   "cell_type": "code",
   "execution_count": 18,
   "metadata": {},
   "outputs": [
    {
     "data": {
      "text/html": [
       "TRUE"
      ],
      "text/latex": [
       "TRUE"
      ],
      "text/markdown": [
       "TRUE"
      ],
      "text/plain": [
       "[1] TRUE"
      ]
     },
     "metadata": {},
     "output_type": "display_data"
    },
    {
     "data": {
      "text/html": [
       "FALSE"
      ],
      "text/latex": [
       "FALSE"
      ],
      "text/markdown": [
       "FALSE"
      ],
      "text/plain": [
       "[1] FALSE"
      ]
     },
     "metadata": {},
     "output_type": "display_data"
    },
    {
     "data": {
      "text/html": [
       "<table>\n",
       "<thead><tr><th scope=col>name</th><th scope=col>from_date</th><th scope=col>to_date</th></tr></thead>\n",
       "<tbody>\n",
       "\t<tr><td>Elizabeth II</td><td>1952-02-05  </td><td>2020-12-25  </td></tr>\n",
       "</tbody>\n",
       "</table>\n"
      ],
      "text/latex": [
       "\\begin{tabular}{r|lll}\n",
       " name & from\\_date & to\\_date\\\\\n",
       "\\hline\n",
       "\t Elizabeth II & 1952-02-05   & 2020-12-25  \\\\\n",
       "\\end{tabular}\n"
      ],
      "text/markdown": [
       "\n",
       "| name | from_date | to_date |\n",
       "|---|---|---|\n",
       "| Elizabeth II | 1952-02-05   | 2020-12-25   |\n",
       "\n"
      ],
      "text/plain": [
       "  name         from_date  to_date   \n",
       "1 Elizabeth II 1952-02-05 2020-12-25"
      ]
     },
     "metadata": {},
     "output_type": "display_data"
    },
    {
     "data": {
      "text/html": [
       "<table>\n",
       "<thead><tr><th scope=col>name</th><th scope=col>from_date</th><th scope=col>to_date</th></tr></thead>\n",
       "<tbody>\n",
       "</tbody>\n",
       "</table>\n"
      ],
      "text/latex": [
       "\\begin{tabular}{r|lll}\n",
       " name & from\\_date & to\\_date\\\\\n",
       "\\hline\n",
       "\\end{tabular}\n"
      ],
      "text/markdown": [
       "\n",
       "| name | from_date | to_date |\n",
       "|---|---|---|\n",
       "\n"
      ],
      "text/plain": [
       "     name from_date to_date"
      ]
     },
     "metadata": {},
     "output_type": "display_data"
    }
   ],
   "source": [
    "# one date_time and one period:\n",
    "hendrix_at_woodstock <- mdy(\"August 17 1969\")\n",
    "luis_xiv <- dmy(\"01 October 1620\") %--% dmy(\"16 September 1701\")\n",
    "\n",
    "# Monarch in power on hendrix at woodstock \n",
    "monarchs %>% \n",
    "  filter(hendrix_at_woodstock %within% reign) %>%\n",
    "  select(name, from_date, to_date)\n",
    "\n",
    "# Monarchs whose reign overlaps luis_xiv\n",
    "monarchs %>% \n",
    "  filter(int_overlaps(luis_xiv, reign)) %>%\n",
    "  select(name, from_date, to_date)"
   ]
  },
  {
   "cell_type": "markdown",
   "metadata": {},
   "source": [
    "### Converting to durations and periods\n",
    "Intervals are the most specific way to represent a span of time since they retain information \n",
    "about the exact start and end moments. They can be converted to periods and durations exactly: \n",
    "it's possible to calculate both the exact number of seconds elapsed between the start and end date, \n",
    "as well as the perceived change in clock time.\n",
    "To do so you use the as.period(), and as.duration() functions, parsing in an interval as the only argument.\n",
    "Try them out to get better representations of the length of the monarchs reigns."
   ]
  },
  {
   "cell_type": "code",
   "execution_count": 19,
   "metadata": {},
   "outputs": [
    {
     "data": {
      "text/html": [
       "<table>\n",
       "<thead><tr><th scope=col>name</th><th scope=col>duration</th><th scope=col>period</th></tr></thead>\n",
       "<tbody>\n",
       "\t<tr><td>Elizabeth II              </td><td>2173910400s (~68.89 years)</td><td>68y 10m 20d 0H 0M 0S      </td></tr>\n",
       "\t<tr><td>Victoria                  </td><td>2006726400s (~63.59 years)</td><td>63y 7m 2d 0H 0M 0S        </td></tr>\n",
       "\t<tr><td>George V                 </td><td>811296000s (~25.71 years)</td><td>25y 8m 14d 0H 0M 0S      </td></tr>\n",
       "\t<tr><td>George III               </td><td>601948800s (~19.07 years)</td><td>19y 0m 28d 0H 0M 0S      </td></tr>\n",
       "\t<tr><td>George VI                </td><td>478224000s (~15.15 years)</td><td>15y 1m 26d 0H 0M 0S      </td></tr>\n",
       "\t<tr><td>George IV                </td><td>328406400s (~10.41 years)</td><td>10y 4m 28d 0H 0M 0S      </td></tr>\n",
       "\t<tr><td>Edward VII              </td><td>292982400s (~9.28 years)</td><td>9y 3m 14d 0H 0M 0S      </td></tr>\n",
       "\t<tr><td>William IV              </td><td>220406400s (~6.98 years)</td><td>6y 11m 25d 0H 0M 0S     </td></tr>\n",
       "\t<tr><td>Edward VIII             </td><td>28166400s (~46.57 weeks)</td><td>10m 21d 0H 0M 0S        </td></tr>\n",
       "\t<tr><td>George III                </td><td>1268092800s (~40.18 years)</td><td>40y 2m 7d 0H 0M 0S        </td></tr>\n",
       "</tbody>\n",
       "</table>\n"
      ],
      "text/latex": [
       "\\begin{tabular}{r|lll}\n",
       " name & duration & period\\\\\n",
       "\\hline\n",
       "\t Elizabeth II                                & 2173910400s (\\textasciitilde{}68.89 years) & 68y 10m 20d 0H 0M 0S                       \\\\\n",
       "\t Victoria                                    & 2006726400s (\\textasciitilde{}63.59 years) & 63y 7m 2d 0H 0M 0S                         \\\\\n",
       "\t George V                                   & 811296000s (\\textasciitilde{}25.71 years) & 25y 8m 14d 0H 0M 0S                       \\\\\n",
       "\t George III                                 & 601948800s (\\textasciitilde{}19.07 years) & 19y 0m 28d 0H 0M 0S                       \\\\\n",
       "\t George VI                                  & 478224000s (\\textasciitilde{}15.15 years) & 15y 1m 26d 0H 0M 0S                       \\\\\n",
       "\t George IV                                  & 328406400s (\\textasciitilde{}10.41 years) & 10y 4m 28d 0H 0M 0S                       \\\\\n",
       "\t Edward VII                                & 292982400s (\\textasciitilde{}9.28 years) & 9y 3m 14d 0H 0M 0S                       \\\\\n",
       "\t William IV                                & 220406400s (\\textasciitilde{}6.98 years) & 6y 11m 25d 0H 0M 0S                      \\\\\n",
       "\t Edward VIII                               & 28166400s (\\textasciitilde{}46.57 weeks) & 10m 21d 0H 0M 0S                         \\\\\n",
       "\t George III                                  & 1268092800s (\\textasciitilde{}40.18 years) & 40y 2m 7d 0H 0M 0S                         \\\\\n",
       "\\end{tabular}\n"
      ],
      "text/markdown": [
       "\n",
       "| name | duration | period |\n",
       "|---|---|---|\n",
       "| Elizabeth II               | 2173910400s (~68.89 years) | 68y 10m 20d 0H 0M 0S       |\n",
       "| Victoria                   | 2006726400s (~63.59 years) | 63y 7m 2d 0H 0M 0S         |\n",
       "| George V                  | 811296000s (~25.71 years) | 25y 8m 14d 0H 0M 0S       |\n",
       "| George III                | 601948800s (~19.07 years) | 19y 0m 28d 0H 0M 0S       |\n",
       "| George VI                 | 478224000s (~15.15 years) | 15y 1m 26d 0H 0M 0S       |\n",
       "| George IV                 | 328406400s (~10.41 years) | 10y 4m 28d 0H 0M 0S       |\n",
       "| Edward VII               | 292982400s (~9.28 years) | 9y 3m 14d 0H 0M 0S       |\n",
       "| William IV               | 220406400s (~6.98 years) | 6y 11m 25d 0H 0M 0S      |\n",
       "| Edward VIII              | 28166400s (~46.57 weeks) | 10m 21d 0H 0M 0S         |\n",
       "| George III                 | 1268092800s (~40.18 years) | 40y 2m 7d 0H 0M 0S         |\n",
       "\n"
      ],
      "text/plain": [
       "   name         duration                   period              \n",
       "1  Elizabeth II 2173910400s (~68.89 years) 68y 10m 20d 0H 0M 0S\n",
       "2  Victoria     2006726400s (~63.59 years) 63y 7m 2d 0H 0M 0S  \n",
       "3  George V     811296000s (~25.71 years)  25y 8m 14d 0H 0M 0S \n",
       "4  George III   601948800s (~19.07 years)  19y 0m 28d 0H 0M 0S \n",
       "5  George VI    478224000s (~15.15 years)  15y 1m 26d 0H 0M 0S \n",
       "6  George IV    328406400s (~10.41 years)  10y 4m 28d 0H 0M 0S \n",
       "7  Edward VII   292982400s (~9.28 years)   9y 3m 14d 0H 0M 0S  \n",
       "8  William IV   220406400s (~6.98 years)   6y 11m 25d 0H 0M 0S \n",
       "9  Edward VIII  28166400s (~46.57 weeks)   10m 21d 0H 0M 0S    \n",
       "10 George III   1268092800s (~40.18 years) 40y 2m 7d 0H 0M 0S  "
      ]
     },
     "metadata": {},
     "output_type": "display_data"
    }
   ],
   "source": [
    "# New columns for duration and period\n",
    "monarchs <- monarchs %>%\n",
    "  mutate(\n",
    "    duration = as.duration(reign),\n",
    "    period = as.period(reign)) \n",
    "    \n",
    "# Examine results    \n",
    "monarchs %>%\n",
    "  select(name, duration, period)"
   ]
  }
 ],
 "metadata": {
  "kernelspec": {
   "display_name": "R",
   "language": "R",
   "name": "ir"
  },
  "language_info": {
   "codemirror_mode": "r",
   "file_extension": ".r",
   "mimetype": "text/x-r-source",
   "name": "R",
   "pygments_lexer": "r",
   "version": "3.6.1"
  }
 },
 "nbformat": 4,
 "nbformat_minor": 4
}
