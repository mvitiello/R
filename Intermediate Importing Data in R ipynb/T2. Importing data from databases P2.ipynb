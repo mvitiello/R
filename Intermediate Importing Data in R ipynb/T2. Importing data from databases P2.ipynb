{
 "cells": [
  {
   "cell_type": "markdown",
   "metadata": {},
   "source": [
    "## Importing data from databases (Part 2)\n",
    "\n",
    "Importing an entire table from a database while you might only need a tiny bit of information seems like a lot of unncessary work. In this chapter, you'll learn about SQL queries, which will help you make things more efficient by performing some computations on the database side."
   ]
  },
  {
   "cell_type": "markdown",
   "metadata": {},
   "source": [
    "### Query tweater (1)\n",
    "In your life as a data scientist, you'll often be working with huge databases that contain tables with millions of rows. If you want to do some analyses on this data, it's possible that you only need a fraction of this data. In this case, it's a good idea to send SQL queries to your database, and only import the data you actually need into R.\n",
    "\n",
    "dbGetQuery() is what you need. As usual, you first pass the connection object to it. The second argument is an SQL query in the form of a character string. This example selects the age variable from the people dataset where gender equals \"male\":\n",
    "\n",
    "dbGetQuery(con, \"SELECT age FROM people WHERE gender = 'male'\")"
   ]
  },
  {
   "cell_type": "code",
   "execution_count": 1,
   "metadata": {},
   "outputs": [
    {
     "name": "stderr",
     "output_type": "stream",
     "text": [
      "Warning message:\n",
      "\"package 'DBI' was built under R version 3.6.3\""
     ]
    },
    {
     "name": "stdout",
     "output_type": "stream",
     "text": [
      "  tweat_id\n",
      "1       87\n",
      "2       49\n",
      "3       77\n",
      "4       77\n"
     ]
    }
   ],
   "source": [
    "# Connect to the database\n",
    "library(DBI)\n",
    "con <- dbConnect(RMySQL::MySQL(),\n",
    "                 dbname = \"tweater\",\n",
    "                 host = \"courses.csrrinzqubik.us-east-1.rds.amazonaws.com\",\n",
    "                 port = 3306,\n",
    "                 user = \"student\",\n",
    "                 password = \"datacamp\")\n",
    "\n",
    "# Import tweat_id column of comments where user_id is 1: elisabeth\n",
    " elisabeth = dbGetQuery(con, \"SELECT tweat_id FROM comments WHERE user_id = '1'\")\n",
    "\n",
    "# Print elisabeth\n",
    "print(elisabeth)"
   ]
  },
  {
   "cell_type": "markdown",
   "metadata": {},
   "source": [
    "### Query tweater (2)\n",
    "Apart from checking equality, you can also check for less than and greater than relationships, with < and >, just like in R.\n",
    "\n",
    "con, a connection to the tweater database, is again available."
   ]
  },
  {
   "cell_type": "code",
   "execution_count": 2,
   "metadata": {},
   "outputs": [
    {
     "name": "stdout",
     "output_type": "stream",
     "text": [
      "                                                                 post\n",
      "1               open and crush avocado. add shrimps. perfect starter.\n",
      "2 nachos. add tomato sauce, minced meat and cheese. oven for 10 mins.\n",
      "3                              just eat an apple. simply and healthy.\n"
     ]
    }
   ],
   "source": [
    "# Import post column of tweats where date is higher than '2015-09-21': latest\n",
    "latest = dbGetQuery(con, \"SELECT post FROM tweats WHERE date > '2015-09-21'\")\n",
    "\n",
    "# Print latest\n",
    "print(latest)"
   ]
  },
  {
   "cell_type": "markdown",
   "metadata": {},
   "source": [
    "### Query tweater (3)\n",
    "Suppose that you have a people table, with a bunch of information. This time, you want to find out the age and country of married males. Provided that there is a married column that's 1 when the person in question is married, the following query would work.\n",
    "\n",
    "SELECT age, country FROM people WHERE gender = \"male\" AND married = 1\n",
    "\n",
    "Can you use a similar approach for a more specialized query on the tweater database?"
   ]
  },
  {
   "cell_type": "code",
   "execution_count": 3,
   "metadata": {},
   "outputs": [
    {
     "name": "stdout",
     "output_type": "stream",
     "text": [
      "  message\n",
      "1  great!\n"
     ]
    }
   ],
   "source": [
    "# Create data frame specific\n",
    "specific = dbGetQuery(con, \"SELECT message FROM comments WHERE tweat_id = '77' AND USER_ID > '4'\")\n",
    "\n",
    "# Print specific\n",
    "print(specific)"
   ]
  },
  {
   "cell_type": "markdown",
   "metadata": {},
   "source": [
    "### Query tweater (4)\n",
    "There are also dedicated SQL functions that you can use in the WHERE clause of an SQL query. For example, CHAR_LENGTH() returns the number of characters in a string."
   ]
  },
  {
   "cell_type": "code",
   "execution_count": 4,
   "metadata": {},
   "outputs": [
    {
     "name": "stdout",
     "output_type": "stream",
     "text": [
      "  id name\n",
      "1  2 mike\n",
      "2  3 thea\n",
      "3  6 kate\n"
     ]
    }
   ],
   "source": [
    "# Create data frame short\n",
    "\n",
    "short = dbGetQuery(con, \"SELECT id, name FROM users WHERE CHAR_LENGTH(name) < '5'\")\n",
    "# Print short\n",
    "print(short)"
   ]
  },
  {
   "cell_type": "markdown",
   "metadata": {},
   "source": [
    "### Join the query madness!\n",
    "Of course, SQL does not stop with the the three keywords SELECT, FROM and WHERE. Another very often used keyword is JOIN, and more specifically INNER JOIN. Take this call for example:\n",
    "\n",
    "query1 = dbGetQuery(con,\"SELECT name, post FROM users INNER JOIN tweats on users.id = user_id WHERE date > '2015-09-19'\")\n",
    "\n",
    "\n",
    "query2 = dbGetQuery(con, \"SELECT post, message FROM tweats INNER JOIN comments on tweats.id = tweat_id WHERE tweat_id = '77'\")"
   ]
  },
  {
   "cell_type": "code",
   "execution_count": 8,
   "metadata": {},
   "outputs": [
    {
     "name": "stdout",
     "output_type": "stream",
     "text": [
      "       name                                                                post\n",
      "1 elisabeth nachos. add tomato sauce, minced meat and cheese. oven for 10 mins.\n",
      "2    oliver               open and crush avocado. add shrimps. perfect starter.\n",
      "3      kate                       2 slices of bread. add cheese. grill. heaven.\n",
      "4    anjali                              just eat an apple. simply and healthy.\n"
     ]
    }
   ],
   "source": [
    "# print query1\n",
    "\n",
    "query1 = dbGetQuery(con,\"SELECT name, post FROM users INNER JOIN tweats on users.id = user_id WHERE date > '2015-09-19'\")\n",
    "print(query1)"
   ]
  },
  {
   "cell_type": "code",
   "execution_count": 9,
   "metadata": {},
   "outputs": [
    {
     "name": "stdout",
     "output_type": "stream",
     "text": [
      "                                           post            message\n",
      "1 2 slices of bread. add cheese. grill. heaven.             great!\n",
      "2 2 slices of bread. add cheese. grill. heaven.      not my thing!\n",
      "3 2 slices of bread. add cheese. grill. heaven. couldn't be better\n",
      "4 2 slices of bread. add cheese. grill. heaven.       saved my day\n"
     ]
    }
   ],
   "source": [
    "# print query2\n",
    "\n",
    "query2 = dbGetQuery(con, \"SELECT post, message FROM tweats INNER JOIN comments on tweats.id = tweat_id WHERE tweat_id = '77'\")\n",
    "\n",
    "print(query2)"
   ]
  },
  {
   "cell_type": "markdown",
   "metadata": {},
   "source": [
    "### Send - Fetch - Clear\n",
    "You've used dbGetQuery() multiple times now. This is a virtual function from the DBI package, but is actually implemented by the RMySQL package. Behind the scenes, the following steps are performed:\n",
    "\n",
    "1. Sending the specified query with dbSendQuery();\n",
    "2. Fetching the result of executing the query on the database with dbFetch();\n",
    "3. Clearing the result with dbClearResult().\n",
    "\n",
    "Let's not use dbGetQuery() this time and implement the steps above. This is tedious to write, but it gives you the ability to fetch the query's result in chunks rather than all at once. You can do this by specifying the n argument inside dbFetch()."
   ]
  },
  {
   "cell_type": "code",
   "execution_count": 10,
   "metadata": {},
   "outputs": [
    {
     "name": "stdout",
     "output_type": "stream",
     "text": [
      "    id tweat_id user_id message\n",
      "1 1022       87       7   nice!\n",
      "2 1000       77       7  great!\n",
      "    id tweat_id user_id  message\n",
      "1 1011       49       5  love it\n",
      "2 1010       88       6    yuck!\n",
      "3 1030       75       6 so easy!\n"
     ]
    },
    {
     "data": {
      "text/html": [
       "TRUE"
      ],
      "text/latex": [
       "TRUE"
      ],
      "text/markdown": [
       "TRUE"
      ],
      "text/plain": [
       "[1] TRUE"
      ]
     },
     "metadata": {},
     "output_type": "display_data"
    }
   ],
   "source": [
    "# Send query to the database\n",
    "res <- dbSendQuery(con, \"SELECT * FROM comments WHERE user_id > 4\")\n",
    "\n",
    "# Use dbFetch() twice\n",
    "print(dbFetch(res, n = 2))\n",
    "\n",
    "print(dbFetch(res))\n",
    "\n",
    "# Clear res\n",
    "dbClearResult(res)"
   ]
  },
  {
   "cell_type": "markdown",
   "metadata": {},
   "source": [
    "### Be polite and ...\n",
    "Every time you connect to a database using dbConnect(), you're creating a new connection to the database you're referencing. RMySQL automatically specifies a maximum of open connections and closes some of the connections for you, but still: it's always polite to manually disconnect from the database afterwards. You do this with the dbDisconnect() function.\n",
    "\n",
    "The code that connects you to the database is already available, can you finish the script?"
   ]
  },
  {
   "cell_type": "code",
   "execution_count": 11,
   "metadata": {},
   "outputs": [
    {
     "name": "stdout",
     "output_type": "stream",
     "text": [
      "                                                                 post\n",
      "1                           wash strawberries. add ice. blend. enjoy.\n",
      "2                       2 slices of bread. add cheese. grill. heaven.\n",
      "3               open and crush avocado. add shrimps. perfect starter.\n",
      "4 nachos. add tomato sauce, minced meat and cheese. oven for 10 mins.\n",
      "        date\n",
      "1 2015-09-14\n",
      "2 2015-09-21\n",
      "3 2015-09-22\n",
      "4 2015-09-22\n"
     ]
    },
    {
     "data": {
      "text/html": [
       "TRUE"
      ],
      "text/latex": [
       "TRUE"
      ],
      "text/markdown": [
       "TRUE"
      ],
      "text/plain": [
       "[1] TRUE"
      ]
     },
     "metadata": {},
     "output_type": "display_data"
    }
   ],
   "source": [
    "# Create the data frame  long_tweats\n",
    "long_tweats = dbGetQuery(con, \"SELECT post, date FROM tweats WHERE CHAR_LENGTH(post) > '40'\")\n",
    "\n",
    "# Print long_tweats\n",
    "print(long_tweats)\n",
    "\n",
    "# Disconnect from the database\n",
    "dbDisconnect(con)"
   ]
  },
  {
   "cell_type": "code",
   "execution_count": null,
   "metadata": {},
   "outputs": [],
   "source": []
  }
 ],
 "metadata": {
  "kernelspec": {
   "display_name": "R",
   "language": "R",
   "name": "ir"
  },
  "language_info": {
   "codemirror_mode": "r",
   "file_extension": ".r",
   "mimetype": "text/x-r-source",
   "name": "R",
   "pygments_lexer": "r",
   "version": "3.6.1"
  }
 },
 "nbformat": 4,
 "nbformat_minor": 4
}
