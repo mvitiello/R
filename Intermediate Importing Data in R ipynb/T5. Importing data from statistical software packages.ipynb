{
 "cells": [
  {
   "cell_type": "markdown",
   "metadata": {},
   "source": [
    "## Importing data from statistical software packages\n",
    "\n",
    "Next to R, there are also other commonly used statistical software packages: SAS, STATA and SPSS. Each of them has their own file format. Learn how to use the haven and foreign packages to get them into R with remarkable ease!"
   ]
  },
  {
   "cell_type": "markdown",
   "metadata": {},
   "source": [
    "### Import SAS data with haven\n",
    "haven is an extremely easy-to-use package to import data from three software packages: SAS, STATA and SPSS. Depending on the software, you use different functions:\n",
    "\n",
    "SAS: read_sas()\n",
    "STATA: read_dta() (or read_stata(), which are identical)\n",
    "SPSS: read_sav() or read_por(), depending on the file type.\n",
    "All these functions take one key argument: the path to your local file. In fact, you can even pass a URL; haven will then automatically download the file for you before importing it.\n",
    "\n",
    "You'll be working with data on the age, gender, income, and purchase level (0 = low, 1 = high) of 36 individuals (Source: SAS). The information is stored in a SAS file, sales.sas7bdat, which is available in your current working directory."
   ]
  },
  {
   "cell_type": "code",
   "execution_count": 1,
   "metadata": {},
   "outputs": [
    {
     "name": "stderr",
     "output_type": "stream",
     "text": [
      "Warning message:\n",
      "\"package 'haven' was built under R version 3.6.3\""
     ]
    },
    {
     "name": "stdout",
     "output_type": "stream",
     "text": [
      "tibble [431 x 4] (S3: tbl_df/tbl/data.frame)\n",
      " $ purchase: num [1:431] 0 0 1 1 0 0 0 0 0 0 ...\n",
      " $ age     : num [1:431] 41 47 41 39 32 32 33 45 43 40 ...\n",
      " $ gender  : chr [1:431] \"Female\" \"Female\" \"Female\" \"Female\" ...\n",
      " $ income  : chr [1:431] \"Low\" \"Low\" \"Low\" \"Low\" ...\n",
      " - attr(*, \"label\")= chr \"SALES\"\n"
     ]
    }
   ],
   "source": [
    "# Load the haven package\n",
    "library(haven)\n",
    "\n",
    "# Import sales.sas7bdat: sales\n",
    "sales = read_sas(\"sales.sas7bdat\")\n",
    "\n",
    "# Display the structure of sales\n",
    "str(sales)"
   ]
  },
  {
   "cell_type": "markdown",
   "metadata": {},
   "source": [
    "### Import STATA data with haven\n",
    "Next up are STATA data files; you can use read_dta() for these.\n",
    "\n",
    "When inspecting the result of the read_dta() call, you will notice that one column will be imported as a labelled vector, an R equivalent for the common data structure in other statistical environments. In order to effectively continue working on the data in R, it's best to change this data into a standard R class. To convert a variable of the class labelled to a factor, you'll need haven's as_factor() function.\n",
    "\n",
    "In this exercise, you will work with data on yearly import and export numbers of sugar, both in USD and in weight. The data can be found at: http://assets.datacamp.com/production/course_1478/datasets/trade.dta"
   ]
  },
  {
   "cell_type": "code",
   "execution_count": 2,
   "metadata": {},
   "outputs": [
    {
     "name": "stdout",
     "output_type": "stream",
     "text": [
      "tibble [10 x 5] (S3: tbl_df/tbl/data.frame)\n",
      " $ Date    : dbl+lbl [1:10] 10,  9,  8,  7,  6,  5,  4,  3,  2,  1\n",
      "   ..@ label       : chr \"Date\"\n",
      "   ..@ format.stata: chr \"%9.0g\"\n",
      "   ..@ labels      : Named num [1:10] 1 2 3 4 5 6 7 8 9 10\n",
      "   .. ..- attr(*, \"names\")= chr [1:10] \"2004-12-31\" \"2005-12-31\" \"2006-12-31\" \"2007-12-31\" ...\n",
      " $ Import  : num [1:10] 37664782 16316512 11082246 35677943 9879878 ...\n",
      "  ..- attr(*, \"label\")= chr \"Import\"\n",
      "  ..- attr(*, \"format.stata\")= chr \"%9.0g\"\n",
      " $ Weight_I: num [1:10] 54029106 21584365 14526089 55034932 14806865 ...\n",
      "  ..- attr(*, \"label\")= chr \"Weight_I\"\n",
      "  ..- attr(*, \"format.stata\")= chr \"%9.0g\"\n",
      " $ Export  : num [1:10] 5.45e+07 1.03e+08 3.79e+07 4.85e+07 7.15e+07 ...\n",
      "  ..- attr(*, \"label\")= chr \"Export\"\n",
      "  ..- attr(*, \"format.stata\")= chr \"%9.0g\"\n",
      " $ Weight_E: num [1:10] 9.34e+07 1.58e+08 8.80e+07 1.12e+08 1.32e+08 ...\n",
      "  ..- attr(*, \"label\")= chr \"Weight_E\"\n",
      "  ..- attr(*, \"format.stata\")= chr \"%9.0g\"\n",
      " - attr(*, \"label\")= chr \"Written by R.\"\n",
      "tibble [10 x 5] (S3: tbl_df/tbl/data.frame)\n",
      " $ Date    : Date[1:10], format: \"2013-12-31\" \"2012-12-31\" ...\n",
      " $ Import  : num [1:10] 37664782 16316512 11082246 35677943 9879878 ...\n",
      "  ..- attr(*, \"label\")= chr \"Import\"\n",
      "  ..- attr(*, \"format.stata\")= chr \"%9.0g\"\n",
      " $ Weight_I: num [1:10] 54029106 21584365 14526089 55034932 14806865 ...\n",
      "  ..- attr(*, \"label\")= chr \"Weight_I\"\n",
      "  ..- attr(*, \"format.stata\")= chr \"%9.0g\"\n",
      " $ Export  : num [1:10] 5.45e+07 1.03e+08 3.79e+07 4.85e+07 7.15e+07 ...\n",
      "  ..- attr(*, \"label\")= chr \"Export\"\n",
      "  ..- attr(*, \"format.stata\")= chr \"%9.0g\"\n",
      " $ Weight_E: num [1:10] 9.34e+07 1.58e+08 8.80e+07 1.12e+08 1.32e+08 ...\n",
      "  ..- attr(*, \"label\")= chr \"Weight_E\"\n",
      "  ..- attr(*, \"format.stata\")= chr \"%9.0g\"\n",
      " - attr(*, \"label\")= chr \"Written by R.\"\n"
     ]
    }
   ],
   "source": [
    "\n",
    "# Import the data from the URL: sugar\n",
    "sugar = read_dta(\"http://assets.datacamp.com/production/course_1478/datasets/trade.dta\")\n",
    "# Structure of sugar\n",
    "str(sugar)\n",
    "\n",
    "# Convert values in Date column to dates\n",
    "sugar$Date = as.Date(as_factor(sugar$Date))\n",
    "\n",
    "# Structure of sugar again\n",
    "str(sugar)"
   ]
  },
  {
   "cell_type": "markdown",
   "metadata": {},
   "source": [
    "### Import SPSS data with haven\n",
    "The haven package can also import data files from SPSS. Again, importing the data is pretty straightforward. Depending on the SPSS data file you're working with, you'll need either read_sav() - for .sav files - or read_por() - for .por files.\n",
    "\n",
    "In this exercise, you will work with data on four of the Big Five personality traits for 434 persons (Source: University of Bath). The Big Five is a psychological concept including, originally, five dimensions of personality to classify human personality. The SPSS dataset is called person.sav and is available in your working directory."
   ]
  },
  {
   "cell_type": "code",
   "execution_count": 3,
   "metadata": {},
   "outputs": [
    {
     "data": {
      "text/plain": [
       "    Neurotic      Extroversion   Agreeableness   Conscientiousness\n",
       " Min.   : 0.00   Min.   : 5.00   Min.   :15.00   Min.   : 7.00    \n",
       " 1st Qu.:18.00   1st Qu.:26.00   1st Qu.:39.00   1st Qu.:25.00    \n",
       " Median :24.00   Median :31.00   Median :45.00   Median :30.00    \n",
       " Mean   :23.63   Mean   :30.23   Mean   :44.55   Mean   :30.85    \n",
       " 3rd Qu.:29.00   3rd Qu.:34.00   3rd Qu.:50.00   3rd Qu.:36.00    \n",
       " Max.   :44.00   Max.   :65.00   Max.   :73.00   Max.   :58.00    \n",
       " NA's   :14      NA's   :16      NA's   :19      NA's   :14       "
      ]
     },
     "metadata": {},
     "output_type": "display_data"
    },
    {
     "data": {
      "text/html": [
       "<table>\n",
       "<thead><tr><th scope=col>Neurotic</th><th scope=col>Extroversion</th><th scope=col>Agreeableness</th><th scope=col>Conscientiousness</th></tr></thead>\n",
       "<tbody>\n",
       "\t<tr><td>38</td><td>43</td><td>49</td><td>29</td></tr>\n",
       "\t<tr><td>20</td><td>42</td><td>46</td><td>31</td></tr>\n",
       "\t<tr><td>18</td><td>42</td><td>49</td><td>31</td></tr>\n",
       "\t<tr><td>42</td><td>43</td><td>44</td><td>29</td></tr>\n",
       "\t<tr><td>30</td><td>42</td><td>51</td><td>24</td></tr>\n",
       "\t<tr><td>18</td><td>42</td><td>50</td><td>25</td></tr>\n",
       "\t<tr><td>27</td><td>45</td><td>55</td><td>23</td></tr>\n",
       "\t<tr><td>18</td><td>43</td><td>57</td><td>34</td></tr>\n",
       "</tbody>\n",
       "</table>\n"
      ],
      "text/latex": [
       "\\begin{tabular}{r|llll}\n",
       " Neurotic & Extroversion & Agreeableness & Conscientiousness\\\\\n",
       "\\hline\n",
       "\t 38 & 43 & 49 & 29\\\\\n",
       "\t 20 & 42 & 46 & 31\\\\\n",
       "\t 18 & 42 & 49 & 31\\\\\n",
       "\t 42 & 43 & 44 & 29\\\\\n",
       "\t 30 & 42 & 51 & 24\\\\\n",
       "\t 18 & 42 & 50 & 25\\\\\n",
       "\t 27 & 45 & 55 & 23\\\\\n",
       "\t 18 & 43 & 57 & 34\\\\\n",
       "\\end{tabular}\n"
      ],
      "text/markdown": [
       "\n",
       "| Neurotic | Extroversion | Agreeableness | Conscientiousness |\n",
       "|---|---|---|---|\n",
       "| 38 | 43 | 49 | 29 |\n",
       "| 20 | 42 | 46 | 31 |\n",
       "| 18 | 42 | 49 | 31 |\n",
       "| 42 | 43 | 44 | 29 |\n",
       "| 30 | 42 | 51 | 24 |\n",
       "| 18 | 42 | 50 | 25 |\n",
       "| 27 | 45 | 55 | 23 |\n",
       "| 18 | 43 | 57 | 34 |\n",
       "\n"
      ],
      "text/plain": [
       "  Neurotic Extroversion Agreeableness Conscientiousness\n",
       "1 38       43           49            29               \n",
       "2 20       42           46            31               \n",
       "3 18       42           49            31               \n",
       "4 42       43           44            29               \n",
       "5 30       42           51            24               \n",
       "6 18       42           50            25               \n",
       "7 27       45           55            23               \n",
       "8 18       43           57            34               "
      ]
     },
     "metadata": {},
     "output_type": "display_data"
    }
   ],
   "source": [
    "# Import person.sav: traits\n",
    "traits = read_sav(\"person.sav\")\n",
    "\n",
    "# Summarize traits\n",
    "summary(traits)\n",
    "\n",
    "# Print out a subset\n",
    "subset(traits, Extroversion > 40 & Agreeableness > 40)"
   ]
  },
  {
   "cell_type": "code",
   "execution_count": 5,
   "metadata": {},
   "outputs": [
    {
     "data": {
      "text/plain": [
       "   Length     Class      Mode \n",
       "      474 character character "
      ]
     },
     "metadata": {},
     "output_type": "display_data"
    },
    {
     "data": {
      "text/html": [
       "<dl class=dl-horizontal>\n",
       "\t<dt>Female</dt>\n",
       "\t\t<dd>216</dd>\n",
       "\t<dt>Male</dt>\n",
       "\t\t<dd>258</dd>\n",
       "</dl>\n"
      ],
      "text/latex": [
       "\\begin{description*}\n",
       "\\item[Female] 216\n",
       "\\item[Male] 258\n",
       "\\end{description*}\n"
      ],
      "text/markdown": [
       "Female\n",
       ":   216Male\n",
       ":   258\n",
       "\n"
      ],
      "text/plain": [
       "Female   Male \n",
       "   216    258 "
      ]
     },
     "metadata": {},
     "output_type": "display_data"
    }
   ],
   "source": [
    "# Import SPSS data from the URL: work\n",
    "\n",
    "work = read_sav(\"http://s3.amazonaws.com/assets.datacamp.com/production/course_1478/datasets/employee.sav\")\n",
    "\n",
    "# Display summary of work$GENDER\n",
    "summary(work$GENDER)\n",
    "\n",
    "# Convert work$GENDER to a factor\n",
    "work$GENDER = as_factor(work$GENDER)\n",
    "\n",
    "# Display summary of work$GENDER again\n",
    "summary(work$GENDER)\n"
   ]
  },
  {
   "cell_type": "code",
   "execution_count": 6,
   "metadata": {},
   "outputs": [
    {
     "data": {
      "text/html": [
       "<table>\n",
       "<thead><tr><th></th><th scope=col>gore</th><th scope=col>bush</th><th scope=col>buchanan</th><th scope=col>nader</th><th scope=col>total</th></tr></thead>\n",
       "<tbody>\n",
       "\t<tr><th scope=row>62</th><td> 2647 </td><td> 4051 </td><td> 27   </td><td>  59  </td><td>  6784</td></tr>\n",
       "\t<tr><th scope=row>63</th><td> 1399 </td><td> 2326 </td><td> 26   </td><td>  29  </td><td>  3780</td></tr>\n",
       "\t<tr><th scope=row>64</th><td>97063 </td><td>82214 </td><td>396   </td><td>2436  </td><td>182109</td></tr>\n",
       "\t<tr><th scope=row>65</th><td> 3835 </td><td> 4511 </td><td> 46   </td><td> 149  </td><td>  8541</td></tr>\n",
       "\t<tr><th scope=row>66</th><td> 5637 </td><td>12176 </td><td>120   </td><td> 265  </td><td> 18198</td></tr>\n",
       "\t<tr><th scope=row>67</th><td> 2796 </td><td> 4983 </td><td> 88   </td><td>  93  </td><td>  7960</td></tr>\n",
       "</tbody>\n",
       "</table>\n"
      ],
      "text/latex": [
       "\\begin{tabular}{r|lllll}\n",
       "  & gore & bush & buchanan & nader & total\\\\\n",
       "\\hline\n",
       "\t62 &  2647  &  4051  &  27    &   59   &   6784\\\\\n",
       "\t63 &  1399  &  2326  &  26    &   29   &   3780\\\\\n",
       "\t64 & 97063  & 82214  & 396    & 2436   & 182109\\\\\n",
       "\t65 &  3835  &  4511  &  46    &  149   &   8541\\\\\n",
       "\t66 &  5637  & 12176  & 120    &  265   &  18198\\\\\n",
       "\t67 &  2796  &  4983  &  88    &   93   &   7960\\\\\n",
       "\\end{tabular}\n"
      ],
      "text/markdown": [
       "\n",
       "| <!--/--> | gore | bush | buchanan | nader | total |\n",
       "|---|---|---|---|---|---|\n",
       "| 62 |  2647  |  4051  |  27    |   59   |   6784 |\n",
       "| 63 |  1399  |  2326  |  26    |   29   |   3780 |\n",
       "| 64 | 97063  | 82214  | 396    | 2436   | 182109 |\n",
       "| 65 |  3835  |  4511  |  46    |  149   |   8541 |\n",
       "| 66 |  5637  | 12176  | 120    |  265   |  18198 |\n",
       "| 67 |  2796  |  4983  |  88    |   93   |   7960 |\n",
       "\n"
      ],
      "text/plain": [
       "   gore  bush  buchanan nader total \n",
       "62  2647  4051  27        59    6784\n",
       "63  1399  2326  26        29    3780\n",
       "64 97063 82214 396      2436  182109\n",
       "65  3835  4511  46       149    8541\n",
       "66  5637 12176 120       265   18198\n",
       "67  2796  4983  88        93    7960"
      ]
     },
     "metadata": {},
     "output_type": "display_data"
    }
   ],
   "source": [
    "# Load the foreign package\n",
    "library(foreign)\n",
    "# Import florida.dta and name the resulting data frame florida\n",
    "florida = read.dta(\"florida.dta\")\n",
    "\n",
    "# Check tail() of florida\n",
    "tail(florida)"
   ]
  },
  {
   "cell_type": "markdown",
   "metadata": {},
   "source": [
    "### Import STATA data with foreign (2)\n",
    "Data can be very diverse, going from character vectors to categorical variables, dates and more. It's in these cases that the additional arguments of read.dta() will come in handy.\n",
    "\n",
    "The arguments you will use most often are convert.dates, convert.factors, missing.type and convert.underscore. Their meaning is pretty straightforward, as Filip explained in the video. It's all about correctly converting STATA data to standard R data structures. Type ?read.dta to find out about about the default values.\n",
    "\n",
    "The dataset for this exercise contains socio-economic measures and access to education for different individuals (Source: World Bank). This data is available as edequality.dta."
   ]
  },
  {
   "cell_type": "code",
   "execution_count": 7,
   "metadata": {},
   "outputs": [
    {
     "name": "stdout",
     "output_type": "stream",
     "text": [
      "'data.frame':\t12214 obs. of  27 variables:\n",
      " $ hhid              : num  1 1 1 2 2 3 4 4 5 6 ...\n",
      " $ hhweight          : num  627 627 627 627 627 ...\n",
      " $ location          : Factor w/ 2 levels \"urban location\",..: 1 1 1 1 1 2 2 2 1 1 ...\n",
      " $ region            : Factor w/ 9 levels \"Sofia city\",\"Bourgass\",..: 8 8 8 9 9 4 4 4 8 8 ...\n",
      " $ ethnicity_head    : Factor w/ 4 levels \"Bulgaria\",\"Turks\",..: 2 2 2 1 1 1 1 1 1 1 ...\n",
      " $ age               : num  37 11 8 73 70 75 79 80 82 83 ...\n",
      " $ gender            : Factor w/ 2 levels \"male\",\"female\": 2 2 1 1 2 1 1 2 2 2 ...\n",
      " $ relation          : Factor w/ 9 levels \"head                      \",..: 1 3 3 1 2 1 1 2 1 1 ...\n",
      " $ literate          : Factor w/ 2 levels \"no\",\"yes\": 1 2 2 2 2 2 2 2 2 2 ...\n",
      " $ income_mnt        : num  13.3 13.3 13.3 142.5 142.5 ...\n",
      " $ income            : num  160 160 160 1710 1710 ...\n",
      " $ aggregate         : num  1042 1042 1042 3271 3271 ...\n",
      " $ aggr_ind_annual   : num  347 347 347 1635 1635 ...\n",
      " $ educ_completed    : int  2 4 4 4 3 3 3 3 4 4 ...\n",
      " $ grade_complete    : num  4 3 0 3 4 4 4 4 5 5 ...\n",
      " $ grade_all         : num  4 11 8 11 8 8 8 8 13 13 ...\n",
      " $ unemployed        : int  2 1 1 1 1 1 1 1 1 1 ...\n",
      " $ reason_OLF        : int  NA NA NA 3 3 3 9 9 3 3 ...\n",
      " $ sector            : int  NA NA NA NA NA NA 1 1 NA NA ...\n",
      " $ occupation        : int  NA NA NA NA NA NA 5 5 NA NA ...\n",
      " $ earn_mont         : num  0 0 0 0 0 0 20 20 0 0 ...\n",
      " $ earn_ann          : num  0 0 0 0 0 0 240 240 0 0 ...\n",
      " $ hours_week        : num  NA NA NA NA NA NA 30 35 NA NA ...\n",
      " $ hours_mnt         : num  NA NA NA NA NA ...\n",
      " $ fulltime          : int  NA NA NA NA NA NA 1 1 NA NA ...\n",
      " $ hhexp             : num  100 100 100 343 343 ...\n",
      " $ legacy_pension_amt: num  NA NA NA NA NA NA NA NA NA NA ...\n",
      " - attr(*, \"datalabel\")= chr \"\"\n",
      " - attr(*, \"time.stamp\")= chr \"\"\n",
      " - attr(*, \"formats\")= chr  \"%9.0g\" \"%9.0g\" \"%9.0g\" \"%9.0g\" ...\n",
      " - attr(*, \"types\")= int  100 100 108 108 108 100 108 108 108 100 ...\n",
      " - attr(*, \"val.labels\")= chr  \"\" \"\" \"location\" \"region\" ...\n",
      " - attr(*, \"var.labels\")= chr  \"hhid\" \"hhweight\" \"location\" \"region\" ...\n",
      " - attr(*, \"expansion.fields\")=List of 12\n",
      "  ..$ : chr  \"_dta\" \"_svy_su1\" \"cluster\"\n",
      "  ..$ : chr  \"_dta\" \"_svy_strata1\" \"strata\"\n",
      "  ..$ : chr  \"_dta\" \"_svy_stages\" \"1\"\n",
      "  ..$ : chr  \"_dta\" \"_svy_version\" \"2\"\n",
      "  ..$ : chr  \"_dta\" \"__XijVarLabcons\" \"(sum) cons\"\n",
      "  ..$ : chr  \"_dta\" \"ReS_Xij\" \"cons\"\n",
      "  ..$ : chr  \"_dta\" \"ReS_str\" \"0\"\n",
      "  ..$ : chr  \"_dta\" \"ReS_j\" \"group\"\n",
      "  ..$ : chr  \"_dta\" \"ReS_ver\" \"v.2\"\n",
      "  ..$ : chr  \"_dta\" \"ReS_i\" \"hhid dur\"\n",
      "  ..$ : chr  \"_dta\" \"note1\" \"variables g1pc, g2pc, g3pc, g4pc, g5pc, g7pc, g8pc, g9pc, g10pc, g11pc, g12pc,  gall, health, rent, durables we\"| __truncated__\n",
      "  ..$ : chr  \"_dta\" \"note0\" \"1\"\n",
      " - attr(*, \"version\")= int 7\n",
      " - attr(*, \"label.table\")=List of 12\n",
      "  ..$ location: Named int  1 2\n",
      "  .. ..- attr(*, \"names\")= chr  \"urban location\" \"rural location\"\n",
      "  ..$ region  : Named int  1 2 3 4 5 6 7 8 9\n",
      "  .. ..- attr(*, \"names\")= chr  \"Sofia city\" \"Bourgass\" \"Varna\" \"Lovetch\" ...\n",
      "  ..$ ethnic  : Named int  1 2 3 4\n",
      "  .. ..- attr(*, \"names\")= chr  \"Bulgaria\" \"Turks\" \"Roma\" \"Other\"\n",
      "  ..$ s2_q2   : Named int  1 2\n",
      "  .. ..- attr(*, \"names\")= chr  \"male\" \"female\"\n",
      "  ..$ s2_q3   : Named int  1 2 3 4 5 6 7 8 9\n",
      "  .. ..- attr(*, \"names\")= chr  \"head                      \" \"spouse/partner            \" \"child                     \" \"son/daughter-in-law       \" ...\n",
      "  ..$ lit     : Named int  1 2\n",
      "  .. ..- attr(*, \"names\")= chr  \"no\" \"yes\"\n",
      "  ..$         : Named int  1 2 3 4\n",
      "  .. ..- attr(*, \"names\")= chr  \"never attanded\" \"primary\" \"secondary\" \"postsecondary\"\n",
      "  ..$         : Named int  1 2\n",
      "  .. ..- attr(*, \"names\")= chr  \"Not unemployed\" \"Unemployed\"\n",
      "  ..$         : Named int  1 2 3 4 5 6 7 8 9 10\n",
      "  .. ..- attr(*, \"names\")= chr  \"student\" \"housewife/childcare\" \"in retirement\" \"illness, disability\" ...\n",
      "  ..$         : Named int  1 2 3 4 5 6 7 8 9 10\n",
      "  .. ..- attr(*, \"names\")= chr  \"agriculture\" \"mining\" \"manufacturing\" \"utilities\" ...\n",
      "  ..$         : Named int  1 2 3 4 5\n",
      "  .. ..- attr(*, \"names\")= chr  \"private company\" \"public works program\" \"government,public sector, army\" \"private individual\" ...\n",
      "  ..$         : Named int  1 2\n",
      "  .. ..- attr(*, \"names\")= chr  \"no\" \"yes\"\n",
      "'data.frame':\t12214 obs. of  27 variables:\n",
      " $ hhid              : num  1 1 1 2 2 3 4 4 5 6 ...\n",
      " $ hhweight          : num  627 627 627 627 627 ...\n",
      " $ location          : int  1 1 1 1 1 2 2 2 1 1 ...\n",
      " $ region            : int  8 8 8 9 9 4 4 4 8 8 ...\n",
      " $ ethnicity_head    : int  2 2 2 1 1 1 1 1 1 1 ...\n",
      " $ age               : num  37 11 8 73 70 75 79 80 82 83 ...\n",
      " $ gender            : int  2 2 1 1 2 1 1 2 2 2 ...\n",
      " $ relation          : int  1 3 3 1 2 1 1 2 1 1 ...\n",
      " $ literate          : int  1 2 2 2 2 2 2 2 2 2 ...\n",
      " $ income_mnt        : num  13.3 13.3 13.3 142.5 142.5 ...\n",
      " $ income            : num  160 160 160 1710 1710 ...\n",
      " $ aggregate         : num  1042 1042 1042 3271 3271 ...\n",
      " $ aggr_ind_annual   : num  347 347 347 1635 1635 ...\n",
      " $ educ_completed    : int  2 4 4 4 3 3 3 3 4 4 ...\n",
      " $ grade_complete    : num  4 3 0 3 4 4 4 4 5 5 ...\n",
      " $ grade_all         : num  4 11 8 11 8 8 8 8 13 13 ...\n",
      " $ unemployed        : int  2 1 1 1 1 1 1 1 1 1 ...\n",
      " $ reason_OLF        : int  NA NA NA 3 3 3 9 9 3 3 ...\n",
      " $ sector            : int  NA NA NA NA NA NA 1 1 NA NA ...\n",
      " $ occupation        : int  NA NA NA NA NA NA 5 5 NA NA ...\n",
      " $ earn_mont         : num  0 0 0 0 0 0 20 20 0 0 ...\n",
      " $ earn_ann          : num  0 0 0 0 0 0 240 240 0 0 ...\n",
      " $ hours_week        : num  NA NA NA NA NA NA 30 35 NA NA ...\n",
      " $ hours_mnt         : num  NA NA NA NA NA ...\n",
      " $ fulltime          : int  NA NA NA NA NA NA 1 1 NA NA ...\n",
      " $ hhexp             : num  100 100 100 343 343 ...\n",
      " $ legacy_pension_amt: num  NA NA NA NA NA NA NA NA NA NA ...\n",
      " - attr(*, \"datalabel\")= chr \"\"\n",
      " - attr(*, \"time.stamp\")= chr \"\"\n",
      " - attr(*, \"formats\")= chr  \"%9.0g\" \"%9.0g\" \"%9.0g\" \"%9.0g\" ...\n",
      " - attr(*, \"types\")= int  100 100 108 108 108 100 108 108 108 100 ...\n",
      " - attr(*, \"val.labels\")= chr  \"\" \"\" \"location\" \"region\" ...\n",
      " - attr(*, \"var.labels\")= chr  \"hhid\" \"hhweight\" \"location\" \"region\" ...\n",
      " - attr(*, \"expansion.fields\")=List of 12\n",
      "  ..$ : chr  \"_dta\" \"_svy_su1\" \"cluster\"\n",
      "  ..$ : chr  \"_dta\" \"_svy_strata1\" \"strata\"\n",
      "  ..$ : chr  \"_dta\" \"_svy_stages\" \"1\"\n",
      "  ..$ : chr  \"_dta\" \"_svy_version\" \"2\"\n",
      "  ..$ : chr  \"_dta\" \"__XijVarLabcons\" \"(sum) cons\"\n",
      "  ..$ : chr  \"_dta\" \"ReS_Xij\" \"cons\"\n",
      "  ..$ : chr  \"_dta\" \"ReS_str\" \"0\"\n",
      "  ..$ : chr  \"_dta\" \"ReS_j\" \"group\"\n",
      "  ..$ : chr  \"_dta\" \"ReS_ver\" \"v.2\"\n",
      "  ..$ : chr  \"_dta\" \"ReS_i\" \"hhid dur\"\n",
      "  ..$ : chr  \"_dta\" \"note1\" \"variables g1pc, g2pc, g3pc, g4pc, g5pc, g7pc, g8pc, g9pc, g10pc, g11pc, g12pc,  gall, health, rent, durables we\"| __truncated__\n",
      "  ..$ : chr  \"_dta\" \"note0\" \"1\"\n",
      " - attr(*, \"version\")= int 7\n",
      " - attr(*, \"label.table\")=List of 12\n",
      "  ..$ location: Named int  1 2\n",
      "  .. ..- attr(*, \"names\")= chr  \"urban location\" \"rural location\"\n",
      "  ..$ region  : Named int  1 2 3 4 5 6 7 8 9\n",
      "  .. ..- attr(*, \"names\")= chr  \"Sofia city\" \"Bourgass\" \"Varna\" \"Lovetch\" ...\n",
      "  ..$ ethnic  : Named int  1 2 3 4\n",
      "  .. ..- attr(*, \"names\")= chr  \"Bulgaria\" \"Turks\" \"Roma\" \"Other\"\n",
      "  ..$ s2_q2   : Named int  1 2\n",
      "  .. ..- attr(*, \"names\")= chr  \"male\" \"female\"\n",
      "  ..$ s2_q3   : Named int  1 2 3 4 5 6 7 8 9\n",
      "  .. ..- attr(*, \"names\")= chr  \"head                      \" \"spouse/partner            \" \"child                     \" \"son/daughter-in-law       \" ...\n",
      "  ..$ lit     : Named int  1 2\n",
      "  .. ..- attr(*, \"names\")= chr  \"no\" \"yes\"\n",
      "  ..$         : Named int  1 2 3 4\n",
      "  .. ..- attr(*, \"names\")= chr  \"never attanded\" \"primary\" \"secondary\" \"postsecondary\"\n",
      "  ..$         : Named int  1 2\n",
      "  .. ..- attr(*, \"names\")= chr  \"Not unemployed\" \"Unemployed\"\n",
      "  ..$         : Named int  1 2 3 4 5 6 7 8 9 10\n",
      "  .. ..- attr(*, \"names\")= chr  \"student\" \"housewife/childcare\" \"in retirement\" \"illness, disability\" ...\n",
      "  ..$         : Named int  1 2 3 4 5 6 7 8 9 10\n",
      "  .. ..- attr(*, \"names\")= chr  \"agriculture\" \"mining\" \"manufacturing\" \"utilities\" ...\n",
      "  ..$         : Named int  1 2 3 4 5\n",
      "  .. ..- attr(*, \"names\")= chr  \"private company\" \"public works program\" \"government,public sector, army\" \"private individual\" ...\n",
      "  ..$         : Named int  1 2\n",
      "  .. ..- attr(*, \"names\")= chr  \"no\" \"yes\"\n",
      "'data.frame':\t12214 obs. of  27 variables:\n",
      " $ hhid              : num  1 1 1 2 2 3 4 4 5 6 ...\n",
      " $ hhweight          : num  627 627 627 627 627 ...\n",
      " $ location          : Factor w/ 2 levels \"urban location\",..: 1 1 1 1 1 2 2 2 1 1 ...\n",
      " $ region            : Factor w/ 9 levels \"Sofia city\",\"Bourgass\",..: 8 8 8 9 9 4 4 4 8 8 ...\n",
      " $ ethnicity.head    : Factor w/ 4 levels \"Bulgaria\",\"Turks\",..: 2 2 2 1 1 1 1 1 1 1 ...\n",
      " $ age               : num  37 11 8 73 70 75 79 80 82 83 ...\n",
      " $ gender            : Factor w/ 2 levels \"male\",\"female\": 2 2 1 1 2 1 1 2 2 2 ...\n",
      " $ relation          : Factor w/ 9 levels \"head                      \",..: 1 3 3 1 2 1 1 2 1 1 ...\n",
      " $ literate          : Factor w/ 2 levels \"no\",\"yes\": 1 2 2 2 2 2 2 2 2 2 ...\n",
      " $ income.mnt        : num  13.3 13.3 13.3 142.5 142.5 ...\n",
      " $ income            : num  160 160 160 1710 1710 ...\n",
      " $ aggregate         : num  1042 1042 1042 3271 3271 ...\n",
      " $ aggr.ind.annual   : num  347 347 347 1635 1635 ...\n",
      " $ educ.completed    : int  2 4 4 4 3 3 3 3 4 4 ...\n",
      " $ grade.complete    : num  4 3 0 3 4 4 4 4 5 5 ...\n",
      " $ grade.all         : num  4 11 8 11 8 8 8 8 13 13 ...\n",
      " $ unemployed        : int  2 1 1 1 1 1 1 1 1 1 ...\n",
      " $ reason.OLF        : int  NA NA NA 3 3 3 9 9 3 3 ...\n",
      " $ sector            : int  NA NA NA NA NA NA 1 1 NA NA ...\n",
      " $ occupation        : int  NA NA NA NA NA NA 5 5 NA NA ...\n",
      " $ earn.mont         : num  0 0 0 0 0 0 20 20 0 0 ...\n",
      " $ earn.ann          : num  0 0 0 0 0 0 240 240 0 0 ...\n",
      " $ hours.week        : num  NA NA NA NA NA NA 30 35 NA NA ...\n",
      " $ hours.mnt         : num  NA NA NA NA NA ...\n",
      " $ fulltime          : int  NA NA NA NA NA NA 1 1 NA NA ...\n",
      " $ hhexp             : num  100 100 100 343 343 ...\n",
      " $ legacy.pension.amt: num  NA NA NA NA NA NA NA NA NA NA ...\n",
      " - attr(*, \"datalabel\")= chr \"\"\n",
      " - attr(*, \"time.stamp\")= chr \"\"\n",
      " - attr(*, \"formats\")= chr  \"%9.0g\" \"%9.0g\" \"%9.0g\" \"%9.0g\" ...\n",
      " - attr(*, \"types\")= int  100 100 108 108 108 100 108 108 108 100 ...\n",
      " - attr(*, \"val.labels\")= chr  \"\" \"\" \"location\" \"region\" ...\n",
      " - attr(*, \"var.labels\")= chr  \"hhid\" \"hhweight\" \"location\" \"region\" ...\n",
      " - attr(*, \"expansion.fields\")=List of 12\n",
      "  ..$ : chr  \"_dta\" \"_svy_su1\" \"cluster\"\n",
      "  ..$ : chr  \"_dta\" \"_svy_strata1\" \"strata\"\n",
      "  ..$ : chr  \"_dta\" \"_svy_stages\" \"1\"\n",
      "  ..$ : chr  \"_dta\" \"_svy_version\" \"2\"\n",
      "  ..$ : chr  \"_dta\" \"__XijVarLabcons\" \"(sum) cons\"\n",
      "  ..$ : chr  \"_dta\" \"ReS_Xij\" \"cons\"\n",
      "  ..$ : chr  \"_dta\" \"ReS_str\" \"0\"\n",
      "  ..$ : chr  \"_dta\" \"ReS_j\" \"group\"\n",
      "  ..$ : chr  \"_dta\" \"ReS_ver\" \"v.2\"\n",
      "  ..$ : chr  \"_dta\" \"ReS_i\" \"hhid dur\"\n",
      "  ..$ : chr  \"_dta\" \"note1\" \"variables g1pc, g2pc, g3pc, g4pc, g5pc, g7pc, g8pc, g9pc, g10pc, g11pc, g12pc,  gall, health, rent, durables we\"| __truncated__\n",
      "  ..$ : chr  \"_dta\" \"note0\" \"1\"\n",
      " - attr(*, \"version\")= int 7\n",
      " - attr(*, \"label.table\")=List of 12\n",
      "  ..$ location: Named int  1 2\n",
      "  .. ..- attr(*, \"names\")= chr  \"urban location\" \"rural location\"\n",
      "  ..$ region  : Named int  1 2 3 4 5 6 7 8 9\n",
      "  .. ..- attr(*, \"names\")= chr  \"Sofia city\" \"Bourgass\" \"Varna\" \"Lovetch\" ...\n",
      "  ..$ ethnic  : Named int  1 2 3 4\n",
      "  .. ..- attr(*, \"names\")= chr  \"Bulgaria\" \"Turks\" \"Roma\" \"Other\"\n",
      "  ..$ s2_q2   : Named int  1 2\n",
      "  .. ..- attr(*, \"names\")= chr  \"male\" \"female\"\n",
      "  ..$ s2_q3   : Named int  1 2 3 4 5 6 7 8 9\n",
      "  .. ..- attr(*, \"names\")= chr  \"head                      \" \"spouse/partner            \" \"child                     \" \"son/daughter-in-law       \" ...\n",
      "  ..$ lit     : Named int  1 2\n",
      "  .. ..- attr(*, \"names\")= chr  \"no\" \"yes\"\n",
      "  ..$         : Named int  1 2 3 4\n",
      "  .. ..- attr(*, \"names\")= chr  \"never attanded\" \"primary\" \"secondary\" \"postsecondary\"\n",
      "  ..$         : Named int  1 2\n",
      "  .. ..- attr(*, \"names\")= chr  \"Not unemployed\" \"Unemployed\"\n",
      "  ..$         : Named int  1 2 3 4 5 6 7 8 9 10\n",
      "  .. ..- attr(*, \"names\")= chr  \"student\" \"housewife/childcare\" \"in retirement\" \"illness, disability\" ...\n",
      "  ..$         : Named int  1 2 3 4 5 6 7 8 9 10\n",
      "  .. ..- attr(*, \"names\")= chr  \"agriculture\" \"mining\" \"manufacturing\" \"utilities\" ...\n",
      "  ..$         : Named int  1 2 3 4 5\n",
      "  .. ..- attr(*, \"names\")= chr  \"private company\" \"public works program\" \"government,public sector, army\" \"private individual\" ...\n",
      "  ..$         : Named int  1 2\n",
      "  .. ..- attr(*, \"names\")= chr  \"no\" \"yes\"\n"
     ]
    }
   ],
   "source": [
    "# Specify the file path using file.path(): path\n",
    "path = \"edequality.dta\"\n",
    "\n",
    "# Create and print structure of edu_equal_1\n",
    "edu_equal_1 = read.dta(path)\n",
    "str(edu_equal_1)\n",
    "# Create and print structure of edu_equal_2\n",
    "edu_equal_2 = read.dta(path, convert.factors = FALSE)\n",
    "str(edu_equal_2)\n",
    "\n",
    "# Create and print structure of edu_equal_3\n",
    "edu_equal_3 = read.dta(path, convert.underscore = TRUE)\n",
    "str(edu_equal_3)\n"
   ]
  },
  {
   "cell_type": "markdown",
   "metadata": {},
   "source": [
    "### Import SPSS data with foreign (1)\n",
    "All great things come in pairs. Where foreign provided read.dta() to read Stata data, there's also read.spss() to read SPSS data files. To get a data frame, make sure to set to.data.frame = TRUE inside read.spss().\n",
    "\n",
    "In this exercise, you'll be working with socio-economic variables from different countries (Source: Quantative Data Analysis in Education). The SPSS data is in a file called international.sav, which is in your working directory. You can also download it here if you want to play around with it some more."
   ]
  },
  {
   "cell_type": "code",
   "execution_count": 9,
   "metadata": {},
   "outputs": [
    {
     "name": "stderr",
     "output_type": "stream",
     "text": [
      "re-encoding from CP1252\n"
     ]
    },
    {
     "name": "stdout",
     "output_type": "stream",
     "text": [
      "'data.frame':\t20 obs. of  7 variables:\n",
      " $ id      : num  1 2 3 4 5 6 7 8 9 10 ...\n",
      " $ country : Factor w/ 20 levels \"Argentina           \",..: 1 2 3 4 5 6 7 8 9 10 ...\n",
      " $ contint : Factor w/ 4 levels \"Africa\",\"Americas\",..: 2 1 1 2 2 2 1 4 3 3 ...\n",
      " $ m_illit : num  3 45.2 33.2 4.2 12 17.6 37.1 0.6 16.5 23 ...\n",
      " $ f_illit : num  3 74.5 48.1 4.4 12.7 22.9 54.3 0.7 29.6 39.1 ...\n",
      " $ lifeexpt: num  16 7 5 14 12 11 7 15 11 9 ...\n",
      " $ gdp     : num  3375 521 86 4523 2408 ...\n",
      " - attr(*, \"variable.labels\")= Named chr  \" \" \"Country\" \"Continent\" \"Male Illiteracy Rate (%)\" ...\n",
      "  ..- attr(*, \"names\")= chr  \"id\" \"country\" \"contint\" \"m_illit\" ...\n",
      " - attr(*, \"codepage\")= int 1252\n"
     ]
    },
    {
     "data": {
      "image/png": "[encoded data removed]",
      "text/plain": [
       "plot without title"
      ]
     },
     "metadata": {},
     "output_type": "display_data"
    }
   ],
   "source": [
    "# Import international.sav as a data frame: demo\n",
    "demo = read.spss(\"international.sav\", to.data.frame = TRUE)\n",
    "str(demo)\n",
    "# Create boxplot of gdp variable of demo\n",
    "boxplot(demo$gdp)"
   ]
  },
  {
   "cell_type": "markdown",
   "metadata": {},
   "source": [
    "### Excursion: Correlation \n",
    "\n",
    "The data you've worked with in the previous exercise, international.sav, is again available in your working directory. It's now up to import it and undertake the correct calculations to answer the following question:\n",
    "\n",
    "What is the correlation coefficient for the two numerical variables gdp and f_illit (female illiteracy rate)?"
   ]
  },
  {
   "cell_type": "code",
   "execution_count": 10,
   "metadata": {},
   "outputs": [
    {
     "data": {
      "text/html": [
       "-0.447685621057218"
      ],
      "text/latex": [
       "-0.447685621057218"
      ],
      "text/markdown": [
       "-0.447685621057218"
      ],
      "text/plain": [
       "[1] -0.4476856"
      ]
     },
     "metadata": {},
     "output_type": "display_data"
    }
   ],
   "source": [
    "cor(demo$gdp, demo$f_illit)"
   ]
  },
  {
   "cell_type": "markdown",
   "metadata": {},
   "source": [
    "### Import SPSS data with foreign (2)\n",
    "In the previous exercise, you used the to.data.frame argument inside read.spss(). There are many other ways in which to customize the way your SPSS data is imported.\n",
    "\n",
    "In this exercise you will experiment with another argument, use.value.labels. It specifies whether variables with value labels should be converted into R factors with levels that are named accordingly. The argument is TRUE by default which means that so called labelled variables inside SPSS are converted to factors inside R.\n",
    "\n",
    "You'll again be working with the international.sav data, which is available in your current working directory."
   ]
  },
  {
   "cell_type": "code",
   "execution_count": 11,
   "metadata": {},
   "outputs": [
    {
     "name": "stderr",
     "output_type": "stream",
     "text": [
      "re-encoding from CP1252\n"
     ]
    },
    {
     "data": {
      "text/html": [
       "<table>\n",
       "<thead><tr><th scope=col>id</th><th scope=col>country</th><th scope=col>contint</th><th scope=col>m_illit</th><th scope=col>f_illit</th><th scope=col>lifeexpt</th><th scope=col>gdp</th></tr></thead>\n",
       "<tbody>\n",
       "\t<tr><td>1                   </td><td>Argentina           </td><td>Americas            </td><td> 3.0                </td><td> 3.0                </td><td>16                  </td><td>3375                </td></tr>\n",
       "\t<tr><td>2                   </td><td>Benin               </td><td>Africa              </td><td>45.2                </td><td>74.5                </td><td> 7                  </td><td> 521                </td></tr>\n",
       "\t<tr><td>3                   </td><td>Burundi             </td><td>Africa              </td><td>33.2                </td><td>48.1                </td><td> 5                  </td><td>  86                </td></tr>\n",
       "\t<tr><td>4                   </td><td>Chile               </td><td>Americas            </td><td> 4.2                </td><td> 4.4                </td><td>14                  </td><td>4523                </td></tr>\n",
       "\t<tr><td>5                   </td><td>Dominican Republic  </td><td>Americas            </td><td>12.0                </td><td>12.7                </td><td>12                  </td><td>2408                </td></tr>\n",
       "\t<tr><td>6                   </td><td>El Salvador         </td><td>Americas            </td><td>17.6                </td><td>22.9                </td><td>11                  </td><td>2302                </td></tr>\n",
       "</tbody>\n",
       "</table>\n"
      ],
      "text/latex": [
       "\\begin{tabular}{r|lllllll}\n",
       " id & country & contint & m\\_illit & f\\_illit & lifeexpt & gdp\\\\\n",
       "\\hline\n",
       "\t 1                    & Argentina            & Americas             &  3.0                 &  3.0                 & 16                   & 3375                \\\\\n",
       "\t 2                    & Benin                & Africa               & 45.2                 & 74.5                 &  7                   &  521                \\\\\n",
       "\t 3                    & Burundi              & Africa               & 33.2                 & 48.1                 &  5                   &   86                \\\\\n",
       "\t 4                    & Chile                & Americas             &  4.2                 &  4.4                 & 14                   & 4523                \\\\\n",
       "\t 5                    & Dominican Republic   & Americas             & 12.0                 & 12.7                 & 12                   & 2408                \\\\\n",
       "\t 6                    & El Salvador          & Americas             & 17.6                 & 22.9                 & 11                   & 2302                \\\\\n",
       "\\end{tabular}\n"
      ],
      "text/markdown": [
       "\n",
       "| id | country | contint | m_illit | f_illit | lifeexpt | gdp |\n",
       "|---|---|---|---|---|---|---|\n",
       "| 1                    | Argentina            | Americas             |  3.0                 |  3.0                 | 16                   | 3375                 |\n",
       "| 2                    | Benin                | Africa               | 45.2                 | 74.5                 |  7                   |  521                 |\n",
       "| 3                    | Burundi              | Africa               | 33.2                 | 48.1                 |  5                   |   86                 |\n",
       "| 4                    | Chile                | Americas             |  4.2                 |  4.4                 | 14                   | 4523                 |\n",
       "| 5                    | Dominican Republic   | Americas             | 12.0                 | 12.7                 | 12                   | 2408                 |\n",
       "| 6                    | El Salvador          | Americas             | 17.6                 | 22.9                 | 11                   | 2302                 |\n",
       "\n"
      ],
      "text/plain": [
       "  id country              contint  m_illit f_illit lifeexpt gdp \n",
       "1 1  Argentina            Americas  3.0     3.0    16       3375\n",
       "2 2  Benin                Africa   45.2    74.5     7        521\n",
       "3 3  Burundi              Africa   33.2    48.1     5         86\n",
       "4 4  Chile                Americas  4.2     4.4    14       4523\n",
       "5 5  Dominican Republic   Americas 12.0    12.7    12       2408\n",
       "6 6  El Salvador          Americas 17.6    22.9    11       2302"
      ]
     },
     "metadata": {},
     "output_type": "display_data"
    },
    {
     "name": "stderr",
     "output_type": "stream",
     "text": [
      "re-encoding from CP1252\n"
     ]
    },
    {
     "data": {
      "text/html": [
       "<table>\n",
       "<thead><tr><th scope=col>id</th><th scope=col>country</th><th scope=col>contint</th><th scope=col>m_illit</th><th scope=col>f_illit</th><th scope=col>lifeexpt</th><th scope=col>gdp</th></tr></thead>\n",
       "<tbody>\n",
       "\t<tr><td>1                   </td><td>Argentina           </td><td>2                   </td><td> 3.0                </td><td> 3.0                </td><td>16                  </td><td>3375                </td></tr>\n",
       "\t<tr><td>2                   </td><td>Benin               </td><td>1                   </td><td>45.2                </td><td>74.5                </td><td> 7                  </td><td> 521                </td></tr>\n",
       "\t<tr><td>3                   </td><td>Burundi             </td><td>1                   </td><td>33.2                </td><td>48.1                </td><td> 5                  </td><td>  86                </td></tr>\n",
       "\t<tr><td>4                   </td><td>Chile               </td><td>2                   </td><td> 4.2                </td><td> 4.4                </td><td>14                  </td><td>4523                </td></tr>\n",
       "\t<tr><td>5                   </td><td>Dominican Republic  </td><td>2                   </td><td>12.0                </td><td>12.7                </td><td>12                  </td><td>2408                </td></tr>\n",
       "\t<tr><td>6                   </td><td>El Salvador         </td><td>2                   </td><td>17.6                </td><td>22.9                </td><td>11                  </td><td>2302                </td></tr>\n",
       "</tbody>\n",
       "</table>\n"
      ],
      "text/latex": [
       "\\begin{tabular}{r|lllllll}\n",
       " id & country & contint & m\\_illit & f\\_illit & lifeexpt & gdp\\\\\n",
       "\\hline\n",
       "\t 1                    & Argentina            & 2                    &  3.0                 &  3.0                 & 16                   & 3375                \\\\\n",
       "\t 2                    & Benin                & 1                    & 45.2                 & 74.5                 &  7                   &  521                \\\\\n",
       "\t 3                    & Burundi              & 1                    & 33.2                 & 48.1                 &  5                   &   86                \\\\\n",
       "\t 4                    & Chile                & 2                    &  4.2                 &  4.4                 & 14                   & 4523                \\\\\n",
       "\t 5                    & Dominican Republic   & 2                    & 12.0                 & 12.7                 & 12                   & 2408                \\\\\n",
       "\t 6                    & El Salvador          & 2                    & 17.6                 & 22.9                 & 11                   & 2302                \\\\\n",
       "\\end{tabular}\n"
      ],
      "text/markdown": [
       "\n",
       "| id | country | contint | m_illit | f_illit | lifeexpt | gdp |\n",
       "|---|---|---|---|---|---|---|\n",
       "| 1                    | Argentina            | 2                    |  3.0                 |  3.0                 | 16                   | 3375                 |\n",
       "| 2                    | Benin                | 1                    | 45.2                 | 74.5                 |  7                   |  521                 |\n",
       "| 3                    | Burundi              | 1                    | 33.2                 | 48.1                 |  5                   |   86                 |\n",
       "| 4                    | Chile                | 2                    |  4.2                 |  4.4                 | 14                   | 4523                 |\n",
       "| 5                    | Dominican Republic   | 2                    | 12.0                 | 12.7                 | 12                   | 2408                 |\n",
       "| 6                    | El Salvador          | 2                    | 17.6                 | 22.9                 | 11                   | 2302                 |\n",
       "\n"
      ],
      "text/plain": [
       "  id country              contint m_illit f_illit lifeexpt gdp \n",
       "1 1  Argentina            2        3.0     3.0    16       3375\n",
       "2 2  Benin                1       45.2    74.5     7        521\n",
       "3 3  Burundi              1       33.2    48.1     5         86\n",
       "4 4  Chile                2        4.2     4.4    14       4523\n",
       "5 5  Dominican Republic   2       12.0    12.7    12       2408\n",
       "6 6  El Salvador          2       17.6    22.9    11       2302"
      ]
     },
     "metadata": {},
     "output_type": "display_data"
    }
   ],
   "source": [
    "# Import international.sav as demo_1\n",
    "demo_1 = read.spss(\"international.sav\", to.data.frame = TRUE)\n",
    "# Print out the head of demo_1\n",
    "head(demo_1)\n",
    "\n",
    "# Import international.sav as demo_2\n",
    "demo_2 = read.spss(\"international.sav\", to.data.frame = TRUE, use.value.labels = FALSE)\n",
    "\n",
    "# Print out the head of demo_2\n",
    "head(demo_2)"
   ]
  },
  {
   "cell_type": "code",
   "execution_count": null,
   "metadata": {},
   "outputs": [],
   "source": []
  }
 ],
 "metadata": {
  "kernelspec": {
   "display_name": "R",
   "language": "R",
   "name": "ir"
  },
  "language_info": {
   "codemirror_mode": "r",
   "file_extension": ".r",
   "mimetype": "text/x-r-source",
   "name": "R",
   "pygments_lexer": "r",
   "version": "3.6.1"
  }
 },
 "nbformat": 4,
 "nbformat_minor": 4
}
