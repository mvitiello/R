{
 "cells": [
  {
   "cell_type": "markdown",
   "metadata": {},
   "source": [
    "# Intermediate Importing Data in R\n",
    "In this course, you will take a deeper dive into the wide range of data formats out there. More specifically, you'll learn how to import data from relational databases and how to import and work with data coming from the web. Finally, you'll get hands-on experience with importing data from statistical software packages such as SAS, STATA, and SPSS.\n"
   ]
  },
  {
   "cell_type": "markdown",
   "metadata": {},
   "source": [
    "## Importing data from databases (Part 1)\n",
    "Many companies store their information in relational databases. The R community has also developed R packages to get data from these architectures. You'll learn how to connect to a database and how to retrieve data from it."
   ]
  },
  {
   "cell_type": "markdown",
   "metadata": {},
   "source": [
    "### Establish a connection\n",
    "The first step to import data from a SQL database is creating a connection to it. As Filip explained, you need different packages depending on the database you want to connect to. All of these packages do this in a uniform way, as specified in the DBI package.\n",
    "\n",
    "dbConnect() creates a connection between your R session and a SQL database. The first argument has to be a DBIdriver object, that specifies how connections are made and how data is mapped between R and the database. Specifically for MySQL databases, you can build such a driver with RMySQL::MySQL().\n",
    "\n",
    "If the MySQL database is a remote database hosted on a server, you'll also have to specify the following arguments in dbConnect(): dbname, host, port, user and password. Most of these details have already been provided."
   ]
  },
  {
   "cell_type": "code",
   "execution_count": 3,
   "metadata": {},
   "outputs": [],
   "source": [
    "# Load the DBI package\n",
    "# install.packages(\"RMySQL\")\n",
    "library(DBI)\n",
    "\n",
    "# Edit dbConnect() call\n",
    "con <- dbConnect(RMySQL::MySQL(), \n",
    "                 dbname = \"tweater\", \n",
    "                 host = \"courses.csrrinzqubik.us-east-1.rds.amazonaws.com\", \n",
    "                 port = 3306,\n",
    "                 user = \"student\",\n",
    "                 password = \"datacamp\")"
   ]
  },
  {
   "cell_type": "markdown",
   "metadata": {},
   "source": [
    "### List the database tables\n",
    "After you've successfully connected to a remote MySQL database, the next step is to see what tables the database contains. You can do this with the dbListTables() function. As you might remember from the video, this function requires the connection object as an input, and outputs a character vector with the table names."
   ]
  },
  {
   "cell_type": "code",
   "execution_count": 4,
   "metadata": {},
   "outputs": [
    {
     "name": "stdout",
     "output_type": "stream",
     "text": [
      " chr [1:3] \"comments\" \"tweats\" \"users\"\n"
     ]
    }
   ],
   "source": [
    "# Build a vector of table names: tables\n",
    "tables = dbListTables(con)\n",
    "\n",
    "# Display structure of tables\n",
    "str(tables)"
   ]
  },
  {
   "cell_type": "markdown",
   "metadata": {},
   "source": [
    "### Import users\n",
    "As you might have guessed by now, the database contains data on a more tasty version of Twitter, namely Tweater. Users can post tweats with short recipes for delicious snacks. People can comment on these tweats. There are three tables: users, tweats, and comments that have relations among them. Which ones, you ask? You'll discover in a moment!\n",
    "\n",
    "Let's start by importing the data on the users into your R session. You do this with the dbReadTable() function. Simply pass it the connection object (con), followed by the name of the table you want to import. The resulting object is a standard R data frame."
   ]
  },
  {
   "cell_type": "code",
   "execution_count": 5,
   "metadata": {},
   "outputs": [
    {
     "name": "stdout",
     "output_type": "stream",
     "text": [
      "  id      name     login\n",
      "1  1 elisabeth  elismith\n",
      "2  2      mike     mikey\n",
      "3  3      thea   teatime\n",
      "4  4    thomas tomatotom\n",
      "5  5    oliver olivander\n",
      "6  6      kate  katebenn\n",
      "7  7    anjali    lianja\n"
     ]
    }
   ],
   "source": [
    "# Import the users table from tweater: users\n",
    "\n",
    "users = dbReadTable(con, \"users\")\n",
    "\n",
    "# Print users\n",
    "print(users)"
   ]
  },
  {
   "cell_type": "markdown",
   "metadata": {},
   "source": [
    "### Import all tables\n",
    "Next to the users, we're also interested in the tweats and comments tables. However, separate dbReadTable() calls for each and every one of the tables in your database would mean a lot of code duplication. Remember about the lapply() function? You can use it again here! A connection is already coded for you, as well as a vector table_names, containing the names of all the tables in the database."
   ]
  },
  {
   "cell_type": "code",
   "execution_count": 6,
   "metadata": {},
   "outputs": [
    {
     "name": "stdout",
     "output_type": "stream",
     "text": [
      "[[1]]\n",
      "     id tweat_id user_id            message\n",
      "1  1022       87       7              nice!\n",
      "2  1000       77       7             great!\n",
      "3  1011       49       5            love it\n",
      "4  1012       87       1   awesome! thanks!\n",
      "5  1010       88       6              yuck!\n",
      "6  1026       77       4      not my thing!\n",
      "7  1004       49       1  this is fabulous!\n",
      "8  1030       75       6           so easy!\n",
      "9  1025       88       2             oh yes\n",
      "10 1007       49       3           serious?\n",
      "11 1020       77       1 couldn't be better\n",
      "12 1014       77       1       saved my day\n",
      "\n",
      "[[2]]\n",
      "  id user_id\n",
      "1 75       3\n",
      "2 88       4\n",
      "3 77       6\n",
      "4 87       5\n",
      "5 49       1\n",
      "6 24       7\n",
      "                                                                 post\n",
      "1                                       break egg. bake egg. eat egg.\n",
      "2                           wash strawberries. add ice. blend. enjoy.\n",
      "3                       2 slices of bread. add cheese. grill. heaven.\n",
      "4               open and crush avocado. add shrimps. perfect starter.\n",
      "5 nachos. add tomato sauce, minced meat and cheese. oven for 10 mins.\n",
      "6                              just eat an apple. simply and healthy.\n",
      "        date\n",
      "1 2015-09-05\n",
      "2 2015-09-14\n",
      "3 2015-09-21\n",
      "4 2015-09-22\n",
      "5 2015-09-22\n",
      "6 2015-09-24\n",
      "\n",
      "[[3]]\n",
      "  id      name     login\n",
      "1  1 elisabeth  elismith\n",
      "2  2      mike     mikey\n",
      "3  3      thea   teatime\n",
      "4  4    thomas tomatotom\n",
      "5  5    oliver olivander\n",
      "6  6      kate  katebenn\n",
      "7  7    anjali    lianja\n",
      "\n"
     ]
    }
   ],
   "source": [
    "# Get table names\n",
    "table_names <- dbListTables(con)\n",
    "\n",
    "# Import all tables\n",
    "tables <- lapply(table_names, dbReadTable, conn = con)\n",
    "\n",
    "# Print out tables\n",
    "print(tables)"
   ]
  },
  {
   "cell_type": "code",
   "execution_count": 7,
   "metadata": {},
   "outputs": [
    {
     "data": {
      "text/html": [
       "TRUE"
      ],
      "text/latex": [
       "TRUE"
      ],
      "text/markdown": [
       "TRUE"
      ],
      "text/plain": [
       "[1] TRUE"
      ]
     },
     "metadata": {},
     "output_type": "display_data"
    }
   ],
   "source": [
    "# close connection\n",
    "dbDisconnect(con)\n"
   ]
  },
  {
   "cell_type": "code",
   "execution_count": 8,
   "metadata": {},
   "outputs": [
    {
     "name": "stderr",
     "output_type": "stream",
     "text": [
      "ERROR while rich displaying an object: Error in .local(dbObj, ...): internal error in RS_DBI_getConnection: corrupt connection handle\n",
      "\n",
      "Traceback:\n",
      "1. FUN(X[[i]], ...)\n",
      "2. tryCatch(withCallingHandlers({\n",
      " .     if (!mime %in% names(repr::mime2repr)) \n",
      " .         stop(\"No repr_* for mimetype \", mime, \" in repr::mime2repr\")\n",
      " .     rpr <- repr::mime2repr[[mime]](obj)\n",
      " .     if (is.null(rpr)) \n",
      " .         return(NULL)\n",
      " .     prepare_content(is.raw(rpr), rpr)\n",
      " . }, error = error_handler), error = outer_handler)\n",
      "3. tryCatchList(expr, classes, parentenv, handlers)\n",
      "4. tryCatchOne(expr, names, parentenv, handlers[[1L]])\n",
      "5. doTryCatch(return(expr), name, parentenv, handler)\n",
      "6. withCallingHandlers({\n",
      " .     if (!mime %in% names(repr::mime2repr)) \n",
      " .         stop(\"No repr_* for mimetype \", mime, \" in repr::mime2repr\")\n",
      " .     rpr <- repr::mime2repr[[mime]](obj)\n",
      " .     if (is.null(rpr)) \n",
      " .         return(NULL)\n",
      " .     prepare_content(is.raw(rpr), rpr)\n",
      " . }, error = error_handler)\n",
      "7. repr::mime2repr[[mime]](obj)\n",
      "8. repr_text.default(obj)\n",
      "9. paste(capture.output(print(obj)), collapse = \"\\n\")\n",
      "10. capture.output(print(obj))\n",
      "11. evalVis(expr)\n",
      "12. withVisible(eval(expr, pf))\n",
      "13. eval(expr, pf)\n",
      "14. eval(expr, pf)\n",
      "15. print(obj)\n",
      "16. print.default(obj)\n",
      "17. (new(\"standardGeneric\", .Data = function (object) \n",
      "  . standardGeneric(\"show\"), generic = structure(\"show\", package = \"methods\"), \n",
      "  .     package = \"methods\", group = list(), valueClass = character(0), \n",
      "  .     signature = structure(\"object\", simpleOnly = TRUE), default = new(\"derivedDefaultMethod\", \n",
      "  .         .Data = function (object) \n",
      "  .         showDefault(object, FALSE), target = new(\"signature\", \n",
      "  .             .Data = \"ANY\", names = \"object\", package = \"methods\"), \n",
      "  .         defined = new(\"signature\", .Data = \"ANY\", names = \"object\", \n",
      "  .             package = \"methods\"), generic = structure(\"show\", package = \"methods\")), \n",
      "  .     skeleton = (new(\"derivedDefaultMethod\", .Data = function (object) \n",
      "  .     showDefault(object, FALSE), target = new(\"signature\", .Data = \"ANY\", \n",
      "  .         names = \"object\", package = \"methods\"), defined = new(\"signature\", \n",
      "  .         .Data = \"ANY\", names = \"object\", package = \"methods\"), \n",
      "  .         generic = structure(\"show\", package = \"methods\")))(object)))(new(\"MySQLConnection\", \n",
      "  .     Id = 0:1))\n",
      "18. (new(\"standardGeneric\", .Data = function (object) \n",
      "  . standardGeneric(\"show\"), generic = structure(\"show\", package = \"methods\"), \n",
      "  .     package = \"methods\", group = list(), valueClass = character(0), \n",
      "  .     signature = structure(\"object\", simpleOnly = TRUE), default = new(\"derivedDefaultMethod\", \n",
      "  .         .Data = function (object) \n",
      "  .         showDefault(object, FALSE), target = new(\"signature\", \n",
      "  .             .Data = \"ANY\", names = \"object\", package = \"methods\"), \n",
      "  .         defined = new(\"signature\", .Data = \"ANY\", names = \"object\", \n",
      "  .             package = \"methods\"), generic = structure(\"show\", package = \"methods\")), \n",
      "  .     skeleton = (new(\"derivedDefaultMethod\", .Data = function (object) \n",
      "  .     showDefault(object, FALSE), target = new(\"signature\", .Data = \"ANY\", \n",
      "  .         names = \"object\", package = \"methods\"), defined = new(\"signature\", \n",
      "  .         .Data = \"ANY\", names = \"object\", package = \"methods\"), \n",
      "  .         generic = structure(\"show\", package = \"methods\")))(object)))(new(\"MySQLConnection\", \n",
      "  .     Id = 0:1))\n",
      "19. dbIsValid(object)\n",
      "20. dbIsValid(object)\n",
      "21. .local(dbObj, ...)\n"
     ]
    }
   ],
   "source": [
    "# check disconnection\n",
    "con"
   ]
  },
  {
   "cell_type": "code",
   "execution_count": null,
   "metadata": {},
   "outputs": [],
   "source": []
  }
 ],
 "metadata": {
  "kernelspec": {
   "display_name": "R",
   "language": "R",
   "name": "ir"
  },
  "language_info": {
   "codemirror_mode": "r",
   "file_extension": ".r",
   "mimetype": "text/x-r-source",
   "name": "R",
   "pygments_lexer": "r",
   "version": "3.6.1"
  }
 },
 "nbformat": 4,
 "nbformat_minor": 4
}
