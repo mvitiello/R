{
 "cells": [
  {
   "cell_type": "markdown",
   "metadata": {},
   "source": [
    "## Logistic Regression\n",
    "\n",
    "Logistic regression involves fitting a curve to numeric data to make predictions about binary events. Arguably one of the most widely used machine learning methods, this chapter will provide an overview of the technique while illustrating how to apply it to fundraising data."
   ]
  },
  {
   "cell_type": "markdown",
   "metadata": {},
   "source": [
    "### Building simple logistic regression models\n",
    "The donors dataset contains 93,462 examples of people mailed in a fundraising solicitation for paralyzed military veterans. The donated column is 1 if the person made a donation in response to the mailing and 0 otherwise. This binary outcome will be the dependent variable for the logistic regression model.\n",
    "\n",
    "The remaining columns are features of the prospective donors that may influence their donation behavior. These are the model's independent variables.\n",
    "\n",
    "When building a regression model, it is often helpful to form a hypothesis about which independent variables will be predictive of the dependent variable. The bad_address column, which is set to 1 for an invalid mailing address and 0 otherwise, seems like it might reduce the chances of a donation. Similarly, one might suspect that religious interest (interest_religion) and interest in veterans affairs (interest_veterans) would be associated with greater charitable giving.\n",
    "\n",
    "In this exercise, you will use these three factors to create a simple model of donation behavior."
   ]
  },
  {
   "cell_type": "code",
   "execution_count": 1,
   "metadata": {},
   "outputs": [
    {
     "name": "stdout",
     "output_type": "stream",
     "text": [
      "'data.frame':\t93462 obs. of  13 variables:\n",
      " $ donated          : int  0 0 0 0 0 0 0 0 0 0 ...\n",
      " $ veteran          : int  0 0 0 0 0 0 0 0 0 0 ...\n",
      " $ bad_address      : int  0 0 0 0 0 0 0 0 0 0 ...\n",
      " $ age              : int  60 46 NA 70 78 NA 38 NA NA 65 ...\n",
      " $ has_children     : int  0 1 0 0 1 0 1 0 0 0 ...\n",
      " $ wealth_rating    : int  0 3 1 2 1 0 2 3 1 0 ...\n",
      " $ interest_veterans: int  0 0 0 0 0 0 0 0 0 0 ...\n",
      " $ interest_religion: int  0 0 0 0 1 0 0 0 0 0 ...\n",
      " $ pet_owner        : int  0 0 0 0 0 0 1 0 0 0 ...\n",
      " $ catalog_shopper  : int  0 0 0 0 1 0 0 0 0 0 ...\n",
      " $ recency          : Factor w/ 2 levels \"CURRENT\",\"LAPSED\": 1 1 1 1 1 1 1 1 1 1 ...\n",
      " $ frequency        : Factor w/ 2 levels \"FREQUENT\",\"INFREQUENT\": 1 1 1 1 1 2 2 1 2 2 ...\n",
      " $ money            : Factor w/ 2 levels \"HIGH\",\"MEDIUM\": 2 1 2 2 2 2 2 2 2 2 ...\n"
     ]
    },
    {
     "data": {
      "text/plain": [
       "\n",
       "    0     1 \n",
       "88751  4711 "
      ]
     },
     "metadata": {},
     "output_type": "display_data"
    },
    {
     "data": {
      "text/plain": [
       "\n",
       "Call:\n",
       "glm(formula = donated ~ bad_address + interest_religion + interest_veterans, \n",
       "    family = \"binomial\", data = donors)\n",
       "\n",
       "Deviance Residuals: \n",
       "    Min       1Q   Median       3Q      Max  \n",
       "-0.3480  -0.3192  -0.3192  -0.3192   2.5678  \n",
       "\n",
       "Coefficients:\n",
       "                  Estimate Std. Error  z value Pr(>|z|)    \n",
       "(Intercept)       -2.95139    0.01652 -178.664   <2e-16 ***\n",
       "bad_address       -0.30780    0.14348   -2.145   0.0319 *  \n",
       "interest_religion  0.06724    0.05069    1.327   0.1847    \n",
       "interest_veterans  0.11009    0.04676    2.354   0.0186 *  \n",
       "---\n",
       "Signif. codes:  0 '***' 0.001 '**' 0.01 '*' 0.05 '.' 0.1 ' ' 1\n",
       "\n",
       "(Dispersion parameter for binomial family taken to be 1)\n",
       "\n",
       "    Null deviance: 37330  on 93461  degrees of freedom\n",
       "Residual deviance: 37316  on 93458  degrees of freedom\n",
       "AIC: 37324\n",
       "\n",
       "Number of Fisher Scoring iterations: 5\n"
      ]
     },
     "metadata": {},
     "output_type": "display_data"
    }
   ],
   "source": [
    "# url = \"https://assets.datacamp.com/production/repositories/718/datasets/9055dac929e4515286728a2a5dae9f25f0e4eff6/donors.csv\"\n",
    "# where9am  = read.csv(url)\n",
    "donors = read.csv(\"donors.csv\")\n",
    "\n",
    "# Examine the dataset to identify potential independent variables\n",
    "str(donors)\n",
    "\n",
    "# Explore the dependent variable\n",
    "table(donors$donated)\n",
    "\n",
    "# Build the donation model\n",
    "donation_model <- glm(donated ~ bad_address + interest_religion + interest_veterans, \n",
    "                      data = donors, family = \"binomial\")\n",
    "\n",
    "# Summarize the model results\n",
    "summary(donation_model)"
   ]
  },
  {
   "cell_type": "markdown",
   "metadata": {},
   "source": [
    "### Making a binary prediction\n",
    "In the previous exercise, you used the glm() function to build a logistic regression model of donor behavior. As with many of R's machine learning methods, you can apply the predict() function to the model object to forecast future behavior. By default, predict() outputs predictions in terms of log odds unless type = \"response\" is specified. This converts the log odds to probabilities.\n",
    "\n",
    "Because a logistic regression model estimates the probability of the outcome, it is up to you to determine the threshold at which the probability implies action. One must balance the extremes of being too cautious versus being too aggressive. For example, if you were to solicit only the people with a 99% or greater donation probability, you may miss out on many people with lower estimated probabilities that still choose to donate. This balance is particularly important to consider for severely imbalanced outcomes, such as in this dataset where donations are relatively rare."
   ]
  },
  {
   "cell_type": "code",
   "execution_count": 8,
   "metadata": {},
   "outputs": [
    {
     "data": {
      "text/html": [
       "0.0504055128503935"
      ],
      "text/latex": [
       "0.0504055128503935"
      ],
      "text/markdown": [
       "0.0504055128503935"
      ],
      "text/plain": [
       "[1] 0.05040551"
      ]
     },
     "metadata": {},
     "output_type": "display_data"
    },
    {
     "data": {
      "text/plain": [
       "   \n",
       "        0     1\n",
       "  0 73389  3815\n",
       "  1 15362   896"
      ]
     },
     "metadata": {},
     "output_type": "display_data"
    },
    {
     "data": {
      "text/html": [
       "0.794815005028782"
      ],
      "text/latex": [
       "0.794815005028782"
      ],
      "text/markdown": [
       "0.794815005028782"
      ],
      "text/plain": [
       "[1] 0.794815"
      ]
     },
     "metadata": {},
     "output_type": "display_data"
    }
   ],
   "source": [
    "# Estimate the donation probability\n",
    "donors$donation_prob <- predict(donation_model, type = \"response\")\n",
    "\n",
    "# Find the donation probability of the average prospect\n",
    "mean(donors$donation_prob)\n",
    "\n",
    "# Predict a donation if probability of donation is greater than average (0.0504)\n",
    "donors$donation_pred <- ifelse(donors$donation_prob > 0.0504, 1, 0)\n",
    "\n",
    "# consistency table\n",
    "table(donors$donation_pred, donors$donated)\n",
    "\n",
    "# Calculate the model's accuracy\n",
    "mean(donors$donation_pred == donors$donated)\n",
    "\n",
    "# obtain a ROC CURVE\n",
    "# install.packages(\"ROCR\")\n",
    "# library(ROCR)\n",
    "# train.roc <- prediction(donors$donation_prob, donors$donated)\n",
    "# plot(performance(train.roc, \"tpr\", \"fpr\"), col = \"red\", main = \"ROC Curve for train data\")\n",
    "# abline(0, 1, lty = 8, col = \"blue\")\n",
    "# train.auc <- performance(train.roc, \"auc\")\n",
    "# slot(train.auc, \"y.values\")"
   ]
  },
  {
   "cell_type": "code",
   "execution_count": 10,
   "metadata": {},
   "outputs": [
    {
     "name": "stdout",
     "output_type": "stream",
     "text": [
      "package 'pROC' successfully unpacked and MD5 sums checked\n",
      "\n",
      "The downloaded binary packages are in\n",
      "\tC:\\Users\\Migue\\AppData\\Local\\Temp\\RtmpkDadit\\downloaded_packages\n"
     ]
    },
    {
     "name": "stderr",
     "output_type": "stream",
     "text": [
      "Warning message:\n",
      "\"package 'pROC' was built under R version 3.6.3\"Type 'citation(\"pROC\")' for a citation.\n",
      "\n",
      "Attaching package: 'pROC'\n",
      "\n",
      "The following objects are masked from 'package:stats':\n",
      "\n",
      "    cov, smooth, var\n",
      "\n",
      "Setting levels: control = 0, case = 1\n",
      "Setting direction: controls < cases\n"
     ]
    },
    {
     "data": {
      "text/html": [
       "0.510166058120372"
      ],
      "text/latex": [
       "0.510166058120372"
      ],
      "text/markdown": [
       "0.510166058120372"
      ],
      "text/plain": [
       "Area under the curve: 0.5102"
      ]
     },
     "metadata": {},
     "output_type": "display_data"
    },
    {
     "data": {
      "image/png": "[encoded data removed]",
      "text/plain": [
       "plot without title"
      ]
     },
     "metadata": {},
     "output_type": "display_data"
    }
   ],
   "source": [
    "# Load the pROC package\n",
    "#install.packages(\"pROC\")\n",
    "library(pROC)\n",
    "\n",
    "# Create a ROC curve\n",
    "ROC <- roc(donors$donated, donors$donation_prob)\n",
    "\n",
    "# Plot the ROC curve\n",
    "plot(ROC, col = \"blue\")\n",
    "\n",
    "# Calculate the area under the curve (AUC)\n",
    "auc(ROC)"
   ]
  },
  {
   "cell_type": "markdown",
   "metadata": {},
   "source": [
    "### Coding categorical features\n",
    "Sometimes a dataset contains numeric values that represent a categorical feature.\n",
    "\n",
    "In the donors dataset, wealth_rating uses numbers to indicate the donor's wealth level:\n",
    "\n",
    "0 = Unknown\n",
    "\n",
    "1 = Low\n",
    "\n",
    "2 = Medium\n",
    "\n",
    "3 = High\n",
    "\n",
    "This exercise illustrates how to prepare this type of categorical feature and examines its impact on a logistic regression model. The dataframe donors is loaded in your workspace."
   ]
  },
  {
   "cell_type": "code",
   "execution_count": 11,
   "metadata": {},
   "outputs": [
    {
     "data": {
      "text/plain": [
       "\n",
       "Call:\n",
       "glm(formula = donated ~ wealth_levels, family = \"binomial\", data = donors)\n",
       "\n",
       "Deviance Residuals: \n",
       "    Min       1Q   Median       3Q      Max  \n",
       "-0.3320  -0.3243  -0.3175  -0.3175   2.4582  \n",
       "\n",
       "Coefficients:\n",
       "                     Estimate Std. Error z value Pr(>|z|)    \n",
       "(Intercept)          -2.91894    0.03614 -80.772   <2e-16 ***\n",
       "wealth_levelsUnknown -0.04373    0.04243  -1.031    0.303    \n",
       "wealth_levelsLow     -0.05245    0.05332  -0.984    0.325    \n",
       "wealth_levelsHigh     0.04804    0.04768   1.008    0.314    \n",
       "---\n",
       "Signif. codes:  0 '***' 0.001 '**' 0.01 '*' 0.05 '.' 0.1 ' ' 1\n",
       "\n",
       "(Dispersion parameter for binomial family taken to be 1)\n",
       "\n",
       "    Null deviance: 37330  on 93461  degrees of freedom\n",
       "Residual deviance: 37323  on 93458  degrees of freedom\n",
       "AIC: 37331\n",
       "\n",
       "Number of Fisher Scoring iterations: 5\n"
      ]
     },
     "metadata": {},
     "output_type": "display_data"
    }
   ],
   "source": [
    "# Convert the wealth rating to a factor\n",
    "donors$wealth_levels <- factor(donors$wealth_rating, levels = c(0,1,2,3), labels = c(\"Unknown\", \"Low\", \"Medium\", \"High\"))\n",
    "\n",
    "# Use relevel() to change reference category\n",
    "donors$wealth_levels <- relevel(donors$wealth_levels, ref =  \"Medium\")\n",
    "\n",
    "# See how our factor coding impacts the model\n",
    "summary(glm(donated ~ wealth_levels, data = donors, family = \"binomial\")\n",
    ")"
   ]
  },
  {
   "cell_type": "markdown",
   "metadata": {},
   "source": [
    "### Handling missing data\n",
    "Some of the prospective donors have missing age data. Unfortunately, R will exclude any cases with NA values when building a regression model.\n",
    "\n",
    "One workaround is to replace, or impute, the missing values with an estimated value. After doing so, you may also create a missing data indicator to model the possibility that cases with missing data are different in some way from those without."
   ]
  },
  {
   "cell_type": "code",
   "execution_count": 12,
   "metadata": {},
   "outputs": [
    {
     "data": {
      "text/plain": [
       "   Min. 1st Qu.  Median    Mean 3rd Qu.    Max.    NA's \n",
       "   1.00   48.00   62.00   61.65   75.00   98.00   22546 "
      ]
     },
     "metadata": {},
     "output_type": "display_data"
    }
   ],
   "source": [
    "# Find the average age among non-missing values\n",
    "summary(donors$age)\n",
    "\n",
    "# Impute missing age values with the mean age\n",
    "donors$imputed_age <- ifelse(is.na(donors$age), round(mean(donors$age, na.rm = TRUE),2),donors$age)\n",
    "\n",
    "# Create missing value indicator for age\n",
    "donors$missing_age <- ifelse(is.na(donors$age),1, 0)"
   ]
  },
  {
   "cell_type": "markdown",
   "metadata": {},
   "source": [
    "### Building a more sophisticated model\n",
    "One of the best predictors of future giving is a history of recent, frequent, and large gifts. In marketing terms, this is known as R/F/M:\n",
    "\n",
    "1. Recency\n",
    "2. Frequency\n",
    "3. Money\n",
    "\n",
    "Donors that haven't given both recently and frequently may be especially likely to give again; in other words, the combined impact of recency and frequency may be greater than the sum of the separate effects.\n",
    "\n",
    "Because these predictors together have a greater impact on the dependent variable, their joint effect must be modeled as an interaction."
   ]
  },
  {
   "cell_type": "code",
   "execution_count": 15,
   "metadata": {},
   "outputs": [
    {
     "data": {
      "text/plain": [
       "\n",
       "Call:\n",
       "glm(formula = donated ~ money + recency * frequency, family = \"binomial\", \n",
       "    data = donors)\n",
       "\n",
       "Deviance Residuals: \n",
       "    Min       1Q   Median       3Q      Max  \n",
       "-0.3696  -0.3696  -0.2895  -0.2895   2.7924  \n",
       "\n",
       "Coefficients:\n",
       "                                  Estimate Std. Error z value Pr(>|z|)    \n",
       "(Intercept)                       -3.01142    0.04279 -70.375   <2e-16 ***\n",
       "moneyMEDIUM                        0.36186    0.04300   8.415   <2e-16 ***\n",
       "recencyLAPSED                     -0.86677    0.41434  -2.092   0.0364 *  \n",
       "frequencyINFREQUENT               -0.50148    0.03107 -16.143   <2e-16 ***\n",
       "recencyLAPSED:frequencyINFREQUENT  1.01787    0.51713   1.968   0.0490 *  \n",
       "---\n",
       "Signif. codes:  0 '***' 0.001 '**' 0.01 '*' 0.05 '.' 0.1 ' ' 1\n",
       "\n",
       "(Dispersion parameter for binomial family taken to be 1)\n",
       "\n",
       "    Null deviance: 37330  on 93461  degrees of freedom\n",
       "Residual deviance: 36938  on 93457  degrees of freedom\n",
       "AIC: 36948\n",
       "\n",
       "Number of Fisher Scoring iterations: 6\n"
      ]
     },
     "metadata": {},
     "output_type": "display_data"
    },
    {
     "name": "stderr",
     "output_type": "stream",
     "text": [
      "Setting levels: control = 0, case = 1\n",
      "Setting direction: controls < cases\n"
     ]
    },
    {
     "data": {
      "text/html": [
       "0.578489371262516"
      ],
      "text/latex": [
       "0.578489371262516"
      ],
      "text/markdown": [
       "0.578489371262516"
      ],
      "text/plain": [
       "Area under the curve: 0.5785"
      ]
     },
     "metadata": {},
     "output_type": "display_data"
    },
    {
     "data": {
      "image/png": "[encoded data removed]",
      "text/plain": [
       "plot without title"
      ]
     },
     "metadata": {},
     "output_type": "display_data"
    }
   ],
   "source": [
    "# Build a recency, frequency, and money (RFM) model\n",
    "rfm_model <- glm(donated ~ money+recency*frequency, data = donors, family = \"binomial\")\n",
    "\n",
    "# Summarize the RFM model to see how the parameters were coded\n",
    "summary(rfm_model)\n",
    "\n",
    "# Compute predicted probabilities for the RFM model\n",
    "rfm_prob <- predict(rfm_model, type = \"response\")\n",
    "\n",
    "# Plot the ROC curve and find AUC for the new model\n",
    "library(pROC)\n",
    "ROC <- roc(donors$donated, rfm_prob)\n",
    "plot(ROC, col = \"red\")\n",
    "auc(ROC)"
   ]
  },
  {
   "cell_type": "markdown",
   "metadata": {},
   "source": [
    "### Building a stepwise regression model\n",
    "In the absence of subject-matter expertise, stepwise regression can assist with the search for the most important predictors of the outcome of interest.\n",
    "\n",
    "In this exercise, you will use a forward stepwise approach to add predictors to the model one-by-one until no additional benefit is seen."
   ]
  },
  {
   "cell_type": "code",
   "execution_count": 16,
   "metadata": {},
   "outputs": [
    {
     "name": "stdout",
     "output_type": "stream",
     "text": [
      "Start:  AIC=37332.13\n",
      "donated ~ 1\n",
      "\n"
     ]
    },
    {
     "name": "stderr",
     "output_type": "stream",
     "text": [
      "Warning message in add1.glm(fit, scope$add, scale = scale, trace = trace, k = k, :\n",
      "\"using the 70916/93462 rows from a combined fit\""
     ]
    },
    {
     "name": "stdout",
     "output_type": "stream",
     "text": [
      "                    Df Deviance   AIC\n",
      "+ frequency          1    28502 37122\n",
      "+ money              1    28621 37241\n",
      "+ wealth_rating      1    28705 37326\n",
      "+ has_children       1    28705 37326\n",
      "+ age                1    28707 37328\n",
      "+ imputed_age        1    28707 37328\n",
      "+ wealth_levels      3    28704 37328\n",
      "+ interest_veterans  1    28709 37330\n",
      "+ donation_prob      1    28710 37330\n",
      "+ donation_pred      1    28710 37330\n",
      "+ catalog_shopper    1    28710 37330\n",
      "+ pet_owner          1    28711 37331\n",
      "<none>                    28714 37332\n",
      "+ interest_religion  1    28712 37333\n",
      "+ recency            1    28713 37333\n",
      "+ bad_address        1    28714 37334\n",
      "+ veteran            1    28714 37334\n",
      "\n",
      "Step:  AIC=37024.77\n",
      "donated ~ frequency\n",
      "\n"
     ]
    },
    {
     "name": "stderr",
     "output_type": "stream",
     "text": [
      "Warning message in add1.glm(fit, scope$add, scale = scale, trace = trace, k = k, :\n",
      "\"using the 70916/93462 rows from a combined fit\""
     ]
    },
    {
     "name": "stdout",
     "output_type": "stream",
     "text": [
      "                    Df Deviance   AIC\n",
      "+ money              1    28441 36966\n",
      "+ wealth_rating      1    28493 37018\n",
      "+ wealth_levels      3    28490 37019\n",
      "+ has_children       1    28494 37019\n",
      "+ donation_prob      1    28498 37023\n",
      "+ interest_veterans  1    28498 37023\n",
      "+ catalog_shopper    1    28499 37024\n",
      "+ donation_pred      1    28499 37024\n",
      "+ age                1    28499 37024\n",
      "+ imputed_age        1    28499 37024\n",
      "+ pet_owner          1    28499 37024\n",
      "<none>                    28502 37025\n",
      "+ interest_religion  1    28501 37026\n",
      "+ recency            1    28501 37026\n",
      "+ bad_address        1    28502 37026\n",
      "+ veteran            1    28502 37027\n",
      "\n",
      "Step:  AIC=36949.71\n",
      "donated ~ frequency + money\n",
      "\n"
     ]
    },
    {
     "name": "stderr",
     "output_type": "stream",
     "text": [
      "Warning message in add1.glm(fit, scope$add, scale = scale, trace = trace, k = k, :\n",
      "\"using the 70916/93462 rows from a combined fit\""
     ]
    },
    {
     "name": "stdout",
     "output_type": "stream",
     "text": [
      "                    Df Deviance   AIC\n",
      "+ wealth_levels      3    28427 36942\n",
      "+ wealth_rating      1    28431 36942\n",
      "+ has_children       1    28432 36943\n",
      "+ interest_veterans  1    28438 36948\n",
      "+ donation_prob      1    28438 36949\n",
      "+ catalog_shopper    1    28438 36949\n",
      "+ donation_pred      1    28439 36949\n",
      "+ age                1    28439 36949\n",
      "+ imputed_age        1    28439 36949\n",
      "+ pet_owner          1    28439 36949\n",
      "<none>                    28441 36950\n",
      "+ interest_religion  1    28440 36951\n",
      "+ recency            1    28441 36951\n",
      "+ bad_address        1    28441 36951\n",
      "+ veteran            1    28441 36952\n",
      "\n",
      "Step:  AIC=36945.48\n",
      "donated ~ frequency + money + wealth_levels\n",
      "\n"
     ]
    },
    {
     "name": "stderr",
     "output_type": "stream",
     "text": [
      "Warning message in add1.glm(fit, scope$add, scale = scale, trace = trace, k = k, :\n",
      "\"using the 70916/93462 rows from a combined fit\""
     ]
    },
    {
     "name": "stdout",
     "output_type": "stream",
     "text": [
      "                    Df Deviance   AIC\n",
      "+ has_children       1    28416 36937\n",
      "+ age                1    28424 36944\n",
      "+ imputed_age        1    28424 36944\n",
      "+ interest_veterans  1    28424 36945\n",
      "+ donation_prob      1    28424 36945\n",
      "+ catalog_shopper    1    28425 36945\n",
      "+ donation_pred      1    28425 36945\n",
      "<none>                    28427 36945\n",
      "+ pet_owner          1    28425 36946\n",
      "+ interest_religion  1    28426 36947\n",
      "+ recency            1    28427 36947\n",
      "+ bad_address        1    28427 36947\n",
      "+ veteran            1    28427 36947\n",
      "\n",
      "Step:  AIC=36938.4\n",
      "donated ~ frequency + money + wealth_levels + has_children\n",
      "\n"
     ]
    },
    {
     "name": "stderr",
     "output_type": "stream",
     "text": [
      "Warning message in add1.glm(fit, scope$add, scale = scale, trace = trace, k = k, :\n",
      "\"using the 70916/93462 rows from a combined fit\""
     ]
    },
    {
     "name": "stdout",
     "output_type": "stream",
     "text": [
      "                    Df Deviance   AIC\n",
      "+ pet_owner          1    28413 36937\n",
      "+ donation_prob      1    28413 36937\n",
      "+ catalog_shopper    1    28413 36937\n",
      "+ interest_veterans  1    28413 36937\n",
      "+ donation_pred      1    28414 36938\n",
      "<none>                    28416 36938\n",
      "+ interest_religion  1    28415 36939\n",
      "+ age                1    28416 36940\n",
      "+ imputed_age        1    28416 36940\n",
      "+ recency            1    28416 36940\n",
      "+ bad_address        1    28416 36940\n",
      "+ veteran            1    28416 36940\n",
      "\n",
      "Step:  AIC=36932.25\n",
      "donated ~ frequency + money + wealth_levels + has_children + \n",
      "    pet_owner\n",
      "\n"
     ]
    },
    {
     "name": "stderr",
     "output_type": "stream",
     "text": [
      "Warning message in add1.glm(fit, scope$add, scale = scale, trace = trace, k = k, :\n",
      "\"using the 70916/93462 rows from a combined fit\""
     ]
    },
    {
     "name": "stdout",
     "output_type": "stream",
     "text": [
      "                    Df Deviance   AIC\n",
      "<none>                    28413 36932\n",
      "+ donation_prob      1    28411 36932\n",
      "+ interest_veterans  1    28411 36932\n",
      "+ catalog_shopper    1    28412 36933\n",
      "+ donation_pred      1    28412 36933\n",
      "+ age                1    28412 36933\n",
      "+ imputed_age        1    28412 36933\n",
      "+ recency            1    28413 36934\n",
      "+ interest_religion  1    28413 36934\n",
      "+ bad_address        1    28413 36934\n",
      "+ veteran            1    28413 36934\n"
     ]
    },
    {
     "name": "stderr",
     "output_type": "stream",
     "text": [
      "Setting levels: control = 0, case = 1\n",
      "Setting direction: controls < cases\n"
     ]
    },
    {
     "data": {
      "text/html": [
       "0.584926121156163"
      ],
      "text/latex": [
       "0.584926121156163"
      ],
      "text/markdown": [
       "0.584926121156163"
      ],
      "text/plain": [
       "Area under the curve: 0.5849"
      ]
     },
     "metadata": {},
     "output_type": "display_data"
    },
    {
     "data": {
      "image/png": "[encoded data removed]",
      "text/plain": [
       "plot without title"
      ]
     },
     "metadata": {},
     "output_type": "display_data"
    }
   ],
   "source": [
    "# Specify a null model with no predictors\n",
    "null_model <- glm(donated ~ 1, data = donors, family = \"binomial\")\n",
    "\n",
    "# Specify the full model using all of the potential predictors\n",
    "full_model <- glm(donated ~., data = donors, family = \"binomial\")\n",
    "\n",
    "# Use a forward stepwise algorithm to build a parsimonious model\n",
    "step_model <- step(null_model, scope = list(lower = null_model, upper = full_model), direction = \"forward\")\n",
    "\n",
    "# Estimate the stepwise donation probability\n",
    "step_prob <- predict(step_model, type = \"response\")\n",
    "\n",
    "# Plot the ROC of the stepwise model\n",
    "ROC <- roc(donors$donated, step_prob)\n",
    "plot(ROC, col = \"red\")\n",
    "auc(ROC)"
   ]
  },
  {
   "cell_type": "code",
   "execution_count": null,
   "metadata": {},
   "outputs": [],
   "source": []
  }
 ],
 "metadata": {
  "kernelspec": {
   "display_name": "R",
   "language": "R",
   "name": "ir"
  },
  "language_info": {
   "codemirror_mode": "r",
   "file_extension": ".r",
   "mimetype": "text/x-r-source",
   "name": "R",
   "pygments_lexer": "r",
   "version": "3.6.1"
  }
 },
 "nbformat": 4,
 "nbformat_minor": 4
}
