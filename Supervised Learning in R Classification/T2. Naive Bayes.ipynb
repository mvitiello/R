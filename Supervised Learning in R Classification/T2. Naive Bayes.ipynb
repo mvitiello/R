{
 "cells": [
  {
   "cell_type": "markdown",
   "metadata": {},
   "source": [
    "## Naive Bayes\n",
    "\n",
    "Naive Bayes uses principles from the field of statistics to make predictions. This chapter will introduce the basics of Bayesian methods while exploring how to apply these techniques to iPhone-like destination suggestions."
   ]
  },
  {
   "attachments": {
    "Probabilidadcondicionada.png": {
     "image/png": "[encoded data removed]"
    }
   },
   "cell_type": "markdown",
   "metadata": {},
   "source": [
    "### Computing probabilities\n",
    "The where9am data frame contains 91 days (thirteen weeks) worth of data in which Brett recorded his location at 9am each day as well as whether the daytype was a weekend or weekday.\n",
    "\n",
    "Using the conditional probability formula below, you can compute the probability that Brett is working in the office, given that it is a weekday.\n",
    "\n",
    " ![Probabilidadcondicionada.png](attachment:Probabilidadcondicionada.png)\n",
    "\n",
    "Calculations like these are the basis of the Naive Bayes destination prediction model you'll develop in later exercises."
   ]
  },
  {
   "cell_type": "code",
   "execution_count": 2,
   "metadata": {},
   "outputs": [
    {
     "data": {
      "text/html": [
       "<table>\n",
       "<thead><tr><th scope=col>month</th><th scope=col>day</th><th scope=col>weekday</th><th scope=col>daytype</th><th scope=col>hour</th><th scope=col>hourtype</th><th scope=col>location</th></tr></thead>\n",
       "<tbody>\n",
       "\t<tr><td>1        </td><td>4        </td><td>wednesday</td><td>weekday  </td><td>0        </td><td>night    </td><td>home     </td></tr>\n",
       "\t<tr><td>1        </td><td>4        </td><td>wednesday</td><td>weekday  </td><td>1        </td><td>night    </td><td>home     </td></tr>\n",
       "\t<tr><td>1        </td><td>4        </td><td>wednesday</td><td>weekday  </td><td>2        </td><td>night    </td><td>home     </td></tr>\n",
       "\t<tr><td>1        </td><td>4        </td><td>wednesday</td><td>weekday  </td><td>3        </td><td>night    </td><td>home     </td></tr>\n",
       "\t<tr><td>1        </td><td>4        </td><td>wednesday</td><td>weekday  </td><td>4        </td><td>night    </td><td>home     </td></tr>\n",
       "\t<tr><td>1        </td><td>4        </td><td>wednesday</td><td>weekday  </td><td>5        </td><td>night    </td><td>home     </td></tr>\n",
       "</tbody>\n",
       "</table>\n"
      ],
      "text/latex": [
       "\\begin{tabular}{r|lllllll}\n",
       " month & day & weekday & daytype & hour & hourtype & location\\\\\n",
       "\\hline\n",
       "\t 1         & 4         & wednesday & weekday   & 0         & night     & home     \\\\\n",
       "\t 1         & 4         & wednesday & weekday   & 1         & night     & home     \\\\\n",
       "\t 1         & 4         & wednesday & weekday   & 2         & night     & home     \\\\\n",
       "\t 1         & 4         & wednesday & weekday   & 3         & night     & home     \\\\\n",
       "\t 1         & 4         & wednesday & weekday   & 4         & night     & home     \\\\\n",
       "\t 1         & 4         & wednesday & weekday   & 5         & night     & home     \\\\\n",
       "\\end{tabular}\n"
      ],
      "text/markdown": [
       "\n",
       "| month | day | weekday | daytype | hour | hourtype | location |\n",
       "|---|---|---|---|---|---|---|\n",
       "| 1         | 4         | wednesday | weekday   | 0         | night     | home      |\n",
       "| 1         | 4         | wednesday | weekday   | 1         | night     | home      |\n",
       "| 1         | 4         | wednesday | weekday   | 2         | night     | home      |\n",
       "| 1         | 4         | wednesday | weekday   | 3         | night     | home      |\n",
       "| 1         | 4         | wednesday | weekday   | 4         | night     | home      |\n",
       "| 1         | 4         | wednesday | weekday   | 5         | night     | home      |\n",
       "\n"
      ],
      "text/plain": [
       "  month day weekday   daytype hour hourtype location\n",
       "1 1     4   wednesday weekday 0    night    home    \n",
       "2 1     4   wednesday weekday 1    night    home    \n",
       "3 1     4   wednesday weekday 2    night    home    \n",
       "4 1     4   wednesday weekday 3    night    home    \n",
       "5 1     4   wednesday weekday 4    night    home    \n",
       "6 1     4   wednesday weekday 5    night    home    "
      ]
     },
     "metadata": {},
     "output_type": "display_data"
    },
    {
     "data": {
      "text/html": [
       "0.262820512820513"
      ],
      "text/latex": [
       "0.262820512820513"
      ],
      "text/markdown": [
       "0.262820512820513"
      ],
      "text/plain": [
       "[1] 0.2628205"
      ]
     },
     "metadata": {},
     "output_type": "display_data"
    }
   ],
   "source": [
    "# url = \"https://assets.datacamp.com/production/repositories/718/datasets/571628c39048df59c40c9dcfba146a2cf7a4a0e3/locations.csv\"\n",
    "# where9am  = read.csv(url)\n",
    "where9am = read.csv(\"locations.csv\")\n",
    "\n",
    "head(where9am)\n",
    "\n",
    "# Compute P(A) \n",
    "p_A <- nrow(subset(where9am, location == \"office\")) / nrow(where9am)\n",
    "\n",
    "# Compute P(B)\n",
    "p_B <- nrow(subset(where9am, daytype == \"weekday\")) / nrow(where9am)\n",
    "\n",
    "# Compute the observed P(A and B)\n",
    "p_AB <- nrow(subset(where9am, location == \"office\" & daytype == \"weekday\")) / nrow(where9am)\n",
    "\n",
    "# Compute P(A | B) and print its value\n",
    "p_A_given_B <- p_AB / p_B\n",
    "p_A_given_B"
   ]
  },
  {
   "cell_type": "code",
   "execution_count": 6,
   "metadata": {},
   "outputs": [
    {
     "data": {
      "text/html": [
       "0"
      ],
      "text/latex": [
       "0"
      ],
      "text/markdown": [
       "0"
      ],
      "text/plain": [
       "[1] 0"
      ]
     },
     "metadata": {},
     "output_type": "display_data"
    },
    {
     "data": {
      "text/html": [
       "0"
      ],
      "text/latex": [
       "0"
      ],
      "text/markdown": [
       "0"
      ],
      "text/plain": [
       "[1] 0"
      ]
     },
     "metadata": {},
     "output_type": "display_data"
    }
   ],
   "source": [
    "# check that P(office and weekend) = 0\n",
    "p_OW <- nrow(subset(where9am, location == \"office\" & daytype == \"weekend\")) / nrow(where9am)\n",
    "p_OW\n",
    "# check that P(office | weekend) = 0.\n",
    "p_W <- nrow(subset(where9am, daytype == \"weekend\")) / nrow(where9am)\n",
    "p_OgW <- p_OW / p_W\n",
    "p_OgW\n",
    "\n"
   ]
  },
  {
   "cell_type": "markdown",
   "metadata": {},
   "source": [
    "### A simple Naive Bayes location model\n",
    "The previous exercises showed that the probability that Brett is at work or at home at 9am is highly dependent on whether it is the weekend or a weekday.\n",
    "\n",
    "To see this finding in action, use the where9am data frame to build a Naive Bayes model on the same data.\n",
    "\n",
    "You can then use this model to predict the future: where does the model think that Brett will be at 9am on Thursday and at 9am on Saturday?\n",
    "\n",
    "The data frame where9am is available in your workspace. This dataset contains information about Brett's location at 9am on different days."
   ]
  },
  {
   "cell_type": "code",
   "execution_count": 18,
   "metadata": {},
   "outputs": [
    {
     "name": "stderr",
     "output_type": "stream",
     "text": [
      "Warning message:\n",
      "\"naive_bayes(): Feature daytype - zero probabilities are present. Consider Laplace smoothing.\"Warning message:\n",
      "\"predict.naive_bayes(): only 0 feature(s) out of 1 defined in the naive_bayes object \"locmodel\" are used for prediction.\n",
      "\"Warning message:\n",
      "\"predict.naive_bayes(): no feature in the newdata corresponds to probability tables in the object. Classification is done based on the prior probabilities\""
     ]
    },
    {
     "data": {
      "text/html": [
       "home\n",
       "<details>\n",
       "\t<summary style=display:list-item;cursor:pointer>\n",
       "\t\t<strong>Levels</strong>:\n",
       "\t</summary>\n",
       "\t<ol class=list-inline>\n",
       "\t\t<li>'appointment'</li>\n",
       "\t\t<li>'campus'</li>\n",
       "\t\t<li>'home'</li>\n",
       "\t\t<li>'office'</li>\n",
       "\t\t<li>'restaurant'</li>\n",
       "\t\t<li>'store'</li>\n",
       "\t\t<li>'theater'</li>\n",
       "\t</ol>\n",
       "</details>"
      ],
      "text/latex": [
       "home\n",
       "\\emph{Levels}: \\begin{enumerate*}\n",
       "\\item 'appointment'\n",
       "\\item 'campus'\n",
       "\\item 'home'\n",
       "\\item 'office'\n",
       "\\item 'restaurant'\n",
       "\\item 'store'\n",
       "\\item 'theater'\n",
       "\\end{enumerate*}\n"
      ],
      "text/markdown": [
       "home\n",
       "**Levels**: 1. 'appointment'\n",
       "2. 'campus'\n",
       "3. 'home'\n",
       "4. 'office'\n",
       "5. 'restaurant'\n",
       "6. 'store'\n",
       "7. 'theater'\n",
       "\n",
       "\n"
      ],
      "text/plain": [
       "[1] home\n",
       "Levels: appointment campus home office restaurant store theater"
      ]
     },
     "metadata": {},
     "output_type": "display_data"
    },
    {
     "name": "stderr",
     "output_type": "stream",
     "text": [
      "Warning message:\n",
      "\"predict.naive_bayes(): only 0 feature(s) out of 1 defined in the naive_bayes object \"locmodel\" are used for prediction.\n",
      "\"Warning message:\n",
      "\"predict.naive_bayes(): no feature in the newdata corresponds to probability tables in the object. Classification is done based on the prior probabilities\""
     ]
    },
    {
     "data": {
      "text/html": [
       "home\n",
       "<details>\n",
       "\t<summary style=display:list-item;cursor:pointer>\n",
       "\t\t<strong>Levels</strong>:\n",
       "\t</summary>\n",
       "\t<ol class=list-inline>\n",
       "\t\t<li>'appointment'</li>\n",
       "\t\t<li>'campus'</li>\n",
       "\t\t<li>'home'</li>\n",
       "\t\t<li>'office'</li>\n",
       "\t\t<li>'restaurant'</li>\n",
       "\t\t<li>'store'</li>\n",
       "\t\t<li>'theater'</li>\n",
       "\t</ol>\n",
       "</details>"
      ],
      "text/latex": [
       "home\n",
       "\\emph{Levels}: \\begin{enumerate*}\n",
       "\\item 'appointment'\n",
       "\\item 'campus'\n",
       "\\item 'home'\n",
       "\\item 'office'\n",
       "\\item 'restaurant'\n",
       "\\item 'store'\n",
       "\\item 'theater'\n",
       "\\end{enumerate*}\n"
      ],
      "text/markdown": [
       "home\n",
       "**Levels**: 1. 'appointment'\n",
       "2. 'campus'\n",
       "3. 'home'\n",
       "4. 'office'\n",
       "5. 'restaurant'\n",
       "6. 'store'\n",
       "7. 'theater'\n",
       "\n",
       "\n"
      ],
      "text/plain": [
       "[1] home\n",
       "Levels: appointment campus home office restaurant store theater"
      ]
     },
     "metadata": {},
     "output_type": "display_data"
    }
   ],
   "source": [
    "# Load the naivebayes package\n",
    "# install.packages(\"naivebayes\")\n",
    "library(naivebayes)\n",
    "\n",
    "# Build the location prediction model\n",
    "locmodel <- naive_bayes(location ~ daytype, data = where9am)\n",
    "\n",
    "# Predict location\n",
    "\n",
    "predict(locmodel, data.frame(c(\"weekday\")))\n",
    "\n",
    "predict(locmodel, data.frame(c(\"weekend\")))\n"
   ]
  },
  {
   "cell_type": "markdown",
   "metadata": {},
   "source": [
    "### Examining \"raw\" probabilities\n",
    "The naivebayes package offers several ways to peek inside a Naive Bayes model.\n",
    "\n",
    "Typing the name of the model object provides the a priori (overall) and conditional probabilities of each of the model's predictors. If one were so inclined, you might use these for calculating posterior (predicted) probabilities by hand.\n",
    "\n",
    "Alternatively, R will compute the posterior probabilities for you if the type = \"prob\" parameter is supplied to the predict() function.\n",
    "\n",
    "Using these methods, examine how the model's predicted 9am location probability varies from day-to-day. The model locmodel that you fit in the previous exercise is in your workspace."
   ]
  },
  {
   "cell_type": "code",
   "execution_count": 19,
   "metadata": {},
   "outputs": [
    {
     "name": "stdout",
     "output_type": "stream",
     "text": [
      "\n",
      "================================== Naive Bayes ================================== \n",
      " \n",
      " Call: \n",
      "naive_bayes.formula(formula = location ~ daytype, data = where9am)\n",
      "\n",
      "--------------------------------------------------------------------------------- \n",
      " \n",
      "Laplace smoothing: 0\n",
      "\n",
      "--------------------------------------------------------------------------------- \n",
      " \n",
      " A priori probabilities: \n",
      "\n",
      "appointment      campus        home      office  restaurant       store \n",
      "0.003663004 0.032967033 0.717948718 0.187728938 0.037087912 0.017857143 \n",
      "    theater \n",
      "0.002747253 \n",
      "\n",
      "--------------------------------------------------------------------------------- \n",
      " \n",
      " Tables: \n",
      "\n",
      "--------------------------------------------------------------------------------- \n",
      " ::: daytype (Bernoulli) \n",
      "--------------------------------------------------------------------------------- \n",
      "         \n",
      "daytype   appointment    campus      home    office restaurant     store\n",
      "  weekday   0.5000000 1.0000000 0.6275510 1.0000000  0.7901235 0.6666667\n",
      "  weekend   0.5000000 0.0000000 0.3724490 0.0000000  0.2098765 0.3333333\n",
      "         \n",
      "daytype     theater\n",
      "  weekday 0.0000000\n",
      "  weekend 1.0000000\n",
      "\n",
      "---------------------------------------------------------------------------------\n",
      "\n"
     ]
    },
    {
     "name": "stderr",
     "output_type": "stream",
     "text": [
      "Warning message:\n",
      "\"predict.naive_bayes(): only 0 feature(s) out of 1 defined in the naive_bayes object \"locmodel\" are used for prediction.\n",
      "\"Warning message:\n",
      "\"predict.naive_bayes(): no feature in the newdata corresponds to probability tables in the object. Posterior probabilities are equal to prior probabilities.\""
     ]
    },
    {
     "data": {
      "text/html": [
       "<table>\n",
       "<thead><tr><th scope=col>appointment</th><th scope=col>campus</th><th scope=col>home</th><th scope=col>office</th><th scope=col>restaurant</th><th scope=col>store</th><th scope=col>theater</th></tr></thead>\n",
       "<tbody>\n",
       "\t<tr><td>0.003663004</td><td>0.03296703 </td><td>0.7179487  </td><td>0.1877289  </td><td>0.03708791 </td><td>0.01785714 </td><td>0.002747253</td></tr>\n",
       "</tbody>\n",
       "</table>\n"
      ],
      "text/latex": [
       "\\begin{tabular}{lllllll}\n",
       " appointment & campus & home & office & restaurant & store & theater\\\\\n",
       "\\hline\n",
       "\t 0.003663004 & 0.03296703  & 0.7179487   & 0.1877289   & 0.03708791  & 0.01785714  & 0.002747253\\\\\n",
       "\\end{tabular}\n"
      ],
      "text/markdown": [
       "\n",
       "| appointment | campus | home | office | restaurant | store | theater |\n",
       "|---|---|---|---|---|---|---|\n",
       "| 0.003663004 | 0.03296703  | 0.7179487   | 0.1877289   | 0.03708791  | 0.01785714  | 0.002747253 |\n",
       "\n"
      ],
      "text/plain": [
       "     appointment campus     home      office    restaurant store     \n",
       "[1,] 0.003663004 0.03296703 0.7179487 0.1877289 0.03708791 0.01785714\n",
       "     theater    \n",
       "[1,] 0.002747253"
      ]
     },
     "metadata": {},
     "output_type": "display_data"
    },
    {
     "name": "stderr",
     "output_type": "stream",
     "text": [
      "Warning message:\n",
      "\"predict.naive_bayes(): only 0 feature(s) out of 1 defined in the naive_bayes object \"locmodel\" are used for prediction.\n",
      "\"Warning message:\n",
      "\"predict.naive_bayes(): no feature in the newdata corresponds to probability tables in the object. Posterior probabilities are equal to prior probabilities.\""
     ]
    },
    {
     "data": {
      "text/html": [
       "<table>\n",
       "<thead><tr><th scope=col>appointment</th><th scope=col>campus</th><th scope=col>home</th><th scope=col>office</th><th scope=col>restaurant</th><th scope=col>store</th><th scope=col>theater</th></tr></thead>\n",
       "<tbody>\n",
       "\t<tr><td>0.003663004</td><td>0.03296703 </td><td>0.7179487  </td><td>0.1877289  </td><td>0.03708791 </td><td>0.01785714 </td><td>0.002747253</td></tr>\n",
       "</tbody>\n",
       "</table>\n"
      ],
      "text/latex": [
       "\\begin{tabular}{lllllll}\n",
       " appointment & campus & home & office & restaurant & store & theater\\\\\n",
       "\\hline\n",
       "\t 0.003663004 & 0.03296703  & 0.7179487   & 0.1877289   & 0.03708791  & 0.01785714  & 0.002747253\\\\\n",
       "\\end{tabular}\n"
      ],
      "text/markdown": [
       "\n",
       "| appointment | campus | home | office | restaurant | store | theater |\n",
       "|---|---|---|---|---|---|---|\n",
       "| 0.003663004 | 0.03296703  | 0.7179487   | 0.1877289   | 0.03708791  | 0.01785714  | 0.002747253 |\n",
       "\n"
      ],
      "text/plain": [
       "     appointment campus     home      office    restaurant store     \n",
       "[1,] 0.003663004 0.03296703 0.7179487 0.1877289 0.03708791 0.01785714\n",
       "     theater    \n",
       "[1,] 0.002747253"
      ]
     },
     "metadata": {},
     "output_type": "display_data"
    }
   ],
   "source": [
    "# Examine the location prediction model\n",
    "print(locmodel)\n",
    "\n",
    "# Obtain the predicted probabilities \n",
    "\n",
    "predict(locmodel, data.frame(c(\"weekday\")), type = \"prob\")\n",
    "\n",
    "predict(locmodel, data.frame(c(\"weekend\")), type = \"prob\")"
   ]
  },
  {
   "cell_type": "markdown",
   "metadata": {},
   "source": [
    "### A more sophisticated location model\n",
    "The locations dataset records Brett's location every hour for 13 weeks. Each hour, the tracking information includes the daytype (weekend or weekday) as well as the hourtype (morning, afternoon, evening, or night).\n",
    "\n",
    "Using this data, build a more sophisticated model to see how Brett's predicted location not only varies by the day of week but also by the time of day. The dataset locations is already loaded in your workspace.\n",
    "\n",
    "You can specify additional independent variables in your formula using the + sign (e.g. y ~ x + b)."
   ]
  },
  {
   "cell_type": "code",
   "execution_count": 39,
   "metadata": {},
   "outputs": [
    {
     "name": "stderr",
     "output_type": "stream",
     "text": [
      "Warning message:\n",
      "\"naive_bayes(): Feature daytype - zero probabilities are present. Consider Laplace smoothing.\"Warning message:\n",
      "\"naive_bayes(): Feature hourtype - zero probabilities are present. Consider Laplace smoothing.\""
     ]
    },
    {
     "data": {
      "text/html": [
       "office\n",
       "<details>\n",
       "\t<summary style=display:list-item;cursor:pointer>\n",
       "\t\t<strong>Levels</strong>:\n",
       "\t</summary>\n",
       "\t<ol class=list-inline>\n",
       "\t\t<li>'appointment'</li>\n",
       "\t\t<li>'campus'</li>\n",
       "\t\t<li>'home'</li>\n",
       "\t\t<li>'office'</li>\n",
       "\t\t<li>'restaurant'</li>\n",
       "\t\t<li>'store'</li>\n",
       "\t\t<li>'theater'</li>\n",
       "\t</ol>\n",
       "</details>"
      ],
      "text/latex": [
       "office\n",
       "\\emph{Levels}: \\begin{enumerate*}\n",
       "\\item 'appointment'\n",
       "\\item 'campus'\n",
       "\\item 'home'\n",
       "\\item 'office'\n",
       "\\item 'restaurant'\n",
       "\\item 'store'\n",
       "\\item 'theater'\n",
       "\\end{enumerate*}\n"
      ],
      "text/markdown": [
       "office\n",
       "**Levels**: 1. 'appointment'\n",
       "2. 'campus'\n",
       "3. 'home'\n",
       "4. 'office'\n",
       "5. 'restaurant'\n",
       "6. 'store'\n",
       "7. 'theater'\n",
       "\n",
       "\n"
      ],
      "text/plain": [
       "[1] office\n",
       "Levels: appointment campus home office restaurant store theater"
      ]
     },
     "metadata": {},
     "output_type": "display_data"
    },
    {
     "data": {
      "text/html": [
       "home\n",
       "<details>\n",
       "\t<summary style=display:list-item;cursor:pointer>\n",
       "\t\t<strong>Levels</strong>:\n",
       "\t</summary>\n",
       "\t<ol class=list-inline>\n",
       "\t\t<li>'appointment'</li>\n",
       "\t\t<li>'campus'</li>\n",
       "\t\t<li>'home'</li>\n",
       "\t\t<li>'office'</li>\n",
       "\t\t<li>'restaurant'</li>\n",
       "\t\t<li>'store'</li>\n",
       "\t\t<li>'theater'</li>\n",
       "\t</ol>\n",
       "</details>"
      ],
      "text/latex": [
       "home\n",
       "\\emph{Levels}: \\begin{enumerate*}\n",
       "\\item 'appointment'\n",
       "\\item 'campus'\n",
       "\\item 'home'\n",
       "\\item 'office'\n",
       "\\item 'restaurant'\n",
       "\\item 'store'\n",
       "\\item 'theater'\n",
       "\\end{enumerate*}\n"
      ],
      "text/markdown": [
       "home\n",
       "**Levels**: 1. 'appointment'\n",
       "2. 'campus'\n",
       "3. 'home'\n",
       "4. 'office'\n",
       "5. 'restaurant'\n",
       "6. 'store'\n",
       "7. 'theater'\n",
       "\n",
       "\n"
      ],
      "text/plain": [
       "[1] home\n",
       "Levels: appointment campus home office restaurant store theater"
      ]
     },
     "metadata": {},
     "output_type": "display_data"
    }
   ],
   "source": [
    "# Build a NB model of location\n",
    "locmodel <- naive_bayes(location ~ daytype + hourtype, data = where9am)\n",
    "\n",
    "# Predict Brett's location on a weekday afternoon\n",
    "predict(locmodel, where9am[13, c(\"daytype\", \"hourtype\")])\n",
    "\n",
    "# Predict Brett's location on a weekday evening\n",
    "predict(locmodel, where9am[19, c(\"daytype\", \"hourtype\")])\n",
    "\n"
   ]
  },
  {
   "cell_type": "markdown",
   "metadata": {},
   "source": [
    "### Preparing for unforeseen circumstances\n",
    "While Brett was tracking his location over 13 weeks, he never went into the office during the weekend. Consequently, the joint probability of P(office and weekend) = 0.\n",
    "\n",
    "Explore how this impacts the predicted probability that Brett may go to work on the weekend in the future. Additionally, you can see how using the Laplace correction will allow a small chance for these types of unforeseen circumstances.\n"
   ]
  },
  {
   "cell_type": "code",
   "execution_count": 40,
   "metadata": {},
   "outputs": [
    {
     "data": {
      "text/html": [
       "<table>\n",
       "<thead><tr><th scope=col>appointment</th><th scope=col>campus</th><th scope=col>home</th><th scope=col>office</th><th scope=col>restaurant</th><th scope=col>store</th><th scope=col>theater</th></tr></thead>\n",
       "<tbody>\n",
       "\t<tr><td>0.02462883  </td><td>0.0004802622</td><td>0.8439145   </td><td>0.003349521 </td><td>0.1111338   </td><td>0.01641922  </td><td>7.38865e-05 </td></tr>\n",
       "</tbody>\n",
       "</table>\n"
      ],
      "text/latex": [
       "\\begin{tabular}{lllllll}\n",
       " appointment & campus & home & office & restaurant & store & theater\\\\\n",
       "\\hline\n",
       "\t 0.02462883   & 0.0004802622 & 0.8439145    & 0.003349521  & 0.1111338    & 0.01641922   & 7.38865e-05 \\\\\n",
       "\\end{tabular}\n"
      ],
      "text/markdown": [
       "\n",
       "| appointment | campus | home | office | restaurant | store | theater |\n",
       "|---|---|---|---|---|---|---|\n",
       "| 0.02462883   | 0.0004802622 | 0.8439145    | 0.003349521  | 0.1111338    | 0.01641922   | 7.38865e-05  |\n",
       "\n"
      ],
      "text/plain": [
       "     appointment campus       home      office      restaurant store     \n",
       "[1,] 0.02462883  0.0004802622 0.8439145 0.003349521 0.1111338  0.01641922\n",
       "     theater    \n",
       "[1,] 7.38865e-05"
      ]
     },
     "metadata": {},
     "output_type": "display_data"
    },
    {
     "data": {
      "text/html": [
       "<table>\n",
       "<thead><tr><th scope=col>appointment</th><th scope=col>campus</th><th scope=col>home</th><th scope=col>office</th><th scope=col>restaurant</th><th scope=col>store</th><th scope=col>theater</th></tr></thead>\n",
       "<tbody>\n",
       "\t<tr><td>0.02013872 </td><td>0.006187715</td><td>0.8308154  </td><td>0.007929249</td><td>0.1098743  </td><td>0.01871085 </td><td>0.006343697</td></tr>\n",
       "</tbody>\n",
       "</table>\n"
      ],
      "text/latex": [
       "\\begin{tabular}{lllllll}\n",
       " appointment & campus & home & office & restaurant & store & theater\\\\\n",
       "\\hline\n",
       "\t 0.02013872  & 0.006187715 & 0.8308154   & 0.007929249 & 0.1098743   & 0.01871085  & 0.006343697\\\\\n",
       "\\end{tabular}\n"
      ],
      "text/markdown": [
       "\n",
       "| appointment | campus | home | office | restaurant | store | theater |\n",
       "|---|---|---|---|---|---|---|\n",
       "| 0.02013872  | 0.006187715 | 0.8308154   | 0.007929249 | 0.1098743   | 0.01871085  | 0.006343697 |\n",
       "\n"
      ],
      "text/plain": [
       "     appointment campus      home      office      restaurant store     \n",
       "[1,] 0.02013872  0.006187715 0.8308154 0.007929249 0.1098743  0.01871085\n",
       "     theater    \n",
       "[1,] 0.006343697"
      ]
     },
     "metadata": {},
     "output_type": "display_data"
    }
   ],
   "source": [
    "# Observe the predicted probabilities for a weekend afternoon\n",
    "predict(locmodel, where9am[85, c(\"daytype\", \"hourtype\")], type = \"prob\")\n",
    "\n",
    "# Build a new model using the Laplace correction\n",
    "locmodel2 <- naive_bayes(location ~ daytype + hourtype, data = where9am, laplace = 1)\n",
    "\n",
    "# Observe the new predicted probabilities for a weekend afternoon\n",
    "predict(locmodel2, where9am[85, c(\"daytype\", \"hourtype\")], type = \"prob\")"
   ]
  },
  {
   "cell_type": "code",
   "execution_count": null,
   "metadata": {},
   "outputs": [],
   "source": []
  }
 ],
 "metadata": {
  "kernelspec": {
   "display_name": "R",
   "language": "R",
   "name": "ir"
  },
  "language_info": {
   "codemirror_mode": "r",
   "file_extension": ".r",
   "mimetype": "text/x-r-source",
   "name": "R",
   "pygments_lexer": "r",
   "version": "3.6.1"
  }
 },
 "nbformat": 4,
 "nbformat_minor": 4
}
