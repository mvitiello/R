{
 "cells": [
  {
   "cell_type": "markdown",
   "metadata": {},
   "source": [
    "## Grouping and summarizing\n",
    "\n",
    "So far you've been answering questions about individual country-year pairs, but you may be interested in aggregations of the data, such as the average life expectancy of all countries within each year. Here you'll learn to use the group by and summarize verbs, which collapse large datasets into manageable summaries."
   ]
  },
  {
   "cell_type": "markdown",
   "metadata": {},
   "source": [
    "### Summarizing the median life expectancy\n",
    "\n",
    "You've seen how to find the mean life expectancy and the total population across a set of observations, but mean() and sum() are only two of the functions R provides for summarizing a collection of numbers. Here, you'll learn to use the median() function in combination with summarize().\n",
    "\n",
    "By the way, dplyr displays some messages when it's loaded that we've been hiding so far. They'll show up in red and start with:\n",
    "\n",
    "Attaching package: 'dplyr'\n",
    "\n",
    "The following objects are masked from 'package:stats':\n",
    "\n",
    "This will occur in future exercises each time you load dplyr: it's mentioning some built-in functions that are overwritten by dplyr. You won't need to worry about this message within this course."
   ]
  },
  {
   "cell_type": "code",
   "execution_count": 1,
   "metadata": {},
   "outputs": [
    {
     "name": "stderr",
     "output_type": "stream",
     "text": [
      "Warning message:\n",
      "\"package 'gapminder' was built under R version 3.6.3\"\n",
      "Attaching package: 'dplyr'\n",
      "\n",
      "The following objects are masked from 'package:stats':\n",
      "\n",
      "    filter, lag\n",
      "\n",
      "The following objects are masked from 'package:base':\n",
      "\n",
      "    intersect, setdiff, setequal, union\n",
      "\n",
      "Registered S3 methods overwritten by 'ggplot2':\n",
      "  method         from \n",
      "  [.quosures     rlang\n",
      "  c.quosures     rlang\n",
      "  print.quosures rlang\n"
     ]
    },
    {
     "data": {
      "text/html": [
       "<table>\n",
       "<thead><tr><th scope=col>medianLifeExp</th></tr></thead>\n",
       "<tbody>\n",
       "\t<tr><td>60.7125</td></tr>\n",
       "</tbody>\n",
       "</table>\n"
      ],
      "text/latex": [
       "\\begin{tabular}{r|l}\n",
       " medianLifeExp\\\\\n",
       "\\hline\n",
       "\t 60.7125\\\\\n",
       "\\end{tabular}\n"
      ],
      "text/markdown": [
       "\n",
       "| medianLifeExp |\n",
       "|---|\n",
       "| 60.7125 |\n",
       "\n"
      ],
      "text/plain": [
       "  medianLifeExp\n",
       "1 60.7125      "
      ]
     },
     "metadata": {},
     "output_type": "display_data"
    }
   ],
   "source": [
    "# Use the median() function within a summarize() to find the median life\n",
    "# expectancy. Save it into a column called medianLifeExp.\n",
    "\n",
    "# install packages\n",
    "# install.packages(dplyr)\n",
    "# install.packages(\"gapminder\")\n",
    "# install.packages(\"ggplot2\")\n",
    "# load packages\n",
    "library(gapminder)\n",
    "library(dplyr)\n",
    "library(ggplot2)\n",
    "\n",
    "# Summarize to find the median life expectancy\n",
    "gapminder %>%\n",
    "    summarize(medianLifeExp = median(lifeExp))"
   ]
  },
  {
   "cell_type": "markdown",
   "metadata": {},
   "source": [
    "### Summarizing the median life expectancy in 1957\n",
    "Rather than summarizing the entire dataset, you may want to find \n",
    "the median life expectancy for only one particular year. \n",
    "In this case, you'll find the median in the year 1957."
   ]
  },
  {
   "cell_type": "code",
   "execution_count": 2,
   "metadata": {},
   "outputs": [
    {
     "data": {
      "text/html": [
       "<table>\n",
       "<thead><tr><th scope=col>medianLifeExp</th></tr></thead>\n",
       "<tbody>\n",
       "\t<tr><td>48.3605</td></tr>\n",
       "</tbody>\n",
       "</table>\n"
      ],
      "text/latex": [
       "\\begin{tabular}{r|l}\n",
       " medianLifeExp\\\\\n",
       "\\hline\n",
       "\t 48.3605\\\\\n",
       "\\end{tabular}\n"
      ],
      "text/markdown": [
       "\n",
       "| medianLifeExp |\n",
       "|---|\n",
       "| 48.3605 |\n",
       "\n"
      ],
      "text/plain": [
       "  medianLifeExp\n",
       "1 48.3605      "
      ]
     },
     "metadata": {},
     "output_type": "display_data"
    }
   ],
   "source": [
    "# Filter for the year 1957, then use the median() function within \n",
    "# a summarize() to calculate the median life expectancy into a \n",
    "# column called medianLifeExp.\n",
    "\n",
    "gapminder %>%\n",
    "    filter (year == 1957) %>%\n",
    "    summarize(medianLifeExp = median(lifeExp))"
   ]
  },
  {
   "cell_type": "markdown",
   "metadata": {},
   "source": [
    "### Summarizing multiple variables in 1957\n",
    "The summarize() verb allows you to summarize multiple variables \n",
    "at once. In this case, you'll use the median() function to find \n",
    "the median life expectancy and the max() function to find the \n",
    "maximum GDP per capita."
   ]
  },
  {
   "cell_type": "code",
   "execution_count": 3,
   "metadata": {},
   "outputs": [
    {
     "data": {
      "text/html": [
       "<table>\n",
       "<thead><tr><th scope=col>medianLifeExp</th><th scope=col>maxGdpPercap</th></tr></thead>\n",
       "<tbody>\n",
       "\t<tr><td>48.3605 </td><td>113523.1</td></tr>\n",
       "</tbody>\n",
       "</table>\n"
      ],
      "text/latex": [
       "\\begin{tabular}{r|ll}\n",
       " medianLifeExp & maxGdpPercap\\\\\n",
       "\\hline\n",
       "\t 48.3605  & 113523.1\\\\\n",
       "\\end{tabular}\n"
      ],
      "text/markdown": [
       "\n",
       "| medianLifeExp | maxGdpPercap |\n",
       "|---|---|\n",
       "| 48.3605  | 113523.1 |\n",
       "\n"
      ],
      "text/plain": [
       "  medianLifeExp maxGdpPercap\n",
       "1 48.3605       113523.1    "
      ]
     },
     "metadata": {},
     "output_type": "display_data"
    }
   ],
   "source": [
    "# Find both the median life expectancy (lifeExp) and the maximum \n",
    "# GDP per capita (gdpPercap) in the year 1957, calling them \n",
    "# medianLifeExp and maxGdpPercap respectively. You can use the \n",
    "# max() function to find the maximum.\n",
    "\n",
    "gapminder %>%\n",
    "    filter (year == 1957) %>%\n",
    "    summarize(medianLifeExp = median(lifeExp), \n",
    "              maxGdpPercap = max(gdpPercap))"
   ]
  },
  {
   "cell_type": "markdown",
   "metadata": {},
   "source": [
    "### Summarizing by year\n",
    "In a previous exercise, you found the median life expectancy \n",
    "and the maximum GDP per capita in the year 1957. \n",
    "Now, you'll perform those two summaries within each year \n",
    "in the dataset, using the group_by verb."
   ]
  },
  {
   "cell_type": "code",
   "execution_count": 5,
   "metadata": {},
   "outputs": [
    {
     "data": {
      "text/html": [
       "<table>\n",
       "<thead><tr><th scope=col>year</th><th scope=col>max_gdp</th><th scope=col>mean_LifeExp</th></tr></thead>\n",
       "<tbody>\n",
       "\t<tr><td>1952     </td><td>108382.35</td><td>45.1355  </td></tr>\n",
       "\t<tr><td>1957     </td><td>113523.13</td><td>48.3605  </td></tr>\n",
       "\t<tr><td>1962     </td><td> 95458.11</td><td>50.8810  </td></tr>\n",
       "\t<tr><td>1967     </td><td> 80894.88</td><td>53.8250  </td></tr>\n",
       "\t<tr><td>1972     </td><td>109347.87</td><td>56.5300  </td></tr>\n",
       "\t<tr><td>1977     </td><td> 59265.48</td><td>59.6720  </td></tr>\n",
       "\t<tr><td>1982     </td><td> 33693.18</td><td>62.4415  </td></tr>\n",
       "\t<tr><td>1987     </td><td> 31540.97</td><td>65.8340  </td></tr>\n",
       "\t<tr><td>1992     </td><td> 34932.92</td><td>67.7030  </td></tr>\n",
       "\t<tr><td>1997     </td><td> 41283.16</td><td>69.3940  </td></tr>\n",
       "\t<tr><td>2002     </td><td> 44683.98</td><td>70.8255  </td></tr>\n",
       "\t<tr><td>2007     </td><td> 49357.19</td><td>71.9355  </td></tr>\n",
       "</tbody>\n",
       "</table>\n"
      ],
      "text/latex": [
       "\\begin{tabular}{r|lll}\n",
       " year & max\\_gdp & mean\\_LifeExp\\\\\n",
       "\\hline\n",
       "\t 1952      & 108382.35 & 45.1355  \\\\\n",
       "\t 1957      & 113523.13 & 48.3605  \\\\\n",
       "\t 1962      &  95458.11 & 50.8810  \\\\\n",
       "\t 1967      &  80894.88 & 53.8250  \\\\\n",
       "\t 1972      & 109347.87 & 56.5300  \\\\\n",
       "\t 1977      &  59265.48 & 59.6720  \\\\\n",
       "\t 1982      &  33693.18 & 62.4415  \\\\\n",
       "\t 1987      &  31540.97 & 65.8340  \\\\\n",
       "\t 1992      &  34932.92 & 67.7030  \\\\\n",
       "\t 1997      &  41283.16 & 69.3940  \\\\\n",
       "\t 2002      &  44683.98 & 70.8255  \\\\\n",
       "\t 2007      &  49357.19 & 71.9355  \\\\\n",
       "\\end{tabular}\n"
      ],
      "text/markdown": [
       "\n",
       "| year | max_gdp | mean_LifeExp |\n",
       "|---|---|---|\n",
       "| 1952      | 108382.35 | 45.1355   |\n",
       "| 1957      | 113523.13 | 48.3605   |\n",
       "| 1962      |  95458.11 | 50.8810   |\n",
       "| 1967      |  80894.88 | 53.8250   |\n",
       "| 1972      | 109347.87 | 56.5300   |\n",
       "| 1977      |  59265.48 | 59.6720   |\n",
       "| 1982      |  33693.18 | 62.4415   |\n",
       "| 1987      |  31540.97 | 65.8340   |\n",
       "| 1992      |  34932.92 | 67.7030   |\n",
       "| 1997      |  41283.16 | 69.3940   |\n",
       "| 2002      |  44683.98 | 70.8255   |\n",
       "| 2007      |  49357.19 | 71.9355   |\n",
       "\n"
      ],
      "text/plain": [
       "   year max_gdp   mean_LifeExp\n",
       "1  1952 108382.35 45.1355     \n",
       "2  1957 113523.13 48.3605     \n",
       "3  1962  95458.11 50.8810     \n",
       "4  1967  80894.88 53.8250     \n",
       "5  1972 109347.87 56.5300     \n",
       "6  1977  59265.48 59.6720     \n",
       "7  1982  33693.18 62.4415     \n",
       "8  1987  31540.97 65.8340     \n",
       "9  1992  34932.92 67.7030     \n",
       "10 1997  41283.16 69.3940     \n",
       "11 2002  44683.98 70.8255     \n",
       "12 2007  49357.19 71.9355     "
      ]
     },
     "metadata": {},
     "output_type": "display_data"
    }
   ],
   "source": [
    "# The group_by verb \n",
    "# Find the median life expectancy (lifeExp) and maximum GDP \n",
    "# per capita (gdpPercap) within each year, saving them into \n",
    "# medianLifeExp and maxGdpPercap, respectively.\n",
    "\n",
    "gapminder %>%\n",
    "    group_by(year) %>%\n",
    "    summarize(max_gdp = max(gdpPercap),\n",
    "             median_LifeExp = median(lifeExp))\n"
   ]
  },
  {
   "cell_type": "markdown",
   "metadata": {},
   "source": [
    "### Summarizing by continent\n",
    "You can group by any variable in your dataset to create \n",
    "a summary. Rather than comparing across time, you might \n",
    "be interested in comparing among continents. You'll want \n",
    "to do that within one year of the dataset: let's use 1957."
   ]
  },
  {
   "cell_type": "code",
   "execution_count": 6,
   "metadata": {},
   "outputs": [
    {
     "data": {
      "text/html": [
       "<table>\n",
       "<thead><tr><th scope=col>continent</th><th scope=col>max_gdp</th><th scope=col>median_LifeExp</th></tr></thead>\n",
       "<tbody>\n",
       "\t<tr><td>Africa    </td><td>  5487.104</td><td>40.5925   </td></tr>\n",
       "\t<tr><td>Americas  </td><td> 14847.127</td><td>56.0740   </td></tr>\n",
       "\t<tr><td>Asia      </td><td>113523.133</td><td>48.2840   </td></tr>\n",
       "\t<tr><td>Europe    </td><td> 17909.490</td><td>67.6500   </td></tr>\n",
       "\t<tr><td>Oceania   </td><td> 12247.395</td><td>70.2950   </td></tr>\n",
       "</tbody>\n",
       "</table>\n"
      ],
      "text/latex": [
       "\\begin{tabular}{r|lll}\n",
       " continent & max\\_gdp & median\\_LifeExp\\\\\n",
       "\\hline\n",
       "\t Africa     &   5487.104 & 40.5925   \\\\\n",
       "\t Americas   &  14847.127 & 56.0740   \\\\\n",
       "\t Asia       & 113523.133 & 48.2840   \\\\\n",
       "\t Europe     &  17909.490 & 67.6500   \\\\\n",
       "\t Oceania    &  12247.395 & 70.2950   \\\\\n",
       "\\end{tabular}\n"
      ],
      "text/markdown": [
       "\n",
       "| continent | max_gdp | median_LifeExp |\n",
       "|---|---|---|\n",
       "| Africa     |   5487.104 | 40.5925    |\n",
       "| Americas   |  14847.127 | 56.0740    |\n",
       "| Asia       | 113523.133 | 48.2840    |\n",
       "| Europe     |  17909.490 | 67.6500    |\n",
       "| Oceania    |  12247.395 | 70.2950    |\n",
       "\n"
      ],
      "text/plain": [
       "  continent max_gdp    median_LifeExp\n",
       "1 Africa      5487.104 40.5925       \n",
       "2 Americas   14847.127 56.0740       \n",
       "3 Asia      113523.133 48.2840       \n",
       "4 Europe     17909.490 67.6500       \n",
       "5 Oceania    12247.395 70.2950       "
      ]
     },
     "metadata": {},
     "output_type": "display_data"
    }
   ],
   "source": [
    "# Filter the gapminder data for the year 1957. \n",
    "# Then find the median life expectancy (lifeExp) and \n",
    "# maximum GDP per capita (gdpPercap) within each continent, \n",
    "# saving them into medianLifeExp and maxGdpPercap, respectively.\n",
    "\n",
    "gapminder %>%\n",
    "    filter (year == 1957) %>%\n",
    "    group_by(continent) %>%\n",
    "    summarize(max_gdp = max(gdpPercap),\n",
    "             median_LifeExp = median(lifeExp))"
   ]
  },
  {
   "cell_type": "markdown",
   "metadata": {},
   "source": [
    "### Summarizing by continent and year\n",
    "Instead of grouping just by year, \n",
    "or just by continent, you'll now group \n",
    "by both continent and year to summarize within each."
   ]
  },
  {
   "cell_type": "code",
   "execution_count": 7,
   "metadata": {},
   "outputs": [
    {
     "data": {
      "text/html": [
       "<table>\n",
       "<thead><tr><th scope=col>year</th><th scope=col>continent</th><th scope=col>medianLifeExp</th><th scope=col>maxGdpPercap</th></tr></thead>\n",
       "<tbody>\n",
       "\t<tr><td>1952      </td><td>Africa    </td><td>38.8330   </td><td>  4725.296</td></tr>\n",
       "\t<tr><td>1952      </td><td>Americas  </td><td>54.7450   </td><td> 13990.482</td></tr>\n",
       "\t<tr><td>1952      </td><td>Asia      </td><td>44.8690   </td><td>108382.353</td></tr>\n",
       "\t<tr><td>1952      </td><td>Europe    </td><td>65.9000   </td><td> 14734.233</td></tr>\n",
       "\t<tr><td>1952      </td><td>Oceania   </td><td>69.2550   </td><td> 10556.576</td></tr>\n",
       "\t<tr><td>1957      </td><td>Africa    </td><td>40.5925   </td><td>  5487.104</td></tr>\n",
       "\t<tr><td>1957      </td><td>Americas  </td><td>56.0740   </td><td> 14847.127</td></tr>\n",
       "\t<tr><td>1957      </td><td>Asia      </td><td>48.2840   </td><td>113523.133</td></tr>\n",
       "\t<tr><td>1957      </td><td>Europe    </td><td>67.6500   </td><td> 17909.490</td></tr>\n",
       "\t<tr><td>1957      </td><td>Oceania   </td><td>70.2950   </td><td> 12247.395</td></tr>\n",
       "\t<tr><td>1962      </td><td>Africa    </td><td>42.6305   </td><td>  6757.031</td></tr>\n",
       "\t<tr><td>1962      </td><td>Americas  </td><td>58.2990   </td><td> 16173.146</td></tr>\n",
       "\t<tr><td>1962      </td><td>Asia      </td><td>49.3250   </td><td> 95458.112</td></tr>\n",
       "\t<tr><td>1962      </td><td>Europe    </td><td>69.5250   </td><td> 20431.093</td></tr>\n",
       "\t<tr><td>1962      </td><td>Oceania   </td><td>71.0850   </td><td> 13175.678</td></tr>\n",
       "\t<tr><td>1967      </td><td>Africa    </td><td>44.6985   </td><td> 18772.752</td></tr>\n",
       "\t<tr><td>1967      </td><td>Americas  </td><td>60.5230   </td><td> 19530.366</td></tr>\n",
       "\t<tr><td>1967      </td><td>Asia      </td><td>53.6550   </td><td> 80894.883</td></tr>\n",
       "\t<tr><td>1967      </td><td>Europe    </td><td>70.6100   </td><td> 22966.144</td></tr>\n",
       "\t<tr><td>1967      </td><td>Oceania   </td><td>71.3100   </td><td> 14526.125</td></tr>\n",
       "\t<tr><td>1972      </td><td>Africa    </td><td>47.0315   </td><td> 21011.497</td></tr>\n",
       "\t<tr><td>1972      </td><td>Americas  </td><td>63.4410   </td><td> 21806.036</td></tr>\n",
       "\t<tr><td>1972      </td><td>Asia      </td><td>56.9500   </td><td>109347.867</td></tr>\n",
       "\t<tr><td>1972      </td><td>Europe    </td><td>70.8850   </td><td> 27195.113</td></tr>\n",
       "\t<tr><td>1972      </td><td>Oceania   </td><td>71.9100   </td><td> 16788.629</td></tr>\n",
       "\t<tr><td>1977      </td><td>Africa    </td><td>49.2725   </td><td> 21951.212</td></tr>\n",
       "\t<tr><td>1977      </td><td>Americas  </td><td>66.3530   </td><td> 24072.632</td></tr>\n",
       "\t<tr><td>1977      </td><td>Asia      </td><td>60.7650   </td><td> 59265.477</td></tr>\n",
       "\t<tr><td>1977      </td><td>Europe    </td><td>72.3350   </td><td> 26982.291</td></tr>\n",
       "\t<tr><td>1977      </td><td>Oceania   </td><td>72.8550   </td><td> 18334.198</td></tr>\n",
       "\t<tr><td>1982      </td><td>Africa    </td><td>50.7560   </td><td> 17364.275</td></tr>\n",
       "\t<tr><td>1982      </td><td>Americas  </td><td>67.4050   </td><td> 25009.559</td></tr>\n",
       "\t<tr><td>1982      </td><td>Asia      </td><td>63.7390   </td><td> 33693.175</td></tr>\n",
       "\t<tr><td>1982      </td><td>Europe    </td><td>73.4900   </td><td> 28397.715</td></tr>\n",
       "\t<tr><td>1982      </td><td>Oceania   </td><td>74.2900   </td><td> 19477.009</td></tr>\n",
       "\t<tr><td>1987      </td><td>Africa    </td><td>51.6395   </td><td> 11864.408</td></tr>\n",
       "\t<tr><td>1987      </td><td>Americas  </td><td>69.4980   </td><td> 29884.350</td></tr>\n",
       "\t<tr><td>1987      </td><td>Asia      </td><td>66.2950   </td><td> 28118.430</td></tr>\n",
       "\t<tr><td>1987      </td><td>Europe    </td><td>74.8150   </td><td> 31540.975</td></tr>\n",
       "\t<tr><td>1987      </td><td>Oceania   </td><td>75.3200   </td><td> 21888.889</td></tr>\n",
       "\t<tr><td>1992      </td><td>Africa    </td><td>52.4290   </td><td> 13522.158</td></tr>\n",
       "\t<tr><td>1992      </td><td>Americas  </td><td>69.8620   </td><td> 32003.932</td></tr>\n",
       "\t<tr><td>1992      </td><td>Asia      </td><td>68.6900   </td><td> 34932.920</td></tr>\n",
       "\t<tr><td>1992      </td><td>Europe    </td><td>75.4510   </td><td> 33965.661</td></tr>\n",
       "\t<tr><td>1992      </td><td>Oceania   </td><td>76.9450   </td><td> 23424.767</td></tr>\n",
       "\t<tr><td>1997      </td><td>Africa    </td><td>52.7590   </td><td> 14722.842</td></tr>\n",
       "\t<tr><td>1997      </td><td>Americas  </td><td>72.1460   </td><td> 35767.433</td></tr>\n",
       "\t<tr><td>1997      </td><td>Asia      </td><td>70.2650   </td><td> 40300.620</td></tr>\n",
       "\t<tr><td>1997      </td><td>Europe    </td><td>76.1160   </td><td> 41283.164</td></tr>\n",
       "\t<tr><td>1997      </td><td>Oceania   </td><td>78.1900   </td><td> 26997.937</td></tr>\n",
       "\t<tr><td>2002      </td><td>Africa    </td><td>51.2355   </td><td> 12521.714</td></tr>\n",
       "\t<tr><td>2002      </td><td>Americas  </td><td>72.0470   </td><td> 39097.100</td></tr>\n",
       "\t<tr><td>2002      </td><td>Asia      </td><td>71.0280   </td><td> 36023.105</td></tr>\n",
       "\t<tr><td>2002      </td><td>Europe    </td><td>77.5365   </td><td> 44683.975</td></tr>\n",
       "\t<tr><td>2002      </td><td>Oceania   </td><td>79.7400   </td><td> 30687.755</td></tr>\n",
       "\t<tr><td>2007      </td><td>Africa    </td><td>52.9265   </td><td> 13206.485</td></tr>\n",
       "\t<tr><td>2007      </td><td>Americas  </td><td>72.8990   </td><td> 42951.653</td></tr>\n",
       "\t<tr><td>2007      </td><td>Asia      </td><td>72.3960   </td><td> 47306.990</td></tr>\n",
       "\t<tr><td>2007      </td><td>Europe    </td><td>78.6085   </td><td> 49357.190</td></tr>\n",
       "\t<tr><td>2007      </td><td>Oceania   </td><td>80.7195   </td><td> 34435.367</td></tr>\n",
       "</tbody>\n",
       "</table>\n"
      ],
      "text/latex": [
       "\\begin{tabular}{r|llll}\n",
       " year & continent & medianLifeExp & maxGdpPercap\\\\\n",
       "\\hline\n",
       "\t 1952       & Africa     & 38.8330    &   4725.296\\\\\n",
       "\t 1952       & Americas   & 54.7450    &  13990.482\\\\\n",
       "\t 1952       & Asia       & 44.8690    & 108382.353\\\\\n",
       "\t 1952       & Europe     & 65.9000    &  14734.233\\\\\n",
       "\t 1952       & Oceania    & 69.2550    &  10556.576\\\\\n",
       "\t 1957       & Africa     & 40.5925    &   5487.104\\\\\n",
       "\t 1957       & Americas   & 56.0740    &  14847.127\\\\\n",
       "\t 1957       & Asia       & 48.2840    & 113523.133\\\\\n",
       "\t 1957       & Europe     & 67.6500    &  17909.490\\\\\n",
       "\t 1957       & Oceania    & 70.2950    &  12247.395\\\\\n",
       "\t 1962       & Africa     & 42.6305    &   6757.031\\\\\n",
       "\t 1962       & Americas   & 58.2990    &  16173.146\\\\\n",
       "\t 1962       & Asia       & 49.3250    &  95458.112\\\\\n",
       "\t 1962       & Europe     & 69.5250    &  20431.093\\\\\n",
       "\t 1962       & Oceania    & 71.0850    &  13175.678\\\\\n",
       "\t 1967       & Africa     & 44.6985    &  18772.752\\\\\n",
       "\t 1967       & Americas   & 60.5230    &  19530.366\\\\\n",
       "\t 1967       & Asia       & 53.6550    &  80894.883\\\\\n",
       "\t 1967       & Europe     & 70.6100    &  22966.144\\\\\n",
       "\t 1967       & Oceania    & 71.3100    &  14526.125\\\\\n",
       "\t 1972       & Africa     & 47.0315    &  21011.497\\\\\n",
       "\t 1972       & Americas   & 63.4410    &  21806.036\\\\\n",
       "\t 1972       & Asia       & 56.9500    & 109347.867\\\\\n",
       "\t 1972       & Europe     & 70.8850    &  27195.113\\\\\n",
       "\t 1972       & Oceania    & 71.9100    &  16788.629\\\\\n",
       "\t 1977       & Africa     & 49.2725    &  21951.212\\\\\n",
       "\t 1977       & Americas   & 66.3530    &  24072.632\\\\\n",
       "\t 1977       & Asia       & 60.7650    &  59265.477\\\\\n",
       "\t 1977       & Europe     & 72.3350    &  26982.291\\\\\n",
       "\t 1977       & Oceania    & 72.8550    &  18334.198\\\\\n",
       "\t 1982       & Africa     & 50.7560    &  17364.275\\\\\n",
       "\t 1982       & Americas   & 67.4050    &  25009.559\\\\\n",
       "\t 1982       & Asia       & 63.7390    &  33693.175\\\\\n",
       "\t 1982       & Europe     & 73.4900    &  28397.715\\\\\n",
       "\t 1982       & Oceania    & 74.2900    &  19477.009\\\\\n",
       "\t 1987       & Africa     & 51.6395    &  11864.408\\\\\n",
       "\t 1987       & Americas   & 69.4980    &  29884.350\\\\\n",
       "\t 1987       & Asia       & 66.2950    &  28118.430\\\\\n",
       "\t 1987       & Europe     & 74.8150    &  31540.975\\\\\n",
       "\t 1987       & Oceania    & 75.3200    &  21888.889\\\\\n",
       "\t 1992       & Africa     & 52.4290    &  13522.158\\\\\n",
       "\t 1992       & Americas   & 69.8620    &  32003.932\\\\\n",
       "\t 1992       & Asia       & 68.6900    &  34932.920\\\\\n",
       "\t 1992       & Europe     & 75.4510    &  33965.661\\\\\n",
       "\t 1992       & Oceania    & 76.9450    &  23424.767\\\\\n",
       "\t 1997       & Africa     & 52.7590    &  14722.842\\\\\n",
       "\t 1997       & Americas   & 72.1460    &  35767.433\\\\\n",
       "\t 1997       & Asia       & 70.2650    &  40300.620\\\\\n",
       "\t 1997       & Europe     & 76.1160    &  41283.164\\\\\n",
       "\t 1997       & Oceania    & 78.1900    &  26997.937\\\\\n",
       "\t 2002       & Africa     & 51.2355    &  12521.714\\\\\n",
       "\t 2002       & Americas   & 72.0470    &  39097.100\\\\\n",
       "\t 2002       & Asia       & 71.0280    &  36023.105\\\\\n",
       "\t 2002       & Europe     & 77.5365    &  44683.975\\\\\n",
       "\t 2002       & Oceania    & 79.7400    &  30687.755\\\\\n",
       "\t 2007       & Africa     & 52.9265    &  13206.485\\\\\n",
       "\t 2007       & Americas   & 72.8990    &  42951.653\\\\\n",
       "\t 2007       & Asia       & 72.3960    &  47306.990\\\\\n",
       "\t 2007       & Europe     & 78.6085    &  49357.190\\\\\n",
       "\t 2007       & Oceania    & 80.7195    &  34435.367\\\\\n",
       "\\end{tabular}\n"
      ],
      "text/markdown": [
       "\n",
       "| year | continent | medianLifeExp | maxGdpPercap |\n",
       "|---|---|---|---|\n",
       "| 1952       | Africa     | 38.8330    |   4725.296 |\n",
       "| 1952       | Americas   | 54.7450    |  13990.482 |\n",
       "| 1952       | Asia       | 44.8690    | 108382.353 |\n",
       "| 1952       | Europe     | 65.9000    |  14734.233 |\n",
       "| 1952       | Oceania    | 69.2550    |  10556.576 |\n",
       "| 1957       | Africa     | 40.5925    |   5487.104 |\n",
       "| 1957       | Americas   | 56.0740    |  14847.127 |\n",
       "| 1957       | Asia       | 48.2840    | 113523.133 |\n",
       "| 1957       | Europe     | 67.6500    |  17909.490 |\n",
       "| 1957       | Oceania    | 70.2950    |  12247.395 |\n",
       "| 1962       | Africa     | 42.6305    |   6757.031 |\n",
       "| 1962       | Americas   | 58.2990    |  16173.146 |\n",
       "| 1962       | Asia       | 49.3250    |  95458.112 |\n",
       "| 1962       | Europe     | 69.5250    |  20431.093 |\n",
       "| 1962       | Oceania    | 71.0850    |  13175.678 |\n",
       "| 1967       | Africa     | 44.6985    |  18772.752 |\n",
       "| 1967       | Americas   | 60.5230    |  19530.366 |\n",
       "| 1967       | Asia       | 53.6550    |  80894.883 |\n",
       "| 1967       | Europe     | 70.6100    |  22966.144 |\n",
       "| 1967       | Oceania    | 71.3100    |  14526.125 |\n",
       "| 1972       | Africa     | 47.0315    |  21011.497 |\n",
       "| 1972       | Americas   | 63.4410    |  21806.036 |\n",
       "| 1972       | Asia       | 56.9500    | 109347.867 |\n",
       "| 1972       | Europe     | 70.8850    |  27195.113 |\n",
       "| 1972       | Oceania    | 71.9100    |  16788.629 |\n",
       "| 1977       | Africa     | 49.2725    |  21951.212 |\n",
       "| 1977       | Americas   | 66.3530    |  24072.632 |\n",
       "| 1977       | Asia       | 60.7650    |  59265.477 |\n",
       "| 1977       | Europe     | 72.3350    |  26982.291 |\n",
       "| 1977       | Oceania    | 72.8550    |  18334.198 |\n",
       "| 1982       | Africa     | 50.7560    |  17364.275 |\n",
       "| 1982       | Americas   | 67.4050    |  25009.559 |\n",
       "| 1982       | Asia       | 63.7390    |  33693.175 |\n",
       "| 1982       | Europe     | 73.4900    |  28397.715 |\n",
       "| 1982       | Oceania    | 74.2900    |  19477.009 |\n",
       "| 1987       | Africa     | 51.6395    |  11864.408 |\n",
       "| 1987       | Americas   | 69.4980    |  29884.350 |\n",
       "| 1987       | Asia       | 66.2950    |  28118.430 |\n",
       "| 1987       | Europe     | 74.8150    |  31540.975 |\n",
       "| 1987       | Oceania    | 75.3200    |  21888.889 |\n",
       "| 1992       | Africa     | 52.4290    |  13522.158 |\n",
       "| 1992       | Americas   | 69.8620    |  32003.932 |\n",
       "| 1992       | Asia       | 68.6900    |  34932.920 |\n",
       "| 1992       | Europe     | 75.4510    |  33965.661 |\n",
       "| 1992       | Oceania    | 76.9450    |  23424.767 |\n",
       "| 1997       | Africa     | 52.7590    |  14722.842 |\n",
       "| 1997       | Americas   | 72.1460    |  35767.433 |\n",
       "| 1997       | Asia       | 70.2650    |  40300.620 |\n",
       "| 1997       | Europe     | 76.1160    |  41283.164 |\n",
       "| 1997       | Oceania    | 78.1900    |  26997.937 |\n",
       "| 2002       | Africa     | 51.2355    |  12521.714 |\n",
       "| 2002       | Americas   | 72.0470    |  39097.100 |\n",
       "| 2002       | Asia       | 71.0280    |  36023.105 |\n",
       "| 2002       | Europe     | 77.5365    |  44683.975 |\n",
       "| 2002       | Oceania    | 79.7400    |  30687.755 |\n",
       "| 2007       | Africa     | 52.9265    |  13206.485 |\n",
       "| 2007       | Americas   | 72.8990    |  42951.653 |\n",
       "| 2007       | Asia       | 72.3960    |  47306.990 |\n",
       "| 2007       | Europe     | 78.6085    |  49357.190 |\n",
       "| 2007       | Oceania    | 80.7195    |  34435.367 |\n",
       "\n"
      ],
      "text/plain": [
       "   year continent medianLifeExp maxGdpPercap\n",
       "1  1952 Africa    38.8330         4725.296  \n",
       "2  1952 Americas  54.7450        13990.482  \n",
       "3  1952 Asia      44.8690       108382.353  \n",
       "4  1952 Europe    65.9000        14734.233  \n",
       "5  1952 Oceania   69.2550        10556.576  \n",
       "6  1957 Africa    40.5925         5487.104  \n",
       "7  1957 Americas  56.0740        14847.127  \n",
       "8  1957 Asia      48.2840       113523.133  \n",
       "9  1957 Europe    67.6500        17909.490  \n",
       "10 1957 Oceania   70.2950        12247.395  \n",
       "11 1962 Africa    42.6305         6757.031  \n",
       "12 1962 Americas  58.2990        16173.146  \n",
       "13 1962 Asia      49.3250        95458.112  \n",
       "14 1962 Europe    69.5250        20431.093  \n",
       "15 1962 Oceania   71.0850        13175.678  \n",
       "16 1967 Africa    44.6985        18772.752  \n",
       "17 1967 Americas  60.5230        19530.366  \n",
       "18 1967 Asia      53.6550        80894.883  \n",
       "19 1967 Europe    70.6100        22966.144  \n",
       "20 1967 Oceania   71.3100        14526.125  \n",
       "21 1972 Africa    47.0315        21011.497  \n",
       "22 1972 Americas  63.4410        21806.036  \n",
       "23 1972 Asia      56.9500       109347.867  \n",
       "24 1972 Europe    70.8850        27195.113  \n",
       "25 1972 Oceania   71.9100        16788.629  \n",
       "26 1977 Africa    49.2725        21951.212  \n",
       "27 1977 Americas  66.3530        24072.632  \n",
       "28 1977 Asia      60.7650        59265.477  \n",
       "29 1977 Europe    72.3350        26982.291  \n",
       "30 1977 Oceania   72.8550        18334.198  \n",
       "31 1982 Africa    50.7560        17364.275  \n",
       "32 1982 Americas  67.4050        25009.559  \n",
       "33 1982 Asia      63.7390        33693.175  \n",
       "34 1982 Europe    73.4900        28397.715  \n",
       "35 1982 Oceania   74.2900        19477.009  \n",
       "36 1987 Africa    51.6395        11864.408  \n",
       "37 1987 Americas  69.4980        29884.350  \n",
       "38 1987 Asia      66.2950        28118.430  \n",
       "39 1987 Europe    74.8150        31540.975  \n",
       "40 1987 Oceania   75.3200        21888.889  \n",
       "41 1992 Africa    52.4290        13522.158  \n",
       "42 1992 Americas  69.8620        32003.932  \n",
       "43 1992 Asia      68.6900        34932.920  \n",
       "44 1992 Europe    75.4510        33965.661  \n",
       "45 1992 Oceania   76.9450        23424.767  \n",
       "46 1997 Africa    52.7590        14722.842  \n",
       "47 1997 Americas  72.1460        35767.433  \n",
       "48 1997 Asia      70.2650        40300.620  \n",
       "49 1997 Europe    76.1160        41283.164  \n",
       "50 1997 Oceania   78.1900        26997.937  \n",
       "51 2002 Africa    51.2355        12521.714  \n",
       "52 2002 Americas  72.0470        39097.100  \n",
       "53 2002 Asia      71.0280        36023.105  \n",
       "54 2002 Europe    77.5365        44683.975  \n",
       "55 2002 Oceania   79.7400        30687.755  \n",
       "56 2007 Africa    52.9265        13206.485  \n",
       "57 2007 Americas  72.8990        42951.653  \n",
       "58 2007 Asia      72.3960        47306.990  \n",
       "59 2007 Europe    78.6085        49357.190  \n",
       "60 2007 Oceania   80.7195        34435.367  "
      ]
     },
     "metadata": {},
     "output_type": "display_data"
    }
   ],
   "source": [
    "# Find the median life expectancy (lifeExp) and \n",
    "# maximum GDP per capita (gdpPercap) within each combination \n",
    "# of continent and year, saving them into medianLifeExp and \n",
    "# maxGdpPercap, respectively.\n",
    "\n",
    "gapminder %>%\n",
    "    group_by(year, continent) %>%\n",
    "    summarize(medianLifeExp = median(lifeExp),\n",
    "              maxGdpPercap = max(gdpPercap))"
   ]
  },
  {
   "cell_type": "markdown",
   "metadata": {},
   "source": [
    "### Visualizing median life expectancy over time\n",
    "In the last chapter, you summarized the gapminder data \n",
    "to calculate the median life expectancy within each year. \n",
    "Now you can use the ggplot2 package to turn this into \n",
    "a visualization of changing life expectancy over time."
   ]
  },
  {
   "cell_type": "code",
   "execution_count": 8,
   "metadata": {},
   "outputs": [
    {
     "data": {
      "image/png": "[encoded data removed]",
      "text/plain": [
       "plot without title"
      ]
     },
     "metadata": {},
     "output_type": "display_data"
    }
   ],
   "source": [
    "# Visualizing summarized data\n",
    "# Use the by_year dataset to create a scatter plot showing \n",
    "# the change of median life expectancy over time, \n",
    "# with year on the x-axis and medianLifeExp on the y-axis. \n",
    "# Be sure to add expand_limits(y = 0) to make sure \n",
    "# the plot's y-axis includes zero.\n",
    "\n",
    "by_year <- gapminder %>%\n",
    "  group_by(year) %>%\n",
    "  summarize(medianLifeExp = median(lifeExp),\n",
    "            maxGdpPercap = max(gdpPercap))\n",
    "\n",
    "# Create a scatter plot showing the change in medianLifeExp over time\n",
    "ggplot(by_year, aes(x = year, y = medianLifeExp)) + geom_point() + expand_limits(y = 0)\n"
   ]
  },
  {
   "cell_type": "markdown",
   "metadata": {},
   "source": [
    "### Visualizing median GDP per capita per continent over time\n",
    "In the last exercise you were able to see how the median life \n",
    "expectancy of countries changed over time. Now you'll examine \n",
    "the median GDP per capita instead, and see how the trend \n",
    "differs among continents."
   ]
  },
  {
   "cell_type": "code",
   "execution_count": 11,
   "metadata": {},
   "outputs": [
    {
     "data": {
      "image/png": "[encoded data removed]",
      "text/plain": [
       "plot without title"
      ]
     },
     "metadata": {},
     "output_type": "display_data"
    }
   ],
   "source": [
    "# Summarize the gapminder dataset by continent and year, \n",
    "# finding the median GDP per capita (gdpPercap) within \n",
    "# each and putting it into a column called medianGdpPercap. \n",
    "# Use the assignment operator <- to save this summarized data \n",
    "# as by_year_continent.\n",
    "\n",
    "by_year_continent <- gapminder %>%\n",
    "  group_by(year, continent) %>%\n",
    "  summarize(medianGdpPercap = median(gdpPercap))\n",
    "\n",
    "# Create a scatter plot showing the change in medianGdpPercap \n",
    "# by continent over time. Use color to distinguish between \n",
    "# continents, and be sure to add expand_limits(y = 0) so that \n",
    "# the y-axis starts at zero.\n",
    "\n",
    "ggplot(by_year_continent, aes(x = year, y = medianGdpPercap, \n",
    "                    color = continent)) + geom_point() + expand_limits(y = 0)\n"
   ]
  },
  {
   "cell_type": "markdown",
   "metadata": {},
   "source": [
    "### Comparing median life expectancy and median GDP per continent in 2007\n",
    "In these exercises you've generally created plots \n",
    "that show change over time. But as another way of \n",
    "exploring your data visually, you can also use ggplot2 \n",
    "to plot summarized data to compare continents within a \n",
    "single year."
   ]
  },
  {
   "cell_type": "code",
   "execution_count": 14,
   "metadata": {},
   "outputs": [
    {
     "data": {
      "image/png": "[encoded data removed]",
      "text/plain": [
       "plot without title"
      ]
     },
     "metadata": {},
     "output_type": "display_data"
    }
   ],
   "source": [
    "# Filter the gapminder dataset for the year 2007, \n",
    "# then summarize the median GDP per capita and the \n",
    "# median life expectancy within each continent, \n",
    "# into columns called medianLifeExp and medianGdpPercap. \n",
    "# Save this as by_continent_2007.\n",
    "\n",
    "by_continent_2007 <- gapminder %>%\n",
    "  filter(year == 2007) %>%\n",
    "  group_by(continent) %>%   \n",
    "  summarize(medianLifeExp   = median(lifeExp),\n",
    "            medianGdpPercap = median(gdpPercap))\n",
    "\n",
    "\n",
    "# Use the by_continent_2007 data to create a scatterplot \n",
    "# comparing these summary statistics for continents in 2007, \n",
    "# putting the median GDP per capita on the x-axis to the \n",
    "# median life expectancy on the y-axis. Color the scatter \n",
    "# plot by continent. You don't need to add \n",
    "# expand_limits(y = 0) for this plot.\n",
    "\n",
    "ggplot(by_continent_2007, aes(x = medianGdpPercap, y = medianLifeExp, \n",
    "                    color = continent)) + geom_point() + expand_limits(y = 0)\n"
   ]
  },
  {
   "cell_type": "code",
   "execution_count": null,
   "metadata": {},
   "outputs": [],
   "source": []
  }
 ],
 "metadata": {
  "kernelspec": {
   "display_name": "R",
   "language": "R",
   "name": "ir"
  },
  "language_info": {
   "codemirror_mode": "r",
   "file_extension": ".r",
   "mimetype": "text/x-r-source",
   "name": "R",
   "pygments_lexer": "r",
   "version": "3.6.1"
  }
 },
 "nbformat": 4,
 "nbformat_minor": 4
}
