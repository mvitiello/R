{
 "cells": [
  {
   "cell_type": "markdown",
   "metadata": {},
   "source": [
    "## Foreach, future.apply and Load Balancing\n",
    "In this chapter, you will look at two user-contributed packages, namely foreach and future.apply, which make parallel programming in R even easier. They are built on top of the parallel and future packages. In the last lesson of this chapter, you will learn about the advantages and pitfalls of load balancing and scheduling."
   ]
  },
  {
   "cell_type": "markdown",
   "metadata": {},
   "source": [
    "### Word frequency with foreach\n",
    "Recall the first chapter where you found the most frequent words from the janeaustenr package that are of certain minimum length. It looked like this:\n",
    "\n",
    "result <- lapply(letters, max_frequency, words = words, min_length = 5) %>% unlist\n",
    "\n",
    "In this exercise, you will implement the foreach construct to solve the same problem."
   ]
  },
  {
   "cell_type": "code",
   "execution_count": 1,
   "metadata": {},
   "outputs": [
    {
     "name": "stderr",
     "output_type": "stream",
     "text": [
      "Warning message:\n",
      "\"package 'janeaustenr' was built under R version 3.6.3\"Warning message:\n",
      "\"package 'readr' was built under R version 3.6.3\"Warning message:\n",
      "\"package 'tidyr' was built under R version 3.6.3\""
     ]
    },
    {
     "name": "stdout",
     "output_type": "stream",
     "text": [
      "package 'foreach' successfully unpacked and MD5 sums checked\n",
      "\n",
      "The downloaded binary packages are in\n",
      "\tC:\\Users\\Migue\\AppData\\Local\\Temp\\RtmpAtOanJ\\downloaded_packages\n"
     ]
    },
    {
     "name": "stderr",
     "output_type": "stream",
     "text": [
      "Warning message:\n",
      "\"package 'foreach' was built under R version 3.6.3\""
     ]
    },
    {
     "data": {
      "image/png": "[encoded data removed]",
      "text/plain": [
       "plot without title"
      ]
     },
     "metadata": {},
     "output_type": "display_data"
    }
   ],
   "source": [
    "library(janeaustenr)\n",
    "library(stringr)\n",
    "library(readr)\n",
    "library(tidyr)\n",
    "\n",
    "extract_words <- function(book_name){\n",
    "    # extract the text of the book\n",
    "    text <- subset(austen_books(), book == book_name)$text\n",
    "    # extract words from the text and convert to lowercase\n",
    "    str_extract_all(text, boundary(\"word\")) %>% unlist %>% tolower\n",
    "}\n",
    "\n",
    "janeausten_words <- function() {\n",
    "    # Names of the six books contained in janeaustenr\n",
    "    books <- austen_books()$book %>% unique %>% as.character\n",
    "    # Vector of words from all six books\n",
    "    words <- sapply(books, extract_words) %>% unlist\n",
    "    words\n",
    "}\n",
    "# Vector of words from all six books\n",
    "words <- janeausten_words()\n",
    "\n",
    "\n",
    "select_words <- function(letter, words, min_length = 1) {\n",
    "    min_length_words <- words[nchar(words) >= min_length]\n",
    "    grep(paste0(\"^\", letter), min_length_words, value = TRUE)\n",
    "}\n",
    "\n",
    "max_frequency <- function(letter, words, min_length = 1) {\n",
    "    w <- select_words(letter, words = words, min_length = min_length)\n",
    "    frequency <- table(w)    \n",
    "    frequency[which.max(frequency)]\n",
    "}\n",
    "\n",
    "\n",
    "letters = c(\"a\", \"b\", \"c\", \"d\", \"e\", \"f\", \"g\", \"h\", \"i\", \"j\", \"k\", \"l\", \"m\", \"n\", \"o\", \"p\",\n",
    "            \"q\",\"r\",\"s\", \"t\", \"u\", \"v\", \"w\", \"x\", \"y\", \"z\")\n",
    "\n",
    "# Load the package\n",
    "# install.packages(\"foreach\")\n",
    "library(foreach)\n",
    "\n",
    "# foreach() %do% construct\n",
    "result <- foreach(let = letters, .combine = c) %do% \n",
    "                max_frequency(let, words, min_length = 5)\n",
    "                \n",
    "# Plot results \n",
    "barplot(result, las = 2)"
   ]
  },
  {
   "cell_type": "markdown",
   "metadata": {},
   "source": [
    "### Multiple iterators in word frequency\n",
    "This exercise is a modification of the previous one. Now assume you want to vary the minimum word length across the letters of the alphabet. Specifically, your job is to modify the code so that the maximum frequency for the first half of the alphabet is obtained for words that are two and more characters long, while the frequency corresponding to the second half of the alphabet is derived from words that are six and more characters long. Note that we are using an alphabet of 26 characters.\n",
    "\n",
    "Your namespace has all the objects from the previous exercise, plus the foreach package is loaded."
   ]
  },
  {
   "cell_type": "code",
   "execution_count": 13,
   "metadata": {},
   "outputs": [
    {
     "data": {
      "image/png": "[encoded data removed]",
      "text/plain": [
       "plot without title"
      ]
     },
     "metadata": {},
     "output_type": "display_data"
    }
   ],
   "source": [
    "# hint. Use the iterator n to define multiple values of the min_length argument. \n",
    "# It is equal to 2 in the first 13 iterations and equal to 6 in the last 13 iterations. \n",
    "# Use c() and rep() to construct n so that it has the same length as let.\n",
    "\n",
    "# foreach()%do% construct with 2 iterators\n",
    "result <- foreach(let = letters, n = c(rep(2, 13), rep(6,13)) , .combine = c) %do%\n",
    "                max_frequency(let, words, min_length = n)\n",
    "            \n",
    "# Plot results\n",
    "barplot(result, las = 2)\n",
    "\n",
    "# define  a function\n",
    "freq_seq <- function(min_length = 5)\n",
    "    foreach(let = letters, .combine=c) %do% \n",
    "        max_frequency(let, words = words, min_length = min_length)"
   ]
  },
  {
   "cell_type": "markdown",
   "metadata": {},
   "source": [
    "### Using doParallel\n",
    "In one of the previous exercises, you parallelized the function myrdnorm() which uses the package extraDistr to generate discrete random numbers. Here you will implement a parallel foreach solution to the same problem, using the doParallel backend. doParallel provides an argument .packages which ensures that external packages are loaded on all nodes."
   ]
  },
  {
   "cell_type": "code",
   "execution_count": 5,
   "metadata": {},
   "outputs": [
    {
     "name": "stderr",
     "output_type": "stream",
     "text": [
      "Warning message:\n",
      "\"package 'doParallel' is in use and will not be installed\""
     ]
    }
   ],
   "source": [
    "# install.packages(\"doParallel\")\n",
    "library(doParallel)\n",
    "\n",
    "# Pre-defined myrdnorm \n",
    "myrdnorm <- function(n, mean = 0, sd = 1) \n",
    "    rnorm(n, mean = mean, sd = sd)\n",
    "\n",
    "# Register doParallel with 3 cores\n",
    "registerDoParallel(cores = 3)\n",
    "\n",
    "# foreach()%dopar% loop\n",
    "res <- foreach(r = rep(1000, 100), .combine = rbind, \n",
    "            .packages = \"extraDistr\") %dopar% myrdnorm(r)\n",
    "            \n",
    "# Dimensions of res\n",
    "dim_res <-  dim(res)"
   ]
  },
  {
   "cell_type": "markdown",
   "metadata": {},
   "source": [
    "### Word frequency with doParallel\n",
    "So far you learned how to search for the most frequent word in a text sequentially using foreach(). In the course of the next two exercises, you will implement the same task using doParallel and doFuture for parallel processing and benchmark it against the sequential version. The sequential solution is implemented in function freq_seq() (type freq_seq in your console to see it). It iterates over a global character vector chars and calls the function max_frequency() which searches within a vector of words, while filtering for minimum word length. All these objects are preloaded, as is the doParallel package. Your job now is to write a function freq_doPar() that runs the same code in parallel via doParallel."
   ]
  },
  {
   "cell_type": "code",
   "execution_count": 6,
   "metadata": {},
   "outputs": [
    {
     "data": {
      "text/html": [
       "<dl class=dl-horizontal>\n",
       "\t<dt>again</dt>\n",
       "\t\t<dd>1001</dd>\n",
       "\t<dt>being</dt>\n",
       "\t\t<dd>1445</dd>\n",
       "\t<dt>could</dt>\n",
       "\t\t<dd>3613</dd>\n",
       "\t<dt>darcy</dt>\n",
       "\t\t<dd>373</dd>\n",
       "\t<dt>every</dt>\n",
       "\t\t<dd>1456</dd>\n",
       "\t<dt>first</dt>\n",
       "\t\t<dd>972</dd>\n",
       "\t<dt>great</dt>\n",
       "\t\t<dd>981</dd>\n",
       "\t<dt>herself</dt>\n",
       "\t\t<dd>1360</dd>\n",
       "\t<dt>indeed</dt>\n",
       "\t\t<dd>664</dd>\n",
       "\t<dt>jennings</dt>\n",
       "\t\t<dd>199</dd>\n",
       "\t<dt>knightley</dt>\n",
       "\t\t<dd>356</dd>\n",
       "\t<dt>little</dt>\n",
       "\t\t<dd>1295</dd>\n",
       "\t<dt>might</dt>\n",
       "\t\t<dd>1369</dd>\n",
       "\t<dt>never</dt>\n",
       "\t\t<dd>1362</dd>\n",
       "\t<dt>other</dt>\n",
       "\t\t<dd>1084</dd>\n",
       "\t<dt>place</dt>\n",
       "\t\t<dd>503</dd>\n",
       "\t<dt>quite</dt>\n",
       "\t\t<dd>870</dd>\n",
       "\t<dt>really</dt>\n",
       "\t\t<dd>504</dd>\n",
       "\t<dt>should</dt>\n",
       "\t\t<dd>1541</dd>\n",
       "\t<dt>there</dt>\n",
       "\t\t<dd>2209</dd>\n",
       "\t<dt>under</dt>\n",
       "\t\t<dd>293</dd>\n",
       "\t<dt>visit</dt>\n",
       "\t\t<dd>294</dd>\n",
       "\t<dt>would</dt>\n",
       "\t\t<dd>3238</dd>\n",
       "\t<dt>xviii</dt>\n",
       "\t\t<dd>4</dd>\n",
       "\t<dt>young</dt>\n",
       "\t\t<dd>766</dd>\n",
       "\t<dt>zealous</dt>\n",
       "\t\t<dd>5</dd>\n",
       "</dl>\n"
      ],
      "text/latex": [
       "\\begin{description*}\n",
       "\\item[again] 1001\n",
       "\\item[being] 1445\n",
       "\\item[could] 3613\n",
       "\\item[darcy] 373\n",
       "\\item[every] 1456\n",
       "\\item[first] 972\n",
       "\\item[great] 981\n",
       "\\item[herself] 1360\n",
       "\\item[indeed] 664\n",
       "\\item[jennings] 199\n",
       "\\item[knightley] 356\n",
       "\\item[little] 1295\n",
       "\\item[might] 1369\n",
       "\\item[never] 1362\n",
       "\\item[other] 1084\n",
       "\\item[place] 503\n",
       "\\item[quite] 870\n",
       "\\item[really] 504\n",
       "\\item[should] 1541\n",
       "\\item[there] 2209\n",
       "\\item[under] 293\n",
       "\\item[visit] 294\n",
       "\\item[would] 3238\n",
       "\\item[xviii] 4\n",
       "\\item[young] 766\n",
       "\\item[zealous] 5\n",
       "\\end{description*}\n"
      ],
      "text/markdown": [
       "again\n",
       ":   1001being\n",
       ":   1445could\n",
       ":   3613darcy\n",
       ":   373every\n",
       ":   1456first\n",
       ":   972great\n",
       ":   981herself\n",
       ":   1360indeed\n",
       ":   664jennings\n",
       ":   199knightley\n",
       ":   356little\n",
       ":   1295might\n",
       ":   1369never\n",
       ":   1362other\n",
       ":   1084place\n",
       ":   503quite\n",
       ":   870really\n",
       ":   504should\n",
       ":   1541there\n",
       ":   2209under\n",
       ":   293visit\n",
       ":   294would\n",
       ":   3238xviii\n",
       ":   4young\n",
       ":   766zealous\n",
       ":   5\n",
       "\n"
      ],
      "text/plain": [
       "    again     being     could     darcy     every     first     great   herself \n",
       "     1001      1445      3613       373      1456       972       981      1360 \n",
       "   indeed  jennings knightley    little     might     never     other     place \n",
       "      664       199       356      1295      1369      1362      1084       503 \n",
       "    quite    really    should     there     under     visit     would     xviii \n",
       "      870       504      1541      2209       293       294      3238         4 \n",
       "    young   zealous \n",
       "      766         5 "
      ]
     },
     "metadata": {},
     "output_type": "display_data"
    }
   ],
   "source": [
    "# Function for doParallel foreach\n",
    "freq_doPar <- function(cores, min_length = 5) {\n",
    "    # Register a cluster of size cores\n",
    "    registerDoParallel(cores = cores)\n",
    "    \n",
    "    # foreach loop\n",
    "    foreach(let = letters, .combine = c, \n",
    "            .export = c(\"max_frequency\", \"select_words\", \"words\"),\n",
    "            .packages = c(\"janeaustenr\", \"stringr\")) %dopar%\n",
    "        max_frequency(let, words = words, min_length = min_length)\n",
    "}\n",
    "\n",
    "# Run on 2 cores\n",
    "freq_doPar(2)"
   ]
  },
  {
   "cell_type": "markdown",
   "metadata": {},
   "source": [
    "### Word frequency with doFuture and benchmarking\n",
    "Now your job is to create a function freq_doFut() that accomplishes the same task as freq_doPar() but with the doFuture backend. Note that when using doFuture, arguments .packages and .export in foreach() are not necessary, as the package deals with the exports automatically.\n",
    "\n",
    "You will then benchmark these two functions, together with the sequential freq_seq(). All the functions from the last exercise are available in your workspace. In addition, the packages doFuture and microbenchmark are also preloaded. To keep the computation time low, the global chars vector is set to the first six letters of the alphabet only."
   ]
  },
  {
   "cell_type": "code",
   "execution_count": 17,
   "metadata": {},
   "outputs": [
    {
     "name": "stderr",
     "output_type": "stream",
     "text": [
      "Warning message:\n",
      "\"package 'doFuture' was built under R version 3.6.3\"Loading required package: future\n",
      "Warning message:\n",
      "\"package 'future' was built under R version 3.6.3\""
     ]
    },
    {
     "data": {
      "text/html": [
       "<table>\n",
       "<thead><tr><th scope=col>expr</th><th scope=col>time</th></tr></thead>\n",
       "<tbody>\n",
       "\t<tr><td>freq_doPar(cores, min_length)</td><td>3163988500                   </td></tr>\n",
       "\t<tr><td>freq_seq(min_length)         </td><td>3820980000                   </td></tr>\n",
       "\t<tr><td>freq_doFut(cores, min_length)</td><td>3829757500                   </td></tr>\n",
       "</tbody>\n",
       "</table>\n"
      ],
      "text/latex": [
       "\\begin{tabular}{r|ll}\n",
       " expr & time\\\\\n",
       "\\hline\n",
       "\t freq\\_doPar(cores, min\\_length) & 3163988500                       \\\\\n",
       "\t freq\\_seq(min\\_length)          & 3820980000                       \\\\\n",
       "\t freq\\_doFut(cores, min\\_length) & 3829757500                       \\\\\n",
       "\\end{tabular}\n"
      ],
      "text/markdown": [
       "\n",
       "| expr | time |\n",
       "|---|---|\n",
       "| freq_doPar(cores, min_length) | 3163988500                    |\n",
       "| freq_seq(min_length)          | 3820980000                    |\n",
       "| freq_doFut(cores, min_length) | 3829757500                    |\n",
       "\n"
      ],
      "text/plain": [
       "  expr                          time      \n",
       "1 freq_doPar(cores, min_length) 3163988500\n",
       "2 freq_seq(min_length)          3820980000\n",
       "3 freq_doFut(cores, min_length) 3829757500"
      ]
     },
     "metadata": {},
     "output_type": "display_data"
    }
   ],
   "source": [
    "# install.packages(\"doFuture\")\n",
    "library(doFuture)\n",
    "# Function for doFuture foreach\n",
    "freq_doFut <- function(cores, min_length = 5) {\n",
    "    # Register and set plan\n",
    "    registerDoFuture()\n",
    "    plan(cluster, workers = cores)\n",
    "    \n",
    "    # foreach loop\n",
    "    foreach(let = letters, .combine = c) %dopar% \n",
    "        max_frequency(let, words = words, min_length = min_length)\n",
    "}\n",
    "\n",
    "# start Benchmark \n",
    "library (microbenchmark)\n",
    "cores = 2\n",
    "min_length = 6\n",
    "\n",
    "\n",
    "# Benchmark\n",
    "microbenchmark(freq_seq(min_length), \n",
    "               freq_doPar(cores, min_length), \n",
    "               freq_doFut(cores, min_length),\n",
    "               times = 1)\n",
    "\n",
    "# In this example, you should not see any time advantage in running it in parallel. \n",
    "# In addition, doFuture is usually somewhat slower than doParallel. This is because doFuture has a higher computation overhead. \n",
    "# We encourage you to test these frameworks on more time-consuming applications \n",
    "# where an overhead become negligible relative to the overall processing time."
   ]
  },
  {
   "cell_type": "markdown",
   "metadata": {},
   "source": [
    "### Word frequency with future.apply\n",
    "In the spirit of the last slide, imagine you are a package developer. You will now code the main function of your package, a function that for each given letter finds the maximum frequency in a set of words that starts with that letter and is at least a given length long. It is the same task as in our last exercise, except that now you will use the future.apply package and apply it to the Barack Obama's State of the Union address in 2016.\n",
    "\n",
    "The package future.apply and functions max_frequency() and extract_words_from_text() are available in your workspace. The dataset is called obama_speech."
   ]
  },
  {
   "cell_type": "code",
   "execution_count": 24,
   "metadata": {},
   "outputs": [
    {
     "ename": "ERROR",
     "evalue": "Error in future_lapply(chars, max_frequency, words = words, min_length = min_length): could not find function \"future_lapply\"\n",
     "output_type": "error",
     "traceback": [
      "Error in future_lapply(chars, max_frequency, words = words, min_length = min_length): could not find function \"future_lapply\"\nTraceback:\n",
      "1. freq_fapply(words)",
      "2. unlist(future_lapply(chars, max_frequency, words = words, min_length = min_length))   # at line 17-20 of file <text>"
     ]
    }
   ],
   "source": [
    "# install.packages(\"future\")\n",
    "library(future)\n",
    "library(stringr)\n",
    "library(readr)\n",
    "library(tidyr)\n",
    "\n",
    "\n",
    "obama_speech = read_file(\"SOTU.txt\")\n",
    "\n",
    "extract_words_from_text <- function(text) {\n",
    "    # extract words from the text and convert to lowercase\n",
    "    str_extract_all(text, boundary(\"word\")) %>% unlist %>% tolower\n",
    "}\n",
    "\n",
    "# Main function\n",
    "freq_fapply <- function(words, chars = letters, min_length = 5) {\n",
    "    unlist(\n",
    "        future_lapply(chars, max_frequency, words = words, \n",
    "                         min_length = min_length)\n",
    "    )\n",
    "}\n",
    "\n",
    "# Extract words\n",
    "words <- extract_words_from_text(obama_speech)\n",
    "\n",
    "# Call the main function\n",
    "res <- freq_fapply(words)\n",
    "\n",
    "# Plot results\n",
    "barplot(res, las = 2)\n",
    "\n",
    "# IMPORTANT: The future_lapply() function has been moved to the future.apply package. \n",
    "# The version in this package (future) is defunct and gives an error if used. It will be fully removed in an upcoming release. "
   ]
  },
  {
   "cell_type": "markdown",
   "metadata": {},
   "source": [
    "### Load balancing\n",
    "You will now test the effect of load balancing in a situation with uneven task processing times. We create such situation by applying the sleep function on the workers side to a heterogeneous set of run times.\n",
    "\n",
    "In your workspace there is a vector tasktime containing simulated processing times of 30 tasks (generated using runif()). There is also a cluster object cl with two nodes.\n",
    "\n",
    "Your job is to apply the function Sys.sleep() to tasktime in parallel using clusterApply() and clusterApplyLB() and benchmark them. The parallel and microbenchmark packages are loaded. We also provided functions for plotting cluster usage plots called plot_cluster_apply() and plot_cluster_applyLB(). Both functions use functionality from the snow package."
   ]
  },
  {
   "cell_type": "code",
   "execution_count": 27,
   "metadata": {},
   "outputs": [
    {
     "name": "stdout",
     "output_type": "stream",
     "text": [
      "package 'snow' successfully unpacked and MD5 sums checked\n",
      "\n",
      "The downloaded binary packages are in\n",
      "\tC:\\Users\\Migue\\AppData\\Local\\Temp\\RtmpAtOanJ\\downloaded_packages\n"
     ]
    },
    {
     "name": "stderr",
     "output_type": "stream",
     "text": [
      "\n",
      "Attaching package: 'snow'\n",
      "\n",
      "The following objects are masked from 'package:parallel':\n",
      "\n",
      "    clusterApply, clusterApplyLB, clusterCall, clusterEvalQ,\n",
      "    clusterExport, clusterMap, clusterSplit, makeCluster, parApply,\n",
      "    parCapply, parLapply, parRapply, parSapply, splitIndices,\n",
      "    stopCluster\n",
      "\n"
     ]
    },
    {
     "data": {
      "text/html": [
       "<table>\n",
       "<thead><tr><th scope=col>expr</th><th scope=col>time</th></tr></thead>\n",
       "<tbody>\n",
       "\t<tr><td>clusterApplyLB(cl, tasktime, Sys.sleep)</td><td>7267632000                             </td></tr>\n",
       "\t<tr><td>clusterApply(cl, tasktime, Sys.sleep)  </td><td>8809289500                             </td></tr>\n",
       "</tbody>\n",
       "</table>\n"
      ],
      "text/latex": [
       "\\begin{tabular}{r|ll}\n",
       " expr & time\\\\\n",
       "\\hline\n",
       "\t clusterApplyLB(cl, tasktime, Sys.sleep) & 7267632000                             \\\\\n",
       "\t clusterApply(cl, tasktime, Sys.sleep)   & 8809289500                             \\\\\n",
       "\\end{tabular}\n"
      ],
      "text/markdown": [
       "\n",
       "| expr | time |\n",
       "|---|---|\n",
       "| clusterApplyLB(cl, tasktime, Sys.sleep) | 7267632000                              |\n",
       "| clusterApply(cl, tasktime, Sys.sleep)   | 8809289500                              |\n",
       "\n"
      ],
      "text/plain": [
       "  expr                                    time      \n",
       "1 clusterApplyLB(cl, tasktime, Sys.sleep) 7267632000\n",
       "2 clusterApply(cl, tasktime, Sys.sleep)   8809289500"
      ]
     },
     "metadata": {},
     "output_type": "display_data"
    },
    {
     "data": {
      "image/png": "[encoded data removed]",
      "text/plain": [
       "Plot with title \"Cluster usage of clusterApply\""
      ]
     },
     "metadata": {},
     "output_type": "display_data"
    },
    {
     "data": {
      "image/png": "[encoded data removed]",
      "text/plain": [
       "Plot with title \"Cluster usage of clusterApplyLB\""
      ]
     },
     "metadata": {},
     "output_type": "display_data"
    }
   ],
   "source": [
    "install.packages(\"snow\")\n",
    "library(snow)\n",
    "\n",
    "# Create a cluster\n",
    "cl <- makeCluster(2)\n",
    "tasktime = runif(30)\n",
    "\n",
    "plot_cluster_apply <- function(cl, x, fun) {\n",
    "    plot(snow::snow.time(snow::clusterApply(cl, x, fun)),\n",
    "            title = \"Cluster usage of clusterApply\")\n",
    "}\n",
    "\n",
    "plot_cluster_applyLB <- function(cl, x, fun){\n",
    "    plot(snow::snow.time(snow::clusterApplyLB(cl, x, fun)),\n",
    "            title = \"Cluster usage of clusterApplyLB\")\n",
    "}\n",
    "\n",
    "# Benchmark clusterApply and clusterApplyLB\n",
    "microbenchmark(\n",
    "    clusterApply(cl, tasktime, Sys.sleep),\n",
    "    clusterApplyLB(cl, tasktime, Sys.sleep),\n",
    "    times = 1\n",
    ")\n",
    "\n",
    "# Plot cluster usage\n",
    "plot_cluster_apply(cl, tasktime, Sys.sleep)\n",
    "plot_cluster_applyLB(cl, tasktime, Sys.sleep)\n",
    "\n",
    "# Even though the run time here depends on the current load of the DataCamp server,\n",
    "# I hope you were able to see at least some time improvements when using load balancing."
   ]
  },
  {
   "cell_type": "markdown",
   "metadata": {},
   "source": [
    "### Scheduling\n",
    "Now we compare the results from the previous exercise with ones generated using parSapply(), which represents here an implementation that groups tasks into as many chunks as there are workers available. You first explore its cluster usage plot, using the function plot_parSapply() we defined for you. We generated a version of the tasktime vector, called bias_tasktime that generates very uneven load. Your job is to compare the run times of parSapply() with clusterApplyLB() applied to bias_tasktime.\n",
    "\n",
    "All objects from the previous exercise are in your workspace."
   ]
  },
  {
   "cell_type": "code",
   "execution_count": 29,
   "metadata": {},
   "outputs": [
    {
     "data": {
      "text/html": [
       "<table>\n",
       "<thead><tr><th scope=col>expr</th><th scope=col>time</th></tr></thead>\n",
       "<tbody>\n",
       "\t<tr><td>parSapply(cl, bias_tasktime, Sys.sleep)     </td><td>3392920300                                  </td></tr>\n",
       "\t<tr><td>clusterApplyLB(cl, bias_tasktime, Sys.sleep)</td><td>2381139000                                  </td></tr>\n",
       "</tbody>\n",
       "</table>\n"
      ],
      "text/latex": [
       "\\begin{tabular}{r|ll}\n",
       " expr & time\\\\\n",
       "\\hline\n",
       "\t parSapply(cl, bias\\_tasktime, Sys.sleep)      & 3392920300                                    \\\\\n",
       "\t clusterApplyLB(cl, bias\\_tasktime, Sys.sleep) & 2381139000                                    \\\\\n",
       "\\end{tabular}\n"
      ],
      "text/markdown": [
       "\n",
       "| expr | time |\n",
       "|---|---|\n",
       "| parSapply(cl, bias_tasktime, Sys.sleep)      | 3392920300                                   |\n",
       "| clusterApplyLB(cl, bias_tasktime, Sys.sleep) | 2381139000                                   |\n",
       "\n"
      ],
      "text/plain": [
       "  expr                                         time      \n",
       "1 parSapply(cl, bias_tasktime, Sys.sleep)      3392920300\n",
       "2 clusterApplyLB(cl, bias_tasktime, Sys.sleep) 2381139000"
      ]
     },
     "metadata": {},
     "output_type": "display_data"
    },
    {
     "data": {
      "image/png": "[encoded data removed]",
      "text/plain": [
       "Plot with title \"Cluster usage of parSapply\""
      ]
     },
     "metadata": {},
     "output_type": "display_data"
    },
    {
     "data": {
      "image/png": "[encoded data removed]",
      "text/plain": [
       "Plot with title \"Cluster usage of parSapply\""
      ]
     },
     "metadata": {},
     "output_type": "display_data"
    },
    {
     "data": {
      "image/png": "[encoded data removed]",
      "text/plain": [
       "Plot with title \"Cluster usage of clusterApplyLB\""
      ]
     },
     "metadata": {},
     "output_type": "display_data"
    }
   ],
   "source": [
    "bias_tasktime = c(1e+00, 1e+00, 1e+00, 1e-01, 1e-01, 1e-01, 1e-04, 1e-04, 1e-04, 1e-03, 1e+00)\n",
    "\n",
    "plot_parSapply <- function(cl, x, fun) \n",
    "    plot(snow::snow.time(snow::parSapply(cl, x, fun)),\n",
    "            title = \"Cluster usage of parSapply\")\n",
    "\n",
    "# Plot cluster usage for parSapply\n",
    "plot_parSapply(cl, tasktime, Sys.sleep)\n",
    "\n",
    "# Microbenchmark\n",
    "microbenchmark(\n",
    "    clusterApplyLB(cl, bias_tasktime, Sys.sleep),\n",
    "    parSapply(cl, bias_tasktime, Sys.sleep),\n",
    "    times = 1\n",
    ")\n",
    "\n",
    "# Plot cluster usage for parSapply and clusterApplyLB\n",
    "plot_parSapply(cl, bias_tasktime, Sys.sleep)\n",
    "plot_cluster_applyLB(cl, bias_tasktime, Sys.sleep)\n",
    "\n",
    "# The function parSapply() minimizes the communication by creating one chunk per worker. \n",
    "# However, when there is an uneven task load, load balancing can be more efficient."
   ]
  },
  {
   "cell_type": "code",
   "execution_count": null,
   "metadata": {},
   "outputs": [],
   "source": []
  }
 ],
 "metadata": {
  "kernelspec": {
   "display_name": "R",
   "language": "R",
   "name": "ir"
  },
  "language_info": {
   "codemirror_mode": "r",
   "file_extension": ".r",
   "mimetype": "text/x-r-source",
   "name": "R",
   "pygments_lexer": "r",
   "version": "3.6.1"
  }
 },
 "nbformat": 4,
 "nbformat_minor": 4
}
