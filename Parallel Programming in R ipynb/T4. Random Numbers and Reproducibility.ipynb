{
 "cells": [
  {
   "cell_type": "markdown",
   "metadata": {},
   "source": [
    "## Random Numbers and Reproducibility\n",
    "Now you might ask, can I reproduce my results if the application uses random numbers? Can I generate the same results regardless of if the code runs sequentially or in parallel? This chapter will answer these questions. You will learn about a random number generator well suited to a parallel environment and how the various packages make use of it."
   ]
  },
  {
   "cell_type": "markdown",
   "metadata": {},
   "source": [
    "### SOCK vs. FORK\n",
    "In addition to the code in the previous exercise, we also created a FORK cluster for you.\n",
    "\n",
    "cl.fork <- makeCluster(2, type = \"FORK\")\n",
    "Your job is to register the two cluster objects with the preloaded doParallel package and compare results obtained with parallel foreach. How do the results differ in terms of reproducibility?"
   ]
  },
  {
   "cell_type": "code",
   "execution_count": 4,
   "metadata": {},
   "outputs": [
    {
     "data": {
      "text/html": [
       "<ol>\n",
       "\t<li><table>\n",
       "<tbody>\n",
       "\t<tr><th scope=row>result.1</th><td>-1.6514072</td><td> 0.7679880</td><td> 0.4183381</td></tr>\n",
       "\t<tr><th scope=row>result.2</th><td>-0.2876203</td><td>-0.9179266</td><td>-0.1580649</td></tr>\n",
       "</tbody>\n",
       "</table>\n",
       "</li>\n",
       "\t<li><table>\n",
       "<tbody>\n",
       "\t<tr><th scope=row>result.1</th><td>-0.3895553</td><td>-0.2045693</td><td>-1.0037024</td></tr>\n",
       "\t<tr><th scope=row>result.2</th><td>-1.6960712</td><td> 1.4756209</td><td> 0.4041849</td></tr>\n",
       "</tbody>\n",
       "</table>\n",
       "</li>\n",
       "</ol>\n"
      ],
      "text/latex": [
       "\\begin{enumerate}\n",
       "\\item \\begin{tabular}{r|lll}\n",
       "\tresult.1 & -1.6514072 &  0.7679880 &  0.4183381\\\\\n",
       "\tresult.2 & -0.2876203 & -0.9179266 & -0.1580649\\\\\n",
       "\\end{tabular}\n",
       "\n",
       "\\item \\begin{tabular}{r|lll}\n",
       "\tresult.1 & -0.3895553 & -0.2045693 & -1.0037024\\\\\n",
       "\tresult.2 & -1.6960712 &  1.4756209 &  0.4041849\\\\\n",
       "\\end{tabular}\n",
       "\n",
       "\\end{enumerate}\n"
      ],
      "text/markdown": [
       "1. \n",
       "| result.1 | -1.6514072 |  0.7679880 |  0.4183381 |\n",
       "| result.2 | -0.2876203 | -0.9179266 | -0.1580649 |\n",
       "\n",
       "\n",
       "2. \n",
       "| result.1 | -0.3895553 | -0.2045693 | -1.0037024 |\n",
       "| result.2 | -1.6960712 |  1.4756209 |  0.4041849 |\n",
       "\n",
       "\n",
       "\n",
       "\n"
      ],
      "text/plain": [
       "[[1]]\n",
       "               [,1]       [,2]       [,3]\n",
       "result.1 -1.6514072  0.7679880  0.4183381\n",
       "result.2 -0.2876203 -0.9179266 -0.1580649\n",
       "\n",
       "[[2]]\n",
       "               [,1]       [,2]       [,3]\n",
       "result.1 -0.3895553 -0.2045693 -1.0037024\n",
       "result.2 -1.6960712  1.4756209  0.4041849\n"
      ]
     },
     "metadata": {},
     "output_type": "display_data"
    }
   ],
   "source": [
    "# Load packages\n",
    "\n",
    "library(parallel)\n",
    "library(foreach)\n",
    "library(doParallel)\n",
    "\n",
    "\n",
    "# Register the SOCK cluster\n",
    "cl_sock <- makeCluster(2, type = \"SOCK\")\n",
    "registerDoParallel(cl.sock)\n",
    "\n",
    "replicate(\n",
    "  # Use 2 replicates\n",
    "  n = 2, \n",
    "  expr = {\n",
    "    # Set the seed to 100\n",
    "    set.seed(100)\n",
    "    # Run two iterations in parallel, bound by rows\n",
    "    foreach(i = 1:2, .combine = rbind) %dopar% rnorm(3)\n",
    "  }, \n",
    "  simplify = FALSE\n",
    ")"
   ]
  },
  {
   "cell_type": "code",
   "execution_count": 5,
   "metadata": {},
   "outputs": [
    {
     "ename": "ERROR",
     "evalue": "Error in makeForkCluster(nnodes = spec, ...): fork clusters are not supported on Windows\n",
     "output_type": "error",
     "traceback": [
      "Error in makeForkCluster(nnodes = spec, ...): fork clusters are not supported on Windows\nTraceback:\n",
      "1. makeCluster(2, type = \"FORK\")",
      "2. makeForkCluster(nnodes = spec, ...)",
      "3. stop(\"fork clusters are not supported on Windows\")"
     ]
    }
   ],
   "source": [
    "# Change this to register the FORK cluster\n",
    "cl_sock <- makeCluster(2, type = \"FORK\")\n",
    "registerDoParallel(cl.fork)\n",
    "\n",
    "# Run this again and look at the output!\n",
    "replicate(\n",
    "  n = 2, \n",
    "  expr = {\n",
    "    set.seed(100)\n",
    "    foreach(i = 1:2, .combine = rbind) %dopar% rnorm(3)\n",
    "  }, \n",
    "  simplify = FALSE\n",
    ")\n",
    "\n",
    "# fyi - FORK generates the same random numbers on each node because nodes are copies of the master."
   ]
  },
  {
   "cell_type": "markdown",
   "metadata": {},
   "source": [
    "### Setting an RNG\n",
    "In this exercise, you will look at the impact of the clusterSetRNGStream() function by checking the RNG kind before and after the RNG initialization.\n",
    "\n",
    "clusterSetRNGStream() takes two arguments: a cluster object, and an integer for the random seed.\n"
   ]
  },
  {
   "cell_type": "code",
   "execution_count": 6,
   "metadata": {},
   "outputs": [
    {
     "data": {
      "text/html": [
       "<ol>\n",
       "\t<li><ol class=list-inline>\n",
       "\t<li>'Mersenne-Twister'</li>\n",
       "\t<li>'Inversion'</li>\n",
       "\t<li>'Rejection'</li>\n",
       "</ol>\n",
       "</li>\n",
       "\t<li><ol class=list-inline>\n",
       "\t<li>'Mersenne-Twister'</li>\n",
       "\t<li>'Inversion'</li>\n",
       "\t<li>'Rejection'</li>\n",
       "</ol>\n",
       "</li>\n",
       "</ol>\n"
      ],
      "text/latex": [
       "\\begin{enumerate}\n",
       "\\item \\begin{enumerate*}\n",
       "\\item 'Mersenne-Twister'\n",
       "\\item 'Inversion'\n",
       "\\item 'Rejection'\n",
       "\\end{enumerate*}\n",
       "\n",
       "\\item \\begin{enumerate*}\n",
       "\\item 'Mersenne-Twister'\n",
       "\\item 'Inversion'\n",
       "\\item 'Rejection'\n",
       "\\end{enumerate*}\n",
       "\n",
       "\\end{enumerate}\n"
      ],
      "text/markdown": [
       "1. 1. 'Mersenne-Twister'\n",
       "2. 'Inversion'\n",
       "3. 'Rejection'\n",
       "\n",
       "\n",
       "\n",
       "2. 1. 'Mersenne-Twister'\n",
       "2. 'Inversion'\n",
       "3. 'Rejection'\n",
       "\n",
       "\n",
       "\n",
       "\n",
       "\n"
      ],
      "text/plain": [
       "[[1]]\n",
       "[1] \"Mersenne-Twister\" \"Inversion\"        \"Rejection\"       \n",
       "\n",
       "[[2]]\n",
       "[1] \"Mersenne-Twister\" \"Inversion\"        \"Rejection\"       \n"
      ]
     },
     "metadata": {},
     "output_type": "display_data"
    },
    {
     "data": {
      "text/html": [
       "<ol>\n",
       "\t<li><ol class=list-inline>\n",
       "\t<li>'L\\'Ecuyer-CMRG'</li>\n",
       "\t<li>'Inversion'</li>\n",
       "\t<li>'Rejection'</li>\n",
       "</ol>\n",
       "</li>\n",
       "\t<li><ol class=list-inline>\n",
       "\t<li>'L\\'Ecuyer-CMRG'</li>\n",
       "\t<li>'Inversion'</li>\n",
       "\t<li>'Rejection'</li>\n",
       "</ol>\n",
       "</li>\n",
       "</ol>\n"
      ],
      "text/latex": [
       "\\begin{enumerate}\n",
       "\\item \\begin{enumerate*}\n",
       "\\item 'L\\textbackslash{}'Ecuyer-CMRG'\n",
       "\\item 'Inversion'\n",
       "\\item 'Rejection'\n",
       "\\end{enumerate*}\n",
       "\n",
       "\\item \\begin{enumerate*}\n",
       "\\item 'L\\textbackslash{}'Ecuyer-CMRG'\n",
       "\\item 'Inversion'\n",
       "\\item 'Rejection'\n",
       "\\end{enumerate*}\n",
       "\n",
       "\\end{enumerate}\n"
      ],
      "text/markdown": [
       "1. 1. 'L\\'Ecuyer-CMRG'\n",
       "2. 'Inversion'\n",
       "3. 'Rejection'\n",
       "\n",
       "\n",
       "\n",
       "2. 1. 'L\\'Ecuyer-CMRG'\n",
       "2. 'Inversion'\n",
       "3. 'Rejection'\n",
       "\n",
       "\n",
       "\n",
       "\n",
       "\n"
      ],
      "text/plain": [
       "[[1]]\n",
       "[1] \"L'Ecuyer-CMRG\" \"Inversion\"     \"Rejection\"    \n",
       "\n",
       "[[2]]\n",
       "[1] \"L'Ecuyer-CMRG\" \"Inversion\"     \"Rejection\"    \n"
      ]
     },
     "metadata": {},
     "output_type": "display_data"
    }
   ],
   "source": [
    "# Create a cluster\n",
    "cl <- makeCluster(2)\n",
    "\n",
    "# Check RNGkind on workers\n",
    "clusterCall(cl, RNGkind)\n",
    "\n",
    "# Set the RNG seed on workers\n",
    "clusterSetRNGStream(cl, 100)\n",
    "\n",
    "# Check RNGkind on workers\n",
    "clusterCall(cl, RNGkind)\n",
    "\n",
    "# You confirmed that by using clusterSetRNGStream() the worker's RNG switches to the L'Ecuyer generator."
   ]
  },
  {
   "cell_type": "markdown",
   "metadata": {},
   "source": [
    "### Reproducible results in parallel\n",
    "Now you are ready to make your results reproducible. You will use the simple embarrassingly parallel application for computing a mean of random numbers, mean_of_rnorm(), which we parallelized in the second chapter using clusterApply(). The parallel package, mean_of_rnorm(), n_vec (vector of sample sizes of 1000 replicated 5 times) are available in your workspace. You will now call clusterApply() repeatedly to check if results can be reproduced, without and with initializing the RNG."
   ]
  },
  {
   "cell_type": "code",
   "execution_count": 7,
   "metadata": {},
   "outputs": [
    {
     "data": {
      "text/html": [
       "<table>\n",
       "<tbody>\n",
       "\t<tr><td>-0.01586949</td><td>0.01799809 </td><td>0.0176576  </td><td>-0.05922263</td><td>-0.0549694 </td></tr>\n",
       "\t<tr><td>-0.02851165</td><td>-0.01373292</td><td>-0.01867162</td><td>0.06237399 </td><td>-0.03204695</td></tr>\n",
       "\t<tr><td>-0.02196545  </td><td>-0.01464207  </td><td>-0.001095244 </td><td>-0.01865088  </td><td>-9.867087e-06</td></tr>\n",
       "</tbody>\n",
       "</table>\n"
      ],
      "text/latex": [
       "\\begin{tabular}{lllll}\n",
       "\t -0.01586949 & 0.01799809  & 0.0176576   & -0.05922263 & -0.0549694 \\\\\n",
       "\t -0.02851165 & -0.01373292 & -0.01867162 & 0.06237399  & -0.03204695\\\\\n",
       "\t -0.02196545   & -0.01464207   & -0.001095244  & -0.01865088   & -9.867087e-06\\\\\n",
       "\\end{tabular}\n"
      ],
      "text/markdown": [
       "\n",
       "| -0.01586949 | 0.01799809  | 0.0176576   | -0.05922263 | -0.0549694  |\n",
       "| -0.02851165 | -0.01373292 | -0.01867162 | 0.06237399  | -0.03204695 |\n",
       "| -0.02196545   | -0.01464207   | -0.001095244  | -0.01865088   | -9.867087e-06 |\n",
       "\n"
      ],
      "text/plain": [
       "     [,1]        [,2]        [,3]         [,4]        [,5]         \n",
       "[1,] -0.01586949 0.01799809  0.0176576    -0.05922263 -0.0549694   \n",
       "[2,] -0.02851165 -0.01373292 -0.01867162  0.06237399  -0.03204695  \n",
       "[3,] -0.02196545 -0.01464207 -0.001095244 -0.01865088 -9.867087e-06"
      ]
     },
     "metadata": {},
     "output_type": "display_data"
    }
   ],
   "source": [
    "# The cluster, & how many numbers to generate\n",
    "\n",
    "n_vec = rep(1000, 5)\n",
    "\n",
    "# define mean_of_rnorm\n",
    "mean_of_rnorm <- function(n) {\n",
    "  # Generate normally distributed random numbers\n",
    "  random_numbers <- rnorm(n)\n",
    "  # Calculate the mean of the random numbers\n",
    "  mean(random_numbers)\n",
    "}\n",
    "\n",
    "t(replicate(\n",
    "  # Use 3 replicates\n",
    "  n = 3,\n",
    "  expr = {\n",
    "    # Spread across cl, apply mean_of_rnorm() to n_vec\n",
    "    clusterApply(cl, n_vec, mean_of_rnorm)\n",
    "  }\n",
    "))"
   ]
  },
  {
   "cell_type": "code",
   "execution_count": 8,
   "metadata": {},
   "outputs": [
    {
     "data": {
      "text/html": [
       "<table>\n",
       "<tbody>\n",
       "\t<tr><td>-0.008597904</td><td>-0.006089337</td><td>-0.01398052 </td><td>-0.06629339 </td><td>0.004297755 </td></tr>\n",
       "\t<tr><td>-0.008597904</td><td>-0.006089337</td><td>-0.01398052 </td><td>-0.06629339 </td><td>0.004297755 </td></tr>\n",
       "\t<tr><td>-0.008597904</td><td>-0.006089337</td><td>-0.01398052 </td><td>-0.06629339 </td><td>0.004297755 </td></tr>\n",
       "</tbody>\n",
       "</table>\n"
      ],
      "text/latex": [
       "\\begin{tabular}{lllll}\n",
       "\t -0.008597904 & -0.006089337 & -0.01398052  & -0.06629339  & 0.004297755 \\\\\n",
       "\t -0.008597904 & -0.006089337 & -0.01398052  & -0.06629339  & 0.004297755 \\\\\n",
       "\t -0.008597904 & -0.006089337 & -0.01398052  & -0.06629339  & 0.004297755 \\\\\n",
       "\\end{tabular}\n"
      ],
      "text/markdown": [
       "\n",
       "| -0.008597904 | -0.006089337 | -0.01398052  | -0.06629339  | 0.004297755  |\n",
       "| -0.008597904 | -0.006089337 | -0.01398052  | -0.06629339  | 0.004297755  |\n",
       "| -0.008597904 | -0.006089337 | -0.01398052  | -0.06629339  | 0.004297755  |\n",
       "\n"
      ],
      "text/plain": [
       "     [,1]         [,2]         [,3]        [,4]        [,5]       \n",
       "[1,] -0.008597904 -0.006089337 -0.01398052 -0.06629339 0.004297755\n",
       "[2,] -0.008597904 -0.006089337 -0.01398052 -0.06629339 0.004297755\n",
       "[3,] -0.008597904 -0.006089337 -0.01398052 -0.06629339 0.004297755"
      ]
     },
     "metadata": {},
     "output_type": "display_data"
    }
   ],
   "source": [
    "# Update the replicated expression so that you set the cluster's random number generation stream's seed to 1234 \n",
    "# before you call clusterApply().\n",
    "\n",
    "t(replicate(\n",
    "  n = 3,\n",
    "  expr = {\n",
    "    # Set the cluster's RNG stream seed to 1234\n",
    "    clusterSetRNGStream(cl, iseed = 1234)\n",
    "    clusterApply(cl, n_vec, mean_of_rnorm)\n",
    "  }\n",
    "))"
   ]
  },
  {
   "cell_type": "code",
   "execution_count": 9,
   "metadata": {},
   "outputs": [
    {
     "data": {
      "text/html": [
       "<table>\n",
       "<tbody>\n",
       "\t<tr><td>-0.008597904</td><td>-0.006089337</td><td>-0.01398052 </td><td>-0.06629339 </td><td>0.004297755 </td></tr>\n",
       "\t<tr><td>-0.008597904</td><td>-0.006089337</td><td>-0.01398052 </td><td>-0.06629339 </td><td>0.004297755 </td></tr>\n",
       "\t<tr><td>-0.008597904</td><td>-0.006089337</td><td>-0.01398052 </td><td>-0.06629339 </td><td>0.004297755 </td></tr>\n",
       "</tbody>\n",
       "</table>\n"
      ],
      "text/latex": [
       "\\begin{tabular}{lllll}\n",
       "\t -0.008597904 & -0.006089337 & -0.01398052  & -0.06629339  & 0.004297755 \\\\\n",
       "\t -0.008597904 & -0.006089337 & -0.01398052  & -0.06629339  & 0.004297755 \\\\\n",
       "\t -0.008597904 & -0.006089337 & -0.01398052  & -0.06629339  & 0.004297755 \\\\\n",
       "\\end{tabular}\n"
      ],
      "text/markdown": [
       "\n",
       "| -0.008597904 | -0.006089337 | -0.01398052  | -0.06629339  | 0.004297755  |\n",
       "| -0.008597904 | -0.006089337 | -0.01398052  | -0.06629339  | 0.004297755  |\n",
       "| -0.008597904 | -0.006089337 | -0.01398052  | -0.06629339  | 0.004297755  |\n",
       "\n"
      ],
      "text/plain": [
       "     [,1]         [,2]         [,3]        [,4]        [,5]       \n",
       "[1,] -0.008597904 -0.006089337 -0.01398052 -0.06629339 0.004297755\n",
       "[2,] -0.008597904 -0.006089337 -0.01398052 -0.06629339 0.004297755\n",
       "[3,] -0.008597904 -0.006089337 -0.01398052 -0.06629339 0.004297755"
      ]
     },
     "metadata": {},
     "output_type": "display_data"
    }
   ],
   "source": [
    "# run again\n",
    "# Look at each row of the output. You should start to experience a sensation of deja vu.\n",
    "t(replicate(\n",
    "  n = 3,\n",
    "  expr = {\n",
    "    # Set the cluster's RNG stream seed to 1234\n",
    "    clusterSetRNGStream(cl, iseed = 1234)\n",
    "    clusterApply(cl, n_vec, mean_of_rnorm)\n",
    "  }\n",
    "))"
   ]
  },
  {
   "cell_type": "markdown",
   "metadata": {},
   "source": [
    "### Non-reproducible results in parallel\n",
    "Now we know that we can make results reproducible, so let's look at a situation when we cannot do so. We will run the previous example on clusters of different sizes, once on a cluster with two workers and on a cluster with four workers. Again, the parallel package, mean_of_rnorm(), and n_vec, are in your workspace."
   ]
  },
  {
   "cell_type": "code",
   "execution_count": 10,
   "metadata": {},
   "outputs": [
    {
     "data": {
      "text/html": [
       "<ol class=list-inline>\n",
       "\t<li>-0.00859790354581244</li>\n",
       "\t<li>-0.00608933665261397</li>\n",
       "\t<li>-0.0139805192007287</li>\n",
       "\t<li>-0.0662933875672164</li>\n",
       "\t<li>0.00429775463019838</li>\n",
       "</ol>\n"
      ],
      "text/latex": [
       "\\begin{enumerate*}\n",
       "\\item -0.00859790354581244\n",
       "\\item -0.00608933665261397\n",
       "\\item -0.0139805192007287\n",
       "\\item -0.0662933875672164\n",
       "\\item 0.00429775463019838\n",
       "\\end{enumerate*}\n"
      ],
      "text/markdown": [
       "1. -0.00859790354581244\n",
       "2. -0.00608933665261397\n",
       "3. -0.0139805192007287\n",
       "4. -0.0662933875672164\n",
       "5. 0.00429775463019838\n",
       "\n",
       "\n"
      ],
      "text/plain": [
       "[1] -0.008597904 -0.006089337 -0.013980519 -0.066293388  0.004297755"
      ]
     },
     "metadata": {},
     "output_type": "display_data"
    }
   ],
   "source": [
    "# Make a cluster of size 2\n",
    "cl2 <- makeCluster(2)\n",
    "\n",
    "# Set the cluster's RNG stream seed to 1234\n",
    "clusterSetRNGStream(cl2, iseed = 1234)\n",
    "\n",
    "# Spread across the cluster, apply mean_of_rnorm() to n_vec\n",
    "unlist(clusterApply(cl2, n_vec, mean_of_rnorm))"
   ]
  },
  {
   "cell_type": "code",
   "execution_count": 11,
   "metadata": {},
   "outputs": [
    {
     "data": {
      "text/html": [
       "<ol class=list-inline>\n",
       "\t<li>-0.00859790354581244</li>\n",
       "\t<li>-0.00608933665261397</li>\n",
       "\t<li>0.0778769846933683</li>\n",
       "\t<li>-0.0720129370207202</li>\n",
       "\t<li>-0.0139805192007287</li>\n",
       "</ol>\n"
      ],
      "text/latex": [
       "\\begin{enumerate*}\n",
       "\\item -0.00859790354581244\n",
       "\\item -0.00608933665261397\n",
       "\\item 0.0778769846933683\n",
       "\\item -0.0720129370207202\n",
       "\\item -0.0139805192007287\n",
       "\\end{enumerate*}\n"
      ],
      "text/markdown": [
       "1. -0.00859790354581244\n",
       "2. -0.00608933665261397\n",
       "3. 0.0778769846933683\n",
       "4. -0.0720129370207202\n",
       "5. -0.0139805192007287\n",
       "\n",
       "\n"
      ],
      "text/plain": [
       "[1] -0.008597904 -0.006089337  0.077876985 -0.072012937 -0.013980519"
      ]
     },
     "metadata": {},
     "output_type": "display_data"
    }
   ],
   "source": [
    "# Make a cluster of size 4\n",
    "cl4 <- makeCluster(4)\n",
    "\n",
    "# Set the cluster's RNG stream seed to 1234\n",
    "clusterSetRNGStream(cl4, iseed = 1234)\n",
    "\n",
    "# Spread across the cluster, apply mean_of_rnorm() to n_vec\n",
    "unlist(clusterApply(cl4, n_vec, mean_of_rnorm))"
   ]
  },
  {
   "cell_type": "markdown",
   "metadata": {},
   "source": [
    "### Reproducing migration app with foreach\n",
    "In the previous chapters, you parallelized an application of migration projections. Now let's make sure the application is reproducible in both parallel as well as sequential environments. You will use the foreach framework with the doParallel, doSEQ, and doRNG backends for the parallel, sequential, and RNG environments, respectively. The function to use is ar1_block_of_trajectories() which you will instruct to generate 10 migration trajectories for each of the first 5 rows of the ar1est parameter dataset.\n",
    "\n",
    "All the necessary functions, the dataset, seed (set to 123), and packages doParallel and doRNG are loaded in your workspace."
   ]
  },
  {
   "cell_type": "code",
   "execution_count": 15,
   "metadata": {},
   "outputs": [
    {
     "data": {
      "text/html": [
       "TRUE"
      ],
      "text/latex": [
       "TRUE"
      ],
      "text/markdown": [
       "TRUE"
      ],
      "text/plain": [
       "[1] TRUE"
      ]
     },
     "metadata": {},
     "output_type": "display_data"
    }
   ],
   "source": [
    "# define ar1_multiple_blocks_of_trajectories (again)\n",
    "\n",
    "ar1est = read.csv(\"US migration.csv\", header = TRUE)\n",
    "\n",
    "ar1_one_value <- function(est, r) {\n",
    "    est['mu'] + est['phi'] * (r - est['mu']) + \n",
    "        rnorm(1, sd = est['sigma'])\n",
    "}\n",
    "\n",
    "ar1_one_trajectory <- function(est, rate0, len = 15) {\n",
    "    trajectory <- rep(NA, len)\n",
    "    rate <- rate0\n",
    "    for (time in seq_len(len)) {\n",
    "        trajectory[time] <- ar1_one_value(est, r = rate)\n",
    "        rate <- trajectory[time]\n",
    "    }\n",
    "    trajectory\n",
    "}\n",
    "\n",
    "ar1_block_of_trajectories <- function(id, rate0 = 0.015, traj_len = 15, block_size = 10) {\n",
    "    trajectories <- matrix(NA, nrow = block_size, ncol = traj_len)\n",
    "    for (i in seq_len(block_size)) \n",
    "        trajectories[i,] <- ar1_one_trajectory(unlist(ar1est[id, ]), rate0 = rate0, len = traj_len)\n",
    "    trajectories\n",
    "}\n",
    "\n",
    "# Function definition of ar1_multiple_blocks_of_trajectories()\n",
    "ar1_multiple_blocks_of_trajectories <- function(ids, ...) {\n",
    "  # Call ar1_block_of_trajectories() for each ids\n",
    "  trajectories_by_block <- lapply(ids, ar1_block_of_trajectories, ...)\n",
    "  \n",
    "  # rbind results\n",
    "  do.call(rbind,trajectories_by_block)\n",
    "}\n",
    "\n",
    "# load doRNG\n",
    "# install.packages(\"doRNG\")\n",
    "library(doRNG)\n",
    "# Register doParallel and doRNG\n",
    "seed = 123\n",
    "registerDoParallel(cores = 2)\n",
    "registerDoRNG(seed)\n",
    "\n",
    "# Call ar1_block_of_trajectories via foreach\n",
    "mpar <- foreach(r = 1:5) %dopar% ar1_block_of_trajectories(r)\n",
    "\n",
    "# Register sequential backend, set seed and run foreach\n",
    "registerDoSEQ()\n",
    "set.seed(seed)\n",
    "mseq <- foreach(r = 1:5) %dorng% ar1_block_of_trajectories(r)\n",
    "\n",
    "# Check if results identical\n",
    "identical(mpar, mseq)"
   ]
  },
  {
   "cell_type": "markdown",
   "metadata": {},
   "source": [
    "### Reproducing migration app with future.apply\n",
    "In this exercise, you will implement the same application as before, but now using the future.apply package. The package is available in your workspace, as are all functions and datasets needed for this exercise. The seed is set to 99"
   ]
  },
  {
   "cell_type": "code",
   "execution_count": null,
   "metadata": {},
   "outputs": [],
   "source": [
    "## NOT RUN\n",
    "\n",
    "# IMPORTANT: The future_lapply() function has been moved to the future.apply package. \n",
    "# The version in this package (future) is defunct and gives an error if used. It will be fully removed in an upcoming release. \n",
    "\n",
    "# Set multiprocess plan \n",
    "plan(multiprocess, workers = 2)\n",
    "\n",
    "# Call ar1_block_of_trajectories via future_lapply\n",
    "mfpar <- future_lapply(1:5, ar1_block_of_trajectories, future.seed = seed)\n",
    "\n",
    "# Set sequential plan and repeat future_lapply()\n",
    "plan(sequential)\n",
    "mfseq <- future_lapply(1:5, ar1_block_of_trajectories, future.seed = seed)\n",
    "\n",
    "# Check if results are identical\n",
    "identical(mfpar, mfseq)\n"
   ]
  }
 ],
 "metadata": {
  "kernelspec": {
   "display_name": "R",
   "language": "R",
   "name": "ir"
  },
  "language_info": {
   "codemirror_mode": "r",
   "file_extension": ".r",
   "mimetype": "text/x-r-source",
   "name": "R",
   "pygments_lexer": "r",
   "version": "3.6.1"
  }
 },
 "nbformat": 4,
 "nbformat_minor": 4
}
