{
 "cells": [
  {
   "cell_type": "markdown",
   "metadata": {},
   "source": [
    "# Parallel Programming in R\n",
    "With an increasing amount of data and more complex algorithms available to scientists and practitioners today, parallel processing is almost always a must, and in fact, is expected in packages implementing time-consuming methods. This course introduces you to concepts and tools available in R for parallel computing and provides solutions to a few important non-trivial issues in parallel processing like reproducibility, generating random numbers and load balancing."
   ]
  },
  {
   "cell_type": "markdown",
   "metadata": {},
   "source": [
    "## Can I Run My Application in Parallel?\n",
    "\n",
    "In order to take advantage of parallel environment, the application needs to be split into pieces. In this introductory chapter, you will learn about different ways of partitioning and how it fits different hardware configurations. You will also be introduced to various R packages that support parallel programming."
   ]
  },
  {
   "cell_type": "markdown",
   "metadata": {},
   "source": [
    "### Find the most frequent words in a text\n",
    "We will now turn to partitioning by data. Here is an example that will be used throughout the course: In the given text, find the most frequent words that start with each letter of the alphabet and are at least a given length long.  Here, the specific task is to find, for each letter of the alphabet, the most frequent word that is at least five characters long. Your job is to partition this task into independent pieces."
   ]
  },
  {
   "cell_type": "code",
   "execution_count": 23,
   "metadata": {},
   "outputs": [
    {
     "name": "stdout",
     "output_type": "stream",
     "text": [
      "  and \n",
      "22515 \n"
     ]
    },
    {
     "data": {
      "text/html": [
       "<dl class=dl-horizontal>\n",
       "\t<dt>again</dt>\n",
       "\t\t<dd>1001</dd>\n",
       "\t<dt>being</dt>\n",
       "\t\t<dd>1445</dd>\n",
       "\t<dt>could</dt>\n",
       "\t\t<dd>3613</dd>\n",
       "\t<dt>darcy</dt>\n",
       "\t\t<dd>373</dd>\n",
       "\t<dt>every</dt>\n",
       "\t\t<dd>1456</dd>\n",
       "\t<dt>first</dt>\n",
       "\t\t<dd>972</dd>\n",
       "\t<dt>great</dt>\n",
       "\t\t<dd>981</dd>\n",
       "\t<dt>herself</dt>\n",
       "\t\t<dd>1360</dd>\n",
       "\t<dt>indeed</dt>\n",
       "\t\t<dd>664</dd>\n",
       "\t<dt>jennings</dt>\n",
       "\t\t<dd>199</dd>\n",
       "\t<dt>knightley</dt>\n",
       "\t\t<dd>356</dd>\n",
       "\t<dt>little</dt>\n",
       "\t\t<dd>1295</dd>\n",
       "\t<dt>might</dt>\n",
       "\t\t<dd>1369</dd>\n",
       "\t<dt>never</dt>\n",
       "\t\t<dd>1362</dd>\n",
       "\t<dt>other</dt>\n",
       "\t\t<dd>1084</dd>\n",
       "\t<dt>place</dt>\n",
       "\t\t<dd>503</dd>\n",
       "\t<dt>quite</dt>\n",
       "\t\t<dd>870</dd>\n",
       "\t<dt>really</dt>\n",
       "\t\t<dd>504</dd>\n",
       "\t<dt>should</dt>\n",
       "\t\t<dd>1541</dd>\n",
       "\t<dt>there</dt>\n",
       "\t\t<dd>2209</dd>\n",
       "\t<dt>under</dt>\n",
       "\t\t<dd>293</dd>\n",
       "\t<dt>visit</dt>\n",
       "\t\t<dd>294</dd>\n",
       "\t<dt>would</dt>\n",
       "\t\t<dd>3238</dd>\n",
       "\t<dt>xviii</dt>\n",
       "\t\t<dd>4</dd>\n",
       "\t<dt>young</dt>\n",
       "\t\t<dd>766</dd>\n",
       "\t<dt>zealous</dt>\n",
       "\t\t<dd>5</dd>\n",
       "</dl>\n"
      ],
      "text/latex": [
       "\\begin{description*}\n",
       "\\item[again] 1001\n",
       "\\item[being] 1445\n",
       "\\item[could] 3613\n",
       "\\item[darcy] 373\n",
       "\\item[every] 1456\n",
       "\\item[first] 972\n",
       "\\item[great] 981\n",
       "\\item[herself] 1360\n",
       "\\item[indeed] 664\n",
       "\\item[jennings] 199\n",
       "\\item[knightley] 356\n",
       "\\item[little] 1295\n",
       "\\item[might] 1369\n",
       "\\item[never] 1362\n",
       "\\item[other] 1084\n",
       "\\item[place] 503\n",
       "\\item[quite] 870\n",
       "\\item[really] 504\n",
       "\\item[should] 1541\n",
       "\\item[there] 2209\n",
       "\\item[under] 293\n",
       "\\item[visit] 294\n",
       "\\item[would] 3238\n",
       "\\item[xviii] 4\n",
       "\\item[young] 766\n",
       "\\item[zealous] 5\n",
       "\\end{description*}\n"
      ],
      "text/markdown": [
       "again\n",
       ":   1001being\n",
       ":   1445could\n",
       ":   3613darcy\n",
       ":   373every\n",
       ":   1456first\n",
       ":   972great\n",
       ":   981herself\n",
       ":   1360indeed\n",
       ":   664jennings\n",
       ":   199knightley\n",
       ":   356little\n",
       ":   1295might\n",
       ":   1369never\n",
       ":   1362other\n",
       ":   1084place\n",
       ":   503quite\n",
       ":   870really\n",
       ":   504should\n",
       ":   1541there\n",
       ":   2209under\n",
       ":   293visit\n",
       ":   294would\n",
       ":   3238xviii\n",
       ":   4young\n",
       ":   766zealous\n",
       ":   5\n",
       "\n"
      ],
      "text/plain": [
       "    again     being     could     darcy     every     first     great   herself \n",
       "     1001      1445      3613       373      1456       972       981      1360 \n",
       "   indeed  jennings knightley    little     might     never     other     place \n",
       "      664       199       356      1295      1369      1362      1084       503 \n",
       "    quite    really    should     there     under     visit     would     xviii \n",
       "      870       504      1541      2209       293       294      3238         4 \n",
       "    young   zealous \n",
       "      766         5 "
      ]
     },
     "metadata": {},
     "output_type": "display_data"
    },
    {
     "data": {
      "image/png": "[encoded data removed]",
      "text/plain": [
       "plot without title"
      ]
     },
     "metadata": {},
     "output_type": "display_data"
    }
   ],
   "source": [
    "## install.packages(\"janeaustenr\")\n",
    "# install.packages(\"readr\")\n",
    "library(janeaustenr)\n",
    "library(stringr)\n",
    "library(readr)\n",
    "library(tidyr)\n",
    "\n",
    "extract_words <- function(book_name) {\n",
    "    # extract the text of the book\n",
    "    text <- subset(austen_books(), book == book_name)$text\n",
    "    # extract words from the text and convert to lowercase\n",
    "    str_extract_all(text, boundary(\"word\")) %>% unlist %>% tolower\n",
    "}\n",
    "\n",
    "janeausten_words <- function() {\n",
    "    # Names of the six books contained in janeaustenr\n",
    "    books <- austen_books()$book %>% unique %>% as.character\n",
    "    # Vector of words from all six books\n",
    "    words <- sapply(books, extract_words) %>% unlist\n",
    "    words\n",
    "}\n",
    "# Vector of words from all six books\n",
    "words <- janeausten_words()\n",
    "\n",
    "\n",
    "select_words <- function(letter, words, min_length = 1) {\n",
    "    min_length_words <- words[nchar(words) >= min_length]\n",
    "    grep(paste0(\"^\", letter), min_length_words, value = TRUE)\n",
    "}\n",
    "\n",
    "max_frequency <- function(letter, words, min_length = 1) {\n",
    "    w <- select_words(letter, words = words, min_length = min_length)\n",
    "    frequency <- table(w)    \n",
    "    frequency[which.max(frequency)]\n",
    "}\n",
    "\n",
    "# Most frequent \"a\"-word that is at least 5 chars long\n",
    "word_max_fre = max_frequency(letter = \"a\", words = words, min_length = 1)\n",
    "print(word_max_fre)\n",
    "\n",
    "letters = c(\"a\", \"b\", \"c\", \"d\", \"e\", \"f\", \"g\", \"h\", \"i\", \"j\", \"k\", \"l\", \"m\", \"n\", \"o\", \"p\",\n",
    "            \"q\",\"r\",\"s\", \"t\", \"u\", \"v\", \"w\", \"x\", \"y\", \"z\")\n",
    "\n",
    "# Partitioning\n",
    "result <- lapply(letters, max_frequency,\n",
    "                 words = words, min_length = 5) %>% unlist()\n",
    "\n",
    "result\n",
    "\n",
    "# Barplot of result\n",
    "barplot(result, las = 2)"
   ]
  },
  {
   "cell_type": "markdown",
   "metadata": {},
   "source": [
    "### A simple embarrassingly parallel application\n",
    "As a simple example of an embarrassingly parallel statistical application, we will repeatedly compute the mean of a set of normally distributed random numbers. For now, you will process it sequentially using a for loop, and the sapply() function.\n",
    "\n",
    "In general, we recommend to implement any task that will be repeatedly applied to data as a function. Here, the function will be called mean_of_rnorm(). It generates random numbers with rnorm(), then computes their mean.\n",
    "\n",
    "The objects n_numbers_per_replicate (set to 10000) and n_replicates (set to 50) have been created for you and determine the length of the random numbers vector and how many times the task is repeated, respectively."
   ]
  },
  {
   "cell_type": "code",
   "execution_count": 24,
   "metadata": {},
   "outputs": [
    {
     "data": {
      "text/html": [
       "-0.178305383051338"
      ],
      "text/latex": [
       "-0.178305383051338"
      ],
      "text/markdown": [
       "-0.178305383051338"
      ],
      "text/plain": [
       "[1] -0.1783054"
      ]
     },
     "metadata": {},
     "output_type": "display_data"
    },
    {
     "data": {
      "image/png": "[encoded data removed]",
      "text/plain": [
       "Plot with title \"Histogram of result\""
      ]
     },
     "metadata": {},
     "output_type": "display_data"
    }
   ],
   "source": [
    "# Complete the function definition\n",
    "mean_of_rnorm <- function(n) {\n",
    "  # Generate normally distributed random numbers\n",
    "  random_numbers <- rnorm(n)\n",
    "  # Calculate the mean of the random numbers\n",
    "  mean(random_numbers)\n",
    "}\n",
    "\n",
    "# Try it out\n",
    "mean_of_rnorm(100)\n",
    "\n",
    "n_replicates = 50\n",
    "n_numbers_per_replicate = 10000\n",
    "\n",
    "# Create a vector to store the results\n",
    "result <- rep(NA, n_replicates)\n",
    "\n",
    "# Set the random seed to 123\n",
    "set.seed(123)\n",
    "\n",
    "# Set up a for loop with iter from 1 to n_replicates\n",
    "for (iter in 1:n_replicates) {\n",
    "  # Call mean_of_rnorm with n_numbers_per_replicate\n",
    "  result[iter] <- mean_of_rnorm(n_numbers_per_replicate)\n",
    "}\n",
    "\n",
    "# View the result\n",
    "hist(result)"
   ]
  },
  {
   "cell_type": "code",
   "execution_count": 26,
   "metadata": {},
   "outputs": [
    {
     "data": {
      "image/png": "[encoded data removed]",
      "text/plain": [
       "Plot with title \"Histogram of result\""
      ]
     },
     "metadata": {},
     "output_type": "display_data"
    }
   ],
   "source": [
    "# Repeat n_numbers_per_replicate, n_replicates times\n",
    "n <- rep(n_numbers_per_replicate, n_replicates)\n",
    "\n",
    "# Call mean_of_rnorm() repeatedly using sapply()\n",
    "result <- sapply(\n",
    "  # The vectorized argument to pass\n",
    "  n, \n",
    "  # The function to call\n",
    "  mean_of_rnorm\n",
    ")\n",
    "\n",
    "# View the results\n",
    "hist(result)"
   ]
  },
  {
   "cell_type": "markdown",
   "metadata": {},
   "source": [
    "### Probabilistic projection of migration\n",
    "Here, we'll continue the previous application. The 1000 sets of estimates in ar1est is a result of an estimation using migration data for the United States. The task is to project the future distribution of the US migration rate for 15 time points using the whole estimation dataset instead of just one row. You will generate a set of 10000 trajectories of length 15, each of which makes use of one parameter set, thus each parameter row is re-used 10 times. You will also visualize the results using a preloaded function show_migration()."
   ]
  },
  {
   "cell_type": "code",
   "execution_count": 41,
   "metadata": {},
   "outputs": [
    {
     "name": "stderr",
     "output_type": "stream",
     "text": [
      "Warning message:\n",
      "\"package 'ggplot2' was built under R version 3.6.3\""
     ]
    },
    {
     "data": {
      "image/png": "[encoded data removed]",
      "text/plain": [
       "plot without title"
      ]
     },
     "metadata": {},
     "output_type": "display_data"
    }
   ],
   "source": [
    "library(ggplot2)\n",
    "ar1est = read.csv(\"US migration.csv\", header = TRUE)\n",
    "\n",
    "ar1_one_value <- function(est, r) {\n",
    "    est['mu'] + est['phi'] * (r - est['mu']) + \n",
    "        rnorm(1, sd = est['sigma'])\n",
    "}\n",
    "\n",
    "ar1_one_trajectory <- function(est, rate0, len = 15) {\n",
    "    trajectory <- rep(NA, len)\n",
    "    rate <- rate0\n",
    "    for (time in seq_len(len)) {\n",
    "        trajectory[time] <- ar1_one_value(est, r = rate)\n",
    "        rate <- trajectory[time]\n",
    "    }\n",
    "    trajectory\n",
    "}\n",
    "\n",
    "ar1_block_of_trajectories <- function(id, rate0 = 0.015, traj_len = 15, block_size = 10) {\n",
    "    trajectories <- matrix(NA, nrow = block_size, ncol = traj_len)\n",
    "    for (i in seq_len(block_size)) \n",
    "        trajectories[i,] <- ar1_one_trajectory(unlist(ar1est[id, ]), rate0 = rate0, len = traj_len)\n",
    "    trajectories\n",
    "}\n",
    "\n",
    "# Function definition of ar1_multiple_blocks_of_trajectories()\n",
    "ar1_multiple_blocks_of_trajectories <- function(ids, ...) {\n",
    "  # Call ar1_block_of_trajectories() for each ids\n",
    "  trajectories_by_block <- lapply(ids, ar1_block_of_trajectories, ...)\n",
    "  \n",
    "  # rbind results\n",
    "  do.call(rbind,trajectories_by_block)\n",
    "}\n",
    "\n",
    "# Create a sequence from 1 to number of blocks\n",
    "traj_ids <- seq_len(nrow(ar1est))\n",
    "\n",
    "# Generate trajectories for all rows of the estimation dataset\n",
    "trajs <- ar1_multiple_blocks_of_trajectories(\n",
    "  ids = traj_ids, rate0 = 0.015,\n",
    "  block_size = 10, traj_len = 15\n",
    ")\n",
    "\n",
    "show_migration <- function(trajs) {\n",
    "    df <- data.frame(time = seq(2020, by = 5, len = ncol(trajs)),\n",
    "                     migration_rate = apply(trajs, 2, median),\n",
    "                     lower = apply(trajs, 2, quantile, 0.1),\n",
    "                     upper = apply(trajs, 2, quantile, 0.9)\n",
    "                    )\n",
    "    g <- ggplot(df, aes(x = time, y = migration_rate)) + \n",
    "        geom_ribbon(aes(ymin = lower, ymax = upper), fill = \"grey70\") + \n",
    "        geom_line()\n",
    "    print(g)\n",
    "}\n",
    "\n",
    "show_migration(trajs)"
   ]
  },
  {
   "cell_type": "markdown",
   "metadata": {},
   "source": [
    "### Passing arguments via clusterApply()\n",
    "We will use a similar example as in the last lesson where we evaluated rnorm() on a sequence c(4,3,2,1) in parallel, except this time you will pass additional arguments to rnorm(). These can be added to the clusterApply() function.\n",
    "\n",
    "For comparison, you'll create a sequential solution using lapply() in Step 2 of this exercise and create a parallel solution in Step 3.\n",
    "\n",
    "Even though computers have often more logical cores than physical cores, there is no speed advantage of running R processes on more than the number of physical cores."
   ]
  },
  {
   "cell_type": "code",
   "execution_count": 46,
   "metadata": {},
   "outputs": [
    {
     "data": {
      "text/html": [
       "<ol>\n",
       "\t<li><ol class=list-inline>\n",
       "\t<li>11.240758816909</li>\n",
       "\t<li>9.47762266434776</li>\n",
       "\t<li>6.43206140200802</li>\n",
       "\t<li>14.460476041516</li>\n",
       "\t<li>8.20909202019627</li>\n",
       "\t<li>11.4053114785413</li>\n",
       "</ol>\n",
       "</li>\n",
       "\t<li><ol class=list-inline>\n",
       "\t<li>10.2312720764993</li>\n",
       "\t<li>8.26500886498648</li>\n",
       "\t<li>11.2799879410064</li>\n",
       "\t<li>13.2512122800931</li>\n",
       "\t<li>9.15170221711223</li>\n",
       "</ol>\n",
       "</li>\n",
       "\t<li><ol class=list-inline>\n",
       "\t<li>8.93848336241467</li>\n",
       "\t<li>7.33823186042695</li>\n",
       "\t<li>9.65427933096262</li>\n",
       "\t<li>11.201527105828</li>\n",
       "</ol>\n",
       "</li>\n",
       "\t<li><ol class=list-inline>\n",
       "\t<li>8.29368354739423</li>\n",
       "\t<li>10.0776575072253</li>\n",
       "\t<li>7.10851099615568</li>\n",
       "</ol>\n",
       "</li>\n",
       "\t<li><ol class=list-inline>\n",
       "\t<li>9.8448279222232</li>\n",
       "\t<li>10.5898670589295</li>\n",
       "</ol>\n",
       "</li>\n",
       "\t<li>7.83907575139375</li>\n",
       "</ol>\n"
      ],
      "text/latex": [
       "\\begin{enumerate}\n",
       "\\item \\begin{enumerate*}\n",
       "\\item 11.240758816909\n",
       "\\item 9.47762266434776\n",
       "\\item 6.43206140200802\n",
       "\\item 14.460476041516\n",
       "\\item 8.20909202019627\n",
       "\\item 11.4053114785413\n",
       "\\end{enumerate*}\n",
       "\n",
       "\\item \\begin{enumerate*}\n",
       "\\item 10.2312720764993\n",
       "\\item 8.26500886498648\n",
       "\\item 11.2799879410064\n",
       "\\item 13.2512122800931\n",
       "\\item 9.15170221711223\n",
       "\\end{enumerate*}\n",
       "\n",
       "\\item \\begin{enumerate*}\n",
       "\\item 8.93848336241467\n",
       "\\item 7.33823186042695\n",
       "\\item 9.65427933096262\n",
       "\\item 11.201527105828\n",
       "\\end{enumerate*}\n",
       "\n",
       "\\item \\begin{enumerate*}\n",
       "\\item 8.29368354739423\n",
       "\\item 10.0776575072253\n",
       "\\item 7.10851099615568\n",
       "\\end{enumerate*}\n",
       "\n",
       "\\item \\begin{enumerate*}\n",
       "\\item 9.8448279222232\n",
       "\\item 10.5898670589295\n",
       "\\end{enumerate*}\n",
       "\n",
       "\\item 7.83907575139375\n",
       "\\end{enumerate}\n"
      ],
      "text/markdown": [
       "1. 1. 11.240758816909\n",
       "2. 9.47762266434776\n",
       "3. 6.43206140200802\n",
       "4. 14.460476041516\n",
       "5. 8.20909202019627\n",
       "6. 11.4053114785413\n",
       "\n",
       "\n",
       "\n",
       "2. 1. 10.2312720764993\n",
       "2. 8.26500886498648\n",
       "3. 11.2799879410064\n",
       "4. 13.2512122800931\n",
       "5. 9.15170221711223\n",
       "\n",
       "\n",
       "\n",
       "3. 1. 8.93848336241467\n",
       "2. 7.33823186042695\n",
       "3. 9.65427933096262\n",
       "4. 11.201527105828\n",
       "\n",
       "\n",
       "\n",
       "4. 1. 8.29368354739423\n",
       "2. 10.0776575072253\n",
       "3. 7.10851099615568\n",
       "\n",
       "\n",
       "\n",
       "5. 1. 9.8448279222232\n",
       "2. 10.5898670589295\n",
       "\n",
       "\n",
       "\n",
       "6. 7.83907575139375\n",
       "\n",
       "\n"
      ],
      "text/plain": [
       "[[1]]\n",
       "[1] 11.240759  9.477623  6.432061 14.460476  8.209092 11.405311\n",
       "\n",
       "[[2]]\n",
       "[1] 10.231272  8.265009 11.279988 13.251212  9.151702\n",
       "\n",
       "[[3]]\n",
       "[1]  8.938483  7.338232  9.654279 11.201527\n",
       "\n",
       "[[4]]\n",
       "[1]  8.293684 10.077658  7.108511\n",
       "\n",
       "[[5]]\n",
       "[1]  9.844828 10.589867\n",
       "\n",
       "[[6]]\n",
       "[1] 7.839076\n"
      ]
     },
     "metadata": {},
     "output_type": "display_data"
    }
   ],
   "source": [
    "# Load parallel\n",
    "\n",
    "library(parallel)\n",
    "\n",
    "# How many physical cores are available?\n",
    "ncores <- detectCores(logical = FALSE)\n",
    "\n",
    "# How many random numbers to generate\n",
    "n = ncores:1\n",
    "\n",
    "ncores <- detectCores(logical = FALSE)\n",
    "n <- ncores:1\n",
    "\n",
    "# Use lapply to call rnorm for each n,\n",
    "# setting mean to 10 and sd to 2 \n",
    "lapply(n, rnorm, mean = 10, sd = 2)"
   ]
  },
  {
   "cell_type": "code",
   "execution_count": 47,
   "metadata": {},
   "outputs": [
    {
     "data": {
      "text/html": [
       "<ol>\n",
       "\t<li><ol class=list-inline>\n",
       "\t<li>6.94470247802115</li>\n",
       "\t<li>10.4464214152882</li>\n",
       "\t<li>10.0346110713434</li>\n",
       "\t<li>10.6486433935944</li>\n",
       "\t<li>11.4216591733977</li>\n",
       "\t<li>10.8585487218502</li>\n",
       "</ol>\n",
       "</li>\n",
       "\t<li><ol class=list-inline>\n",
       "\t<li>10.7339488072121</li>\n",
       "\t<li>10.6117463282398</li>\n",
       "\t<li>7.13113053283247</li>\n",
       "\t<li>8.74528900314565</li>\n",
       "\t<li>12.9086060823624</li>\n",
       "</ol>\n",
       "</li>\n",
       "\t<li><ol class=list-inline>\n",
       "\t<li>10.973730738995</li>\n",
       "\t<li>10.9814608419928</li>\n",
       "\t<li>13.4871589495141</li>\n",
       "\t<li>8.36711585766625</li>\n",
       "</ol>\n",
       "</li>\n",
       "\t<li><ol class=list-inline>\n",
       "\t<li>8.67931625411911</li>\n",
       "\t<li>11.3194334180701</li>\n",
       "\t<li>9.0971704085465</li>\n",
       "</ol>\n",
       "</li>\n",
       "\t<li><ol class=list-inline>\n",
       "\t<li>6.02631356426202</li>\n",
       "\t<li>8.11836354456244</li>\n",
       "</ol>\n",
       "</li>\n",
       "\t<li>9.52189789462163</li>\n",
       "</ol>\n"
      ],
      "text/latex": [
       "\\begin{enumerate}\n",
       "\\item \\begin{enumerate*}\n",
       "\\item 6.94470247802115\n",
       "\\item 10.4464214152882\n",
       "\\item 10.0346110713434\n",
       "\\item 10.6486433935944\n",
       "\\item 11.4216591733977\n",
       "\\item 10.8585487218502\n",
       "\\end{enumerate*}\n",
       "\n",
       "\\item \\begin{enumerate*}\n",
       "\\item 10.7339488072121\n",
       "\\item 10.6117463282398\n",
       "\\item 7.13113053283247\n",
       "\\item 8.74528900314565\n",
       "\\item 12.9086060823624\n",
       "\\end{enumerate*}\n",
       "\n",
       "\\item \\begin{enumerate*}\n",
       "\\item 10.973730738995\n",
       "\\item 10.9814608419928\n",
       "\\item 13.4871589495141\n",
       "\\item 8.36711585766625\n",
       "\\end{enumerate*}\n",
       "\n",
       "\\item \\begin{enumerate*}\n",
       "\\item 8.67931625411911\n",
       "\\item 11.3194334180701\n",
       "\\item 9.0971704085465\n",
       "\\end{enumerate*}\n",
       "\n",
       "\\item \\begin{enumerate*}\n",
       "\\item 6.02631356426202\n",
       "\\item 8.11836354456244\n",
       "\\end{enumerate*}\n",
       "\n",
       "\\item 9.52189789462163\n",
       "\\end{enumerate}\n"
      ],
      "text/markdown": [
       "1. 1. 6.94470247802115\n",
       "2. 10.4464214152882\n",
       "3. 10.0346110713434\n",
       "4. 10.6486433935944\n",
       "5. 11.4216591733977\n",
       "6. 10.8585487218502\n",
       "\n",
       "\n",
       "\n",
       "2. 1. 10.7339488072121\n",
       "2. 10.6117463282398\n",
       "3. 7.13113053283247\n",
       "4. 8.74528900314565\n",
       "5. 12.9086060823624\n",
       "\n",
       "\n",
       "\n",
       "3. 1. 10.973730738995\n",
       "2. 10.9814608419928\n",
       "3. 13.4871589495141\n",
       "4. 8.36711585766625\n",
       "\n",
       "\n",
       "\n",
       "4. 1. 8.67931625411911\n",
       "2. 11.3194334180701\n",
       "3. 9.0971704085465\n",
       "\n",
       "\n",
       "\n",
       "5. 1. 6.02631356426202\n",
       "2. 8.11836354456244\n",
       "\n",
       "\n",
       "\n",
       "6. 9.52189789462163\n",
       "\n",
       "\n"
      ],
      "text/plain": [
       "[[1]]\n",
       "[1]  6.944702 10.446421 10.034611 10.648643 11.421659 10.858549\n",
       "\n",
       "[[2]]\n",
       "[1] 10.733949 10.611746  7.131131  8.745289 12.908606\n",
       "\n",
       "[[3]]\n",
       "[1] 10.973731 10.981461 13.487159  8.367116\n",
       "\n",
       "[[4]]\n",
       "[1]  8.679316 11.319433  9.097170\n",
       "\n",
       "[[5]]\n",
       "[1] 6.026314 8.118364\n",
       "\n",
       "[[6]]\n",
       "[1] 9.521898\n"
      ]
     },
     "metadata": {},
     "output_type": "display_data"
    }
   ],
   "source": [
    "# Create a cluster\n",
    "cl <- makeCluster(ncores)\n",
    "\n",
    "# Use clusterApply to call rnorm for each n in parallel,\n",
    "# again setting mean to 10 and sd to 2 \n",
    "clusterApply(cl, x = n, fun = rnorm,mean = 10, sd = 2)\n",
    "\n",
    "# Stop the cluster\n",
    "stopCluster(cl)"
   ]
  },
  {
   "cell_type": "markdown",
   "metadata": {},
   "source": [
    "### Sum in parallel\n",
    "In the first lesson, you learned how to split sum(1:100) into independent pieces. For two cores, you can do sum(1:50) + sum(51:100). Here, we'll implement this using clusterApply(). The parallel package is preloaded, as well as a cluster object cl with two workers."
   ]
  },
  {
   "cell_type": "code",
   "execution_count": 49,
   "metadata": {},
   "outputs": [
    {
     "data": {
      "text/html": [
       "TRUE"
      ],
      "text/latex": [
       "TRUE"
      ],
      "text/markdown": [
       "TRUE"
      ],
      "text/plain": [
       "[1] TRUE"
      ]
     },
     "metadata": {},
     "output_type": "display_data"
    }
   ],
   "source": [
    "# Create a cluster\n",
    "cl <- makeCluster(ncores)\n",
    "# Evaluate partial sums in parallel\n",
    "part_sums <- clusterApply(cl, x = c(1, 51),\n",
    "                    fun = function(x) sum(x:(x + 49)))\n",
    "# Total sum\n",
    "total <- sum(unlist(part_sums))\n",
    "\n",
    "# Check for correctness\n",
    "total == sum(1:100)"
   ]
  },
  {
   "cell_type": "markdown",
   "metadata": {},
   "source": [
    "### More tasks than workers\n",
    "You will now parallelize your simple embarrassingly parallel application from a previous exercise. To repeatedly evaluate mean_of_rnorm() that computes the mean of a set of random numbers, a sequential for-loop solution looks as follows:\n",
    "\n",
    "for(iter in seq_len(n_replicates)) \n",
    "    \n",
    "    result[iter] <- mean_of_rnorm(n_numbers_per_replicate)\n",
    "    \n",
    "\n",
    "The iterations are independent of one another. Thus, we can convert it into a parallel form. Notice that we are now distributing many more tasks (namely n_replicates) than we have workers available.\n",
    "\n",
    "The function mean_of_rnorm() is preloaded, as is the parallel library."
   ]
  },
  {
   "cell_type": "code",
   "execution_count": 50,
   "metadata": {},
   "outputs": [
    {
     "data": {
      "image/png": "[encoded data removed]",
      "text/plain": [
       "Plot with title \"Histogram of unlist(means)\""
      ]
     },
     "metadata": {},
     "output_type": "display_data"
    }
   ],
   "source": [
    "# Create a cluster and set parameters\n",
    "cl <- makeCluster(2)\n",
    "n_replicates <- 50\n",
    "n_numbers_per_replicate <- 10000\n",
    "\n",
    "# Parallel evaluation on n_numbers_per_replicate, n_replicates times\n",
    "means <- clusterApply(cl, \n",
    "             x = rep(n_numbers_per_replicate, n_replicates), \n",
    "             fun = mean_of_rnorm)\n",
    "                \n",
    "# View results as histogram\n",
    "hist(unlist(means))"
   ]
  },
  {
   "cell_type": "code",
   "execution_count": null,
   "metadata": {},
   "outputs": [],
   "source": []
  }
 ],
 "metadata": {
  "kernelspec": {
   "display_name": "R",
   "language": "R",
   "name": "ir"
  },
  "language_info": {
   "codemirror_mode": "r",
   "file_extension": ".r",
   "mimetype": "text/x-r-source",
   "name": "R",
   "pygments_lexer": "r",
   "version": "3.6.1"
  }
 },
 "nbformat": 4,
 "nbformat_minor": 4
}
