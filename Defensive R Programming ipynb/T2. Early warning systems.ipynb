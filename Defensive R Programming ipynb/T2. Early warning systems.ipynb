{
 "cells": [
  {
   "cell_type": "markdown",
   "metadata": {},
   "source": [
    "## Early warning systems\n",
    "Programming is simpler when you get feedback on your code execution. In R, we use messages, warnings and errors to signal to keep the user informed. This chapter will discuss when and where you should use these communication tools."
   ]
  },
  {
   "cell_type": "markdown",
   "metadata": {},
   "source": [
    "### Let's be evil\n",
    "This foolish R user is reading the iris data set and specified the header using the logical short-cut F."
   ]
  },
  {
   "cell_type": "code",
   "execution_count": 10,
   "metadata": {},
   "outputs": [
    {
     "data": {
      "text/html": [
       "FALSE"
      ],
      "text/latex": [
       "FALSE"
      ],
      "text/markdown": [
       "FALSE"
      ],
      "text/plain": [
       "[1] FALSE"
      ]
     },
     "metadata": {},
     "output_type": "display_data"
    },
    {
     "data": {
      "text/html": [
       "<table>\n",
       "<thead><tr><th scope=col>V1</th><th scope=col>V2</th><th scope=col>V3</th><th scope=col>V4</th><th scope=col>V5</th></tr></thead>\n",
       "<tbody>\n",
       "\t<tr><td>Sepal.Length</td><td>Sepal.Width </td><td>Petal.Length</td><td>Petal.Width </td><td>Species     </td></tr>\n",
       "\t<tr><td>5.1         </td><td>3.5         </td><td>1.4         </td><td>0.2         </td><td>setosa      </td></tr>\n",
       "\t<tr><td>4.9         </td><td>3           </td><td>1.4         </td><td>0.2         </td><td>setosa      </td></tr>\n",
       "\t<tr><td>4.7         </td><td>3.2         </td><td>1.3         </td><td>0.2         </td><td>setosa      </td></tr>\n",
       "\t<tr><td>4.6         </td><td>3.1         </td><td>1.5         </td><td>0.2         </td><td>setosa      </td></tr>\n",
       "\t<tr><td>5           </td><td>3.6         </td><td>1.4         </td><td>0.2         </td><td>setosa      </td></tr>\n",
       "</tbody>\n",
       "</table>\n"
      ],
      "text/latex": [
       "\\begin{tabular}{r|lllll}\n",
       " V1 & V2 & V3 & V4 & V5\\\\\n",
       "\\hline\n",
       "\t Sepal.Length & Sepal.Width  & Petal.Length & Petal.Width  & Species     \\\\\n",
       "\t 5.1          & 3.5          & 1.4          & 0.2          & setosa      \\\\\n",
       "\t 4.9          & 3            & 1.4          & 0.2          & setosa      \\\\\n",
       "\t 4.7          & 3.2          & 1.3          & 0.2          & setosa      \\\\\n",
       "\t 4.6          & 3.1          & 1.5          & 0.2          & setosa      \\\\\n",
       "\t 5            & 3.6          & 1.4          & 0.2          & setosa      \\\\\n",
       "\\end{tabular}\n"
      ],
      "text/markdown": [
       "\n",
       "| V1 | V2 | V3 | V4 | V5 |\n",
       "|---|---|---|---|---|\n",
       "| Sepal.Length | Sepal.Width  | Petal.Length | Petal.Width  | Species      |\n",
       "| 5.1          | 3.5          | 1.4          | 0.2          | setosa       |\n",
       "| 4.9          | 3            | 1.4          | 0.2          | setosa       |\n",
       "| 4.7          | 3.2          | 1.3          | 0.2          | setosa       |\n",
       "| 4.6          | 3.1          | 1.5          | 0.2          | setosa       |\n",
       "| 5            | 3.6          | 1.4          | 0.2          | setosa       |\n",
       "\n"
      ],
      "text/plain": [
       "  V1           V2          V3           V4          V5     \n",
       "1 Sepal.Length Sepal.Width Petal.Length Petal.Width Species\n",
       "2 5.1          3.5         1.4          0.2         setosa \n",
       "3 4.9          3           1.4          0.2         setosa \n",
       "4 4.7          3.2         1.3          0.2         setosa \n",
       "5 4.6          3.1         1.5          0.2         setosa \n",
       "6 5            3.6         1.4          0.2         setosa "
      ]
     },
     "metadata": {},
     "output_type": "display_data"
    }
   ],
   "source": [
    "# Define F to be interpreted as TRUE\n",
    "F > 2\n",
    "\n",
    "# Read in data: don't alter the line below\n",
    "data_set <- read.csv(\"iris.csv\", header = F)\n",
    "head(data_set)\n",
    "# Avoiding the shortcuts F and T can prevent future issues."
   ]
  },
  {
   "cell_type": "markdown",
   "metadata": {},
   "source": [
    "### Suppressing startup messages\n",
    "When packages start, they may print messages to the screen. This is useful for interactive coding, but not that great when generating reports, e.g. knitr."
   ]
  },
  {
   "cell_type": "code",
   "execution_count": 11,
   "metadata": {},
   "outputs": [
    {
     "name": "stderr",
     "output_type": "stream",
     "text": [
      "Warning message:\n",
      "\"package 'dplyr' was built under R version 3.6.3\""
     ]
    }
   ],
   "source": [
    "suppressPackageStartupMessages(library(\"dplyr\"))"
   ]
  },
  {
   "cell_type": "markdown",
   "metadata": {},
   "source": [
    "### Stop being noisy!!!\n",
    "The message() function is useful for giving users an indication of how their code is running.\n",
    "\n",
    "The function simulate() performs a Monte-Carlo simulation, with the number of simulations specified by the runs argument. The function helpfully uses message() to indicate progress."
   ]
  },
  {
   "cell_type": "code",
   "execution_count": 16,
   "metadata": {},
   "outputs": [
    {
     "name": "stderr",
     "output_type": "stream",
     "text": [
      "Warning message:\n",
      "\"package 'stats' is not available (for R version 3.6.1)\"Warning message:\n",
      "\"package 'stats' is a base package, and should not be updated\""
     ]
    },
    {
     "data": {
      "text/html": [
       "<table>\n",
       "<thead><tr><th scope=col>sim_1</th><th scope=col>sim_2</th><th scope=col>sim_3</th><th scope=col>sim_4</th></tr></thead>\n",
       "<tbody>\n",
       "\t<tr><td>2.215956 </td><td>1.9434285</td><td>-1.561428</td><td>0.4811363</td></tr>\n",
       "\t<tr><td>2.065566 </td><td>0.3790642</td><td> 1.681156</td><td>2.2317739</td></tr>\n",
       "\t<tr><td>3.068083 </td><td>3.7671553</td><td> 4.092594</td><td>4.5332077</td></tr>\n",
       "\t<tr><td>5.077541 </td><td>6.2187739</td><td> 9.117577</td><td>5.3221365</td></tr>\n",
       "\t<tr><td>8.207054 </td><td>7.8686829</td><td> 6.841807</td><td>7.0938842</td></tr>\n",
       "</tbody>\n",
       "</table>\n"
      ],
      "text/latex": [
       "\\begin{tabular}{r|llll}\n",
       " sim\\_1 & sim\\_2 & sim\\_3 & sim\\_4\\\\\n",
       "\\hline\n",
       "\t 2.215956  & 1.9434285 & -1.561428 & 0.4811363\\\\\n",
       "\t 2.065566  & 0.3790642 &  1.681156 & 2.2317739\\\\\n",
       "\t 3.068083  & 3.7671553 &  4.092594 & 4.5332077\\\\\n",
       "\t 5.077541  & 6.2187739 &  9.117577 & 5.3221365\\\\\n",
       "\t 8.207054  & 7.8686829 &  6.841807 & 7.0938842\\\\\n",
       "\\end{tabular}\n"
      ],
      "text/markdown": [
       "\n",
       "| sim_1 | sim_2 | sim_3 | sim_4 |\n",
       "|---|---|---|---|\n",
       "| 2.215956  | 1.9434285 | -1.561428 | 0.4811363 |\n",
       "| 2.065566  | 0.3790642 |  1.681156 | 2.2317739 |\n",
       "| 3.068083  | 3.7671553 |  4.092594 | 4.5332077 |\n",
       "| 5.077541  | 6.2187739 |  9.117577 | 5.3221365 |\n",
       "| 8.207054  | 7.8686829 |  6.841807 | 7.0938842 |\n",
       "\n"
      ],
      "text/plain": [
       "  sim_1    sim_2     sim_3     sim_4    \n",
       "1 2.215956 1.9434285 -1.561428 0.4811363\n",
       "2 2.065566 0.3790642  1.681156 2.2317739\n",
       "3 3.068083 3.7671553  4.092594 4.5332077\n",
       "4 5.077541 6.2187739  9.117577 5.3221365\n",
       "5 8.207054 7.8686829  6.841807 7.0938842"
      ]
     },
     "metadata": {},
     "output_type": "display_data"
    }
   ],
   "source": [
    "install.packages(\"stats\")\n",
    "library(stats)\n",
    "# Suppress the standard output of the simulate() function\n",
    "x <- 1:5\n",
    "mod1 <- lm(c(1:3, 7, 6) ~ x)\n",
    "sim = suppressMessages(simulate(mod1, nsim = 4))\n",
    "sim"
   ]
  },
  {
   "cell_type": "markdown",
   "metadata": {},
   "source": [
    "### Using message in practice\n",
    "We're going to keep using the simulate() function, which performs a Monte-Carlo simulation. Often these simulations are time consuming, so it is helpful to give a progress report to the user. For example:\n",
    "\n",
    "Simulation 1 complete\n",
    "\n",
    "Simulation 2 complete"
   ]
  },
  {
   "cell_type": "code",
   "execution_count": 18,
   "metadata": {},
   "outputs": [
    {
     "name": "stderr",
     "output_type": "stream",
     "text": [
      "Simulation 1 complete\n",
      "Simulation 2 complete\n",
      "Simulation 3 complete\n",
      "Simulation 4 complete\n"
     ]
    }
   ],
   "source": [
    "# Alter the sample code below to show a progress report identical to the one suggested above.\n",
    "x <- 1:5\n",
    "mod1 <- lm(c(1:3, 7, 6) ~ x)\n",
    "for(i in 1:4) {\n",
    "sim = suppressMessages(simulate(mod1, nsim = i))\n",
    "  # Show a progress report\n",
    "  message(\"Simulation \", i, \" complete\")\n",
    "}"
   ]
  },
  {
   "cell_type": "code",
   "execution_count": 19,
   "metadata": {},
   "outputs": [
    {
     "name": "stderr",
     "output_type": "stream",
     "text": [
      "Simulation 1 complete\n",
      "Simulation 2 complete\n",
      "Simulation 3 complete\n",
      "Simulation 4 complete\n",
      "Simulation 5 complete\n"
     ]
    }
   ],
   "source": [
    "# It's always handy to put code in a function - it's more robust. Wrap the code in a function\n",
    "\n",
    "simulPaths <- function(N){\n",
    "x <- 1:5\n",
    "mod1 <- lm(c(1:3, 7, 6) ~ x)\n",
    "for(i in 1:N) {\n",
    "sim = suppressMessages(simulate(mod1, nsim = i))\n",
    "  # Show a progress report\n",
    "  message(\"Simulation \", i, \" complete\")\n",
    "}\n",
    "}\n",
    "# try\n",
    "simulPaths(5)"
   ]
  },
  {
   "cell_type": "code",
   "execution_count": 22,
   "metadata": {},
   "outputs": [],
   "source": [
    "# The function above is still noisy - let's change that! Add an additional argument to the function verbose = TRUE.\n",
    "# If verbose is TRUE, print a progress report.\n",
    "\n",
    "simulPaths <- function(N, verbose = TRUE) {\n",
    "x <- 1:5\n",
    "mod1 <- lm(c(1:3, 7, 6) ~ x)\n",
    "for(i in 1:N) {\n",
    "sim = suppressMessages(simulate(mod1, nsim = i))\n",
    "  # Show a progress report\n",
    "    # Check if verbose is TRUE\n",
    "    if(isTRUE(verbose)) {\n",
    "    message(\"Simulation \", i, \" complete\")\n",
    "    }\n",
    "}\n",
    "}\n",
    "\n",
    "# try\n",
    "simulPaths(5, verbose = FALSE)\n",
    "# You now have a nice function that you can customize depending on whether you want to see progress reports or not."
   ]
  },
  {
   "cell_type": "markdown",
   "metadata": {},
   "source": [
    "### Suppressing warnings\n",
    "A warning tells the user that something has gone potentially wrong. Let's highlight a good use of the warning function."
   ]
  },
  {
   "cell_type": "code",
   "execution_count": 23,
   "metadata": {},
   "outputs": [
    {
     "name": "stderr",
     "output_type": "stream",
     "text": [
      "Warning message in cor(x, y):\n",
      "\"the standard deviation is zero\""
     ]
    }
   ],
   "source": [
    "# Create new variable \n",
    "x <- c(1, 1, 1)\n",
    "y <- 1:3\n",
    "\n",
    "# correlation \n",
    "m <- cor(x, y)"
   ]
  },
  {
   "cell_type": "code",
   "execution_count": 24,
   "metadata": {},
   "outputs": [],
   "source": [
    "# Create new variable \n",
    "x <- c(1, 1, 1)\n",
    "y <- 1:3\n",
    "\n",
    "# Suppress the warning\n",
    "m <- suppressWarnings(cor(x, y))"
   ]
  },
  {
   "cell_type": "markdown",
   "metadata": {},
   "source": [
    "### Using the stop() function\n",
    "The stop() function is used to indicate that something is wrong."
   ]
  },
  {
   "cell_type": "code",
   "execution_count": 27,
   "metadata": {},
   "outputs": [
    {
     "ename": "ERROR",
     "evalue": "Error in mean_age(c(23, -23, 17)): You have negative ages!\n",
     "output_type": "error",
     "traceback": [
      "Error in mean_age(c(23, -23, 17)): You have negative ages!\nTraceback:\n",
      "1. mean_age(c(23, -23, 17))",
      "2. stop(\"You have negative ages!\")   # at line 4 of file <text>"
     ]
    }
   ],
   "source": [
    "# Stop the execution if ages are negative\n",
    "mean_age <- function(ages) {\n",
    "   if(any(ages < 0)) {\n",
    "    stop(\"You have negative ages!\")\n",
    "  }\n",
    "  \n",
    "  m <- mean(ages)\n",
    "  return(m)\n",
    "}\n",
    "\n",
    "# try\n",
    "mean_age(c(23, -23, 17))"
   ]
  },
  {
   "cell_type": "code",
   "execution_count": 30,
   "metadata": {},
   "outputs": [
    {
     "ename": "ERROR",
     "evalue": "Error in mean_age(c(23, -45, 160)): You have negative ages!\n",
     "output_type": "error",
     "traceback": [
      "Error in mean_age(c(23, -45, 160)): You have negative ages!\nTraceback:\n",
      "1. mean_age(c(23, -45, 160))",
      "2. stop(\"You have negative ages!\")   # at line 5 of file <text>"
     ]
    }
   ],
   "source": [
    "# We're also a little suspicious of ages over 150. Stop the execution if any of the ages are over 150. \n",
    "# Add the error message of your choice!\n",
    "mean_age = function(ages) {\n",
    "  if(any(ages < 0)) {\n",
    "    stop(\"You have negative ages!\")\n",
    "  }\n",
    "  # Stop the execution if any of the ages are over 150\n",
    "  if(any(ages > 150)) {\n",
    "    stop(\"Really? More than 150 years! You should be dead\")\n",
    "  }\n",
    "  m = mean(ages)\n",
    "  return(m)\n",
    "}\n",
    "# try\n",
    " mean_age(c(23,45,160))\n",
    "\n",
    "# catch this. What error appears? Hint: You could, if you wanted, combine this into a single if statement using ||.\n",
    "mean_age(c(23,-45,160))"
   ]
  },
  {
   "cell_type": "code",
   "execution_count": null,
   "metadata": {},
   "outputs": [],
   "source": []
  }
 ],
 "metadata": {
  "kernelspec": {
   "display_name": "R",
   "language": "R",
   "name": "ir"
  },
  "language_info": {
   "codemirror_mode": "r",
   "file_extension": ".r",
   "mimetype": "text/x-r-source",
   "name": "R",
   "pygments_lexer": "r",
   "version": "3.6.1"
  }
 },
 "nbformat": 4,
 "nbformat_minor": 4
}
