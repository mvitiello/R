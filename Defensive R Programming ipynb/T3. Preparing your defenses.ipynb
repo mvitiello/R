{
 "cells": [
  {
   "cell_type": "markdown",
   "metadata": {},
   "source": [
    "## Preparing your defenses\n",
    "\n",
    "We can avoid making mistakes using a consistent programming approach. In this chapter, we will introduce you to R best practices."
   ]
  },
  {
   "cell_type": "markdown",
   "metadata": {},
   "source": [
    "### Refactoring: functions\n",
    "Copying and pasting once is OK, but three times usually suggests something is wrong.\n",
    "\n",
    "The provided code calculates an approximate 95% confidence interval for the variables x, y and z."
   ]
  },
  {
   "cell_type": "code",
   "execution_count": 4,
   "metadata": {},
   "outputs": [
    {
     "data": {
      "text/html": [
       "<ol class=list-inline>\n",
       "\t<li>0.471932762212115</li>\n",
       "\t<li>0.508254737001383</li>\n",
       "</ol>\n"
      ],
      "text/latex": [
       "\\begin{enumerate*}\n",
       "\\item 0.471932762212115\n",
       "\\item 0.508254737001383\n",
       "\\end{enumerate*}\n"
      ],
      "text/markdown": [
       "1. 0.471932762212115\n",
       "2. 0.508254737001383\n",
       "\n",
       "\n"
      ],
      "text/plain": [
       "[1] 0.4719328 0.5082547"
      ]
     },
     "metadata": {},
     "output_type": "display_data"
    },
    {
     "data": {
      "text/html": [
       "<ol class=list-inline>\n",
       "\t<li>0.481156837682594</li>\n",
       "\t<li>0.517236742472388</li>\n",
       "</ol>\n"
      ],
      "text/latex": [
       "\\begin{enumerate*}\n",
       "\\item 0.481156837682594\n",
       "\\item 0.517236742472388\n",
       "\\end{enumerate*}\n"
      ],
      "text/markdown": [
       "1. 0.481156837682594\n",
       "2. 0.517236742472388\n",
       "\n",
       "\n"
      ],
      "text/plain": [
       "[1] 0.4811568 0.5172367"
      ]
     },
     "metadata": {},
     "output_type": "display_data"
    },
    {
     "data": {
      "text/html": [
       "<ol class=list-inline>\n",
       "\t<li>0.479142907251643</li>\n",
       "\t<li>0.515891284816859</li>\n",
       "</ol>\n"
      ],
      "text/latex": [
       "\\begin{enumerate*}\n",
       "\\item 0.479142907251643\n",
       "\\item 0.515891284816859\n",
       "\\end{enumerate*}\n"
      ],
      "text/markdown": [
       "1. 0.479142907251643\n",
       "2. 0.515891284816859\n",
       "\n",
       "\n"
      ],
      "text/plain": [
       "[1] 0.4791429 0.5158913"
      ]
     },
     "metadata": {},
     "output_type": "display_data"
    }
   ],
   "source": [
    "x = runif(1000)\n",
    "y = runif(1000)\n",
    "\n",
    "m <- mean(x); s <- sd(x); n <- length(x)\n",
    "c(m - 1.96 * s/sqrt(n), m + 1.96 * s/sqrt(n))\n",
    "\n",
    "m <- mean(y); s <- sd(y); n <- length(y)\n",
    "c(m - 1.96 * s/sqrt(n), m + 1.96 * s/sqrt(n))\n",
    "\n",
    "# Define a function to prevent pasting the code above\n",
    "ci <- function(values) {\n",
    "  n <- length(values)\n",
    "  m <- mean(values)\n",
    "  s <- sd(values)/sqrt(n) \n",
    "  c(m - 1.96 * s, m + 1.96 * s)\n",
    "}\n",
    "\n",
    "# try\n",
    "z = runif(1000)\n",
    "ci(z)"
   ]
  },
  {
   "cell_type": "markdown",
   "metadata": {},
   "source": [
    "### Avoiding the '.'\n",
    "As we've mentioned, using . in object names can lead to confusion."
   ]
  },
  {
   "cell_type": "code",
   "execution_count": 6,
   "metadata": {},
   "outputs": [
    {
     "data": {
      "text/html": [
       "<ol class=list-inline>\n",
       "\t<li>-0.126743765868355</li>\n",
       "\t<li>0.272542337706151</li>\n",
       "</ol>\n"
      ],
      "text/latex": [
       "\\begin{enumerate*}\n",
       "\\item -0.126743765868355\n",
       "\\item 0.272542337706151\n",
       "\\end{enumerate*}\n"
      ],
      "text/markdown": [
       "1. -0.126743765868355\n",
       "2. 0.272542337706151\n",
       "\n",
       "\n"
      ],
      "text/plain": [
       "[1] -0.1267438  0.2725423"
      ]
     },
     "metadata": {},
     "output_type": "display_data"
    }
   ],
   "source": [
    "# code that can lead to confusion\n",
    "ci <- function(x, plot.it = FALSE) {\n",
    "  # Plot the data\n",
    "  if (isTRUE(plot.it)) hist(x)\n",
    "  m <- mean(x); s <- sd(x); n <- length(x)\n",
    "  c(m - 1.96 * s/sqrt(n), m + 1.96 * s/sqrt(n))\n",
    "}\n",
    "sample.values <- rnorm(100)\n",
    "ci(sample.values)\n",
    "# the run it is fine, but avoid use '.' because it can related with S3 oop objects"
   ]
  },
  {
   "cell_type": "code",
   "execution_count": 7,
   "metadata": {},
   "outputs": [
    {
     "data": {
      "text/html": [
       "<ol class=list-inline>\n",
       "\t<li>-0.178254887355907</li>\n",
       "\t<li>0.191322056919411</li>\n",
       "</ol>\n"
      ],
      "text/latex": [
       "\\begin{enumerate*}\n",
       "\\item -0.178254887355907\n",
       "\\item 0.191322056919411\n",
       "\\end{enumerate*}\n"
      ],
      "text/markdown": [
       "1. -0.178254887355907\n",
       "2. 0.191322056919411\n",
       "\n",
       "\n"
      ],
      "text/plain": [
       "[1] -0.1782549  0.1913221"
      ]
     },
     "metadata": {},
     "output_type": "display_data"
    }
   ],
   "source": [
    "# much better: use _\n",
    "\n",
    "# code that can lead to confusion\n",
    "ci <- function(x, plot_it = FALSE) {\n",
    "  # Plot the data\n",
    "  if (isTRUE(plot_it)) hist(x)\n",
    "  m <- mean(x); s <- sd(x); n <- length(x)\n",
    "  c(m - 1.96 * s/sqrt(n), m + 1.96 * s/sqrt(n))\n",
    "}\n",
    "sample_values <- rnorm(100)\n",
    "ci(sample_values)"
   ]
  },
  {
   "cell_type": "markdown",
   "metadata": {},
   "source": [
    "### Code tidying\n",
    "Having a consistent style is crucial as it makes your code easier to understand and reduces bugs. Sadly, no-one told the author of the function below. The function f() fails the lint check."
   ]
  },
  {
   "cell_type": "code",
   "execution_count": 8,
   "metadata": {},
   "outputs": [
    {
     "name": "stderr",
     "output_type": "stream",
     "text": [
      "also installing the dependencies 'cyclocomp', 'xmlparsedata'\n",
      "\n"
     ]
    },
    {
     "name": "stdout",
     "output_type": "stream",
     "text": [
      "package 'cyclocomp' successfully unpacked and MD5 sums checked\n",
      "package 'xmlparsedata' successfully unpacked and MD5 sums checked\n",
      "package 'lintr' successfully unpacked and MD5 sums checked\n",
      "\n",
      "The downloaded binary packages are in\n",
      "\tC:\\Users\\Migue\\AppData\\Local\\Temp\\Rtmpy0QDud\\downloaded_packages\n"
     ]
    },
    {
     "name": "stderr",
     "output_type": "stream",
     "text": [
      "Warning message:\n",
      "\"package 'lintr' was built under R version 3.6.3\""
     ]
    }
   ],
   "source": [
    "# install.packages(\"lintr\")\n",
    "# library(lintr)\n",
    "\n",
    "# a non-well styled function\n",
    "f<-function(x,y,z) {\n",
    "x+y+z\n",
    "}\n",
    "\n",
    "# you can use lintr packages to check what you can change in your code to improve it. In this code for example:\n",
    "\n",
    "# You have 5 lints left to fix. \n",
    "# The messages are \n",
    "# 2:2 (refers to line = 2 and column = 2) 'Put spaces around all infix operators.\n",
    "# 2:15 'Commas should always have a space after.\n",
    "# 2:17 'Commas should always have a space after.\n",
    "# 3:2 'Put spaces around all infix operators.\n",
    "# 3:4 'Put spaces around all infix operators.'\n",
    "\n",
    "# a well styled function\n",
    "f <- function(x, y, z) {\n",
    "x + y + z\n",
    "}\n"
   ]
  }
 ],
 "metadata": {
  "kernelspec": {
   "display_name": "R",
   "language": "R",
   "name": "ir"
  },
  "language_info": {
   "codemirror_mode": "r",
   "file_extension": ".r",
   "mimetype": "text/x-r-source",
   "name": "R",
   "pygments_lexer": "r",
   "version": "3.6.1"
  }
 },
 "nbformat": 4,
 "nbformat_minor": 4
}
