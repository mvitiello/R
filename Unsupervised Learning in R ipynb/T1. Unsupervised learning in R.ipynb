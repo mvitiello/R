{
 "cells": [
  {
   "cell_type": "markdown",
   "metadata": {},
   "source": [
    "# Unsupervised Learning in R\n",
    "Many times in machine learning, the goal is to find patterns in data without trying to make predictions. This is called unsupervised learning. One common use case of unsupervised learning is grouping consumers based on demographics and purchasing history to deploy targeted marketing campaigns. Another example is wanting to describe the unmeasured factors that most influence crime differences between cities. This course provides a basic introduction to clustering and dimensionality reduction in R from a machine learning perspective, so that you can get from data to insights as quickly as possible."
   ]
  },
  {
   "cell_type": "markdown",
   "metadata": {},
   "source": [
    "## Unsupervised learning in R\n",
    "The k-means algorithm is one common approach to clustering. Learn how the algorithm works under the hood, implement k-means clustering in R, visualize and interpret the results, and select the number of clusters when it's not known ahead of time. By the end of the chapter, you'll have applied k-means clustering to a fun \"real-world\" dataset!"
   ]
  },
  {
   "cell_type": "markdown",
   "metadata": {},
   "source": [
    "### k-means clustering\n",
    "We have created some two-dimensional data and stored it in a variable called x in your workspace.\n",
    "\n",
    "In this exercise, your task is to create a k-means model of the x data using 3 clusters, then to look at the structure of the resulting model using the summary() function."
   ]
  },
  {
   "cell_type": "code",
   "execution_count": 5,
   "metadata": {},
   "outputs": [
    {
     "data": {
      "text/plain": [
       "             Length Class  Mode   \n",
       "cluster      100    -none- numeric\n",
       "centers        6    -none- numeric\n",
       "totss          1    -none- numeric\n",
       "withinss       3    -none- numeric\n",
       "tot.withinss   1    -none- numeric\n",
       "betweenss      1    -none- numeric\n",
       "size           3    -none- numeric\n",
       "iter           1    -none- numeric\n",
       "ifault         1    -none- numeric"
      ]
     },
     "metadata": {},
     "output_type": "display_data"
    }
   ],
   "source": [
    "# define x (a random 2*100 array)\n",
    "x = replicate(2, rnorm(100))\n",
    "\n",
    "# Create the k-means model: km.out\n",
    "km.out = kmeans(x, centers = 3, nstart = 20)\n",
    "\n",
    "# Inspect the result\n",
    "summary(km.out)\n",
    "\n",
    "\n"
   ]
  },
  {
   "cell_type": "markdown",
   "metadata": {},
   "source": [
    "### Results of kmeans()\n",
    "The kmeans() function produces several outputs. In the video, we discussed one output of modeling, the cluster membership.\n",
    "\n",
    "In this exercise, you will access the cluster component directly. This is useful anytime you need the cluster membership for each observation of the data used to build the clustering model. A future exercise will show an example of how this cluster membership might be used to help communicate the results of k-means modeling.\n",
    "\n",
    "k-means models also have a print method to give a human friendly output of basic modeling results. This is available by using print() or simply typing the name of the model."
   ]
  },
  {
   "cell_type": "code",
   "execution_count": 6,
   "metadata": {},
   "outputs": [
    {
     "name": "stdout",
     "output_type": "stream",
     "text": [
      "  [1] 2 3 1 2 1 1 3 2 1 3 1 3 1 1 3 2 2 2 1 3 1 2 3 3 3 3 2 3 1 1 2 3 3 1 2 2 3\n",
      " [38] 1 1 1 1 1 1 2 3 2 1 3 3 2 3 3 1 1 3 3 2 2 2 2 3 2 2 2 2 3 1 2 1 1 1 1 2 1\n",
      " [75] 3 1 3 2 1 1 2 3 1 1 3 1 1 1 3 2 1 1 2 3 2 3 3 2 2 1\n",
      "K-means clustering with 3 clusters of sizes 38, 31, 31\n",
      "\n",
      "Cluster means:\n",
      "        [,1]        [,2]\n",
      "1  1.0633649  0.07818077\n",
      "2 -0.7150690  0.77428699\n",
      "3 -0.4378343 -1.05403454\n",
      "\n",
      "Clustering vector:\n",
      "  [1] 2 3 1 2 1 1 3 2 1 3 1 3 1 1 3 2 2 2 1 3 1 2 3 3 3 3 2 3 1 1 2 3 3 1 2 2 3\n",
      " [38] 1 1 1 1 1 1 2 3 2 1 3 3 2 3 3 1 1 3 3 2 2 2 2 3 2 2 2 2 3 1 2 1 1 1 1 2 1\n",
      " [75] 3 1 3 2 1 1 2 3 1 1 3 1 1 1 3 2 1 1 2 3 2 3 3 2 2 1\n",
      "\n",
      "Within cluster sum of squares by cluster:\n",
      "[1] 26.27351 29.34805 21.52251\n",
      " (between_SS / total_SS =  60.4 %)\n",
      "\n",
      "Available components:\n",
      "\n",
      "[1] \"cluster\"      \"centers\"      \"totss\"        \"withinss\"     \"tot.withinss\"\n",
      "[6] \"betweenss\"    \"size\"         \"iter\"         \"ifault\"      \n"
     ]
    }
   ],
   "source": [
    "# Print the cluster membership component of the model\n",
    "print(km.out$cluster) \n",
    "\n",
    "# Print the km.out object\n",
    "print(km.out)"
   ]
  },
  {
   "cell_type": "markdown",
   "metadata": {},
   "source": [
    "### Visualizing and interpreting results of kmeans()\n",
    "One of the more intuitive ways to interpret the results of k-means models is by plotting the data as a scatter plot and using color to label the samples' cluster membership. In this exercise, you will use the standard plot() function to accomplish this.\n",
    "\n",
    "To create a scatter plot, you can pass data with two features (i.e. columns) to plot() with an extra argument col = km.out$cluster, which sets the color of each point in the scatter plot according to its cluster membership."
   ]
  },
  {
   "cell_type": "code",
   "execution_count": 7,
   "metadata": {},
   "outputs": [
    {
     "data": {
      "image/png": "[encoded data removed]",
      "text/plain": [
       "Plot with title \"k-means with 3 clusters\""
      ]
     },
     "metadata": {},
     "output_type": "display_data"
    }
   ],
   "source": [
    "# Scatter plot of x\n",
    "plot(x, col = km.out$cluster, main = \"k-means with 3 clusters\", xlab = \"\", ylab =\"\" )"
   ]
  },
  {
   "cell_type": "markdown",
   "metadata": {},
   "source": [
    "### Handling random algorithms\n",
    "In the video, you saw how kmeans() randomly initializes the centers of clusters. This random initialization can result in assigning observations to different cluster labels. Also, the random initialization can result in finding different local minima for the k-means algorithm. This exercise will demonstrate both results.\n",
    "\n",
    "At the top of each plot, the measure of model quality—total within cluster sum of squares error—will be plotted. Look for the model(s) with the lowest error to find models with the better model results.\n",
    "\n",
    "Because kmeans() initializes observations to random clusters, it is important to set the random number generator seed for reproducibility."
   ]
  },
  {
   "cell_type": "code",
   "execution_count": 9,
   "metadata": {},
   "outputs": [
    {
     "data": {
      "image/png": "[encoded data removed]",
      "text/plain": [
       "Plot with title \"77.2209769927251\""
      ]
     },
     "metadata": {},
     "output_type": "display_data"
    }
   ],
   "source": [
    "# Set up 2 x 3 plotting grid\n",
    "par(mfrow = c(2, 3))\n",
    "\n",
    "# Set seed\n",
    "set.seed(1)\n",
    "\n",
    "for(i in 1:6) {\n",
    "  # Run kmeans() on x with three clusters and one start\n",
    "  km.out <- kmeans(x, centers = 3, nstart = 1)\n",
    "  \n",
    "  # Plot clusters\n",
    "  plot(x, col = km.out$cluster, \n",
    "       main = km.out$tot.withinss, \n",
    "       xlab = \"\", ylab = \"\")\n",
    "}"
   ]
  },
  {
   "cell_type": "markdown",
   "metadata": {},
   "source": [
    "### Selecting number of clusters\n",
    "The k-means algorithm assumes the number of clusters as part of the input. If you know the number of clusters in advance (e.g. due to certain business constraints) this makes setting the number of clusters easy. However, as you saw in the video, if you do not know the number of clusters and need to determine it, you will need to run the algorithm multiple times, each time with a different number of clusters. From this, you can observe how a measure of model quality changes with the number of clusters.\n",
    "\n",
    "In this exercise, you will run kmeans() multiple times to see how model quality changes as the number of clusters changes. Plots displaying this information help to determine the number of clusters and are often referred to as scree plots.\n",
    "\n",
    "The ideal plot will have an elbow where the quality measure improves more slowly as the number of clusters increases. This indicates that the quality of the model is no longer improving substantially as the model complexity (i.e. number of clusters) increases. In other words, the elbow indicates the number of clusters inherent in the data."
   ]
  },
  {
   "cell_type": "code",
   "execution_count": 10,
   "metadata": {},
   "outputs": [
    {
     "data": {
      "image/png": "[encoded data removed]",
      "text/plain": [
       "plot without title"
      ]
     },
     "metadata": {},
     "output_type": "display_data"
    }
   ],
   "source": [
    "# Initialize total within sum of squares error: wss\n",
    "wss <- 0\n",
    "\n",
    "# For 1 to 15 cluster centers\n",
    "for (i in 1:15) {\n",
    "  km.out <- kmeans(x, centers = i, nstart = 20)\n",
    "  # Save total within sum of squares to wss variable\n",
    "  wss[i] <- km.out$tot.withinss\n",
    "}\n",
    "\n",
    "# Plot total within sum of squares vs. number of clusters\n",
    "plot(1:15, wss, type = \"b\", \n",
    "     xlab = \"Number of Clusters\", \n",
    "     ylab = \"Within groups sum of squares\")\n"
   ]
  },
  {
   "cell_type": "markdown",
   "metadata": {},
   "source": [
    "### Practical matters: working with real data\n",
    "Dealing with real data is often more challenging than dealing with synthetic data. Synthetic data helps with learning new concepts and techniques, but the next few exercises will deal with data that is closer to the type of real data you might find in your professional or academic pursuits.\n",
    "\n",
    "The first challenge with the Pokemon data is that there is no pre-determined number of clusters. You will determine the appropriate number of clusters, keeping in mind that in real data the elbow in the scree plot might be less of a sharp elbow than in synthetic data. Use your judgement on making the determination of the number of clusters.\n",
    "\n",
    "The second part of this exercise includes plotting the outcomes of the clustering on two dimensions, or features, of the data. These features were chosen somewhat arbitrarily for this exercise. Think about how you would use plotting and clustering to communicate interesting groups of Pokemon to other people.\n",
    "\n",
    "An additional note: this exercise utilizes the iter.max argument to kmeans(). As you've seen, kmeans() is an iterative algorithm, repeating over and over until some stopping criterion is reached. The default number of iterations for kmeans() is 10, which is not enough for the algorithm to converge and reach its stopping criterion, so we'll set the number of iterations to 50 to overcome this issue. To see what happens when kmeans() does not converge, try running the example with a lower number of iterations (e.g. 3). This is another example of what might happen when you encounter real data and use real cases."
   ]
  },
  {
   "cell_type": "code",
   "execution_count": 16,
   "metadata": {},
   "outputs": [
    {
     "data": {
      "text/html": [
       "<table>\n",
       "<thead><tr><th scope=col>Number</th><th scope=col>Name</th><th scope=col>Type1</th><th scope=col>Type2</th><th scope=col>Total</th><th scope=col>HitPoints</th><th scope=col>Attack</th><th scope=col>Defense</th><th scope=col>SpecialAttack</th><th scope=col>SpecialDefense</th><th scope=col>Speed</th><th scope=col>Generation</th><th scope=col>Legendary</th></tr></thead>\n",
       "<tbody>\n",
       "\t<tr><td>1                    </td><td>Bulbasaur            </td><td>Grass                </td><td>Poison               </td><td>318                  </td><td>45                   </td><td> 49                  </td><td> 49                  </td><td> 65                  </td><td> 65                  </td><td>45                   </td><td>1                    </td><td>FALSE                </td></tr>\n",
       "\t<tr><td>2                    </td><td>Ivysaur              </td><td>Grass                </td><td>Poison               </td><td>405                  </td><td>60                   </td><td> 62                  </td><td> 63                  </td><td> 80                  </td><td> 80                  </td><td>60                   </td><td>1                    </td><td>FALSE                </td></tr>\n",
       "\t<tr><td>3                    </td><td>Venusaur             </td><td>Grass                </td><td>Poison               </td><td>525                  </td><td>80                   </td><td> 82                  </td><td> 83                  </td><td>100                  </td><td>100                  </td><td>80                   </td><td>1                    </td><td>FALSE                </td></tr>\n",
       "\t<tr><td>3                    </td><td>VenusaurMega Venusaur</td><td>Grass                </td><td>Poison               </td><td>625                  </td><td>80                   </td><td>100                  </td><td>123                  </td><td>122                  </td><td>120                  </td><td>80                   </td><td>1                    </td><td>FALSE                </td></tr>\n",
       "\t<tr><td>4                    </td><td>Charmander           </td><td>Fire                 </td><td>                     </td><td>309                  </td><td>39                   </td><td> 52                  </td><td> 43                  </td><td> 60                  </td><td> 50                  </td><td>65                   </td><td>1                    </td><td>FALSE                </td></tr>\n",
       "\t<tr><td>5                    </td><td>Charmeleon           </td><td>Fire                 </td><td>                     </td><td>405                  </td><td>58                   </td><td> 64                  </td><td> 58                  </td><td> 80                  </td><td> 65                  </td><td>80                   </td><td>1                    </td><td>FALSE                </td></tr>\n",
       "</tbody>\n",
       "</table>\n"
      ],
      "text/latex": [
       "\\begin{tabular}{r|lllllllllllll}\n",
       " Number & Name & Type1 & Type2 & Total & HitPoints & Attack & Defense & SpecialAttack & SpecialDefense & Speed & Generation & Legendary\\\\\n",
       "\\hline\n",
       "\t 1                     & Bulbasaur             & Grass                 & Poison                & 318                   & 45                    &  49                   &  49                   &  65                   &  65                   & 45                    & 1                     & FALSE                \\\\\n",
       "\t 2                     & Ivysaur               & Grass                 & Poison                & 405                   & 60                    &  62                   &  63                   &  80                   &  80                   & 60                    & 1                     & FALSE                \\\\\n",
       "\t 3                     & Venusaur              & Grass                 & Poison                & 525                   & 80                    &  82                   &  83                   & 100                   & 100                   & 80                    & 1                     & FALSE                \\\\\n",
       "\t 3                     & VenusaurMega Venusaur & Grass                 & Poison                & 625                   & 80                    & 100                   & 123                   & 122                   & 120                   & 80                    & 1                     & FALSE                \\\\\n",
       "\t 4                     & Charmander            & Fire                  &                       & 309                   & 39                    &  52                   &  43                   &  60                   &  50                   & 65                    & 1                     & FALSE                \\\\\n",
       "\t 5                     & Charmeleon            & Fire                  &                       & 405                   & 58                    &  64                   &  58                   &  80                   &  65                   & 80                    & 1                     & FALSE                \\\\\n",
       "\\end{tabular}\n"
      ],
      "text/markdown": [
       "\n",
       "| Number | Name | Type1 | Type2 | Total | HitPoints | Attack | Defense | SpecialAttack | SpecialDefense | Speed | Generation | Legendary |\n",
       "|---|---|---|---|---|---|---|---|---|---|---|---|---|\n",
       "| 1                     | Bulbasaur             | Grass                 | Poison                | 318                   | 45                    |  49                   |  49                   |  65                   |  65                   | 45                    | 1                     | FALSE                 |\n",
       "| 2                     | Ivysaur               | Grass                 | Poison                | 405                   | 60                    |  62                   |  63                   |  80                   |  80                   | 60                    | 1                     | FALSE                 |\n",
       "| 3                     | Venusaur              | Grass                 | Poison                | 525                   | 80                    |  82                   |  83                   | 100                   | 100                   | 80                    | 1                     | FALSE                 |\n",
       "| 3                     | VenusaurMega Venusaur | Grass                 | Poison                | 625                   | 80                    | 100                   | 123                   | 122                   | 120                   | 80                    | 1                     | FALSE                 |\n",
       "| 4                     | Charmander            | Fire                  |                       | 309                   | 39                    |  52                   |  43                   |  60                   |  50                   | 65                    | 1                     | FALSE                 |\n",
       "| 5                     | Charmeleon            | Fire                  |                       | 405                   | 58                    |  64                   |  58                   |  80                   |  65                   | 80                    | 1                     | FALSE                 |\n",
       "\n"
      ],
      "text/plain": [
       "  Number Name                  Type1 Type2  Total HitPoints Attack Defense\n",
       "1 1      Bulbasaur             Grass Poison 318   45         49     49    \n",
       "2 2      Ivysaur               Grass Poison 405   60         62     63    \n",
       "3 3      Venusaur              Grass Poison 525   80         82     83    \n",
       "4 3      VenusaurMega Venusaur Grass Poison 625   80        100    123    \n",
       "5 4      Charmander            Fire         309   39         52     43    \n",
       "6 5      Charmeleon            Fire         405   58         64     58    \n",
       "  SpecialAttack SpecialDefense Speed Generation Legendary\n",
       "1  65            65            45    1          FALSE    \n",
       "2  80            80            60    1          FALSE    \n",
       "3 100           100            80    1          FALSE    \n",
       "4 122           120            80    1          FALSE    \n",
       "5  60            50            65    1          FALSE    \n",
       "6  80            65            80    1          FALSE    "
      ]
     },
     "metadata": {},
     "output_type": "display_data"
    },
    {
     "data": {
      "text/html": [
       "<table>\n",
       "<thead><tr><th scope=col>HitPoints</th><th scope=col>Attack</th><th scope=col>Defense</th><th scope=col>SpecialAttack</th><th scope=col>SpecialDefense</th><th scope=col>Speed</th></tr></thead>\n",
       "<tbody>\n",
       "\t<tr><td>45 </td><td> 49</td><td> 49</td><td> 65</td><td> 65</td><td>45 </td></tr>\n",
       "\t<tr><td>60 </td><td> 62</td><td> 63</td><td> 80</td><td> 80</td><td>60 </td></tr>\n",
       "\t<tr><td>80 </td><td> 82</td><td> 83</td><td>100</td><td>100</td><td>80 </td></tr>\n",
       "\t<tr><td>80 </td><td>100</td><td>123</td><td>122</td><td>120</td><td>80 </td></tr>\n",
       "\t<tr><td>39 </td><td> 52</td><td> 43</td><td> 60</td><td> 50</td><td>65 </td></tr>\n",
       "\t<tr><td>58 </td><td> 64</td><td> 58</td><td> 80</td><td> 65</td><td>80 </td></tr>\n",
       "</tbody>\n",
       "</table>\n"
      ],
      "text/latex": [
       "\\begin{tabular}{r|llllll}\n",
       " HitPoints & Attack & Defense & SpecialAttack & SpecialDefense & Speed\\\\\n",
       "\\hline\n",
       "\t 45  &  49 &  49 &  65 &  65 & 45 \\\\\n",
       "\t 60  &  62 &  63 &  80 &  80 & 60 \\\\\n",
       "\t 80  &  82 &  83 & 100 & 100 & 80 \\\\\n",
       "\t 80  & 100 & 123 & 122 & 120 & 80 \\\\\n",
       "\t 39  &  52 &  43 &  60 &  50 & 65 \\\\\n",
       "\t 58  &  64 &  58 &  80 &  65 & 80 \\\\\n",
       "\\end{tabular}\n"
      ],
      "text/markdown": [
       "\n",
       "| HitPoints | Attack | Defense | SpecialAttack | SpecialDefense | Speed |\n",
       "|---|---|---|---|---|---|\n",
       "| 45  |  49 |  49 |  65 |  65 | 45  |\n",
       "| 60  |  62 |  63 |  80 |  80 | 60  |\n",
       "| 80  |  82 |  83 | 100 | 100 | 80  |\n",
       "| 80  | 100 | 123 | 122 | 120 | 80  |\n",
       "| 39  |  52 |  43 |  60 |  50 | 65  |\n",
       "| 58  |  64 |  58 |  80 |  65 | 80  |\n",
       "\n"
      ],
      "text/plain": [
       "  HitPoints Attack Defense SpecialAttack SpecialDefense Speed\n",
       "1 45         49     49      65            65            45   \n",
       "2 60         62     63      80            80            60   \n",
       "3 80         82     83     100           100            80   \n",
       "4 80        100    123     122           120            80   \n",
       "5 39         52     43      60            50            65   \n",
       "6 58         64     58      80            65            80   "
      ]
     },
     "metadata": {},
     "output_type": "display_data"
    },
    {
     "data": {
      "text/plain": [
       "K-means clustering with 4 clusters of sizes 114, 288, 283, 115\n",
       "\n",
       "Cluster means:\n",
       "  HitPoints    Attack   Defense SpecialAttack SpecialDefense     Speed\n",
       "1  89.20175 121.09649  92.73684     120.45614       97.67544 100.44737\n",
       "2  79.18056  81.31944  69.19097      82.01042       77.53125  80.10417\n",
       "3  50.29682  54.03180  51.62898      47.90459       49.15548  49.74912\n",
       "4  71.30435  92.91304 121.42609      63.89565       88.23478  52.36522\n",
       "\n",
       "Clustering vector:\n",
       "  [1] 3 2 2 1 3 2 2 1 1 3 2 2 1 3 3 2 3 3 2 2 3 3 2 1 3 2 3 2 3 2 3 2 3 4 3 3 2\n",
       " [38] 3 3 2 3 2 3 2 3 2 3 2 3 2 2 3 4 3 2 3 2 3 2 3 2 3 2 3 1 3 3 2 3 2 2 1 3 2\n",
       " [75] 4 3 2 2 3 2 3 4 4 2 2 3 4 4 3 2 3 3 2 3 2 3 2 3 4 3 2 2 1 4 3 2 3 4 3 2 3\n",
       "[112] 2 3 4 2 4 3 3 4 3 4 2 2 2 1 3 2 3 2 3 2 2 2 2 2 2 4 1 2 3 2 1 2 3 3 2 2 1\n",
       "[149] 2 3 4 3 4 2 1 2 1 1 1 3 2 1 1 1 1 1 3 2 2 3 2 2 3 2 2 3 2 3 2 3 2 3 3 2 3\n",
       "[186] 2 3 3 3 3 2 3 2 3 3 2 1 4 3 2 4 2 3 3 2 3 3 2 2 3 4 2 4 2 2 2 3 2 2 3 4 2\n",
       "[223] 4 4 4 3 2 2 4 4 4 2 4 2 3 2 3 4 3 2 3 3 2 3 2 4 3 2 1 2 3 4 2 2 3 3 4 3 3\n",
       "[260] 3 2 2 1 1 4 3 2 1 1 1 1 1 3 2 2 1 3 2 1 1 3 2 2 1 3 2 3 2 3 3 2 3 3 3 3 2\n",
       "[297] 3 3 2 3 2 3 2 3 3 2 1 3 2 3 2 3 2 1 3 2 3 3 3 2 3 2 3 4 3 3 3 4 3 4 3 4 4\n",
       "[334] 4 3 2 2 3 2 1 2 2 2 2 2 3 2 3 2 1 2 2 3 2 1 4 3 2 3 3 3 2 3 2 3 2 1 2 2 2\n",
       "[371] 2 3 2 3 2 3 4 3 4 3 4 3 2 2 4 3 2 1 3 4 2 2 2 1 3 3 2 1 3 2 2 3 4 4 4 3 3\n",
       "[408] 4 1 1 3 4 4 1 4 4 4 1 1 1 1 1 1 1 1 1 1 1 1 1 4 1 3 4 4 3 2 2 3 2 2 3 3 2\n",
       "[445] 3 2 3 3 3 3 2 3 2 3 2 4 4 3 4 4 4 2 3 4 2 3 2 3 2 3 2 2 3 2 3 2 1 2 2 3 2\n",
       "[482] 3 3 2 3 4 3 3 3 2 4 3 2 1 1 2 3 1 1 3 4 3 4 3 2 2 3 2 3 3 2 1 2 4 4 4 4 1\n",
       "[519] 1 2 2 4 2 4 2 2 2 1 4 4 2 2 2 2 2 2 2 4 1 1 1 1 1 1 1 1 4 2 1 1 1 1 1 1 3\n",
       "[556] 2 2 3 2 2 3 2 2 3 2 3 3 4 3 2 3 2 3 2 3 2 3 2 3 3 2 3 2 3 4 4 3 2 3 2 2 4\n",
       "[593] 3 4 4 3 2 2 4 2 3 4 2 3 3 2 3 2 3 2 2 3 3 2 3 2 2 2 3 4 3 4 2 3 4 4 4 2 1\n",
       "[630] 3 2 3 2 3 2 3 2 2 3 3 2 3 2 3 2 2 3 2 2 3 4 3 2 3 2 2 3 2 3 4 3 4 4 3 2 2\n",
       "[667] 3 2 3 3 2 3 2 1 3 2 2 3 2 2 3 2 4 3 4 3 4 4 3 2 3 4 2 4 3 2 1 3 2 1 1 1 1\n",
       "[704] 1 1 1 1 1 1 1 1 1 1 1 1 1 1 1 3 4 4 3 2 2 3 2 2 3 2 3 3 2 3 3 2 3 2 3 3 2\n",
       "[741] 3 2 3 2 2 3 2 2 3 4 1 4 3 2 3 2 3 2 3 4 3 4 3 2 3 2 3 4 3 2 2 2 2 4 3 2 1\n",
       "[778] 2 3 2 3 3 3 3 4 4 4 4 3 4 3 2 1 1 1 4 1 1 1 1\n",
       "\n",
       "Within cluster sum of squares by cluster:\n",
       "[1] 408271.9 871531.3 513476.6 455965.7\n",
       " (between_SS / total_SS =  47.6 %)\n",
       "\n",
       "Available components:\n",
       "\n",
       "[1] \"cluster\"      \"centers\"      \"totss\"        \"withinss\"     \"tot.withinss\"\n",
       "[6] \"betweenss\"    \"size\"         \"iter\"         \"ifault\"      "
      ]
     },
     "metadata": {},
     "output_type": "display_data"
    },
    {
     "data": {
      "image/png": "[encoded data removed]",
      "text/plain": [
       "plot without title"
      ]
     },
     "metadata": {},
     "output_type": "display_data"
    },
    {
     "data": {
      "image/png": "[encoded data removed]",
      "text/plain": [
       "Plot with title \"k-means clustering of Pokemon with 4 clusters\""
      ]
     },
     "metadata": {},
     "output_type": "display_data"
    }
   ],
   "source": [
    "library(dplyr)\n",
    "pokemon = read.csv(\"Pokemon.csv\")\n",
    "\n",
    "head(pokemon)\n",
    "\n",
    "pokemonToAnalysis <- pokemon %>%\n",
    "    select(HitPoints, Attack, Defense, SpecialAttack, SpecialDefense, Speed)\n",
    "\n",
    "head(pokemonToAnalysis)\n",
    "\n",
    "# Initialize total within sum of squares error: wss\n",
    "wss <- 0\n",
    "\n",
    "# Look over 1 to 15 possible clusters\n",
    "for (i in 1:15) {\n",
    "  # Fit the model: km.out\n",
    "  km.out <- kmeans(pokemonToAnalysis, centers = i, nstart = 20, iter.max = 50)\n",
    "  # Save the within cluster sum of squares\n",
    "  wss[i] <- km.out$tot.withinss\n",
    "}\n",
    "\n",
    "# Produce a scree plot\n",
    "plot(1:15, wss, type = \"b\", \n",
    "     xlab = \"Number of Clusters\", \n",
    "     ylab = \"Within groups sum of squares\")\n",
    "\n",
    "# Select number of clusters\n",
    "k <- 4\n",
    "\n",
    "# Build model with k clusters: km.out\n",
    "km.out <- kmeans(pokemonToAnalysis, centers = k, nstart = 20, iter.max = 50)\n",
    "\n",
    "# View the resulting model\n",
    "km.out\n",
    "\n",
    "# Plot of Defense vs. Speed by cluster membership\n",
    "plot(pokemonToAnalysis[, c(\"Defense\", \"Speed\")],\n",
    "     col = km.out$cluster,\n",
    "     main = paste(\"k-means clustering of Pokemon with\", k, \"clusters\"),\n",
    "     xlab = \"Defense\", ylab = \"Speed\")"
   ]
  },
  {
   "cell_type": "code",
   "execution_count": null,
   "metadata": {},
   "outputs": [],
   "source": []
  }
 ],
 "metadata": {
  "kernelspec": {
   "display_name": "R",
   "language": "R",
   "name": "ir"
  },
  "language_info": {
   "codemirror_mode": "r",
   "file_extension": ".r",
   "mimetype": "text/x-r-source",
   "name": "R",
   "pygments_lexer": "r",
   "version": "3.6.1"
  }
 },
 "nbformat": 4,
 "nbformat_minor": 4
}
