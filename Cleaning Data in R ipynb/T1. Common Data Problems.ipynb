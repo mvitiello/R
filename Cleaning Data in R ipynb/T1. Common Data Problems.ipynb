{
 "cells": [
  {
   "cell_type": "markdown",
   "metadata": {},
   "source": [
    "# Cleaning Data in R\n",
    "\n",
    "It's commonly said that data scientists spend 80% of their time cleaning and manipulating data and only 20% of their time analyzing it. The time spent cleaning is vital since analyzing dirty data can lead you to draw inaccurate conclusions.\n",
    "\n",
    "In this course, you'll learn how to clean dirty data. Using R, you'll learn how to identify values that don't look right and fix dirty data by converting data types, filling in missing values, and using fuzzy string matching. As you learn, you’ll brush up on your skills by working with real-world datasets, including bike-share trips, customer asset portfolios, and restaurant reviews—developing the skills you need to go from raw data to awesome insights as quickly and accurately as possible!\n"
   ]
  },
  {
   "cell_type": "markdown",
   "metadata": {},
   "source": [
    "## Common Data Problems\n",
    "\n",
    "In this chapter, you'll learn how to overcome some of the most common dirty data problems. You'll convert data types, apply range constraints to remove future data points, and remove duplicated data points to avoid double-counting."
   ]
  },
  {
   "cell_type": "markdown",
   "metadata": {},
   "source": [
    "### Converting data types\n",
    "Throughout this chapter, you'll be working with San Francisco bike share ride data called bike_share_rides. It contains information on start and end stations of each trip, the trip duration, and some user information.\n",
    "\n",
    "Before beginning to analyze any dataset, it's important to take a look at the different types of columns you'll be working with, which you can do using glimpse().\n",
    "\n",
    "In this exercise, you'll take a look at the data types contained in bike_share_rides and see how an incorrect data type can flaw your analysis.\n",
    "\n",
    "dplyr and assertive are loaded and bike_share_rides is available."
   ]
  },
  {
   "cell_type": "code",
   "execution_count": 6,
   "metadata": {},
   "outputs": [
    {
     "name": "stdout",
     "output_type": "stream",
     "text": [
      "Rows: 35,229\n",
      "Columns: 10\n",
      "$ ride_id         <int> 52797, 54540, 87695, 45619, 70832, 96135, 29928, 83...\n",
      "$ date            <chr> \"2017-04-15\", \"2017-04-19\", \"2017-04-14\", \"2017-04-...\n",
      "$ duration        <chr> \"1316.15 minutes\", \"8.13 minutes\", \"24.85 minutes\",...\n",
      "$ station_A_id    <dbl> 67, 21, 16, 58, 16, 6, 5, 16, 5, 81, 30, 16, 16, 67...\n",
      "$ station_A_name  <chr> \"San Francisco Caltrain Station 2  (Townsend St at ...\n",
      "$ station_B_id    <dbl> 89, 64, 355, 368, 81, 66, 350, 91, 62, 81, 109, 10,...\n",
      "$ station_B_name  <chr> \"Division St at Potrero Ave\", \"5th St at Brannan St...\n",
      "$ bike_id         <dbl> 1974, 860, 2263, 1417, 507, 75, 388, 239, 1449, 328...\n",
      "$ user_gender     <chr> \"Male\", \"Male\", \"Male\", \"Male\", \"Male\", \"Male\", \"Ma...\n",
      "$ user_birth_year <dbl> 1972, 1986, 1993, 1981, 1981, 1988, 1993, 1996, 199...\n"
     ]
    },
    {
     "data": {
      "text/plain": [
       "   Min. 1st Qu.  Median    Mean 3rd Qu.    Max. \n",
       "   1900    1979    1986    1984    1991    2001 "
      ]
     },
     "metadata": {},
     "output_type": "display_data"
    }
   ],
   "source": [
    "library(dplyr)\n",
    "library(assertive)\n",
    "\n",
    "bike_share_rides <- readRDS(\"bike_share_rides_ch1_1.rds\")\n",
    "\n",
    "# Glimpse at bike_share_rides\n",
    "glimpse(bike_share_rides)\n",
    "\n",
    "# Summary of user_birth_year\n",
    "summary(bike_share_rides$user_birth_year)"
   ]
  },
  {
   "cell_type": "code",
   "execution_count": 7,
   "metadata": {},
   "outputs": [
    {
     "data": {
      "text/html": [
       "<dl class=dl-horizontal>\n",
       "\t<dt>1900</dt>\n",
       "\t\t<dd>1</dd>\n",
       "\t<dt>1902</dt>\n",
       "\t\t<dd>7</dd>\n",
       "\t<dt>1923</dt>\n",
       "\t\t<dd>2</dd>\n",
       "\t<dt>1931</dt>\n",
       "\t\t<dd>23</dd>\n",
       "\t<dt>1938</dt>\n",
       "\t\t<dd>2</dd>\n",
       "\t<dt>1939</dt>\n",
       "\t\t<dd>1</dd>\n",
       "\t<dt>1941</dt>\n",
       "\t\t<dd>3</dd>\n",
       "\t<dt>1942</dt>\n",
       "\t\t<dd>10</dd>\n",
       "\t<dt>1943</dt>\n",
       "\t\t<dd>4</dd>\n",
       "\t<dt>1945</dt>\n",
       "\t\t<dd>16</dd>\n",
       "\t<dt>1946</dt>\n",
       "\t\t<dd>5</dd>\n",
       "\t<dt>1947</dt>\n",
       "\t\t<dd>24</dd>\n",
       "\t<dt>1948</dt>\n",
       "\t\t<dd>9</dd>\n",
       "\t<dt>1949</dt>\n",
       "\t\t<dd>30</dd>\n",
       "\t<dt>1950</dt>\n",
       "\t\t<dd>37</dd>\n",
       "\t<dt>1951</dt>\n",
       "\t\t<dd>25</dd>\n",
       "\t<dt>1952</dt>\n",
       "\t\t<dd>70</dd>\n",
       "\t<dt>1953</dt>\n",
       "\t\t<dd>49</dd>\n",
       "\t<dt>1954</dt>\n",
       "\t\t<dd>65</dd>\n",
       "\t<dt>1955</dt>\n",
       "\t\t<dd>66</dd>\n",
       "\t<dt>1956</dt>\n",
       "\t\t<dd>112</dd>\n",
       "\t<dt>1957</dt>\n",
       "\t\t<dd>62</dd>\n",
       "\t<dt>1958</dt>\n",
       "\t\t<dd>156</dd>\n",
       "\t<dt>1959</dt>\n",
       "\t\t<dd>99</dd>\n",
       "\t<dt>1960</dt>\n",
       "\t\t<dd>196</dd>\n",
       "\t<dt>1961</dt>\n",
       "\t\t<dd>161</dd>\n",
       "\t<dt>1962</dt>\n",
       "\t\t<dd>256</dd>\n",
       "\t<dt>1963</dt>\n",
       "\t\t<dd>237</dd>\n",
       "\t<dt>1964</dt>\n",
       "\t\t<dd>245</dd>\n",
       "\t<dt>1965</dt>\n",
       "\t\t<dd>349</dd>\n",
       "\t<dt>1966</dt>\n",
       "\t\t<dd>225</dd>\n",
       "\t<dt>1967</dt>\n",
       "\t\t<dd>363</dd>\n",
       "\t<dt>1968</dt>\n",
       "\t\t<dd>365</dd>\n",
       "\t<dt>1969</dt>\n",
       "\t\t<dd>331</dd>\n",
       "\t<dt>1970</dt>\n",
       "\t\t<dd>370</dd>\n",
       "\t<dt>1971</dt>\n",
       "\t\t<dd>548</dd>\n",
       "\t<dt>1972</dt>\n",
       "\t\t<dd>529</dd>\n",
       "\t<dt>1973</dt>\n",
       "\t\t<dd>527</dd>\n",
       "\t<dt>1974</dt>\n",
       "\t\t<dd>563</dd>\n",
       "\t<dt>1975</dt>\n",
       "\t\t<dd>601</dd>\n",
       "\t<dt>1976</dt>\n",
       "\t\t<dd>481</dd>\n",
       "\t<dt>1977</dt>\n",
       "\t\t<dd>541</dd>\n",
       "\t<dt>1978</dt>\n",
       "\t\t<dd>775</dd>\n",
       "\t<dt>1979</dt>\n",
       "\t\t<dd>876</dd>\n",
       "\t<dt>1980</dt>\n",
       "\t\t<dd>825</dd>\n",
       "\t<dt>1981</dt>\n",
       "\t\t<dd>1016</dd>\n",
       "\t<dt>1982</dt>\n",
       "\t\t<dd>1056</dd>\n",
       "\t<dt>1983</dt>\n",
       "\t\t<dd>1262</dd>\n",
       "\t<dt>1984</dt>\n",
       "\t\t<dd>1157</dd>\n",
       "\t<dt>1985</dt>\n",
       "\t\t<dd>1318</dd>\n",
       "\t<dt>1986</dt>\n",
       "\t\t<dd>1606</dd>\n",
       "\t<dt>1987</dt>\n",
       "\t\t<dd>1672</dd>\n",
       "\t<dt>1988</dt>\n",
       "\t\t<dd>2135</dd>\n",
       "\t<dt>1989</dt>\n",
       "\t\t<dd>1872</dd>\n",
       "\t<dt>1990</dt>\n",
       "\t\t<dd>2062</dd>\n",
       "\t<dt>1991</dt>\n",
       "\t\t<dd>1582</dd>\n",
       "\t<dt>1992</dt>\n",
       "\t\t<dd>1703</dd>\n",
       "\t<dt>1993</dt>\n",
       "\t\t<dd>1498</dd>\n",
       "\t<dt>1994</dt>\n",
       "\t\t<dd>1476</dd>\n",
       "\t<dt>1995</dt>\n",
       "\t\t<dd>1185</dd>\n",
       "\t<dt>1996</dt>\n",
       "\t\t<dd>813</dd>\n",
       "\t<dt>1997</dt>\n",
       "\t\t<dd>358</dd>\n",
       "\t<dt>1998</dt>\n",
       "\t\t<dd>365</dd>\n",
       "\t<dt>1999</dt>\n",
       "\t\t<dd>348</dd>\n",
       "\t<dt>2000</dt>\n",
       "\t\t<dd>473</dd>\n",
       "\t<dt>2001</dt>\n",
       "\t\t<dd>30</dd>\n",
       "</dl>\n"
      ],
      "text/latex": [
       "\\begin{description*}\n",
       "\\item[1900] 1\n",
       "\\item[1902] 7\n",
       "\\item[1923] 2\n",
       "\\item[1931] 23\n",
       "\\item[1938] 2\n",
       "\\item[1939] 1\n",
       "\\item[1941] 3\n",
       "\\item[1942] 10\n",
       "\\item[1943] 4\n",
       "\\item[1945] 16\n",
       "\\item[1946] 5\n",
       "\\item[1947] 24\n",
       "\\item[1948] 9\n",
       "\\item[1949] 30\n",
       "\\item[1950] 37\n",
       "\\item[1951] 25\n",
       "\\item[1952] 70\n",
       "\\item[1953] 49\n",
       "\\item[1954] 65\n",
       "\\item[1955] 66\n",
       "\\item[1956] 112\n",
       "\\item[1957] 62\n",
       "\\item[1958] 156\n",
       "\\item[1959] 99\n",
       "\\item[1960] 196\n",
       "\\item[1961] 161\n",
       "\\item[1962] 256\n",
       "\\item[1963] 237\n",
       "\\item[1964] 245\n",
       "\\item[1965] 349\n",
       "\\item[1966] 225\n",
       "\\item[1967] 363\n",
       "\\item[1968] 365\n",
       "\\item[1969] 331\n",
       "\\item[1970] 370\n",
       "\\item[1971] 548\n",
       "\\item[1972] 529\n",
       "\\item[1973] 527\n",
       "\\item[1974] 563\n",
       "\\item[1975] 601\n",
       "\\item[1976] 481\n",
       "\\item[1977] 541\n",
       "\\item[1978] 775\n",
       "\\item[1979] 876\n",
       "\\item[1980] 825\n",
       "\\item[1981] 1016\n",
       "\\item[1982] 1056\n",
       "\\item[1983] 1262\n",
       "\\item[1984] 1157\n",
       "\\item[1985] 1318\n",
       "\\item[1986] 1606\n",
       "\\item[1987] 1672\n",
       "\\item[1988] 2135\n",
       "\\item[1989] 1872\n",
       "\\item[1990] 2062\n",
       "\\item[1991] 1582\n",
       "\\item[1992] 1703\n",
       "\\item[1993] 1498\n",
       "\\item[1994] 1476\n",
       "\\item[1995] 1185\n",
       "\\item[1996] 813\n",
       "\\item[1997] 358\n",
       "\\item[1998] 365\n",
       "\\item[1999] 348\n",
       "\\item[2000] 473\n",
       "\\item[2001] 30\n",
       "\\end{description*}\n"
      ],
      "text/markdown": [
       "1900\n",
       ":   11902\n",
       ":   71923\n",
       ":   21931\n",
       ":   231938\n",
       ":   21939\n",
       ":   11941\n",
       ":   31942\n",
       ":   101943\n",
       ":   41945\n",
       ":   161946\n",
       ":   51947\n",
       ":   241948\n",
       ":   91949\n",
       ":   301950\n",
       ":   371951\n",
       ":   251952\n",
       ":   701953\n",
       ":   491954\n",
       ":   651955\n",
       ":   661956\n",
       ":   1121957\n",
       ":   621958\n",
       ":   1561959\n",
       ":   991960\n",
       ":   1961961\n",
       ":   1611962\n",
       ":   2561963\n",
       ":   2371964\n",
       ":   2451965\n",
       ":   3491966\n",
       ":   2251967\n",
       ":   3631968\n",
       ":   3651969\n",
       ":   3311970\n",
       ":   3701971\n",
       ":   5481972\n",
       ":   5291973\n",
       ":   5271974\n",
       ":   5631975\n",
       ":   6011976\n",
       ":   4811977\n",
       ":   5411978\n",
       ":   7751979\n",
       ":   8761980\n",
       ":   8251981\n",
       ":   10161982\n",
       ":   10561983\n",
       ":   12621984\n",
       ":   11571985\n",
       ":   13181986\n",
       ":   16061987\n",
       ":   16721988\n",
       ":   21351989\n",
       ":   18721990\n",
       ":   20621991\n",
       ":   15821992\n",
       ":   17031993\n",
       ":   14981994\n",
       ":   14761995\n",
       ":   11851996\n",
       ":   8131997\n",
       ":   3581998\n",
       ":   3651999\n",
       ":   3482000\n",
       ":   4732001\n",
       ":   30\n",
       "\n"
      ],
      "text/plain": [
       "1900 1902 1923 1931 1938 1939 1941 1942 1943 1945 1946 1947 1948 1949 1950 1951 \n",
       "   1    7    2   23    2    1    3   10    4   16    5   24    9   30   37   25 \n",
       "1952 1953 1954 1955 1956 1957 1958 1959 1960 1961 1962 1963 1964 1965 1966 1967 \n",
       "  70   49   65   66  112   62  156   99  196  161  256  237  245  349  225  363 \n",
       "1968 1969 1970 1971 1972 1973 1974 1975 1976 1977 1978 1979 1980 1981 1982 1983 \n",
       " 365  331  370  548  529  527  563  601  481  541  775  876  825 1016 1056 1262 \n",
       "1984 1985 1986 1987 1988 1989 1990 1991 1992 1993 1994 1995 1996 1997 1998 1999 \n",
       "1157 1318 1606 1672 2135 1872 2062 1582 1703 1498 1476 1185  813  358  365  348 \n",
       "2000 2001 \n",
       " 473   30 "
      ]
     },
     "metadata": {},
     "output_type": "display_data"
    }
   ],
   "source": [
    "# Add a new column to bike_share_rides called user_birth_year_fct, which contains user_birth_year, converted to a factor.\n",
    "# and Assert that the user_birth_year_fct is a factor to confirm the conversion.\n",
    "\n",
    "# Convert user_birth_year to factor: user_birth_year_fct\n",
    "bike_share_rides <- bike_share_rides %>%\n",
    "  mutate(user_birth_year_fct = as.factor(user_birth_year))\n",
    "\n",
    "# Assert user_birth_year_fct is a factor\n",
    "assert_is_factor(bike_share_rides$user_birth_year_fct)\n",
    "\n",
    "# Summary of user_birth_year_fct\n",
    "summary(bike_share_rides$user_birth_year_fct)"
   ]
  },
  {
   "cell_type": "markdown",
   "metadata": {},
   "source": [
    "### Trimming strings\n",
    "In the previous exercise, you were able to identify the correct data type and convert user_birth_year to the correct type, allowing you to extract counts that gave you a bit more insight into the dataset.\n",
    "\n",
    "Another common dirty data problem is having extra bits like percent signs or periods in numbers, causing them to be read in as characters. In order to be able to crunch these numbers, the extra bits need to be removed and the numbers need to be converted from character to numeric. In this exercise, you'll need to convert the duration column from character to numeric, but before this can happen, the word \"minutes\" needs to be removed from each value."
   ]
  },
  {
   "cell_type": "code",
   "execution_count": 9,
   "metadata": {},
   "outputs": [
    {
     "name": "stdout",
     "output_type": "stream",
     "text": [
      "Rows: 35,229\n",
      "Columns: 13\n",
      "$ ride_id             <int> 52797, 54540, 87695, 45619, 70832, 96135, 29928...\n",
      "$ date                <chr> \"2017-04-15\", \"2017-04-19\", \"2017-04-14\", \"2017...\n",
      "$ duration            <chr> \"1316.15 minutes\", \"8.13 minutes\", \"24.85 minut...\n",
      "$ station_A_id        <dbl> 67, 21, 16, 58, 16, 6, 5, 16, 5, 81, 30, 16, 16...\n",
      "$ station_A_name      <chr> \"San Francisco Caltrain Station 2  (Townsend St...\n",
      "$ station_B_id        <dbl> 89, 64, 355, 368, 81, 66, 350, 91, 62, 81, 109,...\n",
      "$ station_B_name      <chr> \"Division St at Potrero Ave\", \"5th St at Branna...\n",
      "$ bike_id             <dbl> 1974, 860, 2263, 1417, 507, 75, 388, 239, 1449,...\n",
      "$ user_gender         <chr> \"Male\", \"Male\", \"Male\", \"Male\", \"Male\", \"Male\",...\n",
      "$ user_birth_year     <dbl> 1972, 1986, 1993, 1981, 1981, 1988, 1993, 1996,...\n",
      "$ user_birth_year_fct <fct> 1972, 1986, 1993, 1981, 1981, 1988, 1993, 1996,...\n",
      "$ duration_trimmed    <chr> \"1316.15 \", \"8.13 \", \"24.85 \", \"6.35 \", \"9.8 \",...\n",
      "$ duration_mins       <dbl> 1316.15, 8.13, 24.85, 6.35, 9.80, 17.47, 16.52,...\n"
     ]
    },
    {
     "data": {
      "text/html": [
       "13.062140849868"
      ],
      "text/latex": [
       "13.062140849868"
      ],
      "text/markdown": [
       "13.062140849868"
      ],
      "text/plain": [
       "[1] 13.06214"
      ]
     },
     "metadata": {},
     "output_type": "display_data"
    }
   ],
   "source": [
    "library(stringr)\n",
    "\n",
    "bike_share_rides <- bike_share_rides %>%\n",
    "  # Remove 'minutes' from duration: duration_trimmed\n",
    "  mutate(duration_trimmed = str_remove(duration, \"minutes\"),\n",
    "         # Convert duration_trimmed to numeric: duration_mins\n",
    "         duration_mins = as.numeric(duration_trimmed))\n",
    "\n",
    "# Glimpse at bike_share_rides\n",
    "glimpse(bike_share_rides)\n",
    "\n",
    "# Assert duration_mins is numeric\n",
    "assert_is_numeric(bike_share_rides$duration_mins)\n",
    "\n",
    "# Calculate mean duration\n",
    "mean(bike_share_rides$duration_mins)"
   ]
  },
  {
   "cell_type": "markdown",
   "metadata": {},
   "source": [
    "### Ride duration constraints\n",
    "Values that are out of range can throw off an analysis, so it's important to catch them early on. In this exercise, you'll be examining the duration_min column more closely. Bikes are not allowed to be kept out for more than 24 hours, or 1440 minutes at a time, but issues with some of the bikes caused inaccurate recording of the time they were returned.\n",
    "\n",
    "In this exercise, you'll replace erroneous data with the range limit (1440 minutes), however, you could just as easily replace these values with NAs."
   ]
  },
  {
   "cell_type": "code",
   "execution_count": 15,
   "metadata": {},
   "outputs": [
    {
     "data": {
      "image/png": "[encoded data removed]",
      "text/plain": [
       "plot without title"
      ]
     },
     "metadata": {},
     "output_type": "display_data"
    }
   ],
   "source": [
    "library(ggplot2)\n",
    "# Create breaks\n",
    "breaks <- c(min(bike_share_rides$duration_mins), 0, 1440, max(bike_share_rides$duration_mins))\n",
    "\n",
    "# Create a histogram of duration_min\n",
    "ggplot(bike_share_rides, aes(duration_mins)) +\n",
    "  geom_histogram(breaks = breaks)\n"
   ]
  },
  {
   "cell_type": "code",
   "execution_count": 17,
   "metadata": {},
   "outputs": [],
   "source": [
    "# Replace the values of duration_min that are greater than 1440 minutes (24 hours) with 1440. \n",
    "# Add this to bike_share_rides as a new column called duration_min_const.\n",
    "\n",
    "# duration_min_const: replace vals of duration_min > 1440 with 1440\n",
    "\n",
    "bike_share_rides <- bike_share_rides %>%\n",
    "  mutate(duration_min_const = replace(duration_mins,duration_mins > 1440, 1440))\n",
    "\n",
    "# Make sure all values of duration_min_const are between 0 and 1440\n",
    "assert_all_are_in_closed_range(bike_share_rides$duration_min_const, lower = 0, upper = 1440)"
   ]
  },
  {
   "cell_type": "markdown",
   "metadata": {},
   "source": [
    "### Back to the future\n",
    "Something has gone wrong and it looks like you have data with dates from the future, which is way outside of the date range you expected to be working with. To fix this, you'll need to remove any rides from the dataset that have a date in the future. Before you can do this, the date column needs to be converted from a character to a Date. Having these as Date objects will make it much easier to figure out which rides are from the future, since R makes it easy to check if one Date object is before (<) or after (>) another."
   ]
  },
  {
   "cell_type": "code",
   "execution_count": 18,
   "metadata": {},
   "outputs": [
    {
     "name": "stderr",
     "output_type": "stream",
     "text": [
      "\n",
      "Attaching package: 'lubridate'\n",
      "\n",
      "The following object is masked from 'package:base':\n",
      "\n",
      "    date\n",
      "\n",
      "Warning message:\n",
      "\"Coercing bike_share_rides$date to class 'POSIXct'.\"Warning message:\n",
      "\"Coercing bike_share_rides_past$date to class 'POSIXct'.\""
     ]
    }
   ],
   "source": [
    "library(lubridate)\n",
    "# Convert date to Date type\n",
    "bike_share_rides <- bike_share_rides %>%\n",
    "  mutate(date =  as.Date(date))\n",
    "\n",
    "# Make sure all dates are in the past\n",
    "assert_all_are_in_past(bike_share_rides$date)\n",
    "\n",
    "# Filter for rides that occurred before or on today's date\n",
    "bike_share_rides_past <- bike_share_rides %>%\n",
    "  filter(date < today())\n",
    "\n",
    "# Make sure all dates from bike_share_rides_past are in the past\n",
    "assert_all_are_in_past(bike_share_rides_past$date)"
   ]
  },
  {
   "cell_type": "markdown",
   "metadata": {},
   "source": [
    "### Full duplicates\n",
    "You've been notified that an update has been made to the bike sharing data pipeline to make it more efficient, but that duplicates are more likely to be generated as a result. To make sure that you can continue using the same scripts to run your weekly analyses about ride statistics, you'll need to ensure that any duplicates in the dataset are removed first.\n",
    "\n",
    "When multiple rows of a data frame share the same values for all columns, they're full duplicates of each other. Removing duplicates like this is important, since having the same value repeated multiple times can alter summary statistics like the mean and median. Each ride, including its ride_id should be unique."
   ]
  },
  {
   "cell_type": "code",
   "execution_count": 20,
   "metadata": {},
   "outputs": [
    {
     "data": {
      "text/html": [
       "0"
      ],
      "text/latex": [
       "0"
      ],
      "text/markdown": [
       "0"
      ],
      "text/plain": [
       "[1] 0"
      ]
     },
     "metadata": {},
     "output_type": "display_data"
    },
    {
     "data": {
      "text/html": [
       "0"
      ],
      "text/latex": [
       "0"
      ],
      "text/markdown": [
       "0"
      ],
      "text/plain": [
       "[1] 0"
      ]
     },
     "metadata": {},
     "output_type": "display_data"
    }
   ],
   "source": [
    "# Count the number of full duplicates\n",
    "sum(duplicated(bike_share_rides))  # there is no duplicates, this data is clean \n",
    "\n",
    "# Remove duplicates\n",
    "bike_share_rides_unique <- distinct(bike_share_rides) # only to know how to do it  \n",
    "\n",
    "# Count the full duplicates in bike_share_rides_unique\n",
    "sum(duplicated(bike_share_rides_unique))"
   ]
  },
  {
   "cell_type": "markdown",
   "metadata": {},
   "source": [
    "### Removing partial duplicates\n",
    "Now that you've identified and removed the full duplicates, it's time to check for partial duplicates. Partial duplicates are a bit tricker to deal with than full duplicates. In this exercise, you'll first identify any partial duplicates and then practice the most common technique to deal with them, which involves dropping all partial duplicates, keeping only the first."
   ]
  },
  {
   "cell_type": "code",
   "execution_count": 21,
   "metadata": {},
   "outputs": [
    {
     "data": {
      "text/html": [
       "<table>\n",
       "<thead><tr><th scope=col>ride_id</th><th scope=col>n</th></tr></thead>\n",
       "<tbody>\n",
       "</tbody>\n",
       "</table>\n"
      ],
      "text/latex": [
       "\\begin{tabular}{r|ll}\n",
       " ride\\_id & n\\\\\n",
       "\\hline\n",
       "\\end{tabular}\n"
      ],
      "text/markdown": [
       "\n",
       "| ride_id | n |\n",
       "|---|---|\n",
       "\n"
      ],
      "text/plain": [
       "     ride_id n"
      ]
     },
     "metadata": {},
     "output_type": "display_data"
    }
   ],
   "source": [
    "# Find duplicated ride_ids\n",
    "bike_share_rides %>% \n",
    "  # Count the number of occurrences of each ride_id\n",
    "  count(ride_id) %>% \n",
    "  # Filter for rows with a count > 1\n",
    "  filter(n>1)"
   ]
  },
  {
   "cell_type": "code",
   "execution_count": null,
   "metadata": {},
   "outputs": [],
   "source": [
    "# Remove full and partial duplicates\n",
    "bike_share_rides_unique <- bike_share_rides %>%\n",
    "  # Only based on ride_id instead of all cols\n",
    "  distinct(ride_id, .keep_all = TRUE)  # only to know how to do it  \n",
    "\n",
    "# Find duplicated ride_ids in bike_share_rides_unique\n",
    "bike_share_rides_unique %>%\n",
    "  # Count the number of occurrences of each ride_id\n",
    "   count(ride_id) %>%\n",
    "  # Filter for rows with a count > 1\n",
    "  filter(n > 1)"
   ]
  },
  {
   "cell_type": "markdown",
   "metadata": {},
   "source": [
    "### Aggregating partial duplicates\n",
    "Another way of handling partial duplicates is to compute a summary statistic of the values that differ between partial duplicates, such as mean, median, maximum, or minimum. This can come in handy when you're not sure how your data was collected and want an average, or if based on domain knowledge, you'd rather have too high of an estimate than too low of an estimate (or vice versa)."
   ]
  },
  {
   "cell_type": "code",
   "execution_count": null,
   "metadata": {},
   "outputs": [],
   "source": [
    "# this code do not do nothing because there is no duplicated values in this data\n",
    "bike_share_rides %>%\n",
    "  # Group by ride_id and date\n",
    "  group_by(ride_id, date) %>%\n",
    "  # Add duration_min_avg column\n",
    "  mutate(duration_min_avg = mean(duration_mins)) %>%\n",
    "  # Remove duplicates based on ride_id and date, keep all cols\n",
    "  distinct(ride_id, date, .keep_all = TRUE) %>%\n",
    "  # Remove duration_min column\n",
    "  select(-duration_mins)"
   ]
  },
  {
   "cell_type": "code",
   "execution_count": null,
   "metadata": {},
   "outputs": [],
   "source": []
  }
 ],
 "metadata": {
  "kernelspec": {
   "display_name": "R",
   "language": "R",
   "name": "ir"
  },
  "language_info": {
   "codemirror_mode": "r",
   "file_extension": ".r",
   "mimetype": "text/x-r-source",
   "name": "R",
   "pygments_lexer": "r",
   "version": "3.6.1"
  }
 },
 "nbformat": 4,
 "nbformat_minor": 4
}
