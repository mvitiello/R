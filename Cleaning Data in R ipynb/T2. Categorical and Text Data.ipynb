{
 "cells": [
  {
   "cell_type": "markdown",
   "metadata": {},
   "source": [
    "## Categorical and Text Data\n",
    "\n",
    "Categorical and text data can often be some of the messiest parts of a dataset due to their unstructured nature. In this chapter, you’ll learn how to fix whitespace and capitalization inconsistencies in category labels, collapse multiple categories into one, and reformat strings for consistency."
   ]
  },
  {
   "cell_type": "markdown",
   "metadata": {},
   "source": [
    "### Not a member\n",
    "Now that you've practiced identifying membership constraint problems, it's time to fix these problems in a new dataset. Throughout this chapter, you'll be working with a dataset called sfo, containing survey responses from passengers taking flights from San Francisco International Airport (SFO). Participants were asked questions about the airport's cleanliness, wait times, safety, and their overall satisfaction.\n",
    "\n",
    "There were a few issues during data collection that resulted in some inconsistencies in the dataset. In this exercise, you'll be working with the dest_size column, which categorizes the size of the destination airport that the passengers were flying to. A data frame called dest_sizes is available that contains all the possible destination sizes. Your mission is to find rows with invalid dest_sizes and remove them from the data frame."
   ]
  },
  {
   "cell_type": "code",
   "execution_count": 4,
   "metadata": {},
   "outputs": [
    {
     "name": "stdout",
     "output_type": "stream",
     "text": [
      "'data.frame':\t2809 obs. of  12 variables:\n",
      " $ id           : int  1842 1844 1840 1837 1833 3010 1838 1845 2097 1846 ...\n",
      " $ day          : chr  \"Monday\" \"Monday\" \"Monday\" \"Monday\" ...\n",
      " $ airline      : chr  \"TURKISH AIRLINES\" \"TURKISH AIRLINES\" \"TURKISH AIRLINES\" \"TURKISH AIRLINES\" ...\n",
      " $ destination  : chr  \"ISTANBUL\" \"ISTANBUL\" \"ISTANBUL\" \"ISTANBUL\" ...\n",
      " $ dest_region  : chr  \"Middle East\" \"Middle East\" \"Middle East\" \"Middle East\" ...\n",
      " $ dest_size    : chr  \"Hub\" \"Hub\" \"Hub\" \"Hub\" ...\n",
      " $ boarding_area: chr  \"Gates 91-102\" \"Gates 91-102\" \"Gates 91-102\" \"Gates 91-102\" ...\n",
      " $ dept_time    : chr  \"2018-12-31\" \"2018-12-31\" \"2018-12-31\" \"2018-12-31\" ...\n",
      " $ wait_min     : num  255 315 165 225 175 ...\n",
      " $ cleanliness  : chr  \"Average\" \"Somewhat clean\" \"Average\" \"Somewhat clean\" ...\n",
      " $ safety       : chr  \"Neutral\" \"Somewhat safe\" \"Somewhat safe\" \"Somewhat safe\" ...\n",
      " $ satisfaction : chr  \"Somewhat satsified\" \"Somewhat satsified\" \"Somewhat satsified\" \"Somewhat satsified\" ...\n",
      "  dest_size passenger_per_day\n",
      "1     Small             0-20K\n",
      "2    Medium           20K-70K\n",
      "3     Large          70K-100K\n",
      "4       Hub             100K+\n"
     ]
    },
    {
     "data": {
      "text/html": [
       "<table>\n",
       "<thead><tr><th scope=col>dest_size</th><th scope=col>n</th></tr></thead>\n",
       "<tbody>\n",
       "\t<tr><td>  Small  </td><td>   1     </td></tr>\n",
       "\t<tr><td> Hub     </td><td>   1     </td></tr>\n",
       "\t<tr><td>Hub      </td><td>1756     </td></tr>\n",
       "\t<tr><td>Large    </td><td> 143     </td></tr>\n",
       "\t<tr><td>Large    </td><td>   1     </td></tr>\n",
       "\t<tr><td>Medium   </td><td> 682     </td></tr>\n",
       "\t<tr><td>Small    </td><td> 225     </td></tr>\n",
       "</tbody>\n",
       "</table>\n"
      ],
      "text/latex": [
       "\\begin{tabular}{r|ll}\n",
       " dest\\_size & n\\\\\n",
       "\\hline\n",
       "\t   Small   &    1     \\\\\n",
       "\t  Hub      &    1     \\\\\n",
       "\t Hub       & 1756     \\\\\n",
       "\t Large     &  143     \\\\\n",
       "\t Large     &    1     \\\\\n",
       "\t Medium    &  682     \\\\\n",
       "\t Small     &  225     \\\\\n",
       "\\end{tabular}\n"
      ],
      "text/markdown": [
       "\n",
       "| dest_size | n |\n",
       "|---|---|\n",
       "|   Small   |    1      |\n",
       "|  Hub      |    1      |\n",
       "| Hub       | 1756      |\n",
       "| Large     |  143      |\n",
       "| Large     |    1      |\n",
       "| Medium    |  682      |\n",
       "| Small     |  225      |\n",
       "\n"
      ],
      "text/plain": [
       "  dest_size n   \n",
       "1   Small      1\n",
       "2  Hub         1\n",
       "3 Hub       1756\n",
       "4 Large      143\n",
       "5 Large        1\n",
       "6 Medium     682\n",
       "7 Small      225"
      ]
     },
     "metadata": {},
     "output_type": "display_data"
    }
   ],
   "source": [
    "library(dplyr)\n",
    "\n",
    "# data\n",
    "sfo <- readRDS(\"sfo_survey_ch2_1.rds\")\n",
    "str(sfo)\n",
    "\n",
    "# build dest_sizes\n",
    "dest_size = c(\"Small\", \"Medium\", \"Large\", \"Hub\")\n",
    "passenger_per_day = c(\"0-20K\", \"20K-70K\", \"70K-100K\", \"100K+\")\n",
    "dest_sizes = data.frame(dest_size, passenger_per_day)\n",
    "print(dest_sizes)\n",
    "\n",
    "# Count the number of occurrences of dest_size\n",
    "sfo %>%\n",
    "  count(dest_size)\n",
    "\n"
   ]
  },
  {
   "cell_type": "code",
   "execution_count": 6,
   "metadata": {},
   "outputs": [
    {
     "data": {
      "text/html": [
       "<table>\n",
       "<thead><tr><th scope=col>id</th><th scope=col>airline</th><th scope=col>destination</th><th scope=col>dest_size</th></tr></thead>\n",
       "<tbody>\n",
       "\t<tr><td> 982             </td><td>LUFTHANSA        </td><td>MUNICH           </td><td> Hub             </td></tr>\n",
       "\t<tr><td>2063             </td><td>AMERICAN         </td><td>PHILADELPHIA     </td><td>Large            </td></tr>\n",
       "\t<tr><td> 777             </td><td>UNITED INTL      </td><td>SAN JOSE DEL CABO</td><td>  Small          </td></tr>\n",
       "</tbody>\n",
       "</table>\n"
      ],
      "text/latex": [
       "\\begin{tabular}{r|llll}\n",
       " id & airline & destination & dest\\_size\\\\\n",
       "\\hline\n",
       "\t  982              & LUFTHANSA         & MUNICH            &  Hub             \\\\\n",
       "\t 2063              & AMERICAN          & PHILADELPHIA      & Large            \\\\\n",
       "\t  777              & UNITED INTL       & SAN JOSE DEL CABO &   Small          \\\\\n",
       "\\end{tabular}\n"
      ],
      "text/markdown": [
       "\n",
       "| id | airline | destination | dest_size |\n",
       "|---|---|---|---|\n",
       "|  982              | LUFTHANSA         | MUNICH            |  Hub              |\n",
       "| 2063              | AMERICAN          | PHILADELPHIA      | Large             |\n",
       "|  777              | UNITED INTL       | SAN JOSE DEL CABO |   Small           |\n",
       "\n"
      ],
      "text/plain": [
       "  id   airline     destination       dest_size\n",
       "1  982 LUFTHANSA   MUNICH             Hub     \n",
       "2 2063 AMERICAN    PHILADELPHIA      Large    \n",
       "3  777 UNITED INTL SAN JOSE DEL CABO   Small  "
      ]
     },
     "metadata": {},
     "output_type": "display_data"
    }
   ],
   "source": [
    "# Use the correct type of filtering join on the sfo_survey data frame and the dest_sizes data frame \n",
    "# to get the rows of sfo_survey with invalid dest_size values.\n",
    "\n",
    "# Find bad dest_size rows\n",
    "sfo %>% \n",
    "  # Join with dest_sizes data frame to get bad dest_size rows\n",
    "  anti_join(dest_sizes, by = \"dest_size\") %>%\n",
    "  # Select id, airline, destination, and dest_size cols\n",
    "  select(id,airline, destination, dest_size)"
   ]
  },
  {
   "cell_type": "code",
   "execution_count": 8,
   "metadata": {},
   "outputs": [
    {
     "data": {
      "text/html": [
       "<table>\n",
       "<thead><tr><th scope=col>dest_size</th><th scope=col>n</th></tr></thead>\n",
       "<tbody>\n",
       "\t<tr><td>Hub   </td><td>1756  </td></tr>\n",
       "\t<tr><td>Large </td><td> 143  </td></tr>\n",
       "\t<tr><td>Medium</td><td> 682  </td></tr>\n",
       "\t<tr><td>Small </td><td> 225  </td></tr>\n",
       "</tbody>\n",
       "</table>\n"
      ],
      "text/latex": [
       "\\begin{tabular}{r|ll}\n",
       " dest\\_size & n\\\\\n",
       "\\hline\n",
       "\t Hub    & 1756  \\\\\n",
       "\t Large  &  143  \\\\\n",
       "\t Medium &  682  \\\\\n",
       "\t Small  &  225  \\\\\n",
       "\\end{tabular}\n"
      ],
      "text/markdown": [
       "\n",
       "| dest_size | n |\n",
       "|---|---|\n",
       "| Hub    | 1756   |\n",
       "| Large  |  143   |\n",
       "| Medium |  682   |\n",
       "| Small  |  225   |\n",
       "\n"
      ],
      "text/plain": [
       "  dest_size n   \n",
       "1 Hub       1756\n",
       "2 Large      143\n",
       "3 Medium     682\n",
       "4 Small      225"
      ]
     },
     "metadata": {},
     "output_type": "display_data"
    }
   ],
   "source": [
    "# Use the correct filtering join on sfo_survey and dest_sizes to get the rows of sfo_survey that have a valid dest_size.\n",
    "\n",
    "# Remove bad dest_size rows\n",
    "sfo %>% \n",
    "  # Join with dest_sizes\n",
    "  semi_join(dest_sizes, by = \"dest_size\") %>%\n",
    "  # Count the number of each dest_size\n",
    "  count(dest_size)"
   ]
  },
  {
   "cell_type": "markdown",
   "metadata": {},
   "source": [
    "### Identifying inconsistency\n",
    "In the video exercise, you learned about different kinds of inconsistencies that can occur within categories, making it look like a variable has more categories than it should.\n",
    "\n",
    "In this exercise, you'll continue working with the sfo_survey dataset. You'll examine the dest_size column again as well as the cleanliness column and determine what kind of issues, if any, these two categorical variables face."
   ]
  },
  {
   "cell_type": "code",
   "execution_count": 9,
   "metadata": {},
   "outputs": [
    {
     "data": {
      "text/html": [
       "<table>\n",
       "<thead><tr><th scope=col>dest_size</th><th scope=col>n</th></tr></thead>\n",
       "<tbody>\n",
       "\t<tr><td>  Small  </td><td>   1     </td></tr>\n",
       "\t<tr><td> Hub     </td><td>   1     </td></tr>\n",
       "\t<tr><td>Hub      </td><td>1756     </td></tr>\n",
       "\t<tr><td>Large    </td><td> 143     </td></tr>\n",
       "\t<tr><td>Large    </td><td>   1     </td></tr>\n",
       "\t<tr><td>Medium   </td><td> 682     </td></tr>\n",
       "\t<tr><td>Small    </td><td> 225     </td></tr>\n",
       "</tbody>\n",
       "</table>\n"
      ],
      "text/latex": [
       "\\begin{tabular}{r|ll}\n",
       " dest\\_size & n\\\\\n",
       "\\hline\n",
       "\t   Small   &    1     \\\\\n",
       "\t  Hub      &    1     \\\\\n",
       "\t Hub       & 1756     \\\\\n",
       "\t Large     &  143     \\\\\n",
       "\t Large     &    1     \\\\\n",
       "\t Medium    &  682     \\\\\n",
       "\t Small     &  225     \\\\\n",
       "\\end{tabular}\n"
      ],
      "text/markdown": [
       "\n",
       "| dest_size | n |\n",
       "|---|---|\n",
       "|   Small   |    1      |\n",
       "|  Hub      |    1      |\n",
       "| Hub       | 1756      |\n",
       "| Large     |  143      |\n",
       "| Large     |    1      |\n",
       "| Medium    |  682      |\n",
       "| Small     |  225      |\n",
       "\n"
      ],
      "text/plain": [
       "  dest_size n   \n",
       "1   Small      1\n",
       "2  Hub         1\n",
       "3 Hub       1756\n",
       "4 Large      143\n",
       "5 Large        1\n",
       "6 Medium     682\n",
       "7 Small      225"
      ]
     },
     "metadata": {},
     "output_type": "display_data"
    }
   ],
   "source": [
    "# Count the number of occurrences of each category of the dest_size variable of sfo_survey.\n",
    "\n",
    "# Count dest_size\n",
    "sfo %>%\n",
    "  count(dest_size)"
   ]
  },
  {
   "cell_type": "code",
   "execution_count": 11,
   "metadata": {},
   "outputs": [
    {
     "data": {
      "text/html": [
       "<table>\n",
       "<thead><tr><th scope=col>cleanliness</th><th scope=col>n</th></tr></thead>\n",
       "<tbody>\n",
       "\t<tr><td>Average       </td><td> 433          </td></tr>\n",
       "\t<tr><td>Clean         </td><td> 970          </td></tr>\n",
       "\t<tr><td>Dirty         </td><td>   2          </td></tr>\n",
       "\t<tr><td>Somewhat clean</td><td>1254          </td></tr>\n",
       "\t<tr><td>Somewhat dirty</td><td>  30          </td></tr>\n",
       "\t<tr><td>NA            </td><td> 120          </td></tr>\n",
       "</tbody>\n",
       "</table>\n"
      ],
      "text/latex": [
       "\\begin{tabular}{r|ll}\n",
       " cleanliness & n\\\\\n",
       "\\hline\n",
       "\t Average        &  433          \\\\\n",
       "\t Clean          &  970          \\\\\n",
       "\t Dirty          &    2          \\\\\n",
       "\t Somewhat clean & 1254          \\\\\n",
       "\t Somewhat dirty &   30          \\\\\n",
       "\t NA             &  120          \\\\\n",
       "\\end{tabular}\n"
      ],
      "text/markdown": [
       "\n",
       "| cleanliness | n |\n",
       "|---|---|\n",
       "| Average        |  433           |\n",
       "| Clean          |  970           |\n",
       "| Dirty          |    2           |\n",
       "| Somewhat clean | 1254           |\n",
       "| Somewhat dirty |   30           |\n",
       "| NA             |  120           |\n",
       "\n"
      ],
      "text/plain": [
       "  cleanliness    n   \n",
       "1 Average         433\n",
       "2 Clean           970\n",
       "3 Dirty             2\n",
       "4 Somewhat clean 1254\n",
       "5 Somewhat dirty   30\n",
       "6 NA              120"
      ]
     },
     "metadata": {},
     "output_type": "display_data"
    }
   ],
   "source": [
    "# Count cleanliness\n",
    "sfo %>%\n",
    "  count(cleanliness)"
   ]
  },
  {
   "cell_type": "markdown",
   "metadata": {},
   "source": [
    "### Correcting inconsistency\n",
    "Now that you've identified that dest_size has whitespace inconsistencies and cleanliness has capitalization inconsistencies, you'll use the new tools at your disposal to fix the inconsistent values in sfo_survey instead of removing the data points entirely, which could add bias to your dataset if more than 5% of the data points need to be dropped."
   ]
  },
  {
   "cell_type": "code",
   "execution_count": 13,
   "metadata": {},
   "outputs": [
    {
     "data": {
      "text/html": [
       "<table>\n",
       "<thead><tr><th scope=col>dest_size_trimmed</th><th scope=col>n</th></tr></thead>\n",
       "<tbody>\n",
       "\t<tr><td>Hub   </td><td>1757  </td></tr>\n",
       "\t<tr><td>Large </td><td> 144  </td></tr>\n",
       "\t<tr><td>Medium</td><td> 682  </td></tr>\n",
       "\t<tr><td>Small </td><td> 226  </td></tr>\n",
       "</tbody>\n",
       "</table>\n"
      ],
      "text/latex": [
       "\\begin{tabular}{r|ll}\n",
       " dest\\_size\\_trimmed & n\\\\\n",
       "\\hline\n",
       "\t Hub    & 1757  \\\\\n",
       "\t Large  &  144  \\\\\n",
       "\t Medium &  682  \\\\\n",
       "\t Small  &  226  \\\\\n",
       "\\end{tabular}\n"
      ],
      "text/markdown": [
       "\n",
       "| dest_size_trimmed | n |\n",
       "|---|---|\n",
       "| Hub    | 1757   |\n",
       "| Large  |  144   |\n",
       "| Medium |  682   |\n",
       "| Small  |  226   |\n",
       "\n"
      ],
      "text/plain": [
       "  dest_size_trimmed n   \n",
       "1 Hub               1757\n",
       "2 Large              144\n",
       "3 Medium             682\n",
       "4 Small              226"
      ]
     },
     "metadata": {},
     "output_type": "display_data"
    },
    {
     "data": {
      "text/html": [
       "<table>\n",
       "<thead><tr><th scope=col>cleanliness_lower</th><th scope=col>n</th></tr></thead>\n",
       "<tbody>\n",
       "\t<tr><td>average       </td><td> 433          </td></tr>\n",
       "\t<tr><td>clean         </td><td> 970          </td></tr>\n",
       "\t<tr><td>dirty         </td><td>   2          </td></tr>\n",
       "\t<tr><td>somewhat clean</td><td>1254          </td></tr>\n",
       "\t<tr><td>somewhat dirty</td><td>  30          </td></tr>\n",
       "\t<tr><td>NA            </td><td> 120          </td></tr>\n",
       "</tbody>\n",
       "</table>\n"
      ],
      "text/latex": [
       "\\begin{tabular}{r|ll}\n",
       " cleanliness\\_lower & n\\\\\n",
       "\\hline\n",
       "\t average        &  433          \\\\\n",
       "\t clean          &  970          \\\\\n",
       "\t dirty          &    2          \\\\\n",
       "\t somewhat clean & 1254          \\\\\n",
       "\t somewhat dirty &   30          \\\\\n",
       "\t NA             &  120          \\\\\n",
       "\\end{tabular}\n"
      ],
      "text/markdown": [
       "\n",
       "| cleanliness_lower | n |\n",
       "|---|---|\n",
       "| average        |  433           |\n",
       "| clean          |  970           |\n",
       "| dirty          |    2           |\n",
       "| somewhat clean | 1254           |\n",
       "| somewhat dirty |   30           |\n",
       "| NA             |  120           |\n",
       "\n"
      ],
      "text/plain": [
       "  cleanliness_lower n   \n",
       "1 average            433\n",
       "2 clean              970\n",
       "3 dirty                2\n",
       "4 somewhat clean    1254\n",
       "5 somewhat dirty      30\n",
       "6 NA                 120"
      ]
     },
     "metadata": {},
     "output_type": "display_data"
    }
   ],
   "source": [
    "library(stringr)\n",
    "# Add new columns to sfo_survey\n",
    "sfo <- sfo %>%\n",
    "  # dest_size_trimmed: dest_size without whitespace\n",
    "  mutate(dest_size_trimmed = str_trim(dest_size),\n",
    "         # cleanliness_lower: cleanliness converted to lowercase\n",
    "         cleanliness_lower = str_to_lower(cleanliness))\n",
    "\n",
    "# Count values of dest_size_trimmed\n",
    "sfo %>%\n",
    "count(dest_size_trimmed)\n",
    "\n",
    "# Count values of cleanliness_lower\n",
    "sfo %>%\n",
    "  count(cleanliness_lower)"
   ]
  },
  {
   "cell_type": "markdown",
   "metadata": {},
   "source": [
    "### Collapsing categories\n",
    "One of the tablets that participants filled out the sfo_survey on was not properly configured, allowing the response for dest_region to be free text instead of a dropdown menu. This resulted in some inconsistencies in the dest_region variable that you'll need to correct in this exercise to ensure that the numbers you report to your boss are as accurate as possible."
   ]
  },
  {
   "cell_type": "code",
   "execution_count": 14,
   "metadata": {},
   "outputs": [
    {
     "data": {
      "text/html": [
       "<table>\n",
       "<thead><tr><th scope=col>dest_region</th><th scope=col>n</th></tr></thead>\n",
       "<tbody>\n",
       "\t<tr><td>Asia                 </td><td>260                  </td></tr>\n",
       "\t<tr><td>Australia/New Zealand</td><td> 66                  </td></tr>\n",
       "\t<tr><td>Canada/Mexico        </td><td>220                  </td></tr>\n",
       "\t<tr><td>Central/South America</td><td> 29                  </td></tr>\n",
       "\t<tr><td>East US              </td><td>498                  </td></tr>\n",
       "\t<tr><td>Europe               </td><td>401                  </td></tr>\n",
       "\t<tr><td>Middle East          </td><td> 79                  </td></tr>\n",
       "\t<tr><td>Midwest US           </td><td>281                  </td></tr>\n",
       "\t<tr><td>West US              </td><td>975                  </td></tr>\n",
       "</tbody>\n",
       "</table>\n"
      ],
      "text/latex": [
       "\\begin{tabular}{r|ll}\n",
       " dest\\_region & n\\\\\n",
       "\\hline\n",
       "\t Asia                  & 260                  \\\\\n",
       "\t Australia/New Zealand &  66                  \\\\\n",
       "\t Canada/Mexico         & 220                  \\\\\n",
       "\t Central/South America &  29                  \\\\\n",
       "\t East US               & 498                  \\\\\n",
       "\t Europe                & 401                  \\\\\n",
       "\t Middle East           &  79                  \\\\\n",
       "\t Midwest US            & 281                  \\\\\n",
       "\t West US               & 975                  \\\\\n",
       "\\end{tabular}\n"
      ],
      "text/markdown": [
       "\n",
       "| dest_region | n |\n",
       "|---|---|\n",
       "| Asia                  | 260                   |\n",
       "| Australia/New Zealand |  66                   |\n",
       "| Canada/Mexico         | 220                   |\n",
       "| Central/South America |  29                   |\n",
       "| East US               | 498                   |\n",
       "| Europe                | 401                   |\n",
       "| Middle East           |  79                   |\n",
       "| Midwest US            | 281                   |\n",
       "| West US               | 975                   |\n",
       "\n"
      ],
      "text/plain": [
       "  dest_region           n  \n",
       "1 Asia                  260\n",
       "2 Australia/New Zealand  66\n",
       "3 Canada/Mexico         220\n",
       "4 Central/South America  29\n",
       "5 East US               498\n",
       "6 Europe                401\n",
       "7 Middle East            79\n",
       "8 Midwest US            281\n",
       "9 West US               975"
      ]
     },
     "metadata": {},
     "output_type": "display_data"
    },
    {
     "name": "stderr",
     "output_type": "stream",
     "text": [
      "Warning message:\n",
      "\"Problem with `mutate()` input `dest_region_collapsed`.\n",
      "i Unknown levels in `f`: eur, Europ, EU\n",
      "i Input `dest_region_collapsed` is `fct_collapse(dest_region, Europe = europe_categories)`.\"Warning message:\n",
      "\"Unknown levels in `f`: eur, Europ, EU\""
     ]
    },
    {
     "data": {
      "text/html": [
       "<table>\n",
       "<thead><tr><th scope=col>dest_region_collapsed</th><th scope=col>n</th></tr></thead>\n",
       "<tbody>\n",
       "\t<tr><td>Asia                 </td><td>260                  </td></tr>\n",
       "\t<tr><td>Australia/New Zealand</td><td> 66                  </td></tr>\n",
       "\t<tr><td>Canada/Mexico        </td><td>220                  </td></tr>\n",
       "\t<tr><td>Central/South America</td><td> 29                  </td></tr>\n",
       "\t<tr><td>East US              </td><td>498                  </td></tr>\n",
       "\t<tr><td>Europe               </td><td>401                  </td></tr>\n",
       "\t<tr><td>Middle East          </td><td> 79                  </td></tr>\n",
       "\t<tr><td>Midwest US           </td><td>281                  </td></tr>\n",
       "\t<tr><td>West US              </td><td>975                  </td></tr>\n",
       "</tbody>\n",
       "</table>\n"
      ],
      "text/latex": [
       "\\begin{tabular}{r|ll}\n",
       " dest\\_region\\_collapsed & n\\\\\n",
       "\\hline\n",
       "\t Asia                  & 260                  \\\\\n",
       "\t Australia/New Zealand &  66                  \\\\\n",
       "\t Canada/Mexico         & 220                  \\\\\n",
       "\t Central/South America &  29                  \\\\\n",
       "\t East US               & 498                  \\\\\n",
       "\t Europe                & 401                  \\\\\n",
       "\t Middle East           &  79                  \\\\\n",
       "\t Midwest US            & 281                  \\\\\n",
       "\t West US               & 975                  \\\\\n",
       "\\end{tabular}\n"
      ],
      "text/markdown": [
       "\n",
       "| dest_region_collapsed | n |\n",
       "|---|---|\n",
       "| Asia                  | 260                   |\n",
       "| Australia/New Zealand |  66                   |\n",
       "| Canada/Mexico         | 220                   |\n",
       "| Central/South America |  29                   |\n",
       "| East US               | 498                   |\n",
       "| Europe                | 401                   |\n",
       "| Middle East           |  79                   |\n",
       "| Midwest US            | 281                   |\n",
       "| West US               | 975                   |\n",
       "\n"
      ],
      "text/plain": [
       "  dest_region_collapsed n  \n",
       "1 Asia                  260\n",
       "2 Australia/New Zealand  66\n",
       "3 Canada/Mexico         220\n",
       "4 Central/South America  29\n",
       "5 East US               498\n",
       "6 Europe                401\n",
       "7 Middle East            79\n",
       "8 Midwest US            281\n",
       "9 West US               975"
      ]
     },
     "metadata": {},
     "output_type": "display_data"
    }
   ],
   "source": [
    "library(forcats)\n",
    "\n",
    "# Count categories of dest_region\n",
    "sfo %>%\n",
    "  count(dest_region)\n",
    "\n",
    "# Categories to map to Europe\n",
    "europe_categories <- c(\"eur\", \"Europ\", \"EU\")\n",
    "\n",
    "# Add a new col dest_region_collapsed\n",
    "sfo %>%\n",
    "  # Map all categories in europe_categories to Europe\n",
    "  mutate(dest_region_collapsed = fct_collapse(dest_region, \n",
    "                                     Europe = europe_categories)) %>%\n",
    "  # Count categories of dest_region_collapsed\n",
    "  count(dest_region_collapsed)"
   ]
  }
 ],
 "metadata": {
  "kernelspec": {
   "display_name": "R",
   "language": "R",
   "name": "ir"
  },
  "language_info": {
   "codemirror_mode": "r",
   "file_extension": ".r",
   "mimetype": "text/x-r-source",
   "name": "R",
   "pygments_lexer": "r",
   "version": "3.6.1"
  }
 },
 "nbformat": 4,
 "nbformat_minor": 4
}
