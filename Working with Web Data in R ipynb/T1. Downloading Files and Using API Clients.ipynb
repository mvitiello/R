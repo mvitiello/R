{
 "cells": [
  {
   "cell_type": "markdown",
   "metadata": {},
   "source": [
    "# Working with Web Data in R\n",
    "Most of the useful data in the world, from economic data to news content to geographic information, lives somewhere on the internet - and this course will teach you how to access it. You'll explore how to work with APIs (computer-readable interfaces to websites), access data from Wikipedia and other sources, and build your own simple API client. For those occasions where APIs are not available, you'll find out how to use R to scrape information out of web pages. In the process you'll learn how to get data out of even the most stubborn website, and how to turn it into a format ready for further analysis. The packages you'll use and learn your way around are rvest, httr, xml2 and jsonlite, along with particular API client packages like WikipediR and pageviews."
   ]
  },
  {
   "cell_type": "markdown",
   "metadata": {},
   "source": [
    "## Downloading Files and Using API Clients\n",
    "Sometimes getting data off the internet is very, very simple - it's stored in a format that R can handle and just lives on a server somewhere, or it's in a more complex format and perhaps part of an API but there's an R package designed to make using it a piece of cake. This chapter will explore how to download and read in static files, and how to use APIs when pre-existing clients are available."
   ]
  },
  {
   "cell_type": "markdown",
   "metadata": {},
   "source": [
    "### Downloading files and reading them into R\n",
    "In this first exercise we're going to look at reading already-formatted datasets - CSV or TSV files, with which you'll no doubt be familiar! - into R from the internet. This is a lot easier than it might sound because R's file-reading functions accept not just file paths, but also URLs."
   ]
  },
  {
   "cell_type": "code",
   "execution_count": 1,
   "metadata": {},
   "outputs": [
    {
     "data": {
      "text/html": [
       "<table>\n",
       "<thead><tr><th scope=col>weight</th><th scope=col>feed</th></tr></thead>\n",
       "<tbody>\n",
       "\t<tr><td>179      </td><td>horsebean</td></tr>\n",
       "\t<tr><td>160      </td><td>horsebean</td></tr>\n",
       "\t<tr><td>136      </td><td>horsebean</td></tr>\n",
       "\t<tr><td>227      </td><td>horsebean</td></tr>\n",
       "\t<tr><td>217      </td><td>horsebean</td></tr>\n",
       "\t<tr><td>168      </td><td>horsebean</td></tr>\n",
       "</tbody>\n",
       "</table>\n"
      ],
      "text/latex": [
       "\\begin{tabular}{r|ll}\n",
       " weight & feed\\\\\n",
       "\\hline\n",
       "\t 179       & horsebean\\\\\n",
       "\t 160       & horsebean\\\\\n",
       "\t 136       & horsebean\\\\\n",
       "\t 227       & horsebean\\\\\n",
       "\t 217       & horsebean\\\\\n",
       "\t 168       & horsebean\\\\\n",
       "\\end{tabular}\n"
      ],
      "text/markdown": [
       "\n",
       "| weight | feed |\n",
       "|---|---|\n",
       "| 179       | horsebean |\n",
       "| 160       | horsebean |\n",
       "| 136       | horsebean |\n",
       "| 227       | horsebean |\n",
       "| 217       | horsebean |\n",
       "| 168       | horsebean |\n",
       "\n"
      ],
      "text/plain": [
       "  weight feed     \n",
       "1 179    horsebean\n",
       "2 160    horsebean\n",
       "3 136    horsebean\n",
       "4 227    horsebean\n",
       "5 217    horsebean\n",
       "6 168    horsebean"
      ]
     },
     "metadata": {},
     "output_type": "display_data"
    },
    {
     "data": {
      "text/html": [
       "<table>\n",
       "<thead><tr><th scope=col>weight</th><th scope=col>feed</th></tr></thead>\n",
       "<tbody>\n",
       "\t<tr><td>179      </td><td>horsebean</td></tr>\n",
       "\t<tr><td>160      </td><td>horsebean</td></tr>\n",
       "\t<tr><td>136      </td><td>horsebean</td></tr>\n",
       "\t<tr><td>227      </td><td>horsebean</td></tr>\n",
       "\t<tr><td>217      </td><td>horsebean</td></tr>\n",
       "\t<tr><td>168      </td><td>horsebean</td></tr>\n",
       "</tbody>\n",
       "</table>\n"
      ],
      "text/latex": [
       "\\begin{tabular}{r|ll}\n",
       " weight & feed\\\\\n",
       "\\hline\n",
       "\t 179       & horsebean\\\\\n",
       "\t 160       & horsebean\\\\\n",
       "\t 136       & horsebean\\\\\n",
       "\t 227       & horsebean\\\\\n",
       "\t 217       & horsebean\\\\\n",
       "\t 168       & horsebean\\\\\n",
       "\\end{tabular}\n"
      ],
      "text/markdown": [
       "\n",
       "| weight | feed |\n",
       "|---|---|\n",
       "| 179       | horsebean |\n",
       "| 160       | horsebean |\n",
       "| 136       | horsebean |\n",
       "| 227       | horsebean |\n",
       "| 217       | horsebean |\n",
       "| 168       | horsebean |\n",
       "\n"
      ],
      "text/plain": [
       "  weight feed     \n",
       "1 179    horsebean\n",
       "2 160    horsebean\n",
       "3 136    horsebean\n",
       "4 227    horsebean\n",
       "5 217    horsebean\n",
       "6 168    horsebean"
      ]
     },
     "metadata": {},
     "output_type": "display_data"
    }
   ],
   "source": [
    "# Here are the URLs! As you can see they're just normal strings\n",
    "csv_url <- \"http://s3.amazonaws.com/assets.datacamp.com/production/course_1561/datasets/chickwts.csv\"\n",
    "tsv_url <- \"http://s3.amazonaws.com/assets.datacamp.com/production/course_3026/datasets/tsv_data.tsv\"\n",
    "\n",
    "# Read a file in from the CSV URL and assign it to csv_data\n",
    "csv_data <- read.csv(csv_url)\n",
    "\n",
    "# Read a file in from the TSV URL and assign it to tsv_data\n",
    "tsv_data <- read.delim(tsv_url)\n",
    "\n",
    "# Examine the objects with head()\n",
    "head(csv_data)\n",
    "head(tsv_data)"
   ]
  },
  {
   "cell_type": "markdown",
   "metadata": {},
   "source": [
    "### Saving raw files to disk\n",
    "Sometimes just reading the file in from the web is enough, but often you'll want to store it locally so that you can refer back to it. This also lets you avoid having to spend the start of every analysis session twiddling your thumbs while particularly large files download.\n",
    "\n",
    "Helpfully, R has download.file(), a function that lets you do just that: download a file to a location of your choice on your computer. It takes two arguments; url, indicating the URL to read from, and destfile, the destination to write the downloaded file to. In this case, we've pre-defined the URL - once again, it's csv_url."
   ]
  },
  {
   "cell_type": "code",
   "execution_count": 3,
   "metadata": {},
   "outputs": [
    {
     "data": {
      "text/html": [
       "<table>\n",
       "<thead><tr><th scope=col>weight</th><th scope=col>feed</th></tr></thead>\n",
       "<tbody>\n",
       "\t<tr><td>179      </td><td>horsebean</td></tr>\n",
       "\t<tr><td>160      </td><td>horsebean</td></tr>\n",
       "\t<tr><td>136      </td><td>horsebean</td></tr>\n",
       "\t<tr><td>227      </td><td>horsebean</td></tr>\n",
       "\t<tr><td>217      </td><td>horsebean</td></tr>\n",
       "\t<tr><td>168      </td><td>horsebean</td></tr>\n",
       "</tbody>\n",
       "</table>\n"
      ],
      "text/latex": [
       "\\begin{tabular}{r|ll}\n",
       " weight & feed\\\\\n",
       "\\hline\n",
       "\t 179       & horsebean\\\\\n",
       "\t 160       & horsebean\\\\\n",
       "\t 136       & horsebean\\\\\n",
       "\t 227       & horsebean\\\\\n",
       "\t 217       & horsebean\\\\\n",
       "\t 168       & horsebean\\\\\n",
       "\\end{tabular}\n"
      ],
      "text/markdown": [
       "\n",
       "| weight | feed |\n",
       "|---|---|\n",
       "| 179       | horsebean |\n",
       "| 160       | horsebean |\n",
       "| 136       | horsebean |\n",
       "| 227       | horsebean |\n",
       "| 217       | horsebean |\n",
       "| 168       | horsebean |\n",
       "\n"
      ],
      "text/plain": [
       "  weight feed     \n",
       "1 179    horsebean\n",
       "2 160    horsebean\n",
       "3 136    horsebean\n",
       "4 227    horsebean\n",
       "5 217    horsebean\n",
       "6 168    horsebean"
      ]
     },
     "metadata": {},
     "output_type": "display_data"
    }
   ],
   "source": [
    "# Download the file with download.file()\n",
    "download.file(url = csv_url, destfile = \"feed_data.csv\")\n",
    "\n",
    "# Read it in with read.csv()\n",
    "csv_data <- read.csv(\"feed_data.csv\")\n",
    "\n",
    "# Examine the objects with head()\n",
    "head(csv_data)"
   ]
  },
  {
   "cell_type": "markdown",
   "metadata": {},
   "source": [
    "### Saving formatted files to disk\n",
    "Whether you're downloading the raw files with download.file() or using read.csv() and its sibling functions, at some point you're probably going to find the need to modify your input data, and then save the modified data to disk so you don't lose the changes.\n",
    "\n",
    "You could use write.table(), but then you have to worry about accidentally writing out data in a format R can't read back in. An easy way to avoid this risk is to use saveRDS() and readRDS(), which save R objects in an R-specific file format, with the data structure intact. That means you can use it for any type of R object (even ones that don't turn into tables easily), and not worry you'll lose data reading it back in. saveRDS() takes two arguments, object, pointing to the R object to save and file pointing to where to save it to. readRDS() expects file, referring to the path to the RDS file to read in.\n",
    "\n",
    "In this example we're going to modify the data you already read in, which is predefined as csv_data, and write the modified version out to a file before reading it in again."
   ]
  },
  {
   "cell_type": "code",
   "execution_count": 8,
   "metadata": {},
   "outputs": [
    {
     "name": "stdout",
     "output_type": "stream",
     "text": [
      "'data.frame':\t71 obs. of  3 variables:\n",
      " $ weight       : int  179 160 136 227 217 168 108 124 143 140 ...\n",
      " $ feed         : Factor w/ 6 levels \"casein\",\"horsebean\",..: 2 2 2 2 2 2 2 2 2 2 ...\n",
      " $ square_weight: num  32041 25600 18496 51529 47089 ...\n"
     ]
    },
    {
     "data": {
      "text/html": [
       "<table>\n",
       "<thead><tr><th scope=col>weight</th><th scope=col>feed</th><th scope=col>square_weight</th></tr></thead>\n",
       "<tbody>\n",
       "\t<tr><td>179      </td><td>horsebean</td><td>32041    </td></tr>\n",
       "\t<tr><td>160      </td><td>horsebean</td><td>25600    </td></tr>\n",
       "\t<tr><td>136      </td><td>horsebean</td><td>18496    </td></tr>\n",
       "\t<tr><td>227      </td><td>horsebean</td><td>51529    </td></tr>\n",
       "\t<tr><td>217      </td><td>horsebean</td><td>47089    </td></tr>\n",
       "\t<tr><td>168      </td><td>horsebean</td><td>28224    </td></tr>\n",
       "</tbody>\n",
       "</table>\n"
      ],
      "text/latex": [
       "\\begin{tabular}{r|lll}\n",
       " weight & feed & square\\_weight\\\\\n",
       "\\hline\n",
       "\t 179       & horsebean & 32041    \\\\\n",
       "\t 160       & horsebean & 25600    \\\\\n",
       "\t 136       & horsebean & 18496    \\\\\n",
       "\t 227       & horsebean & 51529    \\\\\n",
       "\t 217       & horsebean & 47089    \\\\\n",
       "\t 168       & horsebean & 28224    \\\\\n",
       "\\end{tabular}\n"
      ],
      "text/markdown": [
       "\n",
       "| weight | feed | square_weight |\n",
       "|---|---|---|\n",
       "| 179       | horsebean | 32041     |\n",
       "| 160       | horsebean | 25600     |\n",
       "| 136       | horsebean | 18496     |\n",
       "| 227       | horsebean | 51529     |\n",
       "| 217       | horsebean | 47089     |\n",
       "| 168       | horsebean | 28224     |\n",
       "\n"
      ],
      "text/plain": [
       "  weight feed      square_weight\n",
       "1 179    horsebean 32041        \n",
       "2 160    horsebean 25600        \n",
       "3 136    horsebean 18496        \n",
       "4 227    horsebean 51529        \n",
       "5 217    horsebean 47089        \n",
       "6 168    horsebean 28224        "
      ]
     },
     "metadata": {},
     "output_type": "display_data"
    }
   ],
   "source": [
    "# Add a new column: square_weight\n",
    "csv_data$square_weight <- (csv_data$weight)**2\n",
    "\n",
    "# Save it to disk with saveRDS()\n",
    "saveRDS(object = csv_data, file = \"modified_feed_data.RDS\" )\n",
    "\n",
    "# Read it back in with readRDS()\n",
    "modified_feed_data <- readRDS(file = \"modified_feed_data.RDS\")\n",
    "\n",
    "# Examine modified_feed_data\n",
    "str(modified_feed_data)\n",
    "head(modified_feed_data)"
   ]
  },
  {
   "cell_type": "markdown",
   "metadata": {},
   "source": [
    "### Using API clients\n",
    "So we know that APIs are server components to make it easy for your code to interact with a service and get data from it. We also know that R features many \"clients\" - packages that wrap around connections to APIs so you don't have to worry about the details.\n",
    "\n",
    "Let's look at a really simple API client - the pageviews package, which acts as a client to Wikipedia's API of pageview data. As with other R API clients, it's formatted as a package, and lives on CRAN - the central repository of R packages. The goal here is just to show how simple clients are to use: they look just like other R code, because they are just like other R code."
   ]
  },
  {
   "cell_type": "code",
   "execution_count": 10,
   "metadata": {},
   "outputs": [
    {
     "name": "stdout",
     "output_type": "stream",
     "text": [
      "package 'pageviews' successfully unpacked and MD5 sums checked\n",
      "\n",
      "The downloaded binary packages are in\n",
      "\tC:\\Users\\Migue\\AppData\\Local\\Temp\\RtmpCQgXnD\\downloaded_packages\n"
     ]
    },
    {
     "name": "stderr",
     "output_type": "stream",
     "text": [
      "Warning message:\n",
      "\"package 'pageviews' was built under R version 3.6.3\""
     ]
    },
    {
     "name": "stdout",
     "output_type": "stream",
     "text": [
      "'data.frame':\t1 obs. of  8 variables:\n",
      " $ project    : chr \"wikipedia\"\n",
      " $ language   : chr \"en\"\n",
      " $ article    : chr \"Hadley_Wickham\"\n",
      " $ access     : chr \"all-access\"\n",
      " $ agent      : chr \"all-agents\"\n",
      " $ granularity: chr \"daily\"\n",
      " $ date       : POSIXct, format: \"2015-10-01\"\n",
      " $ views      : num 53\n"
     ]
    }
   ],
   "source": [
    "# Load pageviews\n",
    "# install.packages(\"pageviews\")\n",
    "library(pageviews)\n",
    "\n",
    "# Get the pageviews for \"Hadley Wickham\"\n",
    "hadley_pageviews <- article_pageviews(project = \"en.wikipedia\", article = \"Hadley Wickham\")\n",
    "\n",
    "# Examine the resulting object\n",
    "str(hadley_pageviews)"
   ]
  },
  {
   "cell_type": "markdown",
   "metadata": {},
   "source": [
    "### Using access tokens\n",
    "As we discussed in the last video, it's common for APIs to require access tokens - unique keys that verify you're authorised to use a service. They're usually pretty easy to use with an API client.\n",
    "\n",
    "To show how they work, and how easy it can be, we're going to use the R client for the Wordnik dictionary and word use service - 'birdnik' - and an API token we prepared earlier. Birdnik is fairly simple (I wrote it!) and lets you get all sorts of interesting information about word usage in published works. For example, to get the frequency of the use of the word \"chocolate\", you would write:\n",
    "\n",
    "word_frequency(api_key, \"chocolate\")\n",
    "In this exercise we're going to look at the word \"vector\" (since it's a common word in R!) using a pre-existing API key (stored as api_key)"
   ]
  },
  {
   "cell_type": "code",
   "execution_count": null,
   "metadata": {},
   "outputs": [],
   "source": [
    "# Load birdnik\n",
    "# install.packages(\"birdnik\")\n",
    "library(birdnik)\n",
    "\n",
    "# Get the word frequency for \"vector\", using api_key to access it\n",
    "vector_frequency <- word_frequency(api_key, \"vector\")"
   ]
  }
 ],
 "metadata": {
  "kernelspec": {
   "display_name": "R",
   "language": "R",
   "name": "ir"
  },
  "language_info": {
   "codemirror_mode": "r",
   "file_extension": ".r",
   "mimetype": "text/x-r-source",
   "name": "R",
   "pygments_lexer": "r",
   "version": "3.6.1"
  }
 },
 "nbformat": 4,
 "nbformat_minor": 4
}
