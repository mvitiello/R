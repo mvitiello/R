{
 "cells": [
  {
   "cell_type": "markdown",
   "metadata": {},
   "source": [
    "## CSS Web Scraping and Final Case Study\n",
    "\n",
    "CSS path-based web scraping is a far-more-pleasant alternative to using XPATHs. You'll start this chapter by learning about CSS, and how to leverage it for web scraping. Then, you'll work through a final case study that combines everything you've learnt so far to write a function that queries an API, parses the response and returns data in a nice form."
   ]
  },
  {
   "cell_type": "markdown",
   "metadata": {},
   "source": [
    "### Using CSS to scrape nodes\n",
    "As mentioned in the video, CSS is a way to add design information to HTML, that instructs the browser on how to display the content. You can leverage these design instructions to identify content on the page.\n",
    "\n",
    "You've already used html_node(), but it's more common with CSS selectors to use html_nodes() since you'll often want more than one node returned. Both functions allow you to specify a css argument to use a CSS selector, instead of specifying the xpath argument.\n",
    "\n",
    "What do CSS selectors look like? Try these examples to see a few possibilities."
   ]
  },
  {
   "cell_type": "code",
   "execution_count": 2,
   "metadata": {},
   "outputs": [
    {
     "data": {
      "text/plain": [
       "{html_document}\n",
       "<html class=\"client-nojs\" lang=\"en\" dir=\"ltr\">\n",
       "[1] <head>\\n<meta http-equiv=\"Content-Type\" content=\"text/html; charset=UTF-8 ...\n",
       "[2] <body class=\"mediawiki ltr sitedir-ltr mw-hide-empty-elt ns-0 ns-subject  ..."
      ]
     },
     "metadata": {},
     "output_type": "display_data"
    },
    {
     "data": {
      "text/plain": [
       "{xml_nodeset (3)}\n",
       "[1] <table class=\"infobox biography vcard\" style=\"width:22em\"><tbody>\\n<tr><t ...\n",
       "[2] <table class=\"nowraplinks mw-collapsible autocollapse navbox-inner\" style ...\n",
       "[3] <table class=\"nowraplinks hlist navbox-inner\" style=\"border-spacing:0;bac ..."
      ]
     },
     "metadata": {},
     "output_type": "display_data"
    },
    {
     "data": {
      "text/plain": [
       "{xml_nodeset (1)}\n",
       "[1] <table class=\"infobox biography vcard\" style=\"width:22em\"><tbody>\\n<tr><t ..."
      ]
     },
     "metadata": {},
     "output_type": "display_data"
    },
    {
     "data": {
      "text/plain": [
       "{xml_nodeset (1)}\n",
       "[1] <h1 id=\"firstHeading\" class=\"firstHeading\" lang=\"en\">Hadley Wickham</h1>"
      ]
     },
     "metadata": {},
     "output_type": "display_data"
    }
   ],
   "source": [
    "# Load rvest\n",
    "library(rvest)\n",
    "\n",
    "# Hadley Wickham's Wikipedia page\n",
    "test_url <- \"https://en.wikipedia.org/wiki/Hadley_Wickham\"\n",
    "\n",
    "# Read the URL stored as \"test_url\" with read_html()\n",
    "test_xml <- read_html(test_url)\n",
    "\n",
    "# Print test_xml\n",
    "test_xml\n",
    "\n",
    "# Select the table elements\n",
    "html_nodes(test_xml, css = \"table\")\n",
    "\n",
    "# Select elements with class = \"infobox\"\n",
    "html_nodes(test_xml, css = \".infobox\")\n",
    "\n",
    "# select all elements that have the attribute with id = \"firstHeading\"\n",
    "html_nodes(test_xml, css = \"#firstHeading\")"
   ]
  },
  {
   "cell_type": "markdown",
   "metadata": {},
   "source": [
    "### Scraping names\n",
    "You might have noticed in the previous exercise, to select elements with a certain class, you add a . in front of the class name. If you need to select an element based on its id, you add a # in front of the id name.\n",
    "\n",
    "For example if this element was inside your HTML document:\n",
    "\n",
    "'<'h1 class = \"heading\" id = \"intro\">\n",
    "\n",
    "  Introduction\n",
    "\n",
    "'<'/h1>\n",
    "\n",
    "You could select it by its class using the CSS selector \".heading\", or by its id using the CSS selector \"#intro\".\n",
    "\n",
    "Once you've selected an element with a CSS selector, you can get the element tag name just like you did with XPATH selectors, with html_name(). "
   ]
  },
  {
   "cell_type": "code",
   "execution_count": 3,
   "metadata": {},
   "outputs": [
    {
     "name": "stdout",
     "output_type": "stream",
     "text": [
      "[1] \"table\"\n"
     ]
    }
   ],
   "source": [
    "# Extract element with class infobox\n",
    "infobox_element <- html_nodes(test_xml, css = \".infobox\")\n",
    "\n",
    "# Get tag name of infobox_element\n",
    "element_name <- html_name(infobox_element)\n",
    "\n",
    "# Print element_name\n",
    "print(element_name)"
   ]
  },
  {
   "cell_type": "markdown",
   "metadata": {},
   "source": [
    "### Scraping text\n",
    "Of course you can get the contents of a node extracted using a CSS selector too, with html_text().\n",
    "\n",
    "Can you put the pieces together to get the page title like you did in Chapter 4?"
   ]
  },
  {
   "cell_type": "code",
   "execution_count": 4,
   "metadata": {},
   "outputs": [
    {
     "data": {
      "text/html": [
       "'Hadley Wickham'"
      ],
      "text/latex": [
       "'Hadley Wickham'"
      ],
      "text/markdown": [
       "'Hadley Wickham'"
      ],
      "text/plain": [
       "[1] \"Hadley Wickham\""
      ]
     },
     "metadata": {},
     "output_type": "display_data"
    }
   ],
   "source": [
    "# Extract element with class fn\n",
    "page_name <- html_node(x = infobox_element, \".fn\")\n",
    "\n",
    "# Get contents of page_name\n",
    "page_title <- html_text(page_name)\n",
    "\n",
    "# Print page_title\n",
    "page_title"
   ]
  },
  {
   "cell_type": "markdown",
   "metadata": {},
   "source": [
    "### API calls\n",
    "Your first step is to use the Wikipedia API to get the page contents for a specific page. We'll continue to work with the Hadley Wickham page, but as your last exercise, you'll make it more general.\n",
    "\n",
    "To get the content of a page from the Wikipedia API you need to use a parameter based URL. The URL you want is\n",
    "\n",
    "https://en.wikipedia.org/w/api.php?action=parse&page=Hadley%20Wickham&format=xml\n",
    "\n",
    "which specifies that you want the parsed content (i.e the HTML) for the \"Hadley Wickham\" page, and the API response should be XML.\n",
    "\n",
    "In this exercise you'll make the request with GET() and parse the XML response with content()."
   ]
  },
  {
   "cell_type": "code",
   "execution_count": 5,
   "metadata": {},
   "outputs": [
    {
     "name": "stderr",
     "output_type": "stream",
     "text": [
      "Warning message:\n",
      "\"package 'httr' was built under R version 3.6.3\""
     ]
    },
    {
     "data": {
      "text/plain": [
       "{xml_document}\n",
       "<api>\n",
       "[1] <parse title=\"Hadley Wickham\" pageid=\"41916270\" revid=\"993139613\" display ..."
      ]
     },
     "metadata": {},
     "output_type": "display_data"
    }
   ],
   "source": [
    "# Load httr\n",
    "library(httr)\n",
    "\n",
    "# The API url\n",
    "base_url <- \"https://en.wikipedia.org/w/api.php\"\n",
    "\n",
    "# Set query parameters\n",
    "query_params <- list(action = \"parse\", \n",
    "  page = \"Hadley Wickham\", \n",
    "  format = \"xml\")\n",
    "\n",
    "# Get data from API\n",
    "resp <- GET(url = base_url, query = query_params)\n",
    "    \n",
    "# Parse response\n",
    "resp_xml <- content(resp)\n",
    "resp_xml"
   ]
  },
  {
   "cell_type": "markdown",
   "metadata": {},
   "source": [
    "### Extracting information\n",
    "Now we have a response from the API, we need to extract the HTML for the page from it. It turns out the HTML is stored in the contents of the XML response.\n",
    "Take a look, by using xml_text() to pull out the text from the XML response:\n",
    "\n",
    "xml_text(resp_xml)\n",
    "In this exercise, you'll read this text as HTML, then extract the relevant nodes to get the infobox and page title."
   ]
  },
  {
   "cell_type": "code",
   "execution_count": 7,
   "metadata": {},
   "outputs": [
    {
     "data": {
      "text/html": [
       "'Hadley Wickham'"
      ],
      "text/latex": [
       "'Hadley Wickham'"
      ],
      "text/markdown": [
       "'Hadley Wickham'"
      ],
      "text/plain": [
       "[1] \"Hadley Wickham\""
      ]
     },
     "metadata": {},
     "output_type": "display_data"
    }
   ],
   "source": [
    "# Load rvest\n",
    "library(rvest)\n",
    "\n",
    "# Read page contents as HTML\n",
    "page_html <- read_html(xml_text(resp_xml))\n",
    "\n",
    "# Extract infobox element\n",
    "infobox_element <- html_node(page_html, css = \".infobox\")\n",
    "\n",
    "# Extract page name element from infobox\n",
    "page_name <- html_node(infobox_element, css= \".fn\")\n",
    "\n",
    "# Extract page name as text\n",
    "page_title <- html_text(page_name)\n",
    "page_title"
   ]
  },
  {
   "cell_type": "markdown",
   "metadata": {},
   "source": [
    "### Normalising information\n",
    "Now it's time to put together the information in a nice format. You've already seen you can use html_table() to parse the infobox into a data frame. But one piece of important information is missing from that table: who the information is about!\n",
    "\n",
    "In this exercise, you'll parse the infobox in a data frame, and add a row for the full name of the subject."
   ]
  },
  {
   "cell_type": "code",
   "execution_count": 9,
   "metadata": {},
   "outputs": [
    {
     "data": {
      "text/html": [
       "<table>\n",
       "<thead><tr><th scope=col>key</th><th scope=col>value</th></tr></thead>\n",
       "<tbody>\n",
       "\t<tr><td>Full name                                                                        </td><td>Hadley Wickham                                                                   </td></tr>\n",
       "\t<tr><td>Born                                                                             </td><td>(1979-10-14) 14 October 1979 (age 41)Hamilton, New Zealand                       </td></tr>\n",
       "\t<tr><td>Alma mater                                                                       </td><td>Iowa State University, University of Auckland                                    </td></tr>\n",
       "\t<tr><td>Known for                                                                        </td><td>R packages                                                                       </td></tr>\n",
       "\t<tr><td>Awards                                                                           </td><td>John Chambers Award (2006)\n",
       "Fellow of the American Statistical Association (2015)</td></tr>\n",
       "\t<tr><td>Scientific career                                                                </td><td>Scientific career                                                                </td></tr>\n",
       "\t<tr><td>Fields                                                                           </td><td>Statistics\n",
       "Data science\n",
       "R (programming language)                               </td></tr>\n",
       "\t<tr><td>Thesis                                                                           </td><td>Practical tools for exploring data and models (2008)                             </td></tr>\n",
       "\t<tr><td>Doctoral advisors                                                                </td><td>Di Cook\n",
       "Heike Hofmann                                                           </td></tr>\n",
       "</tbody>\n",
       "</table>\n"
      ],
      "text/latex": [
       "\\begin{tabular}{r|ll}\n",
       " key & value\\\\\n",
       "\\hline\n",
       "\t Full name                                                                         & Hadley Wickham                                                                   \\\\\n",
       "\t Born                                                                              & (1979-10-14) 14 October 1979 (age 41)Hamilton, New Zealand                       \\\\\n",
       "\t Alma mater                                                                        & Iowa State University, University of Auckland                                    \\\\\n",
       "\t Known for                                                                         & R packages                                                                       \\\\\n",
       "\t Awards                                                                            & John Chambers Award (2006)\n",
       "Fellow of the American Statistical Association (2015)\\\\\n",
       "\t Scientific career                                                                 & Scientific career                                                                \\\\\n",
       "\t Fields                                                                            & Statistics\n",
       "Data science\n",
       "R (programming language)                               \\\\\n",
       "\t Thesis                                                                            & Practical tools for exploring data and models (2008)                             \\\\\n",
       "\t Doctoral advisors                                                                 & Di Cook\n",
       "Heike Hofmann                                                           \\\\\n",
       "\\end{tabular}\n"
      ],
      "text/markdown": [
       "\n",
       "| key | value |\n",
       "|---|---|\n",
       "| Full name                                                                         | Hadley Wickham                                                                    |\n",
       "| Born                                                                              | (1979-10-14) 14 October 1979 (age 41)Hamilton, New Zealand                        |\n",
       "| Alma mater                                                                        | Iowa State University, University of Auckland                                     |\n",
       "| Known for                                                                         | R packages                                                                        |\n",
       "| Awards                                                                            | John Chambers Award (2006)\n",
       "Fellow of the American Statistical Association (2015) |\n",
       "| Scientific career                                                                 | Scientific career                                                                 |\n",
       "| Fields                                                                            | Statistics\n",
       "Data science\n",
       "R (programming language)                                |\n",
       "| Thesis                                                                            | Practical tools for exploring data and models (2008)                              |\n",
       "| Doctoral advisors                                                                 | Di Cook\n",
       "Heike Hofmann                                                            |\n",
       "\n"
      ],
      "text/plain": [
       "  key              \n",
       "1 Full name        \n",
       "2 Born             \n",
       "3 Alma mater       \n",
       "4 Known for        \n",
       "5 Awards           \n",
       "6 Scientific career\n",
       "7 Fields           \n",
       "8 Thesis           \n",
       "9 Doctoral advisors\n",
       "  value                                                                            \n",
       "1 Hadley Wickham                                                                   \n",
       "2 (1979-10-14) 14 October 1979 (age 41)Hamilton, New Zealand                       \n",
       "3 Iowa State University, University of Auckland                                    \n",
       "4 R packages                                                                       \n",
       "5 John Chambers Award (2006)\\nFellow of the American Statistical Association (2015)\n",
       "6 Scientific career                                                                \n",
       "7 Statistics\\nData science\\nR (programming language)                               \n",
       "8 Practical tools for exploring data and models (2008)                             \n",
       "9 Di Cook\\nHeike Hofmann                                                           "
      ]
     },
     "metadata": {},
     "output_type": "display_data"
    }
   ],
   "source": [
    "# Your code from earlier exercises\n",
    "wiki_table <- html_table(infobox_element)\n",
    "colnames(wiki_table) <- c(\"key\", \"value\")\n",
    "cleaned_table <- subset(wiki_table, !key == \"\")\n",
    "\n",
    "# Create a dataframe for full name\n",
    "name_df <- data.frame(key = \"Full name\", value = page_title)\n",
    "\n",
    "# Combine name_df with cleaned_table\n",
    "wiki_table2 <- rbind(name_df, cleaned_table)\n",
    "\n",
    "# Print wiki_table\n",
    "wiki_table2"
   ]
  },
  {
   "cell_type": "markdown",
   "metadata": {},
   "source": [
    "### Reproducibility\n",
    "Now you've figured out the process for requesting and parsing the infobox for the Hadley Wickham page, it's time to turn it into a function that does the same thing for anyone.\n",
    "\n",
    "You've already done all the hard work! In the sample script we've just copied all your code from the previous three exercises, with only one change: we've wrapped it in the function definition syntax, and chosen the name get_infobox() for this function.\n",
    "\n",
    "It doesn't quite work yet, the argument title isn't used inside the function. In this exercise you'll fix that, then test it out with some other personalities."
   ]
  },
  {
   "cell_type": "code",
   "execution_count": 16,
   "metadata": {},
   "outputs": [
    {
     "data": {
      "text/html": [
       "<table>\n",
       "<thead><tr><th scope=col>key</th><th scope=col>value</th></tr></thead>\n",
       "<tbody>\n",
       "\t<tr><td>Full name                                                                        </td><td>Hadley Wickham                                                                   </td></tr>\n",
       "\t<tr><td>Born                                                                             </td><td>(1979-10-14) 14 October 1979 (age 41)Hamilton, New Zealand                       </td></tr>\n",
       "\t<tr><td>Alma mater                                                                       </td><td>Iowa State University, University of Auckland                                    </td></tr>\n",
       "\t<tr><td>Known for                                                                        </td><td>R packages                                                                       </td></tr>\n",
       "\t<tr><td>Awards                                                                           </td><td>John Chambers Award (2006)\n",
       "Fellow of the American Statistical Association (2015)</td></tr>\n",
       "\t<tr><td>Scientific career                                                                </td><td>Scientific career                                                                </td></tr>\n",
       "\t<tr><td>Fields                                                                           </td><td>Statistics\n",
       "Data science\n",
       "R (programming language)                               </td></tr>\n",
       "\t<tr><td>Thesis                                                                           </td><td>Practical tools for exploring data and models (2008)                             </td></tr>\n",
       "\t<tr><td>Doctoral advisors                                                                </td><td>Di Cook\n",
       "Heike Hofmann                                                           </td></tr>\n",
       "</tbody>\n",
       "</table>\n"
      ],
      "text/latex": [
       "\\begin{tabular}{r|ll}\n",
       " key & value\\\\\n",
       "\\hline\n",
       "\t Full name                                                                         & Hadley Wickham                                                                   \\\\\n",
       "\t Born                                                                              & (1979-10-14) 14 October 1979 (age 41)Hamilton, New Zealand                       \\\\\n",
       "\t Alma mater                                                                        & Iowa State University, University of Auckland                                    \\\\\n",
       "\t Known for                                                                         & R packages                                                                       \\\\\n",
       "\t Awards                                                                            & John Chambers Award (2006)\n",
       "Fellow of the American Statistical Association (2015)\\\\\n",
       "\t Scientific career                                                                 & Scientific career                                                                \\\\\n",
       "\t Fields                                                                            & Statistics\n",
       "Data science\n",
       "R (programming language)                               \\\\\n",
       "\t Thesis                                                                            & Practical tools for exploring data and models (2008)                             \\\\\n",
       "\t Doctoral advisors                                                                 & Di Cook\n",
       "Heike Hofmann                                                           \\\\\n",
       "\\end{tabular}\n"
      ],
      "text/markdown": [
       "\n",
       "| key | value |\n",
       "|---|---|\n",
       "| Full name                                                                         | Hadley Wickham                                                                    |\n",
       "| Born                                                                              | (1979-10-14) 14 October 1979 (age 41)Hamilton, New Zealand                        |\n",
       "| Alma mater                                                                        | Iowa State University, University of Auckland                                     |\n",
       "| Known for                                                                         | R packages                                                                        |\n",
       "| Awards                                                                            | John Chambers Award (2006)\n",
       "Fellow of the American Statistical Association (2015) |\n",
       "| Scientific career                                                                 | Scientific career                                                                 |\n",
       "| Fields                                                                            | Statistics\n",
       "Data science\n",
       "R (programming language)                                |\n",
       "| Thesis                                                                            | Practical tools for exploring data and models (2008)                              |\n",
       "| Doctoral advisors                                                                 | Di Cook\n",
       "Heike Hofmann                                                            |\n",
       "\n"
      ],
      "text/plain": [
       "  key              \n",
       "1 Full name        \n",
       "2 Born             \n",
       "3 Alma mater       \n",
       "4 Known for        \n",
       "5 Awards           \n",
       "6 Scientific career\n",
       "7 Fields           \n",
       "8 Thesis           \n",
       "9 Doctoral advisors\n",
       "  value                                                                            \n",
       "1 Hadley Wickham                                                                   \n",
       "2 (1979-10-14) 14 October 1979 (age 41)Hamilton, New Zealand                       \n",
       "3 Iowa State University, University of Auckland                                    \n",
       "4 R packages                                                                       \n",
       "5 John Chambers Award (2006)\\nFellow of the American Statistical Association (2015)\n",
       "6 Scientific career                                                                \n",
       "7 Statistics\\nData science\\nR (programming language)                               \n",
       "8 Practical tools for exploring data and models (2008)                             \n",
       "9 Di Cook\\nHeike Hofmann                                                           "
      ]
     },
     "metadata": {},
     "output_type": "display_data"
    },
    {
     "data": {
      "text/html": [
       "<table>\n",
       "<thead><tr><th scope=col>key</th><th scope=col>value</th></tr></thead>\n",
       "<tbody>\n",
       "\t<tr><td>Full name                                               </td><td>Ross Ihaka                                              </td></tr>\n",
       "\t<tr><td>Ihaka at the 2010 New Zealand Open Source Awards        </td><td>Ihaka at the 2010 New Zealand Open Source Awards        </td></tr>\n",
       "\t<tr><td>Born                                                    </td><td>1954 (age 66–67)Waiuku, New Zealand                     </td></tr>\n",
       "\t<tr><td>Alma mater                                              </td><td>University of AucklandUniversity of California, Berkeley</td></tr>\n",
       "\t<tr><td>Known for                                               </td><td>R programming language                                  </td></tr>\n",
       "\t<tr><td>Awards                                                  </td><td>Pickering Medal (2008)                                  </td></tr>\n",
       "\t<tr><td>Scientific career                                       </td><td>Scientific career                                       </td></tr>\n",
       "\t<tr><td>Fields                                                  </td><td>Statistical computing                                   </td></tr>\n",
       "\t<tr><td>Institutions                                            </td><td>University of Auckland                                  </td></tr>\n",
       "\t<tr><td>Thesis                                                  </td><td>Ruaumoko (1985)                                         </td></tr>\n",
       "</tbody>\n",
       "</table>\n"
      ],
      "text/latex": [
       "\\begin{tabular}{r|ll}\n",
       " key & value\\\\\n",
       "\\hline\n",
       "\t Full name                                                & Ross Ihaka                                              \\\\\n",
       "\t Ihaka at the 2010 New Zealand Open Source Awards         & Ihaka at the 2010 New Zealand Open Source Awards        \\\\\n",
       "\t Born                                                     & 1954 (age 66–67)Waiuku, New Zealand                     \\\\\n",
       "\t Alma mater                                               & University of AucklandUniversity of California, Berkeley\\\\\n",
       "\t Known for                                                & R programming language                                  \\\\\n",
       "\t Awards                                                   & Pickering Medal (2008)                                  \\\\\n",
       "\t Scientific career                                        & Scientific career                                       \\\\\n",
       "\t Fields                                                   & Statistical computing                                   \\\\\n",
       "\t Institutions                                             & University of Auckland                                  \\\\\n",
       "\t Thesis                                                   & Ruaumoko (1985)                                         \\\\\n",
       "\\end{tabular}\n"
      ],
      "text/markdown": [
       "\n",
       "| key | value |\n",
       "|---|---|\n",
       "| Full name                                                | Ross Ihaka                                               |\n",
       "| Ihaka at the 2010 New Zealand Open Source Awards         | Ihaka at the 2010 New Zealand Open Source Awards         |\n",
       "| Born                                                     | 1954 (age 66–67)Waiuku, New Zealand                      |\n",
       "| Alma mater                                               | University of AucklandUniversity of California, Berkeley |\n",
       "| Known for                                                | R programming language                                   |\n",
       "| Awards                                                   | Pickering Medal (2008)                                   |\n",
       "| Scientific career                                        | Scientific career                                        |\n",
       "| Fields                                                   | Statistical computing                                    |\n",
       "| Institutions                                             | University of Auckland                                   |\n",
       "| Thesis                                                   | Ruaumoko (1985)                                          |\n",
       "\n"
      ],
      "text/plain": [
       "   key                                             \n",
       "1  Full name                                       \n",
       "2  Ihaka at the 2010 New Zealand Open Source Awards\n",
       "3  Born                                            \n",
       "4  Alma mater                                      \n",
       "5  Known for                                       \n",
       "6  Awards                                          \n",
       "7  Scientific career                               \n",
       "8  Fields                                          \n",
       "9  Institutions                                    \n",
       "10 Thesis                                          \n",
       "   value                                                   \n",
       "1  Ross Ihaka                                              \n",
       "2  Ihaka at the 2010 New Zealand Open Source Awards        \n",
       "3  1954 (age 66–67)Waiuku, New Zealand                     \n",
       "4  University of AucklandUniversity of California, Berkeley\n",
       "5  R programming language                                  \n",
       "6  Pickering Medal (2008)                                  \n",
       "7  Scientific career                                       \n",
       "8  Statistical computing                                   \n",
       "9  University of Auckland                                  \n",
       "10 Ruaumoko (1985)                                         "
      ]
     },
     "metadata": {},
     "output_type": "display_data"
    },
    {
     "data": {
      "text/html": [
       "<table>\n",
       "<thead><tr><th></th><th scope=col>key</th><th scope=col>value</th></tr></thead>\n",
       "<tbody>\n",
       "\t<tr><th scope=row>1</th><td>Full name                                                                                                                                                                                                                                                                            </td><td>Grace Murray Hopper                                                                                                                                                                                                                                                                  </td></tr>\n",
       "\t<tr><th scope=row>13</th><td>Photograph from 1984                                                                                                                                                                                                                                                                 </td><td>Photograph from 1984                                                                                                                                                                                                                                                                 </td></tr>\n",
       "\t<tr><th scope=row>2</th><td>Born                                                                                                                                                                                                                                                                                 </td><td>Grace Brewster Murray(1906-12-09)December 9, 1906New York City, U.S.                                                                                                                                                                                                                 </td></tr>\n",
       "\t<tr><th scope=row>3</th><td>Died                                                                                                                                                                                                                                                                                 </td><td>January 1, 1992(1992-01-01) (aged 85)Arlington, Virginia, U.S.                                                                                                                                                                                                                       </td></tr>\n",
       "\t<tr><th scope=row>4</th><td>Alma mater                                                                                                                                                                                                                                                                           </td><td>Vassar College (BA)Yale University (MS, Ph.D.)                                                                                                                                                                                                                                       </td></tr>\n",
       "\t<tr><th scope=row>6</th><td>Military career                                                                                                                                                                                                                                                                      </td><td>Military career                                                                                                                                                                                                                                                                      </td></tr>\n",
       "\t<tr><th scope=row>7</th><td>Place of burial                                                                                                                                                                                                                                                                      </td><td>Arlington National Cemetery                                                                                                                                                                                                                                                          </td></tr>\n",
       "\t<tr><th scope=row>8</th><td>Allegiance                                                                                                                                                                                                                                                                           </td><td>United States of America                                                                                                                                                                                                                                                             </td></tr>\n",
       "\t<tr><th scope=row>9</th><td>Service/branch                                                                                                                                                                                                                                                                       </td><td>United States Navy                                                                                                                                                                                                                                                                   </td></tr>\n",
       "\t<tr><th scope=row>10</th><td>Years of service                                                                                                                                                                                                                                                                     </td><td>1943–1966, 1967–1971, 1972–1986                                                                                                                                                                                                                                                      </td></tr>\n",
       "\t<tr><th scope=row>11</th><td>Rank                                                                                                                                                                                                                                                                                 </td><td>Rear admiral (lower half)                                                                                                                                                                                                                                                            </td></tr>\n",
       "\t<tr><th scope=row>12</th><td>Awards                                                                                                                                                                                                                                                                               </td><td>Defense Distinguished Service Medal Legion of Merit Meritorious Service Medal American Campaign Medal World War II Victory Medal National Defense Service Medal Armed Forces Reserve Medal with two Hourglass Devices Naval Reserve Medal  Presidential Medal of Freedom (posthumous)</td></tr>\n",
       "</tbody>\n",
       "</table>\n"
      ],
      "text/latex": [
       "\\begin{tabular}{r|ll}\n",
       "  & key & value\\\\\n",
       "\\hline\n",
       "\t1 & Full name                                                                                                                                                                                                                                                                             & Grace Murray Hopper                                                                                                                                                                                                                                                                  \\\\\n",
       "\t13 & Photograph from 1984                                                                                                                                                                                                                                                                  & Photograph from 1984                                                                                                                                                                                                                                                                 \\\\\n",
       "\t2 & Born                                                                                                                                                                                                                                                                                  & Grace Brewster Murray(1906-12-09)December 9, 1906New York City, U.S.                                                                                                                                                                                                                 \\\\\n",
       "\t3 & Died                                                                                                                                                                                                                                                                                  & January 1, 1992(1992-01-01) (aged 85)Arlington, Virginia, U.S.                                                                                                                                                                                                                       \\\\\n",
       "\t4 & Alma mater                                                                                                                                                                                                                                                                            & Vassar College (BA)Yale University (MS, Ph.D.)                                                                                                                                                                                                                                       \\\\\n",
       "\t6 & Military career                                                                                                                                                                                                                                                                       & Military career                                                                                                                                                                                                                                                                      \\\\\n",
       "\t7 & Place of burial                                                                                                                                                                                                                                                                       & Arlington National Cemetery                                                                                                                                                                                                                                                          \\\\\n",
       "\t8 & Allegiance                                                                                                                                                                                                                                                                            & United States of America                                                                                                                                                                                                                                                             \\\\\n",
       "\t9 & Service/branch                                                                                                                                                                                                                                                                        & United States Navy                                                                                                                                                                                                                                                                   \\\\\n",
       "\t10 & Years of service                                                                                                                                                                                                                                                                      & 1943–1966, 1967–1971, 1972–1986                                                                                                                                                                                                                                                      \\\\\n",
       "\t11 & Rank                                                                                                                                                                                                                                                                                  & Rear admiral (lower half)                                                                                                                                                                                                                                                            \\\\\n",
       "\t12 & Awards                                                                                                                                                                                                                                                                                & Defense Distinguished Service Medal Legion of Merit Meritorious Service Medal American Campaign Medal World War II Victory Medal National Defense Service Medal Armed Forces Reserve Medal with two Hourglass Devices Naval Reserve Medal  Presidential Medal of Freedom (posthumous)\\\\\n",
       "\\end{tabular}\n"
      ],
      "text/markdown": [
       "\n",
       "| <!--/--> | key | value |\n",
       "|---|---|---|\n",
       "| 1 | Full name                                                                                                                                                                                                                                                                             | Grace Murray Hopper                                                                                                                                                                                                                                                                   |\n",
       "| 13 | Photograph from 1984                                                                                                                                                                                                                                                                  | Photograph from 1984                                                                                                                                                                                                                                                                  |\n",
       "| 2 | Born                                                                                                                                                                                                                                                                                  | Grace Brewster Murray(1906-12-09)December 9, 1906New York City, U.S.                                                                                                                                                                                                                  |\n",
       "| 3 | Died                                                                                                                                                                                                                                                                                  | January 1, 1992(1992-01-01) (aged 85)Arlington, Virginia, U.S.                                                                                                                                                                                                                        |\n",
       "| 4 | Alma mater                                                                                                                                                                                                                                                                            | Vassar College (BA)Yale University (MS, Ph.D.)                                                                                                                                                                                                                                        |\n",
       "| 6 | Military career                                                                                                                                                                                                                                                                       | Military career                                                                                                                                                                                                                                                                       |\n",
       "| 7 | Place of burial                                                                                                                                                                                                                                                                       | Arlington National Cemetery                                                                                                                                                                                                                                                           |\n",
       "| 8 | Allegiance                                                                                                                                                                                                                                                                            | United States of America                                                                                                                                                                                                                                                              |\n",
       "| 9 | Service/branch                                                                                                                                                                                                                                                                        | United States Navy                                                                                                                                                                                                                                                                    |\n",
       "| 10 | Years of service                                                                                                                                                                                                                                                                      | 1943–1966, 1967–1971, 1972–1986                                                                                                                                                                                                                                                       |\n",
       "| 11 | Rank                                                                                                                                                                                                                                                                                  | Rear admiral (lower half)                                                                                                                                                                                                                                                             |\n",
       "| 12 | Awards                                                                                                                                                                                                                                                                                | Defense Distinguished Service Medal Legion of Merit Meritorious Service Medal American Campaign Medal World War II Victory Medal National Defense Service Medal Armed Forces Reserve Medal with two Hourglass Devices Naval Reserve Medal  Presidential Medal of Freedom (posthumous) |\n",
       "\n"
      ],
      "text/plain": [
       "   key                 \n",
       "1  Full name           \n",
       "13 Photograph from 1984\n",
       "2  Born                \n",
       "3  Died                \n",
       "4  Alma mater          \n",
       "6  Military career     \n",
       "7  Place of burial     \n",
       "8  Allegiance          \n",
       "9  Service/branch      \n",
       "10 Years of service    \n",
       "11 Rank                \n",
       "12 Awards              \n",
       "   value                                                                                                                                                                                                                                                                                \n",
       "1  Grace Murray Hopper                                                                                                                                                                                                                                                                  \n",
       "13 Photograph from 1984                                                                                                                                                                                                                                                                 \n",
       "2  Grace Brewster Murray(1906-12-09)December 9, 1906New York City, U.S.                                                                                                                                                                                                                 \n",
       "3  January 1, 1992(1992-01-01) (aged 85)Arlington, Virginia, U.S.                                                                                                                                                                                                                       \n",
       "4  Vassar College (BA)Yale University (MS, Ph.D.)                                                                                                                                                                                                                                       \n",
       "6  Military career                                                                                                                                                                                                                                                                      \n",
       "7  Arlington National Cemetery                                                                                                                                                                                                                                                          \n",
       "8  United States of America                                                                                                                                                                                                                                                             \n",
       "9  United States Navy                                                                                                                                                                                                                                                                   \n",
       "10 1943–1966, 1967–1971, 1972–1986                                                                                                                                                                                                                                                      \n",
       "11 Rear admiral (lower half)                                                                                                                                                                                                                                                            \n",
       "12 Defense Distinguished Service Medal Legion of Merit Meritorious Service Medal American Campaign Medal World War II Victory Medal National Defense Service Medal Armed Forces Reserve Medal with two Hourglass Devices Naval Reserve Medal  Presidential Medal of Freedom (posthumous)"
      ]
     },
     "metadata": {},
     "output_type": "display_data"
    },
    {
     "data": {
      "text/html": [
       "<table>\n",
       "<thead><tr><th></th><th scope=col>key</th><th scope=col>value</th></tr></thead>\n",
       "<tbody>\n",
       "\t<tr><th scope=row>1</th><td>Full name                                                                                                                                                                   </td><td>Donald Trump                                                                                                                                                                </td></tr>\n",
       "\t<tr><th scope=row>3</th><td>45th President of the United States                                                                                                                                         </td><td>45th President of the United States                                                                                                                                         </td></tr>\n",
       "\t<tr><th scope=row>4</th><td>Incumbent                                                                                                                                                                   </td><td>Incumbent                                                                                                                                                                   </td></tr>\n",
       "\t<tr><th scope=row>5</th><td>Assumed office January 20, 2017                                                                                                                                             </td><td>Assumed office January 20, 2017                                                                                                                                             </td></tr>\n",
       "\t<tr><th scope=row>6</th><td>Vice President                                                                                                                                                              </td><td>Mike Pence                                                                                                                                                                  </td></tr>\n",
       "\t<tr><th scope=row>7</th><td>Preceded by                                                                                                                                                                 </td><td>Barack Obama                                                                                                                                                                </td></tr>\n",
       "\t<tr><th scope=row>9</th><td>Personal details                                                                                                                                                            </td><td>Personal details                                                                                                                                                            </td></tr>\n",
       "\t<tr><th scope=row>10</th><td>Born                                                                                                                                                                        </td><td>Donald John Trump (1946-06-14) June 14, 1946 (age 74)Queens, New York City                                                                                                  </td></tr>\n",
       "\t<tr><th scope=row>11</th><td>Political party                                                                                                                                                             </td><td>Republican (1987–1999, 2009–2011, 2012–present)                                                                                                                             </td></tr>\n",
       "\t<tr><th scope=row>12</th><td>Other politicalaffiliations                                                                                                                                                 </td><td>Reform (1999–2001)\n",
       "Democratic (2001–2009)\n",
       "Independent (2011–2012)                                                                                                         </td></tr>\n",
       "\t<tr><th scope=row>13</th><td><span style=white-space:pre-wrap>Spouse(s)                          </span>                                                                                                                                                                                         </td><td><span style=white-space:pre-wrap>Ivana Zelnícková\n",
       "   &lt;U+200B&gt; &lt;U+200B&gt;(m. 1977; div. 1992)&lt;U+200B&gt;\n",
       "Marla Maples\n",
       "   &lt;U+200B&gt; &lt;U+200B&gt;(m. 1993; div. 1999)&lt;U+200B&gt;\n",
       "Melania Knauss &lt;U+200B&gt;(m. 2005)&lt;U+200B&gt;</span></td></tr>\n",
       "\t<tr><th scope=row>14</th><td>Children                                                                                                                                                                    </td><td>Donald Jr.\n",
       "Ivanka\n",
       "Eric\n",
       "Tiffany\n",
       "Barron                                                                                                                                   </td></tr>\n",
       "\t<tr><th scope=row>15</th><td>Parents                                                                                                                                                                     </td><td>Fred Trump\n",
       "Mary Anne MacLeod                                                                                                                                               </td></tr>\n",
       "\t<tr><th scope=row>16</th><td>Relatives                                                                                                                                                                   </td><td>Family of Donald Trump                                                                                                                                                      </td></tr>\n",
       "\t<tr><th scope=row>17</th><td>Residence                                                                                                                                                                   </td><td>White House\n",
       "Mar-a-Lago                                                                                                                                                     </td></tr>\n",
       "\t<tr><th scope=row>18</th><td>Alma mater                                                                                                                                                                  </td><td>Wharton School (BS Econ.)                                                                                                                                                   </td></tr>\n",
       "\t<tr><th scope=row>19</th><td>Awards                                                                                                                                                                      </td><td>List of honors and awards                                                                                                                                                   </td></tr>\n",
       "\t<tr><th scope=row>20</th><td>Signature                                                                                                                                                                   </td><td>                                                                                                                                                                            </td></tr>\n",
       "\t<tr><th scope=row>21</th><td>Website                                                                                                                                                                     </td><td>Official website\n",
       "White House website                                                                                                                                       </td></tr>\n",
       "</tbody>\n",
       "</table>\n"
      ],
      "text/latex": [
       "\\begin{tabular}{r|ll}\n",
       "  & key & value\\\\\n",
       "\\hline\n",
       "\t1 & Full name                                                                                                                                                                    & Donald Trump                                                                                                                                                                \\\\\n",
       "\t3 & 45th President of the United States                                                                                                                                          & 45th President of the United States                                                                                                                                         \\\\\n",
       "\t4 & Incumbent                                                                                                                                                                    & Incumbent                                                                                                                                                                   \\\\\n",
       "\t5 & Assumed office January 20, 2017                                                                                                                                              & Assumed office January 20, 2017                                                                                                                                             \\\\\n",
       "\t6 & Vice President                                                                                                                                                               & Mike Pence                                                                                                                                                                  \\\\\n",
       "\t7 & Preceded by                                                                                                                                                                  & Barack Obama                                                                                                                                                                \\\\\n",
       "\t9 & Personal details                                                                                                                                                             & Personal details                                                                                                                                                            \\\\\n",
       "\t10 & Born                                                                                                                                                                         & Donald John Trump (1946-06-14) June 14, 1946 (age 74)Queens, New York City                                                                                                  \\\\\n",
       "\t11 & Political party                                                                                                                                                              & Republican (1987–1999, 2009–2011, 2012–present)                                                                                                                             \\\\\n",
       "\t12 & Other politicalaffiliations                                                                                                                                                  & Reform (1999–2001)\n",
       "Democratic (2001–2009)\n",
       "Independent (2011–2012)                                                                                                         \\\\\n",
       "\t13 & Spouse(s)                                                                                                                                                                    & Ivana Zelnícková\n",
       "   <U+200B> <U+200B>(m. 1977; div. 1992)<U+200B>\n",
       "Marla Maples\n",
       "   <U+200B> <U+200B>(m. 1993; div. 1999)<U+200B>\n",
       "Melania Knauss <U+200B>(m. 2005)<U+200B>\\\\\n",
       "\t14 & Children                                                                                                                                                                     & Donald Jr.\n",
       "Ivanka\n",
       "Eric\n",
       "Tiffany\n",
       "Barron                                                                                                                                   \\\\\n",
       "\t15 & Parents                                                                                                                                                                      & Fred Trump\n",
       "Mary Anne MacLeod                                                                                                                                               \\\\\n",
       "\t16 & Relatives                                                                                                                                                                    & Family of Donald Trump                                                                                                                                                      \\\\\n",
       "\t17 & Residence                                                                                                                                                                    & White House\n",
       "Mar-a-Lago                                                                                                                                                     \\\\\n",
       "\t18 & Alma mater                                                                                                                                                                   & Wharton School (BS Econ.)                                                                                                                                                   \\\\\n",
       "\t19 & Awards                                                                                                                                                                       & List of honors and awards                                                                                                                                                   \\\\\n",
       "\t20 & Signature                                                                                                                                                                    &                                                                                                                                                                             \\\\\n",
       "\t21 & Website                                                                                                                                                                      & Official website\n",
       "White House website                                                                                                                                       \\\\\n",
       "\\end{tabular}\n"
      ],
      "text/markdown": [
       "\n",
       "| <!--/--> | key | value |\n",
       "|---|---|---|\n",
       "| 1 | Full name                                                                                                                                                                    | Donald Trump                                                                                                                                                                 |\n",
       "| 3 | 45th President of the United States                                                                                                                                          | 45th President of the United States                                                                                                                                          |\n",
       "| 4 | Incumbent                                                                                                                                                                    | Incumbent                                                                                                                                                                    |\n",
       "| 5 | Assumed office January 20, 2017                                                                                                                                              | Assumed office January 20, 2017                                                                                                                                              |\n",
       "| 6 | Vice President                                                                                                                                                               | Mike Pence                                                                                                                                                                   |\n",
       "| 7 | Preceded by                                                                                                                                                                  | Barack Obama                                                                                                                                                                 |\n",
       "| 9 | Personal details                                                                                                                                                             | Personal details                                                                                                                                                             |\n",
       "| 10 | Born                                                                                                                                                                         | Donald John Trump (1946-06-14) June 14, 1946 (age 74)Queens, New York City                                                                                                   |\n",
       "| 11 | Political party                                                                                                                                                              | Republican (1987–1999, 2009–2011, 2012–present)                                                                                                                              |\n",
       "| 12 | Other politicalaffiliations                                                                                                                                                  | Reform (1999–2001)\n",
       "Democratic (2001–2009)\n",
       "Independent (2011–2012)                                                                                                          |\n",
       "| 13 | Spouse(s)                                                                                                                                                                    | Ivana Zelnícková\n",
       "   <U+200B> <U+200B>(m. 1977; div. 1992)<U+200B>\n",
       "Marla Maples\n",
       "   <U+200B> <U+200B>(m. 1993; div. 1999)<U+200B>\n",
       "Melania Knauss <U+200B>(m. 2005)<U+200B> |\n",
       "| 14 | Children                                                                                                                                                                     | Donald Jr.\n",
       "Ivanka\n",
       "Eric\n",
       "Tiffany\n",
       "Barron                                                                                                                                    |\n",
       "| 15 | Parents                                                                                                                                                                      | Fred Trump\n",
       "Mary Anne MacLeod                                                                                                                                                |\n",
       "| 16 | Relatives                                                                                                                                                                    | Family of Donald Trump                                                                                                                                                       |\n",
       "| 17 | Residence                                                                                                                                                                    | White House\n",
       "Mar-a-Lago                                                                                                                                                      |\n",
       "| 18 | Alma mater                                                                                                                                                                   | Wharton School (BS Econ.)                                                                                                                                                    |\n",
       "| 19 | Awards                                                                                                                                                                       | List of honors and awards                                                                                                                                                    |\n",
       "| 20 | Signature                                                                                                                                                                    |                                                                                                                                                                              |\n",
       "| 21 | Website                                                                                                                                                                      | Official website\n",
       "White House website                                                                                                                                        |\n",
       "\n"
      ],
      "text/plain": [
       "   key                                \n",
       "1  Full name                          \n",
       "3  45th President of the United States\n",
       "4  Incumbent                          \n",
       "5  Assumed office January 20, 2017    \n",
       "6  Vice President                     \n",
       "7  Preceded by                        \n",
       "9  Personal details                   \n",
       "10 Born                               \n",
       "11 Political party                    \n",
       "12 Other politicalaffiliations        \n",
       "13 Spouse(s)                          \n",
       "14 Children                           \n",
       "15 Parents                            \n",
       "16 Relatives                          \n",
       "17 Residence                          \n",
       "18 Alma mater                         \n",
       "19 Awards                             \n",
       "20 Signature                          \n",
       "21 Website                            \n",
       "   value                                                                                                                                                                       \n",
       "1  Donald Trump                                                                                                                                                                \n",
       "3  45th President of the United States                                                                                                                                         \n",
       "4  Incumbent                                                                                                                                                                   \n",
       "5  Assumed office January 20, 2017                                                                                                                                             \n",
       "6  Mike Pence                                                                                                                                                                  \n",
       "7  Barack Obama                                                                                                                                                                \n",
       "9  Personal details                                                                                                                                                            \n",
       "10 Donald John Trump (1946-06-14) June 14, 1946 (age 74)Queens, New York City                                                                                                  \n",
       "11 Republican (1987–1999, 2009–2011, 2012–present)                                                                                                                             \n",
       "12 Reform (1999–2001)\\nDemocratic (2001–2009)\\nIndependent (2011–2012)                                                                                                         \n",
       "13 Ivana Zelnícková\\n   <U+200B> <U+200B>(m. 1977; div. 1992)<U+200B>\\nMarla Maples\\n   <U+200B> <U+200B>(m. 1993; div. 1999)<U+200B>\\nMelania Knauss <U+200B>(m. 2005)<U+200B>\n",
       "14 Donald Jr.\\nIvanka\\nEric\\nTiffany\\nBarron                                                                                                                                   \n",
       "15 Fred Trump\\nMary Anne MacLeod                                                                                                                                               \n",
       "16 Family of Donald Trump                                                                                                                                                      \n",
       "17 White House\\nMar-a-Lago                                                                                                                                                     \n",
       "18 Wharton School (BS Econ.)                                                                                                                                                   \n",
       "19 List of honors and awards                                                                                                                                                   \n",
       "20                                                                                                                                                                             \n",
       "21 Official website\\nWhite House website                                                                                                                                       "
      ]
     },
     "metadata": {},
     "output_type": "display_data"
    }
   ],
   "source": [
    "library(httr)\n",
    "library(rvest)\n",
    "library(xml2)\n",
    "\n",
    "get_infobox <- function(title){\n",
    "  base_url <- \"https://en.wikipedia.org/w/api.php\"\n",
    "  \n",
    "  # Change \"Hadley Wickham\" to title\n",
    "  query_params <- list(action = \"parse\", \n",
    "    page = title, \n",
    "    format = \"xml\")\n",
    "  \n",
    "  resp <- GET(url = base_url, query = query_params)\n",
    "  resp_xml <- content(resp)\n",
    "  \n",
    "  page_html <- read_html(xml_text(resp_xml))\n",
    "  infobox_element <- html_node(x = page_html, css =\".infobox\")\n",
    "  page_name <- html_node(x = infobox_element, css = \".fn\")\n",
    "  page_title <- html_text(page_name)\n",
    "  \n",
    "  wiki_table <- html_table(infobox_element)\n",
    "  colnames(wiki_table) <- c(\"key\", \"value\")\n",
    "  cleaned_table <- subset(wiki_table, !wiki_table$key == \"\")\n",
    "  name_df <- data.frame(key = \"Full name\", value = page_title)\n",
    "  wiki_table <- rbind(name_df, cleaned_table)\n",
    "  \n",
    "  wiki_table\n",
    "}\n",
    "\n",
    "# Test get_infobox with \"Hadley Wickham\"\n",
    "get_infobox(title = \"Hadley Wickham\")\n",
    "# Try get_infobox with \"Ross Ihaka\"\n",
    "get_infobox(title = \"Ross Ihaka\")\n",
    "\n",
    "# Try get_infobox with \"Grace Hopper\"\n",
    "get_infobox(title = \"Grace Hopper\")\n",
    "\n",
    "# Try get_infobox with \"Donald Trump\"\n",
    "get_infobox(title = \"Donald Trump\")\n",
    "\n"
   ]
  },
  {
   "cell_type": "code",
   "execution_count": null,
   "metadata": {},
   "outputs": [],
   "source": []
  }
 ],
 "metadata": {
  "kernelspec": {
   "display_name": "R",
   "language": "R",
   "name": "ir"
  },
  "language_info": {
   "codemirror_mode": "r",
   "file_extension": ".r",
   "mimetype": "text/x-r-source",
   "name": "R",
   "pygments_lexer": "r",
   "version": "3.6.1"
  }
 },
 "nbformat": 4,
 "nbformat_minor": 4
}
