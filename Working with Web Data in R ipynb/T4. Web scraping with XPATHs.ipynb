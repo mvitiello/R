{
 "cells": [
  {
   "cell_type": "markdown",
   "metadata": {},
   "source": [
    "## Web scraping with XPATHs\n",
    "Now that we've covered the low-hanging fruit (\"it has an API, and a client\", \"it has an API\") it's time to talk about what to do when a website doesn't have any access mechanisms at all - when you have to rely on web scraping. This chapter will introduce you to the rvest web-scraping package, and build on your previous knowledge of XML manipulation and XPATHs."
   ]
  },
  {
   "cell_type": "markdown",
   "metadata": {},
   "source": [
    "### Reading HTML\n",
    "The first step with web scraping is actually reading the HTML in. This can be done with a function from xml2, which is imported by rvest - read_html(). This accepts a single URL, and returns a big blob of XML that we can use further on.\n",
    "\n",
    "We're going to experiment with that by grabbing Hadley Wickham's wikipedia page, with rvest, and then printing it just to see what the structure looks like."
   ]
  },
  {
   "cell_type": "code",
   "execution_count": 1,
   "metadata": {},
   "outputs": [
    {
     "name": "stderr",
     "output_type": "stream",
     "text": [
      "Warning message:\n",
      "\"package 'rvest' was built under R version 3.6.3\"Loading required package: xml2\n",
      "Warning message:\n",
      "\"package 'xml2' was built under R version 3.6.3\""
     ]
    },
    {
     "data": {
      "text/plain": [
       "{html_document}\n",
       "<html class=\"client-nojs\" lang=\"en\" dir=\"ltr\">\n",
       "[1] <head>\\n<meta http-equiv=\"Content-Type\" content=\"text/html; charset=UTF-8 ...\n",
       "[2] <body class=\"mediawiki ltr sitedir-ltr mw-hide-empty-elt ns-0 ns-subject  ..."
      ]
     },
     "metadata": {},
     "output_type": "display_data"
    }
   ],
   "source": [
    "# Load rvest\n",
    "library(rvest)\n",
    "\n",
    "# Hadley Wickham's Wikipedia page\n",
    "test_url <- \"https://en.wikipedia.org/wiki/Hadley_Wickham\"\n",
    "\n",
    "# Read the URL stored as \"test_url\" with read_html()\n",
    "test_xml <- read_html(test_url)\n",
    "\n",
    "# Print test_xml\n",
    "test_xml"
   ]
  },
  {
   "cell_type": "markdown",
   "metadata": {},
   "source": [
    "### Extracting nodes by XPATH\n",
    "Now you've got a HTML page read into R. Great! But how do you get individual, identifiable pieces of it?\n",
    "\n",
    "The answer is to use html_node(), which extracts individual chunks of HTML from a HTML document. There are a couple of ways of identifying and filtering nodes, and for now we're going to use XPATHs: unique identifiers for individual pieces of a HTML document.\n",
    "\n",
    "These can be retrieved using a browser gadget we'll talk about later - in the meanwhile the XPATH for the information box in the page you just downloaded is stored as test_node_xpath. We're going to retrieve the box from the HTML doc with html_node(), using test_node_xpath as the xpath argument."
   ]
  },
  {
   "cell_type": "code",
   "execution_count": 2,
   "metadata": {},
   "outputs": [
    {
     "name": "stdout",
     "output_type": "stream",
     "text": [
      "$node\n",
      "<pointer: 0x000000005978c370>\n",
      "\n"
     ]
    }
   ],
   "source": [
    "# regular expression\n",
    "test_node_xpath = \"//*[contains(concat( \\\" \\\", @class, \\\" \\\" ), concat( \\\" \\\", \\\"vcard\\\", \\\" \\\" ))]\"\n",
    "\n",
    "# Use html_node() to grab the node with the XPATH stored as `test_node_xpath`\n",
    "node <- html_node(x = test_xml, xpath = test_node_xpath)\n",
    "\n",
    "# Print the first element of the result\n",
    "print(node[1])"
   ]
  },
  {
   "cell_type": "markdown",
   "metadata": {},
   "source": [
    "### Extracting names\n",
    "The first thing we'll grab is a name, from the first element of the previously extracted table. We can do this with html_name(). As you may recall from when you printed it, the element has the tag '<'table>...'<'/table>' (without '), so we'd expect the name to be, well, table."
   ]
  },
  {
   "cell_type": "code",
   "execution_count": 4,
   "metadata": {},
   "outputs": [
    {
     "name": "stdout",
     "output_type": "stream",
     "text": [
      "[1] \"table\"\n"
     ]
    }
   ],
   "source": [
    "# Extract the name of table_element\n",
    "element_name <- html_name(node)\n",
    "\n",
    "# Print the name\n",
    "print(element_name)"
   ]
  },
  {
   "cell_type": "markdown",
   "metadata": {},
   "source": [
    "### Extracting values\n",
    "Just knowing the type of HTML object a node is isn't much use, though (although it can be very helpful). What we really want is to extract the actual text stored within the value.\n",
    "\n",
    "We can do that with (shocker) html_text(), another convenient rvest function that accepts a node and passes back the text inside it. For this we'll want a node within the extracted element - specifically, the one containing the page title. The xpath value for that node is stored as second_xpath_val.\n",
    "\n",
    "Using this xpath value, extract the node within table_element that we want, and then use html_text to extract the text, before printing it."
   ]
  },
  {
   "cell_type": "code",
   "execution_count": 9,
   "metadata": {},
   "outputs": [
    {
     "data": {
      "text/html": [
       "'Hadley Wickham'"
      ],
      "text/latex": [
       "'Hadley Wickham'"
      ],
      "text/markdown": [
       "'Hadley Wickham'"
      ],
      "text/plain": [
       "[1] \"Hadley Wickham\""
      ]
     },
     "metadata": {},
     "output_type": "display_data"
    }
   ],
   "source": [
    "# regular expression\n",
    "second_xpath_val = \"//*[contains(concat( \\\" \\\", @class, \\\" \\\" ), concat( \\\" \\\", \\\"fn\\\", \\\" \\\" ))]\"\n",
    "\n",
    "# Extract the element of table_element referred to by second_xpath_val and store it as page_name\n",
    "page_name <- html_node(x = node, xpath = second_xpath_val)\n",
    "\n",
    "# Extract the text from page_name\n",
    "page_title <- html_text(page_name)\n",
    "\n",
    "# Print page_title\n",
    "page_title"
   ]
  },
  {
   "cell_type": "markdown",
   "metadata": {},
   "source": [
    "### Extracting tables\n",
    "The data from Wikipedia that we've been playing around with can be extracted bit by bit and cleaned up manually, but since it's a table, we have an easier way of turning it into an R object. rvest contains the function html_table() which, as the name suggests, extracts tables. It accepts a node containing a table object, and outputs a data frame.\n",
    "\n",
    "Let's use it now: take the table we've extracted, and turn it into a data frame."
   ]
  },
  {
   "cell_type": "code",
   "execution_count": 11,
   "metadata": {},
   "outputs": [
    {
     "data": {
      "text/html": [
       "<table>\n",
       "<thead><tr><th scope=col>Hadley Wickham</th><th scope=col>Hadley Wickham</th></tr></thead>\n",
       "<tbody>\n",
       "\t<tr><td>                                                                                 </td><td>                                                                                 </td></tr>\n",
       "\t<tr><td>Born                                                                             </td><td>(1979-10-14) 14 October 1979 (age 41)Hamilton, New Zealand                       </td></tr>\n",
       "\t<tr><td>Alma mater                                                                       </td><td>Iowa State University, University of Auckland                                    </td></tr>\n",
       "\t<tr><td>Known for                                                                        </td><td>R packages                                                                       </td></tr>\n",
       "\t<tr><td>Awards                                                                           </td><td>John Chambers Award (2006)\n",
       "Fellow of the American Statistical Association (2015)</td></tr>\n",
       "\t<tr><td>Scientific career                                                                </td><td>Scientific career                                                                </td></tr>\n",
       "\t<tr><td>Fields                                                                           </td><td>Statistics\n",
       "Data science\n",
       "R (programming language)                               </td></tr>\n",
       "\t<tr><td>Thesis                                                                           </td><td>Practical tools for exploring data and models (2008)                             </td></tr>\n",
       "\t<tr><td>Doctoral advisors                                                                </td><td>Di Cook\n",
       "Heike Hofmann                                                           </td></tr>\n",
       "\t<tr><td>                                                                                 </td><td>                                                                                 </td></tr>\n",
       "</tbody>\n",
       "</table>\n"
      ],
      "text/latex": [
       "\\begin{tabular}{r|ll}\n",
       " Hadley Wickham & Hadley Wickham\\\\\n",
       "\\hline\n",
       "\t                                                                                   &                                                                                  \\\\\n",
       "\t Born                                                                              & (1979-10-14) 14 October 1979 (age 41)Hamilton, New Zealand                       \\\\\n",
       "\t Alma mater                                                                        & Iowa State University, University of Auckland                                    \\\\\n",
       "\t Known for                                                                         & R packages                                                                       \\\\\n",
       "\t Awards                                                                            & John Chambers Award (2006)\n",
       "Fellow of the American Statistical Association (2015)\\\\\n",
       "\t Scientific career                                                                 & Scientific career                                                                \\\\\n",
       "\t Fields                                                                            & Statistics\n",
       "Data science\n",
       "R (programming language)                               \\\\\n",
       "\t Thesis                                                                            & Practical tools for exploring data and models (2008)                             \\\\\n",
       "\t Doctoral advisors                                                                 & Di Cook\n",
       "Heike Hofmann                                                           \\\\\n",
       "\t                                                                                   &                                                                                  \\\\\n",
       "\\end{tabular}\n"
      ],
      "text/markdown": [
       "\n",
       "| Hadley Wickham | Hadley Wickham |\n",
       "|---|---|\n",
       "|                                                                                   |                                                                                   |\n",
       "| Born                                                                              | (1979-10-14) 14 October 1979 (age 41)Hamilton, New Zealand                        |\n",
       "| Alma mater                                                                        | Iowa State University, University of Auckland                                     |\n",
       "| Known for                                                                         | R packages                                                                        |\n",
       "| Awards                                                                            | John Chambers Award (2006)\n",
       "Fellow of the American Statistical Association (2015) |\n",
       "| Scientific career                                                                 | Scientific career                                                                 |\n",
       "| Fields                                                                            | Statistics\n",
       "Data science\n",
       "R (programming language)                                |\n",
       "| Thesis                                                                            | Practical tools for exploring data and models (2008)                              |\n",
       "| Doctoral advisors                                                                 | Di Cook\n",
       "Heike Hofmann                                                            |\n",
       "|                                                                                   |                                                                                   |\n",
       "\n"
      ],
      "text/plain": [
       "   Hadley Wickham   \n",
       "1                   \n",
       "2  Born             \n",
       "3  Alma mater       \n",
       "4  Known for        \n",
       "5  Awards           \n",
       "6  Scientific career\n",
       "7  Fields           \n",
       "8  Thesis           \n",
       "9  Doctoral advisors\n",
       "10                  \n",
       "   Hadley Wickham                                                                   \n",
       "1                                                                                   \n",
       "2  (1979-10-14) 14 October 1979 (age 41)Hamilton, New Zealand                       \n",
       "3  Iowa State University, University of Auckland                                    \n",
       "4  R packages                                                                       \n",
       "5  John Chambers Award (2006)\\nFellow of the American Statistical Association (2015)\n",
       "6  Scientific career                                                                \n",
       "7  Statistics\\nData science\\nR (programming language)                               \n",
       "8  Practical tools for exploring data and models (2008)                             \n",
       "9  Di Cook\\nHeike Hofmann                                                           \n",
       "10                                                                                  "
      ]
     },
     "metadata": {},
     "output_type": "display_data"
    }
   ],
   "source": [
    "# Turn table_element into a data frame and assign it to wiki_table\n",
    "wiki_table <- html_table(node)\n",
    "\n",
    "# Print wiki_table\n",
    "wiki_table"
   ]
  },
  {
   "cell_type": "markdown",
   "metadata": {},
   "source": [
    "### Cleaning a data frame\n",
    "In the last exercise, we looked at extracting tables with html_table(). The resulting data frame was pretty clean, but had two problems - first, the column names weren't descriptive, and second, there was an empty row.\n",
    "\n",
    "In this exercise we're going to look at fixing both of those problems. First, column names. Column names can be cleaned up with the colnames() function. You call it on the object you want to rename, and then assign to that call a vector of new names.\n",
    "\n",
    "The missing row, meanwhile, can be removed with the subset() function. subset takes an object, and a condition. For example, if you have a data frame df containing a column x, you could run\n",
    "\n",
    "subset(df, !x == \"\")\n",
    "\n",
    "to remove all rows from df consisting of empty strings (\"\") in the column x."
   ]
  },
  {
   "cell_type": "code",
   "execution_count": 13,
   "metadata": {},
   "outputs": [
    {
     "data": {
      "text/html": [
       "<table>\n",
       "<thead><tr><th></th><th scope=col>key</th><th scope=col>value</th></tr></thead>\n",
       "<tbody>\n",
       "\t<tr><th scope=row>2</th><td>Born                                                                             </td><td>(1979-10-14) 14 October 1979 (age 41)Hamilton, New Zealand                       </td></tr>\n",
       "\t<tr><th scope=row>3</th><td>Alma mater                                                                       </td><td>Iowa State University, University of Auckland                                    </td></tr>\n",
       "\t<tr><th scope=row>4</th><td>Known for                                                                        </td><td>R packages                                                                       </td></tr>\n",
       "\t<tr><th scope=row>5</th><td>Awards                                                                           </td><td>John Chambers Award (2006)\n",
       "Fellow of the American Statistical Association (2015)</td></tr>\n",
       "\t<tr><th scope=row>6</th><td>Scientific career                                                                </td><td>Scientific career                                                                </td></tr>\n",
       "\t<tr><th scope=row>7</th><td>Fields                                                                           </td><td>Statistics\n",
       "Data science\n",
       "R (programming language)                               </td></tr>\n",
       "\t<tr><th scope=row>8</th><td>Thesis                                                                           </td><td>Practical tools for exploring data and models (2008)                             </td></tr>\n",
       "\t<tr><th scope=row>9</th><td>Doctoral advisors                                                                </td><td>Di Cook\n",
       "Heike Hofmann                                                           </td></tr>\n",
       "</tbody>\n",
       "</table>\n"
      ],
      "text/latex": [
       "\\begin{tabular}{r|ll}\n",
       "  & key & value\\\\\n",
       "\\hline\n",
       "\t2 & Born                                                                              & (1979-10-14) 14 October 1979 (age 41)Hamilton, New Zealand                       \\\\\n",
       "\t3 & Alma mater                                                                        & Iowa State University, University of Auckland                                    \\\\\n",
       "\t4 & Known for                                                                         & R packages                                                                       \\\\\n",
       "\t5 & Awards                                                                            & John Chambers Award (2006)\n",
       "Fellow of the American Statistical Association (2015)\\\\\n",
       "\t6 & Scientific career                                                                 & Scientific career                                                                \\\\\n",
       "\t7 & Fields                                                                            & Statistics\n",
       "Data science\n",
       "R (programming language)                               \\\\\n",
       "\t8 & Thesis                                                                            & Practical tools for exploring data and models (2008)                             \\\\\n",
       "\t9 & Doctoral advisors                                                                 & Di Cook\n",
       "Heike Hofmann                                                           \\\\\n",
       "\\end{tabular}\n"
      ],
      "text/markdown": [
       "\n",
       "| <!--/--> | key | value |\n",
       "|---|---|---|\n",
       "| 2 | Born                                                                              | (1979-10-14) 14 October 1979 (age 41)Hamilton, New Zealand                        |\n",
       "| 3 | Alma mater                                                                        | Iowa State University, University of Auckland                                     |\n",
       "| 4 | Known for                                                                         | R packages                                                                        |\n",
       "| 5 | Awards                                                                            | John Chambers Award (2006)\n",
       "Fellow of the American Statistical Association (2015) |\n",
       "| 6 | Scientific career                                                                 | Scientific career                                                                 |\n",
       "| 7 | Fields                                                                            | Statistics\n",
       "Data science\n",
       "R (programming language)                                |\n",
       "| 8 | Thesis                                                                            | Practical tools for exploring data and models (2008)                              |\n",
       "| 9 | Doctoral advisors                                                                 | Di Cook\n",
       "Heike Hofmann                                                            |\n",
       "\n"
      ],
      "text/plain": [
       "  key              \n",
       "2 Born             \n",
       "3 Alma mater       \n",
       "4 Known for        \n",
       "5 Awards           \n",
       "6 Scientific career\n",
       "7 Fields           \n",
       "8 Thesis           \n",
       "9 Doctoral advisors\n",
       "  value                                                                            \n",
       "2 (1979-10-14) 14 October 1979 (age 41)Hamilton, New Zealand                       \n",
       "3 Iowa State University, University of Auckland                                    \n",
       "4 R packages                                                                       \n",
       "5 John Chambers Award (2006)\\nFellow of the American Statistical Association (2015)\n",
       "6 Scientific career                                                                \n",
       "7 Statistics\\nData science\\nR (programming language)                               \n",
       "8 Practical tools for exploring data and models (2008)                             \n",
       "9 Di Cook\\nHeike Hofmann                                                           "
      ]
     },
     "metadata": {},
     "output_type": "display_data"
    }
   ],
   "source": [
    "# Rename the columns of wiki_table\n",
    "colnames(wiki_table) <- c(\"key\", \"value\")\n",
    "\n",
    "# Remove the empty row from wiki_table\n",
    "cleaned_table <- subset(wiki_table, !key == \"\")\n",
    "\n",
    "# Print cleaned_table\n",
    "cleaned_table"
   ]
  },
  {
   "cell_type": "code",
   "execution_count": null,
   "metadata": {},
   "outputs": [],
   "source": []
  }
 ],
 "metadata": {
  "kernelspec": {
   "display_name": "R",
   "language": "R",
   "name": "ir"
  },
  "language_info": {
   "codemirror_mode": "r",
   "file_extension": ".r",
   "mimetype": "text/x-r-source",
   "name": "R",
   "pygments_lexer": "r",
   "version": "3.6.1"
  }
 },
 "nbformat": 4,
 "nbformat_minor": 4
}
